{
 "cells": [
  {
   "cell_type": "code",
   "execution_count": 10,
   "metadata": {},
   "outputs": [],
   "source": [
    "%run runaway_functionsv3\n",
    "%matplotlib qt"
   ]
  },
  {
   "cell_type": "code",
   "execution_count": 4,
   "metadata": {},
   "outputs": [],
   "source": [
    "plt.rcParams[\"font.family\"] = \"Palatino\"\n",
    "plt.rcParams[\"font.size\"] = 30"
   ]
  },
  {
   "cell_type": "code",
   "execution_count": 11,
   "metadata": {},
   "outputs": [],
   "source": [
    "cl = Cluster('Trumpler_33')"
   ]
  },
  {
   "cell_type": "code",
   "execution_count": 7,
   "metadata": {},
   "outputs": [
    {
     "data": {
      "text/plain": [
       "<WCSAxesSubplot: >"
      ]
     },
     "execution_count": 7,
     "metadata": {},
     "output_type": "execute_result"
    }
   ],
   "source": [
    "cl.plot_traceback_clean()"
   ]
  },
  {
   "cell_type": "code",
   "execution_count": 12,
   "metadata": {},
   "outputs": [
    {
     "data": {
      "text/plain": [
       "<AxesSubplot: xlabel='$\\\\mu^{*}_{\\\\alpha}$ mas yr$^{-1}$', ylabel='$\\\\mu_{\\\\delta}$ mas yr$^{-1}$'>"
      ]
     },
     "execution_count": 12,
     "metadata": {},
     "output_type": "execute_result"
    }
   ],
   "source": [
    "cl.plot_pm()"
   ]
  },
  {
   "cell_type": "code",
   "execution_count": 18,
   "metadata": {},
   "outputs": [
    {
     "data": {
      "text/html": [
       "<i>Row index=0</i>\n",
       "<table id=\"table134251480960336\">\n",
       "<thead><tr><th>Cluster</th><th>RA_ICRS</th><th>DE_ICRS</th><th>r50</th><th>N</th><th>pmRA</th><th>e_pmRA</th><th>pmDE</th><th>e_pmDE</th><th>Plx</th><th>e_Plx</th><th>RV</th><th>e_RV</th><th>NRV</th><th>Dist</th><th>e_Dist</th><th>logage</th><th>e_logage</th><th>__Fe_H_</th><th>e__Fe_H_</th><th>Av</th><th>e_Av</th><th>FileName</th><th>SimbadName</th><th>_RA.icrs</th><th>_DE.icrs</th></tr></thead>\n",
       "<thead><tr><th></th><th>deg</th><th>deg</th><th>deg</th><th></th><th>mas / yr</th><th>mas / yr</th><th>mas / yr</th><th>mas / yr</th><th>mas</th><th>mas</th><th>km / s</th><th>km / s</th><th></th><th>pc</th><th>pc</th><th>log(yr)</th><th>log(yr)</th><th></th><th></th><th>mag</th><th>mag</th><th></th><th></th><th>deg</th><th>deg</th></tr></thead>\n",
       "<thead><tr><th>str17</th><th>float64</th><th>float64</th><th>float32</th><th>int16</th><th>float32</th><th>float32</th><th>float32</th><th>float32</th><th>float32</th><th>float32</th><th>float64</th><th>float32</th><th>int16</th><th>int16</th><th>int16</th><th>float32</th><th>float32</th><th>float32</th><th>float32</th><th>float32</th><th>float32</th><th>str31</th><th>str31</th><th>float64</th><th>float64</th></tr></thead>\n",
       "<tr><td>BH_121</td><td>174.6628</td><td>-63.3771</td><td>0.132</td><td>100</td><td>-5.990</td><td>0.106</td><td>0.678</td><td>0.106</td><td>0.402</td><td>0.025</td><td>-3.157</td><td>9.535</td><td>8</td><td>2300</td><td>117</td><td>6.864</td><td>0.103</td><td>-0.089</td><td>0.109</td><td>1.281</td><td>0.016</td><td>clusters1/BH_121.dat</td><td>Cl VDBH 121</td><td>174.6629</td><td>-63.3771</td></tr>\n",
       "</table>"
      ],
      "text/plain": [
       "<Row index=0>\n",
       "Cluster RA_ICRS  DE_ICRS    r50     N     pmRA    e_pmRA    pmDE    e_pmDE    Plx    e_Plx     RV      e_RV   NRV   Dist e_Dist  logage e_logage __Fe_H_ e__Fe_H_    Av     e_Av        FileName        SimbadName _RA.icrs _DE.icrs\n",
       "          deg      deg      deg         mas / yr mas / yr mas / yr mas / yr   mas     mas    km / s   km / s         pc    pc   log(yr) log(yr)                     mag     mag                                      deg      deg   \n",
       " str17  float64  float64  float32 int16 float32  float32  float32  float32  float32 float32 float64  float32 int16 int16 int16  float32 float32  float32 float32  float32 float32        str31            str31    float64  float64 \n",
       "------- -------- -------- ------- ----- -------- -------- -------- -------- ------- ------- -------- ------- ----- ----- ------ ------- -------- ------- -------- ------- ------- -------------------- ----------- -------- --------\n",
       " BH_121 174.6628 -63.3771   0.132   100   -5.990    0.106    0.678    0.106   0.402   0.025   -3.157   9.535     8  2300    117   6.864    0.103  -0.089    0.109   1.281   0.016 clusters1/BH_121.dat Cl VDBH 121 174.6629 -63.3771"
      ]
     },
     "metadata": {},
     "output_type": "display_data"
    },
    {
     "data": {
      "text/html": [
       "<div><i>Table length=2</i>\n",
       "<table id=\"table134251516489232\" class=\"table-striped table-bordered table-condensed\">\n",
       "<thead><tr><th>JNAME</th><th>RAJD</th><th>DECJD</th><th>DIST</th><th>DIST_DM</th><th>AGE</th><th>PMRA</th><th>PMDEC</th><th>S400</th><th>ASSOC</th><th>AGE_I</th><th>PX</th><th>P0</th><th>P1</th><th>BSURF</th><th>SkyCoord</th><th>sep2d</th><th>sep3d</th></tr></thead>\n",
       "<thead><tr><th></th><th>deg</th><th>deg</th><th>kpc</th><th>kpc</th><th>yr</th><th>mas / yr</th><th>mas / yr</th><th>mJy</th><th></th><th>yr</th><th>mas</th><th>s</th><th></th><th>G</th><th>deg,deg,kpc</th><th>deg</th><th>kpc</th></tr></thead>\n",
       "<thead><tr><th>str12</th><th>float64</th><th>float64</th><th>float64</th><th>float64</th><th>float64</th><th>float64</th><th>float64</th><th>float64</th><th>str5</th><th>float64</th><th>float64</th><th>float64</th><th>float64</th><th>float64</th><th>SkyCoord</th><th>float64</th><th>float64</th></tr></thead>\n",
       "<tr><td>J1144-6217</td><td>176.00879166666664</td><td>-62.29175</td><td>2.644</td><td>2.644</td><td>437105.00096524967</td><td>--</td><td>--</td><td>--</td><td>--</td><td>--</td><td>--</td><td>0.8506649433737226</td><td>3.0834633974006527e-14</td><td>5182611385717.675</td><td>176.00879166666664,-62.29175,2.644</td><td>1.2471883596449782</td><td>0.34816277304309234</td></tr>\n",
       "<tr><td>J1144-6146</td><td>176.14499999999995</td><td>-61.780277777777776</td><td>1.395</td><td>1.395</td><td>--</td><td>--</td><td>--</td><td>--</td><td>--</td><td>--</td><td>--</td><td>0.987783069335335</td><td>-3.805290029055587e-17</td><td>--</td><td>176.14499999999995,-61.780277777777776,1.395</td><td>1.7364889373644232</td><td>0.9066266678087308</td></tr>\n",
       "</table></div>"
      ],
      "text/plain": [
       "<Table length=2>\n",
       "  JNAME           RAJD        ...       sep2d               sep3d       \n",
       "                  deg         ...        deg                 kpc        \n",
       "  str12         float64       ...      float64             float64      \n",
       "---------- ------------------ ... ------------------ -------------------\n",
       "J1144-6217 176.00879166666664 ... 1.2471883596449782 0.34816277304309234\n",
       "J1144-6146 176.14499999999995 ... 1.7364889373644232  0.9066266678087308"
      ]
     },
     "execution_count": 18,
     "metadata": {},
     "output_type": "execute_result"
    }
   ],
   "source": [
    "cl = Cluster('BH_121')\n",
    "display(cl.all)\n",
    "cl.psrs()"
   ]
  },
  {
   "cell_type": "code",
   "execution_count": 4,
   "metadata": {},
   "outputs": [],
   "source": [
    "%run runaway_functionsv3\n",
    "%matplotlib qt\n",
    "cl = Cluster('BH_121')\n",
    "plot_traceback_clean = cl.plot_traceback_clean()"
   ]
  },
  {
   "cell_type": "code",
   "execution_count": 5,
   "metadata": {},
   "outputs": [],
   "source": [
    "show_annotation_manager(plot_traceback_clean)\n"
   ]
  },
  {
   "cell_type": "code",
   "execution_count": 13,
   "metadata": {},
   "outputs": [],
   "source": [
    "%run runaway_functionsv3\n",
    "%matplotlib qt\n",
    "cl = Cluster('BH_121')\n",
    "\n",
    "plot_cmd = cl.plot_cmd()"
   ]
  },
  {
   "cell_type": "code",
   "execution_count": 14,
   "metadata": {},
   "outputs": [],
   "source": [
    "show_annotation_manager(plot_cmd)"
   ]
  },
  {
   "cell_type": "code",
   "execution_count": 38,
   "metadata": {},
   "outputs": [],
   "source": [
    "%run runaway_functionsv3\n",
    "%matplotlib qt\n",
    "cl = Cluster('Basel_8')\n",
    "cld = ClusterDias(\"Basel_8\")\n",
    "# plot_pm = cl.plot_pm()"
   ]
  },
  {
   "cell_type": "code",
   "execution_count": 35,
   "metadata": {},
   "outputs": [
    {
     "name": "stdout",
     "output_type": "stream",
     "text": [
      "[3326048448124872320, 3326023842254469120] found from config file\n",
      "116 out of 260 dias members found in search region\n",
      "Changed N          31.00 --> 8.00\n",
      "Changed Plx        0.62 --> 0.65\n",
      "Changed e_Plx      0.04 --> 0.03\n",
      "Changed Dist       1456.00 --> 1450.12\n",
      "Changed e_Dist     54.00 --> 49.96\n",
      "Changed pmRA       -0.13 --> -0.19\n",
      "Changed e_pmRA     0.07 --> 0.22\n",
      "Changed pmDE       -2.40 --> -2.18\n",
      "Changed e_pmDE     0.14 --> 0.22\n",
      "Changed RV         -- --> 19.25\n",
      "Changed e_RV       -- --> 3.87\n",
      "Changed NRV        -- --> 8.00\n"
     ]
    },
    {
     "data": {
      "text/html": [
       "<div><i>Table length=8</i>\n",
       "<table id=\"table126918662937616\" class=\"table-striped table-bordered table-condensed\">\n",
       "<thead><tr><th>RA_ICRS_1</th><th>DE_ICRS_1</th><th>e_RA_ICRS</th><th>e_DE_ICRS</th><th>_r_1</th><th>HIP</th><th>TYC2</th><th>Source</th><th>rgeo</th><th>Plx</th><th>e_Plx</th><th>pmRA</th><th>pmDE</th><th>e_pmRA</th><th>e_pmDE</th><th>RUWE</th><th>Teff</th><th>logg</th><th>Gmag</th><th>BP-RP</th><th>BPmag</th><th>RPmag</th><th>RV</th><th>e_RV</th><th>b_rgeo</th><th>B_rgeo</th><th>FG</th><th>e_FG</th><th>FBP</th><th>e_FBP</th><th>FRP</th><th>e_FRP</th><th>RAVE5</th><th>RAVE6</th><th>e_Gmag</th><th>e_BPmag</th><th>e_RPmag</th><th>e_BP-RP</th><th>SkyCoord</th><th>rmRA</th><th>rmDE</th><th>e_rmRA</th><th>e_rmDE</th><th>rRV</th><th>e_rRV</th><th>v_pec</th><th>v_pec3d</th><th>e_v_pec</th><th>e_v_pec3d</th><th>v_trans_upper</th><th>v_trans_lower</th><th>Pmemb</th></tr></thead>\n",
       "<thead><tr><th>deg</th><th>deg</th><th>mas</th><th>mas</th><th></th><th></th><th></th><th></th><th>pc</th><th>mas</th><th>mas</th><th>mas / yr</th><th>mas / yr</th><th>mas / yr</th><th>mas / yr</th><th></th><th>K</th><th>log(cm.s**-2)</th><th>mag</th><th>mag</th><th>mag</th><th>mag</th><th>km / s</th><th>km / s</th><th>pc</th><th>pc</th><th></th><th></th><th></th><th></th><th></th><th></th><th></th><th></th><th></th><th></th><th></th><th></th><th>deg,deg,pc</th><th>mas / yr</th><th>mas / yr</th><th>mas / yr</th><th>mas / yr</th><th>km / s</th><th>km / s</th><th>km / s</th><th>km / s</th><th>km / s</th><th>km / s</th><th>km / s</th><th>km / s</th><th></th></tr></thead>\n",
       "<thead><tr><th>float64</th><th>float64</th><th>float64</th><th>float64</th><th>float64</th><th>int32</th><th>str10</th><th>int64</th><th>float64</th><th>float64</th><th>float32</th><th>float64</th><th>float64</th><th>float32</th><th>float32</th><th>float64</th><th>float64</th><th>float64</th><th>float64</th><th>float64</th><th>float64</th><th>float64</th><th>float64</th><th>float32</th><th>float64</th><th>float64</th><th>float64</th><th>float32</th><th>float32</th><th>float32</th><th>float32</th><th>float32</th><th>str1</th><th>str1</th><th>float64</th><th>float32</th><th>float32</th><th>float32</th><th>SkyCoord</th><th>float64</th><th>float64</th><th>float32</th><th>float32</th><th>float64</th><th>float32</th><th>float64</th><th>float64</th><th>float64</th><th>float64</th><th>float64</th><th>float64</th><th>float64</th></tr></thead>\n",
       "<tr><td>98.38429327278</td><td>8.33557580226</td><td>0.0298</td><td>0.0279</td><td>20.6218</td><td>--</td><td>733-1218-1</td><td>3326048448124872320</td><td>1517.70947000</td><td>0.6283</td><td>0.0363</td><td>-0.760</td><td>-1.057</td><td>0.035</td><td>0.028</td><td>1.363</td><td>32036.6</td><td>3.9984</td><td>8.432107</td><td>0.337074</td><td>8.528219</td><td>8.191145</td><td>--</td><td>--</td><td>1442.38904000</td><td>1621.94727000</td><td>7981856.09929</td><td>1.935e+04</td><td>5.298e+06</td><td>4.473e+04</td><td>4.195e+06</td><td>3.635e+04</td><td>--</td><td>--</td><td>0.00381</td><td>0.009581</td><td>0.01014</td><td>0.01972</td><td>98.38429327278,8.33557580226,1517.70947</td><td>-0.570</td><td>1.126</td><td>0.260</td><td>0.253</td><td>--</td><td>--</td><td>9.081153222849567</td><td>--</td><td>2.36655530497063</td><td>--</td><td>9.704855882761644</td><td>8.630476476633497</td><td>1.0</td></tr>\n",
       "<tr><td>98.55031962528</td><td>7.98752507297</td><td>0.0259</td><td>0.0256</td><td>3.0701</td><td>--</td><td>733-1512-1</td><td>3326023842254469120</td><td>1409.47327000</td><td>0.6747</td><td>0.0338</td><td>-0.049</td><td>-2.251</td><td>0.033</td><td>0.026</td><td>1.305</td><td>11353.8</td><td>3.4433</td><td>9.743308</td><td>0.202579</td><td>9.800635</td><td>9.598057</td><td>19.20</td><td>6.03</td><td>1354.19275000</td><td>1463.96838000</td><td>2385742.02510</td><td>856.2</td><td>1.641e+06</td><td>1297</td><td>1.148e+06</td><td>614.7</td><td>--</td><td>--</td><td>0.002783</td><td>0.002919</td><td>0.003824</td><td>0.006743</td><td>98.55031962528,7.98752507297,1409.47327</td><td>0.141</td><td>-0.068</td><td>0.258</td><td>0.251</td><td>-0.05</td><td>15.58</td><td>1.0432140600484652</td><td>1.04</td><td>1.7545418123058067</td><td>0.79</td><td>1.0835483226172669</td><td>1.0022984804924298</td><td>1.0</td></tr>\n",
       "<tr><td>98.54082660573</td><td>8.01212878661</td><td>0.0194</td><td>0.0180</td><td>1.8691</td><td>--</td><td>733-2228-1</td><td>3326024117132373632</td><td>1445.86487000</td><td>0.6384</td><td>0.0232</td><td>-0.182</td><td>-2.405</td><td>0.024</td><td>0.021</td><td>1.032</td><td>--</td><td>--</td><td>11.888272</td><td>0.294881</td><td>11.986523</td><td>11.691642</td><td>--</td><td>--</td><td>1405.83179000</td><td>1494.29736000</td><td>330855.23367</td><td>85.93</td><td>2.192e+05</td><td>175.4</td><td>1.669e+05</td><td>94.7</td><td>--</td><td>--</td><td>0.00277</td><td>0.002922</td><td>0.003829</td><td>0.006752</td><td>98.54082660573,8.01212878661,1445.86487</td><td>0.008</td><td>-0.222</td><td>0.249</td><td>0.246</td><td>--</td><td>--</td><td>1.5214955538026569</td><td>--</td><td>1.7314633388133778</td><td>--</td><td>1.5724614633586387</td><td>1.4793684128167732</td><td>0.8</td></tr>\n",
       "<tr><td>98.47991490921</td><td>8.04956098629</td><td>0.0149</td><td>0.0133</td><td>4.7019</td><td>--</td><td>--</td><td>3326028175879616256</td><td>1452.00476000</td><td>0.6440</td><td>0.0172</td><td>-0.121</td><td>-2.316</td><td>0.019</td><td>0.016</td><td>1.081</td><td>9561.1</td><td>4.0650</td><td>13.194690</td><td>0.412356</td><td>13.343504</td><td>12.931148</td><td>--</td><td>--</td><td>1423.29114000</td><td>1486.77441000</td><td>99327.79055</td><td>60.73</td><td>6.281e+04</td><td>46.62</td><td>5.33e+04</td><td>36.04</td><td>--</td><td>--</td><td>0.002834</td><td>0.002904</td><td>0.00385</td><td>0.006754</td><td>98.47991490921,8.04956098629,1452.00476</td><td>0.069</td><td>-0.133</td><td>0.244</td><td>0.241</td><td>--</td><td>--</td><td>1.029277061512286</td><td>--</td><td>1.6845044438783172</td><td>--</td><td>1.0539240903428324</td><td>1.0089229475085684</td><td>0.8</td></tr>\n",
       "<tr><td>98.55007006085</td><td>7.86501938128</td><td>0.0137</td><td>0.0141</td><td>10.3957</td><td>--</td><td>--</td><td>3325969180208898432</td><td>1470.48962000</td><td>0.6390</td><td>0.0173</td><td>-0.089</td><td>-2.365</td><td>0.017</td><td>0.014</td><td>1.110</td><td>9412.0</td><td>4.0243</td><td>13.391542</td><td>0.548879</td><td>13.596915</td><td>13.048037</td><td>--</td><td>--</td><td>1434.64990000</td><td>1507.35620000</td><td>82857.08176</td><td>32.24</td><td>4.973e+04</td><td>34.79</td><td>4.786e+04</td><td>27.08</td><td>--</td><td>--</td><td>0.002788</td><td>0.002892</td><td>0.003829</td><td>0.006721</td><td>98.55007006085,7.86501938128,1470.48962</td><td>0.101</td><td>-0.182</td><td>0.242</td><td>0.239</td><td>--</td><td>--</td><td>1.448777766372426</td><td>--</td><td>1.7055377476205518</td><td>--</td><td>1.4851000094537408</td><td>1.4134672216512647</td><td>0.9</td></tr>\n",
       "<tr><td>98.47750157250</td><td>8.18827800746</td><td>0.0134</td><td>0.0127</td><td>10.2068</td><td>--</td><td>--</td><td>3326041335659347072</td><td>1507.59143000</td><td>0.6195</td><td>0.0153</td><td>-0.189</td><td>-2.312</td><td>0.017</td><td>0.014</td><td>0.870</td><td>9455.0</td><td>4.0699</td><td>13.434296</td><td>0.469467</td><td>13.606323</td><td>13.136856</td><td>--</td><td>--</td><td>1478.83008000</td><td>1540.77148000</td><td>79657.81580</td><td>32.15</td><td>4.93e+04</td><td>47.39</td><td>4.41e+04</td><td>27.86</td><td>--</td><td>--</td><td>0.00279</td><td>0.002979</td><td>0.003841</td><td>0.00682</td><td>98.4775015725,8.18827800746,1507.59143</td><td>0.001</td><td>-0.129</td><td>0.242</td><td>0.239</td><td>--</td><td>--</td><td>0.9209493012040895</td><td>--</td><td>1.725721328337829</td><td>--</td><td>0.9412181507433952</td><td>0.903379723228851</td><td>0.8</td></tr>\n",
       "<tr><td>98.24454758674</td><td>8.31487809120</td><td>0.0295</td><td>0.0282</td><td>24.9560</td><td>--</td><td>--</td><td>3326235124583953024</td><td>1350.09131000</td><td>0.7037</td><td>0.0356</td><td>-0.143</td><td>-2.324</td><td>0.035</td><td>0.029</td><td>1.018</td><td>6085.7</td><td>4.3650</td><td>15.458742</td><td>1.038140</td><td>15.888773</td><td>14.850633</td><td>--</td><td>--</td><td>1285.37537000</td><td>1427.07764000</td><td>12343.82570</td><td>5.489</td><td>6024</td><td>25.96</td><td>9097</td><td>17.55</td><td>--</td><td>--</td><td>0.002797</td><td>0.005447</td><td>0.004321</td><td>0.009768</td><td>98.24454758674,8.3148780912,1350.09131</td><td>0.047</td><td>-0.141</td><td>0.260</td><td>0.254</td><td>--</td><td>--</td><td>0.9496130918997572</td><td>--</td><td>1.6781467494433713</td><td>--</td><td>1.0037629307468163</td><td>0.9040938715156194</td><td>0.8</td></tr>\n",
       "<tr><td>98.40426423219</td><td>8.20239755076</td><td>0.0502</td><td>0.0501</td><td>13.4460</td><td>--</td><td>--</td><td>3326042263371980288</td><td>1447.73010000</td><td>0.6725</td><td>0.0646</td><td>0.016</td><td>-2.435</td><td>0.065</td><td>0.051</td><td>1.056</td><td>5186.4</td><td>4.6851</td><td>16.487823</td><td>1.176759</td><td>16.995525</td><td>15.818767</td><td>--</td><td>--</td><td>1313.03174000</td><td>1577.34607000</td><td>4784.29135</td><td>4.422</td><td>2174</td><td>14.95</td><td>3730</td><td>13.34</td><td>--</td><td>--</td><td>0.002932</td><td>0.007971</td><td>0.005418</td><td>0.01339</td><td>98.40426423219,8.20239755076,1447.7301</td><td>0.206</td><td>-0.252</td><td>0.290</td><td>0.276</td><td>--</td><td>--</td><td>2.231258843418906</td><td>--</td><td>2.1356104667440885</td><td>--</td><td>2.43102451749781</td><td>2.0236601294431282</td><td>0.8</td></tr>\n",
       "</table></div>"
      ],
      "text/plain": [
       "<Table length=8>\n",
       "   RA_ICRS_1       DE_ICRS_1    e_RA_ICRS ...   v_trans_lower     Pmemb \n",
       "      deg             deg          mas    ...       km / s              \n",
       "    float64         float64      float64  ...      float64       float64\n",
       "--------------- --------------- --------- ... ------------------ -------\n",
       " 98.38429327278   8.33557580226    0.0298 ...  8.630476476633497     1.0\n",
       " 98.55031962528   7.98752507297    0.0259 ... 1.0022984804924298     1.0\n",
       " 98.54082660573   8.01212878661    0.0194 ... 1.4793684128167732     0.8\n",
       " 98.47991490921   8.04956098629    0.0149 ... 1.0089229475085684     0.8\n",
       " 98.55007006085   7.86501938128    0.0137 ... 1.4134672216512647     0.9\n",
       " 98.47750157250   8.18827800746    0.0134 ...  0.903379723228851     0.8\n",
       " 98.24454758674   8.31487809120    0.0295 ... 0.9040938715156194     0.8\n",
       " 98.40426423219   8.20239755076    0.0502 ... 2.0236601294431282     0.8"
      ]
     },
     "execution_count": 35,
     "metadata": {},
     "output_type": "execute_result"
    }
   ],
   "source": [
    "cl.members()"
   ]
  },
  {
   "cell_type": "code",
   "execution_count": 39,
   "metadata": {},
   "outputs": [
    {
     "data": {
      "text/html": [
       "<i>Row index=0</i>\n",
       "<table id=\"table126918692183888\">\n",
       "<thead><tr><th>Cluster</th><th>RA_ICRS</th><th>DE_ICRS</th><th>r50</th><th>N</th><th>pmRA</th><th>e_pmRA</th><th>pmDE</th><th>e_pmDE</th><th>Plx</th><th>e_Plx</th><th>RV</th><th>e_RV</th><th>NRV</th><th>Dist</th><th>e_Dist</th><th>logage</th><th>e_logage</th><th>__Fe_H_</th><th>e__Fe_H_</th><th>Av</th><th>e_Av</th><th>FileName</th><th>SimbadName</th><th>_RA.icrs</th><th>_DE.icrs</th></tr></thead>\n",
       "<thead><tr><th></th><th>deg</th><th>deg</th><th>deg</th><th></th><th>mas / yr</th><th>mas / yr</th><th>mas / yr</th><th>mas / yr</th><th>mas</th><th>mas</th><th>km / s</th><th>km / s</th><th></th><th>pc</th><th>pc</th><th>log(yr)</th><th>log(yr)</th><th></th><th></th><th>mag</th><th>mag</th><th></th><th></th><th>deg</th><th>deg</th></tr></thead>\n",
       "<thead><tr><th>str17</th><th>float64</th><th>float64</th><th>float32</th><th>int16</th><th>float32</th><th>float32</th><th>float32</th><th>float32</th><th>float32</th><th>float32</th><th>float64</th><th>float32</th><th>int16</th><th>int16</th><th>int16</th><th>float32</th><th>float32</th><th>float32</th><th>float32</th><th>float32</th><th>float32</th><th>str31</th><th>str31</th><th>float64</th><th>float64</th></tr></thead>\n",
       "<tr><td>Basel_8</td><td>98.5582</td><td>8.0381</td><td>0.299</td><td>8</td><td>-0.190</td><td>0.225</td><td>-2.183</td><td>0.225</td><td>0.653</td><td>0.027</td><td>19.250</td><td>3.875</td><td>8</td><td>1450</td><td>49</td><td>7.800</td><td>0.236</td><td>0.028</td><td>0.064</td><td>1.100</td><td>0.079</td><td>clusters1/Basel_8.dat</td><td>Cl Basel 8</td><td>98.5582</td><td>8.0381</td></tr>\n",
       "</table>"
      ],
      "text/plain": [
       "<Row index=0>\n",
       "Cluster RA_ICRS  DE_ICRS    r50     N     pmRA    e_pmRA    pmDE    e_pmDE    Plx    e_Plx     RV      e_RV   NRV   Dist e_Dist  logage e_logage __Fe_H_ e__Fe_H_    Av     e_Av         FileName       SimbadName _RA.icrs _DE.icrs\n",
       "          deg      deg      deg         mas / yr mas / yr mas / yr mas / yr   mas     mas    km / s   km / s         pc    pc   log(yr) log(yr)                     mag     mag                                      deg      deg   \n",
       " str17  float64  float64  float32 int16 float32  float32  float32  float32  float32 float32 float64  float32 int16 int16 int16  float32 float32  float32 float32  float32 float32         str31           str31    float64  float64 \n",
       "------- -------- -------- ------- ----- -------- -------- -------- -------- ------- ------- -------- ------- ----- ----- ------ ------- -------- ------- -------- ------- ------- --------------------- ---------- -------- --------\n",
       "Basel_8  98.5582   8.0381   0.299     8   -0.190    0.225   -2.183    0.225   0.653   0.027   19.250   3.875     8  1450     49   7.800    0.236   0.028    0.064   1.100   0.079 clusters1/Basel_8.dat Cl Basel 8  98.5582   8.0381"
      ]
     },
     "execution_count": 39,
     "metadata": {},
     "output_type": "execute_result"
    }
   ],
   "source": [
    "cl.all"
   ]
  },
  {
   "cell_type": "code",
   "execution_count": 21,
   "metadata": {},
   "outputs": [],
   "source": [
    "basel_8_members = cl.mymembers"
   ]
  },
  {
   "cell_type": "code",
   "execution_count": 40,
   "metadata": {},
   "outputs": [
    {
     "data": {
      "text/plain": [
       "array([3.875, 3.875, 3.875, 3.875, 3.875, 3.875, 3.875, 3.875])"
      ]
     },
     "execution_count": 40,
     "metadata": {},
     "output_type": "execute_result"
    }
   ],
   "source": [
    "np.ones(8)*3.875"
   ]
  },
  {
   "cell_type": "code",
   "execution_count": 55,
   "metadata": {},
   "outputs": [
    {
     "data": {
      "text/plain": [
       "21.481+/-1.4712865118664007"
      ]
     },
     "execution_count": 55,
     "metadata": {},
     "output_type": "execute_result"
    }
   ],
   "source": [
    "all_values = np.array([       19.25, 19.25, 19.25, 19.25, 19.25, 19.25, 19.25, 19.25, 39.78, 21.03])\n",
    "all_uncertainties = np.array([3.875, 3.875, 3.875, 3.875, 3.875, 3.875, 3.875, 3.875, 8.15, 5.47])\n",
    "\n",
    "RV = unumpy.uarray(all_values,all_uncertainties)\n",
    "RV.mean()"
   ]
  },
  {
   "cell_type": "code",
   "execution_count": 41,
   "metadata": {},
   "outputs": [
    {
     "data": {
      "text/plain": [
       "21.481+/-1.4712865118664007"
      ]
     },
     "execution_count": 41,
     "metadata": {},
     "output_type": "execute_result"
    }
   ],
   "source": [
    "\n",
    "all_values = np.array([19.25, 19.25, 19.25, 19.25, 19.25, 19.25, 19.25, 19.25, 39.78, 21.03])\n",
    "all_uncertainties = np.array([3.875, 3.875, 3.875, 3.875, 3.875, 3.875, 3.875, 3.875, 8.15, 5.47])\n",
    "\n",
    "RV = unumpy.uarray(all_values,all_uncertainties)\n",
    "RV.mean()"
   ]
  },
  {
   "cell_type": "code",
   "execution_count": 33,
   "metadata": {},
   "outputs": [
    {
     "data": {
      "text/plain": [
       "19.25+/-3.874577835368646"
      ]
     },
     "execution_count": 33,
     "metadata": {},
     "output_type": "execute_result"
    }
   ],
   "source": [
    "RV = unumpy.uarray(cl.kinematic_cluster['RV'].value,cl.kinematic_cluster['e_RV'].value)\n",
    "RV.mean()"
   ]
  },
  {
   "cell_type": "code",
   "execution_count": 23,
   "metadata": {},
   "outputs": [
    {
     "data": {
      "text/plain": [
       "3.020607620992836"
      ]
     },
     "execution_count": 23,
     "metadata": {},
     "output_type": "execute_result"
    }
   ],
   "source": [
    "RV.mean().nominal_value\n",
    "RV.mean().std_dev"
   ]
  },
  {
   "cell_type": "code",
   "execution_count": 9,
   "metadata": {},
   "outputs": [
    {
     "data": {
      "text/plain": [
       "3.090631003533097"
      ]
     },
     "execution_count": 9,
     "metadata": {},
     "output_type": "execute_result"
    }
   ],
   "source": [
    "np.sqrt(9.552)"
   ]
  },
  {
   "cell_type": "code",
   "execution_count": 36,
   "metadata": {},
   "outputs": [
    {
     "data": {
      "text/plain": [
       "array([3, 4, 5])"
      ]
     },
     "execution_count": 36,
     "metadata": {},
     "output_type": "execute_result"
    }
   ],
   "source": [
    "np.array([2,3,4])."
   ]
  },
  {
   "cell_type": "code",
   "execution_count": 10,
   "metadata": {},
   "outputs": [
    {
     "name": "stdout",
     "output_type": "stream",
     "text": [
      "Weighted Mean RV: 19.25\n",
      "Weighted Error: 0.3535533905932738\n"
     ]
    }
   ],
   "source": [
    "# Extract RV and e_RV values\n",
    "table = cl.kinematic_cluster\n",
    "table[~table['RV'].mask]\n",
    "rv_values = table['RV']\n",
    "errors = table['e_RV']\n",
    "\n",
    "# Calculate the weights\n",
    "weights = 1 / errors**0\n",
    "\n",
    "# Calculate the weighted mean\n",
    "weighted_mean = np.sum(rv_values * weights) / np.sum(weights)\n",
    "\n",
    "# Calculate the error in the weighted mean\n",
    "weighted_error = np.sqrt(1 / np.sum(weights))\n",
    "\n",
    "# Print the results\n",
    "print(f\"Weighted Mean RV: {weighted_mean}\")\n",
    "print(f\"Weighted Error: {weighted_error}\")"
   ]
  },
  {
   "cell_type": "code",
   "execution_count": 5,
   "metadata": {},
   "outputs": [
    {
     "data": {
      "text/html": [
       "<div><i>Table length=1</i>\n",
       "<table id=\"table126759302009552\" class=\"table-striped table-bordered table-condensed\">\n",
       "<thead><tr><th>Name</th><th>RA_ICRS_1</th><th>DE_ICRS_1</th><th>rgeo</th><th>Teff</th><th>Temp. Est</th><th>v_pec</th><th>e_v_pec</th><th>v_pec3d</th><th>e_v_pec3d</th><th>HIP</th><th>TYC2</th><th>Source</th><th>Plx</th><th>e_Plx</th><th>pmRA</th><th>pmDE</th><th>e_pmRA</th><th>e_pmDE</th><th>RUWE</th><th>Gmag</th><th>BP-RP</th><th>BPmag</th><th>RPmag</th><th>b_rgeo</th><th>B_rgeo</th><th>e_Gmag</th><th>e_BPmag</th><th>e_RPmag</th><th>e_BP-RP</th><th>SkyCoord</th><th>rmRA</th><th>e_rmRA</th><th>rmDE</th><th>e_rmDE</th><th>logg</th><th>RV</th><th>e_RV</th><th>rRV</th><th>e_rRV</th><th>FG</th><th>e_FG</th><th>FBP</th><th>e_FBP</th><th>FRP</th><th>e_FRP</th><th>RAVE5</th><th>RAVE6</th></tr></thead>\n",
       "<thead><tr><th></th><th>deg</th><th>deg</th><th>pc</th><th>K</th><th>K</th><th>km / s</th><th>km / s</th><th>km / s</th><th>km / s</th><th></th><th></th><th></th><th>mas</th><th>mas</th><th>mas / yr</th><th>mas / yr</th><th>mas / yr</th><th>mas / yr</th><th></th><th>mag</th><th>mag</th><th>mag</th><th>mag</th><th>pc</th><th>pc</th><th></th><th></th><th></th><th></th><th>deg,deg,pc</th><th>mas / yr</th><th>mas / yr</th><th>mas / yr</th><th>mas / yr</th><th>log(cm.s**-2)</th><th>km / s</th><th>km / s</th><th>km / s</th><th>km / s</th><th></th><th></th><th></th><th></th><th></th><th></th><th></th><th></th></tr></thead>\n",
       "<thead><tr><th>str9</th><th>float64</th><th>float64</th><th>float64</th><th>float64</th><th>float64</th><th>float64</th><th>float64</th><th>float64</th><th>float64</th><th>int32</th><th>str10</th><th>int64</th><th>float64</th><th>float32</th><th>float64</th><th>float64</th><th>float32</th><th>float32</th><th>float64</th><th>float64</th><th>float64</th><th>float64</th><th>float64</th><th>float64</th><th>float64</th><th>float64</th><th>float32</th><th>float32</th><th>float32</th><th>SkyCoord</th><th>float64</th><th>float32</th><th>float64</th><th>float32</th><th>float64</th><th>float64</th><th>float32</th><th>float64</th><th>float32</th><th>float64</th><th>float32</th><th>float32</th><th>float32</th><th>float32</th><th>float32</th><th>str1</th><th>str1</th></tr></thead>\n",
       "<tr><td>HD 259991</td><td>98.69055275937</td><td>8.07569472560</td><td>1458.14001000</td><td>--</td><td>13240.0</td><td>21.30802513378318</td><td>2.932337496676566</td><td>--</td><td>--</td><td>--</td><td>733-1687-1</td><td>3326026144355977472</td><td>0.6601</td><td>0.0421</td><td>-1.403</td><td>0.651</td><td>0.039</td><td>0.031</td><td>1.529</td><td>9.317637</td><td>0.329390</td><td>9.419267</td><td>9.089877</td><td>1378.07080000</td><td>1536.19507000</td><td>0.0028</td><td>0.003873</td><td>0.004001</td><td>0.007874</td><td>98.69055275937,8.0756947256,1458.14001</td><td>-1.213</td><td>0.264</td><td>2.834</td><td>0.256</td><td>--</td><td>--</td><td>--</td><td>--</td><td>--</td><td>3530953.30802</td><td>1620</td><td>2.332e+06</td><td>5770</td><td>1.833e+06</td><td>2216</td><td>--</td><td>--</td></tr>\n",
       "</table></div>"
      ],
      "text/plain": [
       "<Table length=1>\n",
       "   Name      RA_ICRS_1       DE_ICRS_1    ...    e_FRP    RAVE5 RAVE6\n",
       "                deg             deg       ...                        \n",
       "   str9       float64         float64     ...   float32    str1  str1\n",
       "--------- --------------- --------------- ... ----------- ----- -----\n",
       "HD 259991  98.69055275937   8.07569472560 ...        2216    --    --"
      ]
     },
     "execution_count": 5,
     "metadata": {},
     "output_type": "execute_result"
    }
   ],
   "source": [
    "cl.runaways()"
   ]
  },
  {
   "cell_type": "code",
   "execution_count": 2,
   "metadata": {},
   "outputs": [
    {
     "data": {
      "text/html": [
       "<div><i>Table length=0</i>\n",
       "<table id=\"table126759315392272\" class=\"table-striped table-bordered table-condensed\">\n",
       "<thead><tr><th>JNAME</th><th>RAJD</th><th>DECJD</th><th>DIST</th><th>DIST_DM</th><th>AGE</th><th>PMRA</th><th>PMDEC</th><th>S400</th><th>ASSOC</th><th>AGE_I</th><th>PX</th><th>P0</th><th>P1</th><th>BSURF</th><th>SkyCoord</th><th>sep2d</th><th>sep3d</th></tr></thead>\n",
       "<thead><tr><th></th><th>deg</th><th>deg</th><th>kpc</th><th>kpc</th><th>yr</th><th>mas / yr</th><th>mas / yr</th><th>mJy</th><th></th><th>yr</th><th>mas</th><th>s</th><th></th><th>G</th><th>deg,deg,kpc</th><th>deg</th><th>kpc</th></tr></thead>\n",
       "<thead><tr><th>str12</th><th>float64</th><th>float64</th><th>float64</th><th>float64</th><th>float64</th><th>float64</th><th>float64</th><th>float64</th><th>str5</th><th>float64</th><th>float64</th><th>float64</th><th>float64</th><th>float64</th><th>SkyCoord</th><th>float64</th><th>float64</th></tr></thead>\n",
       "</table></div>"
      ],
      "text/plain": [
       "<Table length=0>\n",
       "JNAME   RAJD   DECJD    DIST  DIST_DM ...  BSURF    SkyCoord   sep2d   sep3d \n",
       "        deg     deg     kpc     kpc   ...    G    deg,deg,kpc   deg     kpc  \n",
       "str12 float64 float64 float64 float64 ... float64   SkyCoord  float64 float64\n",
       "----- ------- ------- ------- ------- ... ------- ----------- ------- -------"
      ]
     },
     "execution_count": 2,
     "metadata": {},
     "output_type": "execute_result"
    }
   ],
   "source": [
    "cl.psrs()"
   ]
  },
  {
   "cell_type": "code",
   "execution_count": 12,
   "metadata": {},
   "outputs": [],
   "source": [
    "show_annotation_manager(plot_pm)\n"
   ]
  },
  {
   "cell_type": "code",
   "execution_count": 6,
   "metadata": {},
   "outputs": [],
   "source": [
    "# cl.plot_cmd()\n",
    "%run runaway_functionsv3\n",
    "%matplotlib qt\n",
    "cl = Cluster('BH_121')\n",
    "\n",
    "psr_table = cl.psrs()\n",
    "psr_table\n",
    "mask = np.isin(psr_table['JNAME'], [\"J1144-6217\"])\n",
    "psr_table = psr_table[mask]\n",
    "plot_traceback_psr,wcs = cl.plot_traceback_psr(psr_table=psr_table, trace_time=-125*u.kyr)"
   ]
  },
  {
   "cell_type": "code",
   "execution_count": 2,
   "metadata": {},
   "outputs": [
    {
     "data": {
      "text/html": [
       "<div><i>Table length=2</i>\n",
       "<table id=\"table132784166475344\" class=\"table-striped table-bordered table-condensed\">\n",
       "<thead><tr><th>Name</th><th>RA_ICRS_1</th><th>DE_ICRS_1</th><th>rgeo</th><th>Teff</th><th>Temp. Est</th><th>v_pec</th><th>e_v_pec</th><th>v_pec3d</th><th>e_v_pec3d</th><th>HIP</th><th>TYC2</th><th>Source</th><th>Plx</th><th>e_Plx</th><th>pmRA</th><th>pmDE</th><th>e_pmRA</th><th>e_pmDE</th><th>RUWE</th><th>Gmag</th><th>BP-RP</th><th>BPmag</th><th>RPmag</th><th>b_rgeo</th><th>B_rgeo</th><th>e_Gmag</th><th>e_BPmag</th><th>e_RPmag</th><th>e_BP-RP</th><th>SkyCoord</th><th>rmRA</th><th>e_rmRA</th><th>rmDE</th><th>e_rmDE</th><th>logg</th><th>RV</th><th>e_RV</th><th>rRV</th><th>e_rRV</th><th>FG</th><th>e_FG</th><th>FBP</th><th>e_FBP</th><th>FRP</th><th>e_FRP</th><th>RAVE5</th><th>RAVE6</th></tr></thead>\n",
       "<thead><tr><th></th><th>deg</th><th>deg</th><th>pc</th><th>K</th><th>K</th><th>km / s</th><th>km / s</th><th>km / s</th><th>km / s</th><th></th><th></th><th></th><th>mas</th><th>mas</th><th>mas / yr</th><th>mas / yr</th><th>mas / yr</th><th>mas / yr</th><th></th><th>mag</th><th>mag</th><th>mag</th><th>mag</th><th>pc</th><th>pc</th><th></th><th></th><th></th><th></th><th>deg,deg,pc</th><th>mas / yr</th><th>mas / yr</th><th>mas / yr</th><th>mas / yr</th><th>log(cm.s**-2)</th><th>km / s</th><th>km / s</th><th>km / s</th><th>km / s</th><th></th><th></th><th></th><th></th><th></th><th></th><th></th><th></th></tr></thead>\n",
       "<thead><tr><th>str28</th><th>float64</th><th>float64</th><th>float64</th><th>float64</th><th>float64</th><th>float64</th><th>float64</th><th>float64</th><th>float64</th><th>int32</th><th>str11</th><th>int64</th><th>float64</th><th>float32</th><th>float64</th><th>float64</th><th>float32</th><th>float32</th><th>float64</th><th>float64</th><th>float64</th><th>float64</th><th>float64</th><th>float64</th><th>float64</th><th>float64</th><th>float32</th><th>float32</th><th>float32</th><th>SkyCoord</th><th>float64</th><th>float32</th><th>float64</th><th>float32</th><th>float64</th><th>float64</th><th>float32</th><th>float64</th><th>float32</th><th>float64</th><th>float32</th><th>float32</th><th>float32</th><th>float32</th><th>float32</th><th>str1</th><th>str1</th></tr></thead>\n",
       "<tr><td>Gaia DR3 5333582373493259392</td><td>174.25420916697</td><td>-63.51028158943</td><td>2030.28772000</td><td>10472.6</td><td>29200.0</td><td>36.322390643713256</td><td>4.290941600537356</td><td>--</td><td>--</td><td>--</td><td>--</td><td>5333582373493259392</td><td>0.4749</td><td>0.0459</td><td>-9.647</td><td>-0.256</td><td>0.047</td><td>0.046</td><td>1.020</td><td>16.690096</td><td>-0.023376</td><td>16.692854</td><td>16.716230</td><td>1892.54675000</td><td>2207.36768000</td><td>0.002842</td><td>0.004248</td><td>0.008885</td><td>0.01313</td><td>174.25420916697,-63.51028158943,2030.28772</td><td>-3.657</td><td>0.153</td><td>-0.934</td><td>0.152</td><td>4.4974</td><td>--</td><td>--</td><td>--</td><td>--</td><td>3971.07777</td><td>2.547</td><td>2873</td><td>8.473</td><td>1632</td><td>12.09</td><td>--</td><td>--</td></tr>\n",
       "<tr><td>HD 308823</td><td>174.84243990445</td><td>-63.36971443391</td><td>2539.82080000</td><td>15232.7</td><td>16210.0</td><td>48.530542153436116</td><td>32.98228162164111</td><td>--</td><td>--</td><td>--</td><td>--</td><td>5333952049933787520</td><td>1.9973</td><td>0.6318</td><td>-8.848</td><td>-2.165</td><td>0.668</td><td>0.721</td><td>32.069</td><td>11.291941</td><td>0.333353</td><td>11.389230</td><td>11.055877</td><td>1410.14795000</td><td>3852.90039000</td><td>0.002927</td><td>0.002866</td><td>0.003816</td><td>0.006682</td><td>174.84243990445,-63.36971443391,2539.8208</td><td>-2.858</td><td>0.774</td><td>-2.843</td><td>0.827</td><td>3.5354</td><td>--</td><td>--</td><td>--</td><td>--</td><td>573020.91200</td><td>521.3</td><td>3.8e+05</td><td>228.9</td><td>2.998e+05</td><td>146.4</td><td>--</td><td>--</td></tr>\n",
       "</table></div>"
      ],
      "text/plain": [
       "<Table length=2>\n",
       "            Name                RA_ICRS_1       DE_ICRS_1    ... RAVE5 RAVE6\n",
       "                                   deg             deg       ...            \n",
       "           str28                 float64         float64     ...  str1  str1\n",
       "---------------------------- --------------- --------------- ... ----- -----\n",
       "Gaia DR3 5333582373493259392 174.25420916697 -63.51028158943 ...    --    --\n",
       "                   HD 308823 174.84243990445 -63.36971443391 ...    --    --"
      ]
     },
     "execution_count": 2,
     "metadata": {},
     "output_type": "execute_result"
    }
   ],
   "source": [
    "cl.runaways()"
   ]
  },
  {
   "cell_type": "code",
   "execution_count": 7,
   "metadata": {},
   "outputs": [],
   "source": [
    "show_annotation_manager(plot_traceback_psr)"
   ]
  }
 ],
 "metadata": {
  "kernelspec": {
   "display_name": "Python 3",
   "language": "python",
   "name": "python3"
  },
  "language_info": {
   "codemirror_mode": {
    "name": "ipython",
    "version": 3
   },
   "file_extension": ".py",
   "mimetype": "text/x-python",
   "name": "python",
   "nbconvert_exporter": "python",
   "pygments_lexer": "ipython3",
   "version": "3.11.6"
  }
 },
 "nbformat": 4,
 "nbformat_minor": 2
}
