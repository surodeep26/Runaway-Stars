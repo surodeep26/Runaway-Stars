{
 "cells": [
  {
   "cell_type": "code",
   "execution_count": 10,
   "metadata": {},
   "outputs": [],
   "source": [
    "%run runaway_functionsv3\n",
    "%matplotlib qt"
   ]
  },
  {
   "cell_type": "code",
   "execution_count": 4,
   "metadata": {},
   "outputs": [],
   "source": [
    "plt.rcParams[\"font.family\"] = \"Palatino\"\n",
    "plt.rcParams[\"font.size\"] = 30"
   ]
  },
  {
   "cell_type": "code",
   "execution_count": 11,
   "metadata": {},
   "outputs": [],
   "source": [
    "cl = Cluster('Trumpler_33')"
   ]
  },
  {
   "cell_type": "code",
   "execution_count": 7,
   "metadata": {},
   "outputs": [
    {
     "data": {
      "text/plain": [
       "<WCSAxesSubplot: >"
      ]
     },
     "execution_count": 7,
     "metadata": {},
     "output_type": "execute_result"
    }
   ],
   "source": [
    "cl.plot_traceback_clean()"
   ]
  },
  {
   "cell_type": "code",
   "execution_count": 12,
   "metadata": {},
   "outputs": [
    {
     "data": {
      "text/plain": [
       "<AxesSubplot: xlabel='$\\\\mu^{*}_{\\\\alpha}$ mas yr$^{-1}$', ylabel='$\\\\mu_{\\\\delta}$ mas yr$^{-1}$'>"
      ]
     },
     "execution_count": 12,
     "metadata": {},
     "output_type": "execute_result"
    }
   ],
   "source": [
    "cl.plot_pm()"
   ]
  },
  {
   "cell_type": "code",
   "execution_count": 18,
   "metadata": {},
   "outputs": [
    {
     "data": {
      "text/html": [
       "<i>Row index=0</i>\n",
       "<table id=\"table134251480960336\">\n",
       "<thead><tr><th>Cluster</th><th>RA_ICRS</th><th>DE_ICRS</th><th>r50</th><th>N</th><th>pmRA</th><th>e_pmRA</th><th>pmDE</th><th>e_pmDE</th><th>Plx</th><th>e_Plx</th><th>RV</th><th>e_RV</th><th>NRV</th><th>Dist</th><th>e_Dist</th><th>logage</th><th>e_logage</th><th>__Fe_H_</th><th>e__Fe_H_</th><th>Av</th><th>e_Av</th><th>FileName</th><th>SimbadName</th><th>_RA.icrs</th><th>_DE.icrs</th></tr></thead>\n",
       "<thead><tr><th></th><th>deg</th><th>deg</th><th>deg</th><th></th><th>mas / yr</th><th>mas / yr</th><th>mas / yr</th><th>mas / yr</th><th>mas</th><th>mas</th><th>km / s</th><th>km / s</th><th></th><th>pc</th><th>pc</th><th>log(yr)</th><th>log(yr)</th><th></th><th></th><th>mag</th><th>mag</th><th></th><th></th><th>deg</th><th>deg</th></tr></thead>\n",
       "<thead><tr><th>str17</th><th>float64</th><th>float64</th><th>float32</th><th>int16</th><th>float32</th><th>float32</th><th>float32</th><th>float32</th><th>float32</th><th>float32</th><th>float64</th><th>float32</th><th>int16</th><th>int16</th><th>int16</th><th>float32</th><th>float32</th><th>float32</th><th>float32</th><th>float32</th><th>float32</th><th>str31</th><th>str31</th><th>float64</th><th>float64</th></tr></thead>\n",
       "<tr><td>BH_121</td><td>174.6628</td><td>-63.3771</td><td>0.132</td><td>100</td><td>-5.990</td><td>0.106</td><td>0.678</td><td>0.106</td><td>0.402</td><td>0.025</td><td>-3.157</td><td>9.535</td><td>8</td><td>2300</td><td>117</td><td>6.864</td><td>0.103</td><td>-0.089</td><td>0.109</td><td>1.281</td><td>0.016</td><td>clusters1/BH_121.dat</td><td>Cl VDBH 121</td><td>174.6629</td><td>-63.3771</td></tr>\n",
       "</table>"
      ],
      "text/plain": [
       "<Row index=0>\n",
       "Cluster RA_ICRS  DE_ICRS    r50     N     pmRA    e_pmRA    pmDE    e_pmDE    Plx    e_Plx     RV      e_RV   NRV   Dist e_Dist  logage e_logage __Fe_H_ e__Fe_H_    Av     e_Av        FileName        SimbadName _RA.icrs _DE.icrs\n",
       "          deg      deg      deg         mas / yr mas / yr mas / yr mas / yr   mas     mas    km / s   km / s         pc    pc   log(yr) log(yr)                     mag     mag                                      deg      deg   \n",
       " str17  float64  float64  float32 int16 float32  float32  float32  float32  float32 float32 float64  float32 int16 int16 int16  float32 float32  float32 float32  float32 float32        str31            str31    float64  float64 \n",
       "------- -------- -------- ------- ----- -------- -------- -------- -------- ------- ------- -------- ------- ----- ----- ------ ------- -------- ------- -------- ------- ------- -------------------- ----------- -------- --------\n",
       " BH_121 174.6628 -63.3771   0.132   100   -5.990    0.106    0.678    0.106   0.402   0.025   -3.157   9.535     8  2300    117   6.864    0.103  -0.089    0.109   1.281   0.016 clusters1/BH_121.dat Cl VDBH 121 174.6629 -63.3771"
      ]
     },
     "metadata": {},
     "output_type": "display_data"
    },
    {
     "data": {
      "text/html": [
       "<div><i>Table length=2</i>\n",
       "<table id=\"table134251516489232\" class=\"table-striped table-bordered table-condensed\">\n",
       "<thead><tr><th>JNAME</th><th>RAJD</th><th>DECJD</th><th>DIST</th><th>DIST_DM</th><th>AGE</th><th>PMRA</th><th>PMDEC</th><th>S400</th><th>ASSOC</th><th>AGE_I</th><th>PX</th><th>P0</th><th>P1</th><th>BSURF</th><th>SkyCoord</th><th>sep2d</th><th>sep3d</th></tr></thead>\n",
       "<thead><tr><th></th><th>deg</th><th>deg</th><th>kpc</th><th>kpc</th><th>yr</th><th>mas / yr</th><th>mas / yr</th><th>mJy</th><th></th><th>yr</th><th>mas</th><th>s</th><th></th><th>G</th><th>deg,deg,kpc</th><th>deg</th><th>kpc</th></tr></thead>\n",
       "<thead><tr><th>str12</th><th>float64</th><th>float64</th><th>float64</th><th>float64</th><th>float64</th><th>float64</th><th>float64</th><th>float64</th><th>str5</th><th>float64</th><th>float64</th><th>float64</th><th>float64</th><th>float64</th><th>SkyCoord</th><th>float64</th><th>float64</th></tr></thead>\n",
       "<tr><td>J1144-6217</td><td>176.00879166666664</td><td>-62.29175</td><td>2.644</td><td>2.644</td><td>437105.00096524967</td><td>--</td><td>--</td><td>--</td><td>--</td><td>--</td><td>--</td><td>0.8506649433737226</td><td>3.0834633974006527e-14</td><td>5182611385717.675</td><td>176.00879166666664,-62.29175,2.644</td><td>1.2471883596449782</td><td>0.34816277304309234</td></tr>\n",
       "<tr><td>J1144-6146</td><td>176.14499999999995</td><td>-61.780277777777776</td><td>1.395</td><td>1.395</td><td>--</td><td>--</td><td>--</td><td>--</td><td>--</td><td>--</td><td>--</td><td>0.987783069335335</td><td>-3.805290029055587e-17</td><td>--</td><td>176.14499999999995,-61.780277777777776,1.395</td><td>1.7364889373644232</td><td>0.9066266678087308</td></tr>\n",
       "</table></div>"
      ],
      "text/plain": [
       "<Table length=2>\n",
       "  JNAME           RAJD        ...       sep2d               sep3d       \n",
       "                  deg         ...        deg                 kpc        \n",
       "  str12         float64       ...      float64             float64      \n",
       "---------- ------------------ ... ------------------ -------------------\n",
       "J1144-6217 176.00879166666664 ... 1.2471883596449782 0.34816277304309234\n",
       "J1144-6146 176.14499999999995 ... 1.7364889373644232  0.9066266678087308"
      ]
     },
     "execution_count": 18,
     "metadata": {},
     "output_type": "execute_result"
    }
   ],
   "source": [
    "cl = Cluster('BH_121')\n",
    "display(cl.all)\n",
    "cl.psrs()"
   ]
  },
  {
   "cell_type": "code",
   "execution_count": 4,
   "metadata": {},
   "outputs": [],
   "source": [
    "%run runaway_functionsv3\n",
    "%matplotlib qt\n",
    "cl = Cluster('BH_121')\n",
    "plot_traceback_clean = cl.plot_traceback_clean()"
   ]
  },
  {
   "cell_type": "code",
   "execution_count": 5,
   "metadata": {},
   "outputs": [],
   "source": [
    "show_annotation_manager(plot_traceback_clean)\n"
   ]
  },
  {
   "cell_type": "code",
   "execution_count": 13,
   "metadata": {},
   "outputs": [],
   "source": [
    "%run runaway_functionsv3\n",
    "%matplotlib qt\n",
    "cl = Cluster('BH_121')\n",
    "\n",
    "plot_cmd = cl.plot_cmd()"
   ]
  },
  {
   "cell_type": "code",
   "execution_count": 14,
   "metadata": {},
   "outputs": [],
   "source": [
    "show_annotation_manager(plot_cmd)"
   ]
  },
  {
   "cell_type": "code",
   "execution_count": 20,
   "metadata": {},
   "outputs": [],
   "source": [
    "%run runaway_functionsv3\n",
    "%matplotlib qt\n",
    "cl = Cluster('Basel_8')\n",
    "cld = ClusterDias(\"Basel_8\")\n",
    "# plot_pm = cl.plot_pm()"
   ]
  },
  {
   "cell_type": "code",
   "execution_count": 22,
   "metadata": {},
   "outputs": [
    {
     "data": {
      "text/html": [
       "<i>Row index=0</i>\n",
       "<table id=\"table139501498092752\">\n",
       "<thead><tr><th>Cluster</th><th>RA_ICRS</th><th>DE_ICRS</th><th>r50</th><th>N</th><th>pmRA</th><th>e_pmRA</th><th>pmDE</th><th>e_pmDE</th><th>Plx</th><th>e_Plx</th><th>RV</th><th>e_RV</th><th>NRV</th><th>Dist</th><th>e_Dist</th><th>logage</th><th>e_logage</th><th>__Fe_H_</th><th>e__Fe_H_</th><th>Av</th><th>e_Av</th><th>FileName</th><th>SimbadName</th><th>_RA.icrs</th><th>_DE.icrs</th></tr></thead>\n",
       "<thead><tr><th></th><th>deg</th><th>deg</th><th>deg</th><th></th><th>mas / yr</th><th>mas / yr</th><th>mas / yr</th><th>mas / yr</th><th>mas</th><th>mas</th><th>km / s</th><th>km / s</th><th></th><th>pc</th><th>pc</th><th>log(yr)</th><th>log(yr)</th><th></th><th></th><th>mag</th><th>mag</th><th></th><th></th><th>deg</th><th>deg</th></tr></thead>\n",
       "<thead><tr><th>str17</th><th>float64</th><th>float64</th><th>float32</th><th>int16</th><th>float32</th><th>float32</th><th>float32</th><th>float32</th><th>float32</th><th>float32</th><th>float64</th><th>float32</th><th>int16</th><th>int16</th><th>int16</th><th>float32</th><th>float32</th><th>float32</th><th>float32</th><th>float32</th><th>float32</th><th>str31</th><th>str31</th><th>float64</th><th>float64</th></tr></thead>\n",
       "<tr><td>Basel_8</td><td>98.5582</td><td>8.0381</td><td>0.299</td><td>8</td><td>-0.190</td><td>0.225</td><td>-2.183</td><td>0.225</td><td>0.653</td><td>0.027</td><td>19.250</td><td>9.552</td><td>8</td><td>1450</td><td>49</td><td>7.800</td><td>0.236</td><td>0.028</td><td>0.064</td><td>1.100</td><td>0.079</td><td>clusters1/Basel_8.dat</td><td>Cl Basel 8</td><td>98.5582</td><td>8.0381</td></tr>\n",
       "</table>"
      ],
      "text/plain": [
       "<Row index=0>\n",
       "Cluster RA_ICRS  DE_ICRS    r50     N     pmRA    e_pmRA    pmDE    e_pmDE    Plx    e_Plx     RV      e_RV   NRV   Dist e_Dist  logage e_logage __Fe_H_ e__Fe_H_    Av     e_Av         FileName       SimbadName _RA.icrs _DE.icrs\n",
       "          deg      deg      deg         mas / yr mas / yr mas / yr mas / yr   mas     mas    km / s   km / s         pc    pc   log(yr) log(yr)                     mag     mag                                      deg      deg   \n",
       " str17  float64  float64  float32 int16 float32  float32  float32  float32  float32 float32 float64  float32 int16 int16 int16  float32 float32  float32 float32  float32 float32         str31           str31    float64  float64 \n",
       "------- -------- -------- ------- ----- -------- -------- -------- -------- ------- ------- -------- ------- ----- ----- ------ ------- -------- ------- -------- ------- ------- --------------------- ---------- -------- --------\n",
       "Basel_8  98.5582   8.0381   0.299     8   -0.190    0.225   -2.183    0.225   0.653   0.027   19.250   9.552     8  1450     49   7.800    0.236   0.028    0.064   1.100   0.079 clusters1/Basel_8.dat Cl Basel 8  98.5582   8.0381"
      ]
     },
     "execution_count": 22,
     "metadata": {},
     "output_type": "execute_result"
    }
   ],
   "source": [
    "cl.all"
   ]
  },
  {
   "cell_type": "code",
   "execution_count": 21,
   "metadata": {},
   "outputs": [],
   "source": [
    "basel_8_members = cl.mymembers"
   ]
  },
  {
   "cell_type": "code",
   "execution_count": 42,
   "metadata": {},
   "outputs": [
    {
     "data": {
      "text/plain": [
       "array([9.552, 9.552, 9.552, 9.552, 9.552, 9.552, 9.552, 9.552])"
      ]
     },
     "execution_count": 42,
     "metadata": {},
     "output_type": "execute_result"
    }
   ],
   "source": [
    "np.ones(8)*9.552"
   ]
  },
  {
   "cell_type": "code",
   "execution_count": 1,
   "metadata": {},
   "outputs": [
    {
     "ename": "NameError",
     "evalue": "name 'np' is not defined",
     "output_type": "error",
     "traceback": [
      "\u001b[0;31m---------------------------------------------------------------------------\u001b[0m",
      "\u001b[0;31mNameError\u001b[0m                                 Traceback (most recent call last)",
      "Cell \u001b[0;32mIn[1], line 1\u001b[0m\n\u001b[0;32m----> 1\u001b[0m all_values \u001b[38;5;241m=\u001b[39m \u001b[43mnp\u001b[49m\u001b[38;5;241m.\u001b[39marray([\u001b[38;5;241m19.25\u001b[39m, \u001b[38;5;241m19.25\u001b[39m, \u001b[38;5;241m19.25\u001b[39m, \u001b[38;5;241m19.25\u001b[39m, \u001b[38;5;241m19.25\u001b[39m, \u001b[38;5;241m19.25\u001b[39m, \u001b[38;5;241m19.25\u001b[39m, \u001b[38;5;241m19.25\u001b[39m, \u001b[38;5;241m39.78\u001b[39m, \u001b[38;5;241m21.03\u001b[39m])\n\u001b[1;32m      2\u001b[0m all_uncertainties \u001b[38;5;241m=\u001b[39m np\u001b[38;5;241m.\u001b[39marray([\u001b[38;5;241m9.552\u001b[39m, \u001b[38;5;241m9.552\u001b[39m, \u001b[38;5;241m9.552\u001b[39m, \u001b[38;5;241m9.552\u001b[39m, \u001b[38;5;241m9.552\u001b[39m, \u001b[38;5;241m9.552\u001b[39m, \u001b[38;5;241m9.552\u001b[39m, \u001b[38;5;241m9.552\u001b[39m, \u001b[38;5;241m8.15\u001b[39m, \u001b[38;5;241m5.47\u001b[39m])\n\u001b[1;32m      4\u001b[0m RV \u001b[38;5;241m=\u001b[39m unumpy\u001b[38;5;241m.\u001b[39muarray(all_values,all_uncertainties)\n",
      "\u001b[0;31mNameError\u001b[0m: name 'np' is not defined"
     ]
    }
   ],
   "source": [
    "\n",
    "all_values = np.array([19.25, 19.25, 19.25, 19.25, 19.25, 19.25, 19.25, 19.25, 39.78, 21.03])\n",
    "all_uncertainties = np.array([9.552, 9.552, 9.552, 9.552, 9.552, 9.552, 9.552, 9.552, 8.15, 5.47])\n",
    "\n",
    "RV = unumpy.uarray(all_values,all_uncertainties)\n",
    "RV.mean()"
   ]
  },
  {
   "cell_type": "code",
   "execution_count": 36,
   "metadata": {},
   "outputs": [
    {
     "data": {
      "text/plain": [
       "array([3, 4, 5])"
      ]
     },
     "execution_count": 36,
     "metadata": {},
     "output_type": "execute_result"
    }
   ],
   "source": [
    "np.array([2,3,4])."
   ]
  },
  {
   "cell_type": "code",
   "execution_count": 10,
   "metadata": {},
   "outputs": [
    {
     "name": "stdout",
     "output_type": "stream",
     "text": [
      "Weighted Mean RV: 19.25\n",
      "Weighted Error: 0.3535533905932738\n"
     ]
    }
   ],
   "source": [
    "# Extract RV and e_RV values\n",
    "table = cl.kinematic_cluster\n",
    "table[~table['RV'].mask]\n",
    "rv_values = table['RV']\n",
    "errors = table['e_RV']\n",
    "\n",
    "# Calculate the weights\n",
    "weights = 1 / errors**0\n",
    "\n",
    "# Calculate the weighted mean\n",
    "weighted_mean = np.sum(rv_values * weights) / np.sum(weights)\n",
    "\n",
    "# Calculate the error in the weighted mean\n",
    "weighted_error = np.sqrt(1 / np.sum(weights))\n",
    "\n",
    "# Print the results\n",
    "print(f\"Weighted Mean RV: {weighted_mean}\")\n",
    "print(f\"Weighted Error: {weighted_error}\")"
   ]
  },
  {
   "cell_type": "code",
   "execution_count": 5,
   "metadata": {},
   "outputs": [
    {
     "data": {
      "text/html": [
       "<div><i>Table length=1</i>\n",
       "<table id=\"table126759302009552\" class=\"table-striped table-bordered table-condensed\">\n",
       "<thead><tr><th>Name</th><th>RA_ICRS_1</th><th>DE_ICRS_1</th><th>rgeo</th><th>Teff</th><th>Temp. Est</th><th>v_pec</th><th>e_v_pec</th><th>v_pec3d</th><th>e_v_pec3d</th><th>HIP</th><th>TYC2</th><th>Source</th><th>Plx</th><th>e_Plx</th><th>pmRA</th><th>pmDE</th><th>e_pmRA</th><th>e_pmDE</th><th>RUWE</th><th>Gmag</th><th>BP-RP</th><th>BPmag</th><th>RPmag</th><th>b_rgeo</th><th>B_rgeo</th><th>e_Gmag</th><th>e_BPmag</th><th>e_RPmag</th><th>e_BP-RP</th><th>SkyCoord</th><th>rmRA</th><th>e_rmRA</th><th>rmDE</th><th>e_rmDE</th><th>logg</th><th>RV</th><th>e_RV</th><th>rRV</th><th>e_rRV</th><th>FG</th><th>e_FG</th><th>FBP</th><th>e_FBP</th><th>FRP</th><th>e_FRP</th><th>RAVE5</th><th>RAVE6</th></tr></thead>\n",
       "<thead><tr><th></th><th>deg</th><th>deg</th><th>pc</th><th>K</th><th>K</th><th>km / s</th><th>km / s</th><th>km / s</th><th>km / s</th><th></th><th></th><th></th><th>mas</th><th>mas</th><th>mas / yr</th><th>mas / yr</th><th>mas / yr</th><th>mas / yr</th><th></th><th>mag</th><th>mag</th><th>mag</th><th>mag</th><th>pc</th><th>pc</th><th></th><th></th><th></th><th></th><th>deg,deg,pc</th><th>mas / yr</th><th>mas / yr</th><th>mas / yr</th><th>mas / yr</th><th>log(cm.s**-2)</th><th>km / s</th><th>km / s</th><th>km / s</th><th>km / s</th><th></th><th></th><th></th><th></th><th></th><th></th><th></th><th></th></tr></thead>\n",
       "<thead><tr><th>str9</th><th>float64</th><th>float64</th><th>float64</th><th>float64</th><th>float64</th><th>float64</th><th>float64</th><th>float64</th><th>float64</th><th>int32</th><th>str10</th><th>int64</th><th>float64</th><th>float32</th><th>float64</th><th>float64</th><th>float32</th><th>float32</th><th>float64</th><th>float64</th><th>float64</th><th>float64</th><th>float64</th><th>float64</th><th>float64</th><th>float64</th><th>float32</th><th>float32</th><th>float32</th><th>SkyCoord</th><th>float64</th><th>float32</th><th>float64</th><th>float32</th><th>float64</th><th>float64</th><th>float32</th><th>float64</th><th>float32</th><th>float64</th><th>float32</th><th>float32</th><th>float32</th><th>float32</th><th>float32</th><th>str1</th><th>str1</th></tr></thead>\n",
       "<tr><td>HD 259991</td><td>98.69055275937</td><td>8.07569472560</td><td>1458.14001000</td><td>--</td><td>13240.0</td><td>21.30802513378318</td><td>2.932337496676566</td><td>--</td><td>--</td><td>--</td><td>733-1687-1</td><td>3326026144355977472</td><td>0.6601</td><td>0.0421</td><td>-1.403</td><td>0.651</td><td>0.039</td><td>0.031</td><td>1.529</td><td>9.317637</td><td>0.329390</td><td>9.419267</td><td>9.089877</td><td>1378.07080000</td><td>1536.19507000</td><td>0.0028</td><td>0.003873</td><td>0.004001</td><td>0.007874</td><td>98.69055275937,8.0756947256,1458.14001</td><td>-1.213</td><td>0.264</td><td>2.834</td><td>0.256</td><td>--</td><td>--</td><td>--</td><td>--</td><td>--</td><td>3530953.30802</td><td>1620</td><td>2.332e+06</td><td>5770</td><td>1.833e+06</td><td>2216</td><td>--</td><td>--</td></tr>\n",
       "</table></div>"
      ],
      "text/plain": [
       "<Table length=1>\n",
       "   Name      RA_ICRS_1       DE_ICRS_1    ...    e_FRP    RAVE5 RAVE6\n",
       "                deg             deg       ...                        \n",
       "   str9       float64         float64     ...   float32    str1  str1\n",
       "--------- --------------- --------------- ... ----------- ----- -----\n",
       "HD 259991  98.69055275937   8.07569472560 ...        2216    --    --"
      ]
     },
     "execution_count": 5,
     "metadata": {},
     "output_type": "execute_result"
    }
   ],
   "source": [
    "cl.runaways()"
   ]
  },
  {
   "cell_type": "code",
   "execution_count": 2,
   "metadata": {},
   "outputs": [
    {
     "data": {
      "text/html": [
       "<div><i>Table length=0</i>\n",
       "<table id=\"table126759315392272\" class=\"table-striped table-bordered table-condensed\">\n",
       "<thead><tr><th>JNAME</th><th>RAJD</th><th>DECJD</th><th>DIST</th><th>DIST_DM</th><th>AGE</th><th>PMRA</th><th>PMDEC</th><th>S400</th><th>ASSOC</th><th>AGE_I</th><th>PX</th><th>P0</th><th>P1</th><th>BSURF</th><th>SkyCoord</th><th>sep2d</th><th>sep3d</th></tr></thead>\n",
       "<thead><tr><th></th><th>deg</th><th>deg</th><th>kpc</th><th>kpc</th><th>yr</th><th>mas / yr</th><th>mas / yr</th><th>mJy</th><th></th><th>yr</th><th>mas</th><th>s</th><th></th><th>G</th><th>deg,deg,kpc</th><th>deg</th><th>kpc</th></tr></thead>\n",
       "<thead><tr><th>str12</th><th>float64</th><th>float64</th><th>float64</th><th>float64</th><th>float64</th><th>float64</th><th>float64</th><th>float64</th><th>str5</th><th>float64</th><th>float64</th><th>float64</th><th>float64</th><th>float64</th><th>SkyCoord</th><th>float64</th><th>float64</th></tr></thead>\n",
       "</table></div>"
      ],
      "text/plain": [
       "<Table length=0>\n",
       "JNAME   RAJD   DECJD    DIST  DIST_DM ...  BSURF    SkyCoord   sep2d   sep3d \n",
       "        deg     deg     kpc     kpc   ...    G    deg,deg,kpc   deg     kpc  \n",
       "str12 float64 float64 float64 float64 ... float64   SkyCoord  float64 float64\n",
       "----- ------- ------- ------- ------- ... ------- ----------- ------- -------"
      ]
     },
     "execution_count": 2,
     "metadata": {},
     "output_type": "execute_result"
    }
   ],
   "source": [
    "cl.psrs()"
   ]
  },
  {
   "cell_type": "code",
   "execution_count": 12,
   "metadata": {},
   "outputs": [],
   "source": [
    "show_annotation_manager(plot_pm)\n"
   ]
  },
  {
   "cell_type": "code",
   "execution_count": 6,
   "metadata": {},
   "outputs": [],
   "source": [
    "# cl.plot_cmd()\n",
    "%run runaway_functionsv3\n",
    "%matplotlib qt\n",
    "cl = Cluster('BH_121')\n",
    "\n",
    "psr_table = cl.psrs()\n",
    "psr_table\n",
    "mask = np.isin(psr_table['JNAME'], [\"J1144-6217\"])\n",
    "psr_table = psr_table[mask]\n",
    "plot_traceback_psr,wcs = cl.plot_traceback_psr(psr_table=psr_table, trace_time=-125*u.kyr)"
   ]
  },
  {
   "cell_type": "code",
   "execution_count": 2,
   "metadata": {},
   "outputs": [
    {
     "data": {
      "text/html": [
       "<div><i>Table length=2</i>\n",
       "<table id=\"table132784166475344\" class=\"table-striped table-bordered table-condensed\">\n",
       "<thead><tr><th>Name</th><th>RA_ICRS_1</th><th>DE_ICRS_1</th><th>rgeo</th><th>Teff</th><th>Temp. Est</th><th>v_pec</th><th>e_v_pec</th><th>v_pec3d</th><th>e_v_pec3d</th><th>HIP</th><th>TYC2</th><th>Source</th><th>Plx</th><th>e_Plx</th><th>pmRA</th><th>pmDE</th><th>e_pmRA</th><th>e_pmDE</th><th>RUWE</th><th>Gmag</th><th>BP-RP</th><th>BPmag</th><th>RPmag</th><th>b_rgeo</th><th>B_rgeo</th><th>e_Gmag</th><th>e_BPmag</th><th>e_RPmag</th><th>e_BP-RP</th><th>SkyCoord</th><th>rmRA</th><th>e_rmRA</th><th>rmDE</th><th>e_rmDE</th><th>logg</th><th>RV</th><th>e_RV</th><th>rRV</th><th>e_rRV</th><th>FG</th><th>e_FG</th><th>FBP</th><th>e_FBP</th><th>FRP</th><th>e_FRP</th><th>RAVE5</th><th>RAVE6</th></tr></thead>\n",
       "<thead><tr><th></th><th>deg</th><th>deg</th><th>pc</th><th>K</th><th>K</th><th>km / s</th><th>km / s</th><th>km / s</th><th>km / s</th><th></th><th></th><th></th><th>mas</th><th>mas</th><th>mas / yr</th><th>mas / yr</th><th>mas / yr</th><th>mas / yr</th><th></th><th>mag</th><th>mag</th><th>mag</th><th>mag</th><th>pc</th><th>pc</th><th></th><th></th><th></th><th></th><th>deg,deg,pc</th><th>mas / yr</th><th>mas / yr</th><th>mas / yr</th><th>mas / yr</th><th>log(cm.s**-2)</th><th>km / s</th><th>km / s</th><th>km / s</th><th>km / s</th><th></th><th></th><th></th><th></th><th></th><th></th><th></th><th></th></tr></thead>\n",
       "<thead><tr><th>str28</th><th>float64</th><th>float64</th><th>float64</th><th>float64</th><th>float64</th><th>float64</th><th>float64</th><th>float64</th><th>float64</th><th>int32</th><th>str11</th><th>int64</th><th>float64</th><th>float32</th><th>float64</th><th>float64</th><th>float32</th><th>float32</th><th>float64</th><th>float64</th><th>float64</th><th>float64</th><th>float64</th><th>float64</th><th>float64</th><th>float64</th><th>float32</th><th>float32</th><th>float32</th><th>SkyCoord</th><th>float64</th><th>float32</th><th>float64</th><th>float32</th><th>float64</th><th>float64</th><th>float32</th><th>float64</th><th>float32</th><th>float64</th><th>float32</th><th>float32</th><th>float32</th><th>float32</th><th>float32</th><th>str1</th><th>str1</th></tr></thead>\n",
       "<tr><td>Gaia DR3 5333582373493259392</td><td>174.25420916697</td><td>-63.51028158943</td><td>2030.28772000</td><td>10472.6</td><td>29200.0</td><td>36.322390643713256</td><td>4.290941600537356</td><td>--</td><td>--</td><td>--</td><td>--</td><td>5333582373493259392</td><td>0.4749</td><td>0.0459</td><td>-9.647</td><td>-0.256</td><td>0.047</td><td>0.046</td><td>1.020</td><td>16.690096</td><td>-0.023376</td><td>16.692854</td><td>16.716230</td><td>1892.54675000</td><td>2207.36768000</td><td>0.002842</td><td>0.004248</td><td>0.008885</td><td>0.01313</td><td>174.25420916697,-63.51028158943,2030.28772</td><td>-3.657</td><td>0.153</td><td>-0.934</td><td>0.152</td><td>4.4974</td><td>--</td><td>--</td><td>--</td><td>--</td><td>3971.07777</td><td>2.547</td><td>2873</td><td>8.473</td><td>1632</td><td>12.09</td><td>--</td><td>--</td></tr>\n",
       "<tr><td>HD 308823</td><td>174.84243990445</td><td>-63.36971443391</td><td>2539.82080000</td><td>15232.7</td><td>16210.0</td><td>48.530542153436116</td><td>32.98228162164111</td><td>--</td><td>--</td><td>--</td><td>--</td><td>5333952049933787520</td><td>1.9973</td><td>0.6318</td><td>-8.848</td><td>-2.165</td><td>0.668</td><td>0.721</td><td>32.069</td><td>11.291941</td><td>0.333353</td><td>11.389230</td><td>11.055877</td><td>1410.14795000</td><td>3852.90039000</td><td>0.002927</td><td>0.002866</td><td>0.003816</td><td>0.006682</td><td>174.84243990445,-63.36971443391,2539.8208</td><td>-2.858</td><td>0.774</td><td>-2.843</td><td>0.827</td><td>3.5354</td><td>--</td><td>--</td><td>--</td><td>--</td><td>573020.91200</td><td>521.3</td><td>3.8e+05</td><td>228.9</td><td>2.998e+05</td><td>146.4</td><td>--</td><td>--</td></tr>\n",
       "</table></div>"
      ],
      "text/plain": [
       "<Table length=2>\n",
       "            Name                RA_ICRS_1       DE_ICRS_1    ... RAVE5 RAVE6\n",
       "                                   deg             deg       ...            \n",
       "           str28                 float64         float64     ...  str1  str1\n",
       "---------------------------- --------------- --------------- ... ----- -----\n",
       "Gaia DR3 5333582373493259392 174.25420916697 -63.51028158943 ...    --    --\n",
       "                   HD 308823 174.84243990445 -63.36971443391 ...    --    --"
      ]
     },
     "execution_count": 2,
     "metadata": {},
     "output_type": "execute_result"
    }
   ],
   "source": [
    "cl.runaways()"
   ]
  },
  {
   "cell_type": "code",
   "execution_count": 7,
   "metadata": {},
   "outputs": [],
   "source": [
    "show_annotation_manager(plot_traceback_psr)"
   ]
  }
 ],
 "metadata": {
  "kernelspec": {
   "display_name": "Python 3",
   "language": "python",
   "name": "python3"
  },
  "language_info": {
   "codemirror_mode": {
    "name": "ipython",
    "version": 3
   },
   "file_extension": ".py",
   "mimetype": "text/x-python",
   "name": "python",
   "nbconvert_exporter": "python",
   "pygments_lexer": "ipython3",
   "version": "3.11.6"
  }
 },
 "nbformat": 4,
 "nbformat_minor": 2
}
