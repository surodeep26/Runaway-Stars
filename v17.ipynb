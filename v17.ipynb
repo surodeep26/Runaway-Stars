{
 "cells": [
  {
   "cell_type": "code",
   "execution_count": 10,
   "metadata": {},
   "outputs": [],
   "source": [
    "%run runaway_functionsv3\n",
    "%matplotlib qt"
   ]
  },
  {
   "cell_type": "code",
   "execution_count": 4,
   "metadata": {},
   "outputs": [],
   "source": [
    "plt.rcParams[\"font.family\"] = \"Palatino\"\n",
    "plt.rcParams[\"font.size\"] = 30"
   ]
  },
  {
   "cell_type": "code",
   "execution_count": 11,
   "metadata": {},
   "outputs": [],
   "source": [
    "cl = Cluster('Trumpler_33')"
   ]
  },
  {
   "cell_type": "code",
   "execution_count": 7,
   "metadata": {},
   "outputs": [
    {
     "data": {
      "text/plain": [
       "<WCSAxesSubplot: >"
      ]
     },
     "execution_count": 7,
     "metadata": {},
     "output_type": "execute_result"
    }
   ],
   "source": [
    "cl.plot_traceback_clean()"
   ]
  },
  {
   "cell_type": "code",
   "execution_count": 12,
   "metadata": {},
   "outputs": [
    {
     "data": {
      "text/plain": [
       "<AxesSubplot: xlabel='$\\\\mu^{*}_{\\\\alpha}$ mas yr$^{-1}$', ylabel='$\\\\mu_{\\\\delta}$ mas yr$^{-1}$'>"
      ]
     },
     "execution_count": 12,
     "metadata": {},
     "output_type": "execute_result"
    }
   ],
   "source": [
    "cl.plot_pm()"
   ]
  },
  {
   "cell_type": "code",
   "execution_count": 18,
   "metadata": {},
   "outputs": [
    {
     "data": {
      "text/html": [
       "<i>Row index=0</i>\n",
       "<table id=\"table134251480960336\">\n",
       "<thead><tr><th>Cluster</th><th>RA_ICRS</th><th>DE_ICRS</th><th>r50</th><th>N</th><th>pmRA</th><th>e_pmRA</th><th>pmDE</th><th>e_pmDE</th><th>Plx</th><th>e_Plx</th><th>RV</th><th>e_RV</th><th>NRV</th><th>Dist</th><th>e_Dist</th><th>logage</th><th>e_logage</th><th>__Fe_H_</th><th>e__Fe_H_</th><th>Av</th><th>e_Av</th><th>FileName</th><th>SimbadName</th><th>_RA.icrs</th><th>_DE.icrs</th></tr></thead>\n",
       "<thead><tr><th></th><th>deg</th><th>deg</th><th>deg</th><th></th><th>mas / yr</th><th>mas / yr</th><th>mas / yr</th><th>mas / yr</th><th>mas</th><th>mas</th><th>km / s</th><th>km / s</th><th></th><th>pc</th><th>pc</th><th>log(yr)</th><th>log(yr)</th><th></th><th></th><th>mag</th><th>mag</th><th></th><th></th><th>deg</th><th>deg</th></tr></thead>\n",
       "<thead><tr><th>str17</th><th>float64</th><th>float64</th><th>float32</th><th>int16</th><th>float32</th><th>float32</th><th>float32</th><th>float32</th><th>float32</th><th>float32</th><th>float64</th><th>float32</th><th>int16</th><th>int16</th><th>int16</th><th>float32</th><th>float32</th><th>float32</th><th>float32</th><th>float32</th><th>float32</th><th>str31</th><th>str31</th><th>float64</th><th>float64</th></tr></thead>\n",
       "<tr><td>BH_121</td><td>174.6628</td><td>-63.3771</td><td>0.132</td><td>100</td><td>-5.990</td><td>0.106</td><td>0.678</td><td>0.106</td><td>0.402</td><td>0.025</td><td>-3.157</td><td>9.535</td><td>8</td><td>2300</td><td>117</td><td>6.864</td><td>0.103</td><td>-0.089</td><td>0.109</td><td>1.281</td><td>0.016</td><td>clusters1/BH_121.dat</td><td>Cl VDBH 121</td><td>174.6629</td><td>-63.3771</td></tr>\n",
       "</table>"
      ],
      "text/plain": [
       "<Row index=0>\n",
       "Cluster RA_ICRS  DE_ICRS    r50     N     pmRA    e_pmRA    pmDE    e_pmDE    Plx    e_Plx     RV      e_RV   NRV   Dist e_Dist  logage e_logage __Fe_H_ e__Fe_H_    Av     e_Av        FileName        SimbadName _RA.icrs _DE.icrs\n",
       "          deg      deg      deg         mas / yr mas / yr mas / yr mas / yr   mas     mas    km / s   km / s         pc    pc   log(yr) log(yr)                     mag     mag                                      deg      deg   \n",
       " str17  float64  float64  float32 int16 float32  float32  float32  float32  float32 float32 float64  float32 int16 int16 int16  float32 float32  float32 float32  float32 float32        str31            str31    float64  float64 \n",
       "------- -------- -------- ------- ----- -------- -------- -------- -------- ------- ------- -------- ------- ----- ----- ------ ------- -------- ------- -------- ------- ------- -------------------- ----------- -------- --------\n",
       " BH_121 174.6628 -63.3771   0.132   100   -5.990    0.106    0.678    0.106   0.402   0.025   -3.157   9.535     8  2300    117   6.864    0.103  -0.089    0.109   1.281   0.016 clusters1/BH_121.dat Cl VDBH 121 174.6629 -63.3771"
      ]
     },
     "metadata": {},
     "output_type": "display_data"
    },
    {
     "data": {
      "text/html": [
       "<div><i>Table length=2</i>\n",
       "<table id=\"table134251516489232\" class=\"table-striped table-bordered table-condensed\">\n",
       "<thead><tr><th>JNAME</th><th>RAJD</th><th>DECJD</th><th>DIST</th><th>DIST_DM</th><th>AGE</th><th>PMRA</th><th>PMDEC</th><th>S400</th><th>ASSOC</th><th>AGE_I</th><th>PX</th><th>P0</th><th>P1</th><th>BSURF</th><th>SkyCoord</th><th>sep2d</th><th>sep3d</th></tr></thead>\n",
       "<thead><tr><th></th><th>deg</th><th>deg</th><th>kpc</th><th>kpc</th><th>yr</th><th>mas / yr</th><th>mas / yr</th><th>mJy</th><th></th><th>yr</th><th>mas</th><th>s</th><th></th><th>G</th><th>deg,deg,kpc</th><th>deg</th><th>kpc</th></tr></thead>\n",
       "<thead><tr><th>str12</th><th>float64</th><th>float64</th><th>float64</th><th>float64</th><th>float64</th><th>float64</th><th>float64</th><th>float64</th><th>str5</th><th>float64</th><th>float64</th><th>float64</th><th>float64</th><th>float64</th><th>SkyCoord</th><th>float64</th><th>float64</th></tr></thead>\n",
       "<tr><td>J1144-6217</td><td>176.00879166666664</td><td>-62.29175</td><td>2.644</td><td>2.644</td><td>437105.00096524967</td><td>--</td><td>--</td><td>--</td><td>--</td><td>--</td><td>--</td><td>0.8506649433737226</td><td>3.0834633974006527e-14</td><td>5182611385717.675</td><td>176.00879166666664,-62.29175,2.644</td><td>1.2471883596449782</td><td>0.34816277304309234</td></tr>\n",
       "<tr><td>J1144-6146</td><td>176.14499999999995</td><td>-61.780277777777776</td><td>1.395</td><td>1.395</td><td>--</td><td>--</td><td>--</td><td>--</td><td>--</td><td>--</td><td>--</td><td>0.987783069335335</td><td>-3.805290029055587e-17</td><td>--</td><td>176.14499999999995,-61.780277777777776,1.395</td><td>1.7364889373644232</td><td>0.9066266678087308</td></tr>\n",
       "</table></div>"
      ],
      "text/plain": [
       "<Table length=2>\n",
       "  JNAME           RAJD        ...       sep2d               sep3d       \n",
       "                  deg         ...        deg                 kpc        \n",
       "  str12         float64       ...      float64             float64      \n",
       "---------- ------------------ ... ------------------ -------------------\n",
       "J1144-6217 176.00879166666664 ... 1.2471883596449782 0.34816277304309234\n",
       "J1144-6146 176.14499999999995 ... 1.7364889373644232  0.9066266678087308"
      ]
     },
     "execution_count": 18,
     "metadata": {},
     "output_type": "execute_result"
    }
   ],
   "source": [
    "cl = Cluster('BH_121')\n",
    "display(cl.all)\n",
    "cl.psrs()"
   ]
  },
  {
   "cell_type": "code",
   "execution_count": 4,
   "metadata": {},
   "outputs": [],
   "source": [
    "%run runaway_functionsv3\n",
    "%matplotlib qt\n",
    "cl = Cluster('BH_121')\n",
    "plot_traceback_clean = cl.plot_traceback_clean()"
   ]
  },
  {
   "cell_type": "code",
   "execution_count": 5,
   "metadata": {},
   "outputs": [],
   "source": [
    "show_annotation_manager(plot_traceback_clean)\n"
   ]
  },
  {
   "cell_type": "code",
   "execution_count": 13,
   "metadata": {},
   "outputs": [],
   "source": [
    "%run runaway_functionsv3\n",
    "%matplotlib qt\n",
    "cl = Cluster('BH_121')\n",
    "\n",
    "plot_cmd = cl.plot_cmd()"
   ]
  },
  {
   "cell_type": "code",
   "execution_count": 14,
   "metadata": {},
   "outputs": [],
   "source": [
    "show_annotation_manager(plot_cmd)"
   ]
  },
  {
   "cell_type": "code",
   "execution_count": 25,
   "metadata": {},
   "outputs": [],
   "source": [
    "%run runaway_functionsv3\n",
    "%matplotlib qt\n",
    "cl = Cluster('Basel_8')\n",
    "cld = ClusterDias(\"Basel_8\")\n",
    "# plot_pm = cl.plot_pm()"
   ]
  },
  {
   "cell_type": "code",
   "execution_count": null,
   "metadata": {},
   "outputs": [],
   "source": []
  },
  {
   "cell_type": "code",
   "execution_count": 7,
   "metadata": {},
   "outputs": [
    {
     "data": {
      "text/html": [
       "<i>Row index=0</i>\n",
       "<table id=\"table124450709264464\">\n",
       "<thead><tr><th>Cluster</th><th>RA_ICRS</th><th>DE_ICRS</th><th>r50</th><th>N</th><th>pmRA</th><th>e_pmRA</th><th>pmDE</th><th>e_pmDE</th><th>Plx</th><th>e_Plx</th><th>RV</th><th>e_RV</th><th>NRV</th><th>Dist</th><th>e_Dist</th><th>logage</th><th>e_logage</th><th>__Fe_H_</th><th>e__Fe_H_</th><th>Av</th><th>e_Av</th><th>FileName</th><th>SimbadName</th><th>_RA.icrs</th><th>_DE.icrs</th></tr></thead>\n",
       "<thead><tr><th></th><th>deg</th><th>deg</th><th>deg</th><th></th><th>mas / yr</th><th>mas / yr</th><th>mas / yr</th><th>mas / yr</th><th>mas</th><th>mas</th><th>km / s</th><th>km / s</th><th></th><th>pc</th><th>pc</th><th>log(yr)</th><th>log(yr)</th><th></th><th></th><th>mag</th><th>mag</th><th></th><th></th><th>deg</th><th>deg</th></tr></thead>\n",
       "<thead><tr><th>str17</th><th>float64</th><th>float64</th><th>float32</th><th>int16</th><th>float32</th><th>float32</th><th>float32</th><th>float32</th><th>float32</th><th>float32</th><th>float64</th><th>float32</th><th>int16</th><th>int16</th><th>int16</th><th>float32</th><th>float32</th><th>float32</th><th>float32</th><th>float32</th><th>float32</th><th>str31</th><th>str31</th><th>float64</th><th>float64</th></tr></thead>\n",
       "<tr><td>Basel_8</td><td>98.5582</td><td>8.0381</td><td>0.299</td><td>39</td><td>-0.177</td><td>0.132</td><td>-2.360</td><td>0.132</td><td>0.664</td><td>0.036</td><td>22.527</td><td>4.994</td><td>4</td><td>1429</td><td>66</td><td>7.671</td><td>0.236</td><td>0.028</td><td>0.064</td><td>1.083</td><td>0.079</td><td>clusters1/Basel_8.dat</td><td>Cl Basel 8</td><td>98.5582</td><td>8.0381</td></tr>\n",
       "</table>"
      ],
      "text/plain": [
       "<Row index=0>\n",
       "Cluster RA_ICRS  DE_ICRS    r50     N     pmRA    e_pmRA    pmDE    e_pmDE    Plx    e_Plx     RV      e_RV   NRV   Dist e_Dist  logage e_logage __Fe_H_ e__Fe_H_    Av     e_Av         FileName       SimbadName _RA.icrs _DE.icrs\n",
       "          deg      deg      deg         mas / yr mas / yr mas / yr mas / yr   mas     mas    km / s   km / s         pc    pc   log(yr) log(yr)                     mag     mag                                      deg      deg   \n",
       " str17  float64  float64  float32 int16 float32  float32  float32  float32  float32 float32 float64  float32 int16 int16 int16  float32 float32  float32 float32  float32 float32         str31           str31    float64  float64 \n",
       "------- -------- -------- ------- ----- -------- -------- -------- -------- ------- ------- -------- ------- ----- ----- ------ ------- -------- ------- -------- ------- ------- --------------------- ---------- -------- --------\n",
       "Basel_8  98.5582   8.0381   0.299    39   -0.177    0.132   -2.360    0.132   0.664   0.036   22.527   4.994     4  1429     66   7.671    0.236   0.028    0.064   1.083   0.079 clusters1/Basel_8.dat Cl Basel 8  98.5582   8.0381"
      ]
     },
     "execution_count": 7,
     "metadata": {},
     "output_type": "execute_result"
    }
   ],
   "source": [
    "cl.all"
   ]
  },
  {
   "cell_type": "code",
   "execution_count": 24,
   "metadata": {},
   "outputs": [
    {
     "data": {
      "text/html": [
       "<div><i>Table length=39</i>\n",
       "<table id=\"table124450707623056\" class=\"table-striped table-bordered table-condensed\">\n",
       "<thead><tr><th>RA_ICRS_1</th><th>DE_ICRS_1</th><th>e_RA_ICRS</th><th>e_DE_ICRS</th><th>_r_1</th><th>HIP</th><th>TYC2</th><th>Source</th><th>rgeo</th><th>Plx</th><th>e_Plx</th><th>pmRA</th><th>pmDE</th><th>e_pmRA</th><th>e_pmDE</th><th>RUWE</th><th>Teff</th><th>logg</th><th>Gmag</th><th>BP-RP</th><th>BPmag</th><th>RPmag</th><th>RV</th><th>e_RV</th><th>b_rgeo</th><th>B_rgeo</th><th>FG</th><th>e_FG</th><th>FBP</th><th>e_FBP</th><th>FRP</th><th>e_FRP</th><th>RAVE5</th><th>RAVE6</th><th>e_Gmag</th><th>e_BPmag</th><th>e_RPmag</th><th>e_BP-RP</th><th>SkyCoord</th><th>rmRA</th><th>rmDE</th><th>e_rmRA</th><th>e_rmDE</th><th>rRV</th><th>e_rRV</th><th>v_pec</th><th>v_pec3d</th><th>e_v_pec</th><th>e_v_pec3d</th><th>v_trans_upper</th><th>v_trans_lower</th><th>Pmemb</th></tr></thead>\n",
       "<thead><tr><th>deg</th><th>deg</th><th>mas</th><th>mas</th><th></th><th></th><th></th><th></th><th>pc</th><th>mas</th><th>mas</th><th>mas / yr</th><th>mas / yr</th><th>mas / yr</th><th>mas / yr</th><th></th><th>K</th><th>log(cm.s**-2)</th><th>mag</th><th>mag</th><th>mag</th><th>mag</th><th>km / s</th><th>km / s</th><th>pc</th><th>pc</th><th></th><th></th><th></th><th></th><th></th><th></th><th></th><th></th><th></th><th></th><th></th><th></th><th>deg,deg,pc</th><th>mas / yr</th><th>mas / yr</th><th>mas / yr</th><th>mas / yr</th><th>km / s</th><th>km / s</th><th>km / s</th><th>km / s</th><th>km / s</th><th>km / s</th><th>km / s</th><th>km / s</th><th></th></tr></thead>\n",
       "<thead><tr><th>float64</th><th>float64</th><th>float64</th><th>float64</th><th>float64</th><th>int32</th><th>str10</th><th>int64</th><th>float64</th><th>float64</th><th>float32</th><th>float64</th><th>float64</th><th>float32</th><th>float32</th><th>float64</th><th>float64</th><th>float64</th><th>float64</th><th>float64</th><th>float64</th><th>float64</th><th>float64</th><th>float32</th><th>float64</th><th>float64</th><th>float64</th><th>float32</th><th>float32</th><th>float32</th><th>float32</th><th>float32</th><th>str1</th><th>str1</th><th>float64</th><th>float32</th><th>float32</th><th>float32</th><th>SkyCoord</th><th>float64</th><th>float64</th><th>float32</th><th>float32</th><th>float64</th><th>float32</th><th>float64</th><th>float64</th><th>float64</th><th>float64</th><th>float64</th><th>float64</th><th>float64</th></tr></thead>\n",
       "<tr><td>98.38429327278</td><td>8.33557580226</td><td>0.0298</td><td>0.0279</td><td>20.6218</td><td>--</td><td>733-1218-1</td><td>3326048448124872320</td><td>1517.70947000</td><td>0.6283</td><td>0.0363</td><td>-0.760</td><td>-1.057</td><td>0.035</td><td>0.028</td><td>1.363</td><td>32036.6</td><td>3.9984</td><td>8.432107</td><td>0.337074</td><td>8.528219</td><td>8.191145</td><td>--</td><td>--</td><td>1442.38904000</td><td>1621.94727000</td><td>7981856.09929</td><td>1.935e+04</td><td>5.298e+06</td><td>4.473e+04</td><td>4.195e+06</td><td>3.635e+04</td><td>--</td><td>--</td><td>0.00381</td><td>0.009581</td><td>0.01014</td><td>0.01972</td><td>98.38429327278,8.33557580226,1517.70947</td><td>-0.570</td><td>1.126</td><td>0.260</td><td>0.253</td><td>--</td><td>--</td><td>9.081153222849567</td><td>--</td><td>2.36655530497063</td><td>--</td><td>9.704855882761644</td><td>8.630476476633497</td><td>1.0</td></tr>\n",
       "<tr><td>98.43090368146</td><td>8.03609931848</td><td>0.0198</td><td>0.0178</td><td>7.5641</td><td>--</td><td>733-1509-1</td><td>3326022227346760960</td><td>1449.17725000</td><td>0.6610</td><td>0.0212</td><td>-0.156</td><td>-2.295</td><td>0.022</td><td>0.020</td><td>0.974</td><td>28961.7</td><td>4.1198</td><td>9.473382</td><td>0.265718</td><td>9.541899</td><td>9.276180</td><td>--</td><td>--</td><td>1411.19690000</td><td>1487.81091000</td><td>3059102.98953</td><td>5309</td><td>2.083e+06</td><td>1.059e+04</td><td>1.544e+06</td><td>1.024e+04</td><td>--</td><td>--</td><td>0.003338</td><td>0.006184</td><td>0.008134</td><td>0.01432</td><td>98.43090368146,8.03609931848,1449.17725</td><td>0.034</td><td>-0.112</td><td>0.247</td><td>0.245</td><td>--</td><td>--</td><td>0.8024406149654211</td><td>--</td><td>1.7042371749493928</td><td>--</td><td>0.8238329035131229</td><td>0.7814100782173442</td><td>0.5</td></tr>\n",
       "<tr><td>98.55031962528</td><td>7.98752507297</td><td>0.0259</td><td>0.0256</td><td>3.0701</td><td>--</td><td>733-1512-1</td><td>3326023842254469120</td><td>1409.47327000</td><td>0.6747</td><td>0.0338</td><td>-0.049</td><td>-2.251</td><td>0.033</td><td>0.026</td><td>1.305</td><td>11353.8</td><td>3.4433</td><td>9.743308</td><td>0.202579</td><td>9.800635</td><td>9.598057</td><td>19.20</td><td>6.03</td><td>1354.19275000</td><td>1463.96838000</td><td>2385742.02510</td><td>856.2</td><td>1.641e+06</td><td>1297</td><td>1.148e+06</td><td>614.7</td><td>--</td><td>--</td><td>0.002783</td><td>0.002919</td><td>0.003824</td><td>0.006743</td><td>98.55031962528,7.98752507297,1409.47327</td><td>0.141</td><td>-0.068</td><td>0.258</td><td>0.251</td><td>-0.05</td><td>15.58</td><td>1.0432140600484652</td><td>1.04</td><td>1.7545418123058067</td><td>0.79</td><td>1.0835483226172669</td><td>1.0022984804924298</td><td>1.0</td></tr>\n",
       "<tr><td>98.54280659793</td><td>8.01548029419</td><td>0.0200</td><td>0.0188</td><td>1.6365</td><td>--</td><td>733-2010-1</td><td>3326024155790212864</td><td>1360.12134000</td><td>0.7124</td><td>0.0244</td><td>-0.022</td><td>-2.286</td><td>0.025</td><td>0.019</td><td>1.132</td><td>11785.6</td><td>3.7043</td><td>10.757772</td><td>0.207402</td><td>10.821506</td><td>10.614104</td><td>23.05</td><td>6.95</td><td>1318.00342000</td><td>1400.75793000</td><td>937212.31481</td><td>296.9</td><td>6.409e+05</td><td>439.4</td><td>4.503e+05</td><td>137</td><td>--</td><td>--</td><td>0.002777</td><td>0.002888</td><td>0.003794</td><td>0.006682</td><td>98.54280659793,8.01548029419,1360.12134</td><td>0.168</td><td>-0.103</td><td>0.250</td><td>0.244</td><td>3.80</td><td>16.50</td><td>1.267964492813111</td><td>4.01</td><td>1.638845077633688</td><td>15.65</td><td>1.3058476961080496</td><td>1.2287003290208254</td><td>0.6</td></tr>\n",
       "<tr><td>98.54082660573</td><td>8.01212878661</td><td>0.0194</td><td>0.0180</td><td>1.8691</td><td>--</td><td>733-2228-1</td><td>3326024117132373632</td><td>1445.86487000</td><td>0.6384</td><td>0.0232</td><td>-0.182</td><td>-2.405</td><td>0.024</td><td>0.021</td><td>1.032</td><td>--</td><td>--</td><td>11.888272</td><td>0.294881</td><td>11.986523</td><td>11.691642</td><td>--</td><td>--</td><td>1405.83179000</td><td>1494.29736000</td><td>330855.23367</td><td>85.93</td><td>2.192e+05</td><td>175.4</td><td>1.669e+05</td><td>94.7</td><td>--</td><td>--</td><td>0.00277</td><td>0.002922</td><td>0.003829</td><td>0.006752</td><td>98.54082660573,8.01212878661,1445.86487</td><td>0.008</td><td>-0.222</td><td>0.249</td><td>0.246</td><td>--</td><td>--</td><td>1.5214955538026569</td><td>--</td><td>1.7314633388133778</td><td>--</td><td>1.5724614633586387</td><td>1.4793684128167732</td><td>0.8</td></tr>\n",
       "<tr><td>98.25940680740</td><td>8.26339737485</td><td>0.0123</td><td>0.0114</td><td>22.3090</td><td>--</td><td>--</td><td>3326233883335142272</td><td>1458.16028000</td><td>0.6403</td><td>0.0144</td><td>-0.163</td><td>-2.252</td><td>0.015</td><td>0.013</td><td>1.048</td><td>9479.7</td><td>4.0288</td><td>13.176086</td><td>0.397998</td><td>13.315675</td><td>12.917677</td><td>--</td><td>--</td><td>1425.87000000</td><td>1485.75073000</td><td>101044.40321</td><td>54.25</td><td>6.444e+04</td><td>51.71</td><td>5.396e+04</td><td>47.61</td><td>--</td><td>--</td><td>0.002816</td><td>0.002923</td><td>0.003899</td><td>0.006822</td><td>98.2594068074,8.26339737485,1458.16028</td><td>0.027</td><td>-0.069</td><td>0.240</td><td>0.238</td><td>--</td><td>--</td><td>0.5103728343676737</td><td>--</td><td>1.6562102215221182</td><td>--</td><td>0.5200298085433654</td><td>0.4990708657486094</td><td>0.6</td></tr>\n",
       "<tr><td>98.47991490921</td><td>8.04956098629</td><td>0.0149</td><td>0.0133</td><td>4.7019</td><td>--</td><td>--</td><td>3326028175879616256</td><td>1452.00476000</td><td>0.6440</td><td>0.0172</td><td>-0.121</td><td>-2.316</td><td>0.019</td><td>0.016</td><td>1.081</td><td>9561.1</td><td>4.0650</td><td>13.194690</td><td>0.412356</td><td>13.343504</td><td>12.931148</td><td>--</td><td>--</td><td>1423.29114000</td><td>1486.77441000</td><td>99327.79055</td><td>60.73</td><td>6.281e+04</td><td>46.62</td><td>5.33e+04</td><td>36.04</td><td>--</td><td>--</td><td>0.002834</td><td>0.002904</td><td>0.00385</td><td>0.006754</td><td>98.47991490921,8.04956098629,1452.00476</td><td>0.069</td><td>-0.133</td><td>0.244</td><td>0.241</td><td>--</td><td>--</td><td>1.029277061512286</td><td>--</td><td>1.6845044438783172</td><td>--</td><td>1.0539240903428324</td><td>1.0089229475085684</td><td>0.8</td></tr>\n",
       "<tr><td>98.23996360999</td><td>8.18837515682</td><td>0.0134</td><td>0.0135</td><td>20.9438</td><td>--</td><td>--</td><td>3326039995629272704</td><td>1423.13611000</td><td>0.6586</td><td>0.0172</td><td>-0.123</td><td>-2.384</td><td>0.016</td><td>0.014</td><td>1.083</td><td>--</td><td>--</td><td>13.232863</td><td>0.393890</td><td>13.370902</td><td>12.977012</td><td>--</td><td>--</td><td>1393.76245000</td><td>1460.23438000</td><td>95896.18711</td><td>37.01</td><td>6.124e+04</td><td>92.7</td><td>5.109e+04</td><td>74.14</td><td>--</td><td>--</td><td>0.002787</td><td>0.003238</td><td>0.004095</td><td>0.007333</td><td>98.23996360999,8.18837515682,1423.13611</td><td>0.067</td><td>-0.201</td><td>0.241</td><td>0.239</td><td>--</td><td>--</td><td>1.427623224248796</td><td>--</td><td>1.645869387549482</td><td>--</td><td>1.4648384642102446</td><td>1.3981569497986397</td><td>0.7</td></tr>\n",
       "<tr><td>98.45070932539</td><td>8.00018523159</td><td>0.0165</td><td>0.0150</td><td>6.7797</td><td>--</td><td>--</td><td>3326021303931980544</td><td>1476.80347000</td><td>0.6390</td><td>0.0189</td><td>-0.011</td><td>-2.562</td><td>0.019</td><td>0.015</td><td>1.188</td><td>9433.8</td><td>4.0043</td><td>13.289701</td><td>0.458727</td><td>13.459631</td><td>13.000904</td><td>--</td><td>--</td><td>1425.65112000</td><td>1523.96021000</td><td>91005.23324</td><td>54.56</td><td>5.644e+04</td><td>54.33</td><td>4.998e+04</td><td>36.64</td><td>--</td><td>--</td><td>0.002831</td><td>0.00298</td><td>0.003862</td><td>0.006842</td><td>98.45070932539,8.00018523159,1476.80347</td><td>0.179</td><td>-0.379</td><td>0.244</td><td>0.240</td><td>--</td><td>--</td><td>2.932119176514463</td><td>--</td><td>1.7816659082517854</td><td>--</td><td>3.025746517230223</td><td>2.830558752662818</td><td>0.5</td></tr>\n",
       "<tr><td>...</td><td>...</td><td>...</td><td>...</td><td>...</td><td>...</td><td>...</td><td>...</td><td>...</td><td>...</td><td>...</td><td>...</td><td>...</td><td>...</td><td>...</td><td>...</td><td>...</td><td>...</td><td>...</td><td>...</td><td>...</td><td>...</td><td>...</td><td>...</td><td>...</td><td>...</td><td>...</td><td>...</td><td>...</td><td>...</td><td>...</td><td>...</td><td>...</td><td>...</td><td>...</td><td>...</td><td>...</td><td>...</td><td>...</td><td>...</td><td>...</td><td>...</td><td>...</td><td>...</td><td>...</td><td>...</td><td>...</td><td>...</td><td>...</td><td>...</td><td>...</td><td>...</td></tr>\n",
       "<tr><td>98.24454758674</td><td>8.31487809120</td><td>0.0295</td><td>0.0282</td><td>24.9560</td><td>--</td><td>--</td><td>3326235124583953024</td><td>1350.09131000</td><td>0.7037</td><td>0.0356</td><td>-0.143</td><td>-2.324</td><td>0.035</td><td>0.029</td><td>1.018</td><td>6085.7</td><td>4.3650</td><td>15.458742</td><td>1.038140</td><td>15.888773</td><td>14.850633</td><td>--</td><td>--</td><td>1285.37537000</td><td>1427.07764000</td><td>12343.82570</td><td>5.489</td><td>6024</td><td>25.96</td><td>9097</td><td>17.55</td><td>--</td><td>--</td><td>0.002797</td><td>0.005447</td><td>0.004321</td><td>0.009768</td><td>98.24454758674,8.3148780912,1350.09131</td><td>0.047</td><td>-0.141</td><td>0.260</td><td>0.254</td><td>--</td><td>--</td><td>0.9496130918997572</td><td>--</td><td>1.6781467494433713</td><td>--</td><td>1.0037629307468163</td><td>0.9040938715156194</td><td>0.8</td></tr>\n",
       "<tr><td>98.48927492748</td><td>8.12575680993</td><td>0.0400</td><td>0.0386</td><td>6.6658</td><td>--</td><td>--</td><td>3326029069232772352</td><td>1474.55920000</td><td>0.6415</td><td>0.0451</td><td>-0.167</td><td>-2.397</td><td>0.045</td><td>0.038</td><td>1.069</td><td>5818.7</td><td>4.4425</td><td>15.635324</td><td>1.015034</td><td>16.058455</td><td>15.043421</td><td>--</td><td>--</td><td>1393.10876000</td><td>1558.69641000</td><td>10491.00659</td><td>7.418</td><td>5153</td><td>22.91</td><td>7617</td><td>20.33</td><td>--</td><td>--</td><td>0.00286</td><td>0.005576</td><td>0.004763</td><td>0.01034</td><td>98.48927492748,8.12575680993,1474.5592</td><td>0.023</td><td>-0.214</td><td>0.270</td><td>0.263</td><td>--</td><td>--</td><td>1.503201050694958</td><td>--</td><td>1.9221010412647834</td><td>--</td><td>1.588972542592023</td><td>1.4201685166416853</td><td>0.5</td></tr>\n",
       "<tr><td>98.64151941861</td><td>7.94908844256</td><td>0.0346</td><td>0.0370</td><td>7.2817</td><td>--</td><td>--</td><td>3325975880357798016</td><td>1440.24756000</td><td>0.6696</td><td>0.0445</td><td>-0.091</td><td>-2.419</td><td>0.040</td><td>0.034</td><td>0.911</td><td>5454.4</td><td>4.3138</td><td>15.674551</td><td>1.150412</td><td>16.150890</td><td>15.000479</td><td>--</td><td>--</td><td>1360.50305000</td><td>1538.63452000</td><td>10118.74099</td><td>4.752</td><td>4732</td><td>22.07</td><td>7924</td><td>25.38</td><td>--</td><td>--</td><td>0.002802</td><td>0.005781</td><td>0.005136</td><td>0.01092</td><td>98.64151941861,7.94908844256,1440.24756</td><td>0.099</td><td>-0.236</td><td>0.265</td><td>0.259</td><td>--</td><td>--</td><td>1.7453577383034364</td><td>--</td><td>1.881183758898886</td><td>--</td><td>1.8645875476454852</td><td>1.6487197008706802</td><td>0.6</td></tr>\n",
       "<tr><td>98.96918653743</td><td>7.86427277350</td><td>0.0340</td><td>0.0300</td><td>26.5554</td><td>--</td><td>--</td><td>3325960551615899008</td><td>1312.79199000</td><td>0.7271</td><td>0.0357</td><td>-0.252</td><td>-2.672</td><td>0.043</td><td>0.037</td><td>1.011</td><td>5986.4</td><td>4.3157</td><td>15.725107</td><td>1.283505</td><td>16.283976</td><td>15.000470</td><td>--</td><td>--</td><td>1243.77307000</td><td>1380.41797000</td><td>9658.36929</td><td>4.783</td><td>4186</td><td>17.37</td><td>7924</td><td>25.4</td><td>--</td><td>--</td><td>0.002807</td><td>0.0053</td><td>0.005137</td><td>0.01044</td><td>98.96918653743,7.8642727735,1312.79199</td><td>-0.062</td><td>-0.489</td><td>0.268</td><td>0.262</td><td>--</td><td>--</td><td>3.0667511046695064</td><td>--</td><td>1.7895918797047583</td><td>--</td><td>3.22472894917887</td><td>2.905519279090577</td><td>0.6</td></tr>\n",
       "<tr><td>98.27543859918</td><td>8.45723609326</td><td>0.0420</td><td>0.0374</td><td>30.2386</td><td>--</td><td>--</td><td>3326241274977025408</td><td>1311.09607000</td><td>0.7289</td><td>0.0443</td><td>-0.220</td><td>-2.343</td><td>0.050</td><td>0.041</td><td>0.911</td><td>5074.0</td><td>4.4768</td><td>15.870332</td><td>1.112720</td><td>16.343000</td><td>15.230281</td><td>--</td><td>--</td><td>1242.79504000</td><td>1380.20654000</td><td>8449.17225</td><td>4.865</td><td>3965</td><td>19.41</td><td>6413</td><td>20.1</td><td>--</td><td>--</td><td>0.002825</td><td>0.006003</td><td>0.005086</td><td>0.01109</td><td>98.27543859918,8.45723609326,1311.09607</td><td>-0.030</td><td>-0.160</td><td>0.275</td><td>0.266</td><td>--</td><td>--</td><td>1.0113316094027578</td><td>--</td><td>1.7071133012390092</td><td>--</td><td>1.0646409011098716</td><td>0.9586466901399259</td><td>0.6</td></tr>\n",
       "<tr><td>98.45294123668</td><td>8.40652628208</td><td>0.0427</td><td>0.0375</td><td>22.9727</td><td>--</td><td>--</td><td>3326330575937320064</td><td>1355.47107000</td><td>0.6955</td><td>0.0504</td><td>-0.306</td><td>-2.742</td><td>0.049</td><td>0.040</td><td>0.991</td><td>--</td><td>--</td><td>15.974090</td><td>1.085236</td><td>16.433403</td><td>15.348166</td><td>--</td><td>--</td><td>1269.00464000</td><td>1449.38293000</td><td>7679.10775</td><td>6.709</td><td>3648</td><td>17.66</td><td>5753</td><td>15.81</td><td>--</td><td>--</td><td>0.002914</td><td>0.00595</td><td>0.004815</td><td>0.01077</td><td>98.45294123668,8.40652628208,1355.47107</td><td>-0.116</td><td>-0.559</td><td>0.274</td><td>0.265</td><td>--</td><td>--</td><td>3.6677554485319632</td><td>--</td><td>1.9481127134117913</td><td>--</td><td>3.9218705999507026</td><td>3.4337868107892136</td><td>0.7</td></tr>\n",
       "<tr><td>98.40189083713</td><td>7.95313980163</td><td>0.0461</td><td>0.0427</td><td>10.5946</td><td>--</td><td>--</td><td>3326019276707461760</td><td>1344.24561000</td><td>0.7309</td><td>0.0549</td><td>-0.086</td><td>-2.284</td><td>0.051</td><td>0.041</td><td>0.946</td><td>4771.0</td><td>4.3426</td><td>16.201788</td><td>1.117887</td><td>16.679533</td><td>15.561646</td><td>--</td><td>--</td><td>1243.91431000</td><td>1459.78198000</td><td>6226.31780</td><td>5.37</td><td>2908</td><td>28.16</td><td>4726</td><td>13.93</td><td>--</td><td>--</td><td>0.00291</td><td>0.01088</td><td>0.004952</td><td>0.01583</td><td>98.40189083713,7.95313980163,1344.24561</td><td>0.104</td><td>-0.101</td><td>0.276</td><td>0.266</td><td>--</td><td>--</td><td>0.9214557750368554</td><td>--</td><td>1.8009037348170667</td><td>--</td><td>1.0006538431364007</td><td>0.8526805042721954</td><td>0.7</td></tr>\n",
       "<tr><td>98.88457593757</td><td>8.05836015159</td><td>0.0454</td><td>0.0417</td><td>19.4274</td><td>--</td><td>--</td><td>3326071464853899776</td><td>1526.83923000</td><td>0.6267</td><td>0.0499</td><td>-0.166</td><td>-2.248</td><td>0.058</td><td>0.055</td><td>1.006</td><td>5597.1</td><td>4.5476</td><td>16.264492</td><td>1.267405</td><td>16.823486</td><td>15.556082</td><td>--</td><td>--</td><td>1411.98657000</td><td>1659.92859000</td><td>5876.91836</td><td>3.922</td><td>2547</td><td>18.27</td><td>4750</td><td>15.9</td><td>--</td><td>--</td><td>0.002849</td><td>0.008273</td><td>0.005243</td><td>0.01352</td><td>98.88457593757,8.05836015159,1526.83923</td><td>0.024</td><td>-0.065</td><td>0.283</td><td>0.280</td><td>--</td><td>--</td><td>0.4996775455164896</td><td>--</td><td>2.068443929375466</td><td>--</td><td>0.5432327302618806</td><td>0.46209055265094745</td><td>0.7</td></tr>\n",
       "<tr><td>98.40426423219</td><td>8.20239755076</td><td>0.0502</td><td>0.0501</td><td>13.4460</td><td>--</td><td>--</td><td>3326042263371980288</td><td>1447.73010000</td><td>0.6725</td><td>0.0646</td><td>0.016</td><td>-2.435</td><td>0.065</td><td>0.051</td><td>1.056</td><td>5186.4</td><td>4.6851</td><td>16.487823</td><td>1.176759</td><td>16.995525</td><td>15.818767</td><td>--</td><td>--</td><td>1313.03174000</td><td>1577.34607000</td><td>4784.29135</td><td>4.422</td><td>2174</td><td>14.95</td><td>3730</td><td>13.34</td><td>--</td><td>--</td><td>0.002932</td><td>0.007971</td><td>0.005418</td><td>0.01339</td><td>98.40426423219,8.20239755076,1447.7301</td><td>0.206</td><td>-0.252</td><td>0.290</td><td>0.276</td><td>--</td><td>--</td><td>2.231258843418906</td><td>--</td><td>2.1356104667440885</td><td>--</td><td>2.43102451749781</td><td>2.0236601294431282</td><td>0.8</td></tr>\n",
       "<tr><td>98.77803258341</td><td>7.98223723146</td><td>0.0634</td><td>0.0597</td><td>13.4840</td><td>--</td><td>--</td><td>3325976979869354496</td><td>1376.23999000</td><td>0.7190</td><td>0.0682</td><td>-0.324</td><td>-2.534</td><td>0.070</td><td>0.064</td><td>1.009</td><td>4698.7</td><td>4.5428</td><td>16.668604</td><td>1.363182</td><td>17.290012</td><td>15.926830</td><td>--</td><td>--</td><td>1265.71155000</td><td>1513.26501000</td><td>4050.47076</td><td>3.83</td><td>1657</td><td>8.315</td><td>3376</td><td>17.81</td><td>--</td><td>--</td><td>0.00294</td><td>0.00612</td><td>0.006861</td><td>0.01298</td><td>98.77803258341,7.98223723146,1376.23999</td><td>-0.134</td><td>-0.351</td><td>0.295</td><td>0.289</td><td>--</td><td>--</td><td>2.4510014009207133</td><td>--</td><td>2.109753038548174</td><td>--</td><td>2.695034795111787</td><td>2.2541568365641864</td><td>0.6</td></tr>\n",
       "</table></div>"
      ],
      "text/plain": [
       "<Table length=39>\n",
       "   RA_ICRS_1       DE_ICRS_1    e_RA_ICRS ...    v_trans_lower     Pmemb \n",
       "      deg             deg          mas    ...        km / s              \n",
       "    float64         float64      float64  ...       float64       float64\n",
       "--------------- --------------- --------- ... ------------------- -------\n",
       " 98.38429327278   8.33557580226    0.0298 ...   8.630476476633497     1.0\n",
       " 98.43090368146   8.03609931848    0.0198 ...  0.7814100782173442     0.5\n",
       " 98.55031962528   7.98752507297    0.0259 ...  1.0022984804924298     1.0\n",
       " 98.54280659793   8.01548029419    0.0200 ...  1.2287003290208254     0.6\n",
       " 98.54082660573   8.01212878661    0.0194 ...  1.4793684128167732     0.8\n",
       " 98.25940680740   8.26339737485    0.0123 ...  0.4990708657486094     0.6\n",
       " 98.47991490921   8.04956098629    0.0149 ...  1.0089229475085684     0.8\n",
       " 98.23996360999   8.18837515682    0.0134 ...  1.3981569497986397     0.7\n",
       " 98.45070932539   8.00018523159    0.0165 ...   2.830558752662818     0.5\n",
       "            ...             ...       ... ...                 ...     ...\n",
       " 98.24454758674   8.31487809120    0.0295 ...  0.9040938715156194     0.8\n",
       " 98.48927492748   8.12575680993    0.0400 ...  1.4201685166416853     0.5\n",
       " 98.64151941861   7.94908844256    0.0346 ...  1.6487197008706802     0.6\n",
       " 98.96918653743   7.86427277350    0.0340 ...   2.905519279090577     0.6\n",
       " 98.27543859918   8.45723609326    0.0420 ...  0.9586466901399259     0.6\n",
       " 98.45294123668   8.40652628208    0.0427 ...  3.4337868107892136     0.7\n",
       " 98.40189083713   7.95313980163    0.0461 ...  0.8526805042721954     0.7\n",
       " 98.88457593757   8.05836015159    0.0454 ... 0.46209055265094745     0.7\n",
       " 98.40426423219   8.20239755076    0.0502 ...  2.0236601294431282     0.8\n",
       " 98.77803258341   7.98223723146    0.0634 ...  2.2541568365641864     0.6"
      ]
     },
     "execution_count": 24,
     "metadata": {},
     "output_type": "execute_result"
    }
   ],
   "source": [
    "cl.mymembers"
   ]
  },
  {
   "cell_type": "code",
   "execution_count": 27,
   "metadata": {},
   "outputs": [
    {
     "name": "stdout",
     "output_type": "stream",
     "text": [
      "\\begin{table}[h]\n",
      "\\fontsize{11pt}{11pt}\\selectfont\n",
      "\\caption{Selected members of Basel 8\\label{tab:Basel_8_members}}\n",
      "\\resizebox{\\textwidth}{!}{\\begin{tabular}{cccccc}\n",
      "\\toprule\n",
      "Gaia DR3 Source & $r_{\\text{geo}}$ & $G$ & $\\mu_{\\alpha}^*$ & $\\mu_{\\delta}$ & $G_{\\text{BP}}-G_{\\text{RP}}$ \\\\\n",
      " & pc & mag & mas/yr & mas/yr & mag \\\\\n",
      "\\midrule\n",
      "3326048448124872320 & $1518^{+104}_{-75}$ & $8.432\\pm0.004$ & $-0.76\\pm0.04$ & $0.03\\pm0.03$ & $0.337\\pm0.020$ \\\\\n",
      "3326022227346760960 & $1449^{+39}_{-38}$ & $9.473\\pm0.003$ & $-0.16\\pm0.02$ & $0.02\\pm0.02$ & $0.266\\pm0.014$ \\\\\n",
      "3326023842254469120 & $1409^{+54}_{-55}$ & $9.743\\pm0.003$ & $-0.05\\pm0.03$ & $0.03\\pm0.03$ & $0.203\\pm0.007$ \\\\\n",
      "3326024155790212864 & $1360^{+41}_{-42}$ & $10.758\\pm0.003$ & $-0.02\\pm0.03$ & $0.02\\pm0.02$ & $0.207\\pm0.007$ \\\\\n",
      "3326024117132373632 & $1446^{+48}_{-40}$ & $11.888\\pm0.003$ & $-0.18\\pm0.02$ & $0.02\\pm0.02$ & $0.295\\pm0.007$ \\\\\n",
      "3326233883335142272 & $1458^{+28}_{-32}$ & $13.176\\pm0.003$ & $-0.16\\pm0.01$ & $0.01\\pm0.01$ & $0.398\\pm0.007$ \\\\\n",
      "3326028175879616256 & $1452^{+35}_{-29}$ & $13.195\\pm0.003$ & $-0.12\\pm0.02$ & $0.02\\pm0.02$ & $0.412\\pm0.007$ \\\\\n",
      "3326039995629272704 & $1423^{+37}_{-29}$ & $13.233\\pm0.003$ & $-0.12\\pm0.02$ & $0.01\\pm0.01$ & $0.394\\pm0.007$ \\\\\n",
      "3326021303931980544 & $1477^{+47}_{-51}$ & $13.290\\pm0.003$ & $-0.01\\pm0.02$ & $0.01\\pm0.01$ & $0.459\\pm0.007$ \\\\\n",
      "3326081433473431168 & $1315^{+23}_{-24}$ & $13.326\\pm0.003$ & $-0.34\\pm0.01$ & $0.01\\pm0.01$ & $0.718\\pm0.007$ \\\\\n",
      "\\bottomrule\n",
      "\\end{tabular}}\n",
      "\\end{table}\n",
      "\n"
     ]
    }
   ],
   "source": [
    "print(generate_members_latex(cl))"
   ]
  },
  {
   "cell_type": "code",
   "execution_count": 144,
   "metadata": {},
   "outputs": [
    {
     "name": "stdout",
     "output_type": "stream",
     "text": [
      "Changed RV         -- --> 21.48\n",
      "Changed e_RV       -- --> 3.25\n",
      "Changed NRV        -- --> 10.00\n"
     ]
    }
   ],
   "source": [
    "# cl.restoreParam(\"all\")\n",
    "cl.changeParam((\"RV\",21.48))\n",
    "cl.changeParam((\"e_RV\",3.25))\n",
    "cl.changeParam((\"NRV\",10))"
   ]
  },
  {
   "cell_type": "code",
   "execution_count": 17,
   "metadata": {},
   "outputs": [
    {
     "data": {
      "text/plain": [
       "<WCSAxesSubplot: >"
      ]
     },
     "execution_count": 17,
     "metadata": {},
     "output_type": "execute_result"
    }
   ],
   "source": [
    "cl.plot_cluster(extra=20)"
   ]
  },
  {
   "cell_type": "code",
   "execution_count": 40,
   "metadata": {},
   "outputs": [
    {
     "data": {
      "text/plain": [
       "array([3.875, 3.875, 3.875, 3.875, 3.875, 3.875, 3.875, 3.875])"
      ]
     },
     "execution_count": 40,
     "metadata": {},
     "output_type": "execute_result"
    }
   ],
   "source": [
    "np.ones(8)*3.875"
   ]
  },
  {
   "cell_type": "code",
   "execution_count": 78,
   "metadata": {},
   "outputs": [
    {
     "data": {
      "text/html": [
       "<div><i>Table length=10</i>\n",
       "<table id=\"table126918416278288\" class=\"table-striped table-bordered table-condensed\">\n",
       "<thead><tr><th>RV</th><th>e_RV</th></tr></thead>\n",
       "<thead><tr><th>km / s</th><th>km / s</th></tr></thead>\n",
       "<thead><tr><th>float64</th><th>float32</th></tr></thead>\n",
       "<tr><td>19.20</td><td>6.03</td></tr>\n",
       "<tr><td>23.05</td><td>6.95</td></tr>\n",
       "<tr><td>32.36</td><td>12.43</td></tr>\n",
       "<tr><td>-2.70</td><td>0.37</td></tr>\n",
       "<tr><td>60.62</td><td>17.50</td></tr>\n",
       "<tr><td>24.82</td><td>6.67</td></tr>\n",
       "<tr><td>23.04</td><td>16.43</td></tr>\n",
       "<tr><td>-26.39</td><td>10.04</td></tr>\n",
       "<tr><td>39.78</td><td>8.15</td></tr>\n",
       "<tr><td>21.03</td><td>5.47</td></tr>\n",
       "</table></div>"
      ],
      "text/plain": [
       "<Table length=10>\n",
       "   RV     e_RV \n",
       " km / s  km / s\n",
       "float64 float32\n",
       "------- -------\n",
       "  19.20    6.03\n",
       "  23.05    6.95\n",
       "  32.36   12.43\n",
       "  -2.70    0.37\n",
       "  60.62   17.50\n",
       "  24.82    6.67\n",
       "  23.04   16.43\n",
       " -26.39   10.04\n",
       "  39.78    8.15\n",
       "  21.03    5.47"
      ]
     },
     "execution_count": 78,
     "metadata": {},
     "output_type": "execute_result"
    }
   ],
   "source": [
    "kc = cl.kinematic_cluster['RV','e_RV']\n",
    "kc = kc[~kc['RV'].mask]\n",
    "kc.add_row([39.78, 8.15])\n",
    "kc.add_row([21.03, 5.47])\n",
    "kc"
   ]
  },
  {
   "cell_type": "code",
   "execution_count": 79,
   "metadata": {},
   "outputs": [
    {
     "data": {
      "text/plain": [
       "21.481+/-3.2513597297682386"
      ]
     },
     "execution_count": 79,
     "metadata": {},
     "output_type": "execute_result"
    }
   ],
   "source": [
    "RV = unumpy.uarray(kc['RV'].value,kc['e_RV'].value)\n",
    "RV.mean()"
   ]
  },
  {
   "cell_type": "code",
   "execution_count": 5,
   "metadata": {},
   "outputs": [
    {
     "data": {
      "text/html": [
       "<div><i>Table length=1</i>\n",
       "<table id=\"table126759302009552\" class=\"table-striped table-bordered table-condensed\">\n",
       "<thead><tr><th>Name</th><th>RA_ICRS_1</th><th>DE_ICRS_1</th><th>rgeo</th><th>Teff</th><th>Temp. Est</th><th>v_pec</th><th>e_v_pec</th><th>v_pec3d</th><th>e_v_pec3d</th><th>HIP</th><th>TYC2</th><th>Source</th><th>Plx</th><th>e_Plx</th><th>pmRA</th><th>pmDE</th><th>e_pmRA</th><th>e_pmDE</th><th>RUWE</th><th>Gmag</th><th>BP-RP</th><th>BPmag</th><th>RPmag</th><th>b_rgeo</th><th>B_rgeo</th><th>e_Gmag</th><th>e_BPmag</th><th>e_RPmag</th><th>e_BP-RP</th><th>SkyCoord</th><th>rmRA</th><th>e_rmRA</th><th>rmDE</th><th>e_rmDE</th><th>logg</th><th>RV</th><th>e_RV</th><th>rRV</th><th>e_rRV</th><th>FG</th><th>e_FG</th><th>FBP</th><th>e_FBP</th><th>FRP</th><th>e_FRP</th><th>RAVE5</th><th>RAVE6</th></tr></thead>\n",
       "<thead><tr><th></th><th>deg</th><th>deg</th><th>pc</th><th>K</th><th>K</th><th>km / s</th><th>km / s</th><th>km / s</th><th>km / s</th><th></th><th></th><th></th><th>mas</th><th>mas</th><th>mas / yr</th><th>mas / yr</th><th>mas / yr</th><th>mas / yr</th><th></th><th>mag</th><th>mag</th><th>mag</th><th>mag</th><th>pc</th><th>pc</th><th></th><th></th><th></th><th></th><th>deg,deg,pc</th><th>mas / yr</th><th>mas / yr</th><th>mas / yr</th><th>mas / yr</th><th>log(cm.s**-2)</th><th>km / s</th><th>km / s</th><th>km / s</th><th>km / s</th><th></th><th></th><th></th><th></th><th></th><th></th><th></th><th></th></tr></thead>\n",
       "<thead><tr><th>str9</th><th>float64</th><th>float64</th><th>float64</th><th>float64</th><th>float64</th><th>float64</th><th>float64</th><th>float64</th><th>float64</th><th>int32</th><th>str10</th><th>int64</th><th>float64</th><th>float32</th><th>float64</th><th>float64</th><th>float32</th><th>float32</th><th>float64</th><th>float64</th><th>float64</th><th>float64</th><th>float64</th><th>float64</th><th>float64</th><th>float64</th><th>float32</th><th>float32</th><th>float32</th><th>SkyCoord</th><th>float64</th><th>float32</th><th>float64</th><th>float32</th><th>float64</th><th>float64</th><th>float32</th><th>float64</th><th>float32</th><th>float64</th><th>float32</th><th>float32</th><th>float32</th><th>float32</th><th>float32</th><th>str1</th><th>str1</th></tr></thead>\n",
       "<tr><td>HD 259991</td><td>98.69055275937</td><td>8.07569472560</td><td>1458.14001000</td><td>--</td><td>13240.0</td><td>21.30802513378318</td><td>2.932337496676566</td><td>--</td><td>--</td><td>--</td><td>733-1687-1</td><td>3326026144355977472</td><td>0.6601</td><td>0.0421</td><td>-1.403</td><td>0.651</td><td>0.039</td><td>0.031</td><td>1.529</td><td>9.317637</td><td>0.329390</td><td>9.419267</td><td>9.089877</td><td>1378.07080000</td><td>1536.19507000</td><td>0.0028</td><td>0.003873</td><td>0.004001</td><td>0.007874</td><td>98.69055275937,8.0756947256,1458.14001</td><td>-1.213</td><td>0.264</td><td>2.834</td><td>0.256</td><td>--</td><td>--</td><td>--</td><td>--</td><td>--</td><td>3530953.30802</td><td>1620</td><td>2.332e+06</td><td>5770</td><td>1.833e+06</td><td>2216</td><td>--</td><td>--</td></tr>\n",
       "</table></div>"
      ],
      "text/plain": [
       "<Table length=1>\n",
       "   Name      RA_ICRS_1       DE_ICRS_1    ...    e_FRP    RAVE5 RAVE6\n",
       "                deg             deg       ...                        \n",
       "   str9       float64         float64     ...   float32    str1  str1\n",
       "--------- --------------- --------------- ... ----------- ----- -----\n",
       "HD 259991  98.69055275937   8.07569472560 ...        2216    --    --"
      ]
     },
     "execution_count": 5,
     "metadata": {},
     "output_type": "execute_result"
    }
   ],
   "source": [
    "cl.runaways()"
   ]
  },
  {
   "cell_type": "code",
   "execution_count": 2,
   "metadata": {},
   "outputs": [
    {
     "data": {
      "text/html": [
       "<div><i>Table length=0</i>\n",
       "<table id=\"table126759315392272\" class=\"table-striped table-bordered table-condensed\">\n",
       "<thead><tr><th>JNAME</th><th>RAJD</th><th>DECJD</th><th>DIST</th><th>DIST_DM</th><th>AGE</th><th>PMRA</th><th>PMDEC</th><th>S400</th><th>ASSOC</th><th>AGE_I</th><th>PX</th><th>P0</th><th>P1</th><th>BSURF</th><th>SkyCoord</th><th>sep2d</th><th>sep3d</th></tr></thead>\n",
       "<thead><tr><th></th><th>deg</th><th>deg</th><th>kpc</th><th>kpc</th><th>yr</th><th>mas / yr</th><th>mas / yr</th><th>mJy</th><th></th><th>yr</th><th>mas</th><th>s</th><th></th><th>G</th><th>deg,deg,kpc</th><th>deg</th><th>kpc</th></tr></thead>\n",
       "<thead><tr><th>str12</th><th>float64</th><th>float64</th><th>float64</th><th>float64</th><th>float64</th><th>float64</th><th>float64</th><th>float64</th><th>str5</th><th>float64</th><th>float64</th><th>float64</th><th>float64</th><th>float64</th><th>SkyCoord</th><th>float64</th><th>float64</th></tr></thead>\n",
       "</table></div>"
      ],
      "text/plain": [
       "<Table length=0>\n",
       "JNAME   RAJD   DECJD    DIST  DIST_DM ...  BSURF    SkyCoord   sep2d   sep3d \n",
       "        deg     deg     kpc     kpc   ...    G    deg,deg,kpc   deg     kpc  \n",
       "str12 float64 float64 float64 float64 ... float64   SkyCoord  float64 float64\n",
       "----- ------- ------- ------- ------- ... ------- ----------- ------- -------"
      ]
     },
     "execution_count": 2,
     "metadata": {},
     "output_type": "execute_result"
    }
   ],
   "source": [
    "cl.psrs()"
   ]
  },
  {
   "cell_type": "code",
   "execution_count": 12,
   "metadata": {},
   "outputs": [],
   "source": [
    "show_annotation_manager(plot_pm)\n"
   ]
  },
  {
   "cell_type": "code",
   "execution_count": 6,
   "metadata": {},
   "outputs": [],
   "source": [
    "# cl.plot_cmd()\n",
    "%run runaway_functionsv3\n",
    "%matplotlib qt\n",
    "cl = Cluster('BH_121')\n",
    "\n",
    "psr_table = cl.psrs()\n",
    "psr_table\n",
    "mask = np.isin(psr_table['JNAME'], [\"J1144-6217\"])\n",
    "psr_table = psr_table[mask]\n",
    "plot_traceback_psr,wcs = cl.plot_traceback_psr(psr_table=psr_table, trace_time=-125*u.kyr)"
   ]
  },
  {
   "cell_type": "code",
   "execution_count": 2,
   "metadata": {},
   "outputs": [
    {
     "data": {
      "text/html": [
       "<div><i>Table length=2</i>\n",
       "<table id=\"table132784166475344\" class=\"table-striped table-bordered table-condensed\">\n",
       "<thead><tr><th>Name</th><th>RA_ICRS_1</th><th>DE_ICRS_1</th><th>rgeo</th><th>Teff</th><th>Temp. Est</th><th>v_pec</th><th>e_v_pec</th><th>v_pec3d</th><th>e_v_pec3d</th><th>HIP</th><th>TYC2</th><th>Source</th><th>Plx</th><th>e_Plx</th><th>pmRA</th><th>pmDE</th><th>e_pmRA</th><th>e_pmDE</th><th>RUWE</th><th>Gmag</th><th>BP-RP</th><th>BPmag</th><th>RPmag</th><th>b_rgeo</th><th>B_rgeo</th><th>e_Gmag</th><th>e_BPmag</th><th>e_RPmag</th><th>e_BP-RP</th><th>SkyCoord</th><th>rmRA</th><th>e_rmRA</th><th>rmDE</th><th>e_rmDE</th><th>logg</th><th>RV</th><th>e_RV</th><th>rRV</th><th>e_rRV</th><th>FG</th><th>e_FG</th><th>FBP</th><th>e_FBP</th><th>FRP</th><th>e_FRP</th><th>RAVE5</th><th>RAVE6</th></tr></thead>\n",
       "<thead><tr><th></th><th>deg</th><th>deg</th><th>pc</th><th>K</th><th>K</th><th>km / s</th><th>km / s</th><th>km / s</th><th>km / s</th><th></th><th></th><th></th><th>mas</th><th>mas</th><th>mas / yr</th><th>mas / yr</th><th>mas / yr</th><th>mas / yr</th><th></th><th>mag</th><th>mag</th><th>mag</th><th>mag</th><th>pc</th><th>pc</th><th></th><th></th><th></th><th></th><th>deg,deg,pc</th><th>mas / yr</th><th>mas / yr</th><th>mas / yr</th><th>mas / yr</th><th>log(cm.s**-2)</th><th>km / s</th><th>km / s</th><th>km / s</th><th>km / s</th><th></th><th></th><th></th><th></th><th></th><th></th><th></th><th></th></tr></thead>\n",
       "<thead><tr><th>str28</th><th>float64</th><th>float64</th><th>float64</th><th>float64</th><th>float64</th><th>float64</th><th>float64</th><th>float64</th><th>float64</th><th>int32</th><th>str11</th><th>int64</th><th>float64</th><th>float32</th><th>float64</th><th>float64</th><th>float32</th><th>float32</th><th>float64</th><th>float64</th><th>float64</th><th>float64</th><th>float64</th><th>float64</th><th>float64</th><th>float64</th><th>float32</th><th>float32</th><th>float32</th><th>SkyCoord</th><th>float64</th><th>float32</th><th>float64</th><th>float32</th><th>float64</th><th>float64</th><th>float32</th><th>float64</th><th>float32</th><th>float64</th><th>float32</th><th>float32</th><th>float32</th><th>float32</th><th>float32</th><th>str1</th><th>str1</th></tr></thead>\n",
       "<tr><td>Gaia DR3 5333582373493259392</td><td>174.25420916697</td><td>-63.51028158943</td><td>2030.28772000</td><td>10472.6</td><td>29200.0</td><td>36.322390643713256</td><td>4.290941600537356</td><td>--</td><td>--</td><td>--</td><td>--</td><td>5333582373493259392</td><td>0.4749</td><td>0.0459</td><td>-9.647</td><td>-0.256</td><td>0.047</td><td>0.046</td><td>1.020</td><td>16.690096</td><td>-0.023376</td><td>16.692854</td><td>16.716230</td><td>1892.54675000</td><td>2207.36768000</td><td>0.002842</td><td>0.004248</td><td>0.008885</td><td>0.01313</td><td>174.25420916697,-63.51028158943,2030.28772</td><td>-3.657</td><td>0.153</td><td>-0.934</td><td>0.152</td><td>4.4974</td><td>--</td><td>--</td><td>--</td><td>--</td><td>3971.07777</td><td>2.547</td><td>2873</td><td>8.473</td><td>1632</td><td>12.09</td><td>--</td><td>--</td></tr>\n",
       "<tr><td>HD 308823</td><td>174.84243990445</td><td>-63.36971443391</td><td>2539.82080000</td><td>15232.7</td><td>16210.0</td><td>48.530542153436116</td><td>32.98228162164111</td><td>--</td><td>--</td><td>--</td><td>--</td><td>5333952049933787520</td><td>1.9973</td><td>0.6318</td><td>-8.848</td><td>-2.165</td><td>0.668</td><td>0.721</td><td>32.069</td><td>11.291941</td><td>0.333353</td><td>11.389230</td><td>11.055877</td><td>1410.14795000</td><td>3852.90039000</td><td>0.002927</td><td>0.002866</td><td>0.003816</td><td>0.006682</td><td>174.84243990445,-63.36971443391,2539.8208</td><td>-2.858</td><td>0.774</td><td>-2.843</td><td>0.827</td><td>3.5354</td><td>--</td><td>--</td><td>--</td><td>--</td><td>573020.91200</td><td>521.3</td><td>3.8e+05</td><td>228.9</td><td>2.998e+05</td><td>146.4</td><td>--</td><td>--</td></tr>\n",
       "</table></div>"
      ],
      "text/plain": [
       "<Table length=2>\n",
       "            Name                RA_ICRS_1       DE_ICRS_1    ... RAVE5 RAVE6\n",
       "                                   deg             deg       ...            \n",
       "           str28                 float64         float64     ...  str1  str1\n",
       "---------------------------- --------------- --------------- ... ----- -----\n",
       "Gaia DR3 5333582373493259392 174.25420916697 -63.51028158943 ...    --    --\n",
       "                   HD 308823 174.84243990445 -63.36971443391 ...    --    --"
      ]
     },
     "execution_count": 2,
     "metadata": {},
     "output_type": "execute_result"
    }
   ],
   "source": [
    "cl.runaways()"
   ]
  },
  {
   "cell_type": "code",
   "execution_count": 7,
   "metadata": {},
   "outputs": [],
   "source": [
    "show_annotation_manager(plot_traceback_psr)"
   ]
  }
 ],
 "metadata": {
  "kernelspec": {
   "display_name": "Python 3",
   "language": "python",
   "name": "python3"
  },
  "language_info": {
   "codemirror_mode": {
    "name": "ipython",
    "version": 3
   },
   "file_extension": ".py",
   "mimetype": "text/x-python",
   "name": "python",
   "nbconvert_exporter": "python",
   "pygments_lexer": "ipython3",
   "version": "3.11.6"
  }
 },
 "nbformat": 4,
 "nbformat_minor": 2
}
