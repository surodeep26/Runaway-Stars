{
 "cells": [
  {
   "cell_type": "code",
   "execution_count": 190,
   "metadata": {},
   "outputs": [],
   "source": [
    "import os\n",
    "import numpy as np\n",
    "from astropy import units as u\n",
    "from astroquery.vizier import Vizier\n",
    "from astropy.table import Table\n",
    "from astropy.coordinates import SkyCoord\n",
    "from astropy.time import Time"
   ]
  },
  {
   "cell_type": "code",
   "execution_count": 89,
   "metadata": {},
   "outputs": [
    {
     "data": {
      "text/html": [
       "<div><i>Table length=5</i>\n",
       "<table id=\"table2449662391584\" class=\"table-striped table-bordered table-condensed\">\n",
       "<thead><tr><th>Cluster</th><th>RA_ICRS</th><th>DE_ICRS</th><th>r50</th><th>N</th><th>pmRA</th><th>e_pmRA</th><th>pmDE</th><th>e_pmDE</th><th>Plx</th><th>e_Plx</th><th>RV</th><th>e_RV</th><th>NRV</th><th>Dist</th><th>e_Dist</th><th>logage</th><th>e_logage</th><th>__Fe_H_</th><th>e__Fe_H_</th><th>Av</th><th>e_Av</th><th>FileName</th><th>SimbadName</th><th>_RA.icrs</th><th>_DE.icrs</th></tr></thead>\n",
       "<thead><tr><th></th><th>deg</th><th>deg</th><th>deg</th><th></th><th>mas / yr</th><th>mas / yr</th><th>mas / yr</th><th>mas / yr</th><th>mas</th><th>mas</th><th>km / s</th><th>km / s</th><th></th><th>pc</th><th>pc</th><th>log(yr)</th><th>log(yr)</th><th></th><th></th><th>mag</th><th>mag</th><th></th><th></th><th>deg</th><th>deg</th></tr></thead>\n",
       "<thead><tr><th>str17</th><th>float64</th><th>float64</th><th>float32</th><th>int16</th><th>float32</th><th>float32</th><th>float32</th><th>float32</th><th>float32</th><th>float32</th><th>float64</th><th>float32</th><th>int16</th><th>int16</th><th>int16</th><th>float32</th><th>float32</th><th>float32</th><th>float32</th><th>float32</th><th>float32</th><th>str31</th><th>str31</th><th>float64</th><th>float64</th></tr></thead>\n",
       "<tr><td>ASCC_107</td><td>297.1623</td><td>22.0071</td><td>0.156</td><td>59</td><td>-0.144</td><td>0.135</td><td>-5.158</td><td>0.141</td><td>1.118</td><td>0.055</td><td>--</td><td>--</td><td>--</td><td>864</td><td>30</td><td>7.440</td><td>0.121</td><td>0.353</td><td>0.103</td><td>1.372</td><td>0.129</td><td>clusters1/ASCC_107.dat</td><td>[KPR2005] 107</td><td>297.1623</td><td>22.0071</td></tr>\n",
       "<tr><td>ASCC_114</td><td>324.9790</td><td>53.9990</td><td>0.180</td><td>149</td><td>-3.754</td><td>0.210</td><td>-3.435</td><td>0.145</td><td>1.063</td><td>0.039</td><td>--</td><td>--</td><td>--</td><td>911</td><td>12</td><td>7.632</td><td>0.271</td><td>0.035</td><td>0.078</td><td>1.216</td><td>0.091</td><td>clusters1/ASCC_114.dat</td><td>[KPR2005] 114</td><td>324.9790</td><td>53.9990</td></tr>\n",
       "<tr><td>ASCC_127</td><td>347.1807</td><td>64.9151</td><td>0.541</td><td>113</td><td>7.490</td><td>0.261</td><td>-1.781</td><td>0.319</td><td>2.618</td><td>0.080</td><td>-11.267</td><td>2.676</td><td>16</td><td>365</td><td>10</td><td>7.496</td><td>0.131</td><td>0.152</td><td>0.115</td><td>0.668</td><td>0.080</td><td>clusters1/ASCC_127.dat</td><td>[KPR2005] 127</td><td>347.1806</td><td>64.9151</td></tr>\n",
       "<tr><td>ASCC_13</td><td>78.3057</td><td>44.4212</td><td>0.564</td><td>110</td><td>-0.477</td><td>0.111</td><td>-1.737</td><td>0.108</td><td>0.899</td><td>0.076</td><td>--</td><td>--</td><td>--</td><td>1066</td><td>26</td><td>7.615</td><td>0.098</td><td>-0.075</td><td>0.078</td><td>0.915</td><td>0.027</td><td>clusters1/ASCC_13.dat</td><td>[KPR2005] 13</td><td>78.3057</td><td>44.4212</td></tr>\n",
       "<tr><td>ASCC_16</td><td>81.2025</td><td>1.6256</td><td>0.367</td><td>207</td><td>1.363</td><td>0.280</td><td>0.002</td><td>0.274</td><td>2.844</td><td>0.113</td><td>21.308</td><td>1.696</td><td>12</td><td>348</td><td>3</td><td>7.088</td><td>0.061</td><td>-0.062</td><td>0.069</td><td>0.224</td><td>0.045</td><td>clusters1/ASCC_16.dat</td><td>[KPR2005] 16</td><td>81.2025</td><td>1.6256</td></tr>\n",
       "</table></div>"
      ],
      "text/plain": [
       "<Table length=5>\n",
       "Cluster  RA_ICRS  DE_ICRS    r50   ...   SimbadName  _RA.icrs _DE.icrs\n",
       "           deg      deg      deg   ...                 deg      deg   \n",
       " str17   float64  float64  float32 ...     str31     float64  float64 \n",
       "-------- -------- -------- ------- ... ------------- -------- --------\n",
       "ASCC_107 297.1623  22.0071   0.156 ... [KPR2005] 107 297.1623  22.0071\n",
       "ASCC_114 324.9790  53.9990   0.180 ... [KPR2005] 114 324.9790  53.9990\n",
       "ASCC_127 347.1807  64.9151   0.541 ... [KPR2005] 127 347.1806  64.9151\n",
       " ASCC_13  78.3057  44.4212   0.564 ...  [KPR2005] 13  78.3057  44.4212\n",
       " ASCC_16  81.2025   1.6256   0.367 ...  [KPR2005] 16  81.2025   1.6256"
      ]
     },
     "execution_count": 89,
     "metadata": {},
     "output_type": "execute_result"
    }
   ],
   "source": [
    "Vizier.ROW_LIMIT = -1\n",
    "dias2021 = Vizier.get_catalogs(catalog=\"J/MNRAS/504/356/table12\")[0]\n",
    "mask_logage = dias2021['logage'] < 7.7\n",
    "mask_plx = dias2021['Plx'] > 0.3\n",
    "dias2021 = dias2021[mask_logage & mask_plx]\n",
    "dias2021.write('dias2021.tsv', format='ascii.ecsv', overwrite=True)\n",
    "dias2021[:5]\n"
   ]
  },
  {
   "cell_type": "code",
   "execution_count": 198,
   "metadata": {},
   "outputs": [],
   "source": [
    "class clusterDias:\n",
    "    def __init__(self, name:str) -> None:\n",
    "        #download the catalog if not already in the cwds\n",
    "        if os.path.exists('./dias2021.tsv'):\n",
    "            dias2021 = Table.read('dias2021.tsv', format='ascii.ecsv')\n",
    "        else:\n",
    "            Vizier.ROW_LIMIT = -1\n",
    "            dias2021 = Vizier.get_catalogs(catalog=\"J/MNRAS/504/356/table12\")[0]\n",
    "            mask_logage = dias2021['logage'] < 7.7\n",
    "            mask_plx = dias2021['Plx'] > 0.3\n",
    "            dias2021 = dias2021[mask_logage & mask_plx]\n",
    "        #select the row from Dias catalog\n",
    "        cluster_row = dias2021[dias2021['Cluster'] == name][0]\n",
    "        #cluster parameters from the row\n",
    "        self.name = name\n",
    "        self.all = cluster_row\n",
    "        self.r50 = cluster_row['r50']*u.deg\n",
    "        self.N = cluster_row['N']\n",
    "        self.skycoord = SkyCoord(ra=cluster_row['RA_ICRS']*u.deg,\n",
    "                                 dec=cluster_row['DE_ICRS']*u.deg,\n",
    "                                 distance=cluster_row['Dist']*u.pc,\n",
    "                                 pm_ra_cosdec=cluster_row['pmRA']*u.mas/u.yr,\n",
    "                                 pm_dec=cluster_row['pmDE']*u.mas/u.yr,\n",
    "                                 obstime=(Time('J2000')+1*u.Myr))\n",
    "        self.ra = self.skycoord.ra\n",
    "        self.dec = self.skycoord.dec\n",
    "        self.distance,self.e_distance = self.skycoord.distance,cluster_row['e_Dist']*u.pc\n",
    "        self.pm_ra_cosdec, self.e_pm_ra_cosdec = self.skycoord.pm_ra_cosdec,cluster_row['e_pmRA']*u.mas/u.yr\n",
    "        self.pm_dec, self.e_pm_dec = self.skycoord.pm_dec, cluster_row['e_pmDE']*u.mas/u.yr\n",
    "        self.members = (Table.read(f'./Clusters_Dias/{self.name}.dat', format='ascii.tab'))[2:] #first two rows removed\n",
    "        self.members_list = list(self.members['Source'].astype(np.int64))\n",
    "        # self.membersdr3 = list(self.members['Source'])\n",
    "        self.Av, self.e_Av = cluster_row['Av']*u.mag,cluster_row['e_Av']*u.mag\n",
    "        self.logage, self.e_logage = cluster_row['logage'],cluster_row['e_logage']\n",
    "        self.FeH, self.e_FeH = cluster_row['__Fe_H_'],cluster_row['e__Fe_H_']\n",
    "        self.RV, self.e_RV = cluster_row['RV'],cluster_row['e_RV']\n",
    "        self.NRV = cluster_row['NRV']\n",
    "\n",
    "class clusterCG:\n",
    "    def __init__(self, name:str) -> None:\n",
    "        self.name = name\n",
    "        #download the catalog if not already in the cwds\n",
    "        if os.path.exists('./CG2020.tsv'):\n",
    "            dias2021 = Table.read('CG2020.tsv', format='ascii.ecsv')\n",
    "        else:\n",
    "            Vizier.ROW_LIMIT = -1\n",
    "            CG2020 = Vizier.get_catalogs(catalog=\"J/A+A/633/A99/table1\")[0]\n",
    "            mask_logage = CG2020['logage'] < 7.7\n",
    "            mask_plx = CG2020['Plx'] > 0.3\n",
    "            CG2020 = CG2020[mask_logage & mask_plx]\n"
   ]
  },
  {
   "cell_type": "code",
   "execution_count": 202,
   "metadata": {},
   "outputs": [
    {
     "data": {
      "text/html": [
       "<div><i>Table length=1046</i>\n",
       "<table id=\"table2448154003968\" class=\"table-striped table-bordered table-condensed\">\n",
       "<thead><tr><th>Cluster</th><th>RA_ICRS</th><th>DE_ICRS</th><th>GLON</th><th>GLAT</th><th>r50</th><th>N</th><th>pmRA</th><th>pmDE</th><th>Plx</th><th>dmode</th><th>dmode_01</th><th>dmode-01</th><th>X</th><th>Y</th><th>Z</th><th>Rgc</th><th>SimbadName</th><th>_RA.icrs</th><th>_DE.icrs</th></tr></thead>\n",
       "<thead><tr><th></th><th>deg</th><th>deg</th><th>deg</th><th>deg</th><th>deg</th><th></th><th>mas / yr</th><th>mas / yr</th><th>mas</th><th>pc</th><th>pc</th><th>pc</th><th>pc</th><th>pc</th><th>pc</th><th>pc</th><th></th><th>deg</th><th>deg</th></tr></thead>\n",
       "<thead><tr><th>str17</th><th>float32</th><th>float32</th><th>float32</th><th>float32</th><th>float32</th><th>int16</th><th>float32</th><th>float32</th><th>float32</th><th>float32</th><th>float32</th><th>float32</th><th>float64</th><th>float64</th><th>float32</th><th>float32</th><th>str26</th><th>float64</th><th>float64</th></tr></thead>\n",
       "<tr><td>ASCC_10</td><td>51.870</td><td>34.981</td><td>155.723</td><td>-17.770</td><td>0.558</td><td>71</td><td>-1.737</td><td>-1.368</td><td>1.459</td><td>672.0</td><td>629.6</td><td>720.4</td><td>-583.3</td><td>263.1</td><td>-205.1</td><td>8927.2</td><td>[KPR2005] 10</td><td>51.8700</td><td>34.9810</td></tr>\n",
       "<tr><td>ASCC_101</td><td>288.399</td><td>36.369</td><td>68.028</td><td>11.608</td><td>0.372</td><td>75</td><td>0.934</td><td>1.288</td><td>2.488</td><td>397.3</td><td>382.2</td><td>413.8</td><td>145.6</td><td>360.9</td><td>79.9</td><td>8202.3</td><td>[KPR2005] 101</td><td>288.3990</td><td>36.3690</td></tr>\n",
       "<tr><td>ASCC_105</td><td>295.548</td><td>27.366</td><td>62.825</td><td>2.063</td><td>0.648</td><td>127</td><td>1.464</td><td>-1.635</td><td>1.783</td><td>551.8</td><td>522.9</td><td>584.0</td><td>251.8</td><td>490.5</td><td>19.9</td><td>8103.0</td><td>[KPR2005] 105</td><td>295.5480</td><td>27.3660</td></tr>\n",
       "<tr><td>ASCC_107</td><td>297.164</td><td>21.987</td><td>58.904</td><td>-1.901</td><td>0.174</td><td>59</td><td>-0.155</td><td>-5.156</td><td>1.109</td><td>878.5</td><td>807.6</td><td>963.1</td><td>453.5</td><td>751.9</td><td>-29.2</td><td>7922.3</td><td>[KPR2005] 107</td><td>297.1640</td><td>21.9870</td></tr>\n",
       "<tr><td>ASCC_108</td><td>298.306</td><td>39.349</td><td>74.378</td><td>6.074</td><td>0.537</td><td>230</td><td>-0.519</td><td>-1.690</td><td>0.838</td><td>1154.0</td><td>1034.6</td><td>1304.5</td><td>309.0</td><td>1105.1</td><td>122.1</td><td>8106.7</td><td>[KPR2005] 108</td><td>298.3060</td><td>39.3490</td></tr>\n",
       "<tr><td>ASCC_11</td><td>53.056</td><td>44.856</td><td>150.546</td><td>-9.224</td><td>0.312</td><td>276</td><td>0.926</td><td>-3.030</td><td>1.141</td><td>854.5</td><td>787.2</td><td>934.3</td><td>-734.4</td><td>414.7</td><td>-137.0</td><td>9083.9</td><td>[KPR2005] 11</td><td>53.0560</td><td>44.8560</td></tr>\n",
       "<tr><td>ASCC_110</td><td>300.742</td><td>33.528</td><td>70.411</td><td>1.378</td><td>0.203</td><td>70</td><td>0.271</td><td>-3.132</td><td>0.497</td><td>1902.2</td><td>1598.2</td><td>2349.1</td><td>637.6</td><td>1791.6</td><td>45.7</td><td>7908.1</td><td>[KPR2005] 110</td><td>300.7420</td><td>33.5280</td></tr>\n",
       "<tr><td>ASCC_111</td><td>302.891</td><td>37.515</td><td>74.714</td><td>2.056</td><td>0.537</td><td>156</td><td>-1.150</td><td>-1.524</td><td>1.166</td><td>836.9</td><td>772.3</td><td>913.4</td><td>220.5</td><td>806.8</td><td>30.0</td><td>8159.5</td><td>[KPR2005] 111</td><td>302.8910</td><td>37.5150</td></tr>\n",
       "<tr><td>ASCC_113</td><td>317.933</td><td>38.638</td><td>82.877</td><td>-6.589</td><td>0.529</td><td>196</td><td>0.800</td><td>-3.679</td><td>1.762</td><td>558.2</td><td>528.7</td><td>591.2</td><td>68.8</td><td>550.3</td><td>-64.1</td><td>8289.5</td><td>[KPR2005] 113</td><td>317.9330</td><td>38.6380</td></tr>\n",
       "<tr><td>...</td><td>...</td><td>...</td><td>...</td><td>...</td><td>...</td><td>...</td><td>...</td><td>...</td><td>...</td><td>...</td><td>...</td><td>...</td><td>...</td><td>...</td><td>...</td><td>...</td><td>...</td><td>...</td><td>...</td></tr>\n",
       "<tr><td>UPK_84</td><td>310.247</td><td>20.191</td><td>64.099</td><td>-13.112</td><td>0.283</td><td>79</td><td>-6.283</td><td>-9.281</td><td>1.083</td><td>899.5</td><td>825.1</td><td>988.4</td><td>382.7</td><td>788.1</td><td>-204.1</td><td>7996.3</td><td>UPK 84</td><td>310.2470</td><td>20.1910</td></tr>\n",
       "<tr><td>UPK_88</td><td>309.476</td><td>21.462</td><td>64.726</td><td>-11.785</td><td>1.076</td><td>24</td><td>10.254</td><td>-5.308</td><td>3.402</td><td>291.4</td><td>283.2</td><td>300.2</td><td>121.8</td><td>258.0</td><td>-59.5</td><td>8222.2</td><td>UPK 88</td><td>309.4760</td><td>21.4620</td></tr>\n",
       "<tr><td>UPK_90</td><td>299.773</td><td>28.419</td><td>65.633</td><td>-0.614</td><td>0.176</td><td>43</td><td>-0.837</td><td>-5.719</td><td>1.231</td><td>793.9</td><td>735.5</td><td>862.4</td><td>327.5</td><td>723.2</td><td>-8.5</td><td>8045.0</td><td>UPK 90</td><td>299.7730</td><td>28.4190</td></tr>\n",
       "<tr><td>UPK_93</td><td>300.312</td><td>29.971</td><td>67.201</td><td>-0.197</td><td>0.421</td><td>65</td><td>-0.882</td><td>-8.153</td><td>1.400</td><td>699.7</td><td>654.0</td><td>752.3</td><td>271.1</td><td>645.0</td><td>-2.4</td><td>8094.6</td><td>UPK 93</td><td>300.3120</td><td>29.9710</td></tr>\n",
       "<tr><td>UPK_94</td><td>304.778</td><td>27.618</td><td>67.358</td><td>-4.760</td><td>0.251</td><td>42</td><td>2.124</td><td>1.121</td><td>1.028</td><td>946.1</td><td>864.3</td><td>1045.0</td><td>363.0</td><td>870.2</td><td>-78.5</td><td>8024.4</td><td>UPK 94</td><td>304.7780</td><td>27.6180</td></tr>\n",
       "<tr><td>vdBergh_1</td><td>99.275</td><td>3.078</td><td>208.556</td><td>-1.781</td><td>0.030</td><td>73</td><td>0.396</td><td>-0.771</td><td>0.523</td><td>1811.4</td><td>1533.6</td><td>2212.1</td><td>-1590.2</td><td>-865.5</td><td>-56.3</td><td>9967.9</td><td>Cl VDB  1</td><td>99.2750</td><td>3.0780</td></tr>\n",
       "<tr><td>vdBergh_80</td><td>97.739</td><td>-9.625</td><td>219.247</td><td>-8.891</td><td>0.143</td><td>79</td><td>-3.298</td><td>0.418</td><td>1.025</td><td>948.3</td><td>866.2</td><td>1047.7</td><td>-725.6</td><td>-592.8</td><td>-146.6</td><td>9085.0</td><td>Cl VDB  80</td><td>97.7390</td><td>-9.6250</td></tr>\n",
       "<tr><td>vdBergh_83</td><td>100.025</td><td>-27.189</td><td>236.448</td><td>-14.329</td><td>0.151</td><td>52</td><td>-2.896</td><td>3.199</td><td>1.034</td><td>940.3</td><td>859.5</td><td>1038.1</td><td>-503.5</td><td>-759.3</td><td>-232.7</td><td>8876.1</td><td>Cl VDB  83</td><td>100.0250</td><td>-27.1890</td></tr>\n",
       "<tr><td>vdBergh_85</td><td>101.718</td><td>1.320</td><td>211.237</td><td>-0.414</td><td>0.040</td><td>34</td><td>-1.000</td><td>0.328</td><td>0.552</td><td>1719.6</td><td>1467.3</td><td>2076.8</td><td>-1470.3</td><td>-891.7</td><td>-12.4</td><td>9850.8</td><td>Cl VDB  85</td><td>101.7180</td><td>1.3200</td></tr>\n",
       "<tr><td>vdBergh_92</td><td>106.038</td><td>-11.475</td><td>224.587</td><td>-2.427</td><td>0.112</td><td>193</td><td>-4.540</td><td>1.618</td><td>0.842</td><td>1148.6</td><td>1030.2</td><td>1297.6</td><td>-817.2</td><td>-805.6</td><td>-48.6</td><td>9192.6</td><td>Cl VDB  92</td><td>106.0380</td><td>-11.4750</td></tr>\n",
       "</table></div>"
      ],
      "text/plain": [
       "<Table length=1046>\n",
       " Cluster   RA_ICRS DE_ICRS   GLON  ...   Rgc     SimbadName  _RA.icrs _DE.icrs\n",
       "             deg     deg     deg   ...    pc                   deg      deg   \n",
       "  str17    float32 float32 float32 ... float32     str26     float64  float64 \n",
       "---------- ------- ------- ------- ... ------- ------------- -------- --------\n",
       "   ASCC_10  51.870  34.981 155.723 ...  8927.2  [KPR2005] 10  51.8700  34.9810\n",
       "  ASCC_101 288.399  36.369  68.028 ...  8202.3 [KPR2005] 101 288.3990  36.3690\n",
       "  ASCC_105 295.548  27.366  62.825 ...  8103.0 [KPR2005] 105 295.5480  27.3660\n",
       "  ASCC_107 297.164  21.987  58.904 ...  7922.3 [KPR2005] 107 297.1640  21.9870\n",
       "  ASCC_108 298.306  39.349  74.378 ...  8106.7 [KPR2005] 108 298.3060  39.3490\n",
       "   ASCC_11  53.056  44.856 150.546 ...  9083.9  [KPR2005] 11  53.0560  44.8560\n",
       "  ASCC_110 300.742  33.528  70.411 ...  7908.1 [KPR2005] 110 300.7420  33.5280\n",
       "  ASCC_111 302.891  37.515  74.714 ...  8159.5 [KPR2005] 111 302.8910  37.5150\n",
       "  ASCC_113 317.933  38.638  82.877 ...  8289.5 [KPR2005] 113 317.9330  38.6380\n",
       "       ...     ...     ...     ... ...     ...           ...      ...      ...\n",
       "    UPK_84 310.247  20.191  64.099 ...  7996.3        UPK 84 310.2470  20.1910\n",
       "    UPK_88 309.476  21.462  64.726 ...  8222.2        UPK 88 309.4760  21.4620\n",
       "    UPK_90 299.773  28.419  65.633 ...  8045.0        UPK 90 299.7730  28.4190\n",
       "    UPK_93 300.312  29.971  67.201 ...  8094.6        UPK 93 300.3120  29.9710\n",
       "    UPK_94 304.778  27.618  67.358 ...  8024.4        UPK 94 304.7780  27.6180\n",
       " vdBergh_1  99.275   3.078 208.556 ...  9967.9     Cl VDB  1  99.2750   3.0780\n",
       "vdBergh_80  97.739  -9.625 219.247 ...  9085.0    Cl VDB  80  97.7390  -9.6250\n",
       "vdBergh_83 100.025 -27.189 236.448 ...  8876.1    Cl VDB  83 100.0250 -27.1890\n",
       "vdBergh_85 101.718   1.320 211.237 ...  9850.8    Cl VDB  85 101.7180   1.3200\n",
       "vdBergh_92 106.038 -11.475 224.587 ...  9192.6    Cl VDB  92 106.0380 -11.4750"
      ]
     },
     "execution_count": 202,
     "metadata": {},
     "output_type": "execute_result"
    }
   ],
   "source": [
    "CG2020 = Vizier.get_catalogs(catalog=\"J/A+A/633/A99/table1\")[0]\n",
    "# mask_logage = CG2020['logage'] < 7.7\n",
    "mask_plx = CG2020['Plx'] > 0.3\n",
    "CG2020 = CG2020[mask_plx]\n",
    "CG2020"
   ]
  }
 ],
 "metadata": {
  "kernelspec": {
   "display_name": "Python 3",
   "language": "python",
   "name": "python3"
  },
  "language_info": {
   "codemirror_mode": {
    "name": "ipython",
    "version": 3
   },
   "file_extension": ".py",
   "mimetype": "text/x-python",
   "name": "python",
   "nbconvert_exporter": "python",
   "pygments_lexer": "ipython3",
   "version": "3.10.9"
  }
 },
 "nbformat": 4,
 "nbformat_minor": 2
}
