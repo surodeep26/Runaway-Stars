{
 "cells": [
  {
   "cell_type": "code",
   "execution_count": 1,
   "metadata": {},
   "outputs": [],
   "source": [
    "%run runaway_functionsv2\n",
    "%matplotlib qt\n"
   ]
  },
  {
   "cell_type": "code",
   "execution_count": 2,
   "metadata": {},
   "outputs": [
    {
     "name": "stdout",
     "output_type": "stream",
     "text": [
      "0 memebrs do not have BP-RP from Dias.\n",
      "35/58 members matched in dr3 search region,14 have > 17 Gmag\n",
      "27/35 members have good parallax\n"
     ]
    }
   ],
   "source": [
    "cluster = Cluster('Berkeley_97')"
   ]
  },
  {
   "cell_type": "code",
   "execution_count": 52,
   "metadata": {},
   "outputs": [
    {
     "data": {
      "text/html": [
       "<div><i>Table length=27</i>\n",
       "<table id=\"table3030180380624\" class=\"table-striped table-bordered table-condensed\">\n",
       "<thead><tr><th>RA_ICRS_1</th><th>DE_ICRS_1</th><th>e_RA_ICRS</th><th>e_DE_ICRS</th><th>_r_1</th><th>HIP</th><th>TYC2</th><th>Source</th><th>rgeo</th><th>Plx</th><th>e_Plx</th><th>v_pec</th><th>µ_pec</th><th>rmRA</th><th>e_rmRA</th><th>rmDE</th><th>e_rmDE</th><th>pmRA</th><th>pmDE</th><th>e_pmRA</th><th>e_pmDE</th><th>RUWE</th><th>Teff</th><th>logg</th><th>Gmag</th><th>BP-RP</th><th>BPmag</th><th>RPmag</th><th>RV</th><th>e_RV</th><th>b_rgeo</th><th>B_rgeo</th><th>FG</th><th>e_FG</th><th>FBP</th><th>e_FBP</th><th>FRP</th><th>e_FRP</th><th>RAVE5</th><th>RAVE6</th><th>e_Gmag</th><th>e_BPmag</th><th>e_RPmag</th><th>e_BP-RP</th></tr></thead>\n",
       "<thead><tr><th>deg</th><th>deg</th><th>mas</th><th>mas</th><th></th><th></th><th></th><th></th><th>pc</th><th>mas</th><th>mas</th><th>km / s</th><th>mas / yr</th><th>mas / yr</th><th>mas / yr</th><th>mas / yr</th><th>mas / yr</th><th>mas / yr</th><th>mas / yr</th><th>mas / yr</th><th>mas / yr</th><th></th><th>K</th><th>log(cm.s**-2)</th><th>mag</th><th>mag</th><th>mag</th><th>mag</th><th>km / s</th><th>km / s</th><th>pc</th><th>pc</th><th></th><th></th><th></th><th></th><th></th><th></th><th></th><th></th><th></th><th></th><th></th><th></th></tr></thead>\n",
       "<thead><tr><th>float64</th><th>float64</th><th>float64</th><th>float64</th><th>float64</th><th>int32</th><th>str11</th><th>int64</th><th>float64</th><th>float64</th><th>float32</th><th>float64</th><th>float64</th><th>float64</th><th>float32</th><th>float64</th><th>float32</th><th>float64</th><th>float64</th><th>float32</th><th>float32</th><th>float64</th><th>float64</th><th>float64</th><th>float64</th><th>float64</th><th>float64</th><th>float64</th><th>float64</th><th>float32</th><th>float64</th><th>float64</th><th>float64</th><th>float32</th><th>float32</th><th>float32</th><th>float32</th><th>float32</th><th>str1</th><th>str1</th><th>float64</th><th>float32</th><th>float32</th><th>float32</th></tr></thead>\n",
       "<tr><td>339.82384023875</td><td>59.01681945374</td><td>0.0097</td><td>0.0105</td><td>1.0890</td><td>--</td><td>3995-1075-1</td><td>2008430237808841600</td><td>2657.56860000</td><td>0.3583</td><td>0.0125</td><td>0.583</td><td>0.046</td><td>-0.019</td><td>0.110</td><td>-0.042</td><td>0.106</td><td>-2.747</td><td>-1.911</td><td>0.013</td><td>0.013</td><td>0.986</td><td>--</td><td>--</td><td>9.840384</td><td>0.868947</td><td>10.178231</td><td>9.309284</td><td>--</td><td>--</td><td>2587.60059000</td><td>2734.51587000</td><td>2181691.83228</td><td>1048</td><td>1.159e+06</td><td>1141</td><td>1.498e+06</td><td>1215</td><td>--</td><td>--</td><td>0.002804</td><td>0.002988</td><td>0.003881</td><td>0.006869</td></tr>\n",
       "<tr><td>340.10268328507</td><td>58.97390297864</td><td>0.0097</td><td>0.0107</td><td>8.0278</td><td>--</td><td>3996-1228-1</td><td>2008380794144211712</td><td>2570.86328000</td><td>0.3525</td><td>0.0122</td><td>0.957</td><td>0.079</td><td>0.049</td><td>0.110</td><td>-0.061</td><td>0.107</td><td>-2.679</td><td>-1.930</td><td>0.013</td><td>0.014</td><td>0.903</td><td>--</td><td>--</td><td>11.482301</td><td>1.201067</td><td>11.985507</td><td>10.784440</td><td>--</td><td>--</td><td>2498.03125000</td><td>2653.16870000</td><td>480868.62054</td><td>798.2</td><td>2.194e+05</td><td>725.5</td><td>3.849e+05</td><td>2491</td><td>--</td><td>--</td><td>0.003292</td><td>0.004547</td><td>0.007978</td><td>0.01253</td></tr>\n",
       "<tr><td>339.82166004461</td><td>59.00297803329</td><td>0.0089</td><td>0.0097</td><td>0.8784</td><td>--</td><td>--</td><td>2008430203449108224</td><td>2525.15747000</td><td>0.3648</td><td>0.0114</td><td>3.200</td><td>0.267</td><td>-0.225</td><td>0.109</td><td>0.145</td><td>0.105</td><td>-2.953</td><td>-1.724</td><td>0.012</td><td>0.012</td><td>0.988</td><td>--</td><td>--</td><td>13.262117</td><td>0.961862</td><td>13.648018</td><td>12.686156</td><td>--</td><td>--</td><td>2459.89844000</td><td>2592.30542000</td><td>93346.90312</td><td>21.67</td><td>4.745e+04</td><td>60.24</td><td>6.679e+04</td><td>44.71</td><td>--</td><td>--</td><td>0.002767</td><td>0.003112</td><td>0.003849</td><td>0.006961</td></tr>\n",
       "<tr><td>339.83338202067</td><td>58.98750271338</td><td>0.0091</td><td>0.0096</td><td>1.1463</td><td>--</td><td>--</td><td>2008383199325604224</td><td>2978.19849000</td><td>0.3072</td><td>0.0117</td><td>2.141</td><td>0.152</td><td>-0.047</td><td>0.109</td><td>-0.144</td><td>0.104</td><td>-2.775</td><td>-2.013</td><td>0.012</td><td>0.011</td><td>0.977</td><td>12569.3</td><td>3.7629</td><td>13.395822</td><td>1.084518</td><td>13.845118</td><td>12.760600</td><td>--</td><td>--</td><td>2882.58301000</td><td>3083.82324000</td><td>82531.22131</td><td>15.52</td><td>3.957e+04</td><td>24.21</td><td>6.236e+04</td><td>37.18</td><td>--</td><td>--</td><td>0.002763</td><td>0.002868</td><td>0.003834</td><td>0.006703</td></tr>\n",
       "<tr><td>339.83149509410</td><td>59.00643294158</td><td>0.0115</td><td>0.0121</td><td>0.5796</td><td>--</td><td>--</td><td>2008430233501492608</td><td>2819.80103000</td><td>0.3264</td><td>0.0143</td><td>0.879</td><td>0.066</td><td>0.045</td><td>0.112</td><td>0.048</td><td>0.108</td><td>-2.683</td><td>-1.821</td><td>0.015</td><td>0.015</td><td>1.106</td><td>11137.8</td><td>3.7591</td><td>13.733361</td><td>1.051120</td><td>14.166042</td><td>13.114923</td><td>--</td><td>--</td><td>2711.16553000</td><td>2953.69116000</td><td>60478.66064</td><td>18.07</td><td>2.944e+04</td><td>28.91</td><td>4.5e+04</td><td>48.77</td><td>--</td><td>--</td><td>0.002774</td><td>0.002987</td><td>0.003958</td><td>0.006945</td></tr>\n",
       "<tr><td>339.84074866849</td><td>59.00514934930</td><td>0.0134</td><td>0.0139</td><td>0.2851</td><td>--</td><td>--</td><td>2008383302404812544</td><td>2604.80005000</td><td>0.3569</td><td>0.0163</td><td>1.375</td><td>0.111</td><td>0.102</td><td>0.115</td><td>-0.044</td><td>0.110</td><td>-2.626</td><td>-1.913</td><td>0.018</td><td>0.017</td><td>1.124</td><td>11638.8</td><td>3.8049</td><td>14.199184</td><td>1.058014</td><td>14.629308</td><td>13.571294</td><td>--</td><td>--</td><td>2466.69116000</td><td>2720.19312000</td><td>39379.74224</td><td>11.71</td><td>1.922e+04</td><td>51.21</td><td>2.956e+04</td><td>27.21</td><td>--</td><td>--</td><td>0.002774</td><td>0.00402</td><td>0.003909</td><td>0.007929</td></tr>\n",
       "<tr><td>339.85983016055</td><td>59.00845000045</td><td>0.0134</td><td>0.0137</td><td>0.3836</td><td>--</td><td>--</td><td>2008384779873564032</td><td>2623.42310000</td><td>0.3563</td><td>0.0168</td><td>0.776</td><td>0.062</td><td>-0.052</td><td>0.114</td><td>0.035</td><td>0.109</td><td>-2.780</td><td>-1.834</td><td>0.017</td><td>0.016</td><td>1.021</td><td>10857.5</td><td>3.8294</td><td>14.490845</td><td>1.049156</td><td>14.918883</td><td>13.869727</td><td>--</td><td>--</td><td>2502.20532000</td><td>2719.62866000</td><td>30102.94455</td><td>6.87</td><td>1.472e+04</td><td>15.67</td><td>2.245e+04</td><td>17.55</td><td>--</td><td>--</td><td>0.002766</td><td>0.00302</td><td>0.003874</td><td>0.006894</td></tr>\n",
       "<tr><td>339.76936809268</td><td>58.98330151380</td><td>0.0146</td><td>0.0149</td><td>2.7984</td><td>--</td><td>--</td><td>2008430066010153216</td><td>2691.21167000</td><td>0.3452</td><td>0.0179</td><td>0.228</td><td>0.018</td><td>-0.016</td><td>0.115</td><td>-0.008</td><td>0.110</td><td>-2.744</td><td>-1.877</td><td>0.018</td><td>0.017</td><td>1.106</td><td>10748.6</td><td>3.8311</td><td>14.639523</td><td>1.056804</td><td>15.072841</td><td>14.016037</td><td>--</td><td>--</td><td>2552.40112000</td><td>2831.95532000</td><td>26250.49507</td><td>6.071</td><td>1.277e+04</td><td>12.93</td><td>1.962e+04</td><td>16.58</td><td>--</td><td>--</td><td>0.002767</td><td>0.002999</td><td>0.003889</td><td>0.006888</td></tr>\n",
       "<tr><td>339.89094820856</td><td>59.02634478779</td><td>0.0143</td><td>0.0145</td><td>1.8188</td><td>--</td><td>--</td><td>2008384814233517312</td><td>2823.75195000</td><td>0.3254</td><td>0.0178</td><td>3.465</td><td>0.259</td><td>0.211</td><td>0.115</td><td>0.150</td><td>0.111</td><td>-2.517</td><td>-1.719</td><td>0.018</td><td>0.018</td><td>1.068</td><td>11708.9</td><td>3.8643</td><td>14.663782</td><td>1.042815</td><td>15.089732</td><td>14.046917</td><td>--</td><td>--</td><td>2696.86523000</td><td>2978.35889000</td><td>25670.48238</td><td>8.169</td><td>1.258e+04</td><td>13.79</td><td>1.907e+04</td><td>13.13</td><td>--</td><td>--</td><td>0.002777</td><td>0.003033</td><td>0.003853</td><td>0.006886</td></tr>\n",
       "<tr><td>...</td><td>...</td><td>...</td><td>...</td><td>...</td><td>...</td><td>...</td><td>...</td><td>...</td><td>...</td><td>...</td><td>...</td><td>...</td><td>...</td><td>...</td><td>...</td><td>...</td><td>...</td><td>...</td><td>...</td><td>...</td><td>...</td><td>...</td><td>...</td><td>...</td><td>...</td><td>...</td><td>...</td><td>...</td><td>...</td><td>...</td><td>...</td><td>...</td><td>...</td><td>...</td><td>...</td><td>...</td><td>...</td><td>...</td><td>...</td><td>...</td><td>...</td><td>...</td><td>...</td></tr>\n",
       "<tr><td>339.85013597027</td><td>59.01876529425</td><td>0.0180</td><td>0.0187</td><td>0.8497</td><td>--</td><td>--</td><td>2008431715277595264</td><td>2965.00854000</td><td>0.3091</td><td>0.0223</td><td>1.907</td><td>0.136</td><td>-0.061</td><td>0.120</td><td>-0.121</td><td>0.116</td><td>-2.789</td><td>-1.990</td><td>0.023</td><td>0.023</td><td>1.006</td><td>10496.6</td><td>3.8085</td><td>15.223435</td><td>1.073070</td><td>15.667108</td><td>14.594038</td><td>--</td><td>--</td><td>2783.73315000</td><td>3157.08447000</td><td>15331.07226</td><td>8.736</td><td>7389</td><td>16.84</td><td>1.152e+04</td><td>18.97</td><td>--</td><td>--</td><td>0.002824</td><td>0.003729</td><td>0.004181</td><td>0.00791</td></tr>\n",
       "<tr><td>339.84831387410</td><td>59.01539206608</td><td>0.0205</td><td>0.0209</td><td>0.6492</td><td>--</td><td>--</td><td>2008430237808846464</td><td>2872.26343000</td><td>0.3298</td><td>0.0256</td><td>1.035</td><td>0.076</td><td>0.042</td><td>0.123</td><td>-0.063</td><td>0.118</td><td>-2.686</td><td>-1.932</td><td>0.026</td><td>0.025</td><td>1.154</td><td>9615.6</td><td>3.5186</td><td>15.255099</td><td>1.167275</td><td>15.747628</td><td>14.580353</td><td>--</td><td>--</td><td>2664.16724000</td><td>3106.97095000</td><td>14890.42340</td><td>4.985</td><td>6861</td><td>20.8</td><td>1.167e+04</td><td>15.1</td><td>--</td><td>--</td><td>0.002779</td><td>0.004315</td><td>0.004032</td><td>0.008347</td></tr>\n",
       "<tr><td>339.84102354496</td><td>59.00765982643</td><td>0.0239</td><td>0.0287</td><td>0.3302</td><td>--</td><td>--</td><td>2008383302396651264</td><td>2738.44067000</td><td>0.3387</td><td>0.0322</td><td>1.129</td><td>0.087</td><td>0.025</td><td>0.128</td><td>-0.083</td><td>0.127</td><td>-2.703</td><td>-1.952</td><td>0.031</td><td>0.034</td><td>1.171</td><td>10549.3</td><td>3.9623</td><td>15.479683</td><td>1.117935</td><td>15.842126</td><td>14.724191</td><td>--</td><td>--</td><td>2475.84814000</td><td>3047.75464000</td><td>12108.03707</td><td>5.334</td><td>6289</td><td>95.44</td><td>1.022e+04</td><td>80.05</td><td>--</td><td>--</td><td>0.002797</td><td>0.01671</td><td>0.009306</td><td>0.02602</td></tr>\n",
       "<tr><td>339.86767041507</td><td>58.99242334208</td><td>0.0211</td><td>0.0214</td><td>0.9139</td><td>--</td><td>--</td><td>2008384711154096256</td><td>2834.92456000</td><td>0.3209</td><td>0.0266</td><td>1.293</td><td>0.096</td><td>-0.084</td><td>0.124</td><td>-0.047</td><td>0.118</td><td>-2.812</td><td>-1.916</td><td>0.027</td><td>0.025</td><td>0.967</td><td>9800.2</td><td>3.7324</td><td>15.563934</td><td>1.124809</td><td>16.032248</td><td>14.907438</td><td>--</td><td>--</td><td>2636.82031000</td><td>3045.08301000</td><td>11204.00057</td><td>3.534</td><td>5279</td><td>12.92</td><td>8633</td><td>9.995</td><td>--</td><td>--</td><td>0.002777</td><td>0.003853</td><td>0.003983</td><td>0.007836</td></tr>\n",
       "<tr><td>339.87289369138</td><td>58.99750815958</td><td>0.0212</td><td>0.0214</td><td>0.8280</td><td>--</td><td>--</td><td>2008384706850332672</td><td>2628.48999000</td><td>0.3584</td><td>0.0261</td><td>1.190</td><td>0.096</td><td>0.085</td><td>0.124</td><td>-0.043</td><td>0.118</td><td>-2.643</td><td>-1.912</td><td>0.027</td><td>0.025</td><td>1.049</td><td>9718.0</td><td>3.9093</td><td>15.589004</td><td>1.296100</td><td>16.110080</td><td>14.813981</td><td>--</td><td>--</td><td>2447.87427000</td><td>2821.11646000</td><td>10948.26647</td><td>3.754</td><td>4913</td><td>22.34</td><td>9410</td><td>57.68</td><td>--</td><td>--</td><td>0.00278</td><td>0.005671</td><td>0.007654</td><td>0.01333</td></tr>\n",
       "<tr><td>339.68492479457</td><td>58.98092636708</td><td>0.0214</td><td>0.0207</td><td>5.2938</td><td>--</td><td>--</td><td>2008429928571503872</td><td>2804.53882000</td><td>0.3256</td><td>0.0253</td><td>0.851</td><td>0.064</td><td>0.060</td><td>0.125</td><td>0.022</td><td>0.119</td><td>-2.668</td><td>-1.847</td><td>0.028</td><td>0.026</td><td>0.995</td><td>9362.3</td><td>3.6086</td><td>15.646296</td><td>1.253544</td><td>16.188630</td><td>14.935085</td><td>--</td><td>--</td><td>2623.29712000</td><td>3011.97534000</td><td>10385.52744</td><td>3.258</td><td>4570</td><td>9.995</td><td>8416</td><td>10.87</td><td>--</td><td>--</td><td>0.002776</td><td>0.003664</td><td>0.004031</td><td>0.007695</td></tr>\n",
       "<tr><td>339.83336433301</td><td>58.91731582410</td><td>0.0211</td><td>0.0219</td><td>5.2623</td><td>--</td><td>--</td><td>2008381996734789760</td><td>2905.41797000</td><td>0.3232</td><td>0.0259</td><td>0.724</td><td>0.053</td><td>-0.030</td><td>0.124</td><td>-0.043</td><td>0.120</td><td>-2.758</td><td>-1.912</td><td>0.027</td><td>0.027</td><td>0.993</td><td>9241.2</td><td>3.9252</td><td>15.658186</td><td>1.256216</td><td>16.204840</td><td>14.948624</td><td>--</td><td>--</td><td>2715.62085000</td><td>3118.02393000</td><td>10272.40752</td><td>3.187</td><td>4503</td><td>9.836</td><td>8312</td><td>11.99</td><td>--</td><td>--</td><td>0.002776</td><td>0.003662</td><td>0.004091</td><td>0.007753</td></tr>\n",
       "<tr><td>339.84101326286</td><td>58.96394402801</td><td>0.0234</td><td>0.0237</td><td>2.4551</td><td>--</td><td>--</td><td>2008382924447706624</td><td>2856.85840000</td><td>0.3286</td><td>0.0290</td><td>5.762</td><td>0.426</td><td>-0.274</td><td>0.128</td><td>0.326</td><td>0.122</td><td>-3.002</td><td>-1.543</td><td>0.031</td><td>0.029</td><td>1.081</td><td>--</td><td>--</td><td>15.730228</td><td>1.321281</td><td>16.307410</td><td>14.986128</td><td>--</td><td>--</td><td>2644.49658000</td><td>3102.47217000</td><td>9612.92056</td><td>2.897</td><td>4097</td><td>7.978</td><td>8030</td><td>9.456</td><td>--</td><td>--</td><td>0.002775</td><td>0.003501</td><td>0.00399</td><td>0.007491</td></tr>\n",
       "<tr><td>339.84610156878</td><td>59.01015714201</td><td>0.0239</td><td>0.0240</td><td>0.3534</td><td>--</td><td>--</td><td>2008383302404810880</td><td>2960.58398000</td><td>0.3244</td><td>0.0296</td><td>1.225</td><td>0.087</td><td>0.002</td><td>0.128</td><td>-0.087</td><td>0.122</td><td>-2.726</td><td>-1.956</td><td>0.031</td><td>0.029</td><td>1.041</td><td>9518.8</td><td>3.5762</td><td>15.754855</td><td>1.137193</td><td>16.225517</td><td>15.088325</td><td>--</td><td>--</td><td>2675.10107000</td><td>3193.39697000</td><td>9397.33770</td><td>3.222</td><td>4418</td><td>20.22</td><td>7308</td><td>28.88</td><td>--</td><td>--</td><td>0.00278</td><td>0.005699</td><td>0.005718</td><td>0.01142</td></tr>\n",
       "<tr><td>339.86091688669</td><td>58.99536617272</td><td>0.0274</td><td>0.0276</td><td>0.6503</td><td>--</td><td>--</td><td>2008383233685344512</td><td>2712.96948000</td><td>0.3577</td><td>0.0343</td><td>0.350</td><td>0.027</td><td>0.007</td><td>0.132</td><td>-0.026</td><td>0.127</td><td>-2.721</td><td>-1.895</td><td>0.035</td><td>0.034</td><td>0.978</td><td>9472.5</td><td>3.8688</td><td>16.096376</td><td>1.206666</td><td>16.607239</td><td>15.400573</td><td>--</td><td>--</td><td>2396.92847000</td><td>3118.50732000</td><td>6861.14434</td><td>2.907</td><td>3108</td><td>10.67</td><td>5482</td><td>12.6</td><td>--</td><td>--</td><td>0.002793</td><td>0.004655</td><td>0.004528</td><td>0.009184</td></tr>\n",
       "</table></div>"
      ],
      "text/plain": [
       "<Table length=27>\n",
       "   RA_ICRS_1       DE_ICRS_1    e_RA_ICRS ...   e_RPmag     e_BP-RP  \n",
       "      deg             deg          mas    ...                        \n",
       "    float64         float64      float64  ...   float32     float32  \n",
       "--------------- --------------- --------- ... ----------- -----------\n",
       "339.82384023875  59.01681945374    0.0097 ...    0.003881    0.006869\n",
       "340.10268328507  58.97390297864    0.0097 ...    0.007978     0.01253\n",
       "339.82166004461  59.00297803329    0.0089 ...    0.003849    0.006961\n",
       "339.83338202067  58.98750271338    0.0091 ...    0.003834    0.006703\n",
       "339.83149509410  59.00643294158    0.0115 ...    0.003958    0.006945\n",
       "339.84074866849  59.00514934930    0.0134 ...    0.003909    0.007929\n",
       "339.85983016055  59.00845000045    0.0134 ...    0.003874    0.006894\n",
       "339.76936809268  58.98330151380    0.0146 ...    0.003889    0.006888\n",
       "339.89094820856  59.02634478779    0.0143 ...    0.003853    0.006886\n",
       "            ...             ...       ... ...         ...         ...\n",
       "339.85013597027  59.01876529425    0.0180 ...    0.004181     0.00791\n",
       "339.84831387410  59.01539206608    0.0205 ...    0.004032    0.008347\n",
       "339.84102354496  59.00765982643    0.0239 ...    0.009306     0.02602\n",
       "339.86767041507  58.99242334208    0.0211 ...    0.003983    0.007836\n",
       "339.87289369138  58.99750815958    0.0212 ...    0.007654     0.01333\n",
       "339.68492479457  58.98092636708    0.0214 ...    0.004031    0.007695\n",
       "339.83336433301  58.91731582410    0.0211 ...    0.004091    0.007753\n",
       "339.84101326286  58.96394402801    0.0234 ...     0.00399    0.007491\n",
       "339.84610156878  59.01015714201    0.0239 ...    0.005718     0.01142\n",
       "339.86091688669  58.99536617272    0.0274 ...    0.004528    0.009184"
      ]
     },
     "execution_count": 52,
     "metadata": {},
     "output_type": "execute_result"
    }
   ],
   "source": [
    "cluster.members"
   ]
  },
  {
   "cell_type": "code",
   "execution_count": 6,
   "metadata": {},
   "outputs": [
    {
     "name": "stdout",
     "output_type": "stream",
     "text": [
      "Berkeley_97 (Changed)\n",
      "Av: 2.539 --> 2.9\n",
      "logage: 7.589 --> 7.1\n",
      "[Fe/H]: -0.1 --> -0.1\n",
      "Theoretical isochrone exists, reading it.\n"
     ]
    }
   ],
   "source": [
    "import matplotlib.pyplot as plt\n",
    "import numpy as np\n",
    "from matplotlib.collections import LineCollection\n",
    "from matplotlib.colors import Normalize\n",
    "%matplotlib qt\n",
    "# Assuming `ti` is already defined\n",
    "ti = theoretical_isochrone(cluster, logage=7.1, Av=2.9, output='table')\n",
    "\n",
    "# Preparing the data\n",
    "x = ti['Teff0']\n",
    "y = ti['Gmag']\n",
    "\n",
    "# Scatter points data\n",
    "scatter_temperatures = np.array([24000, 21000])\n",
    "scatter_magnitudes = np.array([9.840, 9.470])\n",
    "\n",
    "# Combine temperatures for normalization\n",
    "all_temperatures = np.concatenate([x, scatter_temperatures])\n",
    "\n",
    "# Create normalization based on the combined temperature data\n",
    "norm = Normalize(vmin=all_temperatures.min(), vmax=all_temperatures.max())\n",
    "\n",
    "# Creating segments for the line plot\n",
    "points = np.array([x, y]).T.reshape(-1, 1, 2)\n",
    "segments = np.concatenate([points[:-1], points[1:]], axis=1)\n",
    "\n",
    "# Creating the LineCollection\n",
    "lc = LineCollection(segments, cmap='viridis', norm=norm)\n",
    "lc.set_array(x)\n",
    "lc.set_linewidth(2)\n",
    "\n",
    "# Plotting the data\n",
    "fig, ax = plt.subplots()\n",
    "ax.add_collection(lc)\n",
    "\n",
    "# Setting the limits to ensure all data is visible\n",
    "all_magnitudes = np.concatenate([y, scatter_magnitudes])\n",
    "\n",
    "ax.set_xlim(all_temperatures.max(), all_temperatures.min())  # Invert x-axis\n",
    "ax.set_ylim(all_magnitudes.max(), all_magnitudes.min())  # Invert y-axis\n",
    "ax.set_xscale('log')\n",
    "\n",
    "# Adding a color bar to indicate the color mapping\n",
    "cbar = plt.colorbar(lc)\n",
    "cbar.set_label('Teff0')\n",
    "\n",
    "# Adding the scatter points colored according to their temperature with the same normalization\n",
    "scatter = ax.scatter(scatter_temperatures, scatter_magnitudes, c=scatter_temperatures, cmap='viridis', norm=norm, edgecolor='black', zorder=5)\n",
    "\n",
    "# Adding labels next to the scatter points\n",
    "for temp, mag in zip(scatter_temperatures, scatter_magnitudes):\n",
    "    ax.annotate(f'{temp} K', (temp, mag), textcoords=\"offset points\", xytext=(5, 5), ha='center', color='black')\n",
    "\n",
    "# Adding labels and title for clarity\n",
    "plt.xlabel('Teff0 (log scale)')\n",
    "plt.ylabel('Gmag')\n",
    "plt.title('Color-Magnitude Diagram')\n",
    "\n",
    "# Displaying the plot\n",
    "plt.show()\n"
   ]
  },
  {
   "cell_type": "code",
   "execution_count": 11,
   "metadata": {},
   "outputs": [
    {
     "name": "stderr",
     "output_type": "stream",
     "text": [
      "MatplotlibDeprecationWarning: The get_cmap function was deprecated in Matplotlib 3.7 and will be removed two minor releases later. Use ``matplotlib.colormaps[name]`` or ``matplotlib.colormaps.get_cmap(obj)`` instead.\n"
     ]
    }
   ],
   "source": [
    "import matplotlib.pyplot as plt\n",
    "import numpy as np\n",
    "from matplotlib.collections import LineCollection\n",
    "from matplotlib.colors import Normalize\n",
    "\n",
    "# Function to compute theoretical isochrone\n",
    "def theoretical_isochrone(logage, Av):\n",
    "    # Replace this with your actual function call\n",
    "    # ti = theoretical_isochrone(cluster, logage=logage, Av=Av, output='table')\n",
    "    \n",
    "    # Dummy implementation for illustration\n",
    "    teff = np.linspace(5000, 20000, 100)\n",
    "    gmag = 5 * np.log10(teff) - 10\n",
    "    ti = {'Teff0': teff, 'Gmag': gmag}\n",
    "    \n",
    "    return ti\n",
    "\n",
    "# Define parameters to vary\n",
    "logage_values = [7.0, 7.1, 7.2]  # Example values for logage\n",
    "Av_values = [2.5, 2.9, 3.3]     # Example values for Av\n",
    "\n",
    "# Prepare the plot\n",
    "fig, ax = plt.subplots()\n",
    "\n",
    "# Create a colormap and normalization instance\n",
    "cmap = plt.cm.get_cmap('viridis')\n",
    "norm = Normalize(vmin=min(logage_values), vmax=max(logage_values))\n",
    "\n",
    "# Plot each isochrone with varying parameters\n",
    "for logage, Av in zip(logage_values, Av_values):\n",
    "    # Compute theoretical isochrone\n",
    "    ti = theoretical_isochrone(logage, Av)\n",
    "    \n",
    "    # Extract data\n",
    "    x = ti['Teff0']\n",
    "    y = ti['Gmag']\n",
    "    \n",
    "    # Create segments for the line plot\n",
    "    points = np.array([x, y]).T.reshape(-1, 1, 2)\n",
    "    segments = np.concatenate([points[:-1], points[1:]], axis=1)\n",
    "    \n",
    "    # Create LineCollection with appropriate color based on logage\n",
    "    lc = LineCollection(segments, cmap=cmap, norm=norm)\n",
    "    lc.set_array(np.array([logage] * len(x)))\n",
    "    lc.set_linewidth(2)\n",
    "    \n",
    "    # Add LineCollection to the plot\n",
    "    ax.add_collection(lc)\n",
    "\n",
    "# Add color bar to indicate logage\n",
    "cbar = plt.colorbar(lc)\n",
    "cbar.set_label('log(age)')\n",
    "cbar.set_ticks(logage_values)\n",
    "\n",
    "# Invert y-axis for magnitude\n",
    "ax.invert_yaxis()\n",
    "\n",
    "# Set labels and title\n",
    "plt.xlabel('Teff0')\n",
    "plt.ylabel('Gmag')\n",
    "plt.title('Theoretical Isochrones Comparison')\n",
    "\n",
    "# Show plot\n",
    "plt.show()\n"
   ]
  },
  {
   "cell_type": "code",
   "execution_count": 59,
   "metadata": {},
   "outputs": [],
   "source": [
    "plot_cmd(cluster, logage=7.1,Av=2.9,multiple=1)"
   ]
  },
  {
   "cell_type": "code",
   "execution_count": 55,
   "metadata": {},
   "outputs": [
    {
     "name": "stdout",
     "output_type": "stream",
     "text": [
      "=======================================Berkeley_97==================================================\n",
      "All tables present (stars_in_region,stars_fromDR3,stars_fromDR3_dis,fs,nsfs)\n",
      "----------------------------Berkeley_97: traceback--------------------------------------------------\n",
      "Berkeley_97/Berkeley_97_runaways_all.tsv exists. Skipping traceback and temp estimates.\n",
      "257 stars had been checked, 6 traced back to cluster\n",
      "----------Berkeley_97: runaways and isochrone plot--------------------------------------------------\n",
      "0 memebrs do not have BP-RP from Dias.\n",
      "35/58 members matched in dr3 search region,14 have > 17 Gmag\n",
      "27/35 members have good parallax\n",
      "fits image exists in Berkeley_97 folder\n"
     ]
    },
    {
     "name": "stderr",
     "output_type": "stream",
     "text": [
      "ErfaWarning: ERFA function \"taiutc\" yielded 1 of \"dubious year (Note 4)\"\n",
      "ErfaWarning: ERFA function \"pmsafe\" yielded 1 of \"distance overridden (Note 6)\"\n"
     ]
    },
    {
     "name": "stdout",
     "output_type": "stream",
     "text": [
      "1 Runaway(s) found Temp. Est    RA_ICRS_1       DE_ICRS_1    ...   e_RPmag     e_BP-RP  \n",
      "    K           deg             deg       ...                        \n",
      "--------- --------------- --------------- ... ----------- -----------\n",
      "  13630.0 339.89581711423  58.99547917199 ...    0.004229    0.008081\n"
     ]
    }
   ],
   "source": [
    "# reRunCode(cluster, separation_factor=0.5)\n",
    "runCode(cluster,logage=7,Av=3)"
   ]
  },
  {
   "cell_type": "code",
   "execution_count": 34,
   "metadata": {},
   "outputs": [
    {
     "data": {
      "text/html": [
       "<div><i>Table length=49</i>\n",
       "<table id=\"table3030239972816\" class=\"table-striped table-bordered table-condensed\">\n",
       "<thead><tr><th>Temp. Est</th><th>RA_ICRS_1</th><th>DE_ICRS_1</th><th>e_RA_ICRS</th><th>e_DE_ICRS</th><th>_r_1</th><th>HIP</th><th>TYC2</th><th>Source</th><th>rgeo</th><th>Plx</th><th>e_Plx</th><th>v_pec</th><th>µ_pec</th><th>rmRA</th><th>e_rmRA</th><th>rmDE</th><th>e_rmDE</th><th>pmRA</th><th>pmDE</th><th>e_pmRA</th><th>e_pmDE</th><th>RUWE</th><th>Teff</th><th>logg</th><th>Gmag</th><th>BP-RP</th><th>BPmag</th><th>RPmag</th><th>RV</th><th>e_RV</th><th>b_rgeo</th><th>B_rgeo</th><th>FG</th><th>e_FG</th><th>FBP</th><th>e_FBP</th><th>FRP</th><th>e_FRP</th><th>RAVE5</th><th>RAVE6</th><th>e_Gmag</th><th>e_BPmag</th><th>e_RPmag</th><th>e_BP-RP</th></tr></thead>\n",
       "<thead><tr><th>K</th><th>deg</th><th>deg</th><th>mas</th><th>mas</th><th></th><th></th><th></th><th></th><th>pc</th><th>mas</th><th>mas</th><th>km / s</th><th>mas / yr</th><th>mas / yr</th><th>mas / yr</th><th>mas / yr</th><th>mas / yr</th><th>mas / yr</th><th>mas / yr</th><th>mas / yr</th><th>mas / yr</th><th></th><th>K</th><th>log(cm.s**-2)</th><th>mag</th><th>mag</th><th>mag</th><th>mag</th><th>km / s</th><th>km / s</th><th>pc</th><th>pc</th><th></th><th></th><th></th><th></th><th></th><th></th><th></th><th></th><th></th><th></th><th></th><th></th></tr></thead>\n",
       "<thead><tr><th>float64</th><th>float64</th><th>float64</th><th>float64</th><th>float64</th><th>float64</th><th>int32</th><th>str1</th><th>int64</th><th>float64</th><th>float64</th><th>float32</th><th>float64</th><th>float64</th><th>float64</th><th>float32</th><th>float64</th><th>float32</th><th>float64</th><th>float64</th><th>float32</th><th>float32</th><th>float64</th><th>float64</th><th>float64</th><th>float64</th><th>float64</th><th>float64</th><th>float64</th><th>float64</th><th>float32</th><th>float64</th><th>float64</th><th>float64</th><th>float32</th><th>float32</th><th>float32</th><th>float32</th><th>float32</th><th>str1</th><th>str1</th><th>float64</th><th>float32</th><th>float32</th><th>float32</th></tr></thead>\n",
       "<tr><td>9288.0</td><td>339.89581711423</td><td>58.99547917199</td><td>0.0202</td><td>0.0197</td><td>1.5205</td><td>--</td><td>--</td><td>2008384504995669248</td><td>2620.36230000</td><td>0.3560</td><td>0.0241</td><td>29.876</td><td>2.405</td><td>2.349</td><td>0.122</td><td>0.517</td><td>0.117</td><td>-0.379</td><td>-1.352</td><td>0.025</td><td>0.024</td><td>1.086</td><td>9168.0</td><td>3.7061</td><td>15.384143</td><td>1.182070</td><td>15.883185</td><td>14.701116</td><td>--</td><td>--</td><td>2461.53345000</td><td>2759.61401000</td><td>13221.76503</td><td>3.482</td><td>6055</td><td>14.81</td><td>1.044e+04</td><td>18.25</td><td>--</td><td>--</td><td>0.00277</td><td>0.003852</td><td>0.004229</td><td>0.008081</td></tr>\n",
       "<tr><td>8439.0</td><td>339.92937723020</td><td>59.00404480063</td><td>0.0142</td><td>0.0142</td><td>2.4555</td><td>--</td><td>--</td><td>2008384573715370624</td><td>2923.95410000</td><td>0.3111</td><td>0.0174</td><td>22.147</td><td>1.598</td><td>-1.563</td><td>0.115</td><td>-0.333</td><td>0.111</td><td>-4.291</td><td>-2.202</td><td>0.018</td><td>0.018</td><td>1.104</td><td>9302.7</td><td>3.5455</td><td>14.625331</td><td>1.209811</td><td>15.134336</td><td>13.924525</td><td>--</td><td>--</td><td>2765.68970000</td><td>3111.05029000</td><td>26595.89065</td><td>6.887</td><td>1.207e+04</td><td>14.3</td><td>2.135e+04</td><td>25.38</td><td>--</td><td>--</td><td>0.00277</td><td>0.003073</td><td>0.003994</td><td>0.007066</td></tr>\n",
       "<tr><td>8439.0</td><td>340.11961278418</td><td>58.99915127691</td><td>0.0159</td><td>0.0166</td><td>8.3403</td><td>--</td><td>--</td><td>2008381034662369920</td><td>2768.34961000</td><td>0.3392</td><td>0.0194</td><td>32.542</td><td>2.480</td><td>2.281</td><td>0.118</td><td>0.973</td><td>0.114</td><td>-0.447</td><td>-0.896</td><td>0.021</td><td>0.021</td><td>1.142</td><td>9221.7</td><td>3.4526</td><td>14.785446</td><td>1.218026</td><td>15.304078</td><td>14.086052</td><td>--</td><td>--</td><td>2622.75366000</td><td>2950.88965000</td><td>22949.24853</td><td>4.602</td><td>1.032e+04</td><td>11.25</td><td>1.84e+04</td><td>13.88</td><td>--</td><td>--</td><td>0.002764</td><td>0.003031</td><td>0.003867</td><td>0.006898</td></tr>\n",
       "<tr><td>7610.0</td><td>339.82327510265</td><td>59.02791551662</td><td>0.0373</td><td>0.0353</td><td>1.6227</td><td>--</td><td>--</td><td>2008430306528315136</td><td>2914.14893000</td><td>0.3154</td><td>0.0444</td><td>21.453</td><td>1.553</td><td>-1.036</td><td>0.142</td><td>-1.157</td><td>0.136</td><td>-3.764</td><td>-3.026</td><td>0.045</td><td>0.043</td><td>1.051</td><td>--</td><td>--</td><td>16.566925</td><td>1.372125</td><td>17.177988</td><td>15.805863</td><td>--</td><td>--</td><td>2617.74390000</td><td>3300.76758000</td><td>4448.12149</td><td>2.398</td><td>1838</td><td>8.274</td><td>3774</td><td>7.525</td><td>--</td><td>--</td><td>0.002817</td><td>0.005629</td><td>0.004356</td><td>0.009985</td></tr>\n",
       "<tr><td>7517.0</td><td>339.56494819769</td><td>58.99344914887</td><td>0.0102</td><td>0.0102</td><td>8.8317</td><td>--</td><td>--</td><td>2008407491661705216</td><td>2915.46533000</td><td>0.3094</td><td>0.0119</td><td>33.943</td><td>2.456</td><td>-1.604</td><td>0.110</td><td>-1.860</td><td>0.106</td><td>-4.332</td><td>-3.729</td><td>0.013</td><td>0.013</td><td>1.234</td><td>6899.3</td><td>2.8208</td><td>13.123951</td><td>1.392846</td><td>13.738716</td><td>12.345870</td><td>--</td><td>--</td><td>2842.50513000</td><td>3028.43872000</td><td>106014.76839</td><td>30.59</td><td>4.364e+04</td><td>44.13</td><td>9.137e+04</td><td>21.25</td><td>--</td><td>--</td><td>0.002773</td><td>0.002998</td><td>0.003788</td><td>0.006786</td></tr>\n",
       "<tr><td>7492.0</td><td>339.96150942069</td><td>59.05945190536</td><td>0.0364</td><td>0.0338</td><td>4.7645</td><td>--</td><td>--</td><td>2008385329629591424</td><td>2716.07910000</td><td>0.3593</td><td>0.0427</td><td>27.484</td><td>2.135</td><td>-1.785</td><td>0.140</td><td>-1.171</td><td>0.137</td><td>-4.513</td><td>-3.040</td><td>0.043</td><td>0.044</td><td>0.975</td><td>9604.5</td><td>4.0106</td><td>16.551115</td><td>1.518426</td><td>17.218628</td><td>15.700202</td><td>--</td><td>--</td><td>2433.93335000</td><td>3059.97217000</td><td>4513.36761</td><td>2.723</td><td>1770</td><td>15.18</td><td>4160</td><td>12.18</td><td>--</td><td>--</td><td>0.002832</td><td>0.009721</td><td>0.004938</td><td>0.01466</td></tr>\n",
       "<tr><td>7367.0</td><td>339.55127558593</td><td>58.91799587450</td><td>0.0190</td><td>0.0186</td><td>10.6001</td><td>--</td><td>--</td><td>2008406185991730560</td><td>2902.17993000</td><td>0.3132</td><td>0.0227</td><td>32.178</td><td>2.339</td><td>-2.272</td><td>0.122</td><td>-0.557</td><td>0.116</td><td>-5.000</td><td>-2.426</td><td>0.025</td><td>0.023</td><td>1.006</td><td>8971.7</td><td>3.5187</td><td>15.297109</td><td>1.432618</td><td>15.936389</td><td>14.503771</td><td>--</td><td>--</td><td>2719.46582000</td><td>3068.63403000</td><td>14325.28459</td><td>5.592</td><td>5766</td><td>15.75</td><td>1.252e+04</td><td>14.6</td><td>--</td><td>--</td><td>0.002788</td><td>0.004072</td><td>0.003986</td><td>0.008058</td></tr>\n",
       "<tr><td>7306.0</td><td>339.57212568342</td><td>59.04007680090</td><td>0.0354</td><td>0.0334</td><td>8.8388</td><td>--</td><td>--</td><td>2008433978715406336</td><td>2920.62378000</td><td>0.3214</td><td>0.0407</td><td>32.574</td><td>2.353</td><td>-1.939</td><td>0.141</td><td>-1.333</td><td>0.136</td><td>-4.667</td><td>-3.202</td><td>0.044</td><td>0.043</td><td>1.001</td><td>--</td><td>--</td><td>16.514180</td><td>1.461832</td><td>17.176619</td><td>15.714787</td><td>--</td><td>--</td><td>2555.96191000</td><td>3251.21265000</td><td>4669.55275</td><td>2.276</td><td>1840</td><td>10.76</td><td>4104</td><td>8.21</td><td>--</td><td>--</td><td>0.002806</td><td>0.006938</td><td>0.004359</td><td>0.0113</td></tr>\n",
       "<tr><td>7305.0</td><td>339.77322874500</td><td>59.00588597458</td><td>0.0370</td><td>0.0346</td><td>2.3706</td><td>--</td><td>--</td><td>2008430169089361536</td><td>2784.55347000</td><td>0.3524</td><td>0.0441</td><td>50.491</td><td>3.825</td><td>3.217</td><td>0.141</td><td>2.070</td><td>0.134</td><td>0.489</td><td>0.201</td><td>0.044</td><td>0.041</td><td>1.033</td><td>8283.7</td><td>4.4152</td><td>16.489529</td><td>1.557764</td><td>17.201050</td><td>15.643286</td><td>--</td><td>--</td><td>2486.51440000</td><td>3143.10718000</td><td>4776.77789</td><td>2.577</td><td>1799</td><td>11.7</td><td>4384</td><td>10.24</td><td>--</td><td>--</td><td>0.002817</td><td>0.007591</td><td>0.004551</td><td>0.01214</td></tr>\n",
       "<tr><td>...</td><td>...</td><td>...</td><td>...</td><td>...</td><td>...</td><td>...</td><td>...</td><td>...</td><td>...</td><td>...</td><td>...</td><td>...</td><td>...</td><td>...</td><td>...</td><td>...</td><td>...</td><td>...</td><td>...</td><td>...</td><td>...</td><td>...</td><td>...</td><td>...</td><td>...</td><td>...</td><td>...</td><td>...</td><td>...</td><td>...</td><td>...</td><td>...</td><td>...</td><td>...</td><td>...</td><td>...</td><td>...</td><td>...</td><td>...</td><td>...</td><td>...</td><td>...</td><td>...</td><td>...</td></tr>\n",
       "<tr><td>5192.0</td><td>339.76140456251</td><td>58.94647040399</td><td>0.0309</td><td>0.0308</td><td>4.4337</td><td>--</td><td>--</td><td>2008383061888626816</td><td>2365.80688000</td><td>0.3848</td><td>0.0377</td><td>30.096</td><td>2.684</td><td>2.528</td><td>0.136</td><td>0.901</td><td>0.130</td><td>-0.200</td><td>-0.968</td><td>0.039</td><td>0.037</td><td>1.087</td><td>5263.4</td><td>3.5645</td><td>16.023985</td><td>2.175365</td><td>17.154522</td><td>14.979157</td><td>--</td><td>--</td><td>2176.02686000</td><td>2688.73413000</td><td>7334.19977</td><td>3.191</td><td>1878</td><td>6.181</td><td>8082</td><td>16.89</td><td>--</td><td>--</td><td>0.002796</td><td>0.004534</td><td>0.004408</td><td>0.008942</td></tr>\n",
       "<tr><td>5184.0</td><td>339.63211102306</td><td>59.09736433911</td><td>0.0352</td><td>0.0313</td><td>8.7260</td><td>--</td><td>--</td><td>2008434429696889728</td><td>2487.37256000</td><td>0.3721</td><td>0.0402</td><td>32.822</td><td>2.784</td><td>-2.762</td><td>0.142</td><td>0.350</td><td>0.133</td><td>-5.490</td><td>-1.519</td><td>0.045</td><td>0.040</td><td>0.959</td><td>--</td><td>--</td><td>16.416130</td><td>2.188409</td><td>17.531921</td><td>15.343513</td><td>--</td><td>--</td><td>2280.66821000</td><td>2750.33594000</td><td>5110.86832</td><td>3.069</td><td>1326</td><td>8.621</td><td>5778</td><td>13.63</td><td>--</td><td>--</td><td>0.002831</td><td>0.007589</td><td>0.004565</td><td>0.01215</td></tr>\n",
       "<tr><td>5184.0</td><td>339.59621911290</td><td>59.04084170152</td><td>0.0142</td><td>0.0140</td><td>8.1307</td><td>--</td><td>--</td><td>2008433983020297088</td><td>2673.51855000</td><td>0.3367</td><td>0.0164</td><td>34.920</td><td>2.756</td><td>2.363</td><td>0.115</td><td>-1.417</td><td>0.111</td><td>-0.365</td><td>-3.286</td><td>0.018</td><td>0.018</td><td>1.073</td><td>--</td><td>--</td><td>14.547994</td><td>2.191909</td><td>15.687794</td><td>13.495885</td><td>-28.17</td><td>1.71</td><td>2537.22754000</td><td>2814.09692000</td><td>28559.42280</td><td>8.617</td><td>7249</td><td>13.77</td><td>3.168e+04</td><td>22.2</td><td>--</td><td>--</td><td>0.002775</td><td>0.00347</td><td>0.003855</td><td>0.007325</td></tr>\n",
       "<tr><td>5069.0</td><td>339.91118684081</td><td>58.89372945236</td><td>0.0399</td><td>0.0427</td><td>6.9175</td><td>--</td><td>--</td><td>2008378835638877056</td><td>2645.92139000</td><td>0.3541</td><td>0.0496</td><td>39.308</td><td>3.134</td><td>-1.629</td><td>0.148</td><td>2.678</td><td>0.145</td><td>-4.357</td><td>0.809</td><td>0.051</td><td>0.052</td><td>1.030</td><td>6866.1</td><td>4.0456</td><td>16.941164</td><td>2.228628</td><td>18.108822</td><td>15.880194</td><td>--</td><td>--</td><td>2326.35156000</td><td>3021.79761000</td><td>3151.23595</td><td>1.997</td><td>779.6</td><td>7.186</td><td>3524</td><td>10.27</td><td>--</td><td>--</td><td>0.00284</td><td>0.01039</td><td>0.004928</td><td>0.01532</td></tr>\n",
       "<tr><td>4949.0</td><td>340.02577085731</td><td>58.92924779990</td><td>0.0235</td><td>0.0250</td><td>7.0734</td><td>--</td><td>--</td><td>2008380278748143488</td><td>2758.03613000</td><td>0.3325</td><td>0.0291</td><td>25.821</td><td>1.975</td><td>1.795</td><td>0.128</td><td>0.824</td><td>0.124</td><td>-0.933</td><td>-1.045</td><td>0.031</td><td>0.031</td><td>0.976</td><td>5041.3</td><td>2.9841</td><td>15.873330</td><td>2.305133</td><td>17.091478</td><td>14.786345</td><td>--</td><td>--</td><td>2531.14966000</td><td>2985.06274000</td><td>8425.86670</td><td>3.315</td><td>1990</td><td>6.972</td><td>9652</td><td>12.34</td><td>--</td><td>--</td><td>0.002788</td><td>0.004718</td><td>0.004026</td><td>0.008744</td></tr>\n",
       "<tr><td>4744.0</td><td>339.82932796993</td><td>59.05766806717</td><td>0.0130</td><td>0.0130</td><td>3.2466</td><td>--</td><td>--</td><td>2008432058875274496</td><td>2871.58228000</td><td>0.3101</td><td>0.0157</td><td>25.562</td><td>1.878</td><td>-1.377</td><td>0.114</td><td>-1.277</td><td>0.109</td><td>-4.105</td><td>-3.146</td><td>0.017</td><td>0.016</td><td>1.007</td><td>--</td><td>--</td><td>14.307821</td><td>2.386921</td><td>15.586830</td><td>13.199909</td><td>-86.26</td><td>1.80</td><td>2737.18652000</td><td>3026.56201000</td><td>35630.20225</td><td>11.56</td><td>7956</td><td>15.89</td><td>4.161e+04</td><td>25.09</td><td>--</td><td>--</td><td>0.002778</td><td>0.003534</td><td>0.003836</td><td>0.00737</td></tr>\n",
       "<tr><td>4366.0</td><td>340.11578311827</td><td>59.11972045327</td><td>0.0303</td><td>0.0287</td><td>10.7222</td><td>--</td><td>--</td><td>2008391411303287808</td><td>2403.89941000</td><td>0.3724</td><td>0.0353</td><td>32.599</td><td>2.861</td><td>2.387</td><td>0.134</td><td>1.577</td><td>0.129</td><td>-0.341</td><td>-0.292</td><td>0.037</td><td>0.036</td><td>1.024</td><td>4754.9</td><td>2.5614</td><td>16.227755</td><td>2.584357</td><td>17.651157</td><td>15.066800</td><td>--</td><td>--</td><td>2256.09595000</td><td>2664.81763000</td><td>6079.18065</td><td>3.37</td><td>1188</td><td>7.602</td><td>7455</td><td>11.02</td><td>--</td><td>--</td><td>0.00282</td><td>0.007485</td><td>0.004106</td><td>0.01159</td></tr>\n",
       "<tr><td>3234.0</td><td>339.78276898862</td><td>59.07086926297</td><td>0.0265</td><td>0.0264</td><td>4.4837</td><td>--</td><td>--</td><td>2008431406040225664</td><td>2606.06836000</td><td>0.3659</td><td>0.0315</td><td>20.307</td><td>1.644</td><td>-1.223</td><td>0.132</td><td>1.099</td><td>0.127</td><td>-3.951</td><td>-0.770</td><td>0.035</td><td>0.034</td><td>0.995</td><td>--</td><td>--</td><td>11.117977</td><td>3.769605</td><td>13.508001</td><td>9.738397</td><td>-69.25</td><td>0.34</td><td>2369.06812000</td><td>2884.74414000</td><td>672598.26706</td><td>1163</td><td>5.398e+04</td><td>605.7</td><td>1.009e+06</td><td>4436</td><td>--</td><td>--</td><td>0.003334</td><td>0.0125</td><td>0.006089</td><td>0.01859</td></tr>\n",
       "<tr><td>2602.0</td><td>340.03476136149</td><td>59.03717055733</td><td>0.0471</td><td>0.0541</td><td>6.0339</td><td>--</td><td>--</td><td>2008385020393773056</td><td>2665.92017000</td><td>0.3545</td><td>0.0552</td><td>24.030</td><td>1.902</td><td>1.847</td><td>0.158</td><td>0.452</td><td>0.168</td><td>-0.881</td><td>-1.417</td><td>0.061</td><td>0.075</td><td>1.051</td><td>--</td><td>--</td><td>16.527714</td><td>--</td><td>--</td><td>--</td><td>--</td><td>--</td><td>2348.33252000</td><td>3126.21948000</td><td>4611.70203</td><td>4.45</td><td>--</td><td>--</td><td>--</td><td>--</td><td>--</td><td>--</td><td>0.002948</td><td>--</td><td>--</td><td>--</td></tr>\n",
       "<tr><td>2602.0</td><td>339.58283285271</td><td>59.12168876192</td><td>0.1834</td><td>0.1588</td><td>10.8268</td><td>--</td><td>--</td><td>2008435426124887552</td><td>2334.22754000</td><td>0.7233</td><td>0.1840</td><td>34.767</td><td>3.142</td><td>-2.970</td><td>0.365</td><td>1.027</td><td>0.312</td><td>-5.698</td><td>-0.842</td><td>0.268</td><td>0.219</td><td>3.172</td><td>--</td><td>--</td><td>16.978020</td><td>--</td><td>--</td><td>--</td><td>--</td><td>--</td><td>1354.80066000</td><td>3594.84448000</td><td>3046.06180</td><td>9.006</td><td>--</td><td>--</td><td>--</td><td>--</td><td>--</td><td>--</td><td>0.00423</td><td>--</td><td>--</td><td>--</td></tr>\n",
       "</table></div>"
      ],
      "text/plain": [
       "<Table length=49>\n",
       "Temp. Est    RA_ICRS_1       DE_ICRS_1    ...   e_RPmag     e_BP-RP  \n",
       "    K           deg             deg       ...                        \n",
       " float64      float64         float64     ...   float32     float32  \n",
       "--------- --------------- --------------- ... ----------- -----------\n",
       "   9288.0 339.89581711423  58.99547917199 ...    0.004229    0.008081\n",
       "   8439.0 339.92937723020  59.00404480063 ...    0.003994    0.007066\n",
       "   8439.0 340.11961278418  58.99915127691 ...    0.003867    0.006898\n",
       "   7610.0 339.82327510265  59.02791551662 ...    0.004356    0.009985\n",
       "   7517.0 339.56494819769  58.99344914887 ...    0.003788    0.006786\n",
       "   7492.0 339.96150942069  59.05945190536 ...    0.004938     0.01466\n",
       "   7367.0 339.55127558593  58.91799587450 ...    0.003986    0.008058\n",
       "   7306.0 339.57212568342  59.04007680090 ...    0.004359      0.0113\n",
       "   7305.0 339.77322874500  59.00588597458 ...    0.004551     0.01214\n",
       "      ...             ...             ... ...         ...         ...\n",
       "   5192.0 339.76140456251  58.94647040399 ...    0.004408    0.008942\n",
       "   5184.0 339.63211102306  59.09736433911 ...    0.004565     0.01215\n",
       "   5184.0 339.59621911290  59.04084170152 ...    0.003855    0.007325\n",
       "   5069.0 339.91118684081  58.89372945236 ...    0.004928     0.01532\n",
       "   4949.0 340.02577085731  58.92924779990 ...    0.004026    0.008744\n",
       "   4744.0 339.82932796993  59.05766806717 ...    0.003836     0.00737\n",
       "   4366.0 340.11578311827  59.11972045327 ...    0.004106     0.01159\n",
       "   3234.0 339.78276898862  59.07086926297 ...    0.006089     0.01859\n",
       "   2602.0 340.03476136149  59.03717055733 ...          --          --\n",
       "   2602.0 339.58283285271  59.12168876192 ...          --          --"
      ]
     },
     "execution_count": 34,
     "metadata": {},
     "output_type": "execute_result"
    }
   ],
   "source": [
    "cluster.read_table('runaways_all')"
   ]
  }
 ],
 "metadata": {
  "kernelspec": {
   "display_name": "Python 3",
   "language": "python",
   "name": "python3"
  },
  "language_info": {
   "codemirror_mode": {
    "name": "ipython",
    "version": 3
   },
   "file_extension": ".py",
   "mimetype": "text/x-python",
   "name": "python",
   "nbconvert_exporter": "python",
   "pygments_lexer": "ipython3",
   "version": "3.10.9"
  }
 },
 "nbformat": 4,
 "nbformat_minor": 2
}
