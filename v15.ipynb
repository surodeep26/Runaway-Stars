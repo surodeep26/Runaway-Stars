{
 "cells": [
  {
   "cell_type": "code",
   "execution_count": 5,
   "metadata": {},
   "outputs": [],
   "source": [
    "%run runaway_functionsv2\n",
    "# %matplotlib qt\n"
   ]
  },
  {
   "cell_type": "code",
   "execution_count": 14,
   "metadata": {},
   "outputs": [
    {
     "data": {
      "text/html": [
       "<div><i>Table length=1246</i>\n",
       "<table id=\"table140536261481808\" class=\"table-striped table-bordered table-condensed\">\n",
       "<thead><tr><th>RA_ICRS_1</th><th>DE_ICRS_1</th><th>e_RA_ICRS</th><th>e_DE_ICRS</th><th>_r_1</th><th>HIP</th><th>TYC2</th><th>Source</th><th>rgeo</th><th>Plx</th><th>e_Plx</th><th>pmRA</th><th>pmDE</th><th>e_pmRA</th><th>e_pmDE</th><th>RUWE</th><th>Teff</th><th>logg</th><th>Gmag</th><th>BP-RP</th><th>BPmag</th><th>RPmag</th><th>RV</th><th>e_RV</th><th>b_rgeo</th><th>B_rgeo</th><th>FG</th><th>e_FG</th><th>FBP</th><th>e_FBP</th><th>FRP</th><th>e_FRP</th><th>RAVE5</th><th>RAVE6</th><th>e_Gmag</th><th>e_BPmag</th><th>e_RPmag</th><th>e_BP-RP</th><th>SkyCoord</th><th>rmRA</th><th>rmDE</th><th>e_rmRA</th><th>e_rmDE</th><th>rRV</th><th>e_rRV</th><th>v_pec</th><th>v_pec3d</th><th>e_vpec</th><th>e_vpec3d</th></tr></thead>\n",
       "<thead><tr><th>deg</th><th>deg</th><th>mas</th><th>mas</th><th></th><th></th><th></th><th></th><th>pc</th><th>mas</th><th>mas</th><th>mas / yr</th><th>mas / yr</th><th>mas / yr</th><th>mas / yr</th><th></th><th>K</th><th>log(cm.s**-2)</th><th>mag</th><th>mag</th><th>mag</th><th>mag</th><th>km / s</th><th>km / s</th><th>pc</th><th>pc</th><th></th><th></th><th></th><th></th><th></th><th></th><th></th><th></th><th></th><th></th><th></th><th></th><th>deg,deg,pc</th><th>mas / yr</th><th>mas / yr</th><th>mas / yr</th><th>mas / yr</th><th>km / s</th><th>km / s</th><th>km / s</th><th>km / s</th><th>km / s</th><th>km / s</th></tr></thead>\n",
       "<thead><tr><th>float64</th><th>float64</th><th>float64</th><th>float64</th><th>float64</th><th>int32</th><th>str10</th><th>int64</th><th>float64</th><th>float64</th><th>float32</th><th>float64</th><th>float64</th><th>float32</th><th>float32</th><th>float64</th><th>float64</th><th>float64</th><th>float64</th><th>float64</th><th>float64</th><th>float64</th><th>float64</th><th>float32</th><th>float64</th><th>float64</th><th>float64</th><th>float32</th><th>float32</th><th>float32</th><th>float32</th><th>float32</th><th>str1</th><th>str1</th><th>float64</th><th>float32</th><th>float32</th><th>float32</th><th>SkyCoord</th><th>float64</th><th>float64</th><th>float32</th><th>float32</th><th>float64</th><th>float32</th><th>float64</th><th>float64</th><th>float64</th><th>float64</th></tr></thead>\n",
       "<tr><td>99.22725858706</td><td>7.97823468045</td><td>0.0141</td><td>0.0136</td><td>39.9136</td><td>--</td><td>733-1788-1</td><td>3326053327208023936</td><td>1591.49927000</td><td>0.5930</td><td>0.0173</td><td>-1.266</td><td>-1.155</td><td>0.018</td><td>0.014</td><td>0.913</td><td>4614.2</td><td>1.3814</td><td>9.252639</td><td>2.200538</td><td>10.404861</td><td>8.204324</td><td>49.19</td><td>0.16</td><td>1548.73706000</td><td>1637.15125000</td><td>3748792.23428</td><td>1598</td><td>9.408e+05</td><td>1735</td><td>4.144e+06</td><td>3422</td><td>--</td><td>--</td><td>0.002794</td><td>0.003434</td><td>0.003884</td><td>0.007319</td><td>99.22725858706,7.97823468045,1591.49927</td><td>-1.0763750050067902</td><td>1.0281250190734863</td><td>0.24284768</td><td>0.23884769</td><td>29.94</td><td>1.27</td><td>11.228786801637765</td><td>31.98</td><td>2.705549540248419</td><td>1.52</td></tr>\n",
       "<tr><td>98.69055275937</td><td>8.07569472560</td><td>0.0356</td><td>0.0302</td><td>8.1797</td><td>--</td><td>733-1687-1</td><td>3326026144355977472</td><td>1458.14001000</td><td>0.6601</td><td>0.0421</td><td>-1.403</td><td>0.651</td><td>0.039</td><td>0.031</td><td>1.529</td><td>--</td><td>--</td><td>9.317637</td><td>0.329390</td><td>9.419267</td><td>9.089877</td><td>--</td><td>--</td><td>1378.07080000</td><td>1536.19507000</td><td>3530953.30802</td><td>1620</td><td>2.332e+06</td><td>5770</td><td>1.833e+06</td><td>2216</td><td>--</td><td>--</td><td>0.0028</td><td>0.003873</td><td>0.004001</td><td>0.007874</td><td>98.69055275937,8.0756947256,1458.14001</td><td>-1.2133750050067902</td><td>2.834125019073486</td><td>0.26384768</td><td>0.2558477</td><td>--</td><td>--</td><td>21.30802513378318</td><td>--</td><td>5.478361559307416</td><td>--</td></tr>\n",
       "<tr><td>98.49450273357</td><td>7.75882325570</td><td>0.0234</td><td>0.0244</td><td>17.1786</td><td>--</td><td>--</td><td>3325966637588331904</td><td>1422.33301000</td><td>0.6829</td><td>0.0311</td><td>0.397</td><td>-1.004</td><td>0.029</td><td>0.025</td><td>1.989</td><td>4636.4</td><td>1.8177</td><td>10.560462</td><td>1.862149</td><td>11.482549</td><td>9.620399</td><td>71.39</td><td>2.28</td><td>1364.09021000</td><td>1480.81653000</td><td>1123989.10264</td><td>310.9</td><td>3.487e+05</td><td>336.8</td><td>1.125e+06</td><td>398.9</td><td>--</td><td>--</td><td>0.002772</td><td>0.002981</td><td>0.003799</td><td>0.00678</td><td>98.49450273357,7.7588232557,1422.33301</td><td>0.5866249949932099</td><td>1.1791250190734863</td><td>0.2538477</td><td>0.2498477</td><td>52.14</td><td>3.39</td><td>8.878965392361131</td><td>52.89</td><td>2.225480673031585</td><td>3.36</td></tr>\n",
       "<tr><td>98.91793033140</td><td>8.40607900769</td><td>0.0277</td><td>0.0232</td><td>30.7213</td><td>--</td><td>--</td><td>3326133660275716480</td><td>1192.20020000</td><td>0.8168</td><td>0.0316</td><td>3.212</td><td>0.952</td><td>0.030</td><td>0.024</td><td>1.821</td><td>--</td><td>--</td><td>11.122290</td><td>1.406081</td><td>11.761770</td><td>10.355689</td><td>50.24</td><td>0.77</td><td>1148.89038000</td><td>1250.99280000</td><td>669932.02689</td><td>165.4</td><td>2.696e+05</td><td>163.5</td><td>5.713e+05</td><td>246.5</td><td>--</td><td>--</td><td>0.002768</td><td>0.002867</td><td>0.003808</td><td>0.006675</td><td>98.9179303314,8.40607900769,1192.2002</td><td>3.40162499499321</td><td>3.1351250190734863</td><td>0.25484768</td><td>0.2488477</td><td>30.99</td><td>1.88</td><td>26.141773209726033</td><td>40.54</td><td>6.590592675179801</td><td>4.49</td></tr>\n",
       "<tr><td>98.80943694927</td><td>8.02405631161</td><td>0.0143</td><td>0.0132</td><td>14.9497</td><td>--</td><td>733-1827-1</td><td>3325977426545923840</td><td>1605.87500000</td><td>0.6013</td><td>0.0165</td><td>2.491</td><td>-3.233</td><td>0.018</td><td>0.016</td><td>0.950</td><td>--</td><td>--</td><td>11.189508</td><td>1.873466</td><td>12.116813</td><td>10.243346</td><td>54.60</td><td>0.20</td><td>1569.39270000</td><td>1654.23608000</td><td>629714.19999</td><td>137.1</td><td>1.944e+05</td><td>153.6</td><td>6.336e+05</td><td>217.9</td><td>--</td><td>--</td><td>0.002765</td><td>0.002919</td><td>0.003798</td><td>0.006717</td><td>98.80943694927,8.02405631161,1605.875</td><td>2.68062499499321</td><td>-1.0498749809265138</td><td>0.24284768</td><td>0.24084769</td><td>35.35</td><td>1.31</td><td>21.913645483039886</td><td>41.59</td><td>5.315870165917745</td><td>3.01</td></tr>\n",
       "<tr><td>98.32807784189</td><td>7.85959204576</td><td>0.0283</td><td>0.0251</td><td>17.3699</td><td>--</td><td>733-2008-1</td><td>3325994876995037824</td><td>1207.66919000</td><td>0.8004</td><td>0.0329</td><td>-0.988</td><td>-7.367</td><td>0.032</td><td>0.025</td><td>1.391</td><td>5133.8</td><td>2.7982</td><td>11.342217</td><td>1.351886</td><td>11.946281</td><td>10.594396</td><td>-26.32</td><td>1.19</td><td>1168.05396000</td><td>1258.94336000</td><td>547091.22454</td><td>125.6</td><td>2.275e+05</td><td>103.9</td><td>4.586e+05</td><td>203.2</td><td>--</td><td>--</td><td>0.002767</td><td>0.002834</td><td>0.00381</td><td>0.006644</td><td>98.32807784189,7.85959204576,1207.66919</td><td>-0.7983750050067902</td><td>-5.183874980926514</td><td>0.25684768</td><td>0.2498477</td><td>-45.57</td><td>2.30</td><td>30.02419190903883</td><td>54.57</td><td>7.506411329747386</td><td>4.55</td></tr>\n",
       "<tr><td>98.15627576457</td><td>8.56722476217</td><td>0.0173</td><td>0.0162</td><td>39.7161</td><td>--</td><td>--</td><td>3326255495610553728</td><td>1175.12512000</td><td>0.8252</td><td>0.0189</td><td>-1.074</td><td>4.618</td><td>0.020</td><td>0.017</td><td>1.133</td><td>4952.4</td><td>2.7904</td><td>11.348566</td><td>1.440937</td><td>12.007280</td><td>10.566343</td><td>40.51</td><td>0.21</td><td>1149.72412000</td><td>1201.94348000</td><td>543901.81906</td><td>159.3</td><td>2.15e+05</td><td>135.1</td><td>4.706e+05</td><td>233.1</td><td>--</td><td>--</td><td>0.002774</td><td>0.002872</td><td>0.003817</td><td>0.00669</td><td>98.15627576457,8.56722476217,1175.12512</td><td>-0.8843750050067902</td><td>6.801125019073487</td><td>0.24484769</td><td>0.2418477</td><td>21.26</td><td>1.32</td><td>38.201832951479794</td><td>43.72</td><td>9.240942431076014</td><td>8.10</td></tr>\n",
       "<tr><td>97.96487496352</td><td>8.37047650789</td><td>0.0135</td><td>0.0125</td><td>40.4878</td><td>--</td><td>--</td><td>3326245913541910144</td><td>1298.25244000</td><td>0.7440</td><td>0.0154</td><td>-5.272</td><td>1.867</td><td>0.016</td><td>0.014</td><td>0.975</td><td>4912.7</td><td>2.5467</td><td>11.382548</td><td>1.399843</td><td>12.016293</td><td>10.616449</td><td>53.85</td><td>0.25</td><td>1269.80774000</td><td>1324.56653000</td><td>527141.84716</td><td>106.4</td><td>2.133e+05</td><td>117.3</td><td>4.493e+05</td><td>195.6</td><td>--</td><td>--</td><td>0.002764</td><td>0.002853</td><td>0.003809</td><td>0.006662</td><td>97.96487496352,8.37047650789,1298.25244</td><td>-5.08237500500679</td><td>4.050125019073486</td><td>0.24084769</td><td>0.23884769</td><td>34.60</td><td>1.36</td><td>39.99160605114638</td><td>52.88</td><td>9.600899974543367</td><td>7.31</td></tr>\n",
       "<tr><td>98.15279772762</td><td>7.86039033887</td><td>0.0160</td><td>0.0150</td><td>26.3448</td><td>--</td><td>--</td><td>3326005876409664640</td><td>1210.59717000</td><td>0.8020</td><td>0.0177</td><td>-1.614</td><td>-7.030</td><td>0.019</td><td>0.017</td><td>0.954</td><td>4880.7</td><td>2.7141</td><td>11.449561</td><td>1.348741</td><td>12.054961</td><td>10.706221</td><td>2.38</td><td>0.31</td><td>1181.71948000</td><td>1232.01440000</td><td>495589.65620</td><td>112.5</td><td>2.058e+05</td><td>124.8</td><td>4.137e+05</td><td>182.3</td><td>--</td><td>--</td><td>0.002766</td><td>0.002867</td><td>0.00381</td><td>0.006676</td><td>98.15279772762,7.86039033887,1210.59717</td><td>-1.4243750050067903</td><td>-4.846874980926514</td><td>0.24384768</td><td>0.2418477</td><td>-16.87</td><td>1.42</td><td>28.98859659238016</td><td>33.54</td><td>7.015451749829654</td><td>6.11</td></tr>\n",
       "<tr><td>...</td><td>...</td><td>...</td><td>...</td><td>...</td><td>...</td><td>...</td><td>...</td><td>...</td><td>...</td><td>...</td><td>...</td><td>...</td><td>...</td><td>...</td><td>...</td><td>...</td><td>...</td><td>...</td><td>...</td><td>...</td><td>...</td><td>...</td><td>...</td><td>...</td><td>...</td><td>...</td><td>...</td><td>...</td><td>...</td><td>...</td><td>...</td><td>...</td><td>...</td><td>...</td><td>...</td><td>...</td><td>...</td><td>...</td><td>...</td><td>...</td><td>...</td><td>...</td><td>...</td><td>...</td><td>...</td><td>...</td><td>...</td><td>...</td></tr>\n",
       "<tr><td>98.55204464417</td><td>8.14887058559</td><td>0.0772</td><td>0.0666</td><td>6.6567</td><td>--</td><td>--</td><td>3326030645483874176</td><td>1271.83850000</td><td>0.7880</td><td>0.0850</td><td>3.062</td><td>-3.813</td><td>0.087</td><td>0.070</td><td>1.032</td><td>4491.8</td><td>4.8262</td><td>16.980230</td><td>1.328722</td><td>17.566385</td><td>16.237663</td><td>--</td><td>--</td><td>1145.08118000</td><td>1460.43201000</td><td>3039.86591</td><td>3.461</td><td>1285</td><td>17.42</td><td>2536</td><td>21.22</td><td>--</td><td>--</td><td>0.00302</td><td>0.01498</td><td>0.009839</td><td>0.02482</td><td>98.55204464417,8.14887058559,1271.8385</td><td>3.2516249949932097</td><td>-1.6298749809265138</td><td>0.3118477</td><td>0.2948477</td><td>--</td><td>--</td><td>21.927189466359682</td><td>--</td><td>6.764741146545446</td><td>--</td></tr>\n",
       "<tr><td>98.32250518818</td><td>7.88750022642</td><td>0.0697</td><td>0.0644</td><td>16.6674</td><td>--</td><td>--</td><td>3326018555153017600</td><td>1672.80103000</td><td>0.5868</td><td>0.0807</td><td>2.720</td><td>-3.930</td><td>0.075</td><td>0.064</td><td>1.017</td><td>4860.4</td><td>4.6605</td><td>16.980532</td><td>1.142588</td><td>17.462969</td><td>16.320381</td><td>--</td><td>--</td><td>1501.95068000</td><td>1904.84363000</td><td>3039.02204</td><td>2.886</td><td>1413</td><td>14.44</td><td>2350</td><td>9.902</td><td>--</td><td>--</td><td>0.002942</td><td>0.01144</td><td>0.005934</td><td>0.01737</td><td>98.32250518818,7.88750022642,1672.80103</td><td>2.90962499499321</td><td>-1.7468749809265138</td><td>0.2998477</td><td>0.28884768</td><td>--</td><td>--</td><td>26.909247133275578</td><td>--</td><td>7.991317310043898</td><td>--</td></tr>\n",
       "<tr><td>98.87935108930</td><td>8.56959146022</td><td>0.0613</td><td>0.0621</td><td>37.1550</td><td>--</td><td>--</td><td>3326149770694736896</td><td>1436.36719000</td><td>0.6979</td><td>0.0781</td><td>4.558</td><td>-3.100</td><td>0.076</td><td>0.061</td><td>1.006</td><td>4697.1</td><td>4.7238</td><td>16.983614</td><td>1.456156</td><td>17.660145</td><td>16.203989</td><td>--</td><td>--</td><td>1317.99683000</td><td>1606.39087000</td><td>3030.40610</td><td>2.364</td><td>1179</td><td>18.22</td><td>2616</td><td>18.96</td><td>--</td><td>--</td><td>0.002883</td><td>0.01701</td><td>0.008731</td><td>0.02574</td><td>98.8793510893,8.56959146022,1436.36719</td><td>4.74762499499321</td><td>-0.9168749809265138</td><td>0.30084768</td><td>0.2858477</td><td>--</td><td>--</td><td>32.92089777039108</td><td>--</td><td>9.886847908994172</td><td>--</td></tr>\n",
       "<tr><td>99.06368463833</td><td>7.73507453666</td><td>0.0755</td><td>0.0657</td><td>35.1150</td><td>--</td><td>--</td><td>3325954538661520128</td><td>1594.71338000</td><td>0.6365</td><td>0.0840</td><td>0.686</td><td>3.682</td><td>0.101</td><td>0.081</td><td>1.093</td><td>4860.6</td><td>4.8109</td><td>16.987967</td><td>1.278536</td><td>17.539341</td><td>16.260805</td><td>--</td><td>--</td><td>1388.23059000</td><td>1778.46313000</td><td>3018.28585</td><td>2.657</td><td>1317</td><td>20.6</td><td>2482</td><td>13.66</td><td>--</td><td>--</td><td>0.002916</td><td>0.0172</td><td>0.007071</td><td>0.02428</td><td>99.06368463833,7.73507453666,1594.71338</td><td>0.8756249949932099</td><td>5.865125019073487</td><td>0.3258477</td><td>0.3058477</td><td>--</td><td>--</td><td>44.82548540804249</td><td>--</td><td>13.729942278756317</td><td>--</td></tr>\n",
       "<tr><td>98.33496125992</td><td>8.19063620866</td><td>0.0638</td><td>0.0662</td><td>16.1125</td><td>--</td><td>--</td><td>3326044939135095936</td><td>1560.73511000</td><td>0.6498</td><td>0.0839</td><td>-3.652</td><td>3.233</td><td>0.081</td><td>0.062</td><td>0.999</td><td>4713.7</td><td>4.8031</td><td>16.988220</td><td>1.209833</td><td>17.519169</td><td>16.309336</td><td>--</td><td>--</td><td>1396.49976000</td><td>1794.02820000</td><td>3017.57809</td><td>2.615</td><td>1342</td><td>12.8</td><td>2374</td><td>17.31</td><td>--</td><td>--</td><td>0.002912</td><td>0.01073</td><td>0.008774</td><td>0.0195</td><td>98.33496125992,8.19063620866,1560.73511</td><td>-3.4623750050067903</td><td>5.416125019073487</td><td>0.3058477</td><td>0.28684768</td><td>--</td><td>--</td><td>47.555480934175996</td><td>--</td><td>13.909354825602838</td><td>--</td></tr>\n",
       "<tr><td>98.24905988941</td><td>8.14748756858</td><td>0.0623</td><td>0.0658</td><td>19.5018</td><td>--</td><td>--</td><td>3326038552520266368</td><td>1632.73962000</td><td>0.6165</td><td>0.0777</td><td>2.688</td><td>-2.753</td><td>0.074</td><td>0.065</td><td>1.004</td><td>4959.0</td><td>4.7428</td><td>16.989273</td><td>1.165010</td><td>17.488990</td><td>16.323980</td><td>--</td><td>--</td><td>1478.71692000</td><td>1890.36682000</td><td>3014.65609</td><td>2.365</td><td>1380</td><td>13.63</td><td>2342</td><td>8.666</td><td>--</td><td>--</td><td>0.002884</td><td>0.01109</td><td>0.005516</td><td>0.0166</td><td>98.24905988941,8.14748756858,1632.73962</td><td>2.87762499499321</td><td>-0.5698749809265138</td><td>0.29884768</td><td>0.28984767</td><td>--</td><td>--</td><td>22.702981815656745</td><td>--</td><td>6.777134215017493</td><td>--</td></tr>\n",
       "<tr><td>98.35763086189</td><td>8.33300222328</td><td>0.1117</td><td>0.1057</td><td>21.3305</td><td>--</td><td>--</td><td>3326236017937085056</td><td>1307.78967000</td><td>0.7713</td><td>0.1357</td><td>3.405</td><td>-11.141</td><td>0.130</td><td>0.104</td><td>1.538</td><td>4540.3</td><td>4.3812</td><td>16.996803</td><td>1.620651</td><td>17.707994</td><td>16.087343</td><td>--</td><td>--</td><td>1153.57190000</td><td>1526.48120000</td><td>2993.81805</td><td>5.14</td><td>1128</td><td>8.642</td><td>2912</td><td>14.01</td><td>--</td><td>--</td><td>0.003327</td><td>0.008775</td><td>0.006446</td><td>0.01522</td><td>98.35763086189,8.33300222328,1307.78967</td><td>3.5946249949932096</td><td>-8.957874980926514</td><td>0.35484767</td><td>0.3288477</td><td>--</td><td>--</td><td>59.83320902185499</td><td>--</td><td>19.899038549625125</td><td>--</td></tr>\n",
       "<tr><td>98.94930765618</td><td>7.52175922575</td><td>0.0657</td><td>0.0669</td><td>38.7341</td><td>--</td><td>--</td><td>3133790967330694784</td><td>1414.28174000</td><td>0.6816</td><td>0.0861</td><td>0.832</td><td>-6.936</td><td>0.080</td><td>0.068</td><td>0.990</td><td>4792.0</td><td>4.6120</td><td>16.997640</td><td>1.493210</td><td>17.688526</td><td>16.195316</td><td>--</td><td>--</td><td>1277.40723000</td><td>1586.74658000</td><td>2991.51251</td><td>2.748</td><td>1148</td><td>13.65</td><td>2636</td><td>12.78</td><td>--</td><td>--</td><td>0.00293</td><td>0.0132</td><td>0.00648</td><td>0.01968</td><td>98.94930765618,7.52175922575,1414.28174</td><td>1.0216249949932097</td><td>-4.752874980926514</td><td>0.3048477</td><td>0.2928477</td><td>--</td><td>--</td><td>32.58957137388736</td><td>--</td><td>9.56138926114994</td><td>--</td></tr>\n",
       "<tr><td>97.91621564650</td><td>8.10503385487</td><td>0.0618</td><td>0.0589</td><td>38.3488</td><td>--</td><td>--</td><td>3326205227313510400</td><td>1664.76746000</td><td>0.6003</td><td>0.0732</td><td>0.433</td><td>-4.966</td><td>0.074</td><td>0.063</td><td>0.980</td><td>4781.9</td><td>4.7475</td><td>16.998352</td><td>1.262329</td><td>17.552574</td><td>16.290245</td><td>--</td><td>--</td><td>1473.54761000</td><td>1897.17517000</td><td>2989.54933</td><td>2.735</td><td>1301</td><td>11.59</td><td>2416</td><td>13.89</td><td>--</td><td>--</td><td>0.002929</td><td>0.01007</td><td>0.007298</td><td>0.01736</td><td>97.9162156465,8.10503385487,1664.76746</td><td>0.6226249949932099</td><td>-2.782874980926514</td><td>0.29884768</td><td>0.2878477</td><td>--</td><td>--</td><td>22.502567594074886</td><td>--</td><td>6.489326451233719</td><td>--</td></tr>\n",
       "<tr><td>98.30948053417</td><td>7.82081121071</td><td>0.0741</td><td>0.0665</td><td>19.7088</td><td>--</td><td>--</td><td>3325991685837657088</td><td>1376.95911000</td><td>0.7197</td><td>0.0870</td><td>4.573</td><td>3.575</td><td>0.085</td><td>0.068</td><td>0.993</td><td>4703.7</td><td>4.8240</td><td>16.999674</td><td>1.250551</td><td>17.544033</td><td>16.293482</td><td>--</td><td>--</td><td>1227.65234000</td><td>1555.85876000</td><td>2985.91232</td><td>3.282</td><td>1312</td><td>11.33</td><td>2409</td><td>21.18</td><td>--</td><td>--</td><td>0.003003</td><td>0.009787</td><td>0.01027</td><td>0.02005</td><td>98.30948053417,7.82081121071,1376.95911</td><td>4.76262499499321</td><td>5.7581250190734865</td><td>0.30984768</td><td>0.2928477</td><td>--</td><td>--</td><td>48.77156011543055</td><td>--</td><td>14.625109854627155</td><td>--</td></tr>\n",
       "</table></div>"
      ],
      "text/plain": [
       "<Table length=1246>\n",
       "   RA_ICRS_1       DE_ICRS_1    e_RA_ICRS ...       e_vpec       e_vpec3d\n",
       "      deg             deg          mas    ...       km / s        km / s \n",
       "    float64         float64      float64  ...      float64       float64 \n",
       "--------------- --------------- --------- ... ------------------ --------\n",
       " 99.22725858706   7.97823468045    0.0141 ...  2.705549540248419     1.52\n",
       " 98.69055275937   8.07569472560    0.0356 ...  5.478361559307416       --\n",
       " 98.49450273357   7.75882325570    0.0234 ...  2.225480673031585     3.36\n",
       " 98.91793033140   8.40607900769    0.0277 ...  6.590592675179801     4.49\n",
       " 98.80943694927   8.02405631161    0.0143 ...  5.315870165917745     3.01\n",
       " 98.32807784189   7.85959204576    0.0283 ...  7.506411329747386     4.55\n",
       " 98.15627576457   8.56722476217    0.0173 ...  9.240942431076014     8.10\n",
       " 97.96487496352   8.37047650789    0.0135 ...  9.600899974543367     7.31\n",
       " 98.15279772762   7.86039033887    0.0160 ...  7.015451749829654     6.11\n",
       "            ...             ...       ... ...                ...      ...\n",
       " 98.55204464417   8.14887058559    0.0772 ...  6.764741146545446       --\n",
       " 98.32250518818   7.88750022642    0.0697 ...  7.991317310043898       --\n",
       " 98.87935108930   8.56959146022    0.0613 ...  9.886847908994172       --\n",
       " 99.06368463833   7.73507453666    0.0755 ... 13.729942278756317       --\n",
       " 98.33496125992   8.19063620866    0.0638 ... 13.909354825602838       --\n",
       " 98.24905988941   8.14748756858    0.0623 ...  6.777134215017493       --\n",
       " 98.35763086189   8.33300222328    0.1117 ... 19.899038549625125       --\n",
       " 98.94930765618   7.52175922575    0.0657 ...   9.56138926114994       --\n",
       " 97.91621564650   8.10503385487    0.0618 ...  6.489326451233719       --\n",
       " 98.30948053417   7.82081121071    0.0741 ... 14.625109854627155       --"
      ]
     },
     "execution_count": 14,
     "metadata": {},
     "output_type": "execute_result"
    }
   ],
   "source": [
    "from runaway_functionsv3 import Cluster\n",
    "cluster = Cluster(\"Basel_8\")\n",
    "def fast_stars_in_region(cluster):\n",
    "    sir = cluster.stars_in_region()\n",
    "    mask_fast2d = sir['v_pec'] > 17.6*u.km/u.s\n",
    "    mask_vpec3ddosentexist = sir['v_pec3d'].mask\n",
    "    mask_fast3d = sir['v_pec3d'] > 25*u.km/u.s\n",
    "    \n",
    "    return sir[(mask_fast2d & mask_vpec3ddosentexist) | mask_fast3d]\n",
    "fast_stars_in_region(cluster)"
   ]
  },
  {
   "cell_type": "code",
   "execution_count": 2,
   "metadata": {},
   "outputs": [
    {
     "name": "stdout",
     "output_type": "stream",
     "text": [
      "hi\n"
     ]
    }
   ],
   "source": [
    "from astroquery.simbad import Simbad\n",
    "Simbad.query_object(objectname)"
   ]
  },
  {
   "cell_type": "code",
   "execution_count": 25,
   "metadata": {},
   "outputs": [
    {
     "name": "stdout",
     "output_type": "stream",
     "text": [
      "Original Data\n",
      "2 memebrs do not have BP-RP from Dias.\n",
      "144/240 members matched in dr3 search region,81 have > 17 Gmag\n",
      "144/144 members have good parallax\n",
      "File ./Clusters/Alessi_43/Alessi_43_runaways.tsv not present.\n",
      "iso_4_temp0 Av:0.912, logage:6.763, FeH:-0.051\n",
      "iso_4_temp Av:0.912, logage:6.763, FeH:-0.051\n",
      "calculating temperatures based on: {}\n"
     ]
    },
    {
     "data": {
      "text/plain": [
       "<AxesSubplot: title={'center': 'CMD for Alessi_43'}, xlabel='$G_{BP}-G_{RP}$ (mag)', ylabel='$G$ (mag)'>"
      ]
     },
     "execution_count": 25,
     "metadata": {},
     "output_type": "execute_result"
    }
   ],
   "source": [
    "cluster = Cluster('Alessi_43')\n",
    "# runCode(cluster)\n",
    "plot_cmd(cluster)"
   ]
  },
  {
   "cell_type": "code",
   "execution_count": 24,
   "metadata": {},
   "outputs": [
    {
     "data": {
      "text/html": [
       "<div><i>Table length=1</i>\n",
       "<table id=\"table123270763389456\" class=\"table-striped table-bordered table-condensed\">\n",
       "<thead><tr><th>RA_ICRS_1</th><th>DE_ICRS_1</th><th>e_RA_ICRS</th><th>e_DE_ICRS</th><th>_r_1</th><th>HIP</th><th>TYC2</th><th>Source</th><th>rgeo</th><th>Plx</th><th>e_Plx</th><th>pmRA</th><th>pmDE</th><th>e_pmRA</th><th>e_pmDE</th><th>RUWE</th><th>Teff</th><th>logg</th><th>Gmag</th><th>BP-RP</th><th>BPmag</th><th>RPmag</th><th>RV</th><th>e_RV</th><th>b_rgeo</th><th>B_rgeo</th><th>FG</th><th>e_FG</th><th>FBP</th><th>e_FBP</th><th>FRP</th><th>e_FRP</th><th>RAVE5</th><th>RAVE6</th><th>e_Gmag</th><th>e_BPmag</th><th>e_RPmag</th><th>e_BP-RP</th><th>SkyCoord</th><th>rmRA</th><th>rmDE</th><th>v_pec</th><th>Temp. Est</th></tr></thead>\n",
       "<thead><tr><th>deg</th><th>deg</th><th>mas</th><th>mas</th><th></th><th></th><th></th><th></th><th>pc</th><th>mas</th><th>mas</th><th>mas / yr</th><th>mas / yr</th><th>mas / yr</th><th>mas / yr</th><th></th><th>K</th><th>log(cm.s**-2)</th><th>mag</th><th>mag</th><th>mag</th><th>mag</th><th>km / s</th><th>km / s</th><th>pc</th><th>pc</th><th></th><th></th><th></th><th></th><th></th><th></th><th></th><th></th><th></th><th></th><th></th><th></th><th>deg,deg,pc</th><th>mas / yr</th><th>mas / yr</th><th>km / s</th><th>K</th></tr></thead>\n",
       "<thead><tr><th>float64</th><th>float64</th><th>float64</th><th>float64</th><th>float64</th><th>int32</th><th>str10</th><th>int64</th><th>float64</th><th>float64</th><th>float32</th><th>float64</th><th>float64</th><th>float32</th><th>float32</th><th>float64</th><th>float64</th><th>float64</th><th>float64</th><th>float64</th><th>float64</th><th>float64</th><th>float64</th><th>float32</th><th>float64</th><th>float64</th><th>float64</th><th>float32</th><th>float32</th><th>float32</th><th>float32</th><th>float32</th><th>str1</th><th>str1</th><th>float64</th><th>float32</th><th>float32</th><th>float32</th><th>SkyCoord</th><th>float64</th><th>float64</th><th>float64</th><th>float64</th></tr></thead>\n",
       "<tr><td>133.50740483154</td><td>-42.13832490675</td><td>0.0132</td><td>0.0149</td><td>44.7298</td><td>--</td><td>--</td><td>5524355337493304832</td><td>927.84228500</td><td>1.0446</td><td>0.0172</td><td>9.759</td><td>-16.466</td><td>0.018</td><td>0.019</td><td>1.050</td><td>15014.8</td><td>4.5993</td><td>14.726832</td><td>1.661750</td><td>15.506360</td><td>13.844610</td><td>31.15</td><td>5.81</td><td>913.74408000</td><td>946.44604500</td><td>24222.21574</td><td>8.685</td><td>8568</td><td>18.94</td><td>2.298e+04</td><td>25.09</td><td>--</td><td>--</td><td>0.002783</td><td>0.00368</td><td>0.003961</td><td>0.007641</td><td>133.50740483154,-42.13832490675,927.842285</td><td>15.289720710754395</td><td>-20.38591925239563</td><td>112.07163078207608</td><td>15014.8</td></tr>\n",
       "</table></div>"
      ],
      "text/plain": [
       "<Table length=1>\n",
       "   RA_ICRS_1       DE_ICRS_1    e_RA_ICRS ...       v_pec        Temp. Est\n",
       "      deg             deg          mas    ...       km / s           K    \n",
       "    float64         float64      float64  ...      float64        float64 \n",
       "--------------- --------------- --------- ... ------------------ ---------\n",
       "133.50740483154 -42.13832490675    0.0132 ... 112.07163078207608   15014.8"
      ]
     },
     "execution_count": 24,
     "metadata": {},
     "output_type": "execute_result"
    }
   ],
   "source": [
    "ra =cluster.runaways_all\n",
    "ra[ra['Source']==5524355337493304832]\n"
   ]
  },
  {
   "cell_type": "code",
   "execution_count": 6,
   "metadata": {},
   "outputs": [
    {
     "name": "stdout",
     "output_type": "stream",
     "text": [
      "Berkeley_97 (Changed)\n",
      "Av: 2.539 --> 2.9\n",
      "logage: 7.589 --> 7.1\n",
      "[Fe/H]: -0.1 --> -0.1\n",
      "Theoretical isochrone exists, reading it.\n"
     ]
    }
   ],
   "source": [
    "import matplotlib.pyplot as plt\n",
    "import numpy as np\n",
    "from matplotlib.collections import LineCollection\n",
    "from matplotlib.colors import Normalize\n",
    "%matplotlib qt\n",
    "# Assuming `ti` is already defined\n",
    "ti = theoretical_isochrone(cluster, logage=7.1, Av=2.9, output='table')\n",
    "\n",
    "# Preparing the data\n",
    "x = ti['Teff0']\n",
    "y = ti['Gmag']\n",
    "\n",
    "# Scatter points data\n",
    "scatter_temperatures = np.array([24000, 21000])\n",
    "scatter_magnitudes = np.array([9.840, 9.470])\n",
    "\n",
    "# Combine temperatures for normalization\n",
    "all_temperatures = np.concatenate([x, scatter_temperatures])\n",
    "\n",
    "# Create normalization based on the combined temperature data\n",
    "norm = Normalize(vmin=all_temperatures.min(), vmax=all_temperatures.max())\n",
    "\n",
    "# Creating segments for the line plot\n",
    "points = np.array([x, y]).T.reshape(-1, 1, 2)\n",
    "segments = np.concatenate([points[:-1], points[1:]], axis=1)\n",
    "\n",
    "# Creating the LineCollection\n",
    "lc = LineCollection(segments, cmap='viridis', norm=norm)\n",
    "lc.set_array(x)\n",
    "lc.set_linewidth(2)\n",
    "\n",
    "# Plotting the data\n",
    "fig, ax = plt.subplots()\n",
    "ax.add_collection(lc)\n",
    "\n",
    "# Setting the limits to ensure all data is visible\n",
    "all_magnitudes = np.concatenate([y, scatter_magnitudes])\n",
    "\n",
    "ax.set_xlim(all_temperatures.max(), all_temperatures.min())  # Invert x-axis\n",
    "ax.set_ylim(all_magnitudes.max(), all_magnitudes.min())  # Invert y-axis\n",
    "ax.set_xscale('log')\n",
    "\n",
    "# Adding a color bar to indicate the color mapping\n",
    "cbar = plt.colorbar(lc)\n",
    "cbar.set_label('Teff0')\n",
    "\n",
    "# Adding the scatter points colored according to their temperature with the same normalization\n",
    "scatter = ax.scatter(scatter_temperatures, scatter_magnitudes, c=scatter_temperatures, cmap='viridis', norm=norm, edgecolor='black', zorder=5)\n",
    "\n",
    "# Adding labels next to the scatter points\n",
    "for temp, mag in zip(scatter_temperatures, scatter_magnitudes):\n",
    "    ax.annotate(f'{temp} K', (temp, mag), textcoords=\"offset points\", xytext=(5, 5), ha='center', color='black')\n",
    "\n",
    "# Adding labels and title for clarity\n",
    "plt.xlabel('Teff0 (log scale)')\n",
    "plt.ylabel('Gmag')\n",
    "plt.title('Color-Magnitude Diagram')\n",
    "\n",
    "# Displaying the plot\n",
    "plt.show()\n"
   ]
  },
  {
   "cell_type": "code",
   "execution_count": 11,
   "metadata": {},
   "outputs": [
    {
     "name": "stderr",
     "output_type": "stream",
     "text": [
      "MatplotlibDeprecationWarning: The get_cmap function was deprecated in Matplotlib 3.7 and will be removed two minor releases later. Use ``matplotlib.colormaps[name]`` or ``matplotlib.colormaps.get_cmap(obj)`` instead.\n"
     ]
    }
   ],
   "source": [
    "import matplotlib.pyplot as plt\n",
    "import numpy as np\n",
    "from matplotlib.collections import LineCollection\n",
    "from matplotlib.colors import Normalize\n",
    "\n",
    "# Function to compute theoretical isochrone\n",
    "def theoretical_isochrone(logage, Av):\n",
    "    # Replace this with your actual function call\n",
    "    # ti = theoretical_isochrone(cluster, logage=logage, Av=Av, output='table')\n",
    "    \n",
    "    # Dummy implementation for illustration\n",
    "    teff = np.linspace(5000, 20000, 100)\n",
    "    gmag = 5 * np.log10(teff) - 10\n",
    "    ti = {'Teff0': teff, 'Gmag': gmag}\n",
    "    \n",
    "    return ti\n",
    "\n",
    "# Define parameters to vary\n",
    "logage_values = [7.0, 7.1, 7.2]  # Example values for logage\n",
    "Av_values = [2.5, 2.9, 3.3]     # Example values for Av\n",
    "\n",
    "# Prepare the plot\n",
    "fig, ax = plt.subplots()\n",
    "\n",
    "# Create a colormap and normalization instance\n",
    "cmap = plt.cm.get_cmap('viridis')\n",
    "norm = Normalize(vmin=min(logage_values), vmax=max(logage_values))\n",
    "\n",
    "# Plot each isochrone with varying parameters\n",
    "for logage, Av in zip(logage_values, Av_values):\n",
    "    # Compute theoretical isochrone\n",
    "    ti = theoretical_isochrone(logage, Av)\n",
    "    \n",
    "    # Extract data\n",
    "    x = ti['Teff0']\n",
    "    y = ti['Gmag']\n",
    "    \n",
    "    # Create segments for the line plot\n",
    "    points = np.array([x, y]).T.reshape(-1, 1, 2)\n",
    "    segments = np.concatenate([points[:-1], points[1:]], axis=1)\n",
    "    \n",
    "    # Create LineCollection with appropriate color based on logage\n",
    "    lc = LineCollection(segments, cmap=cmap, norm=norm)\n",
    "    lc.set_array(np.array([logage] * len(x)))\n",
    "    lc.set_linewidth(2)\n",
    "    \n",
    "    # Add LineCollection to the plot\n",
    "    ax.add_collection(lc)\n",
    "\n",
    "# Add color bar to indicate logage\n",
    "cbar = plt.colorbar(lc)\n",
    "cbar.set_label('log(age)')\n",
    "cbar.set_ticks(logage_values)\n",
    "\n",
    "# Invert y-axis for magnitude\n",
    "ax.invert_yaxis()\n",
    "\n",
    "# Set labels and title\n",
    "plt.xlabel('Teff0')\n",
    "plt.ylabel('Gmag')\n",
    "plt.title('Theoretical Isochrones Comparison')\n",
    "\n",
    "# Show plot\n",
    "plt.show()\n"
   ]
  },
  {
   "cell_type": "code",
   "execution_count": 59,
   "metadata": {},
   "outputs": [],
   "source": [
    "plot_cmd(cluster, logage=7.1,Av=2.9,multiple=1)"
   ]
  },
  {
   "cell_type": "code",
   "execution_count": 55,
   "metadata": {},
   "outputs": [
    {
     "name": "stdout",
     "output_type": "stream",
     "text": [
      "=======================================Berkeley_97==================================================\n",
      "All tables present (stars_in_region,stars_fromDR3,stars_fromDR3_dis,fs,nsfs)\n",
      "----------------------------Berkeley_97: traceback--------------------------------------------------\n",
      "Berkeley_97/Berkeley_97_runaways_all.tsv exists. Skipping traceback and temp estimates.\n",
      "257 stars had been checked, 6 traced back to cluster\n",
      "----------Berkeley_97: runaways and isochrone plot--------------------------------------------------\n",
      "0 memebrs do not have BP-RP from Dias.\n",
      "35/58 members matched in dr3 search region,14 have > 17 Gmag\n",
      "27/35 members have good parallax\n",
      "fits image exists in Berkeley_97 folder\n"
     ]
    },
    {
     "name": "stderr",
     "output_type": "stream",
     "text": [
      "ErfaWarning: ERFA function \"taiutc\" yielded 1 of \"dubious year (Note 4)\"\n",
      "ErfaWarning: ERFA function \"pmsafe\" yielded 1 of \"distance overridden (Note 6)\"\n"
     ]
    },
    {
     "name": "stdout",
     "output_type": "stream",
     "text": [
      "1 Runaway(s) found Temp. Est    RA_ICRS_1       DE_ICRS_1    ...   e_RPmag     e_BP-RP  \n",
      "    K           deg             deg       ...                        \n",
      "--------- --------------- --------------- ... ----------- -----------\n",
      "  13630.0 339.89581711423  58.99547917199 ...    0.004229    0.008081\n"
     ]
    }
   ],
   "source": [
    "# reRunCode(cluster, separation_factor=0.5)\n",
    "runCode(cluster,logage=7,Av=3)"
   ]
  },
  {
   "cell_type": "code",
   "execution_count": 4,
   "metadata": {},
   "outputs": [
    {
     "data": {
      "text/plain": [
       "[1, 2, 3, 4, 5, 3, 4]"
      ]
     },
     "execution_count": 4,
     "metadata": {},
     "output_type": "execute_result"
    }
   ],
   "source": [
    "l = [1,2,3,4,5]\n",
    "l1 = [3,4]\n",
    "l+l1"
   ]
  },
  {
   "cell_type": "code",
   "execution_count": 34,
   "metadata": {},
   "outputs": [
    {
     "data": {
      "text/html": [
       "<div><i>Table length=49</i>\n",
       "<table id=\"table3030239972816\" class=\"table-striped table-bordered table-condensed\">\n",
       "<thead><tr><th>Temp. Est</th><th>RA_ICRS_1</th><th>DE_ICRS_1</th><th>e_RA_ICRS</th><th>e_DE_ICRS</th><th>_r_1</th><th>HIP</th><th>TYC2</th><th>Source</th><th>rgeo</th><th>Plx</th><th>e_Plx</th><th>v_pec</th><th>µ_pec</th><th>rmRA</th><th>e_rmRA</th><th>rmDE</th><th>e_rmDE</th><th>pmRA</th><th>pmDE</th><th>e_pmRA</th><th>e_pmDE</th><th>RUWE</th><th>Teff</th><th>logg</th><th>Gmag</th><th>BP-RP</th><th>BPmag</th><th>RPmag</th><th>RV</th><th>e_RV</th><th>b_rgeo</th><th>B_rgeo</th><th>FG</th><th>e_FG</th><th>FBP</th><th>e_FBP</th><th>FRP</th><th>e_FRP</th><th>RAVE5</th><th>RAVE6</th><th>e_Gmag</th><th>e_BPmag</th><th>e_RPmag</th><th>e_BP-RP</th></tr></thead>\n",
       "<thead><tr><th>K</th><th>deg</th><th>deg</th><th>mas</th><th>mas</th><th></th><th></th><th></th><th></th><th>pc</th><th>mas</th><th>mas</th><th>km / s</th><th>mas / yr</th><th>mas / yr</th><th>mas / yr</th><th>mas / yr</th><th>mas / yr</th><th>mas / yr</th><th>mas / yr</th><th>mas / yr</th><th>mas / yr</th><th></th><th>K</th><th>log(cm.s**-2)</th><th>mag</th><th>mag</th><th>mag</th><th>mag</th><th>km / s</th><th>km / s</th><th>pc</th><th>pc</th><th></th><th></th><th></th><th></th><th></th><th></th><th></th><th></th><th></th><th></th><th></th><th></th></tr></thead>\n",
       "<thead><tr><th>float64</th><th>float64</th><th>float64</th><th>float64</th><th>float64</th><th>float64</th><th>int32</th><th>str1</th><th>int64</th><th>float64</th><th>float64</th><th>float32</th><th>float64</th><th>float64</th><th>float64</th><th>float32</th><th>float64</th><th>float32</th><th>float64</th><th>float64</th><th>float32</th><th>float32</th><th>float64</th><th>float64</th><th>float64</th><th>float64</th><th>float64</th><th>float64</th><th>float64</th><th>float64</th><th>float32</th><th>float64</th><th>float64</th><th>float64</th><th>float32</th><th>float32</th><th>float32</th><th>float32</th><th>float32</th><th>str1</th><th>str1</th><th>float64</th><th>float32</th><th>float32</th><th>float32</th></tr></thead>\n",
       "<tr><td>9288.0</td><td>339.89581711423</td><td>58.99547917199</td><td>0.0202</td><td>0.0197</td><td>1.5205</td><td>--</td><td>--</td><td>2008384504995669248</td><td>2620.36230000</td><td>0.3560</td><td>0.0241</td><td>29.876</td><td>2.405</td><td>2.349</td><td>0.122</td><td>0.517</td><td>0.117</td><td>-0.379</td><td>-1.352</td><td>0.025</td><td>0.024</td><td>1.086</td><td>9168.0</td><td>3.7061</td><td>15.384143</td><td>1.182070</td><td>15.883185</td><td>14.701116</td><td>--</td><td>--</td><td>2461.53345000</td><td>2759.61401000</td><td>13221.76503</td><td>3.482</td><td>6055</td><td>14.81</td><td>1.044e+04</td><td>18.25</td><td>--</td><td>--</td><td>0.00277</td><td>0.003852</td><td>0.004229</td><td>0.008081</td></tr>\n",
       "<tr><td>8439.0</td><td>339.92937723020</td><td>59.00404480063</td><td>0.0142</td><td>0.0142</td><td>2.4555</td><td>--</td><td>--</td><td>2008384573715370624</td><td>2923.95410000</td><td>0.3111</td><td>0.0174</td><td>22.147</td><td>1.598</td><td>-1.563</td><td>0.115</td><td>-0.333</td><td>0.111</td><td>-4.291</td><td>-2.202</td><td>0.018</td><td>0.018</td><td>1.104</td><td>9302.7</td><td>3.5455</td><td>14.625331</td><td>1.209811</td><td>15.134336</td><td>13.924525</td><td>--</td><td>--</td><td>2765.68970000</td><td>3111.05029000</td><td>26595.89065</td><td>6.887</td><td>1.207e+04</td><td>14.3</td><td>2.135e+04</td><td>25.38</td><td>--</td><td>--</td><td>0.00277</td><td>0.003073</td><td>0.003994</td><td>0.007066</td></tr>\n",
       "<tr><td>8439.0</td><td>340.11961278418</td><td>58.99915127691</td><td>0.0159</td><td>0.0166</td><td>8.3403</td><td>--</td><td>--</td><td>2008381034662369920</td><td>2768.34961000</td><td>0.3392</td><td>0.0194</td><td>32.542</td><td>2.480</td><td>2.281</td><td>0.118</td><td>0.973</td><td>0.114</td><td>-0.447</td><td>-0.896</td><td>0.021</td><td>0.021</td><td>1.142</td><td>9221.7</td><td>3.4526</td><td>14.785446</td><td>1.218026</td><td>15.304078</td><td>14.086052</td><td>--</td><td>--</td><td>2622.75366000</td><td>2950.88965000</td><td>22949.24853</td><td>4.602</td><td>1.032e+04</td><td>11.25</td><td>1.84e+04</td><td>13.88</td><td>--</td><td>--</td><td>0.002764</td><td>0.003031</td><td>0.003867</td><td>0.006898</td></tr>\n",
       "<tr><td>7610.0</td><td>339.82327510265</td><td>59.02791551662</td><td>0.0373</td><td>0.0353</td><td>1.6227</td><td>--</td><td>--</td><td>2008430306528315136</td><td>2914.14893000</td><td>0.3154</td><td>0.0444</td><td>21.453</td><td>1.553</td><td>-1.036</td><td>0.142</td><td>-1.157</td><td>0.136</td><td>-3.764</td><td>-3.026</td><td>0.045</td><td>0.043</td><td>1.051</td><td>--</td><td>--</td><td>16.566925</td><td>1.372125</td><td>17.177988</td><td>15.805863</td><td>--</td><td>--</td><td>2617.74390000</td><td>3300.76758000</td><td>4448.12149</td><td>2.398</td><td>1838</td><td>8.274</td><td>3774</td><td>7.525</td><td>--</td><td>--</td><td>0.002817</td><td>0.005629</td><td>0.004356</td><td>0.009985</td></tr>\n",
       "<tr><td>7517.0</td><td>339.56494819769</td><td>58.99344914887</td><td>0.0102</td><td>0.0102</td><td>8.8317</td><td>--</td><td>--</td><td>2008407491661705216</td><td>2915.46533000</td><td>0.3094</td><td>0.0119</td><td>33.943</td><td>2.456</td><td>-1.604</td><td>0.110</td><td>-1.860</td><td>0.106</td><td>-4.332</td><td>-3.729</td><td>0.013</td><td>0.013</td><td>1.234</td><td>6899.3</td><td>2.8208</td><td>13.123951</td><td>1.392846</td><td>13.738716</td><td>12.345870</td><td>--</td><td>--</td><td>2842.50513000</td><td>3028.43872000</td><td>106014.76839</td><td>30.59</td><td>4.364e+04</td><td>44.13</td><td>9.137e+04</td><td>21.25</td><td>--</td><td>--</td><td>0.002773</td><td>0.002998</td><td>0.003788</td><td>0.006786</td></tr>\n",
       "<tr><td>7492.0</td><td>339.96150942069</td><td>59.05945190536</td><td>0.0364</td><td>0.0338</td><td>4.7645</td><td>--</td><td>--</td><td>2008385329629591424</td><td>2716.07910000</td><td>0.3593</td><td>0.0427</td><td>27.484</td><td>2.135</td><td>-1.785</td><td>0.140</td><td>-1.171</td><td>0.137</td><td>-4.513</td><td>-3.040</td><td>0.043</td><td>0.044</td><td>0.975</td><td>9604.5</td><td>4.0106</td><td>16.551115</td><td>1.518426</td><td>17.218628</td><td>15.700202</td><td>--</td><td>--</td><td>2433.93335000</td><td>3059.97217000</td><td>4513.36761</td><td>2.723</td><td>1770</td><td>15.18</td><td>4160</td><td>12.18</td><td>--</td><td>--</td><td>0.002832</td><td>0.009721</td><td>0.004938</td><td>0.01466</td></tr>\n",
       "<tr><td>7367.0</td><td>339.55127558593</td><td>58.91799587450</td><td>0.0190</td><td>0.0186</td><td>10.6001</td><td>--</td><td>--</td><td>2008406185991730560</td><td>2902.17993000</td><td>0.3132</td><td>0.0227</td><td>32.178</td><td>2.339</td><td>-2.272</td><td>0.122</td><td>-0.557</td><td>0.116</td><td>-5.000</td><td>-2.426</td><td>0.025</td><td>0.023</td><td>1.006</td><td>8971.7</td><td>3.5187</td><td>15.297109</td><td>1.432618</td><td>15.936389</td><td>14.503771</td><td>--</td><td>--</td><td>2719.46582000</td><td>3068.63403000</td><td>14325.28459</td><td>5.592</td><td>5766</td><td>15.75</td><td>1.252e+04</td><td>14.6</td><td>--</td><td>--</td><td>0.002788</td><td>0.004072</td><td>0.003986</td><td>0.008058</td></tr>\n",
       "<tr><td>7306.0</td><td>339.57212568342</td><td>59.04007680090</td><td>0.0354</td><td>0.0334</td><td>8.8388</td><td>--</td><td>--</td><td>2008433978715406336</td><td>2920.62378000</td><td>0.3214</td><td>0.0407</td><td>32.574</td><td>2.353</td><td>-1.939</td><td>0.141</td><td>-1.333</td><td>0.136</td><td>-4.667</td><td>-3.202</td><td>0.044</td><td>0.043</td><td>1.001</td><td>--</td><td>--</td><td>16.514180</td><td>1.461832</td><td>17.176619</td><td>15.714787</td><td>--</td><td>--</td><td>2555.96191000</td><td>3251.21265000</td><td>4669.55275</td><td>2.276</td><td>1840</td><td>10.76</td><td>4104</td><td>8.21</td><td>--</td><td>--</td><td>0.002806</td><td>0.006938</td><td>0.004359</td><td>0.0113</td></tr>\n",
       "<tr><td>7305.0</td><td>339.77322874500</td><td>59.00588597458</td><td>0.0370</td><td>0.0346</td><td>2.3706</td><td>--</td><td>--</td><td>2008430169089361536</td><td>2784.55347000</td><td>0.3524</td><td>0.0441</td><td>50.491</td><td>3.825</td><td>3.217</td><td>0.141</td><td>2.070</td><td>0.134</td><td>0.489</td><td>0.201</td><td>0.044</td><td>0.041</td><td>1.033</td><td>8283.7</td><td>4.4152</td><td>16.489529</td><td>1.557764</td><td>17.201050</td><td>15.643286</td><td>--</td><td>--</td><td>2486.51440000</td><td>3143.10718000</td><td>4776.77789</td><td>2.577</td><td>1799</td><td>11.7</td><td>4384</td><td>10.24</td><td>--</td><td>--</td><td>0.002817</td><td>0.007591</td><td>0.004551</td><td>0.01214</td></tr>\n",
       "<tr><td>...</td><td>...</td><td>...</td><td>...</td><td>...</td><td>...</td><td>...</td><td>...</td><td>...</td><td>...</td><td>...</td><td>...</td><td>...</td><td>...</td><td>...</td><td>...</td><td>...</td><td>...</td><td>...</td><td>...</td><td>...</td><td>...</td><td>...</td><td>...</td><td>...</td><td>...</td><td>...</td><td>...</td><td>...</td><td>...</td><td>...</td><td>...</td><td>...</td><td>...</td><td>...</td><td>...</td><td>...</td><td>...</td><td>...</td><td>...</td><td>...</td><td>...</td><td>...</td><td>...</td><td>...</td></tr>\n",
       "<tr><td>5192.0</td><td>339.76140456251</td><td>58.94647040399</td><td>0.0309</td><td>0.0308</td><td>4.4337</td><td>--</td><td>--</td><td>2008383061888626816</td><td>2365.80688000</td><td>0.3848</td><td>0.0377</td><td>30.096</td><td>2.684</td><td>2.528</td><td>0.136</td><td>0.901</td><td>0.130</td><td>-0.200</td><td>-0.968</td><td>0.039</td><td>0.037</td><td>1.087</td><td>5263.4</td><td>3.5645</td><td>16.023985</td><td>2.175365</td><td>17.154522</td><td>14.979157</td><td>--</td><td>--</td><td>2176.02686000</td><td>2688.73413000</td><td>7334.19977</td><td>3.191</td><td>1878</td><td>6.181</td><td>8082</td><td>16.89</td><td>--</td><td>--</td><td>0.002796</td><td>0.004534</td><td>0.004408</td><td>0.008942</td></tr>\n",
       "<tr><td>5184.0</td><td>339.63211102306</td><td>59.09736433911</td><td>0.0352</td><td>0.0313</td><td>8.7260</td><td>--</td><td>--</td><td>2008434429696889728</td><td>2487.37256000</td><td>0.3721</td><td>0.0402</td><td>32.822</td><td>2.784</td><td>-2.762</td><td>0.142</td><td>0.350</td><td>0.133</td><td>-5.490</td><td>-1.519</td><td>0.045</td><td>0.040</td><td>0.959</td><td>--</td><td>--</td><td>16.416130</td><td>2.188409</td><td>17.531921</td><td>15.343513</td><td>--</td><td>--</td><td>2280.66821000</td><td>2750.33594000</td><td>5110.86832</td><td>3.069</td><td>1326</td><td>8.621</td><td>5778</td><td>13.63</td><td>--</td><td>--</td><td>0.002831</td><td>0.007589</td><td>0.004565</td><td>0.01215</td></tr>\n",
       "<tr><td>5184.0</td><td>339.59621911290</td><td>59.04084170152</td><td>0.0142</td><td>0.0140</td><td>8.1307</td><td>--</td><td>--</td><td>2008433983020297088</td><td>2673.51855000</td><td>0.3367</td><td>0.0164</td><td>34.920</td><td>2.756</td><td>2.363</td><td>0.115</td><td>-1.417</td><td>0.111</td><td>-0.365</td><td>-3.286</td><td>0.018</td><td>0.018</td><td>1.073</td><td>--</td><td>--</td><td>14.547994</td><td>2.191909</td><td>15.687794</td><td>13.495885</td><td>-28.17</td><td>1.71</td><td>2537.22754000</td><td>2814.09692000</td><td>28559.42280</td><td>8.617</td><td>7249</td><td>13.77</td><td>3.168e+04</td><td>22.2</td><td>--</td><td>--</td><td>0.002775</td><td>0.00347</td><td>0.003855</td><td>0.007325</td></tr>\n",
       "<tr><td>5069.0</td><td>339.91118684081</td><td>58.89372945236</td><td>0.0399</td><td>0.0427</td><td>6.9175</td><td>--</td><td>--</td><td>2008378835638877056</td><td>2645.92139000</td><td>0.3541</td><td>0.0496</td><td>39.308</td><td>3.134</td><td>-1.629</td><td>0.148</td><td>2.678</td><td>0.145</td><td>-4.357</td><td>0.809</td><td>0.051</td><td>0.052</td><td>1.030</td><td>6866.1</td><td>4.0456</td><td>16.941164</td><td>2.228628</td><td>18.108822</td><td>15.880194</td><td>--</td><td>--</td><td>2326.35156000</td><td>3021.79761000</td><td>3151.23595</td><td>1.997</td><td>779.6</td><td>7.186</td><td>3524</td><td>10.27</td><td>--</td><td>--</td><td>0.00284</td><td>0.01039</td><td>0.004928</td><td>0.01532</td></tr>\n",
       "<tr><td>4949.0</td><td>340.02577085731</td><td>58.92924779990</td><td>0.0235</td><td>0.0250</td><td>7.0734</td><td>--</td><td>--</td><td>2008380278748143488</td><td>2758.03613000</td><td>0.3325</td><td>0.0291</td><td>25.821</td><td>1.975</td><td>1.795</td><td>0.128</td><td>0.824</td><td>0.124</td><td>-0.933</td><td>-1.045</td><td>0.031</td><td>0.031</td><td>0.976</td><td>5041.3</td><td>2.9841</td><td>15.873330</td><td>2.305133</td><td>17.091478</td><td>14.786345</td><td>--</td><td>--</td><td>2531.14966000</td><td>2985.06274000</td><td>8425.86670</td><td>3.315</td><td>1990</td><td>6.972</td><td>9652</td><td>12.34</td><td>--</td><td>--</td><td>0.002788</td><td>0.004718</td><td>0.004026</td><td>0.008744</td></tr>\n",
       "<tr><td>4744.0</td><td>339.82932796993</td><td>59.05766806717</td><td>0.0130</td><td>0.0130</td><td>3.2466</td><td>--</td><td>--</td><td>2008432058875274496</td><td>2871.58228000</td><td>0.3101</td><td>0.0157</td><td>25.562</td><td>1.878</td><td>-1.377</td><td>0.114</td><td>-1.277</td><td>0.109</td><td>-4.105</td><td>-3.146</td><td>0.017</td><td>0.016</td><td>1.007</td><td>--</td><td>--</td><td>14.307821</td><td>2.386921</td><td>15.586830</td><td>13.199909</td><td>-86.26</td><td>1.80</td><td>2737.18652000</td><td>3026.56201000</td><td>35630.20225</td><td>11.56</td><td>7956</td><td>15.89</td><td>4.161e+04</td><td>25.09</td><td>--</td><td>--</td><td>0.002778</td><td>0.003534</td><td>0.003836</td><td>0.00737</td></tr>\n",
       "<tr><td>4366.0</td><td>340.11578311827</td><td>59.11972045327</td><td>0.0303</td><td>0.0287</td><td>10.7222</td><td>--</td><td>--</td><td>2008391411303287808</td><td>2403.89941000</td><td>0.3724</td><td>0.0353</td><td>32.599</td><td>2.861</td><td>2.387</td><td>0.134</td><td>1.577</td><td>0.129</td><td>-0.341</td><td>-0.292</td><td>0.037</td><td>0.036</td><td>1.024</td><td>4754.9</td><td>2.5614</td><td>16.227755</td><td>2.584357</td><td>17.651157</td><td>15.066800</td><td>--</td><td>--</td><td>2256.09595000</td><td>2664.81763000</td><td>6079.18065</td><td>3.37</td><td>1188</td><td>7.602</td><td>7455</td><td>11.02</td><td>--</td><td>--</td><td>0.00282</td><td>0.007485</td><td>0.004106</td><td>0.01159</td></tr>\n",
       "<tr><td>3234.0</td><td>339.78276898862</td><td>59.07086926297</td><td>0.0265</td><td>0.0264</td><td>4.4837</td><td>--</td><td>--</td><td>2008431406040225664</td><td>2606.06836000</td><td>0.3659</td><td>0.0315</td><td>20.307</td><td>1.644</td><td>-1.223</td><td>0.132</td><td>1.099</td><td>0.127</td><td>-3.951</td><td>-0.770</td><td>0.035</td><td>0.034</td><td>0.995</td><td>--</td><td>--</td><td>11.117977</td><td>3.769605</td><td>13.508001</td><td>9.738397</td><td>-69.25</td><td>0.34</td><td>2369.06812000</td><td>2884.74414000</td><td>672598.26706</td><td>1163</td><td>5.398e+04</td><td>605.7</td><td>1.009e+06</td><td>4436</td><td>--</td><td>--</td><td>0.003334</td><td>0.0125</td><td>0.006089</td><td>0.01859</td></tr>\n",
       "<tr><td>2602.0</td><td>340.03476136149</td><td>59.03717055733</td><td>0.0471</td><td>0.0541</td><td>6.0339</td><td>--</td><td>--</td><td>2008385020393773056</td><td>2665.92017000</td><td>0.3545</td><td>0.0552</td><td>24.030</td><td>1.902</td><td>1.847</td><td>0.158</td><td>0.452</td><td>0.168</td><td>-0.881</td><td>-1.417</td><td>0.061</td><td>0.075</td><td>1.051</td><td>--</td><td>--</td><td>16.527714</td><td>--</td><td>--</td><td>--</td><td>--</td><td>--</td><td>2348.33252000</td><td>3126.21948000</td><td>4611.70203</td><td>4.45</td><td>--</td><td>--</td><td>--</td><td>--</td><td>--</td><td>--</td><td>0.002948</td><td>--</td><td>--</td><td>--</td></tr>\n",
       "<tr><td>2602.0</td><td>339.58283285271</td><td>59.12168876192</td><td>0.1834</td><td>0.1588</td><td>10.8268</td><td>--</td><td>--</td><td>2008435426124887552</td><td>2334.22754000</td><td>0.7233</td><td>0.1840</td><td>34.767</td><td>3.142</td><td>-2.970</td><td>0.365</td><td>1.027</td><td>0.312</td><td>-5.698</td><td>-0.842</td><td>0.268</td><td>0.219</td><td>3.172</td><td>--</td><td>--</td><td>16.978020</td><td>--</td><td>--</td><td>--</td><td>--</td><td>--</td><td>1354.80066000</td><td>3594.84448000</td><td>3046.06180</td><td>9.006</td><td>--</td><td>--</td><td>--</td><td>--</td><td>--</td><td>--</td><td>0.00423</td><td>--</td><td>--</td><td>--</td></tr>\n",
       "</table></div>"
      ],
      "text/plain": [
       "<Table length=49>\n",
       "Temp. Est    RA_ICRS_1       DE_ICRS_1    ...   e_RPmag     e_BP-RP  \n",
       "    K           deg             deg       ...                        \n",
       " float64      float64         float64     ...   float32     float32  \n",
       "--------- --------------- --------------- ... ----------- -----------\n",
       "   9288.0 339.89581711423  58.99547917199 ...    0.004229    0.008081\n",
       "   8439.0 339.92937723020  59.00404480063 ...    0.003994    0.007066\n",
       "   8439.0 340.11961278418  58.99915127691 ...    0.003867    0.006898\n",
       "   7610.0 339.82327510265  59.02791551662 ...    0.004356    0.009985\n",
       "   7517.0 339.56494819769  58.99344914887 ...    0.003788    0.006786\n",
       "   7492.0 339.96150942069  59.05945190536 ...    0.004938     0.01466\n",
       "   7367.0 339.55127558593  58.91799587450 ...    0.003986    0.008058\n",
       "   7306.0 339.57212568342  59.04007680090 ...    0.004359      0.0113\n",
       "   7305.0 339.77322874500  59.00588597458 ...    0.004551     0.01214\n",
       "      ...             ...             ... ...         ...         ...\n",
       "   5192.0 339.76140456251  58.94647040399 ...    0.004408    0.008942\n",
       "   5184.0 339.63211102306  59.09736433911 ...    0.004565     0.01215\n",
       "   5184.0 339.59621911290  59.04084170152 ...    0.003855    0.007325\n",
       "   5069.0 339.91118684081  58.89372945236 ...    0.004928     0.01532\n",
       "   4949.0 340.02577085731  58.92924779990 ...    0.004026    0.008744\n",
       "   4744.0 339.82932796993  59.05766806717 ...    0.003836     0.00737\n",
       "   4366.0 340.11578311827  59.11972045327 ...    0.004106     0.01159\n",
       "   3234.0 339.78276898862  59.07086926297 ...    0.006089     0.01859\n",
       "   2602.0 340.03476136149  59.03717055733 ...          --          --\n",
       "   2602.0 339.58283285271  59.12168876192 ...          --          --"
      ]
     },
     "execution_count": 34,
     "metadata": {},
     "output_type": "execute_result"
    }
   ],
   "source": [
    "cluster.read_table('runaways_all')"
   ]
  }
 ],
 "metadata": {
  "kernelspec": {
   "display_name": "Python 3",
   "language": "python",
   "name": "python3"
  },
  "language_info": {
   "codemirror_mode": {
    "name": "ipython",
    "version": 3
   },
   "file_extension": ".py",
   "mimetype": "text/x-python",
   "name": "python",
   "nbconvert_exporter": "python",
   "pygments_lexer": "ipython3",
   "version": "3.11.6"
  }
 },
 "nbformat": 4,
 "nbformat_minor": 2
}
