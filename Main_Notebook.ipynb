{
 "cells": [
  {
   "cell_type": "code",
   "execution_count": 1,
   "metadata": {},
   "outputs": [],
   "source": [
    "%run runaway_functionsv2\n",
    "%matplotlib qt\n"
   ]
  },
  {
   "cell_type": "code",
   "execution_count": 3,
   "metadata": {},
   "outputs": [
    {
     "name": "stdout",
     "output_type": "stream",
     "text": [
      "All tables present (stars_in_region,stars_fromDR3,stars_fromDR3_dis,fs,nsfs)\n",
      "Berkeley_97/Berkeley_97_runaways.tsv exists. Skipping traceback and temp estimates.\n",
      "261 stars had been checked, 13 traced back to cluster\n"
     ]
    },
    {
     "data": {
      "text/html": [
       "<div><i>Table length=13</i>\n",
       "<table id=\"table3074437083200\" class=\"table-striped table-bordered table-condensed\">\n",
       "<thead><tr><th>Temp. Est</th><th>v_pec</th><th>µ_pec</th><th>_q_1</th><th>_r_1</th><th>RA_ICRS_1</th><th>rmRA</th><th>e_rmRA</th><th>rmDE</th><th>e_rmDE</th><th>DE_ICRS_1</th><th>Source</th><th>e_RA_ICRS</th><th>e_DE_ICRS</th><th>Plx</th><th>e_Plx</th><th>PM</th><th>pmRA</th><th>e_pmRA</th><th>pmDE</th><th>e_pmDE</th><th>RUWE</th><th>FG</th><th>e_FG</th><th>Gmag</th><th>FBP</th><th>e_FBP</th><th>BPmag</th><th>FRP</th><th>e_FRP</th><th>RPmag</th><th>BP-RP</th><th>RV</th><th>e_RV</th><th>Vbroad</th><th>GRVSmag</th><th>QSO</th><th>Gal</th><th>NSS</th><th>XPcont</th><th>XPsamp</th><th>RVS</th><th>EpochPh</th><th>EpochRV</th><th>MCMCGSP</th><th>MCMCMSC</th><th>And</th><th>Teff</th><th>logg</th><th>__Fe_H_</th><th>Dist</th><th>A0</th><th>HIP</th><th>PS1</th><th>SDSS13</th><th>SKYM2</th><th>TYC2</th><th>URAT1</th><th>AllWISE</th><th>APASS9</th><th>GSC23</th><th>RAVE5</th><th>_2MASS</th><th>RAVE6</th><th>RAJ2000</th><th>DEJ2000</th><th>_q_2</th><th>_r_2</th><th>RA_ICRS_2</th><th>DE_ICRS_2</th><th>rgeo</th><th>b_rgeo</th><th>B_rgeo</th><th>rpgeo</th><th>b_rpgeo</th><th>B_rpgeo</th><th>Flag</th></tr></thead>\n",
       "<thead><tr><th>K</th><th>km / s</th><th>mas / yr</th><th></th><th></th><th>deg</th><th>mas / yr</th><th>mas / yr</th><th>mas / yr</th><th>mas / yr</th><th>deg</th><th></th><th>mas</th><th>mas</th><th>mas</th><th>mas</th><th>mas / yr</th><th>mas / yr</th><th>mas / yr</th><th>mas / yr</th><th>mas / yr</th><th></th><th></th><th></th><th>mag</th><th></th><th></th><th>mag</th><th></th><th></th><th>mag</th><th>mag</th><th>km / s</th><th>km / s</th><th>km / s</th><th>mag</th><th></th><th></th><th></th><th></th><th></th><th></th><th></th><th></th><th></th><th></th><th></th><th>K</th><th>log(cm.s**-2)</th><th></th><th>pc</th><th>mag</th><th></th><th></th><th></th><th></th><th></th><th></th><th></th><th></th><th></th><th></th><th></th><th></th><th>deg</th><th>deg</th><th></th><th></th><th>deg</th><th>deg</th><th>pc</th><th>pc</th><th>pc</th><th>pc</th><th>pc</th><th>pc</th><th></th></tr></thead>\n",
       "<thead><tr><th>float64</th><th>float64</th><th>float64</th><th>int32</th><th>float64</th><th>float64</th><th>float64</th><th>float32</th><th>float64</th><th>float32</th><th>float64</th><th>int64</th><th>float64</th><th>float64</th><th>float64</th><th>float32</th><th>float64</th><th>float64</th><th>float32</th><th>float64</th><th>float32</th><th>float64</th><th>float64</th><th>float32</th><th>float64</th><th>float32</th><th>float32</th><th>float64</th><th>float32</th><th>float32</th><th>float64</th><th>float64</th><th>float64</th><th>float32</th><th>float64</th><th>float64</th><th>uint8</th><th>uint8</th><th>uint8</th><th>uint8</th><th>uint8</th><th>uint8</th><th>uint8</th><th>uint8</th><th>uint8</th><th>uint8</th><th>uint8</th><th>float64</th><th>float64</th><th>float64</th><th>float64</th><th>float64</th><th>int32</th><th>int64</th><th>int64</th><th>int32</th><th>str1</th><th>str15</th><th>str19</th><th>int32</th><th>str10</th><th>str1</th><th>str16</th><th>str1</th><th>float64</th><th>float64</th><th>int32</th><th>float64</th><th>float64</th><th>float64</th><th>float64</th><th>float64</th><th>float64</th><th>float64</th><th>float64</th><th>float64</th><th>int32</th></tr></thead>\n",
       "<tr><td>14941.699574067023</td><td>29.861</td><td>2.404</td><td>1</td><td>1.5205</td><td>339.89581711423</td><td>2.361</td><td>0.188</td><td>0.453</td><td>0.185</td><td>58.99547917199</td><td>2008384504995669248</td><td>0.0202</td><td>0.0197</td><td>0.3560</td><td>0.0241</td><td>1.404</td><td>-0.379</td><td>0.025</td><td>-1.352</td><td>0.024</td><td>1.086</td><td>13221.76503</td><td>3.482</td><td>15.384143</td><td>6055</td><td>14.81</td><td>15.883185</td><td>1.044e+04</td><td>18.25</td><td>14.701116</td><td>1.182070</td><td>--</td><td>--</td><td>--</td><td>--</td><td>0</td><td>0</td><td>0</td><td>1</td><td>0</td><td>0</td><td>0</td><td>0</td><td>1</td><td>1</td><td>0</td><td>9168.0</td><td>3.7061</td><td>-0.6147</td><td>4094.0940</td><td>2.4713</td><td>--</td><td>178793398958385263</td><td>--</td><td>--</td><td>--</td><td>URAT1-745392846</td><td>J223935.00+585943.5</td><td>13469566</td><td>N1C5026796</td><td>--</td><td>22393500+5859436</td><td>--</td><td>339.89582038348</td><td>58.99548518133</td><td>1</td><td>1.5205</td><td>339.89581711423</td><td>58.99547917199</td><td>2620.36230000</td><td>2461.53345000</td><td>2759.61401000</td><td>2605.56982000</td><td>2475.57690000</td><td>2754.27393000</td><td>10033</td></tr>\n",
       "<tr><td>11849.49930976177</td><td>30.066</td><td>3.053</td><td>1</td><td>6.5222</td><td>339.69805696343</td><td>-2.180</td><td>0.188</td><td>-2.137</td><td>0.184</td><td>58.92918778013</td><td>2008382546490573824</td><td>0.0190</td><td>0.0193</td><td>0.4561</td><td>0.0228</td><td>6.305</td><td>-4.920</td><td>0.025</td><td>-3.942</td><td>0.023</td><td>1.046</td><td>13964.47166</td><td>3.916</td><td>15.324805</td><td>6086</td><td>13.27</td><td>15.877747</td><td>1.147e+04</td><td>11.21</td><td>14.599200</td><td>1.278546</td><td>--</td><td>--</td><td>--</td><td>--</td><td>0</td><td>0</td><td>0</td><td>1</td><td>0</td><td>0</td><td>0</td><td>0</td><td>0</td><td>1</td><td>0</td><td>--</td><td>--</td><td>--</td><td>--</td><td>--</td><td>--</td><td>178713396980935748</td><td>--</td><td>--</td><td>--</td><td>URAT1-745392015</td><td>--</td><td>--</td><td>--</td><td>--</td><td>22384755+5855451</td><td>--</td><td>339.69809933678</td><td>58.92920530089</td><td>1</td><td>6.5222</td><td>339.69805696343</td><td>58.92918778013</td><td>2077.95093000</td><td>1973.40735000</td><td>2173.33203000</td><td>2060.58984000</td><td>1965.45789000</td><td>2167.60474000</td><td>10033</td></tr>\n",
       "<tr><td>9894.640051300763</td><td>22.010</td><td>1.593</td><td>1</td><td>1.6227</td><td>339.82327510265</td><td>-1.024</td><td>0.208</td><td>-1.221</td><td>0.204</td><td>59.02791551662</td><td>2008430306528315136</td><td>0.0373</td><td>0.0353</td><td>0.3154</td><td>0.0444</td><td>4.830</td><td>-3.764</td><td>0.045</td><td>-3.026</td><td>0.043</td><td>1.051</td><td>4448.12149</td><td>2.398</td><td>16.566925</td><td>1838</td><td>8.274</td><td>17.177988</td><td>3774</td><td>7.525</td><td>15.805863</td><td>1.372125</td><td>--</td><td>--</td><td>--</td><td>--</td><td>0</td><td>0</td><td>0</td><td>1</td><td>0</td><td>0</td><td>0</td><td>0</td><td>0</td><td>1</td><td>0</td><td>--</td><td>--</td><td>--</td><td>--</td><td>--</td><td>--</td><td>178833398233174213</td><td>--</td><td>--</td><td>--</td><td>URAT1-746391405</td><td>--</td><td>--</td><td>N1C5028985</td><td>--</td><td>22391760+5901404</td><td>--</td><td>339.82330760932</td><td>59.02792896656</td><td>1</td><td>1.6227</td><td>339.82327510265</td><td>59.02791551662</td><td>2914.14893000</td><td>2617.74390000</td><td>3300.76758000</td><td>2788.21753000</td><td>2530.42310000</td><td>3075.98462000</td><td>10033</td></tr>\n",
       "<tr><td>9005.33762750648</td><td>27.445</td><td>2.591</td><td>1</td><td>6.1584</td><td>339.68152272449</td><td>-1.939</td><td>0.186</td><td>-1.719</td><td>0.182</td><td>58.94980063744</td><td>2008429550614076032</td><td>0.0176</td><td>0.0172</td><td>0.4199</td><td>0.0206</td><td>5.858</td><td>-4.679</td><td>0.023</td><td>-3.524</td><td>0.021</td><td>0.968</td><td>16402.18114</td><td>4.41</td><td>15.150113</td><td>6712</td><td>12.49</td><td>15.771441</td><td>1.408e+04</td><td>18.72</td><td>14.376559</td><td>1.394881</td><td>--</td><td>--</td><td>--</td><td>--</td><td>0</td><td>0</td><td>0</td><td>1</td><td>0</td><td>0</td><td>0</td><td>0</td><td>0</td><td>1</td><td>0</td><td>--</td><td>--</td><td>--</td><td>--</td><td>--</td><td>--</td><td>178743396815500484</td><td>--</td><td>--</td><td>--</td><td>URAT1-745391944</td><td>J223843.56+585659.4</td><td>--</td><td>N1C5024111</td><td>--</td><td>22384357+5856594</td><td>--</td><td>339.68156304533</td><td>58.94981629825</td><td>1</td><td>6.1584</td><td>339.68152272449</td><td>58.94980063744</td><td>2234.62158000</td><td>2138.99561000</td><td>2340.34644000</td><td>2194.90039000</td><td>2092.13135000</td><td>2296.43628000</td><td>10033</td></tr>\n",
       "<tr><td>8334.892445316002</td><td>35.010</td><td>2.806</td><td>1</td><td>3.2286</td><td>339.76625014965</td><td>-2.676</td><td>0.197</td><td>-0.845</td><td>0.193</td><td>58.97239278067</td><td>2008383126302250624</td><td>0.0263</td><td>0.0254</td><td>0.3567</td><td>0.0308</td><td>6.030</td><td>-5.416</td><td>0.034</td><td>-2.650</td><td>0.032</td><td>1.003</td><td>7686.25360</td><td>2.913</td><td>15.973080</td><td>2848</td><td>7.975</td><td>16.702312</td><td>7088</td><td>13.62</td><td>15.121582</td><td>1.580730</td><td>--</td><td>--</td><td>--</td><td>--</td><td>0</td><td>0</td><td>0</td><td>1</td><td>0</td><td>0</td><td>0</td><td>0</td><td>1</td><td>1</td><td>0</td><td>8724.0</td><td>4.1062</td><td>0.4906</td><td>2514.2654</td><td>3.3183</td><td>--</td><td>178763397662907586</td><td>--</td><td>--</td><td>--</td><td>URAT1-745392287</td><td>--</td><td>--</td><td>N1C5025440</td><td>--</td><td>22390392+5858206</td><td>--</td><td>339.76629685090</td><td>58.97240455783</td><td>1</td><td>3.2286</td><td>339.76625014965</td><td>58.97239278067</td><td>2632.16675000</td><td>2389.59448000</td><td>3024.12280000</td><td>2582.76978000</td><td>2389.60034000</td><td>2774.99512000</td><td>10033</td></tr>\n",
       "<tr><td>7865.023054586586</td><td>17.758</td><td>1.647</td><td>1</td><td>1.5559</td><td>339.87729597814</td><td>0.945</td><td>0.210</td><td>1.349</td><td>0.206</td><td>59.02636922696</td><td>2008384814233513472</td><td>0.0384</td><td>0.0363</td><td>0.4347</td><td>0.0452</td><td>1.852</td><td>-1.795</td><td>0.047</td><td>-0.456</td><td>0.045</td><td>1.098</td><td>4588.43288</td><td>2.416</td><td>16.533205</td><td>1614</td><td>6.415</td><td>17.318438</td><td>4315</td><td>7.266</td><td>15.660414</td><td>1.658024</td><td>--</td><td>--</td><td>--</td><td>--</td><td>0</td><td>0</td><td>0</td><td>1</td><td>0</td><td>0</td><td>0</td><td>0</td><td>1</td><td>1</td><td>0</td><td>8275.2</td><td>4.3464</td><td>-0.2147</td><td>1885.3896</td><td>3.3209</td><td>--</td><td>178833398773102347</td><td>--</td><td>--</td><td>--</td><td>URAT1-746391659</td><td>--</td><td>--</td><td>N1C5028960</td><td>--</td><td>22393055+5901348</td><td>--</td><td>339.87731148070</td><td>59.02637125522</td><td>1</td><td>1.5559</td><td>339.87729597814</td><td>59.02636922696</td><td>2274.39209000</td><td>2053.16479000</td><td>2610.05786000</td><td>2115.32422000</td><td>1963.05762000</td><td>2354.12939000</td><td>10033</td></tr>\n",
       "<tr><td>7787.534792924758</td><td>46.768</td><td>4.946</td><td>1</td><td>5.8987</td><td>340.03980651806</td><td>4.817</td><td>0.219</td><td>-1.124</td><td>0.217</td><td>58.99461061728</td><td>2008383989599852928</td><td>0.0437</td><td>0.0436</td><td>0.4831</td><td>0.0528</td><td>3.591</td><td>2.077</td><td>0.056</td><td>-2.929</td><td>0.056</td><td>1.391</td><td>4468.69498</td><td>4.941</td><td>16.561914</td><td>1777</td><td>14.56</td><td>17.214140</td><td>4226</td><td>14.67</td><td>15.683141</td><td>1.530999</td><td>--</td><td>--</td><td>--</td><td>--</td><td>0</td><td>0</td><td>0</td><td>1</td><td>0</td><td>0</td><td>0</td><td>0</td><td>1</td><td>1</td><td>0</td><td>10020.9</td><td>4.2139</td><td>-0.6895</td><td>2841.6548</td><td>3.3915</td><td>--</td><td>178793400398124226</td><td>--</td><td>--</td><td>--</td><td>URAT1-745393491</td><td>J224009.55+585940.3</td><td>--</td><td>N1C5026516</td><td>--</td><td>22400953+5859405</td><td>--</td><td>340.03978859871</td><td>58.99462363573</td><td>1</td><td>5.8987</td><td>340.03980651806</td><td>58.99461061728</td><td>1994.69104000</td><td>1838.66748000</td><td>2202.75562000</td><td>1978.90283000</td><td>1842.46179000</td><td>2172.57397000</td><td>10033</td></tr>\n",
       "<tr><td>7650.679341290927</td><td>49.349</td><td>4.272</td><td>1</td><td>7.3150</td><td>339.72574294861</td><td>-2.646</td><td>0.216</td><td>-3.354</td><td>0.211</td><td>58.90086167091</td><td>2008382374691897728</td><td>0.0409</td><td>0.0403</td><td>0.3890</td><td>0.0486</td><td>7.458</td><td>-5.386</td><td>0.053</td><td>-5.159</td><td>0.050</td><td>1.058</td><td>3337.26628</td><td>1.812</td><td>16.878890</td><td>1140</td><td>6.485</td><td>17.696510</td><td>3206</td><td>8.331</td><td>15.983120</td><td>1.713390</td><td>--</td><td>--</td><td>--</td><td>--</td><td>0</td><td>0</td><td>0</td><td>1</td><td>0</td><td>0</td><td>0</td><td>0</td><td>1</td><td>1</td><td>0</td><td>8479.2</td><td>4.4474</td><td>-0.6386</td><td>1768.6195</td><td>3.5294</td><td>--</td><td>178683397258121740</td><td>--</td><td>--</td><td>--</td><td>URAT1-745392133</td><td>J223854.19+585403.0</td><td>--</td><td>N1C5020888</td><td>--</td><td>22385419+5854031</td><td>--</td><td>339.72578929111</td><td>58.90088460179</td><td>1</td><td>7.3150</td><td>339.72574294861</td><td>58.90086167091</td><td>2437.11816000</td><td>2201.25464000</td><td>2686.80347000</td><td>2377.56348000</td><td>2107.46021000</td><td>2737.55933000</td><td>10033</td></tr>\n",
       "<tr><td>7650.679341290927</td><td>42.069</td><td>3.932</td><td>1</td><td>6.9950</td><td>340.04434455421</td><td>3.381</td><td>0.310</td><td>2.007</td><td>0.310</td><td>59.06446992114</td><td>2008385192190655616</td><td>0.1232</td><td>0.1159</td><td>0.4704</td><td>0.1475</td><td>0.672</td><td>0.641</td><td>0.147</td><td>0.202</td><td>0.149</td><td>5.537</td><td>8454.48483</td><td>6.691</td><td>15.869649</td><td>3546</td><td>18.75</td><td>16.464157</td><td>9956</td><td>33.76</td><td>14.752728</td><td>1.711429</td><td>--</td><td>--</td><td>--</td><td>--</td><td>0</td><td>0</td><td>0</td><td>1</td><td>0</td><td>0</td><td>0</td><td>0</td><td>0</td><td>1</td><td>0</td><td>--</td><td>--</td><td>--</td><td>--</td><td>--</td><td>--</td><td>178873400444368018</td><td>--</td><td>--</td><td>--</td><td>URAT1-746392226</td><td>J224010.66+590351.9</td><td>13469584</td><td>N1C5031086</td><td>--</td><td>22401065+5903518</td><td>--</td><td>340.04433900954</td><td>59.06446902469</td><td>1</td><td>6.9950</td><td>340.04434455421</td><td>59.06446992114</td><td>2257.21533000</td><td>1733.34558000</td><td>3212.94531000</td><td>1822.07788000</td><td>1469.98596000</td><td>2290.70117000</td><td>10033</td></tr>\n",
       "<tr><td>7624.300412007572</td><td>45.043</td><td>4.343</td><td>1</td><td>8.3722</td><td>340.08972267079</td><td>3.715</td><td>0.192</td><td>2.250</td><td>0.190</td><td>59.06978560505</td><td>2008391033346185856</td><td>0.0230</td><td>0.0224</td><td>0.4356</td><td>0.0269</td><td>1.072</td><td>0.975</td><td>0.029</td><td>0.445</td><td>0.029</td><td>1.100</td><td>11575.68474</td><td>4.765</td><td>15.528501</td><td>3950</td><td>12.73</td><td>16.347023</td><td>1.122e+04</td><td>14.6</td><td>14.622911</td><td>1.724112</td><td>--</td><td>--</td><td>--</td><td>--</td><td>0</td><td>0</td><td>0</td><td>1</td><td>0</td><td>0</td><td>0</td><td>0</td><td>0</td><td>1</td><td>0</td><td>--</td><td>--</td><td>--</td><td>--</td><td>--</td><td>--</td><td>178883400897544439</td><td>--</td><td>--</td><td>--</td><td>URAT1-746392361</td><td>--</td><td>13469659</td><td>N1C5031373</td><td>--</td><td>22402153+5904111</td><td>--</td><td>340.08971423849</td><td>59.06978362559</td><td>1</td><td>8.3722</td><td>340.08972267079</td><td>59.06978560505</td><td>2187.87646000</td><td>2049.56567000</td><td>2322.68335000</td><td>2098.66895000</td><td>1988.60181000</td><td>2212.23828000</td><td>10033</td></tr>\n",
       "<tr><td>7411.395679600756</td><td>54.612</td><td>3.896</td><td>1</td><td>0.6146</td><td>339.86590073968</td><td>3.334</td><td>0.209</td><td>2.016</td><td>0.205</td><td>59.01069960562</td><td>2008384779873564160</td><td>0.0387</td><td>0.0372</td><td>0.3227</td><td>0.0474</td><td>0.630</td><td>0.594</td><td>0.046</td><td>0.211</td><td>0.044</td><td>1.074</td><td>3951.51579</td><td>2.257</td><td>16.695457</td><td>1278</td><td>8.833</td><td>17.571976</td><td>3872</td><td>6.869</td><td>15.778043</td><td>1.793933</td><td>--</td><td>--</td><td>--</td><td>--</td><td>0</td><td>0</td><td>0</td><td>1</td><td>0</td><td>0</td><td>0</td><td>0</td><td>1</td><td>1</td><td>0</td><td>7807.8</td><td>4.2979</td><td>0.1057</td><td>1945.9050</td><td>3.4861</td><td>--</td><td>178813398659213541</td><td>--</td><td>--</td><td>--</td><td>URAT1-746391614</td><td>--</td><td>--</td><td>N1C5028193</td><td>--</td><td>22392780+5900384</td><td>--</td><td>339.86589561508</td><td>59.01069866725</td><td>1</td><td>0.6146</td><td>339.86590073968</td><td>59.01069960562</td><td>2957.05151000</td><td>2557.86914000</td><td>3448.42041000</td><td>2786.18066000</td><td>2418.22070000</td><td>3202.28149000</td><td>10033</td></tr>\n",
       "<tr><td>7336.687144183594</td><td>51.646</td><td>5.277</td><td>1</td><td>2.7880</td><td>339.87464861296</td><td>4.694</td><td>0.187</td><td>2.411</td><td>0.184</td><td>59.04929262798</td><td>2008431818357122688</td><td>0.0187</td><td>0.0180</td><td>0.4614</td><td>0.0223</td><td>2.045</td><td>1.954</td><td>0.024</td><td>0.606</td><td>0.023</td><td>1.417</td><td>30632.11929</td><td>8.856</td><td>14.471924</td><td>1.226e+04</td><td>18.89</td><td>15.117186</td><td>2.654e+04</td><td>27.77</td><td>13.688234</td><td>1.428951</td><td>--</td><td>--</td><td>--</td><td>--</td><td>0</td><td>0</td><td>0</td><td>1</td><td>1</td><td>0</td><td>1</td><td>0</td><td>0</td><td>1</td><td>0</td><td>7570.6</td><td>3.4294</td><td>-0.1930</td><td>2765.9934</td><td>2.5438</td><td>--</td><td>178853398745689840</td><td>--</td><td>--</td><td>--</td><td>URAT1-746391643</td><td>J223929.99+590257.2</td><td>13470164</td><td>N1C5030373</td><td>--</td><td>22392991+5902573</td><td>--</td><td>339.87463173022</td><td>59.04928993632</td><td>1</td><td>2.7880</td><td>339.87464861296</td><td>59.04929262798</td><td>2064.69946000</td><td>1961.67468000</td><td>2192.51685000</td><td>2025.08862000</td><td>1938.57153000</td><td>2127.35425000</td><td>10033</td></tr>\n",
       "<tr><td>5919.704116460876</td><td>43.279</td><td>4.113</td><td>1</td><td>8.5032</td><td>340.12155273677</td><td>3.965</td><td>0.208</td><td>1.092</td><td>0.206</td><td>59.02761890180</td><td>2008389933834808192</td><td>0.0361</td><td>0.0352</td><td>0.4231</td><td>0.0431</td><td>1.418</td><td>1.225</td><td>0.045</td><td>-0.713</td><td>0.045</td><td>1.060</td><td>4388.08676</td><td>2.457</td><td>16.581678</td><td>1130</td><td>8.309</td><td>17.706062</td><td>4873</td><td>7.543</td><td>15.528314</td><td>2.177749</td><td>--</td><td>--</td><td>--</td><td>--</td><td>0</td><td>0</td><td>0</td><td>1</td><td>0</td><td>0</td><td>0</td><td>0</td><td>1</td><td>1</td><td>0</td><td>4998.7</td><td>3.6036</td><td>-0.0363</td><td>1763.7308</td><td>2.9465</td><td>--</td><td>178833401215943847</td><td>--</td><td>--</td><td>--</td><td>URAT1-746392465</td><td>J224029.15+590139.3</td><td>--</td><td>N1C5028519</td><td>--</td><td>22402917+5901393</td><td>--</td><td>340.12154215467</td><td>59.02762206997</td><td>1</td><td>8.5032</td><td>340.12155273677</td><td>59.02761890180</td><td>2220.04688000</td><td>2062.82690000</td><td>2382.68945000</td><td>2142.55127000</td><td>1952.95447000</td><td>2395.06519000</td><td>10033</td></tr>\n",
       "</table></div>"
      ],
      "text/plain": [
       "<Table length=13>\n",
       "    Temp. Est        v_pec     µ_pec   ...    b_rpgeo        B_rpgeo      Flag\n",
       "        K            km / s   mas / yr ...       pc             pc            \n",
       "     float64        float64   float64  ...    float64        float64     int32\n",
       "------------------ --------- --------- ... -------------- -------------- -----\n",
       "14941.699574067023    29.861     2.404 ...  2475.57690000  2754.27393000 10033\n",
       " 11849.49930976177    30.066     3.053 ...  1965.45789000  2167.60474000 10033\n",
       " 9894.640051300763    22.010     1.593 ...  2530.42310000  3075.98462000 10033\n",
       "  9005.33762750648    27.445     2.591 ...  2092.13135000  2296.43628000 10033\n",
       " 8334.892445316002    35.010     2.806 ...  2389.60034000  2774.99512000 10033\n",
       " 7865.023054586586    17.758     1.647 ...  1963.05762000  2354.12939000 10033\n",
       " 7787.534792924758    46.768     4.946 ...  1842.46179000  2172.57397000 10033\n",
       " 7650.679341290927    49.349     4.272 ...  2107.46021000  2737.55933000 10033\n",
       " 7650.679341290927    42.069     3.932 ...  1469.98596000  2290.70117000 10033\n",
       " 7624.300412007572    45.043     4.343 ...  1988.60181000  2212.23828000 10033\n",
       " 7411.395679600756    54.612     3.896 ...  2418.22070000  3202.28149000 10033\n",
       " 7336.687144183594    51.646     5.277 ...  1938.57153000  2127.35425000 10033\n",
       " 5919.704116460876    43.279     4.113 ...  1952.95447000  2395.06519000 10033"
      ]
     },
     "metadata": {},
     "output_type": "display_data"
    },
    {
     "data": {
      "text/html": [
       "<div><i>Table length=2</i>\n",
       "<table id=\"table3074438840128\" class=\"table-striped table-bordered table-condensed\">\n",
       "<thead><tr><th>Temp. Est</th><th>v_pec</th><th>µ_pec</th><th>_q_1</th><th>_r_1</th><th>RA_ICRS_1</th><th>rmRA</th><th>e_rmRA</th><th>rmDE</th><th>e_rmDE</th><th>DE_ICRS_1</th><th>Source</th><th>e_RA_ICRS</th><th>e_DE_ICRS</th><th>Plx</th><th>e_Plx</th><th>PM</th><th>pmRA</th><th>e_pmRA</th><th>pmDE</th><th>e_pmDE</th><th>RUWE</th><th>FG</th><th>e_FG</th><th>Gmag</th><th>FBP</th><th>e_FBP</th><th>BPmag</th><th>FRP</th><th>e_FRP</th><th>RPmag</th><th>BP-RP</th><th>RV</th><th>e_RV</th><th>Vbroad</th><th>GRVSmag</th><th>QSO</th><th>Gal</th><th>NSS</th><th>XPcont</th><th>XPsamp</th><th>RVS</th><th>EpochPh</th><th>EpochRV</th><th>MCMCGSP</th><th>MCMCMSC</th><th>And</th><th>Teff</th><th>logg</th><th>__Fe_H_</th><th>Dist</th><th>A0</th><th>HIP</th><th>PS1</th><th>SDSS13</th><th>SKYM2</th><th>TYC2</th><th>URAT1</th><th>AllWISE</th><th>APASS9</th><th>GSC23</th><th>RAVE5</th><th>_2MASS</th><th>RAVE6</th><th>RAJ2000</th><th>DEJ2000</th><th>_q_2</th><th>_r_2</th><th>RA_ICRS_2</th><th>DE_ICRS_2</th><th>rgeo</th><th>b_rgeo</th><th>B_rgeo</th><th>rpgeo</th><th>b_rpgeo</th><th>B_rpgeo</th><th>Flag</th></tr></thead>\n",
       "<thead><tr><th>K</th><th>km / s</th><th>mas / yr</th><th></th><th></th><th>deg</th><th>mas / yr</th><th>mas / yr</th><th>mas / yr</th><th>mas / yr</th><th>deg</th><th></th><th>mas</th><th>mas</th><th>mas</th><th>mas</th><th>mas / yr</th><th>mas / yr</th><th>mas / yr</th><th>mas / yr</th><th>mas / yr</th><th></th><th></th><th></th><th>mag</th><th></th><th></th><th>mag</th><th></th><th></th><th>mag</th><th>mag</th><th>km / s</th><th>km / s</th><th>km / s</th><th>mag</th><th></th><th></th><th></th><th></th><th></th><th></th><th></th><th></th><th></th><th></th><th></th><th>K</th><th>log(cm.s**-2)</th><th></th><th>pc</th><th>mag</th><th></th><th></th><th></th><th></th><th></th><th></th><th></th><th></th><th></th><th></th><th></th><th></th><th>deg</th><th>deg</th><th></th><th></th><th>deg</th><th>deg</th><th>pc</th><th>pc</th><th>pc</th><th>pc</th><th>pc</th><th>pc</th><th></th></tr></thead>\n",
       "<thead><tr><th>float64</th><th>float64</th><th>float64</th><th>int32</th><th>float64</th><th>float64</th><th>float64</th><th>float32</th><th>float64</th><th>float32</th><th>float64</th><th>int64</th><th>float64</th><th>float64</th><th>float64</th><th>float32</th><th>float64</th><th>float64</th><th>float32</th><th>float64</th><th>float32</th><th>float64</th><th>float64</th><th>float32</th><th>float64</th><th>float32</th><th>float32</th><th>float64</th><th>float32</th><th>float32</th><th>float64</th><th>float64</th><th>float64</th><th>float32</th><th>float64</th><th>float64</th><th>uint8</th><th>uint8</th><th>uint8</th><th>uint8</th><th>uint8</th><th>uint8</th><th>uint8</th><th>uint8</th><th>uint8</th><th>uint8</th><th>uint8</th><th>float64</th><th>float64</th><th>float64</th><th>float64</th><th>float64</th><th>int32</th><th>int64</th><th>int64</th><th>int32</th><th>str1</th><th>str15</th><th>str19</th><th>int32</th><th>str10</th><th>str1</th><th>str16</th><th>str1</th><th>float64</th><th>float64</th><th>int32</th><th>float64</th><th>float64</th><th>float64</th><th>float64</th><th>float64</th><th>float64</th><th>float64</th><th>float64</th><th>float64</th><th>int32</th></tr></thead>\n",
       "<tr><td>14941.699574067023</td><td>29.861</td><td>2.404</td><td>1</td><td>1.5205</td><td>339.89581711423</td><td>2.361</td><td>0.188</td><td>0.453</td><td>0.185</td><td>58.99547917199</td><td>2008384504995669248</td><td>0.0202</td><td>0.0197</td><td>0.3560</td><td>0.0241</td><td>1.404</td><td>-0.379</td><td>0.025</td><td>-1.352</td><td>0.024</td><td>1.086</td><td>13221.76503</td><td>3.482</td><td>15.384143</td><td>6055</td><td>14.81</td><td>15.883185</td><td>1.044e+04</td><td>18.25</td><td>14.701116</td><td>1.182070</td><td>--</td><td>--</td><td>--</td><td>--</td><td>0</td><td>0</td><td>0</td><td>1</td><td>0</td><td>0</td><td>0</td><td>0</td><td>1</td><td>1</td><td>0</td><td>9168.0</td><td>3.7061</td><td>-0.6147</td><td>4094.0940</td><td>2.4713</td><td>--</td><td>178793398958385263</td><td>--</td><td>--</td><td>--</td><td>URAT1-745392846</td><td>J223935.00+585943.5</td><td>13469566</td><td>N1C5026796</td><td>--</td><td>22393500+5859436</td><td>--</td><td>339.89582038348</td><td>58.99548518133</td><td>1</td><td>1.5205</td><td>339.89581711423</td><td>58.99547917199</td><td>2620.36230000</td><td>2461.53345000</td><td>2759.61401000</td><td>2605.56982000</td><td>2475.57690000</td><td>2754.27393000</td><td>10033</td></tr>\n",
       "<tr><td>11849.49930976177</td><td>30.066</td><td>3.053</td><td>1</td><td>6.5222</td><td>339.69805696343</td><td>-2.180</td><td>0.188</td><td>-2.137</td><td>0.184</td><td>58.92918778013</td><td>2008382546490573824</td><td>0.0190</td><td>0.0193</td><td>0.4561</td><td>0.0228</td><td>6.305</td><td>-4.920</td><td>0.025</td><td>-3.942</td><td>0.023</td><td>1.046</td><td>13964.47166</td><td>3.916</td><td>15.324805</td><td>6086</td><td>13.27</td><td>15.877747</td><td>1.147e+04</td><td>11.21</td><td>14.599200</td><td>1.278546</td><td>--</td><td>--</td><td>--</td><td>--</td><td>0</td><td>0</td><td>0</td><td>1</td><td>0</td><td>0</td><td>0</td><td>0</td><td>0</td><td>1</td><td>0</td><td>--</td><td>--</td><td>--</td><td>--</td><td>--</td><td>--</td><td>178713396980935748</td><td>--</td><td>--</td><td>--</td><td>URAT1-745392015</td><td>--</td><td>--</td><td>--</td><td>--</td><td>22384755+5855451</td><td>--</td><td>339.69809933678</td><td>58.92920530089</td><td>1</td><td>6.5222</td><td>339.69805696343</td><td>58.92918778013</td><td>2077.95093000</td><td>1973.40735000</td><td>2173.33203000</td><td>2060.58984000</td><td>1965.45789000</td><td>2167.60474000</td><td>10033</td></tr>\n",
       "</table></div>"
      ],
      "text/plain": [
       "<Table length=2>\n",
       "    Temp. Est        v_pec     µ_pec   ...    b_rpgeo        B_rpgeo      Flag\n",
       "        K            km / s   mas / yr ...       pc             pc            \n",
       "     float64        float64   float64  ...    float64        float64     int32\n",
       "------------------ --------- --------- ... -------------- -------------- -----\n",
       "14941.699574067023    29.861     2.404 ...  2475.57690000  2754.27393000 10033\n",
       " 11849.49930976177    30.066     3.053 ...  1965.45789000  2167.60474000 10033"
      ]
     },
     "execution_count": 3,
     "metadata": {},
     "output_type": "execute_result"
    }
   ],
   "source": [
    "#Get Runaways\n",
    "cluster = Cluster('Berkeley_97')\n",
    "cluster.generate_tables()\n",
    "theoretical_data = theoretical_isochrone(cluster,output=\"table\",printing=False)\n",
    "fs = cluster.read_table('fs')\n",
    "runaways_all = get_runaways(cluster,fs,theoretical_data)\n",
    "display(runaways_all)\n",
    "mask = [T > config['runaway_temp'] for T in runaways_all['Temp. Est']]\n",
    "runaways = runaways_all[mask]\n",
    "runaways"
   ]
  },
  {
   "cell_type": "code",
   "execution_count": 4,
   "metadata": {},
   "outputs": [
    {
     "name": "stdout",
     "output_type": "stream",
     "text": [
      "Berkeley_97\n",
      "Av: 3.1\n",
      "logage: 7.0\n",
      "[Fe/H]: -0.1\n",
      "Theoretical isochrone exists, reading it.\n",
      "Berkeley_97/Berkeley_97_stars_in_region.tsv exists in Berkeley_97 with 446 stars\n",
      "mean(v_pec):  2.226454335203929\n",
      "std(v_pec):  1.531512700823818\n",
      "v_pec_max:  6.6702839090600845\n"
     ]
    },
    {
     "data": {
      "text/plain": [
       "<matplotlib.legend.Legend at 0x2cbd2f3f2e0>"
      ]
     },
     "execution_count": 4,
     "metadata": {},
     "output_type": "execute_result"
    },
    {
     "name": "stderr",
     "output_type": "stream",
     "text": [
      "UserWarning: You have used the `textcoords` kwarg, but not the `xytext` kwarg.  This can lead to surprising results.\n"
     ]
    }
   ],
   "source": [
    "\n",
    "# Plot CMD\n",
    "BP_RP_theo, Gmag_theo = theoretical_isochrone(cluster)\n",
    "\n",
    "# fig = plt.figure(figsize=(19, 17))\n",
    "# # fig = plt.figure()\n",
    "# gs = GridSpec(1, 1, width_ratios=[1, 1])\n",
    "\n",
    "# # Line Theorietical curve\n",
    "# # ax1 = fig.add_subplot(gs[0, 0])\n",
    "# ax1 = fig.subplots()\n",
    "\n",
    "fig,ax1 = plt.subplots()\n",
    "\n",
    "# x_min, x_max = ax1.get_xlim()  # Get the current x-limits\n",
    "# x_max = max(theoretical_data['BP-RP'])\n",
    "# ax1.set_xlim(x_min,x_max)\n",
    "\n",
    "# Calculate the 20% lower y-limit\n",
    "# y_min, y_max = ax1.get_ylim()  # Get the current y-limits\n",
    "# y_max = max(Gmag_theo)\n",
    "# y_range = y_max - y_min\n",
    "# new_y_min = y_min - 0.2 * y_range\n",
    "# ax1.set_ylim(new_y_min, y_max)\n",
    "\n",
    "\n",
    "\n",
    "ax1.plot(BP_RP_theo, Gmag_theo, label='Theoretical Isochrone')\n",
    "ax1.set_xlabel(r\"$G_{BP}-G_{RP}$ (mag)\", fontsize=14)\n",
    "ax1.set_ylabel(r\"$G$ (mag)\", fontsize=14)\n",
    "ax1.set_title(f\"CMD for {cluster.name}\", fontsize=14)\n",
    "ax1.invert_yaxis()\n",
    "\n",
    "\n",
    "#Scatter stars in the region\n",
    "sir = cluster.stars_in_region()\n",
    "sir_gmag,sir_bp_rp = sir['Gmag'],sir['BP-RP']\n",
    "ax1.scatter(sir_bp_rp,sir_gmag,s=2, color='grey',label=f'{len(sir)} stars in the region {cluster.calculate_search_arcmin()}')\n",
    "\n",
    "\n",
    "# Scatter dias members\n",
    "dias_members = cluster.dias_members(memb_prob=config[\"memb_prob\"])\n",
    "dias_gmag,dias_bp_rp = dias_members['Gmag'],dias_members['BP-RP']\n",
    "ax1.scatter(dias_bp_rp,dias_gmag,s=8, color='black',label=f'{len(dias_members)} Dias Members P > {config[\"memb_prob\"]}')\n",
    "\n",
    "\n",
    "\n",
    "\n",
    "\n",
    "\n",
    "# Scatter my members\n",
    "my_members = find_cluster(sir,refCluster=cluster.name)\n",
    "my_gmag,my_bp_rp = my_members['Gmag'],my_members['BP-RP']\n",
    "ax1.scatter(my_bp_rp,my_gmag,s=10,alpha =0.7,marker='x', color='blue',label=rf'{len(my_members)} My Members $\\sigma$ < {my_members[\"v_pec\"].max():.2f}')\n",
    "\n",
    "\n",
    "\n",
    "\n",
    "# Scatter runaways\n",
    "runaways_all = cluster.read_table('runaways')\n",
    "_runaways_gmag,_runaways_bp_rp = runaways_all['Gmag'],runaways_all['BP-RP']\n",
    "mask = [T > config['runaway_temp'] for T in runaways_all['Temp. Est']]\n",
    "runaways = runaways_all[mask]\n",
    "runaways_gmag,runaways_bp_rp = runaways['Gmag'],runaways['BP-RP']\n",
    "## all runaways\n",
    "ax1.scatter(_runaways_bp_rp,_runaways_gmag,s=5,alpha=0.5, c=runaways_all['Temp. Est'],cmap='spring_r',norm=plt.Normalize(4000, 23000),label=rf'{len(runaways_all)} Runaways ($v$ > 17.6)')\n",
    "\n",
    "\n",
    "\n",
    "\n",
    "## main runaways T > 10,000K\n",
    "annotations = []\n",
    "\n",
    "def onpick3(event):\n",
    "    global annotations\n",
    "    for ann in annotations:\n",
    "        ann.remove()\n",
    "    annotations = []\n",
    "    \n",
    "    ind = event.ind\n",
    "    for index in ind:\n",
    "        temp_est = runaways['Temp. Est'][index]\n",
    "        ann = ax1.annotate(f'{temp_est:.0f} K', (runaways_bp_rp[index], runaways_gmag[index]), textcoords='offset points', fontsize=10, color='black', ha='center')\n",
    "        ann.set_path_effects([pe.withStroke(linewidth=3, foreground='white')])\n",
    "        annotations.append(ann)\n",
    "    plt.draw()\n",
    "\n",
    "\n",
    "scatter_main = ax1.scatter(runaways_bp_rp,runaways_gmag,picker=True,s=20, c=runaways['Temp. Est'],cmap='spring_r',norm=plt.Normalize(4000, 23000),label=rf'{len(runaways)} Runaways ($v$ > 17.6) & T > {config[\"runaway_temp\"]:,} K')\n",
    "# Connect the pick_event to the onpick3 function\n",
    "fig.canvas.mpl_connect('pick_event', onpick3)\n",
    "\n",
    "\n",
    "colorbar = fig.colorbar(scatter_main,ax=ax1)\n",
    "colorbar.set_label('Temperature (K)')\n",
    "ax1.legend(loc='upper right')\n"
   ]
  },
  {
   "cell_type": "code",
   "execution_count": null,
   "metadata": {},
   "outputs": [],
   "source": [
    "# import matplotlib.gridspec as gridspec\n",
    "# def runaway_plot():\n",
    "#     fig = plt.figure(figsize=(12, 12))\n",
    "#     gs = gridspec.GridSpec(2, 2, width_ratios=[1, 1])\n",
    "\n",
    "#     # First subplot\n",
    "#     ax1 = fig.add_subplot(gs[0, 0])\n",
    "#     ax1.plot(BP_RP_theo, Gmag_theo, label='Theoretical Isochrone')\n",
    "#     ax1.set_xlabel(r\"$G_{BP}-G_{RP}$ (mag)\", fontsize=14)\n",
    "#     ax1.set_ylabel(r\"$G$ (mag)\", fontsize=14)\n",
    "#     ax1.set_title(f\"CMD for {cluster.name}\", fontsize=14)\n",
    "#     ax1.invert_yaxis()\n",
    "#     ax1.legend()\n",
    "\n",
    "#     # Second subplot\n",
    "#     ax2 = fig.add_subplot(gs[0, 1])\n",
    "#     ax2.plot(BP_RP_theo, Gmag_theo, label='Theoretical Isochrone')\n",
    "#     ax2.set_xlabel(r\"$G_{BP}-G_{RP}$ (mag)\", fontsize=14)\n",
    "#     ax2.set_ylabel(r\"$G$ (mag)\", fontsize=14)\n",
    "#     ax2.set_title(f\"CMD for {cluster.name}\", fontsize=14)\n",
    "#     ax2.legend()\n",
    "\n",
    "#     # Third subplot\n",
    "#     ax3 = fig.add_subplot(gs[1, 0])\n",
    "#     ax3.plot(BP_RP_theo, Gmag_theo, label='Theoretical Isochrone')\n",
    "#     ax3.set_xlabel(r\"$G_{BP}-G_{RP}$ (mag)\", fontsize=14)\n",
    "#     ax3.set_ylabel(r\"$G$ (mag)\", fontsize=14)\n",
    "#     ax3.set_title(f\"CMD for {cluster.name}\", fontsize=14)\n",
    "#     ax3.invert_xaxis()\n",
    "#     ax3.legend()\n",
    "\n",
    "\n",
    "#     # Fourth subplot\n",
    "#     ax4 = fig.add_subplot(gs[1, 1])\n",
    "#     ax4.plot(BP_RP_theo, Gmag_theo, label='Theoretical Isochrone')\n",
    "#     ax4.set_xlabel(r\"$G_{BP}-G_{RP}$ (mag)\", fontsize=14)\n",
    "#     ax4.set_ylabel(r\"$G$ (mag)\", fontsize=14)\n",
    "#     ax4.set_title(f\"CMD for {cluster.name}\", fontsize=14)\n",
    "#     ax4.invert_xaxis()\n",
    "#     ax4.invert_yaxis()\n",
    "#     ax4.legend()\n",
    "\n",
    "#     # plt.tight_layout()\n",
    "#     plt.show()\n",
    "# runaway_plot()"
   ]
  }
 ],
 "metadata": {
  "kernelspec": {
   "display_name": "Python 3",
   "language": "python",
   "name": "python3"
  },
  "language_info": {
   "codemirror_mode": {
    "name": "ipython",
    "version": 3
   },
   "file_extension": ".py",
   "mimetype": "text/x-python",
   "name": "python",
   "nbconvert_exporter": "python",
   "pygments_lexer": "ipython3",
   "version": "3.10.9"
  }
 },
 "nbformat": 4,
 "nbformat_minor": 2
}
