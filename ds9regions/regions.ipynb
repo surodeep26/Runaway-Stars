{
 "cells": [
  {
   "cell_type": "code",
   "execution_count": 1,
   "metadata": {},
   "outputs": [
    {
     "name": "stderr",
     "output_type": "stream",
     "text": [
      "QSocketNotifier: Can only be used with threads started with QThread\n"
     ]
    },
    {
     "ename": "UnicodeDecodeError",
     "evalue": "'utf-8' codec can't decode byte 0xb5 in position 11368: invalid start byte",
     "output_type": "error",
     "traceback": [
      "\u001b[0;31m---------------------------------------------------------------------------\u001b[0m",
      "\u001b[0;31mUnicodeDecodeError\u001b[0m                        Traceback (most recent call last)",
      "Cell \u001b[0;32mIn[1], line 10\u001b[0m\n\u001b[1;32m      8\u001b[0m \u001b[38;5;28;01mfrom\u001b[39;00m \u001b[38;5;21;01mregions\u001b[39;00m \u001b[38;5;28;01mimport\u001b[39;00m CircleSkyRegion,PixCoord, PointSkyRegion, PointPixelRegion, LineSkyRegion, LinePixelRegion\n\u001b[1;32m      9\u001b[0m get_ipython()\u001b[38;5;241m.\u001b[39mrun_line_magic(\u001b[38;5;124m'\u001b[39m\u001b[38;5;124mmatplotlib\u001b[39m\u001b[38;5;124m'\u001b[39m, \u001b[38;5;124m'\u001b[39m\u001b[38;5;124mqt\u001b[39m\u001b[38;5;124m'\u001b[39m)\n\u001b[0;32m---> 10\u001b[0m allrun \u001b[38;5;241m=\u001b[39m \u001b[43mTable\u001b[49m\u001b[38;5;241;43m.\u001b[39;49m\u001b[43mread\u001b[49m\u001b[43m(\u001b[49m\u001b[38;5;124;43m'\u001b[39;49m\u001b[38;5;124;43mBasel_8_runaways_all.tsv\u001b[39;49m\u001b[38;5;124;43m'\u001b[39;49m\u001b[43m,\u001b[49m\u001b[43m \u001b[49m\u001b[38;5;28;43mformat\u001b[39;49m\u001b[38;5;241;43m=\u001b[39;49m\u001b[38;5;124;43m'\u001b[39;49m\u001b[38;5;124;43mascii.ecsv\u001b[39;49m\u001b[38;5;124;43m'\u001b[39;49m\u001b[43m)\u001b[49m[:\u001b[38;5;241m5\u001b[39m]\n\u001b[1;32m     11\u001b[0m allrun_coord_now \u001b[38;5;241m=\u001b[39m SkyCoord(ra\u001b[38;5;241m=\u001b[39mallrun[\u001b[38;5;124m'\u001b[39m\u001b[38;5;124mRA_ICRS_1\u001b[39m\u001b[38;5;124m'\u001b[39m], \n\u001b[1;32m     12\u001b[0m                         dec\u001b[38;5;241m=\u001b[39mallrun[\u001b[38;5;124m'\u001b[39m\u001b[38;5;124mDE_ICRS_1\u001b[39m\u001b[38;5;124m'\u001b[39m],\n\u001b[1;32m     13\u001b[0m                         distance\u001b[38;5;241m=\u001b[39mallrun[\u001b[38;5;124m'\u001b[39m\u001b[38;5;124mrgeo\u001b[39m\u001b[38;5;124m'\u001b[39m], \n\u001b[1;32m     14\u001b[0m                         pm_ra_cosdec\u001b[38;5;241m=\u001b[39mallrun[\u001b[38;5;124m'\u001b[39m\u001b[38;5;124mrmRA\u001b[39m\u001b[38;5;124m'\u001b[39m],\n\u001b[1;32m     15\u001b[0m                         pm_dec\u001b[38;5;241m=\u001b[39mallrun[\u001b[38;5;124m'\u001b[39m\u001b[38;5;124mrmDE\u001b[39m\u001b[38;5;124m'\u001b[39m],\n\u001b[1;32m     16\u001b[0m                         obstime\u001b[38;5;241m=\u001b[39mTime(\u001b[38;5;124m'\u001b[39m\u001b[38;5;124mJ2000\u001b[39m\u001b[38;5;124m'\u001b[39m)\u001b[38;5;241m+\u001b[39m\u001b[38;5;241m500\u001b[39m\u001b[38;5;241m*\u001b[39mu\u001b[38;5;241m.\u001b[39mkyr)\n\u001b[1;32m     18\u001b[0m allrun_coord_earlier \u001b[38;5;241m=\u001b[39m allrun_coord_now\u001b[38;5;241m.\u001b[39mapply_space_motion(dt\u001b[38;5;241m=\u001b[39m\u001b[38;5;241m-\u001b[39m\u001b[38;5;241m100\u001b[39m\u001b[38;5;241m*\u001b[39mu\u001b[38;5;241m.\u001b[39mkyr)\n",
      "File \u001b[0;32m/usr/lib/python3/dist-packages/astropy/table/connect.py:62\u001b[0m, in \u001b[0;36mTableRead.__call__\u001b[0;34m(self, *args, **kwargs)\u001b[0m\n\u001b[1;32m     59\u001b[0m units \u001b[38;5;241m=\u001b[39m kwargs\u001b[38;5;241m.\u001b[39mpop(\u001b[38;5;124m\"\u001b[39m\u001b[38;5;124munits\u001b[39m\u001b[38;5;124m\"\u001b[39m, \u001b[38;5;28;01mNone\u001b[39;00m)\n\u001b[1;32m     60\u001b[0m descriptions \u001b[38;5;241m=\u001b[39m kwargs\u001b[38;5;241m.\u001b[39mpop(\u001b[38;5;124m\"\u001b[39m\u001b[38;5;124mdescriptions\u001b[39m\u001b[38;5;124m\"\u001b[39m, \u001b[38;5;28;01mNone\u001b[39;00m)\n\u001b[0;32m---> 62\u001b[0m out \u001b[38;5;241m=\u001b[39m \u001b[38;5;28;43mself\u001b[39;49m\u001b[38;5;241;43m.\u001b[39;49m\u001b[43mregistry\u001b[49m\u001b[38;5;241;43m.\u001b[39;49m\u001b[43mread\u001b[49m\u001b[43m(\u001b[49m\u001b[38;5;28;43mcls\u001b[39;49m\u001b[43m,\u001b[49m\u001b[43m \u001b[49m\u001b[38;5;241;43m*\u001b[39;49m\u001b[43margs\u001b[49m\u001b[43m,\u001b[49m\u001b[43m \u001b[49m\u001b[38;5;241;43m*\u001b[39;49m\u001b[38;5;241;43m*\u001b[39;49m\u001b[43mkwargs\u001b[49m\u001b[43m)\u001b[49m\n\u001b[1;32m     64\u001b[0m \u001b[38;5;66;03m# For some readers (e.g., ascii.ecsv), the returned `out` class is not\u001b[39;00m\n\u001b[1;32m     65\u001b[0m \u001b[38;5;66;03m# guaranteed to be the same as the desired output `cls`.  If so,\u001b[39;00m\n\u001b[1;32m     66\u001b[0m \u001b[38;5;66;03m# try coercing to desired class without copying (io.registry.read\u001b[39;00m\n\u001b[1;32m     67\u001b[0m \u001b[38;5;66;03m# would normally do a copy).  The normal case here is swapping\u001b[39;00m\n\u001b[1;32m     68\u001b[0m \u001b[38;5;66;03m# Table <=> QTable.\u001b[39;00m\n\u001b[1;32m     69\u001b[0m \u001b[38;5;28;01mif\u001b[39;00m \u001b[38;5;28mcls\u001b[39m \u001b[38;5;129;01mis\u001b[39;00m \u001b[38;5;129;01mnot\u001b[39;00m out\u001b[38;5;241m.\u001b[39m\u001b[38;5;18m__class__\u001b[39m:\n",
      "File \u001b[0;32m/usr/lib/python3/dist-packages/astropy/io/registry/core.py:218\u001b[0m, in \u001b[0;36mUnifiedInputRegistry.read\u001b[0;34m(self, cls, format, cache, *args, **kwargs)\u001b[0m\n\u001b[1;32m    213\u001b[0m     \u001b[38;5;28mformat\u001b[39m \u001b[38;5;241m=\u001b[39m \u001b[38;5;28mself\u001b[39m\u001b[38;5;241m.\u001b[39m_get_valid_format(\n\u001b[1;32m    214\u001b[0m         \u001b[38;5;124m\"\u001b[39m\u001b[38;5;124mread\u001b[39m\u001b[38;5;124m\"\u001b[39m, \u001b[38;5;28mcls\u001b[39m, path, fileobj, args, kwargs\n\u001b[1;32m    215\u001b[0m     )\n\u001b[1;32m    217\u001b[0m reader \u001b[38;5;241m=\u001b[39m \u001b[38;5;28mself\u001b[39m\u001b[38;5;241m.\u001b[39mget_reader(\u001b[38;5;28mformat\u001b[39m, \u001b[38;5;28mcls\u001b[39m)\n\u001b[0;32m--> 218\u001b[0m data \u001b[38;5;241m=\u001b[39m \u001b[43mreader\u001b[49m\u001b[43m(\u001b[49m\u001b[38;5;241;43m*\u001b[39;49m\u001b[43margs\u001b[49m\u001b[43m,\u001b[49m\u001b[43m \u001b[49m\u001b[38;5;241;43m*\u001b[39;49m\u001b[38;5;241;43m*\u001b[39;49m\u001b[43mkwargs\u001b[49m\u001b[43m)\u001b[49m\n\u001b[1;32m    220\u001b[0m \u001b[38;5;28;01mif\u001b[39;00m \u001b[38;5;129;01mnot\u001b[39;00m \u001b[38;5;28misinstance\u001b[39m(data, \u001b[38;5;28mcls\u001b[39m):\n\u001b[1;32m    221\u001b[0m     \u001b[38;5;66;03m# User has read with a subclass where only the parent class is\u001b[39;00m\n\u001b[1;32m    222\u001b[0m     \u001b[38;5;66;03m# registered.  This returns the parent class, so try coercing\u001b[39;00m\n\u001b[1;32m    223\u001b[0m     \u001b[38;5;66;03m# to desired subclass.\u001b[39;00m\n\u001b[1;32m    224\u001b[0m     \u001b[38;5;28;01mtry\u001b[39;00m:\n",
      "File \u001b[0;32m/usr/lib/python3/dist-packages/astropy/io/ascii/connect.py:19\u001b[0m, in \u001b[0;36mio_read\u001b[0;34m(format, filename, **kwargs)\u001b[0m\n\u001b[1;32m     17\u001b[0m     \u001b[38;5;28mformat\u001b[39m \u001b[38;5;241m=\u001b[39m re\u001b[38;5;241m.\u001b[39msub(\u001b[38;5;124mr\u001b[39m\u001b[38;5;124m\"\u001b[39m\u001b[38;5;124m^ascii\u001b[39m\u001b[38;5;124m\\\u001b[39m\u001b[38;5;124m.\u001b[39m\u001b[38;5;124m\"\u001b[39m, \u001b[38;5;124m\"\u001b[39m\u001b[38;5;124m\"\u001b[39m, \u001b[38;5;28mformat\u001b[39m)\n\u001b[1;32m     18\u001b[0m     kwargs[\u001b[38;5;124m\"\u001b[39m\u001b[38;5;124mformat\u001b[39m\u001b[38;5;124m\"\u001b[39m] \u001b[38;5;241m=\u001b[39m \u001b[38;5;28mformat\u001b[39m\n\u001b[0;32m---> 19\u001b[0m \u001b[38;5;28;01mreturn\u001b[39;00m \u001b[43mread\u001b[49m\u001b[43m(\u001b[49m\u001b[43mfilename\u001b[49m\u001b[43m,\u001b[49m\u001b[43m \u001b[49m\u001b[38;5;241;43m*\u001b[39;49m\u001b[38;5;241;43m*\u001b[39;49m\u001b[43mkwargs\u001b[49m\u001b[43m)\u001b[49m\n",
      "File \u001b[0;32m/usr/lib/python3/dist-packages/astropy/io/ascii/ui.py:350\u001b[0m, in \u001b[0;36mread\u001b[0;34m(table, guess, **kwargs)\u001b[0m\n\u001b[1;32m    348\u001b[0m     table \u001b[38;5;241m=\u001b[39m _expand_user_if_path(table)\n\u001b[1;32m    349\u001b[0m     \u001b[38;5;28;01mwith\u001b[39;00m get_readable_fileobj(table, encoding\u001b[38;5;241m=\u001b[39mencoding) \u001b[38;5;28;01mas\u001b[39;00m fileobj:\n\u001b[0;32m--> 350\u001b[0m         table \u001b[38;5;241m=\u001b[39m \u001b[43mfileobj\u001b[49m\u001b[38;5;241;43m.\u001b[39;49m\u001b[43mread\u001b[49m\u001b[43m(\u001b[49m\u001b[43m)\u001b[49m\n\u001b[1;32m    351\u001b[0m \u001b[38;5;28;01mexcept\u001b[39;00m \u001b[38;5;167;01mValueError\u001b[39;00m:  \u001b[38;5;66;03m# unreadable or invalid binary file\u001b[39;00m\n\u001b[1;32m    352\u001b[0m     \u001b[38;5;28;01mraise\u001b[39;00m\n",
      "File \u001b[0;32m<frozen codecs>:322\u001b[0m, in \u001b[0;36mdecode\u001b[0;34m(self, input, final)\u001b[0m\n",
      "\u001b[0;31mUnicodeDecodeError\u001b[0m: 'utf-8' codec can't decode byte 0xb5 in position 11368: invalid start byte"
     ]
    }
   ],
   "source": [
    "from astropy.wcs import WCS\n",
    "from astropy.io import fits\n",
    "from astropy import units as u\n",
    "from astropy.table import Table\n",
    "from astropy.time import Time\n",
    "import matplotlib.pyplot as plt\n",
    "from astropy.coordinates import SkyCoord, Angle\n",
    "from regions import CircleSkyRegion,PixCoord, PointSkyRegion, PointPixelRegion, LineSkyRegion, LinePixelRegion\n",
    "%matplotlib qt\n",
    "allrun = Table.read('Basel_8_runaways_all.tsv', format='ascii.ecsv')[:5]\n",
    "allrun_coord_now = SkyCoord(ra=allrun['RA_ICRS_1'], \n",
    "                        dec=allrun['DE_ICRS_1'],\n",
    "                        distance=allrun['rgeo'], \n",
    "                        pm_ra_cosdec=allrun['rmRA'],\n",
    "                        pm_dec=allrun['rmDE'],\n",
    "                        obstime=Time('J2000')+500*u.kyr)\n",
    "\n",
    "allrun_coord_earlier = allrun_coord_now.apply_space_motion(dt=-100*u.kyr)\n",
    "\n",
    "\n",
    "with fits.open('./Basel_8_extra10pc.fits') as fits_file:\n",
    "    image = fits_file[0]\n",
    "    wcs = WCS(image.header)\n",
    "    fig, ax = plt.subplots(subplot_kw={'projection': wcs}, figsize=(8, 8))\n",
    "    ax.imshow(image.data, \n",
    "              cmap='gray')\n",
    "    ax.set_xlabel('Right Ascension (hms)')\n",
    "    ax.set_ylabel('Declination (degrees)')\n",
    "\n",
    "    c = SkyCoord(\"98.5582 +8.0381\", distance=1456, unit=(u.deg ,u.deg, u.pc))\n",
    "    radius = Angle(0.3, 'deg')\n",
    "    region = CircleSkyRegion(c,radius)\n",
    "    region_pix = region.to_pixel(wcs)\n",
    "    region_pix.plot(ax=ax, \n",
    "                    color='red', \n",
    "                    lw=2)\n",
    "    \n",
    "    start_skys = allrun_coord_now\n",
    "    end_skys = allrun_coord_earlier\n",
    "\n",
    "    region_sky = [LineSkyRegion(start=start_sky, end=end_sky) for start_sky,end_sky in zip(allrun_coord_now,allrun_coord_earlier)]\n",
    "    region_sky_pix = [region_sky_.to_pixel(wcs) for region_sky_ in region_sky]\n",
    "    for c in allrun_coord_now:\n",
    "        point_sky = PointSkyRegion(center=c)\n",
    "        point_pix = point_sky.to_pixel(wcs)\n",
    "        point_pix.plot(ax=ax,\n",
    "                       color='yellow')\n",
    "    for region_pix in region_sky_pix:\n",
    "        region_pix.plot(ax=ax,\n",
    "                        color='cyan')"
   ]
  },
  {
   "cell_type": "code",
   "execution_count": 13,
   "metadata": {},
   "outputs": [
    {
     "data": {
      "text/plain": [
       "<SkyCoord (ICRS): (ra, dec, distance) in (deg, deg, pc)\n",
       "    (81.625, 42.93333333, 3000.)>"
      ]
     },
     "execution_count": 13,
     "metadata": {},
     "output_type": "execute_result"
    }
   ],
   "source": [
    "from astropy.wcs import WCS\n",
    "from astropy.io import fits\n",
    "from astropy import units as u\n",
    "from astropy.table import Table,join\n",
    "from astropy.time import Time\n",
    "import matplotlib.pyplot as plt\n",
    "from astropy.coordinates import SkyCoord, Angle\n",
    "from regions import CircleSkyRegion,PixCoord, PointSkyRegion, PointPixelRegion, LineSkyRegion, LinePixelRegion\n",
    "from typing import List\n",
    "class ownCluster:\n",
    "    def __init__(self, cluster_name,coordinates: SkyCoord, diameter: Angle,add_members: List[int]=[]):\n",
    "        self.name = cluster_name\n",
    "        self.coordinates = coordinates\n",
    "        self.diameter = diameter\n",
    "snr_center = SkyCoord('05 26 30  +42 56 00', distance=3000*u.pc,unit=(u.hourangle, u.deg))\n",
    "vro = ownCluster('VRO', snr_center,0.5*u.deg)\n",
    "vro.coordinates"
   ]
  },
  {
   "cell_type": "code",
   "execution_count": 14,
   "metadata": {},
   "outputs": [],
   "source": [
    "from astroquery.skyview import SkyView\n",
    "images = SkyView.get_images(position=vro.coordinates,\n",
    "                            survey='DSS',\n",
    "                            radius=1.2*vro.diameter,\n",
    "                            pixels=1000)\n",
    "# Extract the WCS information\n",
    "wcs = WCS(images[0][0].header)\n",
    "hdu = fits.PrimaryHDU(data=images[0][0].data, header=images[0][0].header)\n",
    "hdulist = fits.HDUList([hdu])\n",
    "\n",
    "# Save the fits file\n",
    "hdulist.writeto('vro.fits', overwrite=True)"
   ]
  },
  {
   "cell_type": "code",
   "execution_count": 15,
   "metadata": {},
   "outputs": [],
   "source": [
    "with fits.open('./vro.fits') as fits_file:\n",
    "    image = fits_file[0]\n",
    "    wcs = WCS(image.header)\n",
    "    fig, ax = plt.subplots(subplot_kw={'projection': wcs}, figsize=(8, 8))\n",
    "    ax.imshow(image.data, \n",
    "              cmap='gray')\n",
    "    ax.set_xlabel('Right Ascension (hms)')\n",
    "    ax.set_ylabel('Declination (degrees)')"
   ]
  },
  {
   "cell_type": "code",
   "execution_count": 16,
   "metadata": {},
   "outputs": [
    {
     "name": "stderr",
     "output_type": "stream",
     "text": [
      "WARNING: MergeConflictWarning: In merged column 'Source' the 'description' attribute does not match (Unique source identifier (unique within a particular Data Release) (source_id) != Source identifier, identical to the Gaia-EDR3 source_id (id)).  Using Source identifier, identical to the Gaia-EDR3 source_id (id) for merged output [astropy.utils.metadata.merge]\n",
      "WARNING: MergeConflictWarning: Cannot merge meta key 'ID' types <class 'str'> and <class 'str'>, choosing ID='I_352_gedr3dis' [astropy.utils.metadata.merge]\n",
      "WARNING: MergeConflictWarning: Cannot merge meta key 'name' types <class 'str'> and <class 'str'>, choosing name='I/352/gedr3dis' [astropy.utils.metadata.merge]\n",
      "WARNING: MergeConflictWarning: Cannot merge meta key 'description' types <class 'str'> and <class 'str'>, choosing description='Estimating distances from parallaxes (1467744818 sources)' [astropy.utils.metadata.merge]\n"
     ]
    }
   ],
   "source": [
    "from astroquery.vizier import Vizier\n",
    "\n",
    "stars_fromDR3 = Vizier(columns=[\"*\",\"+_r\"],row_limit = -1).query_region(vro.coordinates, \n",
    "                                                                        radius=vro.diameter/2, \n",
    "                                                                        catalog= 'I/355/gaiadr3',\n",
    "                                                                        )[0]\n",
    "\n",
    "stars_fromDR3_dis = Vizier(columns=[\"*\",\"+_r\"],row_limit = -1).query_region(vro.coordinates, \n",
    "                                                                        radius=vro.diameter/2, \n",
    "                                                                        catalog= 'I/352/gedr3dis',\n",
    "                                                                        )[0]\n",
    "\n",
    "stars_in_region = join(stars_fromDR3,stars_fromDR3_dis,keys='Source',join_type='inner')\n",
    "mask1 = stars_in_region['rgeo']<4000.42857143 *u.pc\n",
    "mask2 = stars_in_region['rgeo']>2000.33333333 *u.pc\n",
    "mask3 = stars_in_region['Gmag']<17*u.mag\n",
    "stars_in_region = stars_in_region[mask1 & mask2 & mask3]\n",
    "# stars_in_region = stars_in_region[mask3]"
   ]
  },
  {
   "cell_type": "code",
   "execution_count": 17,
   "metadata": {},
   "outputs": [
    {
     "data": {
      "text/html": [
       "<div><i>Table length=536</i>\n",
       "<table id=\"table2039347485504\" class=\"table-striped table-bordered table-condensed\">\n",
       "<thead><tr><th>_r_1</th><th>RA_ICRS_1</th><th>DE_ICRS_1</th><th>Source</th><th>e_RA_ICRS</th><th>e_DE_ICRS</th><th>Plx</th><th>e_Plx</th><th>PM</th><th>pmRA</th><th>e_pmRA</th><th>pmDE</th><th>e_pmDE</th><th>RUWE</th><th>FG</th><th>e_FG</th><th>Gmag</th><th>FBP</th><th>e_FBP</th><th>BPmag</th><th>FRP</th><th>e_FRP</th><th>RPmag</th><th>BP-RP</th><th>RV</th><th>e_RV</th><th>Vbroad</th><th>GRVSmag</th><th>QSO</th><th>Gal</th><th>NSS</th><th>XPcont</th><th>XPsamp</th><th>RVS</th><th>EpochPh</th><th>EpochRV</th><th>MCMCGSP</th><th>MCMCMSC</th><th>And</th><th>Teff</th><th>logg</th><th>__Fe_H_</th><th>Dist</th><th>A0</th><th>HIP</th><th>PS1</th><th>SDSS13</th><th>SKYM2</th><th>TYC2</th><th>URAT1</th><th>AllWISE</th><th>APASS9</th><th>GSC23</th><th>RAVE5</th><th>_2MASS</th><th>RAVE6</th><th>RAJ2000</th><th>DEJ2000</th><th>_r_2</th><th>RA_ICRS_2</th><th>DE_ICRS_2</th><th>rgeo</th><th>b_rgeo</th><th>B_rgeo</th><th>rpgeo</th><th>b_rpgeo</th><th>B_rpgeo</th><th>Flag</th></tr></thead>\n",
       "<thead><tr><th></th><th>deg</th><th>deg</th><th></th><th>mas</th><th>mas</th><th>mas</th><th>mas</th><th>mas / yr</th><th>mas / yr</th><th>mas / yr</th><th>mas / yr</th><th>mas / yr</th><th></th><th></th><th></th><th>mag</th><th></th><th></th><th>mag</th><th></th><th></th><th>mag</th><th>mag</th><th>km / s</th><th>km / s</th><th>km / s</th><th>mag</th><th></th><th></th><th></th><th></th><th></th><th></th><th></th><th></th><th></th><th></th><th></th><th>K</th><th>log(cm.s**-2)</th><th></th><th>pc</th><th>mag</th><th></th><th></th><th></th><th></th><th></th><th></th><th></th><th></th><th></th><th></th><th></th><th></th><th>deg</th><th>deg</th><th></th><th>deg</th><th>deg</th><th>pc</th><th>pc</th><th>pc</th><th>pc</th><th>pc</th><th>pc</th><th></th></tr></thead>\n",
       "<thead><tr><th>float64</th><th>float64</th><th>float64</th><th>int64</th><th>float64</th><th>float64</th><th>float64</th><th>float32</th><th>float64</th><th>float64</th><th>float32</th><th>float64</th><th>float32</th><th>float64</th><th>float64</th><th>float32</th><th>float64</th><th>float32</th><th>float32</th><th>float64</th><th>float32</th><th>float32</th><th>float64</th><th>float64</th><th>float64</th><th>float32</th><th>float64</th><th>float64</th><th>uint8</th><th>uint8</th><th>uint8</th><th>uint8</th><th>uint8</th><th>uint8</th><th>uint8</th><th>uint8</th><th>uint8</th><th>uint8</th><th>uint8</th><th>float64</th><th>float64</th><th>float64</th><th>float64</th><th>float64</th><th>int32</th><th>int64</th><th>int64</th><th>int32</th><th>str12</th><th>str15</th><th>str19</th><th>int32</th><th>str10</th><th>str16</th><th>str17</th><th>str21</th><th>float64</th><th>float64</th><th>float64</th><th>float64</th><th>float64</th><th>float64</th><th>float64</th><th>float64</th><th>float64</th><th>float64</th><th>float64</th><th>int32</th></tr></thead>\n",
       "<tr><td>0.240853</td><td>81.40192935146</td><td>42.75652926718</td><td>195254543335518720</td><td>0.0253</td><td>0.0153</td><td>0.2834</td><td>0.0310</td><td>3.604</td><td>0.743</td><td>0.038</td><td>-3.526</td><td>0.025</td><td>0.982</td><td>19939.00267</td><td>4.895</td><td>14.938108</td><td>7141</td><td>13.6</td><td>15.704210</td><td>1.834e+04</td><td>18.71</td><td>14.089321</td><td>1.614889</td><td>-10.48</td><td>2.88</td><td>--</td><td>13.738337</td><td>0</td><td>0</td><td>0</td><td>1</td><td>1</td><td>0</td><td>0</td><td>0</td><td>0</td><td>1</td><td>0</td><td>--</td><td>--</td><td>--</td><td>--</td><td>--</td><td>--</td><td>159300814020178338</td><td>--</td><td>--</td><td></td><td>URAT1-664154587</td><td></td><td>--</td><td>NCAD002678</td><td></td><td>05253646+4245235</td><td></td><td>81.40192485437</td><td>42.75654493896</td><td>0.240853</td><td>81.40192935146</td><td>42.75652926718</td><td>3204.88037000</td><td>2919.69263000</td><td>3589.39380000</td><td>3067.48779000</td><td>2759.56006000</td><td>3368.58105000</td><td>10033</td></tr>\n",
       "<tr><td>0.215630</td><td>81.39519952927</td><td>42.79869944025</td><td>195255642847144320</td><td>0.0235</td><td>0.0153</td><td>0.2475</td><td>0.0302</td><td>2.140</td><td>0.072</td><td>0.037</td><td>-2.139</td><td>0.026</td><td>0.938</td><td>17191.64730</td><td>4.247</td><td>15.099073</td><td>9021</td><td>17.39</td><td>15.450365</td><td>1.182e+04</td><td>10.09</td><td>14.566565</td><td>0.883800</td><td>--</td><td>--</td><td>--</td><td>--</td><td>0</td><td>0</td><td>0</td><td>1</td><td>0</td><td>0</td><td>0</td><td>0</td><td>1</td><td>1</td><td>0</td><td>7883.0</td><td>3.9440</td><td>-0.8227</td><td>2678.6990</td><td>1.3786</td><td>--</td><td>159350813951989064</td><td>--</td><td>--</td><td></td><td>URAT1-664154566</td><td>J052534.84+424755.4</td><td>1011679</td><td>NCAD003103</td><td></td><td>05253484+4247551</td><td></td><td>81.39519909067</td><td>42.79870894621</td><td>0.215630</td><td>81.39519952927</td><td>42.79869944025</td><td>3484.86133000</td><td>3096.06152000</td><td>3959.30273000</td><td>3374.84326000</td><td>3135.29297000</td><td>3675.57861000</td><td>10033</td></tr>\n",
       "<tr><td>0.223208</td><td>81.38016426801</td><td>42.80059731170</td><td>195267393877666560</td><td>0.0581</td><td>0.0376</td><td>0.4252</td><td>0.0704</td><td>5.248</td><td>3.633</td><td>0.081</td><td>-3.788</td><td>0.059</td><td>1.013</td><td>3277.97296</td><td>1.806</td><td>16.898354</td><td>1456</td><td>8.391</td><td>17.430850</td><td>2578</td><td>7.976</td><td>16.219770</td><td>1.211079</td><td>--</td><td>--</td><td>--</td><td>--</td><td>0</td><td>0</td><td>0</td><td>1</td><td>0</td><td>0</td><td>0</td><td>0</td><td>1</td><td>1</td><td>0</td><td>5360.7</td><td>4.7241</td><td>-1.4344</td><td>1026.1637</td><td>0.7218</td><td>--</td><td>159360813801601341</td><td>--</td><td>--</td><td></td><td>URAT1-665154458</td><td>J052531.22+424802.1</td><td>--</td><td>NCAD003133</td><td></td><td>05253124+4248020</td><td></td><td>81.38014226405</td><td>42.80061414661</td><td>0.223208</td><td>81.38016426801</td><td>42.80059731170</td><td>2226.36523000</td><td>1919.29724000</td><td>2567.78955000</td><td>2413.90088000</td><td>2004.26392000</td><td>2817.39673000</td><td>10033</td></tr>\n",
       "<tr><td>0.223548</td><td>81.36979802174</td><td>42.81089194766</td><td>195267428237404672</td><td>0.0609</td><td>0.0402</td><td>0.3054</td><td>0.0773</td><td>1.801</td><td>0.941</td><td>0.092</td><td>-1.536</td><td>0.066</td><td>1.024</td><td>3141.10254</td><td>1.766</td><td>16.944662</td><td>1379</td><td>6.24</td><td>17.489445</td><td>2536</td><td>7.852</td><td>16.237518</td><td>1.251926</td><td>--</td><td>--</td><td>--</td><td>--</td><td>0</td><td>0</td><td>0</td><td>1</td><td>0</td><td>0</td><td>0</td><td>0</td><td>1</td><td>1</td><td>0</td><td>5459.3</td><td>4.3985</td><td>-2.2412</td><td>1608.6954</td><td>0.9130</td><td>--</td><td>159370813697963693</td><td>--</td><td>--</td><td></td><td>URAT1-665154418</td><td></td><td>--</td><td>NCAD003240</td><td></td><td>05252875+4248391</td><td></td><td>81.36979231871</td><td>42.81089877318</td><td>0.223548</td><td>81.36979802174</td><td>42.81089194766</td><td>3895.24707000</td><td>2778.69604000</td><td>5660.65771000</td><td>2776.75879000</td><td>2363.95386000</td><td>3271.61768000</td><td>10033</td></tr>\n",
       "<tr><td>0.205773</td><td>81.38719580638</td><td>42.82390684357</td><td>195267458297353856</td><td>0.0482</td><td>0.0314</td><td>0.4597</td><td>0.0610</td><td>2.600</td><td>0.845</td><td>0.072</td><td>-2.459</td><td>0.052</td><td>1.055</td><td>4829.28531</td><td>2.166</td><td>16.477660</td><td>2164</td><td>10.6</td><td>17.000483</td><td>3887</td><td>9.341</td><td>15.773865</td><td>1.226618</td><td>--</td><td>--</td><td>--</td><td>--</td><td>0</td><td>0</td><td>0</td><td>1</td><td>0</td><td>0</td><td>0</td><td>0</td><td>1</td><td>1</td><td>0</td><td>6118.2</td><td>4.4712</td><td>-1.4545</td><td>1346.8794</td><td>1.2584</td><td>--</td><td>159380813871969304</td><td>--</td><td>--</td><td></td><td>URAT1-665154474</td><td>J052532.94+424926.2</td><td>--</td><td>NCAD003354</td><td></td><td>05253293+4249259</td><td></td><td>81.38719068418</td><td>42.82391777369</td><td>0.205773</td><td>81.38719580638</td><td>42.82390684357</td><td>2115.77246000</td><td>1867.14758000</td><td>2525.75586000</td><td>2091.82544000</td><td>1878.01990000</td><td>2364.19214000</td><td>10033</td></tr>\n",
       "<tr><td>0.247330</td><td>81.33018634394</td><td>42.81296057840</td><td>195267600035207296</td><td>0.0296</td><td>0.0176</td><td>0.4542</td><td>0.0364</td><td>1.104</td><td>-0.861</td><td>0.038</td><td>-0.691</td><td>0.026</td><td>0.940</td><td>16825.71897</td><td>4.067</td><td>15.122433</td><td>7659</td><td>15.21</td><td>15.628067</td><td>1.321e+04</td><td>13.55</td><td>14.445837</td><td>1.182230</td><td>--</td><td>--</td><td>--</td><td>--</td><td>0</td><td>0</td><td>0</td><td>1</td><td>0</td><td>0</td><td>0</td><td>0</td><td>1</td><td>1</td><td>0</td><td>6677.9</td><td>4.1841</td><td>-0.6833</td><td>1347.3357</td><td>1.4623</td><td>--</td><td>159370813301926155</td><td>--</td><td>--</td><td></td><td>URAT1-665154277</td><td>J052519.24+424846.5</td><td>1011902</td><td>NCAD003268</td><td></td><td>05251925+4248464</td><td></td><td>81.33019156023</td><td>42.81296365012</td><td>0.247330</td><td>81.33018634394</td><td>42.81296057840</td><td>2081.99902000</td><td>1932.42041000</td><td>2208.38159000</td><td>2005.00854000</td><td>1860.60242000</td><td>2168.15747000</td><td>10033</td></tr>\n",
       "<tr><td>0.219823</td><td>81.35818867360</td><td>42.83284247902</td><td>195267703114401024</td><td>0.0273</td><td>0.0175</td><td>0.4486</td><td>0.0348</td><td>2.835</td><td>1.858</td><td>0.038</td><td>-2.141</td><td>0.029</td><td>1.000</td><td>13029.95459</td><td>3.509</td><td>15.400009</td><td>6608</td><td>10.53</td><td>15.788309</td><td>9261</td><td>9.946</td><td>14.831249</td><td>0.957060</td><td>--</td><td>--</td><td>--</td><td>--</td><td>0</td><td>0</td><td>0</td><td>1</td><td>0</td><td>0</td><td>0</td><td>0</td><td>1</td><td>1</td><td>0</td><td>8258.6</td><td>4.1691</td><td>-0.7653</td><td>2349.9040</td><td>1.6661</td><td>--</td><td>159400813581910024</td><td>--</td><td>--</td><td></td><td>URAT1-665154374</td><td>J052525.97+424958.1</td><td>1011904</td><td>NCAD003449</td><td></td><td>05252597+4249580</td><td></td><td>81.35817741381</td><td>42.83285199456</td><td>0.219823</td><td>81.35818867360</td><td>42.83284247902</td><td>2089.61670000</td><td>1927.13220000</td><td>2248.03174000</td><td>2063.82568000</td><td>1917.57764000</td><td>2183.47632000</td><td>10033</td></tr>\n",
       "<tr><td>0.228979</td><td>81.34366670970</td><td>42.83366262573</td><td>195268351650556928</td><td>0.0588</td><td>0.0377</td><td>0.4671</td><td>0.0720</td><td>3.479</td><td>1.790</td><td>0.079</td><td>-2.983</td><td>0.064</td><td>0.960</td><td>3140.31530</td><td>1.826</td><td>16.944933</td><td>1233</td><td>6.814</td><td>17.611110</td><td>2724</td><td>7.519</td><td>16.160038</td><td>1.451073</td><td>--</td><td>--</td><td>--</td><td>--</td><td>0</td><td>0</td><td>0</td><td>1</td><td>0</td><td>0</td><td>0</td><td>0</td><td>1</td><td>1</td><td>0</td><td>4627.9</td><td>4.3501</td><td>-0.8276</td><td>1302.1077</td><td>0.6476</td><td>--</td><td>159400813436821006</td><td>--</td><td>--</td><td></td><td>URAT1-665154328</td><td></td><td>--</td><td>NCAD003458</td><td></td><td>05252248+4250010</td><td></td><td>81.34365585948</td><td>42.83367588498</td><td>0.228979</td><td>81.34366670970</td><td>42.83366262573</td><td>2086.54956000</td><td>1817.82129000</td><td>2425.87231000</td><td>1936.09009000</td><td>1731.90161000</td><td>2218.01782000</td><td>10033</td></tr>\n",
       "<tr><td>0.238463</td><td>81.32989585203</td><td>42.83281169299</td><td>195268351650557184</td><td>0.0946</td><td>0.0600</td><td>0.2890</td><td>0.1192</td><td>1.737</td><td>1.647</td><td>0.123</td><td>0.551</td><td>0.101</td><td>1.880</td><td>4392.60864</td><td>5.091</td><td>16.580560</td><td>2108</td><td>11.76</td><td>17.028887</td><td>3909</td><td>24.13</td><td>15.767634</td><td>1.261252</td><td>--</td><td>--</td><td>--</td><td>--</td><td>0</td><td>0</td><td>0</td><td>1</td><td>0</td><td>0</td><td>0</td><td>0</td><td>1</td><td>1</td><td>0</td><td>5145.7</td><td>4.7719</td><td>-1.6436</td><td>729.5731</td><td>0.6543</td><td>--</td><td>159390813298979997</td><td>--</td><td>--</td><td></td><td>URAT1-665154275</td><td></td><td>--</td><td>NCAD003463</td><td></td><td>05251915+4249581</td><td></td><td>81.32988587197</td><td>42.83280924355</td><td>0.238463</td><td>81.32989585203</td><td>42.83281169299</td><td>3547.68799000</td><td>2485.58350000</td><td>5163.92334000</td><td>2664.57373000</td><td>2229.30054000</td><td>3376.11646000</td><td>10033</td></tr>\n",
       "<tr><td>...</td><td>...</td><td>...</td><td>...</td><td>...</td><td>...</td><td>...</td><td>...</td><td>...</td><td>...</td><td>...</td><td>...</td><td>...</td><td>...</td><td>...</td><td>...</td><td>...</td><td>...</td><td>...</td><td>...</td><td>...</td><td>...</td><td>...</td><td>...</td><td>...</td><td>...</td><td>...</td><td>...</td><td>...</td><td>...</td><td>...</td><td>...</td><td>...</td><td>...</td><td>...</td><td>...</td><td>...</td><td>...</td><td>...</td><td>...</td><td>...</td><td>...</td><td>...</td><td>...</td><td>...</td><td>...</td><td>...</td><td>...</td><td>...</td><td>...</td><td>...</td><td>...</td><td>...</td><td>...</td><td>...</td><td>...</td><td>...</td><td>...</td><td>...</td><td>...</td><td>...</td><td>...</td><td>...</td><td>...</td><td>...</td><td>...</td><td>...</td><td>...</td></tr>\n",
       "<tr><td>0.247746</td><td>81.49221568811</td><td>43.16127653892</td><td>195697371642390528</td><td>0.0352</td><td>0.0227</td><td>0.2560</td><td>0.0401</td><td>0.757</td><td>0.630</td><td>0.051</td><td>-0.420</td><td>0.040</td><td>1.140</td><td>10726.54744</td><td>3.479</td><td>15.611217</td><td>5682</td><td>15.32</td><td>15.952321</td><td>7460</td><td>12.39</td><td>15.066036</td><td>0.886285</td><td>--</td><td>--</td><td>--</td><td>--</td><td>0</td><td>0</td><td>0</td><td>1</td><td>0</td><td>0</td><td>0</td><td>0</td><td>1</td><td>1</td><td>0</td><td>9503.9</td><td>4.0296</td><td>-1.3950</td><td>3468.0022</td><td>1.8402</td><td>--</td><td>159790814921944162</td><td>--</td><td>--</td><td></td><td></td><td></td><td>1019491</td><td>NCAD010254</td><td></td><td></td><td></td><td>81.49221185216</td><td>43.16127840753</td><td>0.247746</td><td>81.49221568811</td><td>43.16127653892</td><td>3492.27197000</td><td>3042.15259000</td><td>3890.44751000</td><td>3218.70264000</td><td>2833.01001000</td><td>3654.73291000</td><td>10033</td></tr>\n",
       "<tr><td>0.213654</td><td>81.56097908170</td><td>43.14179364029</td><td>195697715239763072</td><td>0.0436</td><td>0.0279</td><td>0.3283</td><td>0.0512</td><td>1.404</td><td>1.093</td><td>0.060</td><td>-0.882</td><td>0.043</td><td>0.984</td><td>6150.76636</td><td>2.494</td><td>16.215044</td><td>2927</td><td>7.546</td><td>16.672632</td><td>4619</td><td>7.615</td><td>15.586462</td><td>1.086170</td><td>--</td><td>--</td><td>--</td><td>--</td><td>0</td><td>0</td><td>0</td><td>1</td><td>0</td><td>0</td><td>0</td><td>0</td><td>1</td><td>1</td><td>0</td><td>6373.1</td><td>4.4900</td><td>-0.7993</td><td>1467.9300</td><td>1.0678</td><td>--</td><td>159770815609570796</td><td>--</td><td>--</td><td></td><td>URAT1-666154658</td><td>J052614.63+430830.4</td><td>--</td><td>NCAD009810</td><td></td><td>05261463+4308304</td><td></td><td>81.56097242387</td><td>43.14179755998</td><td>0.213654</td><td>81.56097908170</td><td>43.14179364029</td><td>2753.52661000</td><td>2423.46143000</td><td>3142.21118000</td><td>2657.80005000</td><td>2298.98242000</td><td>3033.90918000</td><td>10033</td></tr>\n",
       "<tr><td>0.208776</td><td>81.56062791274</td><td>43.13673144651</td><td>195697715239765376</td><td>0.0631</td><td>0.0400</td><td>0.4341</td><td>0.0724</td><td>1.422</td><td>1.313</td><td>0.087</td><td>-0.546</td><td>0.063</td><td>1.037</td><td>3266.91157</td><td>1.763</td><td>16.902023</td><td>1513</td><td>10.74</td><td>17.389095</td><td>2537</td><td>10.37</td><td>16.237188</td><td>1.151907</td><td>--</td><td>--</td><td>--</td><td>--</td><td>0</td><td>0</td><td>0</td><td>1</td><td>0</td><td>0</td><td>0</td><td>0</td><td>1</td><td>1</td><td>0</td><td>5465.6</td><td>4.7400</td><td>-1.6536</td><td>1087.7571</td><td>0.6616</td><td>--</td><td>159760815606054715</td><td>--</td><td>--</td><td></td><td>URAT1-666154657</td><td>J052614.53+430812.2</td><td>--</td><td>NCAD009711</td><td></td><td>05261454+4308123</td><td></td><td>81.56061991357</td><td>43.13673387225</td><td>0.208776</td><td>81.56062791274</td><td>43.13673144651</td><td>2348.71558000</td><td>1997.92688000</td><td>2911.85034000</td><td>2154.98755000</td><td>1838.40723000</td><td>2454.94238000</td><td>10033</td></tr>\n",
       "<tr><td>0.207794</td><td>81.56851041388</td><td>43.13697726698</td><td>195697818318977920</td><td>0.0398</td><td>0.0257</td><td>0.4235</td><td>0.0437</td><td>3.674</td><td>1.086</td><td>0.054</td><td>-3.510</td><td>0.039</td><td>1.018</td><td>7310.63535</td><td>2.605</td><td>16.027480</td><td>3611</td><td>10.88</td><td>16.444530</td><td>5326</td><td>10.18</td><td>15.431852</td><td>1.012678</td><td>--</td><td>--</td><td>--</td><td>--</td><td>0</td><td>0</td><td>0</td><td>1</td><td>0</td><td>0</td><td>0</td><td>0</td><td>1</td><td>1</td><td>0</td><td>7039.6</td><td>4.4615</td><td>-0.7870</td><td>1729.8065</td><td>1.2408</td><td>--</td><td>159760815684895018</td><td>--</td><td>--</td><td></td><td>URAT1-666154677</td><td>J052616.42+430813.2</td><td>--</td><td>NCAD009713</td><td></td><td>05261643+4308131</td><td></td><td>81.56850380029</td><td>43.13699286777</td><td>0.207794</td><td>81.56851041388</td><td>43.13697726698</td><td>2274.62769000</td><td>2063.55566000</td><td>2479.33276000</td><td>2168.07080000</td><td>1990.66809000</td><td>2336.08887000</td><td>10033</td></tr>\n",
       "<tr><td>0.218957</td><td>81.58708268044</td><td>43.15052377434</td><td>195697852680875008</td><td>0.0645</td><td>0.0408</td><td>0.4069</td><td>0.0701</td><td>2.366</td><td>1.901</td><td>0.086</td><td>-1.408</td><td>0.062</td><td>0.968</td><td>3205.00218</td><td>1.863</td><td>16.922796</td><td>1509</td><td>6.604</td><td>17.392023</td><td>2406</td><td>6.537</td><td>16.294748</td><td>1.097275</td><td>--</td><td>--</td><td>--</td><td>--</td><td>0</td><td>0</td><td>0</td><td>1</td><td>0</td><td>0</td><td>0</td><td>0</td><td>1</td><td>1</td><td>0</td><td>5426.6</td><td>4.6817</td><td>-1.2280</td><td>1226.2343</td><td>0.5104</td><td>--</td><td>159780815870571271</td><td>--</td><td>--</td><td></td><td>URAT1-666154734</td><td>J052620.89+430902.0</td><td>--</td><td>NC96009593</td><td></td><td>05262089+4309018</td><td></td><td>81.58707109925</td><td>43.15053003391</td><td>0.218957</td><td>81.58708268044</td><td>43.15052377434</td><td>2333.52905000</td><td>2022.56958000</td><td>2726.08154000</td><td>2341.84106000</td><td>2115.66479000</td><td>2695.37891000</td><td>10033</td></tr>\n",
       "<tr><td>0.222381</td><td>81.52564340327</td><td>43.14351535808</td><td>195697955757939584</td><td>0.0182</td><td>0.0117</td><td>0.2528</td><td>0.0231</td><td>2.622</td><td>0.212</td><td>0.027</td><td>-2.614</td><td>0.019</td><td>1.098</td><td>41044.56387</td><td>8.831</td><td>14.154228</td><td>1.503e+04</td><td>14.8</td><td>14.895930</td><td>3.78e+04</td><td>21.57</td><td>13.304245</td><td>1.591685</td><td>42.23</td><td>1.73</td><td>--</td><td>12.915764</td><td>0</td><td>0</td><td>0</td><td>1</td><td>1</td><td>0</td><td>0</td><td>0</td><td>0</td><td>1</td><td>0</td><td>--</td><td>--</td><td>--</td><td>--</td><td>--</td><td>--</td><td>159770815256322841</td><td>--</td><td>--</td><td></td><td>URAT1-666154569</td><td>J052606.15+430836.6</td><td>--</td><td>NCAD009867</td><td></td><td>05260615+4308366</td><td></td><td>81.52564211036</td><td>43.14352697519</td><td>0.222381</td><td>81.52564340327</td><td>43.14351535808</td><td>3378.13403000</td><td>3144.69116000</td><td>3617.15088000</td><td>3445.02490000</td><td>3226.74414000</td><td>3733.32715000</td><td>10033</td></tr>\n",
       "<tr><td>0.221774</td><td>81.52123428188</td><td>43.14172859756</td><td>195697955757942144</td><td>0.0305</td><td>0.0190</td><td>0.4332</td><td>0.0354</td><td>2.942</td><td>-1.412</td><td>0.044</td><td>-2.581</td><td>0.030</td><td>1.029</td><td>15033.34866</td><td>8.871</td><td>15.244727</td><td>7551</td><td>20.14</td><td>15.643525</td><td>1.079e+04</td><td>19.52</td><td>14.665137</td><td>0.978388</td><td>--</td><td>--</td><td>--</td><td>--</td><td>0</td><td>0</td><td>0</td><td>1</td><td>0</td><td>0</td><td>0</td><td>0</td><td>1</td><td>1</td><td>0</td><td>7339.5</td><td>4.1887</td><td>-0.5483</td><td>1859.5444</td><td>1.3213</td><td>--</td><td>159770815212200694</td><td>--</td><td>--</td><td></td><td>URAT1-666154557</td><td>J052605.08+430830.1</td><td>--</td><td>NCAD009868</td><td></td><td>05260509+4308302</td><td></td><td>81.52124288063</td><td>43.14174006726</td><td>0.221774</td><td>81.52123428188</td><td>43.14172859756</td><td>2163.24097000</td><td>2017.51306000</td><td>2362.74194000</td><td>2070.81958000</td><td>1915.46252000</td><td>2247.64453000</td><td>10033</td></tr>\n",
       "<tr><td>0.243720</td><td>81.53004998271</td><td>43.16696057049</td><td>195698020182416128</td><td>0.0472</td><td>0.0294</td><td>0.2791</td><td>0.0540</td><td>2.806</td><td>1.296</td><td>0.064</td><td>-2.489</td><td>0.045</td><td>0.953</td><td>5278.15429</td><td>2.372</td><td>16.381160</td><td>2595</td><td>9.773</td><td>16.803217</td><td>3809</td><td>12.24</td><td>15.795797</td><td>1.007420</td><td>--</td><td>--</td><td>--</td><td>--</td><td>0</td><td>0</td><td>0</td><td>1</td><td>0</td><td>0</td><td>0</td><td>0</td><td>1</td><td>1</td><td>0</td><td>6818.0</td><td>4.3474</td><td>-0.5743</td><td>2349.0193</td><td>1.1152</td><td>--</td><td>159800815300340988</td><td>--</td><td>--</td><td></td><td>URAT1-666154586</td><td></td><td>--</td><td>NCAD010333</td><td></td><td>05260720+4310011</td><td></td><td>81.53004208442</td><td>43.16697163236</td><td>0.243720</td><td>81.53004998271</td><td>43.16696057049</td><td>3489.65552000</td><td>2888.76978000</td><td>4322.67090000</td><td>3024.31396000</td><td>2683.06934000</td><td>3464.44751000</td><td>10033</td></tr>\n",
       "<tr><td>0.242018</td><td>81.56788555520</td><td>43.17171898525</td><td>195698093196870400</td><td>0.0594</td><td>0.0376</td><td>0.3353</td><td>0.0685</td><td>3.245</td><td>0.630</td><td>0.082</td><td>-3.184</td><td>0.058</td><td>0.982</td><td>3609.50148</td><td>1.893</td><td>16.793749</td><td>1657</td><td>8.497</td><td>17.290257</td><td>2762</td><td>13.1</td><td>16.144754</td><td>1.145502</td><td>--</td><td>--</td><td>--</td><td>--</td><td>0</td><td>0</td><td>0</td><td>1</td><td>0</td><td>0</td><td>0</td><td>0</td><td>1</td><td>1</td><td>0</td><td>5387.1</td><td>4.6760</td><td>-1.0911</td><td>1105.9744</td><td>0.6067</td><td>--</td><td>159800815678746705</td><td>--</td><td>--</td><td></td><td>URAT1-666154674</td><td>J052616.28+431017.9</td><td>--</td><td>NCAD010402</td><td></td><td>05261629+4310182</td><td></td><td>81.56788171883</td><td>43.17173313517</td><td>0.242018</td><td>81.56788555520</td><td>43.17171898525</td><td>2896.61035000</td><td>2414.59009000</td><td>3535.35352000</td><td>2564.08813000</td><td>2240.14185000</td><td>3051.20630000</td><td>10033</td></tr>\n",
       "<tr><td>0.248017</td><td>81.51809873585</td><td>43.16871964924</td><td>195698780391653376</td><td>0.0297</td><td>0.0184</td><td>0.2530</td><td>0.0313</td><td>1.819</td><td>-0.347</td><td>0.037</td><td>-1.785</td><td>0.028</td><td>0.987</td><td>15421.77093</td><td>5.787</td><td>15.217031</td><td>8791</td><td>14.68</td><td>15.478395</td><td>9600</td><td>9.939</td><td>14.792239</td><td>0.686156</td><td>--</td><td>--</td><td>--</td><td>--</td><td>0</td><td>0</td><td>0</td><td>1</td><td>0</td><td>0</td><td>0</td><td>0</td><td>1</td><td>1</td><td>0</td><td>9215.6</td><td>4.2239</td><td>-0.5659</td><td>2803.3980</td><td>1.3510</td><td>--</td><td>159800815180853099</td><td>--</td><td>--</td><td></td><td>URAT1-666154539</td><td>J052604.34+431007.3</td><td>1019516</td><td></td><td></td><td>05260434+4310073</td><td></td><td>81.51810085171</td><td>43.16872758425</td><td>0.248017</td><td>81.51809873585</td><td>43.16871964924</td><td>3384.41333000</td><td>3083.47192000</td><td>3767.92847000</td><td>3361.35254000</td><td>3042.81104000</td><td>3679.28931000</td><td>10033</td></tr>\n",
       "</table></div>"
      ],
      "text/plain": [
       "<Table length=536>\n",
       "  _r_1      RA_ICRS_1       DE_ICRS_1    ...    b_rpgeo        B_rpgeo      Flag\n",
       "               deg             deg       ...       pc             pc            \n",
       "float64      float64         float64     ...    float64        float64     int32\n",
       "-------- --------------- --------------- ... -------------- -------------- -----\n",
       "0.240853  81.40192935146  42.75652926718 ...  2759.56006000  3368.58105000 10033\n",
       "0.215630  81.39519952927  42.79869944025 ...  3135.29297000  3675.57861000 10033\n",
       "0.223208  81.38016426801  42.80059731170 ...  2004.26392000  2817.39673000 10033\n",
       "0.223548  81.36979802174  42.81089194766 ...  2363.95386000  3271.61768000 10033\n",
       "0.205773  81.38719580638  42.82390684357 ...  1878.01990000  2364.19214000 10033\n",
       "0.247330  81.33018634394  42.81296057840 ...  1860.60242000  2168.15747000 10033\n",
       "0.219823  81.35818867360  42.83284247902 ...  1917.57764000  2183.47632000 10033\n",
       "0.228979  81.34366670970  42.83366262573 ...  1731.90161000  2218.01782000 10033\n",
       "0.238463  81.32989585203  42.83281169299 ...  2229.30054000  3376.11646000 10033\n",
       "     ...             ...             ... ...            ...            ...   ...\n",
       "0.247746  81.49221568811  43.16127653892 ...  2833.01001000  3654.73291000 10033\n",
       "0.213654  81.56097908170  43.14179364029 ...  2298.98242000  3033.90918000 10033\n",
       "0.208776  81.56062791274  43.13673144651 ...  1838.40723000  2454.94238000 10033\n",
       "0.207794  81.56851041388  43.13697726698 ...  1990.66809000  2336.08887000 10033\n",
       "0.218957  81.58708268044  43.15052377434 ...  2115.66479000  2695.37891000 10033\n",
       "0.222381  81.52564340327  43.14351535808 ...  3226.74414000  3733.32715000 10033\n",
       "0.221774  81.52123428188  43.14172859756 ...  1915.46252000  2247.64453000 10033\n",
       "0.243720  81.53004998271  43.16696057049 ...  2683.06934000  3464.44751000 10033\n",
       "0.242018  81.56788555520  43.17171898525 ...  2240.14185000  3051.20630000 10033\n",
       "0.248017  81.51809873585  43.16871964924 ...  3042.81104000  3679.28931000 10033"
      ]
     },
     "execution_count": 17,
     "metadata": {},
     "output_type": "execute_result"
    }
   ],
   "source": [
    "stars_in_region"
   ]
  },
  {
   "cell_type": "code",
   "execution_count": 18,
   "metadata": {},
   "outputs": [
    {
     "data": {
      "text/html": [
       "<div><i>Table length=2</i>\n",
       "<table id=\"table2039408253952\" class=\"table-striped table-bordered table-condensed\">\n",
       "<thead><tr><th>_r_1</th><th>RA_ICRS_1</th><th>DE_ICRS_1</th><th>Source</th><th>e_RA_ICRS</th><th>e_DE_ICRS</th><th>Plx</th><th>e_Plx</th><th>PM</th><th>pmRA</th><th>e_pmRA</th><th>pmDE</th><th>e_pmDE</th><th>RUWE</th><th>FG</th><th>e_FG</th><th>Gmag</th><th>FBP</th><th>e_FBP</th><th>BPmag</th><th>FRP</th><th>e_FRP</th><th>RPmag</th><th>BP-RP</th><th>RV</th><th>e_RV</th><th>Vbroad</th><th>GRVSmag</th><th>QSO</th><th>Gal</th><th>NSS</th><th>XPcont</th><th>XPsamp</th><th>RVS</th><th>EpochPh</th><th>EpochRV</th><th>MCMCGSP</th><th>MCMCMSC</th><th>And</th><th>Teff</th><th>logg</th><th>__Fe_H_</th><th>Dist</th><th>A0</th><th>HIP</th><th>PS1</th><th>SDSS13</th><th>SKYM2</th><th>TYC2</th><th>URAT1</th><th>AllWISE</th><th>APASS9</th><th>GSC23</th><th>RAVE5</th><th>_2MASS</th><th>RAVE6</th><th>RAJ2000</th><th>DEJ2000</th><th>_r_2</th><th>RA_ICRS_2</th><th>DE_ICRS_2</th><th>rgeo</th><th>b_rgeo</th><th>B_rgeo</th><th>rpgeo</th><th>b_rpgeo</th><th>B_rpgeo</th><th>Flag</th></tr></thead>\n",
       "<thead><tr><th></th><th>deg</th><th>deg</th><th></th><th>mas</th><th>mas</th><th>mas</th><th>mas</th><th>mas / yr</th><th>mas / yr</th><th>mas / yr</th><th>mas / yr</th><th>mas / yr</th><th></th><th></th><th></th><th>mag</th><th></th><th></th><th>mag</th><th></th><th></th><th>mag</th><th>mag</th><th>km / s</th><th>km / s</th><th>km / s</th><th>mag</th><th></th><th></th><th></th><th></th><th></th><th></th><th></th><th></th><th></th><th></th><th></th><th>K</th><th>log(cm.s**-2)</th><th></th><th>pc</th><th>mag</th><th></th><th></th><th></th><th></th><th></th><th></th><th></th><th></th><th></th><th></th><th></th><th></th><th>deg</th><th>deg</th><th></th><th>deg</th><th>deg</th><th>pc</th><th>pc</th><th>pc</th><th>pc</th><th>pc</th><th>pc</th><th></th></tr></thead>\n",
       "<thead><tr><th>float64</th><th>float64</th><th>float64</th><th>int64</th><th>float64</th><th>float64</th><th>float64</th><th>float32</th><th>float64</th><th>float64</th><th>float32</th><th>float64</th><th>float32</th><th>float64</th><th>float64</th><th>float32</th><th>float64</th><th>float32</th><th>float32</th><th>float64</th><th>float32</th><th>float32</th><th>float64</th><th>float64</th><th>float64</th><th>float32</th><th>float64</th><th>float64</th><th>uint8</th><th>uint8</th><th>uint8</th><th>uint8</th><th>uint8</th><th>uint8</th><th>uint8</th><th>uint8</th><th>uint8</th><th>uint8</th><th>uint8</th><th>float64</th><th>float64</th><th>float64</th><th>float64</th><th>float64</th><th>int32</th><th>int64</th><th>int64</th><th>int32</th><th>str12</th><th>str15</th><th>str19</th><th>int32</th><th>str10</th><th>str16</th><th>str17</th><th>str21</th><th>float64</th><th>float64</th><th>float64</th><th>float64</th><th>float64</th><th>float64</th><th>float64</th><th>float64</th><th>float64</th><th>float64</th><th>float64</th><th>int32</th></tr></thead>\n",
       "<tr><td>0.003716</td><td>81.62187230463</td><td>42.93624922588</td><td>195633320791780608</td><td>0.0429</td><td>0.0280</td><td>0.2980</td><td>0.0489</td><td>3.977</td><td>0.846</td><td>0.059</td><td>-3.886</td><td>0.045</td><td>1.021</td><td>6276.76299</td><td>2.736</td><td>16.193027</td><td>3013</td><td>13.36</td><td>16.641203</td><td>4690</td><td>11.55</td><td>15.569920</td><td>1.071283</td><td>--</td><td>--</td><td>--</td><td>--</td><td>0</td><td>0</td><td>0</td><td>1</td><td>0</td><td>0</td><td>0</td><td>0</td><td>1</td><td>1</td><td>0</td><td>6518.7</td><td>4.3925</td><td>-1.0023</td><td>1647.5944</td><td>1.0941</td><td>--</td><td>159520816218474167</td><td>--</td><td>--</td><td></td><td>URAT1-665155263</td><td></td><td>--</td><td>NC96004733</td><td></td><td>05262924+4256105</td><td></td><td>81.62186716715</td><td>42.93626649576</td><td>0.003716</td><td>81.62187230463</td><td>42.93624922588</td><td>3241.66699000</td><td>2832.63281000</td><td>3757.81396000</td><td>2957.65674000</td><td>2600.03027000</td><td>3453.99927000</td><td>10033</td></tr>\n",
       "<tr><td>0.006438</td><td>81.62564389768</td><td>42.93974983019</td><td>195633325090480896</td><td>0.0447</td><td>0.0294</td><td>0.2922</td><td>0.0544</td><td>2.950</td><td>1.408</td><td>0.064</td><td>-2.592</td><td>0.046</td><td>1.046</td><td>5882.52580</td><td>3.53</td><td>16.263456</td><td>3004</td><td>17.82</td><td>16.644405</td><td>4535</td><td>16.2</td><td>15.606478</td><td>1.037928</td><td>--</td><td>--</td><td>--</td><td>--</td><td>0</td><td>0</td><td>0</td><td>1</td><td>0</td><td>0</td><td>0</td><td>0</td><td>1</td><td>1</td><td>0</td><td>6047.5</td><td>4.4779</td><td>-1.0638</td><td>1386.9924</td><td>0.7165</td><td>--</td><td>159520816256148351</td><td>--</td><td>--</td><td></td><td>URAT1-665155279</td><td></td><td>--</td><td>NC96004824</td><td></td><td>05263015+4256230</td><td></td><td>81.62563534911</td><td>42.93976135030</td><td>0.006438</td><td>81.62564389768</td><td>42.93974983019</td><td>3138.43115000</td><td>2643.20166000</td><td>3779.71533000</td><td>2937.71899000</td><td>2546.00830000</td><td>3432.86401000</td><td>10033</td></tr>\n",
       "</table></div>"
      ],
      "text/plain": [
       "<Table length=2>\n",
       "  _r_1      RA_ICRS_1       DE_ICRS_1    ...    b_rpgeo        B_rpgeo      Flag\n",
       "               deg             deg       ...       pc             pc            \n",
       "float64      float64         float64     ...    float64        float64     int32\n",
       "-------- --------------- --------------- ... -------------- -------------- -----\n",
       "0.003716  81.62187230463  42.93624922588 ...  2600.03027000  3453.99927000 10033\n",
       "0.006438  81.62564389768  42.93974983019 ...  2546.00830000  3432.86401000 10033"
      ]
     },
     "execution_count": 18,
     "metadata": {},
     "output_type": "execute_result"
    }
   ],
   "source": [
    "source1 = 195633320791780608\n",
    "source2 = 195633325090480896\n",
    "m1 = stars_in_region['Source'] == source1\n",
    "m2 = stars_in_region['Source'] == source2\n",
    "twostars = stars_in_region[m1 | m2]\n",
    "twostars"
   ]
  },
  {
   "cell_type": "code",
   "execution_count": 19,
   "metadata": {},
   "outputs": [
    {
     "name": "stderr",
     "output_type": "stream",
     "text": [
      "c:\\Users\\Surodeep\\AppData\\Local\\Programs\\Python\\Python310\\lib\\site-packages\\erfa\\core.py:154: ErfaWarning: ERFA function \"taiutc\" yielded 1 of \"dubious year (Note 4)\"\n",
      "  warnings.warn('ERFA function \"{}\" yielded {}'.format(func_name, wmsg),\n"
     ]
    }
   ],
   "source": [
    "from astropy.wcs import WCS\n",
    "from astropy.io import fits\n",
    "from astropy import units as u\n",
    "from astropy.table import Table\n",
    "from astropy.time import Time\n",
    "import matplotlib.pyplot as plt\n",
    "from astropy.coordinates import SkyCoord, Angle\n",
    "from regions import CircleSkyRegion,PixCoord, PointSkyRegion, PointPixelRegion, LineSkyRegion, LinePixelRegion\n",
    "#%matplotlib qt\n",
    "allrun = stars_in_region\n",
    "dt = -20*u.kyr\n",
    "allrun_coord_now = SkyCoord(ra=allrun['RA_ICRS_1'], \n",
    "                        dec=allrun['DE_ICRS_1'],\n",
    "                        distance=allrun['rgeo'], \n",
    "                        pm_ra_cosdec=allrun['pmRA'],\n",
    "                        pm_dec=allrun['pmDE'],\n",
    "                        obstime=Time('J2000')+500*u.kyr)\n",
    "twostars_coord = SkyCoord(ra=twostars['RA_ICRS_1'], \n",
    "                        dec=twostars['DE_ICRS_1'],\n",
    "                        distance=twostars['rgeo'], \n",
    "                        pm_ra_cosdec=twostars['pmRA'],\n",
    "                        pm_dec=twostars['pmDE'],\n",
    "                        obstime=Time('J2000')+500*u.kyr)\n",
    "allrun_coord_earlier = allrun_coord_now.apply_space_motion(dt=dt)\n",
    "\n",
    "\n",
    "with fits.open('./vro.fits') as fits_file:\n",
    "    image = fits_file[0]\n",
    "    wcs = WCS(image.header)\n",
    "    fig, ax = plt.subplots(subplot_kw={'projection': wcs}, figsize=(12, 12))\n",
    "    ax.imshow(image.data, \n",
    "              cmap='gray')\n",
    "    ax.set_xlabel('Right Ascension (hms)')\n",
    "    ax.set_ylabel('Declination (degrees)')\n",
    "\n",
    "    c = SkyCoord(\"05 26 30  +42 56 00\", distance=3000, unit=(u.hourangle ,u.deg, u.pc))\n",
    "    radius = Angle(vro.diameter/2)\n",
    "    region = CircleSkyRegion(c,radius)\n",
    "    region_pix = region.to_pixel(wcs)\n",
    "    region_pix.plot(ax=ax, \n",
    "                    color='red', \n",
    "                    lw=2)\n",
    "    \n",
    "    start_skys = allrun_coord_now\n",
    "    end_skys = allrun_coord_earlier\n",
    "\n",
    "    region_sky = [LineSkyRegion(start=start_sky, end=end_sky) for start_sky,end_sky in zip(allrun_coord_now,allrun_coord_earlier)]\n",
    "    region_sky_pix = [region_sky_.to_pixel(wcs) for region_sky_ in region_sky]\n",
    "    for c in allrun_coord_now:\n",
    "        point_sky = PointSkyRegion(center=c)\n",
    "        point_pix = point_sky.to_pixel(wcs)\n",
    "        point_pix.plot(ax=ax,\n",
    "                       color='green')\n",
    "    for region_pix in region_sky_pix:\n",
    "        region_pix.plot(ax=ax,\n",
    "                        color='cyan')\n",
    "    for c in twostars_coord:\n",
    "        point_sky = PointSkyRegion(center=c)\n",
    "        point_pix = point_sky.to_pixel(wcs)\n",
    "        point_pix.plot(ax=ax,\n",
    "                       color='yellow')"
   ]
  },
  {
   "cell_type": "code",
   "execution_count": 20,
   "metadata": {},
   "outputs": [],
   "source": [
    "from regions import Regions\n",
    "points = [PointSkyRegion(center=c) for c in allrun_coord_now]\n",
    "region_sky.append(region)\n",
    "region_sky = region_sky+points\n",
    "allregions = Regions(region_sky)\n",
    "allregions.write('vro.reg',overwrite=True)\n"
   ]
  },
  {
   "cell_type": "code",
   "execution_count": null,
   "metadata": {},
   "outputs": [],
   "source": []
  }
 ],
 "metadata": {
  "kernelspec": {
   "display_name": "Python 3",
   "language": "python",
   "name": "python3"
  },
  "language_info": {
   "codemirror_mode": {
    "name": "ipython",
    "version": 3
   },
   "file_extension": ".py",
   "mimetype": "text/x-python",
   "name": "python",
   "nbconvert_exporter": "python",
   "pygments_lexer": "ipython3",
   "version": "3.11.6"
  }
 },
 "nbformat": 4,
 "nbformat_minor": 2
}
