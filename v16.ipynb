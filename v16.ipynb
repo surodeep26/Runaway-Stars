{
 "cells": [
  {
   "cell_type": "code",
   "execution_count": 9,
   "metadata": {},
   "outputs": [],
   "source": [
    "%run runaway_functionsv3"
   ]
  },
  {
   "cell_type": "code",
   "execution_count": 5,
   "metadata": {},
   "outputs": [
    {
     "data": {
      "text/plain": [
       "['ASCC_107',\n",
       " 'ASCC_114',\n",
       " 'ASCC_127',\n",
       " 'ASCC_13',\n",
       " 'ASCC_16',\n",
       " 'ASCC_19',\n",
       " 'ASCC_21',\n",
       " 'ASCC_32',\n",
       " 'ASCC_67',\n",
       " 'ASCC_9',\n",
       " 'Alessi_20',\n",
       " 'Alessi_43',\n",
       " 'Alessi_Teutsch_5',\n",
       " 'Antalova_2',\n",
       " 'Archinal_1',\n",
       " 'Aveni_Hunter_1',\n",
       " 'BDSB91',\n",
       " 'BDSB93',\n",
       " 'BDSB96',\n",
       " 'BH_121',\n",
       " 'BH_200',\n",
       " 'BH_205',\n",
       " 'BH_217',\n",
       " 'BH_221',\n",
       " 'BH_245',\n",
       " 'BH_54',\n",
       " 'BH_56',\n",
       " 'BH_87',\n",
       " 'BH_92',\n",
       " 'Barkhatova_1',\n",
       " 'Basel_18',\n",
       " 'Basel_8',\n",
       " 'Berkeley_11',\n",
       " 'Berkeley_15',\n",
       " 'Berkeley_47',\n",
       " 'Berkeley_62',\n",
       " 'Berkeley_65',\n",
       " 'Berkeley_7',\n",
       " 'Berkeley_79',\n",
       " 'Berkeley_86',\n",
       " 'Berkeley_87',\n",
       " 'Berkeley_97',\n",
       " 'Bica_2',\n",
       " 'Biurakan_2',\n",
       " 'Bochum_10',\n",
       " 'Bochum_11',\n",
       " 'Bochum_13',\n",
       " 'COIN-Gaia_16',\n",
       " 'COIN-Gaia_21',\n",
       " 'COIN-Gaia_35',\n",
       " 'COIN-Gaia_41',\n",
       " 'Collinder_104',\n",
       " 'Collinder_106',\n",
       " 'Collinder_107',\n",
       " 'Collinder_132',\n",
       " 'Collinder_197',\n",
       " 'Collinder_205',\n",
       " 'Collinder_272',\n",
       " 'Collinder_419',\n",
       " 'Collinder_421',\n",
       " 'Collinder_69',\n",
       " 'Collinder_95',\n",
       " 'Czernik_1',\n",
       " 'Czernik_31',\n",
       " 'Czernik_41',\n",
       " 'Czernik_6',\n",
       " 'Czernik_8',\n",
       " 'Dias_1',\n",
       " 'Dias_5',\n",
       " 'Dolidze_16',\n",
       " 'Dolidze_3',\n",
       " 'Dolidze_32',\n",
       " 'Dolidze_5',\n",
       " 'Dolidze_53',\n",
       " 'Dolidze_8',\n",
       " 'ESO_134_12',\n",
       " 'ESO_332_08',\n",
       " 'ESO_332_13',\n",
       " 'FSR_0165',\n",
       " 'FSR_0198',\n",
       " 'FSR_0224',\n",
       " 'FSR_0236',\n",
       " 'FSR_0284',\n",
       " 'FSR_0306',\n",
       " 'FSR_0336',\n",
       " 'FSR_0398',\n",
       " 'FSR_0451',\n",
       " 'FSR_0498',\n",
       " 'FSR_0551',\n",
       " 'FSR_0686',\n",
       " 'FSR_0852',\n",
       " 'FSR_0904',\n",
       " 'FSR_0968',\n",
       " 'Gulliver_10',\n",
       " 'Gulliver_15',\n",
       " 'Gulliver_19',\n",
       " 'Gulliver_2',\n",
       " 'Gulliver_26',\n",
       " 'Gulliver_31',\n",
       " 'Gulliver_40',\n",
       " 'Gulliver_43',\n",
       " 'Gulliver_5',\n",
       " 'Gulliver_6',\n",
       " 'Gulliver_8',\n",
       " 'Haffner_13',\n",
       " 'Harvard_16',\n",
       " 'Hogg_10',\n",
       " 'Hogg_16',\n",
       " 'Hogg_18',\n",
       " 'Hogg_19',\n",
       " 'Hogg_22',\n",
       " 'IC_1396',\n",
       " 'IC_1590',\n",
       " 'IC_1805',\n",
       " 'IC_1848',\n",
       " 'IC_2157',\n",
       " 'IC_2395',\n",
       " 'IC_2581',\n",
       " 'IC_2948',\n",
       " 'IC_348',\n",
       " 'IC_4996',\n",
       " 'IC_5146',\n",
       " 'Juchert_20',\n",
       " 'King_14',\n",
       " 'King_21',\n",
       " 'King_26',\n",
       " 'Kronberger_1',\n",
       " 'Kronberger_69',\n",
       " 'LP_0288',\n",
       " 'LP_0503',\n",
       " 'LP_0506',\n",
       " 'LP_0733',\n",
       " 'LP_1049',\n",
       " 'LP_1209',\n",
       " 'LP_1211',\n",
       " 'LP_1218',\n",
       " 'LP_1329',\n",
       " 'LP_1342',\n",
       " 'LP_1355',\n",
       " 'LP_1487',\n",
       " 'LP_1490',\n",
       " 'LP_1614',\n",
       " 'LP_1641',\n",
       " 'LP_1768',\n",
       " 'LP_1771',\n",
       " 'LP_1775',\n",
       " 'LP_1780',\n",
       " 'LP_1807',\n",
       " 'LP_1821',\n",
       " 'LP_1864',\n",
       " 'LP_1888',\n",
       " 'LP_2106',\n",
       " 'LP_2113',\n",
       " 'LP_2172',\n",
       " 'LP_2219',\n",
       " 'LP_2221',\n",
       " 'LP_2249',\n",
       " 'Lynga_4',\n",
       " 'Markarian_38',\n",
       " 'Markarian_50',\n",
       " 'Mayer_1',\n",
       " 'Moffat_1',\n",
       " 'NGC_1220',\n",
       " 'NGC_1348',\n",
       " 'NGC_1444',\n",
       " 'NGC_146',\n",
       " 'NGC_1502',\n",
       " 'NGC_1579',\n",
       " 'NGC_1960',\n",
       " 'NGC_1977',\n",
       " 'NGC_1980',\n",
       " 'NGC_2129',\n",
       " 'NGC_2169',\n",
       " 'NGC_2183',\n",
       " 'NGC_2232',\n",
       " 'NGC_2244',\n",
       " 'NGC_2264',\n",
       " 'NGC_2362',\n",
       " 'NGC_2367',\n",
       " 'NGC_2384',\n",
       " 'NGC_2451B',\n",
       " 'NGC_2547',\n",
       " 'NGC_2571',\n",
       " 'NGC_2645',\n",
       " 'NGC_2659',\n",
       " 'NGC_3228',\n",
       " 'NGC_3293',\n",
       " 'NGC_3324',\n",
       " 'NGC_3572',\n",
       " 'NGC_3590',\n",
       " 'NGC_366',\n",
       " 'NGC_3766',\n",
       " 'NGC_4103',\n",
       " 'NGC_433',\n",
       " 'NGC_4463',\n",
       " 'NGC_457',\n",
       " 'NGC_4755',\n",
       " 'NGC_5606',\n",
       " 'NGC_581',\n",
       " 'NGC_6178',\n",
       " 'NGC_6193',\n",
       " 'NGC_6200',\n",
       " 'NGC_6216',\n",
       " 'NGC_6231',\n",
       " 'NGC_6249',\n",
       " 'NGC_6250',\n",
       " 'NGC_6318',\n",
       " 'NGC_6322',\n",
       " 'NGC_637',\n",
       " 'NGC_6383',\n",
       " 'NGC_6396',\n",
       " 'NGC_6404',\n",
       " 'NGC_6451',\n",
       " 'NGC_6520',\n",
       " 'NGC_6530',\n",
       " 'NGC_6531',\n",
       " 'NGC_654',\n",
       " 'NGC_6561',\n",
       " 'NGC_6604',\n",
       " 'NGC_6611',\n",
       " 'NGC_6613',\n",
       " 'NGC_663',\n",
       " 'NGC_6649',\n",
       " 'NGC_6664',\n",
       " 'NGC_6823',\n",
       " 'NGC_6871',\n",
       " 'NGC_6910',\n",
       " 'NGC_6913',\n",
       " 'NGC_7039',\n",
       " 'NGC_7129',\n",
       " 'NGC_7160',\n",
       " 'NGC_7281',\n",
       " 'NGC_7380',\n",
       " 'NGC_869',\n",
       " 'NGC_884',\n",
       " 'NGC_957',\n",
       " 'Pismis_11',\n",
       " 'Pismis_27',\n",
       " 'Pismis_5',\n",
       " 'Pismis_8',\n",
       " 'Pismis_Moreno_1',\n",
       " 'Pozzo_1',\n",
       " 'RSG_8',\n",
       " 'Riddle_4',\n",
       " 'Roslund_2',\n",
       " 'Ruprecht_120',\n",
       " 'Ruprecht_127',\n",
       " 'Ruprecht_138',\n",
       " 'Ruprecht_144',\n",
       " 'Ruprecht_170',\n",
       " 'Ruprecht_26',\n",
       " 'Ruprecht_65',\n",
       " 'Ruprecht_71',\n",
       " 'Ruprecht_94',\n",
       " 'SAI_118',\n",
       " 'SAI_24',\n",
       " 'SAI_4',\n",
       " 'Stephenson_1',\n",
       " 'Stock_14',\n",
       " 'Stock_20',\n",
       " 'Stock_8',\n",
       " 'Teutsch_30',\n",
       " 'Teutsch_38',\n",
       " 'Teutsch_8',\n",
       " 'Trapezium-FG',\n",
       " 'Trumpler_1',\n",
       " 'Trumpler_14',\n",
       " 'Trumpler_15',\n",
       " 'Trumpler_16',\n",
       " 'Trumpler_17',\n",
       " 'Trumpler_28',\n",
       " 'Trumpler_3',\n",
       " 'Trumpler_33',\n",
       " 'UBC_121',\n",
       " 'UBC_133',\n",
       " 'UBC_134',\n",
       " 'UBC_148',\n",
       " 'UBC_155',\n",
       " 'UBC_156',\n",
       " 'UBC_166',\n",
       " 'UBC_177',\n",
       " 'UBC_178',\n",
       " 'UBC_17a',\n",
       " 'UBC_182',\n",
       " 'UBC_188',\n",
       " 'UBC_191',\n",
       " 'UBC_192',\n",
       " 'UBC_198',\n",
       " 'UBC_245',\n",
       " 'UBC_249',\n",
       " 'UBC_258',\n",
       " 'UBC_267',\n",
       " 'UBC_270',\n",
       " 'UBC_272',\n",
       " 'UBC_280',\n",
       " 'UBC_281',\n",
       " 'UBC_296',\n",
       " 'UBC_31',\n",
       " 'UBC_322',\n",
       " 'UBC_337',\n",
       " 'UBC_338',\n",
       " 'UBC_341',\n",
       " 'UBC_342',\n",
       " 'UBC_345',\n",
       " 'UBC_354',\n",
       " 'UBC_361',\n",
       " 'UBC_373',\n",
       " 'UBC_377',\n",
       " 'UBC_379',\n",
       " 'UBC_386',\n",
       " 'UBC_389',\n",
       " 'UBC_391',\n",
       " 'UBC_396',\n",
       " 'UBC_410',\n",
       " 'UBC_413',\n",
       " 'UBC_415',\n",
       " 'UBC_417',\n",
       " 'UBC_422',\n",
       " 'UBC_423',\n",
       " 'UBC_432',\n",
       " 'UBC_46',\n",
       " 'UBC_479',\n",
       " 'UBC_482',\n",
       " 'UBC_483',\n",
       " 'UBC_487',\n",
       " 'UBC_499',\n",
       " 'UBC_51',\n",
       " 'UBC_521',\n",
       " 'UBC_531',\n",
       " 'UBC_532',\n",
       " 'UBC_534',\n",
       " 'UBC_535',\n",
       " 'UBC_536',\n",
       " 'UBC_541',\n",
       " 'UBC_542',\n",
       " 'UBC_545',\n",
       " 'UBC_548',\n",
       " 'UBC_549',\n",
       " 'UBC_550',\n",
       " 'UBC_552',\n",
       " 'UBC_559',\n",
       " 'UBC_562',\n",
       " 'UBC_576',\n",
       " 'UBC_582',\n",
       " 'UBC_588',\n",
       " 'UBC_606',\n",
       " 'UBC_620',\n",
       " 'UBC_63',\n",
       " 'UBC_652',\n",
       " 'UBC_653',\n",
       " 'UBC_663',\n",
       " 'UBC_665',\n",
       " 'UBC_668',\n",
       " 'UFMG_22',\n",
       " 'UFMG_3',\n",
       " 'UFMG_45',\n",
       " 'UFMG_53',\n",
       " 'UPK_150',\n",
       " 'UPK_166',\n",
       " 'UPK_169',\n",
       " 'UPK_194',\n",
       " 'UPK_220',\n",
       " 'UPK_23',\n",
       " 'UPK_265',\n",
       " 'UPK_28',\n",
       " 'UPK_38',\n",
       " 'UPK_385',\n",
       " 'UPK_398',\n",
       " 'UPK_422',\n",
       " 'UPK_445',\n",
       " 'UPK_457',\n",
       " 'UPK_526',\n",
       " 'UPK_540',\n",
       " 'UPK_604',\n",
       " 'UPK_62',\n",
       " 'UPK_621',\n",
       " 'vdBergh_130',\n",
       " 'vdBergh_80',\n",
       " 'vdBergh_85',\n",
       " 'vdBergh_92']"
      ]
     },
     "execution_count": 5,
     "metadata": {},
     "output_type": "execute_result"
    }
   ],
   "source": [
    "workclusters"
   ]
  },
  {
   "cell_type": "code",
   "execution_count": 27,
   "metadata": {},
   "outputs": [
    {
     "name": "stdout",
     "output_type": "stream",
     "text": [
      "--------------------------------------------------\n",
      "ASCC_107\n",
      "--------------------------------------------------\n",
      "73 out of 92 dias members found in search region\n",
      "Changed N          59.00 --> 46.00\n",
      "Changed Plx        1.12 --> 1.14\n",
      "Changed e_Plx      0.05 --> 0.04\n",
      "Changed Dist       864.00 --> 853.38\n",
      "Changed e_Dist     30.00 --> 27.52\n",
      "Changed pmRA       -0.14 --> -0.19\n",
      "Changed e_pmRA     0.14 --> 0.11\n",
      "Changed pmDE       -5.16 --> -5.16\n",
      "Changed e_pmDE     0.14 --> 0.11\n",
      "Changed RV         -- --> -4.34\n",
      "Changed e_RV       -- --> 3.33\n",
      "Changed NRV        -- --> 28.00\n",
      "--------------------------------------------------\n",
      "ASCC_114\n",
      "--------------------------------------------------\n",
      "167 out of 208 dias members found in search region\n",
      "Changed N          149.00 --> 110.00\n",
      "Changed Plx        1.06 --> 1.07\n",
      "Changed e_Plx      0.04 --> 0.03\n",
      "Changed Dist       911.00 --> 917.03\n",
      "Changed e_Dist     12.00 --> 22.90\n",
      "Changed pmRA       -3.75 --> -3.72\n",
      "Changed e_pmRA     0.21 --> 0.10\n",
      "Changed pmDE       -3.43 --> -3.46\n",
      "Changed e_pmDE     0.14 --> 0.10\n",
      "Changed RV         -- --> -23.06\n",
      "Changed e_RV       -- --> 2.83\n",
      "Changed NRV        -- --> 40.00\n"
     ]
    }
   ],
   "source": [
    "for cluster in workclusters[:]:\n",
    "    print(\"-\"*50)\n",
    "    print(cluster)\n",
    "    print(\"-\"*50)\n",
    "    Cluster(cluster).members()"
   ]
  },
  {
   "cell_type": "code",
   "execution_count": 26,
   "metadata": {},
   "outputs": [
    {
     "data": {
      "text/html": [
       "<div><i>Table length=1</i>\n",
       "<table id=\"table133025360870032\" class=\"table-striped table-bordered table-condensed\">\n",
       "<thead><tr><th>Cluster</th><th>RA_ICRS</th><th>DE_ICRS</th><th>r50</th><th>N</th><th>pmRA</th><th>e_pmRA</th><th>pmDE</th><th>e_pmDE</th><th>Plx</th><th>e_Plx</th><th>RV</th><th>e_RV</th><th>NRV</th><th>Dist</th><th>e_Dist</th><th>logage</th><th>e_logage</th><th>__Fe_H_</th><th>e__Fe_H_</th><th>Av</th><th>e_Av</th><th>FileName</th><th>SimbadName</th><th>_RA.icrs</th><th>_DE.icrs</th></tr></thead>\n",
       "<thead><tr><th></th><th>deg</th><th>deg</th><th>deg</th><th></th><th>mas / yr</th><th>mas / yr</th><th>mas / yr</th><th>mas / yr</th><th>mas</th><th>mas</th><th>km / s</th><th>km / s</th><th></th><th>pc</th><th>pc</th><th>log(yr)</th><th>log(yr)</th><th></th><th></th><th>mag</th><th>mag</th><th></th><th></th><th>deg</th><th>deg</th></tr></thead>\n",
       "<thead><tr><th>str17</th><th>float64</th><th>float64</th><th>float32</th><th>int16</th><th>float32</th><th>float32</th><th>float32</th><th>float32</th><th>float32</th><th>float32</th><th>float64</th><th>float32</th><th>int16</th><th>int16</th><th>int16</th><th>float32</th><th>float32</th><th>float32</th><th>float32</th><th>float32</th><th>float32</th><th>str31</th><th>str31</th><th>float64</th><th>float64</th></tr></thead>\n",
       "<tr><td>Basel_8</td><td>98.5582</td><td>8.0381</td><td>0.299</td><td>31</td><td>-0.134</td><td>0.066</td><td>-2.400</td><td>0.140</td><td>0.623</td><td>0.036</td><td>--</td><td>--</td><td>--</td><td>1456</td><td>54</td><td>7.671</td><td>0.236</td><td>0.028</td><td>0.064</td><td>1.083</td><td>0.079</td><td>clusters1/Basel_8.dat</td><td>Cl Basel 8</td><td>98.5582</td><td>8.0381</td></tr>\n",
       "</table></div>"
      ],
      "text/plain": [
       "<Table length=1>\n",
       "Cluster RA_ICRS  DE_ICRS    r50   ... SimbadName _RA.icrs _DE.icrs\n",
       "          deg      deg      deg   ...              deg      deg   \n",
       " str17  float64  float64  float32 ...   str31    float64  float64 \n",
       "------- -------- -------- ------- ... ---------- -------- --------\n",
       "Basel_8  98.5582   8.0381   0.299 ... Cl Basel 8  98.5582   8.0381"
      ]
     },
     "execution_count": 26,
     "metadata": {},
     "output_type": "execute_result"
    }
   ],
   "source": [
    "dias2021 = Table.read('dias2021.tsv', format='ascii.ecsv')\n",
    "dias2021[dias2021['Cluster']=='Basel_8']"
   ]
  },
  {
   "cell_type": "code",
   "execution_count": 65,
   "metadata": {},
   "outputs": [
    {
     "data": {
      "text/plain": [
       "375"
      ]
     },
     "execution_count": 65,
     "metadata": {},
     "output_type": "execute_result"
    }
   ],
   "source": [
    "cl = Cluster(\"Basel_8\")\n",
    "np.count_nonzero(~cl.stars_in_region()['RV'].mask)\n"
   ]
  },
  {
   "cell_type": "code",
   "execution_count": 22,
   "metadata": {},
   "outputs": [
    {
     "data": {
      "text/plain": [
       "(-5.870175438596491, 3.336015055950423, 57)"
      ]
     },
     "execution_count": 22,
     "metadata": {},
     "output_type": "execute_result"
    }
   ],
   "source": [
    "\n",
    "%run runaway_functionsv3\n",
    "cl = Cluster(\"ASCC_107\")\n",
    "cl.stars_in_region()\n",
    "t = cl.mymembers\n",
    "t = cl.stars_in_region()\n",
    "t = find_cluster(cl.stars_in_region(), sigma=1.5)\n",
    "\n",
    "np.mean(t['RV']),np.sqrt(np.sum(t['e_RV'])**2/(len(t))**2),(np.count_nonzero(~(t['RV'].mask)))"
   ]
  },
  {
   "cell_type": "code",
   "execution_count": 53,
   "metadata": {},
   "outputs": [
    {
     "data": {
      "text/html": [
       "<i>Row index=0</i>\n",
       "<table id=\"table134498588576400\">\n",
       "<thead><tr><th>Cluster</th><th>RA_ICRS</th><th>DE_ICRS</th><th>r50</th><th>N</th><th>pmRA</th><th>e_pmRA</th><th>pmDE</th><th>e_pmDE</th><th>Plx</th><th>e_Plx</th><th>RV</th><th>e_RV</th><th>NRV</th><th>Dist</th><th>e_Dist</th><th>logage</th><th>e_logage</th><th>__Fe_H_</th><th>e__Fe_H_</th><th>Av</th><th>e_Av</th><th>FileName</th><th>SimbadName</th><th>_RA.icrs</th><th>_DE.icrs</th></tr></thead>\n",
       "<thead><tr><th></th><th>deg</th><th>deg</th><th>deg</th><th></th><th>mas / yr</th><th>mas / yr</th><th>mas / yr</th><th>mas / yr</th><th>mas</th><th>mas</th><th>km / s</th><th>km / s</th><th></th><th>pc</th><th>pc</th><th>log(yr)</th><th>log(yr)</th><th></th><th></th><th>mag</th><th>mag</th><th></th><th></th><th>deg</th><th>deg</th></tr></thead>\n",
       "<thead><tr><th>str17</th><th>float64</th><th>float64</th><th>float32</th><th>int16</th><th>float32</th><th>float32</th><th>float32</th><th>float32</th><th>float32</th><th>float32</th><th>float64</th><th>float32</th><th>int16</th><th>int16</th><th>int16</th><th>float32</th><th>float32</th><th>float32</th><th>float32</th><th>float32</th><th>float32</th><th>str31</th><th>str31</th><th>float64</th><th>float64</th></tr></thead>\n",
       "<tr><td>Basel_8</td><td>98.5582</td><td>8.0381</td><td>0.299</td><td>8</td><td>-0.190</td><td>0.225</td><td>-2.183</td><td>0.225</td><td>0.653</td><td>0.027</td><td>26.437</td><td>1.331</td><td>35</td><td>1450</td><td>49</td><td>7.671</td><td>0.236</td><td>0.028</td><td>0.064</td><td>1.083</td><td>0.079</td><td>clusters1/Basel_8.dat</td><td>Cl Basel 8</td><td>98.5582</td><td>8.0381</td></tr>\n",
       "</table>"
      ],
      "text/plain": [
       "<Row index=0>\n",
       "Cluster RA_ICRS  DE_ICRS    r50     N     pmRA    e_pmRA    pmDE    e_pmDE    Plx    e_Plx     RV      e_RV   NRV   Dist e_Dist  logage e_logage __Fe_H_ e__Fe_H_    Av     e_Av         FileName       SimbadName _RA.icrs _DE.icrs\n",
       "          deg      deg      deg         mas / yr mas / yr mas / yr mas / yr   mas     mas    km / s   km / s         pc    pc   log(yr) log(yr)                     mag     mag                                      deg      deg   \n",
       " str17  float64  float64  float32 int16 float32  float32  float32  float32  float32 float32 float64  float32 int16 int16 int16  float32 float32  float32 float32  float32 float32         str31           str31    float64  float64 \n",
       "------- -------- -------- ------- ----- -------- -------- -------- -------- ------- ------- -------- ------- ----- ----- ------ ------- -------- ------- -------- ------- ------- --------------------- ---------- -------- --------\n",
       "Basel_8  98.5582   8.0381   0.299     8   -0.190    0.225   -2.183    0.225   0.653   0.027   26.437   1.331    35  1450     49   7.671    0.236   0.028    0.064   1.083   0.079 clusters1/Basel_8.dat Cl Basel 8  98.5582   8.0381"
      ]
     },
     "execution_count": 53,
     "metadata": {},
     "output_type": "execute_result"
    }
   ],
   "source": [
    "cl.all"
   ]
  },
  {
   "cell_type": "code",
   "execution_count": 18,
   "metadata": {},
   "outputs": [
    {
     "data": {
      "text/html": [
       "<div><i>Table length=65</i>\n",
       "<table id=\"table137923693147408\" class=\"table-striped table-bordered table-condensed\">\n",
       "<thead><tr><th>RA_ICRS_1</th><th>DE_ICRS_1</th><th>e_RA_ICRS</th><th>e_DE_ICRS</th><th>_r_1</th><th>HIP</th><th>TYC2</th><th>Source</th><th>rgeo</th><th>Plx</th><th>e_Plx</th><th>pmRA</th><th>pmDE</th><th>e_pmRA</th><th>e_pmDE</th><th>RUWE</th><th>Teff</th><th>logg</th><th>Gmag</th><th>BP-RP</th><th>BPmag</th><th>RPmag</th><th>RV</th><th>e_RV</th><th>b_rgeo</th><th>B_rgeo</th><th>FG</th><th>e_FG</th><th>FBP</th><th>e_FBP</th><th>FRP</th><th>e_FRP</th><th>RAVE5</th><th>RAVE6</th><th>e_Gmag</th><th>e_BPmag</th><th>e_RPmag</th><th>e_BP-RP</th><th>SkyCoord</th><th>rmRA</th><th>rmDE</th><th>e_rmRA</th><th>e_rmDE</th><th>rRV</th><th>e_rRV</th><th>Temp. Est</th></tr></thead>\n",
       "<thead><tr><th>deg</th><th>deg</th><th>mas</th><th>mas</th><th></th><th></th><th></th><th></th><th>pc</th><th>mas</th><th>mas</th><th>mas / yr</th><th>mas / yr</th><th>mas / yr</th><th>mas / yr</th><th></th><th>K</th><th>log(cm.s**-2)</th><th>mag</th><th>mag</th><th>mag</th><th>mag</th><th>km / s</th><th>km / s</th><th>pc</th><th>pc</th><th></th><th></th><th></th><th></th><th></th><th></th><th></th><th></th><th></th><th></th><th></th><th></th><th>deg,deg,pc</th><th>mas / yr</th><th>mas / yr</th><th>mas / yr</th><th>mas / yr</th><th>km / s</th><th>km / s</th><th></th></tr></thead>\n",
       "<thead><tr><th>float64</th><th>float64</th><th>float64</th><th>float64</th><th>float64</th><th>int32</th><th>str11</th><th>int64</th><th>float64</th><th>float64</th><th>float32</th><th>float64</th><th>float64</th><th>float32</th><th>float32</th><th>float64</th><th>float64</th><th>float64</th><th>float64</th><th>float64</th><th>float64</th><th>float64</th><th>float64</th><th>float32</th><th>float64</th><th>float64</th><th>float64</th><th>float32</th><th>float32</th><th>float32</th><th>float32</th><th>float32</th><th>str1</th><th>str1</th><th>float64</th><th>float32</th><th>float32</th><th>float32</th><th>SkyCoord</th><th>float64</th><th>float64</th><th>float32</th><th>float32</th><th>float64</th><th>float32</th><th>int64</th></tr></thead>\n",
       "<tr><td>297.17084324992</td><td>21.98476752483</td><td>0.0182</td><td>0.0199</td><td>1.4220</td><td>97471</td><td>1627-332-1</td><td>1827560055337367296</td><td>905.13012700</td><td>1.0861</td><td>0.0281</td><td>0.115</td><td>-5.226</td><td>0.024</td><td>0.026</td><td>0.972</td><td>18863.6</td><td>3.4733</td><td>8.152393</td><td>0.281548</td><td>8.234911</td><td>7.953362</td><td>--</td><td>--</td><td>883.81189000</td><td>929.28149400</td><td>10327361.03773</td><td>3664</td><td>6.942e+06</td><td>5500</td><td>5.222e+06</td><td>3230</td><td>--</td><td>--</td><td>0.002782</td><td>0.00292</td><td>0.003839</td><td>0.006758</td><td>297.17084324992,21.98476752483,905.130127</td><td>0.30682609021663665</td><td>-0.0668694267272949</td><td>0.13751926</td><td>0.13951926</td><td>--</td><td>--</td><td>0</td></tr>\n",
       "<tr><td>297.11085896723</td><td>21.96246797013</td><td>0.0365</td><td>0.0388</td><td>3.9200</td><td>--</td><td>1627-11-1</td><td>1827554282901324032</td><td>929.58429000</td><td>1.0677</td><td>0.0542</td><td>-0.429</td><td>-5.290</td><td>0.050</td><td>0.050</td><td>2.939</td><td>16531.8</td><td>3.8265</td><td>9.317932</td><td>0.302243</td><td>9.410587</td><td>9.108344</td><td>--</td><td>--</td><td>877.12780800</td><td>979.60638400</td><td>3529993.54319</td><td>998.6</td><td>2.351e+06</td><td>1625</td><td>1.802e+06</td><td>855.7</td><td>--</td><td>--</td><td>0.002772</td><td>0.002889</td><td>0.003814</td><td>0.006704</td><td>297.11085896723,21.96246797013,929.58429</td><td>-0.23717390978336333</td><td>-0.13086942672729496</td><td>0.16351926</td><td>0.16351926</td><td>--</td><td>--</td><td>0</td></tr>\n",
       "<tr><td>297.10135591695</td><td>21.91424698051</td><td>0.0116</td><td>0.0137</td><td>6.5227</td><td>--</td><td>1627-790-1</td><td>1827553496963958144</td><td>859.21020500</td><td>1.1238</td><td>0.0186</td><td>0.014</td><td>-5.148</td><td>0.016</td><td>0.017</td><td>0.946</td><td>11621.6</td><td>3.9140</td><td>11.037607</td><td>0.443225</td><td>11.193063</td><td>10.749838</td><td>-27.00</td><td>12.06</td><td>846.32116700</td><td>872.17327900</td><td>724275.30768</td><td>193.6</td><td>4.552e+05</td><td>219.1</td><td>3.974e+05</td><td>99.14</td><td>--</td><td>--</td><td>0.002771</td><td>0.002839</td><td>0.003789</td><td>0.006628</td><td>297.10135591695,21.91424698051,859.210205</td><td>0.20582609021663667</td><td>0.01113057327270539</td><td>0.12951925</td><td>0.13051926</td><td>-21.13</td><td>15.40</td><td>0</td></tr>\n",
       "<tr><td>296.82257860134</td><td>22.11386915659</td><td>0.0114</td><td>0.0121</td><td>19.9478</td><td>--</td><td>1627-1658-1</td><td>1827572321763952128</td><td>916.31494100</td><td>1.0526</td><td>0.0156</td><td>1.317</td><td>-4.259</td><td>0.015</td><td>0.016</td><td>0.907</td><td>10818.1</td><td>3.8842</td><td>11.066307</td><td>0.717512</td><td>11.336892</td><td>10.619380</td><td>-4.68</td><td>6.24</td><td>905.36102300</td><td>927.64782700</td><td>705381.56671</td><td>119.3</td><td>3.987e+05</td><td>209.6</td><td>4.481e+05</td><td>102.3</td><td>--</td><td>--</td><td>0.002761</td><td>0.002848</td><td>0.003787</td><td>0.006635</td><td>296.82257860134,22.11386915659,916.314941</td><td>1.5088260902166366</td><td>0.9001305732727047</td><td>0.12851925</td><td>0.12951925</td><td>1.19</td><td>9.58</td><td>0</td></tr>\n",
       "<tr><td>297.20914586998</td><td>21.78557955990</td><td>0.0170</td><td>0.0200</td><td>13.5450</td><td>--</td><td>1627-970-1</td><td>1827501785569485952</td><td>855.90472400</td><td>1.1426</td><td>0.0254</td><td>-1.889</td><td>-4.495</td><td>0.022</td><td>0.026</td><td>1.306</td><td>5062.0</td><td>2.8506</td><td>11.113397</td><td>1.603019</td><td>11.871234</td><td>10.268215</td><td>-1.71</td><td>0.23</td><td>836.92456100</td><td>874.39117400</td><td>675442.14013</td><td>207.2</td><td>2.437e+05</td><td>130.7</td><td>6.193e+05</td><td>273.6</td><td>--</td><td>--</td><td>0.002775</td><td>0.00285</td><td>0.00381</td><td>0.00666</td><td>297.20914586998,21.7855795599,855.904724</td><td>-1.6971739097833634</td><td>0.664130573272705</td><td>0.13551927</td><td>0.13951926</td><td>4.16</td><td>3.57</td><td>0</td></tr>\n",
       "<tr><td>296.99981774609</td><td>21.96166082885</td><td>0.0108</td><td>0.0119</td><td>9.4427</td><td>--</td><td>1627-1347-1</td><td>1827566484946171136</td><td>901.64007600</td><td>1.0658</td><td>0.0166</td><td>-0.200</td><td>-5.188</td><td>0.014</td><td>0.015</td><td>0.871</td><td>11839.5</td><td>4.0590</td><td>11.115017</td><td>0.482429</td><td>11.287463</td><td>10.805035</td><td>--</td><td>--</td><td>887.90368700</td><td>915.95544400</td><td>674435.06419</td><td>158.4</td><td>4.173e+05</td><td>205.7</td><td>3.777e+05</td><td>107.8</td><td>--</td><td>--</td><td>0.002767</td><td>0.002841</td><td>0.003792</td><td>0.006633</td><td>296.99981774609,21.96166082885,901.640076</td><td>-0.008173909783363353</td><td>-0.028869426727294645</td><td>0.12751926</td><td>0.12851925</td><td>--</td><td>--</td><td>0</td></tr>\n",
       "<tr><td>297.23011232398</td><td>21.89114185616</td><td>0.0092</td><td>0.0120</td><td>7.9152</td><td>--</td><td>1627-880-1</td><td>1827555730347495936</td><td>855.31518600</td><td>1.1190</td><td>0.0149</td><td>-0.156</td><td>-5.183</td><td>0.013</td><td>0.016</td><td>0.867</td><td>--</td><td>--</td><td>11.681152</td><td>0.626036</td><td>11.914623</td><td>11.288588</td><td>--</td><td>--</td><td>843.56378200</td><td>868.81396500</td><td>400392.32588</td><td>70.59</td><td>2.342e+05</td><td>122.1</td><td>2.42e+05</td><td>64.14</td><td>--</td><td>--</td><td>0.002762</td><td>0.002847</td><td>0.00379</td><td>0.006637</td><td>297.23011232398,21.89114185616,855.315186</td><td>0.03582609021663666</td><td>-0.02386942672729475</td><td>0.12651926</td><td>0.12951925</td><td>--</td><td>--</td><td>0</td></tr>\n",
       "<tr><td>297.07444806332</td><td>22.00880815725</td><td>0.0086</td><td>0.0086</td><td>4.8884</td><td>--</td><td>1627-149-1</td><td>1827555421109423360</td><td>853.19787600</td><td>1.1435</td><td>0.0126</td><td>-0.131</td><td>-5.133</td><td>0.011</td><td>0.011</td><td>0.850</td><td>10265.2</td><td>4.2041</td><td>12.101328</td><td>0.602966</td><td>12.327161</td><td>11.724195</td><td>-3.99</td><td>32.72</td><td>842.70446800</td><td>863.83685300</td><td>271903.93871</td><td>40.89</td><td>1.602e+05</td><td>104.5</td><td>1.62e+05</td><td>53.45</td><td>--</td><td>--</td><td>0.00276</td><td>0.002879</td><td>0.003796</td><td>0.006675</td><td>297.07444806332,22.00880815725,853.197876</td><td>0.06082609021663665</td><td>0.02613057327270507</td><td>0.12451926</td><td>0.12451926</td><td>1.88</td><td>36.06</td><td>0</td></tr>\n",
       "<tr><td>297.15352551930</td><td>22.17913110790</td><td>0.0079</td><td>0.0095</td><td>10.3330</td><td>--</td><td>--</td><td>1827575757737782784</td><td>842.19842500</td><td>1.1644</td><td>0.0118</td><td>-0.289</td><td>-5.177</td><td>0.011</td><td>0.012</td><td>0.876</td><td>--</td><td>--</td><td>12.112503</td><td>0.876768</td><td>12.461434</td><td>11.584666</td><td>-7.58</td><td>22.04</td><td>832.70440700</td><td>851.43078600</td><td>269119.66733</td><td>41.42</td><td>1.415e+05</td><td>71.4</td><td>1.842e+05</td><td>56.24</td><td>--</td><td>--</td><td>0.00276</td><td>0.002843</td><td>0.003794</td><td>0.006637</td><td>297.1535255193,22.1791311079,842.198425</td><td>-0.09717390978336332</td><td>-0.017869426727294524</td><td>0.12451926</td><td>0.12551926</td><td>-1.71</td><td>25.38</td><td>0</td></tr>\n",
       "<tr><td>...</td><td>...</td><td>...</td><td>...</td><td>...</td><td>...</td><td>...</td><td>...</td><td>...</td><td>...</td><td>...</td><td>...</td><td>...</td><td>...</td><td>...</td><td>...</td><td>...</td><td>...</td><td>...</td><td>...</td><td>...</td><td>...</td><td>...</td><td>...</td><td>...</td><td>...</td><td>...</td><td>...</td><td>...</td><td>...</td><td>...</td><td>...</td><td>...</td><td>...</td><td>...</td><td>...</td><td>...</td><td>...</td><td>...</td><td>...</td><td>...</td><td>...</td><td>...</td><td>...</td><td>...</td><td>...</td></tr>\n",
       "<tr><td>296.92017646344</td><td>21.86112322217</td><td>0.0294</td><td>0.0312</td><td>16.0726</td><td>--</td><td>--</td><td>1827552466171982592</td><td>840.64233400</td><td>1.1571</td><td>0.0433</td><td>-1.141</td><td>-3.281</td><td>0.039</td><td>0.042</td><td>0.953</td><td>4689.5</td><td>4.4769</td><td>16.375376</td><td>1.516110</td><td>17.048244</td><td>15.532134</td><td>--</td><td>--</td><td>814.53802500</td><td>874.76452600</td><td>5306.35606</td><td>2.64</td><td>2071</td><td>15.74</td><td>4856</td><td>24.62</td><td>--</td><td>--</td><td>0.002808</td><td>0.00871</td><td>0.006677</td><td>0.01539</td><td>296.92017646344,21.86112322217,840.642334</td><td>-0.9491739097833634</td><td>1.878130573272705</td><td>0.15251926</td><td>0.15551926</td><td>--</td><td>--</td><td>0</td></tr>\n",
       "<tr><td>297.09026582894</td><td>21.90995979621</td><td>0.0333</td><td>0.0370</td><td>7.0743</td><td>--</td><td>--</td><td>1827553496963970304</td><td>880.72265600</td><td>1.1139</td><td>0.0510</td><td>-0.294</td><td>-5.102</td><td>0.044</td><td>0.047</td><td>0.985</td><td>4369.3</td><td>4.2269</td><td>16.581001</td><td>1.827474</td><td>17.475113</td><td>15.647639</td><td>--</td><td>--</td><td>846.76361100</td><td>917.31897000</td><td>4390.82657</td><td>6.737</td><td>1398</td><td>7.275</td><td>4366</td><td>20.1</td><td>--</td><td>--</td><td>0.00322</td><td>0.006303</td><td>0.006265</td><td>0.01257</td><td>297.09026582894,21.90995979621,880.722656</td><td>-0.10217390978336333</td><td>0.057130573272704765</td><td>0.15751925</td><td>0.16051926</td><td>--</td><td>--</td><td>0</td></tr>\n",
       "<tr><td>296.78579443255</td><td>22.02678981756</td><td>0.0349</td><td>0.0376</td><td>20.9765</td><td>--</td><td>--</td><td>1827569989639698304</td><td>934.82318100</td><td>1.0490</td><td>0.0483</td><td>-1.188</td><td>-6.021</td><td>0.045</td><td>0.050</td><td>0.993</td><td>5200.3</td><td>4.6581</td><td>16.599606</td><td>1.549375</td><td>17.304710</td><td>15.755336</td><td>--</td><td>--</td><td>895.25067100</td><td>975.96081500</td><td>4316.22819</td><td>2.247</td><td>1635</td><td>9.474</td><td>3954</td><td>15.22</td><td>--</td><td>--</td><td>0.002813</td><td>0.006882</td><td>0.005635</td><td>0.01252</td><td>296.78579443255,22.02678981756,934.823181</td><td>-0.9961739097833633</td><td>-0.8618694267272948</td><td>0.15851927</td><td>0.16351926</td><td>--</td><td>--</td><td>0</td></tr>\n",
       "<tr><td>296.75685402764</td><td>21.80687046657</td><td>0.0344</td><td>0.0404</td><td>25.5688</td><td>--</td><td>--</td><td>1827468525329942528</td><td>866.99133300</td><td>1.1387</td><td>0.0513</td><td>1.367</td><td>-4.393</td><td>0.046</td><td>0.052</td><td>1.016</td><td>4567.6</td><td>4.4500</td><td>16.692877</td><td>1.712844</td><td>17.511570</td><td>15.798726</td><td>--</td><td>--</td><td>829.38165300</td><td>899.61944600</td><td>3960.91815</td><td>2.282</td><td>1351</td><td>5.283</td><td>3799</td><td>8.03</td><td>--</td><td>--</td><td>0.002825</td><td>0.005079</td><td>0.004422</td><td>0.009501</td><td>296.75685402764,21.80687046657,866.991333</td><td>1.5588260902166367</td><td>0.7661305732727053</td><td>0.15951926</td><td>0.16551927</td><td>--</td><td>--</td><td>0</td></tr>\n",
       "<tr><td>297.15621520042</td><td>21.66860332505</td><td>0.0350</td><td>0.0381</td><td>20.3130</td><td>--</td><td>--</td><td>1827498693146347136</td><td>874.51049800</td><td>1.1151</td><td>0.0497</td><td>-1.451</td><td>-4.764</td><td>0.050</td><td>0.055</td><td>1.007</td><td>4467.7</td><td>4.5558</td><td>16.731974</td><td>1.869082</td><td>17.637510</td><td>15.768429</td><td>--</td><td>--</td><td>837.36419700</td><td>915.80444300</td><td>3820.82494</td><td>2.355</td><td>1203</td><td>6.804</td><td>3906</td><td>16.96</td><td>--</td><td>--</td><td>0.002835</td><td>0.006743</td><td>0.006041</td><td>0.01278</td><td>297.15621520042,21.66860332505,874.510498</td><td>-1.2591739097833634</td><td>0.39513057327270484</td><td>0.16351926</td><td>0.16851926</td><td>--</td><td>--</td><td>0</td></tr>\n",
       "<tr><td>297.42528903301</td><td>21.96422068614</td><td>0.0382</td><td>0.0422</td><td>14.8560</td><td>--</td><td>--</td><td>1827510959612376320</td><td>916.40600600</td><td>1.0542</td><td>0.0570</td><td>-0.409</td><td>-4.851</td><td>0.056</td><td>0.059</td><td>0.961</td><td>4567.6</td><td>4.3549</td><td>16.776365</td><td>1.746763</td><td>17.600727</td><td>15.853964</td><td>--</td><td>--</td><td>874.63659700</td><td>965.79547100</td><td>3667.75877</td><td>6.986</td><td>1245</td><td>9.526</td><td>3610</td><td>27.53</td><td>--</td><td>--</td><td>0.003445</td><td>0.008764</td><td>0.009102</td><td>0.01787</td><td>297.42528903301,21.96422068614,916.406006</td><td>-0.21717390978336332</td><td>0.3081305732727051</td><td>0.16951926</td><td>0.17251927</td><td>--</td><td>--</td><td>0</td></tr>\n",
       "<tr><td>297.06924814723</td><td>21.70045905299</td><td>0.0379</td><td>0.0422</td><td>19.1147</td><td>--</td><td>--</td><td>1827405887532056320</td><td>860.40795900</td><td>1.1292</td><td>0.0560</td><td>0.326</td><td>-3.440</td><td>0.054</td><td>0.055</td><td>0.973</td><td>4523.7</td><td>4.4837</td><td>16.806883</td><td>1.687337</td><td>17.621035</td><td>15.933698</td><td>--</td><td>--</td><td>828.34515400</td><td>909.54321300</td><td>3566.10259</td><td>2.518</td><td>1222</td><td>6.778</td><td>3355</td><td>8.055</td><td>--</td><td>--</td><td>0.00286</td><td>0.006638</td><td>0.004591</td><td>0.01123</td><td>297.06924814723,21.70045905299,860.407959</td><td>0.5178260902166367</td><td>1.7191305732727051</td><td>0.16751926</td><td>0.16851926</td><td>--</td><td>--</td><td>0</td></tr>\n",
       "<tr><td>297.31257654280</td><td>22.16207587567</td><td>0.0489</td><td>0.0512</td><td>12.5003</td><td>--</td><td>--</td><td>1827586619759752192</td><td>931.15332000</td><td>1.0453</td><td>0.0707</td><td>-1.609</td><td>-4.814</td><td>0.080</td><td>0.078</td><td>0.984</td><td>--</td><td>--</td><td>16.844940</td><td>1.897050</td><td>17.775843</td><td>15.878793</td><td>--</td><td>--</td><td>875.52246100</td><td>997.86480700</td><td>3443.26554</td><td>3.461</td><td>1059</td><td>11.19</td><td>3529</td><td>25.26</td><td>--</td><td>--</td><td>0.002964</td><td>0.0118</td><td>0.008641</td><td>0.02044</td><td>297.3125765428,22.16207587567,931.15332</td><td>-1.4171739097833633</td><td>0.345130573272705</td><td>0.19351926</td><td>0.19151926</td><td>--</td><td>--</td><td>0</td></tr>\n",
       "<tr><td>297.09046969280</td><td>21.86641289429</td><td>0.0403</td><td>0.0449</td><td>9.3405</td><td>--</td><td>--</td><td>1827550335868005632</td><td>841.01788300</td><td>1.1613</td><td>0.0618</td><td>-0.210</td><td>-5.205</td><td>0.053</td><td>0.059</td><td>0.951</td><td>3714.4</td><td>4.0560</td><td>16.933788</td><td>1.952841</td><td>17.911484</td><td>15.958643</td><td>--</td><td>--</td><td>799.82226600</td><td>885.10302700</td><td>3172.71753</td><td>3.348</td><td>935</td><td>9.991</td><td>3279</td><td>11.46</td><td>--</td><td>--</td><td>0.002984</td><td>0.01193</td><td>0.005356</td><td>0.01729</td><td>297.0904696928,21.86641289429,841.017883</td><td>-0.018173909783363335</td><td>-0.04586942672729499</td><td>0.16651925</td><td>0.17251927</td><td>--</td><td>--</td><td>0</td></tr>\n",
       "<tr><td>296.95549556632</td><td>21.72383781893</td><td>0.0424</td><td>0.0448</td><td>20.5301</td><td>--</td><td>--</td><td>1827453647562055808</td><td>933.00830100</td><td>1.0565</td><td>0.0611</td><td>0.075</td><td>-5.798</td><td>0.058</td><td>0.059</td><td>1.008</td><td>4572.1</td><td>4.6638</td><td>16.952850</td><td>1.656136</td><td>17.745787</td><td>16.089651</td><td>--</td><td>--</td><td>879.02343800</td><td>994.24163800</td><td>3117.50006</td><td>2.039</td><td>1089</td><td>8.708</td><td>2906</td><td>8.139</td><td>--</td><td>--</td><td>0.002845</td><td>0.009118</td><td>0.004851</td><td>0.01397</td><td>296.95549556632,21.72383781893,933.008301</td><td>0.26682609021663667</td><td>-0.638869426727295</td><td>0.17151925</td><td>0.17251927</td><td>--</td><td>--</td><td>0</td></tr>\n",
       "</table></div>"
      ],
      "text/plain": [
       "<Table length=65>\n",
       "   RA_ICRS_1       DE_ICRS_1    e_RA_ICRS ...   rRV    e_rRV  Temp. Est\n",
       "      deg             deg          mas    ...  km / s  km / s          \n",
       "    float64         float64      float64  ... float64 float32   int64  \n",
       "--------------- --------------- --------- ... ------- ------- ---------\n",
       "297.17084324992  21.98476752483    0.0182 ...      --      --         0\n",
       "297.11085896723  21.96246797013    0.0365 ...      --      --         0\n",
       "297.10135591695  21.91424698051    0.0116 ...  -21.13   15.40         0\n",
       "296.82257860134  22.11386915659    0.0114 ...    1.19    9.58         0\n",
       "297.20914586998  21.78557955990    0.0170 ...    4.16    3.57         0\n",
       "296.99981774609  21.96166082885    0.0108 ...      --      --         0\n",
       "297.23011232398  21.89114185616    0.0092 ...      --      --         0\n",
       "297.07444806332  22.00880815725    0.0086 ...    1.88   36.06         0\n",
       "297.15352551930  22.17913110790    0.0079 ...   -1.71   25.38         0\n",
       "            ...             ...       ... ...     ...     ...       ...\n",
       "296.92017646344  21.86112322217    0.0294 ...      --      --         0\n",
       "297.09026582894  21.90995979621    0.0333 ...      --      --         0\n",
       "296.78579443255  22.02678981756    0.0349 ...      --      --         0\n",
       "296.75685402764  21.80687046657    0.0344 ...      --      --         0\n",
       "297.15621520042  21.66860332505    0.0350 ...      --      --         0\n",
       "297.42528903301  21.96422068614    0.0382 ...      --      --         0\n",
       "297.06924814723  21.70045905299    0.0379 ...      --      --         0\n",
       "297.31257654280  22.16207587567    0.0489 ...      --      --         0\n",
       "297.09046969280  21.86641289429    0.0403 ...      --      --         0\n",
       "296.95549556632  21.72383781893    0.0424 ...      --      --         0"
      ]
     },
     "execution_count": 18,
     "metadata": {},
     "output_type": "execute_result"
    }
   ],
   "source": [
    "cl.kinematic_cluster"
   ]
  },
  {
   "cell_type": "code",
   "execution_count": 17,
   "metadata": {},
   "outputs": [
    {
     "name": "stderr",
     "output_type": "stream",
     "text": [
      "qt.qpa.wayland: Wayland does not support QWindow::requestActivate()\n"
     ]
    }
   ],
   "source": [
    "%run runaway_functionsv3\n",
    "%matplotlib qt\n",
    "cl = Cluster(\"ASCC_107\")\n",
    "# cir = find_cluster(cl.stars_in_region())\n",
    "\n",
    "\n",
    "cl.plot_traceback_clean(star_tables=[cl.kinematic_cluster, \n",
    "                                    #  cir2\n",
    "                                     ])"
   ]
  },
  {
   "cell_type": "code",
   "execution_count": 45,
   "metadata": {},
   "outputs": [
    {
     "data": {
      "text/html": [
       "<div><i>Table length=39</i>\n",
       "<table id=\"table134498002021776\" class=\"table-striped table-bordered table-condensed\">\n",
       "<thead><tr><th>RA_ICRS_1</th><th>DE_ICRS_1</th><th>e_RA_ICRS</th><th>e_DE_ICRS</th><th>_r_1</th><th>HIP</th><th>TYC2</th><th>Source</th><th>rgeo</th><th>Plx</th><th>e_Plx</th><th>pmRA</th><th>pmDE</th><th>e_pmRA</th><th>e_pmDE</th><th>RUWE</th><th>Teff</th><th>logg</th><th>Gmag</th><th>BP-RP</th><th>BPmag</th><th>RPmag</th><th>RV</th><th>e_RV</th><th>b_rgeo</th><th>B_rgeo</th><th>FG</th><th>e_FG</th><th>FBP</th><th>e_FBP</th><th>FRP</th><th>e_FRP</th><th>RAVE5</th><th>RAVE6</th><th>e_Gmag</th><th>e_BPmag</th><th>e_RPmag</th><th>e_BP-RP</th><th>SkyCoord</th><th>rmRA</th><th>rmDE</th><th>e_rmRA</th><th>e_rmDE</th><th>rRV</th><th>e_rRV</th><th>Temp. Est</th></tr></thead>\n",
       "<thead><tr><th>deg</th><th>deg</th><th>mas</th><th>mas</th><th></th><th></th><th></th><th></th><th>pc</th><th>mas</th><th>mas</th><th>mas / yr</th><th>mas / yr</th><th>mas / yr</th><th>mas / yr</th><th></th><th>K</th><th>log(cm.s**-2)</th><th>mag</th><th>mag</th><th>mag</th><th>mag</th><th>km / s</th><th>km / s</th><th>pc</th><th>pc</th><th></th><th></th><th></th><th></th><th></th><th></th><th></th><th></th><th></th><th></th><th></th><th></th><th>deg,deg,pc</th><th>mas / yr</th><th>mas / yr</th><th>mas / yr</th><th>mas / yr</th><th>km / s</th><th>km / s</th><th></th></tr></thead>\n",
       "<thead><tr><th>float64</th><th>float64</th><th>float64</th><th>float64</th><th>float64</th><th>int32</th><th>str11</th><th>int64</th><th>float64</th><th>float64</th><th>float32</th><th>float64</th><th>float64</th><th>float32</th><th>float32</th><th>float64</th><th>float64</th><th>float64</th><th>float64</th><th>float64</th><th>float64</th><th>float64</th><th>float64</th><th>float32</th><th>float64</th><th>float64</th><th>float64</th><th>float32</th><th>float32</th><th>float32</th><th>float32</th><th>float32</th><th>str1</th><th>str1</th><th>float64</th><th>float32</th><th>float32</th><th>float32</th><th>SkyCoord</th><th>float64</th><th>float64</th><th>float32</th><th>float32</th><th>float64</th><th>float32</th><th>int64</th></tr></thead>\n",
       "<tr><td>339.84392032630</td><td>59.00715291679</td><td>0.0293</td><td>0.0308</td><td>0.2402</td><td>--</td><td>3995-625-1</td><td>2008383302396655488</td><td>2630.22485000</td><td>0.3652</td><td>0.0363</td><td>-2.873</td><td>-2.301</td><td>0.038</td><td>0.038</td><td>3.035</td><td>18135.5</td><td>3.3302</td><td>9.473729</td><td>0.937676</td><td>9.843719</td><td>8.906042</td><td>--</td><td>--</td><td>2393.19263000</td><td>2940.37549000</td><td>3058125.18769</td><td>951.5</td><td>1.577e+06</td><td>1154</td><td>2.171e+06</td><td>1124</td><td>--</td><td>--</td><td>0.002776</td><td>0.002901</td><td>0.003821</td><td>0.006722</td><td>339.8439203263,59.00715291679,2630.22485</td><td>-0.1396428089141848</td><td>-0.41682148075103775</td><td>0.13697915</td><td>0.13697915</td><td>--</td><td>--</td><td>0</td></tr>\n",
       "<tr><td>339.82384023875</td><td>59.01681945374</td><td>0.0097</td><td>0.0105</td><td>1.0890</td><td>--</td><td>3995-1075-1</td><td>2008430237808841600</td><td>2657.56860000</td><td>0.3583</td><td>0.0125</td><td>-2.747</td><td>-1.911</td><td>0.013</td><td>0.013</td><td>0.986</td><td>--</td><td>--</td><td>9.840384</td><td>0.868947</td><td>10.178231</td><td>9.309284</td><td>--</td><td>--</td><td>2587.60059000</td><td>2734.51587000</td><td>2181691.83228</td><td>1048</td><td>1.159e+06</td><td>1141</td><td>1.498e+06</td><td>1215</td><td>--</td><td>--</td><td>0.002804</td><td>0.002988</td><td>0.003881</td><td>0.006869</td><td>339.82384023875,59.01681945374,2657.5686</td><td>-0.013642808914184457</td><td>-0.02682148075103763</td><td>0.11197916</td><td>0.11197916</td><td>--</td><td>--</td><td>0</td></tr>\n",
       "<tr><td>340.10268328507</td><td>58.97390297864</td><td>0.0097</td><td>0.0107</td><td>8.0278</td><td>--</td><td>3996-1228-1</td><td>2008380794144211712</td><td>2570.86328000</td><td>0.3525</td><td>0.0122</td><td>-2.679</td><td>-1.930</td><td>0.013</td><td>0.014</td><td>0.903</td><td>--</td><td>--</td><td>11.482301</td><td>1.201067</td><td>11.985507</td><td>10.784440</td><td>--</td><td>--</td><td>2498.03125000</td><td>2653.16870000</td><td>480868.62054</td><td>798.2</td><td>2.194e+05</td><td>725.5</td><td>3.849e+05</td><td>2491</td><td>--</td><td>--</td><td>0.003292</td><td>0.004547</td><td>0.007978</td><td>0.01253</td><td>340.10268328507,58.97390297864,2570.86328</td><td>0.054357191085815604</td><td>-0.045821480751037535</td><td>0.11197916</td><td>0.11297915</td><td>--</td><td>--</td><td>0</td></tr>\n",
       "<tr><td>339.82166004461</td><td>59.00297803329</td><td>0.0089</td><td>0.0097</td><td>0.8784</td><td>--</td><td>--</td><td>2008430203449108224</td><td>2525.15747000</td><td>0.3648</td><td>0.0114</td><td>-2.953</td><td>-1.724</td><td>0.012</td><td>0.012</td><td>0.988</td><td>--</td><td>--</td><td>13.262117</td><td>0.961862</td><td>13.648018</td><td>12.686156</td><td>--</td><td>--</td><td>2459.89844000</td><td>2592.30542000</td><td>93346.90312</td><td>21.67</td><td>4.745e+04</td><td>60.24</td><td>6.679e+04</td><td>44.71</td><td>--</td><td>--</td><td>0.002767</td><td>0.003112</td><td>0.003849</td><td>0.006961</td><td>339.82166004461,59.00297803329,2525.15747</td><td>-0.21964280891418442</td><td>0.16017851924896243</td><td>0.110979155</td><td>0.110979155</td><td>--</td><td>--</td><td>0</td></tr>\n",
       "<tr><td>340.13166575232</td><td>58.80702105155</td><td>0.0325</td><td>0.0335</td><td>14.7229</td><td>--</td><td>--</td><td>2008366363053930112</td><td>2452.92578000</td><td>0.3907</td><td>0.0404</td><td>-2.667</td><td>-1.648</td><td>0.044</td><td>0.042</td><td>2.897</td><td>14207.5</td><td>3.6701</td><td>13.919951</td><td>1.094469</td><td>14.357768</td><td>13.263299</td><td>--</td><td>--</td><td>2208.02368000</td><td>2667.27612000</td><td>50929.10304</td><td>22.21</td><td>2.468e+04</td><td>22.44</td><td>3.925e+04</td><td>18.26</td><td>--</td><td>--</td><td>0.002796</td><td>0.00296</td><td>0.003813</td><td>0.006773</td><td>340.13166575232,58.80702105155,2452.92578</td><td>0.06635719108581561</td><td>0.2361785192489625</td><td>0.14297915</td><td>0.14097916</td><td>--</td><td>--</td><td>0</td></tr>\n",
       "<tr><td>340.05588361488</td><td>58.81770320410</td><td>0.0127</td><td>0.0133</td><td>12.9026</td><td>--</td><td>--</td><td>2008366981529199616</td><td>2631.17554000</td><td>0.3528</td><td>0.0158</td><td>-2.707</td><td>-2.076</td><td>0.017</td><td>0.016</td><td>1.080</td><td>9669.0</td><td>3.6676</td><td>14.161031</td><td>0.952089</td><td>14.543823</td><td>13.591734</td><td>--</td><td>--</td><td>2517.38721000</td><td>2756.26270000</td><td>40788.17956</td><td>8.078</td><td>2.079e+04</td><td>16.83</td><td>2.9e+04</td><td>14.29</td><td>--</td><td>--</td><td>0.002764</td><td>0.002925</td><td>0.003817</td><td>0.006742</td><td>340.05588361488,58.8177032041,2631.17554</td><td>0.02635719108581558</td><td>-0.19182148075103767</td><td>0.11597915</td><td>0.114979155</td><td>--</td><td>--</td><td>0</td></tr>\n",
       "<tr><td>339.84074866849</td><td>59.00514934930</td><td>0.0134</td><td>0.0139</td><td>0.2851</td><td>--</td><td>--</td><td>2008383302404812544</td><td>2604.80005000</td><td>0.3569</td><td>0.0163</td><td>-2.626</td><td>-1.913</td><td>0.018</td><td>0.017</td><td>1.124</td><td>11638.8</td><td>3.8049</td><td>14.199184</td><td>1.058014</td><td>14.629308</td><td>13.571294</td><td>--</td><td>--</td><td>2466.69116000</td><td>2720.19312000</td><td>39379.74224</td><td>11.71</td><td>1.922e+04</td><td>51.21</td><td>2.956e+04</td><td>27.21</td><td>--</td><td>--</td><td>0.002774</td><td>0.00402</td><td>0.003909</td><td>0.007929</td><td>339.84074866849,59.0051493493,2604.80005</td><td>0.10735719108581554</td><td>-0.02882148075103763</td><td>0.11697915</td><td>0.11597915</td><td>--</td><td>--</td><td>0</td></tr>\n",
       "<tr><td>339.85983016055</td><td>59.00845000045</td><td>0.0134</td><td>0.0137</td><td>0.3836</td><td>--</td><td>--</td><td>2008384779873564032</td><td>2623.42310000</td><td>0.3563</td><td>0.0168</td><td>-2.780</td><td>-1.834</td><td>0.017</td><td>0.016</td><td>1.021</td><td>10857.5</td><td>3.8294</td><td>14.490845</td><td>1.049156</td><td>14.918883</td><td>13.869727</td><td>--</td><td>--</td><td>2502.20532000</td><td>2719.62866000</td><td>30102.94455</td><td>6.87</td><td>1.472e+04</td><td>15.67</td><td>2.245e+04</td><td>17.55</td><td>--</td><td>--</td><td>0.002766</td><td>0.00302</td><td>0.003874</td><td>0.006894</td><td>339.85983016055,59.00845000045,2623.4231</td><td>-0.046642808914184375</td><td>0.05017851924896233</td><td>0.11597915</td><td>0.114979155</td><td>--</td><td>--</td><td>0</td></tr>\n",
       "<tr><td>339.76936809268</td><td>58.98330151380</td><td>0.0146</td><td>0.0149</td><td>2.7984</td><td>--</td><td>--</td><td>2008430066010153216</td><td>2691.21167000</td><td>0.3452</td><td>0.0179</td><td>-2.744</td><td>-1.877</td><td>0.018</td><td>0.017</td><td>1.106</td><td>10748.6</td><td>3.8311</td><td>14.639523</td><td>1.056804</td><td>15.072841</td><td>14.016037</td><td>--</td><td>--</td><td>2552.40112000</td><td>2831.95532000</td><td>26250.49507</td><td>6.071</td><td>1.277e+04</td><td>12.93</td><td>1.962e+04</td><td>16.58</td><td>--</td><td>--</td><td>0.002767</td><td>0.002999</td><td>0.003889</td><td>0.006888</td><td>339.76936809268,58.9833015138,2691.21167</td><td>-0.010642808914184787</td><td>0.007178519248962401</td><td>0.11697915</td><td>0.11597915</td><td>--</td><td>--</td><td>0</td></tr>\n",
       "<tr><td>...</td><td>...</td><td>...</td><td>...</td><td>...</td><td>...</td><td>...</td><td>...</td><td>...</td><td>...</td><td>...</td><td>...</td><td>...</td><td>...</td><td>...</td><td>...</td><td>...</td><td>...</td><td>...</td><td>...</td><td>...</td><td>...</td><td>...</td><td>...</td><td>...</td><td>...</td><td>...</td><td>...</td><td>...</td><td>...</td><td>...</td><td>...</td><td>...</td><td>...</td><td>...</td><td>...</td><td>...</td><td>...</td><td>...</td><td>...</td><td>...</td><td>...</td><td>...</td><td>...</td><td>...</td><td>...</td></tr>\n",
       "<tr><td>339.92286074161</td><td>58.97301166996</td><td>0.0299</td><td>0.0297</td><td>2.9458</td><td>--</td><td>--</td><td>2008383714721700608</td><td>2675.56885000</td><td>0.3591</td><td>0.0366</td><td>-2.686</td><td>-1.880</td><td>0.038</td><td>0.036</td><td>0.942</td><td>9345.7</td><td>4.1848</td><td>16.343288</td><td>1.220734</td><td>16.867773</td><td>15.647039</td><td>--</td><td>--</td><td>2442.18164000</td><td>3020.75171000</td><td>5465.52188</td><td>2.218</td><td>2445</td><td>7.587</td><td>4369</td><td>10.57</td><td>--</td><td>--</td><td>0.00279</td><td>0.004374</td><td>0.004603</td><td>0.008977</td><td>339.92286074161,58.97301166996,2675.56885</td><td>0.04735719108581549</td><td>0.004178519248962509</td><td>0.13697915</td><td>0.13497916</td><td>--</td><td>--</td><td>0</td></tr>\n",
       "<tr><td>339.58227837535</td><td>58.80405897944</td><td>0.0310</td><td>0.0312</td><td>14.6140</td><td>--</td><td>--</td><td>2008357395161651200</td><td>2411.36353000</td><td>0.3995</td><td>0.0372</td><td>-2.848</td><td>-1.817</td><td>0.040</td><td>0.038</td><td>1.045</td><td>9322.2</td><td>3.9696</td><td>16.421066</td><td>1.388904</td><td>17.034280</td><td>15.645377</td><td>--</td><td>--</td><td>2205.45459000</td><td>2617.88306000</td><td>5087.68681</td><td>2.218</td><td>2098</td><td>11.34</td><td>4375</td><td>11.25</td><td>--</td><td>--</td><td>0.002796</td><td>0.006501</td><td>0.004699</td><td>0.0112</td><td>339.58227837535,58.80405897944,2411.36353</td><td>-0.11464280891418444</td><td>0.06717851924896245</td><td>0.13897915</td><td>0.13697915</td><td>--</td><td>--</td><td>0</td></tr>\n",
       "<tr><td>339.93071432537</td><td>58.94159280659</td><td>0.0316</td><td>0.0346</td><td>4.5319</td><td>--</td><td>--</td><td>2008383371124331392</td><td>2677.11230000</td><td>0.3577</td><td>0.0396</td><td>-2.785</td><td>-2.417</td><td>0.040</td><td>0.043</td><td>1.062</td><td>9103.2</td><td>4.4437</td><td>16.423435</td><td>1.527203</td><td>17.122362</td><td>15.595160</td><td>--</td><td>--</td><td>2412.26343000</td><td>3045.22168000</td><td>5076.59522</td><td>2.445</td><td>1934</td><td>8.381</td><td>4582</td><td>10.55</td><td>--</td><td>--</td><td>0.002804</td><td>0.00547</td><td>0.004531</td><td>0.01</td><td>339.93071432537,58.94159280659,2677.1123</td><td>-0.05164280891418471</td><td>-0.5328214807510374</td><td>0.13897915</td><td>0.14197916</td><td>--</td><td>--</td><td>0</td></tr>\n",
       "<tr><td>339.77698343862</td><td>58.97765419629</td><td>0.0353</td><td>0.0331</td><td>2.7743</td><td>--</td><td>--</td><td>2008383164965858048</td><td>2514.85254000</td><td>0.3689</td><td>0.0412</td><td>-2.761</td><td>-1.964</td><td>0.042</td><td>0.040</td><td>1.000</td><td>--</td><td>--</td><td>16.485056</td><td>1.357075</td><td>17.081070</td><td>15.723995</td><td>--</td><td>--</td><td>2319.07178000</td><td>2747.70190000</td><td>4796.49942</td><td>2.341</td><td>2009</td><td>8.815</td><td>4070</td><td>8.924</td><td>--</td><td>--</td><td>0.002806</td><td>0.005521</td><td>0.004467</td><td>0.009988</td><td>339.77698343862,58.97765419629,2514.85254</td><td>-0.02764280891418469</td><td>-0.07982148075103757</td><td>0.14097916</td><td>0.13897915</td><td>--</td><td>--</td><td>0</td></tr>\n",
       "<tr><td>339.94181500545</td><td>58.99061605625</td><td>0.0491</td><td>0.0465</td><td>2.9616</td><td>--</td><td>--</td><td>2008383817801137536</td><td>2388.22827000</td><td>0.3883</td><td>0.0580</td><td>-2.084</td><td>-1.900</td><td>0.063</td><td>0.057</td><td>1.333</td><td>8272.3</td><td>3.8918</td><td>16.524965</td><td>2.438679</td><td>17.779032</td><td>15.340353</td><td>--</td><td>--</td><td>2074.16406000</td><td>2752.17456000</td><td>4623.38933</td><td>3.825</td><td>1056</td><td>9.539</td><td>5794</td><td>13.36</td><td>--</td><td>--</td><td>0.002898</td><td>0.01019</td><td>0.004533</td><td>0.01473</td><td>339.94181500545,58.99061605625,2388.22827</td><td>0.6493571910858154</td><td>-0.01582148075103751</td><td>0.16197915</td><td>0.15597916</td><td>--</td><td>--</td><td>0</td></tr>\n",
       "<tr><td>339.79858894598</td><td>59.07098419486</td><td>0.0375</td><td>0.0354</td><td>4.2863</td><td>--</td><td>--</td><td>2008431406040229504</td><td>2720.41211000</td><td>0.3471</td><td>0.0444</td><td>-2.685</td><td>-1.875</td><td>0.048</td><td>0.043</td><td>1.030</td><td>9384.1</td><td>4.1352</td><td>16.564386</td><td>1.341292</td><td>17.159258</td><td>15.817965</td><td>--</td><td>--</td><td>2373.51221000</td><td>3028.24536000</td><td>4458.53778</td><td>2.469</td><td>1869</td><td>11.03</td><td>3732</td><td>8.527</td><td>--</td><td>--</td><td>0.00282</td><td>0.006986</td><td>0.004521</td><td>0.01151</td><td>339.79858894598,59.07098419486,2720.41211</td><td>0.048357191085815376</td><td>0.009178519248962402</td><td>0.14697915</td><td>0.14197916</td><td>--</td><td>--</td><td>0</td></tr>\n",
       "<tr><td>339.67022813712</td><td>58.97972892474</td><td>0.0360</td><td>0.0331</td><td>5.7510</td><td>--</td><td>--</td><td>2008429894211447552</td><td>2625.85767000</td><td>0.3637</td><td>0.0427</td><td>-2.811</td><td>-1.949</td><td>0.045</td><td>0.040</td><td>0.992</td><td>9363.0</td><td>4.2629</td><td>16.611607</td><td>1.392567</td><td>17.239239</td><td>15.846672</td><td>--</td><td>--</td><td>2397.26025000</td><td>2985.27515000</td><td>4268.78446</td><td>2.09</td><td>1737</td><td>9.744</td><td>3635</td><td>10.53</td><td>--</td><td>--</td><td>0.002806</td><td>0.0067</td><td>0.004917</td><td>0.01162</td><td>339.67022813712,58.97972892474,2625.85767</td><td>-0.07764280891418451</td><td>-0.06482148075103766</td><td>0.14397916</td><td>0.13897915</td><td>--</td><td>--</td><td>0</td></tr>\n",
       "<tr><td>340.11923251631</td><td>58.89814924827</td><td>0.0374</td><td>0.0387</td><td>10.5004</td><td>--</td><td>--</td><td>2008379522833934208</td><td>2548.96289000</td><td>0.3729</td><td>0.0452</td><td>-3.475</td><td>-1.599</td><td>0.049</td><td>0.049</td><td>1.007</td><td>6767.0</td><td>4.2142</td><td>16.774946</td><td>1.808585</td><td>17.656069</td><td>15.847484</td><td>--</td><td>--</td><td>2310.42627000</td><td>2840.61963000</td><td>3672.55493</td><td>2.105</td><td>1183</td><td>6.473</td><td>3632</td><td>7.798</td><td>--</td><td>--</td><td>0.002825</td><td>0.006564</td><td>0.00444</td><td>0.011</td><td>340.11923251631,58.89814924827,2548.96289</td><td>-0.7416428089141847</td><td>0.2851785192489624</td><td>0.14797916</td><td>0.14797916</td><td>--</td><td>--</td><td>0</td></tr>\n",
       "<tr><td>339.89113584822</td><td>59.19997802402</td><td>0.0451</td><td>0.0420</td><td>11.7910</td><td>--</td><td>--</td><td>2008436937958054144</td><td>2454.47168000</td><td>0.3797</td><td>0.0521</td><td>-1.997</td><td>-2.403</td><td>0.056</td><td>0.054</td><td>1.110</td><td>8104.1</td><td>3.8496</td><td>16.792673</td><td>2.370750</td><td>18.062256</td><td>15.691505</td><td>--</td><td>--</td><td>2163.85107000</td><td>2769.81323000</td><td>3613.08123</td><td>2.021</td><td>813.8</td><td>7.331</td><td>4193</td><td>8.811</td><td>--</td><td>--</td><td>0.002821</td><td>0.01017</td><td>0.004415</td><td>0.01459</td><td>339.89113584822,59.19997802402,2454.47168</td><td>0.7363571910858153</td><td>-0.5188214807510376</td><td>0.15497915</td><td>0.15297915</td><td>--</td><td>--</td><td>0</td></tr>\n",
       "<tr><td>339.74185866879</td><td>59.14445688095</td><td>0.0520</td><td>0.0418</td><td>9.0285</td><td>--</td><td>--</td><td>2008434979452958336</td><td>2473.46582000</td><td>0.3805</td><td>0.0525</td><td>-3.084</td><td>-2.172</td><td>0.076</td><td>0.058</td><td>1.048</td><td>--</td><td>--</td><td>16.878960</td><td>--</td><td>--</td><td>--</td><td>--</td><td>--</td><td>2187.05225000</td><td>2811.58301000</td><td>3337.05300</td><td>2.558</td><td>--</td><td>--</td><td>--</td><td>--</td><td>--</td><td>--</td><td>0.002878</td><td>--</td><td>--</td><td>--</td><td>339.74185866879,59.14445688095,2473.46582</td><td>-0.35064280891418464</td><td>-0.28782148075103775</td><td>0.17497915</td><td>0.15697914</td><td>--</td><td>--</td><td>0</td></tr>\n",
       "</table></div>"
      ],
      "text/plain": [
       "<Table length=39>\n",
       "   RA_ICRS_1       DE_ICRS_1    e_RA_ICRS ...   rRV    e_rRV  Temp. Est\n",
       "      deg             deg          mas    ...  km / s  km / s          \n",
       "    float64         float64      float64  ... float64 float32   int64  \n",
       "--------------- --------------- --------- ... ------- ------- ---------\n",
       "339.84392032630  59.00715291679    0.0293 ...      --      --         0\n",
       "339.82384023875  59.01681945374    0.0097 ...      --      --         0\n",
       "340.10268328507  58.97390297864    0.0097 ...      --      --         0\n",
       "339.82166004461  59.00297803329    0.0089 ...      --      --         0\n",
       "340.13166575232  58.80702105155    0.0325 ...      --      --         0\n",
       "340.05588361488  58.81770320410    0.0127 ...      --      --         0\n",
       "339.84074866849  59.00514934930    0.0134 ...      --      --         0\n",
       "339.85983016055  59.00845000045    0.0134 ...      --      --         0\n",
       "339.76936809268  58.98330151380    0.0146 ...      --      --         0\n",
       "            ...             ...       ... ...     ...     ...       ...\n",
       "339.92286074161  58.97301166996    0.0299 ...      --      --         0\n",
       "339.58227837535  58.80405897944    0.0310 ...      --      --         0\n",
       "339.93071432537  58.94159280659    0.0316 ...      --      --         0\n",
       "339.77698343862  58.97765419629    0.0353 ...      --      --         0\n",
       "339.94181500545  58.99061605625    0.0491 ...      --      --         0\n",
       "339.79858894598  59.07098419486    0.0375 ...      --      --         0\n",
       "339.67022813712  58.97972892474    0.0360 ...      --      --         0\n",
       "340.11923251631  58.89814924827    0.0374 ...      --      --         0\n",
       "339.89113584822  59.19997802402    0.0451 ...      --      --         0\n",
       "339.74185866879  59.14445688095    0.0520 ...      --      --         0"
      ]
     },
     "execution_count": 45,
     "metadata": {},
     "output_type": "execute_result"
    }
   ],
   "source": [
    "cir"
   ]
  },
  {
   "cell_type": "code",
   "execution_count": 36,
   "metadata": {},
   "outputs": [],
   "source": [
    "%run runaway_functionsv3\n",
    "%matplotlib qt\n",
    "cl = Cluster(\"Berkeley_97\")\n",
    "cld = ClusterDias(\"Berkeley_97\")\n",
    "isochrone1 = Isochrone(cld)\n",
    "isochrone2 = Isochrone(cl, Av=3, logage=7)\n",
    "plot_cmd(cl, isochrones=[isochrone1,isochrone2])\n",
    "# plot_cmd(cld)\n",
    "\n"
   ]
  },
  {
   "cell_type": "code",
   "execution_count": 48,
   "metadata": {},
   "outputs": [
    {
     "name": "stdout",
     "output_type": "stream",
     "text": [
      "gaia dr3 2008384504995669248 <class 'str'>\n"
     ]
    },
    {
     "data": {
      "text/html": [
       "<div><i>Table length=1</i>\n",
       "<table id=\"table127543557605072\" class=\"table-striped table-bordered table-condensed\">\n",
       "<thead><tr><th>MAIN_ID</th><th>RA</th><th>DEC</th><th>RA_PREC</th><th>DEC_PREC</th><th>COO_ERR_MAJA</th><th>COO_ERR_MINA</th><th>COO_ERR_ANGLE</th><th>COO_QUAL</th><th>COO_WAVELENGTH</th><th>COO_BIBCODE</th><th>SCRIPT_NUMBER_ID</th></tr></thead>\n",
       "<thead><tr><th></th><th>&quot;h:m:s&quot;</th><th>&quot;d:m:s&quot;</th><th></th><th></th><th>mas</th><th>mas</th><th>deg</th><th></th><th></th><th></th><th></th></tr></thead>\n",
       "<thead><tr><th>object</th><th>str13</th><th>str13</th><th>int16</th><th>int16</th><th>float32</th><th>float32</th><th>int16</th><th>str1</th><th>str1</th><th>object</th><th>int32</th></tr></thead>\n",
       "<tr><td>HD 240016</td><td>22 39 22.5468</td><td>+59 00 25.787</td><td>14</td><td>14</td><td>0.029</td><td>0.031</td><td>90</td><td>A</td><td>O</td><td>2020yCat.1350....0G</td><td>1</td></tr>\n",
       "</table></div>"
      ],
      "text/plain": [
       "<Table length=1>\n",
       " MAIN_ID        RA           DEC      ...     COO_BIBCODE     SCRIPT_NUMBER_ID\n",
       "             \"h:m:s\"       \"d:m:s\"    ...                                     \n",
       "  object      str13         str13     ...        object            int32      \n",
       "--------- ------------- ------------- ... ------------------- ----------------\n",
       "HD 240016 22 39 22.5468 +59 00 25.787 ... 2020yCat.1350....0G                1"
      ]
     },
     "execution_count": 48,
     "metadata": {},
     "output_type": "execute_result"
    }
   ],
   "source": [
    "source = 2008384504995669248\n",
    "object = f\"gaia dr3 {source}\"\n",
    "print(object, type(object))\n",
    "Simbad.query_object(\"gaia dr3 2008383302396655488\")"
   ]
  },
  {
   "cell_type": "code",
   "execution_count": 45,
   "metadata": {},
   "outputs": [
    {
     "data": {
      "text/html": [
       "<div><i>Table length=1</i>\n",
       "<table id=\"table127543545029264\" class=\"table-striped table-bordered table-condensed\">\n",
       "<thead><tr><th>RA_ICRS_1</th><th>DE_ICRS_1</th><th>rgeo</th><th>Teff</th><th>Temp. Est</th><th>e_RA_ICRS</th><th>e_DE_ICRS</th><th>_r_1</th><th>HIP</th><th>TYC2</th><th>Source</th><th>Plx</th><th>e_Plx</th><th>pmRA</th><th>pmDE</th><th>e_pmRA</th><th>e_pmDE</th><th>RUWE</th><th>Gmag</th><th>BP-RP</th><th>BPmag</th><th>RPmag</th><th>b_rgeo</th><th>B_rgeo</th><th>e_Gmag</th><th>e_BPmag</th><th>e_RPmag</th><th>e_BP-RP</th><th>SkyCoord</th><th>rmRA</th><th>rmDE</th><th>v_pec</th><th>logg</th><th>RV</th><th>e_RV</th><th>FG</th><th>e_FG</th><th>FBP</th><th>e_FBP</th><th>FRP</th><th>e_FRP</th><th>RAVE5</th><th>RAVE6</th></tr></thead>\n",
       "<thead><tr><th>deg</th><th>deg</th><th>pc</th><th>K</th><th>K</th><th>mas</th><th>mas</th><th></th><th></th><th></th><th></th><th>mas</th><th>mas</th><th>mas / yr</th><th>mas / yr</th><th>mas / yr</th><th>mas / yr</th><th></th><th>mag</th><th>mag</th><th>mag</th><th>mag</th><th>pc</th><th>pc</th><th></th><th></th><th></th><th></th><th>deg,deg,pc</th><th>mas / yr</th><th>mas / yr</th><th>km / s</th><th>log(cm.s**-2)</th><th>km / s</th><th>km / s</th><th></th><th></th><th></th><th></th><th></th><th></th><th></th><th></th></tr></thead>\n",
       "<thead><tr><th>float64</th><th>float64</th><th>float64</th><th>float64</th><th>float64</th><th>float64</th><th>float64</th><th>float64</th><th>int32</th><th>str11</th><th>int64</th><th>float64</th><th>float32</th><th>float64</th><th>float64</th><th>float32</th><th>float32</th><th>float64</th><th>float64</th><th>float64</th><th>float64</th><th>float64</th><th>float64</th><th>float64</th><th>float64</th><th>float32</th><th>float32</th><th>float32</th><th>SkyCoord</th><th>float64</th><th>float64</th><th>float64</th><th>float64</th><th>float64</th><th>float32</th><th>float64</th><th>float32</th><th>float32</th><th>float32</th><th>float32</th><th>float32</th><th>str1</th><th>str1</th></tr></thead>\n",
       "<tr><td>339.89581711423</td><td>58.99547917199</td><td>2620.36230000</td><td>9168.0</td><td>10920.0</td><td>0.0202</td><td>0.0197</td><td>1.5205</td><td>--</td><td>--</td><td>2008384504995669248</td><td>0.3560</td><td>0.0241</td><td>-0.379</td><td>-1.352</td><td>0.025</td><td>0.024</td><td>1.086</td><td>15.384143</td><td>1.182070</td><td>15.883185</td><td>14.701116</td><td>2461.53345000</td><td>2759.61401000</td><td>0.00277</td><td>0.003852</td><td>0.004229</td><td>0.008081</td><td>339.89581711423,58.99547917199,2620.3623</td><td>2.3543571910858154</td><td>0.5321785192489623</td><td>29.98008203419036</td><td>3.7061</td><td>--</td><td>--</td><td>13221.76503</td><td>3.482</td><td>6055</td><td>14.81</td><td>1.044e+04</td><td>18.25</td><td>--</td><td>--</td></tr>\n",
       "</table></div>"
      ],
      "text/plain": [
       "<Table length=1>\n",
       "   RA_ICRS_1       DE_ICRS_1          rgeo      ...    e_FRP    RAVE5 RAVE6\n",
       "      deg             deg              pc       ...                        \n",
       "    float64         float64         float64     ...   float32    str1  str1\n",
       "--------------- --------------- --------------- ... ----------- ----- -----\n",
       "339.89581711423  58.99547917199   2620.36230000 ...       18.25    --    --"
      ]
     },
     "execution_count": 45,
     "metadata": {},
     "output_type": "execute_result"
    }
   ],
   "source": [
    "cl.runaways()"
   ]
  },
  {
   "cell_type": "code",
   "execution_count": 44,
   "metadata": {},
   "outputs": [
    {
     "name": "stdout",
     "output_type": "stream",
     "text": [
      "2008384504995669248\n"
     ]
    },
    {
     "name": "stderr",
     "output_type": "stream",
     "text": [
      "/usr/lib/python3/dist-packages/astroquery/simbad/core.py:135: UserWarning: Warning: The script line number 3 raised an error (recorded in the `errors` attribute of the result table): Identifier not found in the database : Gaia DR3 2008384504995669248\n",
      "  warnings.warn(\"Warning: The script line number %i raised \"\n"
     ]
    },
    {
     "ename": "TypeError",
     "evalue": "'NoneType' object is not subscriptable",
     "output_type": "error",
     "traceback": [
      "\u001b[0;31m---------------------------------------------------------------------------\u001b[0m",
      "\u001b[0;31mTypeError\u001b[0m                                 Traceback (most recent call last)",
      "Cell \u001b[0;32mIn[44], line 5\u001b[0m\n\u001b[1;32m      2\u001b[0m source \u001b[38;5;241m=\u001b[39m runaway[\u001b[38;5;124m'\u001b[39m\u001b[38;5;124mSource\u001b[39m\u001b[38;5;124m'\u001b[39m]\n\u001b[1;32m      3\u001b[0m \u001b[38;5;28mprint\u001b[39m(source)\n\u001b[0;32m----> 5\u001b[0m t \u001b[38;5;241m=\u001b[39m \u001b[43mSimbad\u001b[49m\u001b[38;5;241;43m.\u001b[39;49m\u001b[43mquery_object\u001b[49m\u001b[43m(\u001b[49m\u001b[38;5;124;43mf\u001b[39;49m\u001b[38;5;124;43m\"\u001b[39;49m\u001b[38;5;124;43mgaia dr3 \u001b[39;49m\u001b[38;5;132;43;01m{\u001b[39;49;00m\u001b[43msource\u001b[49m\u001b[38;5;132;43;01m}\u001b[39;49;00m\u001b[38;5;124;43m\"\u001b[39;49m\u001b[43m)\u001b[49m\u001b[43m[\u001b[49m\u001b[38;5;124;43m'\u001b[39;49m\u001b[38;5;124;43mMAIN_ID\u001b[39;49m\u001b[38;5;124;43m'\u001b[39;49m\u001b[43m]\u001b[49m\n\u001b[1;32m      6\u001b[0m \u001b[38;5;28mprint\u001b[39m(t)\n",
      "\u001b[0;31mTypeError\u001b[0m: 'NoneType' object is not subscriptable"
     ]
    }
   ],
   "source": [
    "for runaway in cl.runaways():\n",
    "    source = runaway['Source']\n",
    "    print(source)\n",
    "    \n",
    "    t = Simbad.query_object(f\"gaia dr3 {source}\")['MAIN_ID']\n",
    "    print(t)"
   ]
  },
  {
   "cell_type": "code",
   "execution_count": 41,
   "metadata": {},
   "outputs": [
    {
     "name": "stderr",
     "output_type": "stream",
     "text": [
      "/usr/lib/python3/dist-packages/astroquery/simbad/core.py:135: UserWarning: Warning: The script line number 3 raised an error (recorded in the `errors` attribute of the result table): Identifier not found in the database : Gaia DR3 2008384504995669248\n",
      "  warnings.warn(\"Warning: The script line number %i raised \"\n"
     ]
    }
   ],
   "source": [
    "from astroquery.simbad import Simbad\n",
    "t = Simbad.query_object(\"gaia dr3 2008384504995669248\")\n",
    "t"
   ]
  },
  {
   "cell_type": "code",
   "execution_count": 13,
   "metadata": {},
   "outputs": [],
   "source": [
    "dias2021 = Table.read(\"dias2021.tsv\", format=\"ascii.ecsv\")\n",
    "maskplx = dias2021['Plx'] > 0.3\n",
    "maskage = dias2021['logage'] < 7.7\n",
    "workclusters = []\n",
    "for clustername in dias2021[maskplx & maskage][:]['Cluster']:\n",
    "    if clustername not in ['ASCC_79','BH_164','BH_23','Collinder_135','Collinder_140','Gulliver_9','IC_2391','IC_2602','Mamajek_1','Platais_8','UPK_535','UPK_606','UPK_640','Berkeley_59','COIN-Gaia_37','Ivanov_4','LP_1937','Sigma_Ori','UBC_632']:\n",
    "        workclusters.append(clustername)\n",
    "        # print(clustername)\n",
    "        # cl = Cluster(clustername)\n",
    "        # cl.prepare_trace()\n",
    "# cl.stars_in_region()\n",
    "# cl.stars_in_region()"
   ]
  },
  {
   "cell_type": "code",
   "execution_count": null,
   "metadata": {},
   "outputs": [],
   "source": [
    "workclusters_mask = [cluster in workclusters for cluster in dias2021['Cluster']]\n",
    "workclusterstable = dias2021[workclusters_mask]\n",
    "\n",
    "rvexists = workclusterstable['RV'].mask\n",
    "nrvgood = workclusterstable['NRV'] > 4\n",
    "\n",
    "workclusterstable[~rvexists & nrvgood]"
   ]
  },
  {
   "cell_type": "code",
   "execution_count": null,
   "metadata": {},
   "outputs": [],
   "source": [
    "def runaways_from(clustername):\n",
    "    cl = Cluster(clustername)\n",
    "    fs4giesler = cl.fast_stars_in_region()\n",
    "    outputs = os.listdir(f\"/home/surodeep/suro_aiu/traceback/cluster_runaway/{cl.name}/runaways/\")\n",
    "    linenos = []\n",
    "    for output in outputs:\n",
    "        #print(output)\n",
    "        if 'run' in output:\n",
    "            linenos.append(int(output.split(\"+\")[1].replace(\".out\",\"\")))\n",
    "    linenos.sort()\n",
    "    # print(linenos)\n",
    "    i=np.array(linenos)-3\n",
    "    def source_of(lineno, input_table):\n",
    "        return input_table[lineno-2]['Source']\n",
    "    return fs4giesler[i]\n",
    "for cluster in workclusters:\n",
    "    t = runaways_from(cluster)[runaways_from(cluster)['Teff'].argmax()]['Teff']\n",
    "    \n",
    "    if t>10000:\n",
    "        print(cluster, t,runaways_from(cluster)[runaways_from(cluster)['Teff'].argmax()]['Source'])"
   ]
  }
 ],
 "metadata": {
  "kernelspec": {
   "display_name": "Python 3",
   "language": "python",
   "name": "python3"
  },
  "language_info": {
   "codemirror_mode": {
    "name": "ipython",
    "version": 3
   },
   "file_extension": ".py",
   "mimetype": "text/x-python",
   "name": "python",
   "nbconvert_exporter": "python",
   "pygments_lexer": "ipython3",
   "version": "3.11.6"
  }
 },
 "nbformat": 4,
 "nbformat_minor": 2
}
