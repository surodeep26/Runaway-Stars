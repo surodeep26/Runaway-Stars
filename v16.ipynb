{
 "cells": [
  {
   "cell_type": "code",
   "execution_count": 5,
   "metadata": {},
   "outputs": [],
   "source": [
    "%run runaway_functionsv3\n",
    "%matplotlib qt\n",
    "cl = Cluster('Alessi_Teutsch_5')\n",
    "# print(latex_text(cl))"
   ]
  },
  {
   "cell_type": "code",
   "execution_count": 6,
   "metadata": {},
   "outputs": [
    {
     "data": {
      "text/html": [
       "<i>Row index=137</i>\n",
       "<table id=\"table129359284631312\">\n",
       "<thead><tr><th>Mass</th><th>Teff0</th><th>BP-RP</th><th>Gmag</th><th>G_BP</th><th>G_RP</th><th>logg</th><th>logAge</th><th>logL</th><th>logTe</th><th>Mini</th><th>Gmag0</th></tr></thead>\n",
       "<thead><tr><th>float64</th><th>float64</th><th>float64</th><th>float64</th><th>float64</th><th>float64</th><th>float64</th><th>float64</th><th>float64</th><th>float64</th><th>float64</th><th>float64</th></tr></thead>\n",
       "<tr><td>2.397</td><td>11060.0</td><td>0.47399999999999975</td><td>12.028413418687531</td><td>12.307413418687531</td><td>11.833413418687531</td><td>4.38</td><td>7.07</td><td>1.565</td><td>4.0437</td><td>2.3979439735</td><td>2.331</td></tr>\n",
       "</table>"
      ],
      "text/plain": [
       "<Row index=137>\n",
       "  Mass   Teff0         BP-RP               Gmag               G_BP               G_RP          logg   logAge   logL   logTe      Mini      Gmag0 \n",
       "float64 float64       float64            float64            float64            float64       float64 float64 float64 float64   float64    float64\n",
       "------- ------- ------------------- ------------------ ------------------ ------------------ ------- ------- ------- ------- ------------ -------\n",
       "  2.397 11060.0 0.47399999999999975 12.028413418687531 12.307413418687531 11.833413418687531    4.38    7.07   1.565  4.0437 2.3979439735   2.331"
      ]
     },
     "metadata": {},
     "output_type": "display_data"
    },
    {
     "data": {
      "text/html": [
       "<div><i>Table length=1</i>\n",
       "<table id=\"table129359309709200\" class=\"table-striped table-bordered table-condensed\">\n",
       "<thead><tr><th>Name</th><th>RA_ICRS_1</th><th>DE_ICRS_1</th><th>rgeo</th><th>b_rgeo</th><th>B_rgeo</th><th>Teff</th><th>Temp. Est</th><th>v_pec</th><th>e_v_pec</th><th>v_pec3d</th><th>HIP</th><th>TYC2</th><th>Source</th><th>Plx</th><th>e_Plx</th><th>pmRA</th><th>pmDE</th><th>e_pmRA</th><th>e_pmDE</th><th>RUWE</th><th>Gmag</th><th>BP-RP</th><th>BPmag</th><th>RPmag</th><th>e_Gmag</th><th>e_BPmag</th><th>e_RPmag</th><th>e_BP-RP</th><th>SkyCoord</th><th>rmRA</th><th>e_rmRA</th><th>rmDE</th><th>e_rmDE</th><th>logg</th><th>RV</th><th>e_RV</th><th>rRV</th><th>e_rRV</th><th>FG</th><th>e_FG</th><th>FBP</th><th>e_FBP</th><th>FRP</th><th>e_FRP</th><th>RAVE5</th><th>RAVE6</th></tr></thead>\n",
       "<thead><tr><th></th><th>deg</th><th>deg</th><th>pc</th><th>pc</th><th>pc</th><th>K</th><th>K</th><th>km / s</th><th>km / s</th><th>km / s</th><th></th><th></th><th></th><th>mas</th><th>mas</th><th>mas / yr</th><th>mas / yr</th><th>mas / yr</th><th>mas / yr</th><th></th><th>mag</th><th>mag</th><th>mag</th><th>mag</th><th></th><th></th><th></th><th></th><th>deg,deg,pc</th><th>mas / yr</th><th>mas / yr</th><th>mas / yr</th><th>mas / yr</th><th>log(cm.s**-2)</th><th>km / s</th><th>km / s</th><th>km / s</th><th>km / s</th><th></th><th></th><th></th><th></th><th></th><th></th><th></th><th></th></tr></thead>\n",
       "<thead><tr><th>str28</th><th>float64</th><th>float64</th><th>float64</th><th>float64</th><th>float64</th><th>float64</th><th>float64</th><th>float64</th><th>float64</th><th>float64</th><th>int32</th><th>str11</th><th>int64</th><th>float64</th><th>float32</th><th>float64</th><th>float64</th><th>float32</th><th>float32</th><th>float64</th><th>float64</th><th>float64</th><th>float64</th><th>float64</th><th>float64</th><th>float32</th><th>float32</th><th>float32</th><th>SkyCoord</th><th>float64</th><th>float32</th><th>float64</th><th>float32</th><th>float64</th><th>float64</th><th>float32</th><th>float64</th><th>float32</th><th>float64</th><th>float32</th><th>float32</th><th>float32</th><th>float32</th><th>float32</th><th>str1</th><th>str1</th></tr></thead>\n",
       "<tr><td>Gaia DR3 2203047987818327936</td><td>331.44191766530</td><td>60.41928497013</td><td>828.91674800</td><td>816.44787600</td><td>840.95831300</td><td>11066.8</td><td>11060.0</td><td>61.90181727275718</td><td>2.4882423261991082</td><td>63.26</td><td>--</td><td>--</td><td>2203047987818327936</td><td>1.1853</td><td>0.0174</td><td>-14.690</td><td>-12.713</td><td>0.023</td><td>0.019</td><td>1.068</td><td>12.138815</td><td>0.475061</td><td>12.314358</td><td>11.839296</td><td>0.002764</td><td>0.002868</td><td>0.003791</td><td>0.006658</td><td>331.4419176653,60.41928497013,828.916748</td><td>-12.638</td><td>0.402</td><td>-9.407</td><td>0.398</td><td>4.3845</td><td>-36.54</td><td>29.69</td><td>-13.05</td><td>40.83</td><td>262676.24215</td><td>53.52</td><td>1.621e+05</td><td>98.77</td><td>1.457e+05</td><td>39.61</td><td>--</td><td>--</td></tr>\n",
       "</table></div>"
      ],
      "text/plain": [
       "<Table length=1>\n",
       "            Name                RA_ICRS_1       DE_ICRS_1    ... RAVE5 RAVE6\n",
       "                                   deg             deg       ...            \n",
       "           str28                 float64         float64     ...  str1  str1\n",
       "---------------------------- --------------- --------------- ... ----- -----\n",
       "Gaia DR3 2203047987818327936 331.44191766530  60.41928497013 ...    --    --"
      ]
     },
     "execution_count": 6,
     "metadata": {},
     "output_type": "execute_result"
    }
   ],
   "source": [
    "cl.Star(2203047987818327936, get_similar=1)"
   ]
  },
  {
   "cell_type": "code",
   "execution_count": 9,
   "metadata": {},
   "outputs": [
    {
     "data": {
      "text/plain": [
       "1.5649999994110377"
      ]
     },
     "execution_count": 9,
     "metadata": {},
     "output_type": "execute_result"
    }
   ],
   "source": [
    "np.log10(36.72823)"
   ]
  },
  {
   "cell_type": "code",
   "execution_count": 99,
   "metadata": {},
   "outputs": [
    {
     "data": {
      "text/plain": [
       "36.72823004980846"
      ]
     },
     "execution_count": 99,
     "metadata": {},
     "output_type": "execute_result"
    }
   ],
   "source": [
    "10**1.565"
   ]
  },
  {
   "cell_type": "code",
   "execution_count": 10,
   "metadata": {},
   "outputs": [],
   "source": [
    "plot_cmd = cl.plot_cmd()"
   ]
  },
  {
   "cell_type": "code",
   "execution_count": 11,
   "metadata": {},
   "outputs": [],
   "source": [
    "show_annotation_manager(plot_cmd)"
   ]
  },
  {
   "cell_type": "code",
   "execution_count": 83,
   "metadata": {},
   "outputs": [
    {
     "name": "stdout",
     "output_type": "stream",
     "text": [
      "\\begin{table}[h]\n",
      "\\fontsize{9pt}{11pt}\\selectfont\n",
      "\\caption{Kinematics of Alessi Teutsch 5 compared to its runaway\\label{tab:Alessi_Teutsch_5_kinematics}}\n",
      "\\resizebox{\\textwidth}{!}{\\begin{tabular}{cccccccc}\n",
      "\\toprule\n",
      "Name & $\\alpha$ & $\\delta$ & d & $\\mu_{\\alpha}^*$ & $\\mu_{\\delta}$ & $v_r$ & $v_\\text{trans}$ \\\\\n",
      " & $\\mathrm{{}^{\\circ}}$ & $\\mathrm{{}^{\\circ}}$ & $\\mathrm{pc}$ & $\\mathrm{mas\\,yr^{-1}}$ & $\\mathrm{mas\\,yr^{-1}}$ & $\\mathrm{km\\,s^{-1}}$ & $\\mathrm{km\\,s^{-1}}$ \\\\\n",
      "\\midrule\n",
      "Alessi Teutsch 5 & 332.274 & 61.096 & $869\\pm31$ & $-2.1\\pm0.4$ & $-3.3\\pm0.4$ & $-23.5\\pm11.1$ &  \\\\\n",
      "2203047987818327936 & 331.442 & 60.419 & $829\\pm25$ & $-14.7\\pm0.0$ & $-12.7\\pm0.0$ & $-36.5\\pm29.7$ & $61.9\\pm2.5$ \\\\\n",
      "\\bottomrule\n",
      "\\end{tabular}}\n",
      "\\end{table}\n",
      "\n"
     ]
    }
   ],
   "source": [
    "print(generate_kinematics_latex(cl)[0])"
   ]
  },
  {
   "cell_type": "code",
   "execution_count": 87,
   "metadata": {},
   "outputs": [
    {
     "data": {
      "text/plain": [
       "11.748975549395302"
      ]
     },
     "execution_count": 87,
     "metadata": {},
     "output_type": "execute_result"
    }
   ],
   "source": [
    "10**7.07/1e6"
   ]
  },
  {
   "cell_type": "code",
   "execution_count": 85,
   "metadata": {},
   "outputs": [
    {
     "name": "stdout",
     "output_type": "stream",
     "text": [
      "\\begin{table}[h]\n",
      "\\fontsize{11pt}{11pt}\\selectfont\n",
      "\\caption{Selected members of Alessi Teutsch 5\\label{tab:Alessi_Teutsch_5_members}}\n",
      "\\resizebox{\\textwidth}{!}{\\begin{tabular}{cccccc}\n",
      "\\toprule\n",
      "Gaia DR3 Source & $r_{\\text{geo}}$ & $G$ & $\\mu_{\\alpha}^*$ & $\\mu_{\\delta}$ & $G_{\\text{BP}}-G_{\\text{RP}}$ \\\\\n",
      " & pc & mag & mas/yr & mas/yr & mag \\\\\n",
      "\\midrule\n",
      "2203291048603716736 & $879^{+10}_{-11}$ & $9.657\\pm0.003$ & $-2.32\\pm0.02$ & $0.02\\pm0.02$ & $0.209\\pm0.007$ \\\\\n",
      "2203101653418751232 & $869^{+9}_{-8}$ & $10.620\\pm0.003$ & $-1.67\\pm0.01$ & $0.01\\pm0.01$ & $0.453\\pm0.007$ \\\\\n",
      "2203293969181439104 & $876^{+11}_{-11}$ & $10.700\\pm0.003$ & $-1.78\\pm0.01$ & $0.01\\pm0.01$ & $0.325\\pm0.007$ \\\\\n",
      "2203291941956922112 & $915^{+11}_{-11}$ & $11.171\\pm0.003$ & $-1.97\\pm0.02$ & $0.02\\pm0.02$ & $0.338\\pm0.007$ \\\\\n",
      "2203282596107756416 & $820^{+18}_{-18}$ & $11.241\\pm0.003$ & $-1.84\\pm0.03$ & $0.03\\pm0.03$ & $0.428\\pm0.007$ \\\\\n",
      "2203050667876712832 & $786^{+8}_{-9}$ & $11.248\\pm0.003$ & $-2.31\\pm0.02$ & $0.01\\pm0.01$ & $0.500\\pm0.007$ \\\\\n",
      "2203275518000963584 & $894^{+9}_{-8}$ & $11.903\\pm0.003$ & $-2.28\\pm0.01$ & $0.01\\pm0.01$ & $0.509\\pm0.007$ \\\\\n",
      "2203309534142830976 & $865^{+9}_{-10}$ & $12.070\\pm0.003$ & $-2.14\\pm0.01$ & $0.01\\pm0.01$ & $0.437\\pm0.007$ \\\\\n",
      "2203102203174564992 & $858^{+7}_{-6}$ & $12.249\\pm0.003$ & $-1.35\\pm0.01$ & $0.01\\pm0.01$ & $0.698\\pm0.007$ \\\\\n",
      "2203280775041680768 & $882^{+10}_{-7}$ & $12.642\\pm0.003$ & $-1.53\\pm0.01$ & $0.01\\pm0.01$ & $0.665\\pm0.007$ \\\\\n",
      "\\bottomrule\n",
      "\\end{tabular}}\n",
      "\\end{table}\n",
      "\n"
     ]
    }
   ],
   "source": [
    "print(generate_members_latex(cl))\n"
   ]
  },
  {
   "cell_type": "code",
   "execution_count": 10,
   "metadata": {},
   "outputs": [],
   "source": [
    "plot_cmd = cl.plot_cmd()\n",
    "show_annotation_manager(plot_cmd)"
   ]
  },
  {
   "cell_type": "code",
   "execution_count": 48,
   "metadata": {},
   "outputs": [],
   "source": [
    "plot_pm = cl.plot_pm()\n",
    "show_annotation_manager(plot_pm)"
   ]
  },
  {
   "cell_type": "code",
   "execution_count": 6,
   "metadata": {},
   "outputs": [
    {
     "name": "stderr",
     "output_type": "stream",
     "text": [
      "WARNING: MergeConflictWarning: Cannot merge meta key 'null' types <class 'float'> and <class 'float'>, choosing null=nan [astropy.utils.metadata]\n"
     ]
    }
   ],
   "source": [
    "%run runaway_functionsv3\n",
    "%matplotlib qt\n",
    "\n",
    "cl = Cluster('Berkeley_97')\n",
    "plot_traceback_clean = cl.plot_traceback_clean()\n",
    "show_annotation_manager(plot_traceback_clean)"
   ]
  },
  {
   "cell_type": "code",
   "execution_count": 12,
   "metadata": {},
   "outputs": [
    {
     "name": "stdout",
     "output_type": "stream",
     "text": [
      "50pc image downloaded in 8.912921s\n"
     ]
    }
   ],
   "source": [
    "%run runaway_functionsv3\n",
    "%matplotlib qt\n",
    "cl = Cluster('Berkeley_97')\n",
    "plot_traceback_psr = cl.plot_traceback_psr()\n",
    "show_annotation_manager(plot_traceback_psr)\n"
   ]
  },
  {
   "cell_type": "code",
   "execution_count": 4,
   "metadata": {},
   "outputs": [],
   "source": [
    "show_annotation_manager(plot_traceback_psr)\n"
   ]
  }
 ],
 "metadata": {
  "kernelspec": {
   "display_name": "Python 3",
   "language": "python",
   "name": "python3"
  },
  "language_info": {
   "codemirror_mode": {
    "name": "ipython",
    "version": 3
   },
   "file_extension": ".py",
   "mimetype": "text/x-python",
   "name": "python",
   "nbconvert_exporter": "python",
   "pygments_lexer": "ipython3",
   "version": "3.11.6"
  }
 },
 "nbformat": 4,
 "nbformat_minor": 2
}
