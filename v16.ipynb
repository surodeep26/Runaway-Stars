{
 "cells": [
  {
   "cell_type": "code",
   "execution_count": 57,
   "metadata": {},
   "outputs": [],
   "source": [
    "%run runaway_functionsv3\n",
    "cl = Cluster(\"Berkeley_97\")\n",
    "\n",
    "# cl.stars_in_region()\n",
    "# cl.stars_in_region()"
   ]
  },
  {
   "cell_type": "code",
   "execution_count": 58,
   "metadata": {},
   "outputs": [
    {
     "data": {
      "text/html": [
       "<div><i>Table length=259</i>\n",
       "<table id=\"table128755520798096\" class=\"table-striped table-bordered table-condensed\">\n",
       "<thead><tr><th>TypeInput</th><th>RA</th><th>DE</th><th>Plx</th><th>e_Plx</th><th>RV</th><th>e_RV</th><th>RVdist</th><th>pmRA</th><th>e_pmRA</th><th>pmDE</th><th>e_pmDE</th><th>Source</th></tr></thead>\n",
       "<thead><tr><th></th><th></th><th></th><th>mas</th><th>mas</th><th></th><th></th><th></th><th>mas / yr</th><th>mas / yr</th><th>mas / yr</th><th>mas / yr</th><th></th></tr></thead>\n",
       "<thead><tr><th>int64</th><th>str12</th><th>str12</th><th>float64</th><th>float32</th><th>int64</th><th>int64</th><th>int64</th><th>float64</th><th>float32</th><th>float64</th><th>float32</th><th>str21</th></tr></thead>\n",
       "<tr><td>1</td><td>22 39 23.976</td><td>59 00 16.560</td><td>0.36114121</td><td>0.0173</td><td>0</td><td>0</td><td>0</td><td>-2.733</td><td>0.099</td><td>-1.884</td><td>0.099</td><td>Berkeley_97</td></tr>\n",
       "<tr><td>1</td><td>22 39 07.865</td><td>59 04 15.129</td><td>0.38371979</td><td>0.0315</td><td>0</td><td>0</td><td>0</td><td>-3.951</td><td>0.035</td><td>-0.770</td><td>0.034</td><td>2008431406040225664</td></tr>\n",
       "<tr><td>1</td><td>22 40 26.573</td><td>58 55 37.566</td><td>0.39844153</td><td>0.0235</td><td>0</td><td>0</td><td>0</td><td>-5.845</td><td>0.025</td><td>-4.092</td><td>0.027</td><td>2008379900791042048</td></tr>\n",
       "<tr><td>1</td><td>22 38 57.863</td><td>58 50 09.627</td><td>0.38047675</td><td>0.0111</td><td>0</td><td>0</td><td>0</td><td>-4.228</td><td>0.012</td><td>-2.178</td><td>0.012</td><td>2008378212857607680</td></tr>\n",
       "<tr><td>1</td><td>22 37 43.556</td><td>58 57 01.189</td><td>0.42281578</td><td>0.0452</td><td>0</td><td>0</td><td>0</td><td>-0.075</td><td>0.051</td><td>-2.012</td><td>0.046</td><td>2008409862483646080</td></tr>\n",
       "<tr><td>1</td><td>22 39 07.709</td><td>58 52 00.696</td><td>0.46700218</td><td>0.0126</td><td>0</td><td>0</td><td>0</td><td>-5.181</td><td>0.014</td><td>-4.065</td><td>0.013</td><td>2008381309540033024</td></tr>\n",
       "<tr><td>1</td><td>22 37 39.367</td><td>58 59 51.005</td><td>0.45744729</td><td>0.0151</td><td>0</td><td>0</td><td>0</td><td>-5.271</td><td>0.017</td><td>-4.514</td><td>0.016</td><td>2008410201776259968</td></tr>\n",
       "<tr><td>1</td><td>22 38 15.588</td><td>58 59 36.417</td><td>0.34299842</td><td>0.0119</td><td>0</td><td>0</td><td>0</td><td>-4.332</td><td>0.013</td><td>-3.729</td><td>0.013</td><td>2008407491661705216</td></tr>\n",
       "<tr><td>1</td><td>22 39 38.492</td><td>58 53 06.926</td><td>0.45486134</td><td>0.0105</td><td>0</td><td>0</td><td>0</td><td>-2.936</td><td>0.011</td><td>-5.070</td><td>0.011</td><td>2008378625176070272</td></tr>\n",
       "<tr><td>...</td><td>...</td><td>...</td><td>...</td><td>...</td><td>...</td><td>...</td><td>...</td><td>...</td><td>...</td><td>...</td><td>...</td><td>...</td></tr>\n",
       "<tr><td>1</td><td>22 40 37.744</td><td>59 12 19.411</td><td>0.48192618</td><td>0.0538</td><td>0</td><td>0</td><td>0</td><td>-4.348</td><td>0.058</td><td>-3.365</td><td>0.056</td><td>2008439205700851840</td></tr>\n",
       "<tr><td>1</td><td>22 39 38.685</td><td>58 53 37.426</td><td>0.37794018</td><td>0.0496</td><td>0</td><td>0</td><td>0</td><td>-4.357</td><td>0.051</td><td>0.809</td><td>0.052</td><td>2008378835638877056</td></tr>\n",
       "<tr><td>1</td><td>22 38 56.064</td><td>58 51 14.545</td><td>0.37741339</td><td>0.0476</td><td>0</td><td>0</td><td>0</td><td>-0.069</td><td>0.055</td><td>-1.315</td><td>0.050</td><td>2008381172101075456</td></tr>\n",
       "<tr><td>1</td><td>22 38 50.177</td><td>58 59 14.591</td><td>0.33541535</td><td>0.0519</td><td>0</td><td>0</td><td>0</td><td>-0.410</td><td>0.055</td><td>-1.603</td><td>0.048</td><td>2008429962930927488</td></tr>\n",
       "<tr><td>1</td><td>22 41 03.775</td><td>59 05 09.371</td><td>0.44381417</td><td>0.0560</td><td>0</td><td>0</td><td>0</td><td>-4.856</td><td>0.059</td><td>-2.784</td><td>0.055</td><td>2008390517950147968</td></tr>\n",
       "<tr><td>1</td><td>22 38 19.880</td><td>59 07 18.080</td><td>0.42840725</td><td>0.1840</td><td>0</td><td>0</td><td>0</td><td>-5.698</td><td>0.268</td><td>-0.842</td><td>0.219</td><td>2008435426124887552</td></tr>\n",
       "<tr><td>1</td><td>22 40 51.637</td><td>58 50 57.666</td><td>0.43778677</td><td>0.0517</td><td>0</td><td>0</td><td>0</td><td>-6.782</td><td>0.058</td><td>-4.468</td><td>0.060</td><td>2008366736706369920</td></tr>\n",
       "<tr><td>1</td><td>22 40 13.135</td><td>58 54 50.876</td><td>0.43011493</td><td>0.0507</td><td>0</td><td>0</td><td>0</td><td>0.145</td><td>0.053</td><td>-1.975</td><td>0.055</td><td>2008379827767031680</td></tr>\n",
       "<tr><td>1</td><td>22 38 43.557</td><td>59 04 23.664</td><td>0.47615632</td><td>0.0580</td><td>0</td><td>0</td><td>0</td><td>-4.923</td><td>0.063</td><td>-3.652</td><td>0.056</td><td>2008434459751900928</td></tr>\n",
       "<tr><td>1</td><td>22 38 43.593</td><td>58 45 44.256</td><td>0.38260661</td><td>0.0527</td><td>0</td><td>0</td><td>0</td><td>-1.442</td><td>0.062</td><td>1.341</td><td>0.052</td><td>2008354337144968576</td></tr>\n",
       "</table></div>"
      ],
      "text/plain": [
       "<Table length=259>\n",
       "TypeInput      RA           DE      ...    pmDE    e_pmDE         Source      \n",
       "                                    ...  mas / yr mas / yr                    \n",
       "  int64      str12        str12     ...  float64  float32         str21       \n",
       "--------- ------------ ------------ ... --------- -------- -------------------\n",
       "        1 22 39 23.976 59 00 16.560 ...    -1.884    0.099         Berkeley_97\n",
       "        1 22 39 07.865 59 04 15.129 ...    -0.770    0.034 2008431406040225664\n",
       "        1 22 40 26.573 58 55 37.566 ...    -4.092    0.027 2008379900791042048\n",
       "        1 22 38 57.863 58 50 09.627 ...    -2.178    0.012 2008378212857607680\n",
       "        1 22 37 43.556 58 57 01.189 ...    -2.012    0.046 2008409862483646080\n",
       "        1 22 39 07.709 58 52 00.696 ...    -4.065    0.013 2008381309540033024\n",
       "        1 22 37 39.367 58 59 51.005 ...    -4.514    0.016 2008410201776259968\n",
       "        1 22 38 15.588 58 59 36.417 ...    -3.729    0.013 2008407491661705216\n",
       "        1 22 39 38.492 58 53 06.926 ...    -5.070    0.011 2008378625176070272\n",
       "      ...          ...          ... ...       ...      ...                 ...\n",
       "        1 22 40 37.744 59 12 19.411 ...    -3.365    0.056 2008439205700851840\n",
       "        1 22 39 38.685 58 53 37.426 ...     0.809    0.052 2008378835638877056\n",
       "        1 22 38 56.064 58 51 14.545 ...    -1.315    0.050 2008381172101075456\n",
       "        1 22 38 50.177 58 59 14.591 ...    -1.603    0.048 2008429962930927488\n",
       "        1 22 41 03.775 59 05 09.371 ...    -2.784    0.055 2008390517950147968\n",
       "        1 22 38 19.880 59 07 18.080 ...    -0.842    0.219 2008435426124887552\n",
       "        1 22 40 51.637 58 50 57.666 ...    -4.468    0.060 2008366736706369920\n",
       "        1 22 40 13.135 58 54 50.876 ...    -1.975    0.055 2008379827767031680\n",
       "        1 22 38 43.557 59 04 23.664 ...    -3.652    0.056 2008434459751900928\n",
       "        1 22 38 43.593 58 45 44.256 ...     1.341    0.052 2008354337144968576"
      ]
     },
     "execution_count": 58,
     "metadata": {},
     "output_type": "execute_result"
    }
   ],
   "source": [
    "cl.fs_to_giesler_trace()"
   ]
  },
  {
   "cell_type": "markdown",
   "metadata": {},
   "source": [
    "#    RA                  DEC               Parallax        RV Maxw.        PMRA              PMDEC      ID           Remarks\n",
    "# ---------------------------------------------------------------------------------------------------------------------------\n",
    "1  00 14 17.75       +47 46 33.4        0.5631 0.0563     0 0 1        19.3    1.8       -19.7    1.5   B0011+47     (aus NS_no_GCs.txt, Zeile 3)\n",
    "1  00 34 08.8703     -07 21 53.409        0.93   0.08     0 0 1       10.37   0.08      -11.13   0.16   B0031-07     (aus NS_no_GCs.txt, Zeile 4)\n",
    "1  00 40 32.3899     +57 16 24.833        0.11   0.04     0 0 1       12.39   0.05        -5.4    0.1   B0037+56     (aus NS_no_GCs.txt, Zeile 5)\n",
    "1  00 55 45.3981     +51 17 24.601        0.35   0.06     0 0 1       10.47   0.07       -17.4    0.1   B0052+51     (aus NS_no_GCs.txt, Zeile 6)\n",
    "1  01 02 32.9914     +65 37 13.416         0.4   0.04     0 0 1        9.24   0.07        1.77   0.15   B0059+65     (aus NS_no_GCs.txt, Zeile 7)\n",
    "1  01 08 22.5049     +66 08 34.499        0.47   0.03     0 0 1      -32.75   0.03       35.15   0.04   B0105+65     (aus NS_no_GCs.txt, Zeile 8)\n",
    "1  01 08 08.347016   -14 31 50.1871        4.2    1.4     0 0 1          75      3      -152.5    1.7   J0108-1431   (aus NS_no_GCs.txt, Zeile 9)\n",
    "1  01 25 01.074328   -23 27 08.1349        1.4    0.3     0 0 1       37.14   0.08        10.5    0.2   J0125-2327   (aus NS_no_GCs.txt, Zeile 10)\n",
    "1  01 34 18.6824     -29 37 17.042        0.04  0.004     0 0 1          17      1          -9      2   J0134-2937   (aus NS_no_GCs.txt, Zeile 11)\n",
    "1  01 47 44.6434     +59 22 03.284        0.47   0.07     0 0 1       -6.39   0.09         3.8   0.08   B0144+59     (aus NS_no_GCs.txt, Zeile 12)\n",
    "1  01 51 22.7179     -06 35 02.987        0.23   0.09     0 0 1        10.7    0.1       -5.38   0.07   B0148-06     (aus NS_no_GCs.txt, Zeile 13)"
   ]
  },
  {
   "cell_type": "code",
   "execution_count": null,
   "metadata": {},
   "outputs": [],
   "source": [
    "myrun = Table.read('./Clusters/Berkeley_97/Berkeley_97_runaways_all.tsv', format='ascii.ecsv')\n",
    "myrun"
   ]
  },
  {
   "cell_type": "code",
   "execution_count": 135,
   "metadata": {},
   "outputs": [],
   "source": [
    "gsources = [2008378693895483648,\n",
    "            2008431406040225664,\n",
    "            2008383817801137152,\n",
    "            2008432058875274496,\n",
    "            2008384573715370624,\n",
    "            2008381034662369920,\n",
    "            2008406185991730560,\n",
    "            2008384504995669248,\n",
    "            2008391033346185856,\n",
    "            2008387421269978112,\n",
    "            2008385192190655616,\n",
    "            2008383126302250624,\n",
    "            2008391411303287808,\n",
    "            2008436319478858368,\n",
    "            2008430169089361536,\n",
    "            2008385020393773056,\n",
    "            2008432814789510400,\n",
    "            2008384814233513472,\n",
    "            2008405979833246592,\n",
    "            2008430306528315136,\n",
    "            2008389933834808192,\n",
    "            2008384779873564160,\n",
    "            2008406289070887424,\n",
    "            2008382374691897728,\n",
    "            2008378693895483648\n",
    "            ]\n",
    "\n",
    "gtable = Table({'Source':gsources})\n",
    "fs = cl.fast_stars_in_region()\n",
    "fs = join(fs,gtable, keys='Source', join_type='inner')\n",
    "fs.add_column(np.zeros_like(fs['BP-RP']), name='Temp. Est', index=0)\n",
    "fs.write('test.tsv', format='ascii.ecsv', overwrite=True)"
   ]
  },
  {
   "cell_type": "code",
   "execution_count": 138,
   "metadata": {},
   "outputs": [],
   "source": [
    "def fs_to_giesler_trace(table):\n",
    "    # use this to convert the fast stars in the region into input files for giesler traceback\n",
    "    g = Table()\n",
    "    g['TypeInput'] = np.ones_like(table['e_Plx'].value).astype(int)\n",
    "    g['RA'] = table['SkyCoord'].ra.to_string(unit='hourangle', sep=' ', precision=3, pad=True)\n",
    "    g['DE'] = table['SkyCoord'].dec.to_string(unit='degree', sep=' ', precision=3, pad=True)\n",
    "    g['Plx'] = table['rgeo'].to(u.mas, u.parallax())\n",
    "    g['e_Plx'] = table['e_Plx']\n",
    "    g['RV'] = np.zeros_like(table['e_Plx'].value).astype(int)\n",
    "    g['e_RV'] = np.zeros_like(table['e_Plx'].value).astype(int)\n",
    "    g['RVdist'] = np.zeros_like(table['e_Plx'].value).astype(int)\n",
    "    g['pmRA'] = table['pmRA']\n",
    "    g['e_pmRA'] = table['e_pmRA']\n",
    "    g['pmDE'] = table['pmDE']\n",
    "    g['e_pmDE'] = table['e_pmDE']\n",
    "    g['Source'] = table['Source'].astype(str)\n",
    "    return g\n",
    "fs_to_giesler_trace(fs).write(f'temp.tsv', format='csv', delimiter='\\t', overwrite=True)\n"
   ]
  }
 ],
 "metadata": {
  "kernelspec": {
   "display_name": "Python 3",
   "language": "python",
   "name": "python3"
  },
  "language_info": {
   "codemirror_mode": {
    "name": "ipython",
    "version": 3
   },
   "file_extension": ".py",
   "mimetype": "text/x-python",
   "name": "python",
   "nbconvert_exporter": "python",
   "pygments_lexer": "ipython3",
   "version": "3.11.6"
  }
 },
 "nbformat": 4,
 "nbformat_minor": 2
}
