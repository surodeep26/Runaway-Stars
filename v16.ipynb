{
 "cells": [
  {
   "cell_type": "code",
   "execution_count": 15,
   "metadata": {},
   "outputs": [],
   "source": [
    "%run runaway_functionsv3\n",
    "%matplotlib qt\n",
    "cl = Cluster('BH_121')\n",
    "# print(latex_text(cl))"
   ]
  },
  {
   "cell_type": "code",
   "execution_count": 16,
   "metadata": {},
   "outputs": [
    {
     "name": "stdout",
     "output_type": "stream",
     "text": [
      "\\begin{table}[h]\n",
      "\\fontsize{9pt}{11pt}\\selectfont\n",
      "\\caption{Kinematics of BH 121 compared to its runaway\\label{tab:BH_121_kinematics}}\n",
      "\\resizebox{\\textwidth}{!}{\\begin{tabular}{cccccccc}\n",
      "\\toprule\n",
      "Name & $\\alpha$ & $\\delta$ & d & $\\mu_{\\alpha}^*$ & $\\mu_{\\delta}$ & $v_r$ & $v_\\text{trans}$ \\\\\n",
      " & $\\mathrm{{}^{\\circ}}$ & $\\mathrm{{}^{\\circ}}$ & $\\mathrm{pc}$ & $\\mathrm{mas\\,yr^{-1}}$ & $\\mathrm{mas\\,yr^{-1}}$ & $\\mathrm{km\\,s^{-1}}$ & $\\mathrm{km\\,s^{-1}}$ \\\\\n",
      "\\midrule\n",
      "BH 121 & 174.663 & -63.377 & $2300\\pm117$ & $-6.0\\pm0.1$ & $0.7\\pm0.1$ & $-3.2\\pm9.5$ &  \\\\\n",
      "Gaia DR3 5333582373493259392 & 174.254 & -63.51 & $2030\\pm315$ & $-9.6\\pm0.0$ & $-0.3\\pm0.0$ & $--\\pm--$ & $36.3\\pm4.3$ \\\\\n",
      "HD 308823 & 174.842 & -63.37 & $2540\\pm2443$ & $-8.8\\pm0.7$ & $-2.2\\pm0.7$ & $--\\pm--$ & $48.5\\pm33.0$ \\\\\n",
      "\\bottomrule\n",
      "\\end{tabular}}\n",
      "\\end{table}\n",
      "\n"
     ]
    }
   ],
   "source": [
    "print(generate_kinematics_latex(cl)[0])"
   ]
  },
  {
   "cell_type": "code",
   "execution_count": 14,
   "metadata": {},
   "outputs": [
    {
     "data": {
      "text/html": [
       "<div><i>Table length=2</i>\n",
       "<table id=\"table133055713371792\" class=\"table-striped table-bordered table-condensed\">\n",
       "<thead><tr><th>Name</th><th>RA_ICRS_1</th><th>DE_ICRS_1</th><th>rgeo</th><th>Teff</th><th>Temp. Est</th><th>v_pec</th><th>e_v_pec</th><th>v_pec3d</th><th>e_v_pec3d</th><th>HIP</th><th>TYC2</th><th>Source</th><th>Plx</th><th>e_Plx</th><th>pmRA</th><th>pmDE</th><th>e_pmRA</th><th>e_pmDE</th><th>RUWE</th><th>Gmag</th><th>BP-RP</th><th>BPmag</th><th>RPmag</th><th>b_rgeo</th><th>B_rgeo</th><th>e_Gmag</th><th>e_BPmag</th><th>e_RPmag</th><th>e_BP-RP</th><th>SkyCoord</th><th>rmRA</th><th>e_rmRA</th><th>rmDE</th><th>e_rmDE</th><th>logg</th><th>RV</th><th>e_RV</th><th>rRV</th><th>e_rRV</th><th>FG</th><th>e_FG</th><th>FBP</th><th>e_FBP</th><th>FRP</th><th>e_FRP</th><th>RAVE5</th><th>RAVE6</th></tr></thead>\n",
       "<thead><tr><th></th><th>deg</th><th>deg</th><th>pc</th><th>K</th><th>K</th><th>km / s</th><th>km / s</th><th>km / s</th><th>km / s</th><th></th><th></th><th></th><th>mas</th><th>mas</th><th>mas / yr</th><th>mas / yr</th><th>mas / yr</th><th>mas / yr</th><th></th><th>mag</th><th>mag</th><th>mag</th><th>mag</th><th>pc</th><th>pc</th><th></th><th></th><th></th><th></th><th>deg,deg,pc</th><th>mas / yr</th><th>mas / yr</th><th>mas / yr</th><th>mas / yr</th><th>log(cm.s**-2)</th><th>km / s</th><th>km / s</th><th>km / s</th><th>km / s</th><th></th><th></th><th></th><th></th><th></th><th></th><th></th><th></th></tr></thead>\n",
       "<thead><tr><th>str28</th><th>float64</th><th>float64</th><th>float64</th><th>float64</th><th>float64</th><th>float64</th><th>float64</th><th>float64</th><th>float64</th><th>int32</th><th>str11</th><th>int64</th><th>float64</th><th>float32</th><th>float64</th><th>float64</th><th>float32</th><th>float32</th><th>float64</th><th>float64</th><th>float64</th><th>float64</th><th>float64</th><th>float64</th><th>float64</th><th>float64</th><th>float32</th><th>float32</th><th>float32</th><th>SkyCoord</th><th>float64</th><th>float32</th><th>float64</th><th>float32</th><th>float64</th><th>float64</th><th>float32</th><th>float64</th><th>float32</th><th>float64</th><th>float32</th><th>float32</th><th>float32</th><th>float32</th><th>float32</th><th>str1</th><th>str1</th></tr></thead>\n",
       "<tr><td>Gaia DR3 5333582373493259392</td><td>174.25420916697</td><td>-63.51028158943</td><td>2030.28772000</td><td>10472.6</td><td>29200.0</td><td>36.322390643713256</td><td>4.290941600537356</td><td>--</td><td>--</td><td>--</td><td>--</td><td>5333582373493259392</td><td>0.4749</td><td>0.0459</td><td>-9.647</td><td>-0.256</td><td>0.047</td><td>0.046</td><td>1.020</td><td>16.690096</td><td>-0.023376</td><td>16.692854</td><td>16.716230</td><td>1892.54675000</td><td>2207.36768000</td><td>0.002842</td><td>0.004248</td><td>0.008885</td><td>0.01313</td><td>174.25420916697,-63.51028158943,2030.28772</td><td>-3.657</td><td>0.153</td><td>-0.934</td><td>0.152</td><td>4.4974</td><td>--</td><td>--</td><td>--</td><td>--</td><td>3971.07777</td><td>2.547</td><td>2873</td><td>8.473</td><td>1632</td><td>12.09</td><td>--</td><td>--</td></tr>\n",
       "<tr><td>HD 308823</td><td>174.84243990445</td><td>-63.36971443391</td><td>2539.82080000</td><td>15232.7</td><td>16210.0</td><td>48.530542153436116</td><td>32.98228162164111</td><td>--</td><td>--</td><td>--</td><td>--</td><td>5333952049933787520</td><td>1.9973</td><td>0.6318</td><td>-8.848</td><td>-2.165</td><td>0.668</td><td>0.721</td><td>32.069</td><td>11.291941</td><td>0.333353</td><td>11.389230</td><td>11.055877</td><td>1410.14795000</td><td>3852.90039000</td><td>0.002927</td><td>0.002866</td><td>0.003816</td><td>0.006682</td><td>174.84243990445,-63.36971443391,2539.8208</td><td>-2.858</td><td>0.774</td><td>-2.843</td><td>0.827</td><td>3.5354</td><td>--</td><td>--</td><td>--</td><td>--</td><td>573020.91200</td><td>521.3</td><td>3.8e+05</td><td>228.9</td><td>2.998e+05</td><td>146.4</td><td>--</td><td>--</td></tr>\n",
       "</table></div>"
      ],
      "text/plain": [
       "<Table length=2>\n",
       "            Name                RA_ICRS_1       DE_ICRS_1    ... RAVE5 RAVE6\n",
       "                                   deg             deg       ...            \n",
       "           str28                 float64         float64     ...  str1  str1\n",
       "---------------------------- --------------- --------------- ... ----- -----\n",
       "Gaia DR3 5333582373493259392 174.25420916697 -63.51028158943 ...    --    --\n",
       "                   HD 308823 174.84243990445 -63.36971443391 ...    --    --"
      ]
     },
     "execution_count": 14,
     "metadata": {},
     "output_type": "execute_result"
    }
   ],
   "source": [
    "cl.runaways()"
   ]
  },
  {
   "cell_type": "code",
   "execution_count": 10,
   "metadata": {},
   "outputs": [
    {
     "name": "stdout",
     "output_type": "stream",
     "text": [
      "\\begin{table}[h]\n",
      "\\fontsize{11pt}{11pt}\\selectfont\n",
      "\\caption{Selected members of BH 121\\label{tab:BH_121_members}}\n",
      "\\resizebox{\\textwidth}{!}{\\begin{tabular}{cccccc}\n",
      "\\toprule\n",
      "Gaia DR3 Source & $r_{\\text{geo}}$ & $G$ & $\\mu_{\\alpha}^*$ & $\\mu_{\\delta}$ & $G_{\\text{BP}}-G_{\\text{RP}}$ \\\\\n",
      " & pc & mag & mas/yr & mas/yr & mag \\\\\n",
      "\\midrule\n",
      "5333576326198296064 & $2291^{+111}_{-110}$ & $8.007\\pm0.003$ & $-6.04\\pm0.02$ & $0.02\\pm0.02$ & $0.183\\pm0.007$ \\\\\n",
      "5333576497997161728 & $2319^{+79}_{-68}$ & $10.635\\pm0.014$ & $-6.00\\pm0.01$ & $0.01\\pm0.01$ & $0.283\\pm0.085$ \\\\\n",
      "5333591169604688256 & $2307^{+65}_{-63}$ & $11.021\\pm0.003$ & $-6.13\\pm0.02$ & $0.01\\pm0.01$ & $0.138\\pm0.007$ \\\\\n",
      "5333950984781935104 & $2337^{+71}_{-62}$ & $11.193\\pm0.003$ & $-5.88\\pm0.02$ & $0.02\\pm0.02$ & $0.280\\pm0.007$ \\\\\n",
      "5333579487293992576 & $2198^{+91}_{-67}$ & $11.482\\pm0.003$ & $-6.11\\pm0.02$ & $0.02\\pm0.02$ & $0.263\\pm0.008$ \\\\\n",
      "5333575432845123072 & $2259^{+87}_{-82}$ & $11.518\\pm0.003$ & $-6.00\\pm0.02$ & $0.01\\pm0.01$ & $0.288\\pm0.007$ \\\\\n",
      "5333579689139606528 & $2219^{+69}_{-46}$ & $11.881\\pm0.003$ & $-6.03\\pm0.01$ & $0.01\\pm0.01$ & $0.464\\pm0.009$ \\\\\n",
      "5333577597508338048 & $2515^{+88}_{-89}$ & $12.044\\pm0.003$ & $-6.25\\pm0.02$ & $0.02\\pm0.02$ & $0.266\\pm0.007$ \\\\\n",
      "5333574466453298688 & $2458^{+78}_{-78}$ & $12.103\\pm0.003$ & $-6.16\\pm0.01$ & $0.01\\pm0.01$ & $0.373\\pm0.007$ \\\\\n",
      "5333596353606619136 & $2390^{+82}_{-82}$ & $12.150\\pm0.003$ & $-5.91\\pm0.02$ & $0.01\\pm0.01$ & $0.220\\pm0.007$ \\\\\n",
      "\\bottomrule\n",
      "\\end{tabular}}\n",
      "\\end{table}\n",
      "\n"
     ]
    }
   ],
   "source": [
    "print(generate_members_latex(cl))\n"
   ]
  },
  {
   "cell_type": "code",
   "execution_count": 13,
   "metadata": {},
   "outputs": [],
   "source": [
    "plot_cmd = cl.plot_cmd()\n",
    "show_annotation_manager(plot_cmd)"
   ]
  },
  {
   "cell_type": "code",
   "execution_count": 48,
   "metadata": {},
   "outputs": [],
   "source": [
    "plot_pm = cl.plot_pm()\n",
    "show_annotation_manager(plot_pm)"
   ]
  },
  {
   "cell_type": "code",
   "execution_count": 21,
   "metadata": {},
   "outputs": [
    {
     "data": {
      "text/html": [
       "<div><i>Table length=3</i>\n",
       "<table id=\"table133055810919184\" class=\"table-striped table-bordered table-condensed\">\n",
       "<thead><tr><th>JNAME</th><th>RAJD</th><th>DECJD</th><th>DIST</th><th>DIST_DM</th><th>AGE</th><th>PMRA</th><th>PMDEC</th><th>S400</th><th>ASSOC</th><th>AGE_I</th><th>PX</th><th>P0</th><th>P1</th><th>BSURF</th><th>SkyCoord</th><th>sep2d</th><th>sep3d</th></tr></thead>\n",
       "<thead><tr><th></th><th>deg</th><th>deg</th><th>kpc</th><th>kpc</th><th>yr</th><th>mas / yr</th><th>mas / yr</th><th>mJy</th><th></th><th>yr</th><th>mas</th><th>s</th><th></th><th>G</th><th>deg,deg,kpc</th><th>deg</th><th>kpc</th></tr></thead>\n",
       "<thead><tr><th>str12</th><th>float64</th><th>float64</th><th>float64</th><th>float64</th><th>float64</th><th>float64</th><th>float64</th><th>float64</th><th>str5</th><th>float64</th><th>float64</th><th>float64</th><th>float64</th><th>float64</th><th>SkyCoord</th><th>float64</th><th>float64</th></tr></thead>\n",
       "<tr><td>J1722-3712</td><td>260.7467083333333</td><td>-37.20125</td><td>2.477</td><td>2.477</td><td>344479.803598745</td><td>--</td><td>--</td><td>25.0</td><td>--</td><td>--</td><td>--</td><td>0.236179743432018</td><td>1.0862878420713136e-14</td><td>1620853491978.0156</td><td>260.7467083333333,-37.20125,2.477</td><td>2.0220457542555645</td><td>0.868864491942379</td></tr>\n",
       "<tr><td>J1723-3659</td><td>260.7815833333333</td><td>-36.98727777777778</td><td>3.497</td><td>3.497</td><td>400072.6464924407</td><td>--</td><td>--</td><td>--</td><td>--</td><td>--</td><td>--</td><td>0.20272489920793296</td><td>8.028497404798864e-15</td><td>1290983407728.89</td><td>260.7815833333333,-36.98727777777778,3.497</td><td>1.868236288226831</td><td>1.887587145170419</td></tr>\n",
       "<tr><td>J1720-36</td><td>260.22499999999997</td><td>-36.88333333333333</td><td>3.783</td><td>3.783</td><td>--</td><td>--</td><td>--</td><td>--</td><td>--</td><td>--</td><td>--</td><td>0.09213212</td><td>--</td><td>--</td><td>260.22499999999997,-36.88333333333333,3.783</td><td>1.5318606973090003</td><td>2.173002557424934</td></tr>\n",
       "</table></div>"
      ],
      "text/plain": [
       "<Table length=3>\n",
       "  JNAME           RAJD        ...       sep2d              sep3d      \n",
       "                  deg         ...        deg                kpc       \n",
       "  str12         float64       ...      float64            float64     \n",
       "---------- ------------------ ... ------------------ -----------------\n",
       "J1722-3712  260.7467083333333 ... 2.0220457542555645 0.868864491942379\n",
       "J1723-3659  260.7815833333333 ...  1.868236288226831 1.887587145170419\n",
       "  J1720-36 260.22499999999997 ... 1.5318606973090003 2.173002557424934"
      ]
     },
     "execution_count": 21,
     "metadata": {},
     "output_type": "execute_result"
    }
   ],
   "source": [
    "%run runaway_functionsv3\n",
    "%matplotlib qt\n",
    "\n",
    "cl = Cluster('Bochum_13')\n",
    "cl.psrs()\n",
    "\n",
    "# plot_traceback_clean = cl.plot_traceback_clean()\n",
    "# show_annotation_manager(plot_traceback_clean)"
   ]
  },
  {
   "cell_type": "code",
   "execution_count": 22,
   "metadata": {},
   "outputs": [
    {
     "data": {
      "text/html": [
       "<div><i>Table length=2</i>\n",
       "<table id=\"table133055733351632\" class=\"table-striped table-bordered table-condensed\">\n",
       "<thead><tr><th>Name</th><th>RA_ICRS_1</th><th>DE_ICRS_1</th><th>rgeo</th><th>Teff</th><th>Temp. Est</th><th>v_pec</th><th>e_v_pec</th><th>v_pec3d</th><th>e_v_pec3d</th><th>HIP</th><th>TYC2</th><th>Source</th><th>Plx</th><th>e_Plx</th><th>pmRA</th><th>pmDE</th><th>e_pmRA</th><th>e_pmDE</th><th>RUWE</th><th>Gmag</th><th>BP-RP</th><th>BPmag</th><th>RPmag</th><th>b_rgeo</th><th>B_rgeo</th><th>e_Gmag</th><th>e_BPmag</th><th>e_RPmag</th><th>e_BP-RP</th><th>SkyCoord</th><th>rmRA</th><th>e_rmRA</th><th>rmDE</th><th>e_rmDE</th><th>logg</th><th>RV</th><th>e_RV</th><th>rRV</th><th>e_rRV</th><th>FG</th><th>e_FG</th><th>FBP</th><th>e_FBP</th><th>FRP</th><th>e_FRP</th><th>RAVE5</th><th>RAVE6</th></tr></thead>\n",
       "<thead><tr><th></th><th>deg</th><th>deg</th><th>pc</th><th>K</th><th>K</th><th>km / s</th><th>km / s</th><th>km / s</th><th>km / s</th><th></th><th></th><th></th><th>mas</th><th>mas</th><th>mas / yr</th><th>mas / yr</th><th>mas / yr</th><th>mas / yr</th><th></th><th>mag</th><th>mag</th><th>mag</th><th>mag</th><th>pc</th><th>pc</th><th></th><th></th><th></th><th></th><th>deg,deg,pc</th><th>mas / yr</th><th>mas / yr</th><th>mas / yr</th><th>mas / yr</th><th>log(cm.s**-2)</th><th>km / s</th><th>km / s</th><th>km / s</th><th>km / s</th><th></th><th></th><th></th><th></th><th></th><th></th><th></th><th></th></tr></thead>\n",
       "<thead><tr><th>str15</th><th>float64</th><th>float64</th><th>float64</th><th>float64</th><th>float64</th><th>float64</th><th>float64</th><th>float64</th><th>float64</th><th>int32</th><th>str11</th><th>int64</th><th>float64</th><th>float32</th><th>float64</th><th>float64</th><th>float32</th><th>float32</th><th>float64</th><th>float64</th><th>float64</th><th>float64</th><th>float64</th><th>float64</th><th>float64</th><th>float64</th><th>float32</th><th>float32</th><th>float32</th><th>SkyCoord</th><th>float64</th><th>float32</th><th>float64</th><th>float32</th><th>float64</th><th>float64</th><th>float32</th><th>float64</th><th>float32</th><th>float64</th><th>float32</th><th>float32</th><th>float32</th><th>float32</th><th>float32</th><th>str16</th><th>str20</th></tr></thead>\n",
       "<tr><td>IRAS 17141-3523</td><td>259.36548128906</td><td>-35.44461701309</td><td>1530.26782000</td><td>--</td><td>19060.0</td><td>26.41166475994621</td><td>1.2452733965708263</td><td>--</td><td>--</td><td>--</td><td>7370-298-1</td><td>5975544297642036096</td><td>0.6252</td><td>0.0153</td><td>0.323</td><td>2.320</td><td>0.020</td><td>0.015</td><td>0.822</td><td>10.482975</td><td>0.959064</td><td>10.865803</td><td>9.906738</td><td>1494.68323000</td><td>1563.44128000</td><td>0.002768</td><td>0.002849</td><td>0.003784</td><td>0.006633</td><td>259.36548128906,-35.44461701309,1530.26782</td><td>0.613</td><td>0.095</td><td>3.589</td><td>0.090</td><td>--</td><td>--</td><td>--</td><td>--</td><td>--</td><td>1207137.19410</td><td>298.3</td><td>6.153e+05</td><td>325.9</td><td>8.639e+05</td><td>146.2</td><td>--</td><td>--</td></tr>\n",
       "<tr><td>TYC 7370-851-1</td><td>259.33987733374</td><td>-35.52539457458</td><td>1508.48877000</td><td>--</td><td>11050.0</td><td>17.80079640671282</td><td>0.9887673036453889</td><td>50.26</td><td>18.25</td><td>--</td><td>--</td><td>5975543365625855488</td><td>0.6433</td><td>0.0141</td><td>-1.379</td><td>-3.508</td><td>0.017</td><td>0.012</td><td>0.904</td><td>12.441815</td><td>1.175916</td><td>12.938648</td><td>11.762733</td><td>1481.37732000</td><td>1542.66833000</td><td>0.002761</td><td>0.002908</td><td>0.003797</td><td>0.006705</td><td>259.33987733374,-35.52539457458,1508.48877</td><td>-1.089</td><td>0.092</td><td>-2.239</td><td>0.087</td><td>--</td><td>-18.93</td><td>6.11</td><td>47.01</td><td>19.51</td><td>198710.41176</td><td>33.12</td><td>9.119e+04</td><td>68.72</td><td>1.563e+05</td><td>52.41</td><td>--</td><td>--</td></tr>\n",
       "</table></div>"
      ],
      "text/plain": [
       "<Table length=2>\n",
       "      Name         RA_ICRS_1       DE_ICRS_1    ...    e_FRP    RAVE5 RAVE6\n",
       "                      deg             deg       ...                        \n",
       "     str15          float64         float64     ...   float32   str16 str20\n",
       "--------------- --------------- --------------- ... ----------- ----- -----\n",
       "IRAS 17141-3523 259.36548128906 -35.44461701309 ...       146.2    --    --\n",
       " TYC 7370-851-1 259.33987733374 -35.52539457458 ...       52.41    --    --"
      ]
     },
     "execution_count": 22,
     "metadata": {},
     "output_type": "execute_result"
    }
   ],
   "source": [
    "cl.runaways()"
   ]
  },
  {
   "cell_type": "code",
   "execution_count": 18,
   "metadata": {},
   "outputs": [],
   "source": [
    "show_annotation_manager(plot_traceback_psr)\n"
   ]
  },
  {
   "cell_type": "code",
   "execution_count": 26,
   "metadata": {},
   "outputs": [],
   "source": [
    "%run runaway_functionsv3\n",
    "%matplotlib qt\n",
    "cl = Cluster('Bochum_13')\n",
    "plot_traceback_psr = cl.plot_traceback_psr(trace_time=-125*u.kyr)\n",
    "# show_annotation_manager(plot_traceback_psr)\n"
   ]
  }
 ],
 "metadata": {
  "kernelspec": {
   "display_name": "Python 3",
   "language": "python",
   "name": "python3"
  },
  "language_info": {
   "codemirror_mode": {
    "name": "ipython",
    "version": 3
   },
   "file_extension": ".py",
   "mimetype": "text/x-python",
   "name": "python",
   "nbconvert_exporter": "python",
   "pygments_lexer": "ipython3",
   "version": "3.11.6"
  }
 },
 "nbformat": 4,
 "nbformat_minor": 2
}
