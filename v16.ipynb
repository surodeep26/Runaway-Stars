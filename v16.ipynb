{
 "cells": [
  {
   "cell_type": "code",
   "execution_count": 2,
   "metadata": {},
   "outputs": [],
   "source": [
    "%run runaway_functionsv3"
   ]
  },
  {
   "cell_type": "code",
   "execution_count": 3,
   "metadata": {},
   "outputs": [
    {
     "name": "stdout",
     "output_type": "stream",
     "text": [
      "3.1 7.1 -0.1\n"
     ]
    },
    {
     "data": {
      "text/html": [
       "<div><i>Table length=1</i>\n",
       "<table id=\"table131092337371024\" class=\"table-striped table-bordered table-condensed\">\n",
       "<thead><tr><th>RA_ICRS_1</th><th>DE_ICRS_1</th><th>rgeo</th><th>Teff</th><th>Temp. Est</th><th>e_RA_ICRS</th><th>e_DE_ICRS</th><th>_r_1</th><th>HIP</th><th>TYC2</th><th>Source</th><th>Plx</th><th>e_Plx</th><th>pmRA</th><th>pmDE</th><th>e_pmRA</th><th>e_pmDE</th><th>RUWE</th><th>Gmag</th><th>BP-RP</th><th>BPmag</th><th>RPmag</th><th>b_rgeo</th><th>B_rgeo</th><th>e_Gmag</th><th>e_BPmag</th><th>e_RPmag</th><th>e_BP-RP</th><th>SkyCoord</th><th>rmRA</th><th>rmDE</th><th>v_pec</th><th>logg</th><th>RV</th><th>e_RV</th><th>FG</th><th>e_FG</th><th>FBP</th><th>e_FBP</th><th>FRP</th><th>e_FRP</th><th>RAVE5</th><th>RAVE6</th></tr></thead>\n",
       "<thead><tr><th>deg</th><th>deg</th><th>pc</th><th>K</th><th>K</th><th>mas</th><th>mas</th><th></th><th></th><th></th><th></th><th>mas</th><th>mas</th><th>mas / yr</th><th>mas / yr</th><th>mas / yr</th><th>mas / yr</th><th></th><th>mag</th><th>mag</th><th>mag</th><th>mag</th><th>pc</th><th>pc</th><th></th><th></th><th></th><th></th><th>deg,deg,pc</th><th>mas / yr</th><th>mas / yr</th><th>km / s</th><th>log(cm.s**-2)</th><th>km / s</th><th>km / s</th><th></th><th></th><th></th><th></th><th></th><th></th><th></th><th></th></tr></thead>\n",
       "<thead><tr><th>float64</th><th>float64</th><th>float64</th><th>float64</th><th>float64</th><th>float64</th><th>float64</th><th>float64</th><th>int32</th><th>str11</th><th>int64</th><th>float64</th><th>float32</th><th>float64</th><th>float64</th><th>float32</th><th>float32</th><th>float64</th><th>float64</th><th>float64</th><th>float64</th><th>float64</th><th>float64</th><th>float64</th><th>float64</th><th>float32</th><th>float32</th><th>float32</th><th>SkyCoord</th><th>float64</th><th>float64</th><th>float64</th><th>float64</th><th>float64</th><th>float32</th><th>float64</th><th>float32</th><th>float32</th><th>float32</th><th>float32</th><th>float32</th><th>str1</th><th>str1</th></tr></thead>\n",
       "<tr><td>339.89581711423</td><td>58.99547917199</td><td>2620.36230000</td><td>9168.0</td><td>15330.0</td><td>0.0202</td><td>0.0197</td><td>1.5205</td><td>--</td><td>--</td><td>2008384504995669248</td><td>0.3560</td><td>0.0241</td><td>-0.379</td><td>-1.352</td><td>0.025</td><td>0.024</td><td>1.086</td><td>15.384143</td><td>1.182070</td><td>15.883185</td><td>14.701116</td><td>2461.53345000</td><td>2759.61401000</td><td>0.00277</td><td>0.003852</td><td>0.004229</td><td>0.008081</td><td>339.89581711423,58.99547917199,2620.3623</td><td>2.318000026702881</td><td>0.47699999618530264</td><td>29.394022464312897</td><td>3.7061</td><td>--</td><td>--</td><td>13221.76503</td><td>3.482</td><td>6055</td><td>14.81</td><td>1.044e+04</td><td>18.25</td><td>--</td><td>--</td></tr>\n",
       "</table></div>"
      ],
      "text/plain": [
       "<Table length=1>\n",
       "   RA_ICRS_1       DE_ICRS_1          rgeo      ...    e_FRP    RAVE5 RAVE6\n",
       "      deg             deg              pc       ...                        \n",
       "    float64         float64         float64     ...   float32    str1  str1\n",
       "--------------- --------------- --------------- ... ----------- ----- -----\n",
       "339.89581711423  58.99547917199   2620.36230000 ...       18.25    --    --"
      ]
     },
     "execution_count": 3,
     "metadata": {},
     "output_type": "execute_result"
    }
   ],
   "source": [
    "cl = Cluster(\"Berkeley_97\")\n",
    "run = cl.runaways()\n",
    "run\n",
    "# ra = cl.runaways_all()\n",
    "# thiso = cl.theoretical_isochrone()\n",
    "# ra['Temp. Est'] = ra[\"Teff\"]\n",
    "\n"
   ]
  },
  {
   "cell_type": "code",
   "execution_count": 90,
   "metadata": {},
   "outputs": [
    {
     "name": "stdout",
     "output_type": "stream",
     "text": [
      "Changed Av         2.54 --> 3.10\n",
      "Changed logage     7.59 --> 7.10\n"
     ]
    }
   ],
   "source": [
    "cl.changeParam(('Av',3.1))\n",
    "cl.changeParam(('logage',7.1))"
   ]
  },
  {
   "cell_type": "code",
   "execution_count": 4,
   "metadata": {},
   "outputs": [
    {
     "name": "stdout",
     "output_type": "stream",
     "text": [
      "3.1 7.1 -0.1\n"
     ]
    },
    {
     "name": "stderr",
     "output_type": "stream",
     "text": [
      "/usr/lib/python3/dist-packages/erfa/core.py:154: ErfaWarning: ERFA function \"taiutc\" yielded 1 of \"dubious year (Note 4)\"\n",
      "  warnings.warn('ERFA function \"{}\" yielded {}'.format(func_name, wmsg),\n"
     ]
    }
   ],
   "source": [
    "from astropy.wcs import WCS\n",
    "from astropy.io import fits\n",
    "from astropy import units as u\n",
    "from astropy.table import Table\n",
    "from astropy.time import Time\n",
    "import matplotlib.pyplot as plt\n",
    "from astropy.coordinates import SkyCoord, Angle\n",
    "from regions import CircleSkyRegion,PixCoord, PointSkyRegion, PointPixelRegion, LineSkyRegion, LinePixelRegion\n",
    "%matplotlib qt\n",
    "allrun = cl.runaways()[:]\n",
    "allrun_coord_now = SkyCoord(ra=allrun['RA_ICRS_1'], \n",
    "                        dec=allrun['DE_ICRS_1'],\n",
    "                        distance=allrun['rgeo'], \n",
    "                        pm_ra_cosdec=allrun['rmRA'],\n",
    "                        pm_dec=allrun['rmDE'],\n",
    "                        obstime=Time('J2000')+500*u.kyr)\n",
    "\n",
    "allrun_coord_earlier = allrun_coord_now.apply_space_motion(dt=-100*u.kyr)\n",
    "\n",
    "\n",
    "with fits.open(f'./Clusters/{cl.name}/{cl.name}_extra10pc.fits') as fits_file:\n",
    "    image = fits_file[0]\n",
    "    wcs = WCS(image.header)\n",
    "    fig, ax = plt.subplots(subplot_kw={'projection': wcs}, figsize=(8, 8))\n",
    "    ax.imshow(image.data, \n",
    "              cmap='gray')\n",
    "    ax.set_xlabel('Right Ascension (hms)')\n",
    "    ax.set_ylabel('Declination (degrees)')\n",
    "\n",
    "    c = SkyCoord(\"98.5582 +8.0381\", distance=1456, unit=(u.deg ,u.deg, u.pc))\n",
    "    radius = Angle(0.3, 'deg')\n",
    "    region = CircleSkyRegion(c,radius)\n",
    "    region_pix = region.to_pixel(wcs)\n",
    "    region_pix.plot(ax=ax, \n",
    "                    color='red', \n",
    "                    lw=2)\n",
    "    \n",
    "    start_skys = allrun_coord_now\n",
    "    end_skys = allrun_coord_earlier\n",
    "\n",
    "    region_sky = [LineSkyRegion(start=start_sky, end=end_sky) for start_sky,end_sky in zip(allrun_coord_now,allrun_coord_earlier)]\n",
    "    region_sky_pix = [region_sky_.to_pixel(wcs) for region_sky_ in region_sky]\n",
    "    for c in allrun_coord_now:\n",
    "        point_sky = PointSkyRegion(center=c)\n",
    "        point_pix = point_sky.to_pixel(wcs)\n",
    "        point_pix.plot(ax=ax,\n",
    "                       color='yellow')\n",
    "    for region_pix in region_sky_pix:\n",
    "        region_pix.plot(ax=ax,\n",
    "                        color='cyan')"
   ]
  },
  {
   "cell_type": "code",
   "execution_count": 37,
   "metadata": {},
   "outputs": [],
   "source": [
    "dias2021 = Table.read(\"dias2021.tsv\", format=\"ascii.ecsv\")\n",
    "maskplx = dias2021['Plx'] > 0.3\n",
    "maskage = dias2021['logage'] < 7.7\n",
    "workclusters = []\n",
    "for clustername in dias2021[maskplx & maskage][:]['Cluster']:\n",
    "    if clustername not in ['ASCC_79','BH_164','BH_23','Collinder_135','Collinder_140','Gulliver_9','IC_2391','IC_2602','Mamajek_1','Platais_8','UPK_535','UPK_606','UPK_640','Berkeley_59','COIN-Gaia_37','Ivanov_4','LP_1937','Sigma_Ori','UBC_632']:\n",
    "        workclusters.append(clustername)\n",
    "        # print(clustername)\n",
    "        # cl = Cluster(clustername)\n",
    "        # cl.prepare_trace()\n",
    "# cl.stars_in_region()\n",
    "# cl.stars_in_region()"
   ]
  },
  {
   "cell_type": "code",
   "execution_count": null,
   "metadata": {},
   "outputs": [],
   "source": [
    "workclusters_mask = [cluster in workclusters for cluster in dias2021['Cluster']]\n",
    "workclusterstable = dias2021[workclusters_mask]\n",
    "\n",
    "rvexists = workclusterstable['RV'].mask\n",
    "nrvgood = workclusterstable['NRV'] > 4\n",
    "\n",
    "workclusterstable[~rvexists & nrvgood]"
   ]
  },
  {
   "cell_type": "code",
   "execution_count": null,
   "metadata": {},
   "outputs": [],
   "source": [
    "def runaways_from(clustername):\n",
    "    cl = Cluster(clustername)\n",
    "    fs4giesler = cl.fast_stars_in_region()\n",
    "    outputs = os.listdir(f\"/home/surodeep/suro_aiu/traceback/cluster_runaway/{cl.name}/runaways/\")\n",
    "    linenos = []\n",
    "    for output in outputs:\n",
    "        #print(output)\n",
    "        if 'run' in output:\n",
    "            linenos.append(int(output.split(\"+\")[1].replace(\".out\",\"\")))\n",
    "    linenos.sort()\n",
    "    # print(linenos)\n",
    "    i=np.array(linenos)-3\n",
    "    def source_of(lineno, input_table):\n",
    "        return input_table[lineno-2]['Source']\n",
    "    return fs4giesler[i]\n",
    "for cluster in workclusters:\n",
    "    t = runaways_from(cluster)[runaways_from(cluster)['Teff'].argmax()]['Teff']\n",
    "    \n",
    "    if t>10000:\n",
    "        print(cluster, t,runaways_from(cluster)[runaways_from(cluster)['Teff'].argmax()]['Source'])"
   ]
  }
 ],
 "metadata": {
  "kernelspec": {
   "display_name": "Python 3",
   "language": "python",
   "name": "python3"
  },
  "language_info": {
   "codemirror_mode": {
    "name": "ipython",
    "version": 3
   },
   "file_extension": ".py",
   "mimetype": "text/x-python",
   "name": "python",
   "nbconvert_exporter": "python",
   "pygments_lexer": "ipython3",
   "version": "3.11.6"
  }
 },
 "nbformat": 4,
 "nbformat_minor": 2
}
