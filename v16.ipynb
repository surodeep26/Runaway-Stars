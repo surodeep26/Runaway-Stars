{
 "cells": [
  {
   "cell_type": "code",
   "execution_count": 2,
   "metadata": {},
   "outputs": [],
   "source": [
    "%run runaway_functionsv3\n",
    "%matplotlib qt\n",
    "# cl = Cluster('LP_1487')\n",
    "# # cld = ClusterDias('Berkeley_97')\n",
    "# # plot = cl.plot_cmd(isochrones=[Isochrone(cld)])\n",
    "# plot = cl.plot_traceback_psr()\n",
    "# show_annotation_manager(plot)\n"
   ]
  },
  {
   "cell_type": "code",
   "execution_count": 8,
   "metadata": {},
   "outputs": [
    {
     "data": {
      "text/plain": [
       "(6.668, 9.999)"
      ]
     },
     "execution_count": 8,
     "metadata": {},
     "output_type": "execute_result"
    }
   ],
   "source": [
    "dias2021 = Table.read('dias2021.tsv', format='ascii.ecsv')\n",
    "dias2021['logage'].min(), dias2021['logage'].max()"
   ]
  },
  {
   "cell_type": "code",
   "execution_count": 2,
   "metadata": {},
   "outputs": [
    {
     "data": {
      "text/plain": [
       "<AxesSubplot: xlabel='$G_{BP}-G_{RP}$ (mag)', ylabel='$G$ (mag)'>"
      ]
     },
     "execution_count": 2,
     "metadata": {},
     "output_type": "execute_result"
    }
   ],
   "source": [
    "%run runaway_functionsv3\n",
    "%matplotlib qt\n",
    "cl = Cluster('Alessi_Teutsch_5')\n",
    "cl.plot_cmd()\n"
   ]
  },
  {
   "cell_type": "code",
   "execution_count": 4,
   "metadata": {},
   "outputs": [
    {
     "ename": "NameError",
     "evalue": "name 'latex_text' is not defined",
     "output_type": "error",
     "traceback": [
      "\u001b[0;31m---------------------------------------------------------------------------\u001b[0m",
      "\u001b[0;31mNameError\u001b[0m                                 Traceback (most recent call last)",
      "Cell \u001b[0;32mIn[4], line 1\u001b[0m\n\u001b[0;32m----> 1\u001b[0m \u001b[43mlatex_text\u001b[49m(cl)\n",
      "\u001b[0;31mNameError\u001b[0m: name 'latex_text' is not defined"
     ]
    }
   ],
   "source": [
    "latex_text(cl)"
   ]
  },
  {
   "cell_type": "code",
   "execution_count": 3,
   "metadata": {},
   "outputs": [
    {
     "name": "stdout",
     "output_type": "stream",
     "text": [
      "10pc image downloaded in 4.706837s\n",
      "50pc image downloaded in 28.883331s\n"
     ]
    },
    {
     "data": {
      "text/plain": [
       "<WCSAxesSubplot: >"
      ]
     },
     "execution_count": 3,
     "metadata": {},
     "output_type": "execute_result"
    }
   ],
   "source": [
    "cl.plot_pm()\n",
    "cl.plot_traceback_clean()\n",
    "cl.plot_traceback_psr()"
   ]
  },
  {
   "cell_type": "code",
   "execution_count": 5,
   "metadata": {},
   "outputs": [
    {
     "ename": "NameError",
     "evalue": "name 'generate_kinematics_latex' is not defined",
     "output_type": "error",
     "traceback": [
      "\u001b[0;31m---------------------------------------------------------------------------\u001b[0m",
      "\u001b[0;31mNameError\u001b[0m                                 Traceback (most recent call last)",
      "Cell \u001b[0;32mIn[5], line 122\u001b[0m\n\u001b[1;32m    120\u001b[0m \u001b[38;5;66;03m# Example usage\u001b[39;00m\n\u001b[1;32m    121\u001b[0m cl \u001b[38;5;241m=\u001b[39m Cluster(\u001b[38;5;124m'\u001b[39m\u001b[38;5;124mAlessi_Teutsch_5\u001b[39m\u001b[38;5;124m'\u001b[39m)\n\u001b[0;32m--> 122\u001b[0m \u001b[38;5;28mprint\u001b[39m(\u001b[43mlatex_text\u001b[49m\u001b[43m(\u001b[49m\u001b[43mcl\u001b[49m\u001b[43m,\u001b[49m\u001b[43m \u001b[49m\u001b[43mn_members\u001b[49m\u001b[38;5;241;43m=\u001b[39;49m\u001b[38;5;241;43m10\u001b[39;49m\u001b[43m)\u001b[49m)\n",
      "Cell \u001b[0;32mIn[5], line 109\u001b[0m, in \u001b[0;36mlatex_text\u001b[0;34m(cluster, n_members)\u001b[0m\n\u001b[1;32m    106\u001b[0m     members_table_text \u001b[38;5;241m=\u001b[39m \u001b[38;5;124m'\u001b[39m\u001b[38;5;124m'\u001b[39m\u001b[38;5;241m.\u001b[39mjoin(lines)\n\u001b[1;32m    108\u001b[0m os\u001b[38;5;241m.\u001b[39mremove(members_output_filename)\n\u001b[0;32m--> 109\u001b[0m kinematics_table_text \u001b[38;5;241m=\u001b[39m \u001b[43mgenerate_kinematics_latex\u001b[49m(cluster\u001b[38;5;241m.\u001b[39mname)\n\u001b[1;32m    110\u001b[0m \u001b[38;5;66;03m# Combine intro_text, kinematics_table_text, and members_table_text\u001b[39;00m\n\u001b[1;32m    111\u001b[0m full_text \u001b[38;5;241m=\u001b[39m intro_text \u001b[38;5;241m+\u001b[39m \u001b[38;5;124m\"\u001b[39m\u001b[38;5;130;01m\\n\u001b[39;00m\u001b[38;5;130;01m\\n\u001b[39;00m\u001b[38;5;124m\"\u001b[39m \u001b[38;5;241m+\u001b[39m kinematics_table_text \u001b[38;5;241m+\u001b[39m \u001b[38;5;124m\"\u001b[39m\u001b[38;5;130;01m\\n\u001b[39;00m\u001b[38;5;130;01m\\n\u001b[39;00m\u001b[38;5;124m\"\u001b[39m \u001b[38;5;241m+\u001b[39m members_table_text\n",
      "\u001b[0;31mNameError\u001b[0m: name 'generate_kinematics_latex' is not defined"
     ]
    }
   ],
   "source": [
    "def latex_text(cluster, n_members=None):\n",
    "    cld = ClusterDias(cluster.name)\n",
    "    ra, dec = cluster.skycoord.ra, cluster.skycoord.dec\n",
    "    ra_str, dec_str = ra.to_string(format='latex')[1:-1], dec.to_string(format='latex')[1:-1]\n",
    "    dist_str = str(round(cluster.distance.value,1)) + r\"\\pm\" + str(round(cluster.e_distance.value,1))\n",
    "    \n",
    "    intro_text = rf\"\"\"\\subsection{{Introduction}}\n",
    "    {cluster.name.replace('_', ' ')} is located at $\\alpha = {ra_str}, \\delta = {dec_str}$ at a distance of ${dist_str}$ pc.\n",
    "    {cluster.N} out of the {cld.N} mentioned in Dias have been selected as members. Using these, the kinematic parameters of the cluster have been determined. These are compared to the kinematic parameters of the runaway star in \\ref{{tab:{cluster.name}_kinematics}}. Some of the brightest memebrs fo the cluster are shown in table \\ref{{tab:{cluster.name}_members}}.\n",
    "    \n",
    "    \\subsection{{CMD and proper motion}}\n",
    "    The parameters of the cluster's isochrone ...\n",
    "    Using these parameters, the CMD plot for the cluster is shown in figure \\ref{{fig:{cluster.name}_cmd_pm}} in the left. The right plot in the figure shows the proper motion diagram showing that the runaway moves with a proper motion that is different from the cluster.\n",
    "    \n",
    "    \\begin{{figure}}\n",
    "    \\centering\n",
    "    \\includegraphics[width=0.49\\linewidth]{{Results/{cluster.name}/{cluster.name}_cmd.pdf}}\n",
    "    \\includegraphics[width=0.49\\linewidth]{{Results/{cluster.name}/{cluster.name}_pm.pdf}}\n",
    "    \\caption{{\\\\ \n",
    "    \\textit{{Left}}: The CMD showing the temperature estimate of the runaway. The isochrone for the temperature estimate is shown in blue \\\\\n",
    "    \\textit{{Right}}: Proper motion diagram depicting that the star is an outlier in proper motion in the local rest frame.}}\n",
    "        \\label{{fig:{cluster.name}_cmd_pm}}\n",
    "    \\end{{figure}}    \n",
    "\n",
    "    \\subsection{{Traceback}}\n",
    "    \n",
    "    The runaway star's motion relative to the cluster is shown in figure \\ref{{fig:{cluster.name}_traceback.pdf}}.\n",
    "    \n",
    "    \\begin{{figure}}\n",
    "    \\centering\n",
    "    \\includegraphics[width=0.49\\linewidth]{{Results/{cluster.name}/{cluster.name}_traceback_clean.pdf}}\n",
    "    \\includegraphics[width=0.49\\linewidth]{{Results/{cluster.name}/{cluster.name}_pm.pdf}}\n",
    "    \\caption{{\\\\ \n",
    "    \\textit{{Left}}: The runaway star ...'s motion with respect to the cluster. The four green lines depict the four extreme cases of the proper motion considering the errors and the green ellipse represents the possible positions of the star 100 kyr ago. \\\\\n",
    "    \\textit{{Right}}: Proper motion diagram depicting that the star is an outlier in proper motion in the local rest frame.}}\n",
    "        \\label{{fig:{cluster.name}_traceback_clean&pm}}\n",
    "    \\end{{figure}}\n",
    "    \n",
    "    \\subsection{{Traceback}}\n",
    "    \"\"\"\n",
    "    \n",
    "    # Members table generation\n",
    "    table = cluster.mymembers\n",
    "    table.sort('Gmag')\n",
    "    table = table[:n_members]\n",
    "    \n",
    "    formatted_distances = []\n",
    "    formatted_parallaxes = []\n",
    "    formatted_gmags = []\n",
    "    formatted_bprps = []\n",
    "    \n",
    "    for row in table:\n",
    "        distance = row['rgeo']\n",
    "        plx = row['Plx']\n",
    "        e_plx = row['e_Plx']\n",
    "        upper_error = row['B_rgeo'] - row['rgeo']\n",
    "        lower_error = -row['b_rgeo'] + row['rgeo']\n",
    "        gmag = row['Gmag']\n",
    "        e_gmag = row['e_Gmag']\n",
    "        bprp = row['BP-RP']\n",
    "        e_bprp = row['e_BP-RP']\n",
    "        \n",
    "        formatted_distance = f\"${distance:.0f}^{{+{upper_error:.0f}}}_{{-{lower_error:.0f}}}$\"\n",
    "        formatted_parallax = f\"${plx:.4f}\\pm{e_plx:.4f}$\"\n",
    "        formatted_gmag = f\"${gmag:.3f}\\pm{e_gmag:.3f}$\"\n",
    "        formatted_bprp = f\"${bprp:.3f}\\pm{e_bprp:.3f}$\"\n",
    "        \n",
    "        formatted_distances.append(formatted_distance)\n",
    "        formatted_parallaxes.append(formatted_parallax)\n",
    "        formatted_gmags.append(formatted_gmag)\n",
    "        formatted_bprps.append(formatted_bprp)\n",
    "\n",
    "    table['formatted_distance'] = formatted_distances\n",
    "    table['formatted_parallax'] = formatted_parallaxes\n",
    "    table['formatted_gmag'] = formatted_gmags\n",
    "    table['formatted_bprp'] = formatted_bprps\n",
    "    \n",
    "    t_dict_members = {\n",
    "        'Gaia DR3 Source': table['Source'],\n",
    "        r\"$r_{\\text{geo}}$ (pc)\": table['formatted_distance'],\n",
    "        r\"$\\pi$ (mas)\": table['formatted_parallax'],\n",
    "        r\"$G$ (mag)\": table['formatted_gmag'],\n",
    "        r\"$G_{\\text{BP}}-G_{\\text{RP}}$ (mag)\": table['formatted_bprp']\n",
    "    }\n",
    "    \n",
    "    latexdict_members = {\n",
    "        'tabletype': 'table*',\n",
    "        'tablealign': 'h',\n",
    "        'header_start': r'\\hline',\n",
    "        'data_start': r'\\hline',\n",
    "        'data_end': r'\\hline', \n",
    "        'caption': f'Selected members of {cluster.name.replace(\"_\",\" \")}',\n",
    "        'preamble': r'\\label{tab:' + f'{cluster.name}_members' + '}'\n",
    "    }\n",
    "    \n",
    "    astropy_table_members = Table(t_dict_members)\n",
    "    members_output_filename = 'members_text.txt'\n",
    "    \n",
    "    astropy.io.ascii.write(astropy_table_members, format='latex', output=members_output_filename, overwrite=True, latexdict=latexdict_members)\n",
    "    \n",
    "    with open(members_output_filename, 'r+') as f:\n",
    "        lines = f.readlines()\n",
    "        lines[1], lines[2] = lines[2], lines[1]\n",
    "        f.seek(0)\n",
    "        f.writelines(lines)\n",
    "        members_table_text = ''.join(lines)\n",
    "    \n",
    "    os.remove(members_output_filename)\n",
    "    kinematics_table_text = generate_kinematics_latex(cluster.name)\n",
    "    # Combine intro_text, kinematics_table_text, and members_table_text\n",
    "    full_text = intro_text + \"\\n\\n\" + kinematics_table_text + \"\\n\\n\" + members_table_text\n",
    "    \n",
    "    filename = f\"{cluster.name}.tex\"\n",
    "    \n",
    "    with open(filename, 'w') as file:\n",
    "        file.write(full_text)\n",
    "    \n",
    "    return full_text\n",
    "\n",
    "# Example usage\n",
    "cl = Cluster('Alessi_Teutsch_5')\n",
    "print(latex_text(cl, n_members=10))\n"
   ]
  },
  {
   "cell_type": "code",
   "execution_count": 33,
   "metadata": {},
   "outputs": [
    {
     "data": {
      "text/html": [
       "<div><i>Table length=1</i>\n",
       "<table id=\"table137366879216272\" class=\"table-striped table-bordered table-condensed\">\n",
       "<thead><tr><th>Cluster</th><th>$\\alpha$</th><th>$\\delta$</th><th>r50</th><th>N</th><th>pmRA</th><th>e_pmRA</th><th>pmDE</th><th>e_pmDE</th><th>Plx</th><th>e_Plx</th><th>RV</th><th>e_RV</th><th>NRV</th><th>logage</th><th>e_logage</th><th>__Fe_H_</th><th>e__Fe_H_</th><th>Av</th><th>e_Av</th><th>FileName</th><th>SimbadName</th><th>_RA.icrs</th><th>_DE.icrs</th><th>d</th></tr></thead>\n",
       "<thead><tr><th></th><th>deg</th><th>deg</th><th>deg</th><th></th><th>mas / yr</th><th>mas / yr</th><th>mas / yr</th><th>mas / yr</th><th>mas</th><th>mas</th><th>km / s</th><th>km / s</th><th></th><th>log(yr)</th><th>log(yr)</th><th></th><th></th><th>mag</th><th>mag</th><th></th><th></th><th>deg</th><th>deg</th><th>pc</th></tr></thead>\n",
       "<thead><tr><th>str17</th><th>float64</th><th>float64</th><th>float32</th><th>int16</th><th>float32</th><th>float32</th><th>float32</th><th>float32</th><th>float32</th><th>float32</th><th>float64</th><th>float32</th><th>int16</th><th>float32</th><th>float32</th><th>float32</th><th>float32</th><th>float32</th><th>float32</th><th>str31</th><th>str31</th><th>float64</th><th>float64</th><th>str9</th></tr></thead>\n",
       "<tr><td>Alessi_Teutsch_5</td><td>332.2744</td><td>61.0962</td><td>0.337</td><td>59</td><td>-2.052</td><td>0.379</td><td>-3.306</td><td>0.379</td><td>1.125</td><td>0.043</td><td>-23.489</td><td>11.137</td><td>39</td><td>7.071</td><td>0.054</td><td>-0.053</td><td>0.096</td><td>1.253</td><td>0.076</td><td>clusters1/Alessi_Teutsch_5.dat</td><td>Name Alessi-Teutsch 5</td><td>332.2744</td><td>61.0962</td><td>$31\\pm31$</td></tr>\n",
       "</table></div>"
      ],
      "text/plain": [
       "<Table length=1>\n",
       "    Cluster      $\\alpha$ $\\delta$   r50   ... _RA.icrs _DE.icrs     d    \n",
       "                   deg      deg      deg   ...   deg      deg        pc   \n",
       "     str17       float64  float64  float32 ... float64  float64     str9  \n",
       "---------------- -------- -------- ------- ... -------- -------- ---------\n",
       "Alessi_Teutsch_5 332.2744  61.0962   0.337 ... 332.2744  61.0962 $31\\pm31$"
      ]
     },
     "execution_count": 33,
     "metadata": {},
     "output_type": "execute_result"
    }
   ],
   "source": [
    "from astropy.table import Table, Column\n",
    "\n",
    "# Example data\n",
    "cluster_part = Table(cl.all)\n",
    "\n",
    "# Create the combined columns\n",
    "distance_column = [f\"${dist}\\pm{e_dist}$\" for dist, e_dist in zip(cluster_part['Dist'], cluster_part['e_Dist'])]\n",
    "pmRA_column = [f\"${pmRA}\\pm{e_pmRA}$\" for pmRA, e_pmRA in zip(cluster_part['pmRA'], cluster_part['e_pmRA'])]\n",
    "pmDE_column = [f\"${pmDE}\\pm{e_pmDE}$\" for pmDE, e_pmDE in zip(cluster_part['pmDE'], cluster_part['e_pmDE'])]\n",
    "# Add the new column to the table\n",
    "cluster_part['d'] = Column(distance_column, unit=u.pc)\n",
    "cluster_part['d'] = Column(distance_column, unit=u.pc)\n",
    "cluster_part['d'] = Column(distance_column, unit=u.pc)\n",
    "# cluster_part.remove_columns(['Dist','e_Dist'])\n",
    "cluster_part.rename_column('RA_ICRS',r'$\\alpha$')\n",
    "cluster_part.rename_column('DE_ICRS',r'$\\delta$')\n",
    "\n",
    "# Display the table\n",
    "# print(table)\n",
    "cluster_part\n"
   ]
  },
  {
   "cell_type": "code",
   "execution_count": 23,
   "metadata": {},
   "outputs": [
    {
     "name": "stdout",
     "output_type": "stream",
     "text": [
      "\\begin{table}\n",
      "\\begin{tabular}{ccccccccccccccccccccccccccc}\n",
      "Cluster & $\\alpha$ & DE_ICRS & r50 & N & pmRA & e_pmRA & pmDE & e_pmDE & Plx & e_Plx & RV & e_RV & NRV & Dist & e_Dist & logage & e_logage & __Fe_H_ & e__Fe_H_ & Av & e_Av & FileName & SimbadName & _RA.icrs & _DE.icrs & d \\\\\n",
      " & $\\mathrm{{}^{\\circ}}$ & $\\mathrm{{}^{\\circ}}$ & $\\mathrm{{}^{\\circ}}$ &  & $\\mathrm{mas\\,yr^{-1}}$ & $\\mathrm{mas\\,yr^{-1}}$ & $\\mathrm{mas\\,yr^{-1}}$ & $\\mathrm{mas\\,yr^{-1}}$ & $\\mathrm{mas}$ & $\\mathrm{mas}$ & $\\mathrm{km\\,s^{-1}}$ & $\\mathrm{km\\,s^{-1}}$ &  & $\\mathrm{pc}$ & $\\mathrm{pc}$ & log(yr) & log(yr) & $\\mathrm{}$ & $\\mathrm{}$ & $\\mathrm{mag}$ & $\\mathrm{mag}$ &  &  & $\\mathrm{{}^{\\circ}}$ & $\\mathrm{{}^{\\circ}}$ &  \\\\\n",
      "Alessi_Teutsch_5 & 332.2744 & 61.0962 & 0.337 & 59 & -2.052 & 0.379 & -3.306 & 0.379 & 1.125 & 0.043 & -23.489 & 11.137 & 39 & 31 & 31 & 7.071 & 0.054 & -0.053 & 0.096 & 1.253 & 0.076 & clusters1/Alessi_Teutsch_5.dat & Name Alessi-Teutsch 5 & 332.2744 & 61.0962 & $31\\pm31$ \\\\\n",
      "\\end{tabular}\n",
      "\\end{table}\n",
      "\n"
     ]
    }
   ],
   "source": [
    "from astropy.io import ascii\n",
    "import io\n",
    "\n",
    "output = io.StringIO()\n",
    "ascii.write(table, output, format='latex')\n",
    "latex_string = output.getvalue()\n",
    "output.close()\n",
    "\n",
    "latex_string = latex_string.replace('RA_ICRS', r'$\\alpha$')\n",
    "\n",
    "print(latex_string)"
   ]
  },
  {
   "cell_type": "code",
   "execution_count": null,
   "metadata": {},
   "outputs": [],
   "source": [
    "def generate_kinematics_latex(clustername):\n",
    "    cl = Cluster(clustername)\n",
    "    kinematic_table  = cl.all\n",
    "    \n",
    "    "
   ]
  }
 ],
 "metadata": {
  "kernelspec": {
   "display_name": "Python 3",
   "language": "python",
   "name": "python3"
  },
  "language_info": {
   "codemirror_mode": {
    "name": "ipython",
    "version": 3
   },
   "file_extension": ".py",
   "mimetype": "text/x-python",
   "name": "python",
   "nbconvert_exporter": "python",
   "pygments_lexer": "ipython3",
   "version": "3.11.6"
  }
 },
 "nbformat": 4,
 "nbformat_minor": 2
}
