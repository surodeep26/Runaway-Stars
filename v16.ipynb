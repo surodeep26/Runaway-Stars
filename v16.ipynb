{
 "cells": [
  {
   "cell_type": "code",
   "execution_count": 44,
   "metadata": {},
   "outputs": [],
   "source": [
    "%run runaway_functionsv3"
   ]
  },
  {
   "cell_type": "code",
   "execution_count": 65,
   "metadata": {},
   "outputs": [],
   "source": [
    "cl = Cluster(\"Alessi_43\")\n",
    "ra = cl.runaways_all()\n",
    "ra['Temp. Est'] = ra['Teff']\n",
    "ra.write(f\"./Clusters/{cl.name}/{cl.name}_runaways_all.tsv\", format='ascii.ecsv', overwrite=True)"
   ]
  },
  {
   "cell_type": "code",
   "execution_count": 61,
   "metadata": {},
   "outputs": [
    {
     "name": "stderr",
     "output_type": "stream",
     "text": [
      "/usr/lib/python3/dist-packages/erfa/core.py:154: ErfaWarning: ERFA function \"taiutc\" yielded 1 of \"dubious year (Note 4)\"\n",
      "  warnings.warn('ERFA function \"{}\" yielded {}'.format(func_name, wmsg),\n"
     ]
    }
   ],
   "source": [
    "from astropy.wcs import WCS\n",
    "from astropy.io import fits\n",
    "from astropy import units as u\n",
    "from astropy.table import Table\n",
    "from astropy.time import Time\n",
    "import matplotlib.pyplot as plt\n",
    "from astropy.coordinates import SkyCoord, Angle\n",
    "from regions import CircleSkyRegion,PixCoord, PointSkyRegion, PointPixelRegion, LineSkyRegion, LinePixelRegion\n",
    "%matplotlib qt\n",
    "allrun = cl.runaways_all()[:]\n",
    "allrun_coord_now = SkyCoord(ra=allrun['RA_ICRS_1'], \n",
    "                        dec=allrun['DE_ICRS_1'],\n",
    "                        distance=allrun['rgeo'], \n",
    "                        pm_ra_cosdec=allrun['rmRA'],\n",
    "                        pm_dec=allrun['rmDE'],\n",
    "                        obstime=Time('J2000')+500*u.kyr)\n",
    "\n",
    "allrun_coord_earlier = allrun_coord_now.apply_space_motion(dt=-100*u.kyr)\n",
    "\n",
    "\n",
    "with fits.open('./Clusters/Basel_8/Basel_8_extra10pc.fits') as fits_file:\n",
    "    image = fits_file[0]\n",
    "    wcs = WCS(image.header)\n",
    "    fig, ax = plt.subplots(subplot_kw={'projection': wcs}, figsize=(8, 8))\n",
    "    ax.imshow(image.data, \n",
    "              cmap='gray')\n",
    "    ax.set_xlabel('Right Ascension (hms)')\n",
    "    ax.set_ylabel('Declination (degrees)')\n",
    "\n",
    "    c = SkyCoord(\"98.5582 +8.0381\", distance=1456, unit=(u.deg ,u.deg, u.pc))\n",
    "    radius = Angle(0.3, 'deg')\n",
    "    region = CircleSkyRegion(c,radius)\n",
    "    region_pix = region.to_pixel(wcs)\n",
    "    region_pix.plot(ax=ax, \n",
    "                    color='red', \n",
    "                    lw=2)\n",
    "    \n",
    "    start_skys = allrun_coord_now\n",
    "    end_skys = allrun_coord_earlier\n",
    "\n",
    "    region_sky = [LineSkyRegion(start=start_sky, end=end_sky) for start_sky,end_sky in zip(allrun_coord_now,allrun_coord_earlier)]\n",
    "    region_sky_pix = [region_sky_.to_pixel(wcs) for region_sky_ in region_sky]\n",
    "    for c in allrun_coord_now:\n",
    "        point_sky = PointSkyRegion(center=c)\n",
    "        point_pix = point_sky.to_pixel(wcs)\n",
    "        point_pix.plot(ax=ax,\n",
    "                       color='yellow')\n",
    "    for region_pix in region_sky_pix:\n",
    "        region_pix.plot(ax=ax,\n",
    "                        color='cyan')"
   ]
  },
  {
   "cell_type": "code",
   "execution_count": 37,
   "metadata": {},
   "outputs": [],
   "source": [
    "dias2021 = Table.read(\"dias2021.tsv\", format=\"ascii.ecsv\")\n",
    "maskplx = dias2021['Plx'] > 0.3\n",
    "maskage = dias2021['logage'] < 7.7\n",
    "workclusters = []\n",
    "for clustername in dias2021[maskplx & maskage][:]['Cluster']:\n",
    "    if clustername not in ['ASCC_79','BH_164','BH_23','Collinder_135','Collinder_140','Gulliver_9','IC_2391','IC_2602','Mamajek_1','Platais_8','UPK_535','UPK_606','UPK_640','Berkeley_59','COIN-Gaia_37','Ivanov_4','LP_1937','Sigma_Ori','UBC_632']:\n",
    "        workclusters.append(clustername)\n",
    "        # print(clustername)\n",
    "        # cl = Cluster(clustername)\n",
    "        # cl.prepare_trace()\n",
    "# cl.stars_in_region()\n",
    "# cl.stars_in_region()"
   ]
  },
  {
   "cell_type": "code",
   "execution_count": null,
   "metadata": {},
   "outputs": [],
   "source": [
    "workclusters_mask = [cluster in workclusters for cluster in dias2021['Cluster']]\n",
    "workclusterstable = dias2021[workclusters_mask]\n",
    "\n",
    "rvexists = workclusterstable['RV'].mask\n",
    "nrvgood = workclusterstable['NRV'] > 4\n",
    "\n",
    "workclusterstable[~rvexists & nrvgood]"
   ]
  },
  {
   "cell_type": "code",
   "execution_count": 68,
   "metadata": {},
   "outputs": [
    {
     "name": "stdout",
     "output_type": "stream",
     "text": [
      "Alessi_43 15014.8 5524355337493304832\n",
      "Alessi_Teutsch_5 11066.8 2203047987818327936\n",
      "Antalova_2 10476.0 4054754516779374592\n",
      "BH_121 15232.7 5333952049933787520\n",
      "BH_205 10292.0 5966670134990392320\n",
      "BH_217 15042.6 5971838015762732544\n",
      "Barkhatova_1 10381.6 2163399839041410560\n",
      "Berkeley_79 15050.9 4259983000670960000\n",
      "Bica_2 15004.1 2067785002204179200\n",
      "Biurakan_2 15007.7 2058844701379362560\n",
      "Bochum_10 10187.9 5350570927670271744\n",
      "Bochum_11 10471.4 5350284711031815552\n",
      "Bochum_13 15008.0 5975514026711634048\n",
      "COIN-Gaia_41 10437.2 3350663730331408256\n",
      "Collinder_104 11602.2 3130880461270803712\n",
      "Collinder_107 11602.2 3130880461270803712\n",
      "Collinder_272 10696.6 5868468770138838144\n",
      "Czernik_31 10373.1 5715451523558459520\n",
      "Czernik_41 15018.4 2026718410407452672\n",
      "Dias_5 11380.4 4094456885225767680\n",
      "Dolidze_53 15586.9 2020850321173536128\n",
      "ESO_332_08 10077.2 5969667678565148160\n",
      "ESO_332_13 10292.0 5966670134990392320\n",
      "FSR_0165 15005.8 2027292737751016320\n",
      "FSR_0198 15054.8 2059460805856016128\n",
      "FSR_0451 10323.8 2011918575888660224\n",
      "FSR_0498 12693.8 430365176295557888\n",
      "Gulliver_15 15008.4 4145582767167872000\n",
      "Gulliver_19 15004.4 2014746279267638400\n",
      "Gulliver_31 11706.5 2061813932538268544\n",
      "Gulliver_5 11967.6 5331435538380753920\n",
      "Hogg_19 11629.7 5940665177494467200\n",
      "IC_1805 10248.4 465539515337112192\n",
      "IC_1848 15049.6 464663823045875968\n",
      "IC_2581 12652.8 5351724693321579136\n",
      "IC_2948 15004.9 5333574642571101952\n"
     ]
    },
    {
     "ename": "ValueError",
     "evalue": "attempt to get argmax of an empty sequence",
     "output_type": "error",
     "traceback": [
      "\u001b[0;31m---------------------------------------------------------------------------\u001b[0m",
      "\u001b[0;31mValueError\u001b[0m                                Traceback (most recent call last)",
      "Cell \u001b[0;32mIn[68], line 17\u001b[0m\n\u001b[1;32m     15\u001b[0m     \u001b[38;5;28;01mreturn\u001b[39;00m fs4giesler[i]\n\u001b[1;32m     16\u001b[0m \u001b[38;5;28;01mfor\u001b[39;00m cluster \u001b[38;5;129;01min\u001b[39;00m workclusters:\n\u001b[0;32m---> 17\u001b[0m     t \u001b[38;5;241m=\u001b[39m runaways_from(cluster)[\u001b[43mrunaways_from\u001b[49m\u001b[43m(\u001b[49m\u001b[43mcluster\u001b[49m\u001b[43m)\u001b[49m\u001b[43m[\u001b[49m\u001b[38;5;124;43m'\u001b[39;49m\u001b[38;5;124;43mTeff\u001b[39;49m\u001b[38;5;124;43m'\u001b[39;49m\u001b[43m]\u001b[49m\u001b[38;5;241;43m.\u001b[39;49m\u001b[43margmax\u001b[49m\u001b[43m(\u001b[49m\u001b[43m)\u001b[49m][\u001b[38;5;124m'\u001b[39m\u001b[38;5;124mTeff\u001b[39m\u001b[38;5;124m'\u001b[39m]\n\u001b[1;32m     19\u001b[0m     \u001b[38;5;28;01mif\u001b[39;00m t\u001b[38;5;241m>\u001b[39m\u001b[38;5;241m10000\u001b[39m:\n\u001b[1;32m     20\u001b[0m         \u001b[38;5;28mprint\u001b[39m(cluster, t,runaways_from(cluster)[runaways_from(cluster)[\u001b[38;5;124m'\u001b[39m\u001b[38;5;124mTeff\u001b[39m\u001b[38;5;124m'\u001b[39m]\u001b[38;5;241m.\u001b[39margmax()][\u001b[38;5;124m'\u001b[39m\u001b[38;5;124mSource\u001b[39m\u001b[38;5;124m'\u001b[39m])\n",
      "File \u001b[0;32m/usr/lib/python3/dist-packages/numpy/ma/core.py:5646\u001b[0m, in \u001b[0;36mMaskedArray.argmax\u001b[0;34m(self, axis, fill_value, out, keepdims)\u001b[0m\n\u001b[1;32m   5644\u001b[0m d \u001b[38;5;241m=\u001b[39m \u001b[38;5;28mself\u001b[39m\u001b[38;5;241m.\u001b[39mfilled(fill_value)\u001b[38;5;241m.\u001b[39mview(ndarray)\n\u001b[1;32m   5645\u001b[0m keepdims \u001b[38;5;241m=\u001b[39m \u001b[38;5;28;01mFalse\u001b[39;00m \u001b[38;5;28;01mif\u001b[39;00m keepdims \u001b[38;5;129;01mis\u001b[39;00m np\u001b[38;5;241m.\u001b[39m_NoValue \u001b[38;5;28;01melse\u001b[39;00m \u001b[38;5;28mbool\u001b[39m(keepdims)\n\u001b[0;32m-> 5646\u001b[0m \u001b[38;5;28;01mreturn\u001b[39;00m \u001b[43md\u001b[49m\u001b[38;5;241;43m.\u001b[39;49m\u001b[43margmax\u001b[49m\u001b[43m(\u001b[49m\u001b[43maxis\u001b[49m\u001b[43m,\u001b[49m\u001b[43m \u001b[49m\u001b[43mout\u001b[49m\u001b[38;5;241;43m=\u001b[39;49m\u001b[43mout\u001b[49m\u001b[43m,\u001b[49m\u001b[43m \u001b[49m\u001b[43mkeepdims\u001b[49m\u001b[38;5;241;43m=\u001b[39;49m\u001b[43mkeepdims\u001b[49m\u001b[43m)\u001b[49m\n",
      "\u001b[0;31mValueError\u001b[0m: attempt to get argmax of an empty sequence"
     ]
    }
   ],
   "source": [
    "def runaways_from(clustername):\n",
    "    cl = Cluster(clustername)\n",
    "    fs4giesler = cl.fast_stars_in_region()\n",
    "    outputs = os.listdir(f\"/home/surodeep/suro_aiu/traceback/cluster_runaway/{cl.name}/runaways/\")\n",
    "    linenos = []\n",
    "    for output in outputs:\n",
    "        #print(output)\n",
    "        if 'run' in output:\n",
    "            linenos.append(int(output.split(\"+\")[1].replace(\".out\",\"\")))\n",
    "    linenos.sort()\n",
    "    # print(linenos)\n",
    "    i=np.array(linenos)-3\n",
    "    def source_of(lineno, input_table):\n",
    "        return input_table[lineno-2]['Source']\n",
    "    return fs4giesler[i]\n",
    "for cluster in workclusters:\n",
    "    t = runaways_from(cluster)[runaways_from(cluster)['Teff'].argmax()]['Teff']\n",
    "    \n",
    "    if t>10000:\n",
    "        print(cluster, t,runaways_from(cluster)[runaways_from(cluster)['Teff'].argmax()]['Source'])"
   ]
  }
 ],
 "metadata": {
  "kernelspec": {
   "display_name": "Python 3",
   "language": "python",
   "name": "python3"
  },
  "language_info": {
   "codemirror_mode": {
    "name": "ipython",
    "version": 3
   },
   "file_extension": ".py",
   "mimetype": "text/x-python",
   "name": "python",
   "nbconvert_exporter": "python",
   "pygments_lexer": "ipython3",
   "version": "3.11.6"
  }
 },
 "nbformat": 4,
 "nbformat_minor": 2
}
