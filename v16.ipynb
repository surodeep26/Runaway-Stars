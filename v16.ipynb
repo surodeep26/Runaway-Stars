{
 "cells": [
  {
   "cell_type": "code",
   "execution_count": 276,
   "metadata": {},
   "outputs": [],
   "source": [
    "%run runaway_functionsv3\n",
    "cl = Cluster(\"Berkeley_97\")\n",
    "# cl.stars_in_region()\n",
    "# cl.stars_in_region()"
   ]
  },
  {
   "cell_type": "code",
   "execution_count": 284,
   "metadata": {},
   "outputs": [],
   "source": [
    "sir = cl.stars_in_region()\n",
    "mycluster = find_cluster(sir, sigma=1.3)\n",
    "#add a cluster.all here\n",
    "#make the region functions"
   ]
  },
  {
   "cell_type": "code",
   "execution_count": 285,
   "metadata": {},
   "outputs": [
    {
     "data": {
      "text/html": [
       "<div><i>Table length=12</i>\n",
       "<table id=\"table2034496092192\" class=\"table-striped table-bordered table-condensed\">\n",
       "<thead><tr><th>RA_ICRS_1</th><th>DE_ICRS_1</th><th>e_RA_ICRS</th><th>e_DE_ICRS</th><th>_r_1</th><th>HIP</th><th>TYC2</th><th>Source</th><th>rgeo</th><th>Plx</th><th>e_Plx</th><th>pmRA</th><th>pmDE</th><th>e_pmRA</th><th>e_pmDE</th><th>RUWE</th><th>Teff</th><th>logg</th><th>Gmag</th><th>BP-RP</th><th>BPmag</th><th>RPmag</th><th>RV</th><th>e_RV</th><th>b_rgeo</th><th>B_rgeo</th><th>FG</th><th>e_FG</th><th>FBP</th><th>e_FBP</th><th>FRP</th><th>e_FRP</th><th>RAVE5</th><th>RAVE6</th><th>e_Gmag</th><th>e_BPmag</th><th>e_RPmag</th><th>e_BP-RP</th><th>SkyCoord</th></tr></thead>\n",
       "<thead><tr><th>deg</th><th>deg</th><th>mas</th><th>mas</th><th></th><th></th><th></th><th></th><th>pc</th><th>mas</th><th>mas</th><th>mas / yr</th><th>mas / yr</th><th>mas / yr</th><th>mas / yr</th><th></th><th>K</th><th>log(cm.s**-2)</th><th>mag</th><th>mag</th><th>mag</th><th>mag</th><th>km / s</th><th>km / s</th><th>pc</th><th>pc</th><th></th><th></th><th></th><th></th><th></th><th></th><th></th><th></th><th></th><th></th><th></th><th></th><th>deg,deg,pc</th></tr></thead>\n",
       "<thead><tr><th>float64</th><th>float64</th><th>float64</th><th>float64</th><th>float64</th><th>int32</th><th>str11</th><th>int64</th><th>float64</th><th>float64</th><th>float32</th><th>float64</th><th>float64</th><th>float32</th><th>float32</th><th>float64</th><th>float64</th><th>float64</th><th>float64</th><th>float64</th><th>float64</th><th>float64</th><th>float64</th><th>float32</th><th>float64</th><th>float64</th><th>float64</th><th>float32</th><th>float32</th><th>float32</th><th>float32</th><th>float32</th><th>str1</th><th>str1</th><th>float64</th><th>float32</th><th>float32</th><th>float32</th><th>SkyCoord</th></tr></thead>\n",
       "<tr><td>340.10268328507</td><td>58.97390297864</td><td>0.0097</td><td>0.0107</td><td>8.0278</td><td>--</td><td>3996-1228-1</td><td>2008380794144211712</td><td>2570.86328000</td><td>0.3525</td><td>0.0122</td><td>-2.679</td><td>-1.930</td><td>0.013</td><td>0.014</td><td>0.903</td><td>--</td><td>--</td><td>11.482301</td><td>1.201067</td><td>11.985507</td><td>10.784440</td><td>--</td><td>--</td><td>2498.03125000</td><td>2653.16870000</td><td>480868.62054</td><td>798.2</td><td>2.194e+05</td><td>725.5</td><td>3.849e+05</td><td>2491</td><td>--</td><td>--</td><td>0.003292</td><td>0.004547</td><td>0.007978</td><td>0.01253</td><td>340.10268328507,58.97390297864,2570.86328</td></tr>\n",
       "<tr><td>339.82166004461</td><td>59.00297803329</td><td>0.0089</td><td>0.0097</td><td>0.8784</td><td>--</td><td>--</td><td>2008430203449108224</td><td>2525.15747000</td><td>0.3648</td><td>0.0114</td><td>-2.953</td><td>-1.724</td><td>0.012</td><td>0.012</td><td>0.988</td><td>--</td><td>--</td><td>13.262117</td><td>0.961862</td><td>13.648018</td><td>12.686156</td><td>--</td><td>--</td><td>2459.89844000</td><td>2592.30542000</td><td>93346.90312</td><td>21.67</td><td>4.745e+04</td><td>60.24</td><td>6.679e+04</td><td>44.71</td><td>--</td><td>--</td><td>0.002767</td><td>0.003112</td><td>0.003849</td><td>0.006961</td><td>339.82166004461,59.00297803329,2525.15747</td></tr>\n",
       "<tr><td>339.42920988327</td><td>58.97305865286</td><td>0.0120</td><td>0.0117</td><td>13.1419</td><td>--</td><td>--</td><td>2008409931203112192</td><td>2489.41748000</td><td>0.3700</td><td>0.0143</td><td>-2.563</td><td>-1.892</td><td>0.015</td><td>0.014</td><td>1.228</td><td>--</td><td>--</td><td>13.496160</td><td>1.953521</td><td>14.465996</td><td>12.512475</td><td>-45.74</td><td>2.06</td><td>2410.32397000</td><td>2576.79590000</td><td>75245.90184</td><td>16.64</td><td>2.234e+04</td><td>23.38</td><td>7.837e+04</td><td>27.73</td><td>--</td><td>--</td><td>0.002766</td><td>0.003013</td><td>0.003799</td><td>0.006812</td><td>339.42920988327,58.97305865286,2489.41748</td></tr>\n",
       "<tr><td>340.13166575232</td><td>58.80702105155</td><td>0.0325</td><td>0.0335</td><td>14.7229</td><td>--</td><td>--</td><td>2008366363053930112</td><td>2452.92578000</td><td>0.3907</td><td>0.0404</td><td>-2.667</td><td>-1.648</td><td>0.044</td><td>0.042</td><td>2.897</td><td>14207.5</td><td>3.6701</td><td>13.919951</td><td>1.094469</td><td>14.357768</td><td>13.263299</td><td>--</td><td>--</td><td>2208.02368000</td><td>2667.27612000</td><td>50929.10304</td><td>22.21</td><td>2.468e+04</td><td>22.44</td><td>3.925e+04</td><td>18.26</td><td>--</td><td>--</td><td>0.002796</td><td>0.00296</td><td>0.003813</td><td>0.006773</td><td>340.13166575232,58.80702105155,2452.92578</td></tr>\n",
       "<tr><td>339.84074866849</td><td>59.00514934930</td><td>0.0134</td><td>0.0139</td><td>0.2851</td><td>--</td><td>--</td><td>2008383302404812544</td><td>2604.80005000</td><td>0.3569</td><td>0.0163</td><td>-2.626</td><td>-1.913</td><td>0.018</td><td>0.017</td><td>1.124</td><td>11638.8</td><td>3.8049</td><td>14.199184</td><td>1.058014</td><td>14.629308</td><td>13.571294</td><td>--</td><td>--</td><td>2466.69116000</td><td>2720.19312000</td><td>39379.74224</td><td>11.71</td><td>1.922e+04</td><td>51.21</td><td>2.956e+04</td><td>27.21</td><td>--</td><td>--</td><td>0.002774</td><td>0.00402</td><td>0.003909</td><td>0.007929</td><td>339.84074866849,59.0051493493,2604.80005</td></tr>\n",
       "<tr><td>339.89306630231</td><td>58.98476312947</td><td>0.0162</td><td>0.0165</td><td>1.7877</td><td>--</td><td>--</td><td>2008384436276195712</td><td>2622.38867000</td><td>0.3597</td><td>0.0201</td><td>-2.750</td><td>-1.896</td><td>0.021</td><td>0.020</td><td>0.947</td><td>--</td><td>--</td><td>15.036896</td><td>1.065319</td><td>15.475330</td><td>14.410011</td><td>--</td><td>--</td><td>2473.01392000</td><td>2788.69727000</td><td>18204.89881</td><td>4.808</td><td>8816</td><td>14.2</td><td>1.365e+04</td><td>9.308</td><td>--</td><td>--</td><td>0.00277</td><td>0.003293</td><td>0.003851</td><td>0.007144</td><td>339.89306630231,58.98476312947,2622.38867</td></tr>\n",
       "<tr><td>339.72037763438</td><td>58.81783055967</td><td>0.0227</td><td>0.0222</td><td>11.9034</td><td>--</td><td>--</td><td>2008378182803845760</td><td>2431.65479000</td><td>0.3891</td><td>0.0268</td><td>-3.055</td><td>-1.942</td><td>0.030</td><td>0.027</td><td>1.120</td><td>8987.1</td><td>3.5661</td><td>15.364346</td><td>1.312783</td><td>15.934629</td><td>14.621846</td><td>--</td><td>--</td><td>2328.18628000</td><td>2586.78125000</td><td>13465.05209</td><td>4.195</td><td>5775</td><td>9.968</td><td>1.123e+04</td><td>11.11</td><td>--</td><td>--</td><td>0.002776</td><td>0.003361</td><td>0.003929</td><td>0.00729</td><td>339.72037763438,58.81783055967,2431.65479</td></tr>\n",
       "<tr><td>339.85463826254</td><td>59.02700150857</td><td>0.0265</td><td>0.0253</td><td>1.3517</td><td>--</td><td>--</td><td>2008431715277915264</td><td>2398.42749000</td><td>0.3906</td><td>0.0312</td><td>-3.001</td><td>-1.763</td><td>0.033</td><td>0.032</td><td>0.983</td><td>--</td><td>--</td><td>15.857347</td><td>1.163284</td><td>16.346945</td><td>15.183661</td><td>--</td><td>--</td><td>2250.89404000</td><td>2585.11523000</td><td>8550.81986</td><td>2.912</td><td>3950</td><td>7.23</td><td>6694</td><td>9.254</td><td>--</td><td>--</td><td>0.00278</td><td>0.003425</td><td>0.004067</td><td>0.007492</td><td>339.85463826254,59.02700150857,2398.42749</td></tr>\n",
       "<tr><td>339.66853787465</td><td>58.80116837208</td><td>0.0300</td><td>0.0295</td><td>13.4381</td><td>--</td><td>--</td><td>2008354680742334720</td><td>2468.09229000</td><td>0.3889</td><td>0.0357</td><td>-2.755</td><td>-1.886</td><td>0.039</td><td>0.037</td><td>1.051</td><td>8887.7</td><td>4.1048</td><td>16.235464</td><td>1.436932</td><td>16.881433</td><td>15.444502</td><td>--</td><td>--</td><td>2260.08740000</td><td>2772.74146000</td><td>6036.16154</td><td>2.435</td><td>2415</td><td>6.819</td><td>5264</td><td>8.649</td><td>--</td><td>--</td><td>0.00279</td><td>0.004146</td><td>0.004179</td><td>0.008325</td><td>339.66853787465,58.80116837208,2468.09229</td></tr>\n",
       "<tr><td>339.58227837535</td><td>58.80405897944</td><td>0.0310</td><td>0.0312</td><td>14.6140</td><td>--</td><td>--</td><td>2008357395161651200</td><td>2411.36353000</td><td>0.3995</td><td>0.0372</td><td>-2.848</td><td>-1.817</td><td>0.040</td><td>0.038</td><td>1.045</td><td>9322.2</td><td>3.9696</td><td>16.421066</td><td>1.388904</td><td>17.034280</td><td>15.645377</td><td>--</td><td>--</td><td>2205.45459000</td><td>2617.88306000</td><td>5087.68681</td><td>2.218</td><td>2098</td><td>11.34</td><td>4375</td><td>11.25</td><td>--</td><td>--</td><td>0.002796</td><td>0.006501</td><td>0.004699</td><td>0.0112</td><td>339.58227837535,58.80405897944,2411.36353</td></tr>\n",
       "<tr><td>339.77698343862</td><td>58.97765419629</td><td>0.0353</td><td>0.0331</td><td>2.7743</td><td>--</td><td>--</td><td>2008383164965858048</td><td>2514.85254000</td><td>0.3689</td><td>0.0412</td><td>-2.761</td><td>-1.964</td><td>0.042</td><td>0.040</td><td>1.000</td><td>--</td><td>--</td><td>16.485056</td><td>1.357075</td><td>17.081070</td><td>15.723995</td><td>--</td><td>--</td><td>2319.07178000</td><td>2747.70190000</td><td>4796.49942</td><td>2.341</td><td>2009</td><td>8.815</td><td>4070</td><td>8.924</td><td>--</td><td>--</td><td>0.002806</td><td>0.005521</td><td>0.004467</td><td>0.009988</td><td>339.77698343862,58.97765419629,2514.85254</td></tr>\n",
       "<tr><td>340.17565129861</td><td>59.04207656557</td><td>0.0396</td><td>0.0358</td><td>10.3074</td><td>--</td><td>--</td><td>2008390071273551104</td><td>2439.10645000</td><td>0.3894</td><td>0.0460</td><td>-2.851</td><td>-2.154</td><td>0.051</td><td>0.045</td><td>0.982</td><td>9523.8</td><td>4.3634</td><td>16.738201</td><td>1.534222</td><td>17.440638</td><td>15.906416</td><td>--</td><td>--</td><td>2221.99316000</td><td>2766.45410000</td><td>3798.97107</td><td>2.117</td><td>1443</td><td>7.676</td><td>3440</td><td>8.126</td><td>--</td><td>--</td><td>0.002821</td><td>0.006415</td><td>0.004567</td><td>0.01098</td><td>340.17565129861,59.04207656557,2439.10645</td></tr>\n",
       "</table></div>"
      ],
      "text/plain": [
       "<Table length=12>\n",
       "   RA_ICRS_1       DE_ICRS_1    ...                  SkyCoord                \n",
       "      deg             deg       ...                 deg,deg,pc               \n",
       "    float64         float64     ...                  SkyCoord                \n",
       "--------------- --------------- ... -----------------------------------------\n",
       "340.10268328507  58.97390297864 ... 340.10268328507,58.97390297864,2570.86328\n",
       "339.82166004461  59.00297803329 ... 339.82166004461,59.00297803329,2525.15747\n",
       "339.42920988327  58.97305865286 ... 339.42920988327,58.97305865286,2489.41748\n",
       "340.13166575232  58.80702105155 ... 340.13166575232,58.80702105155,2452.92578\n",
       "339.84074866849  59.00514934930 ...  339.84074866849,59.0051493493,2604.80005\n",
       "339.89306630231  58.98476312947 ... 339.89306630231,58.98476312947,2622.38867\n",
       "339.72037763438  58.81783055967 ... 339.72037763438,58.81783055967,2431.65479\n",
       "339.85463826254  59.02700150857 ... 339.85463826254,59.02700150857,2398.42749\n",
       "339.66853787465  58.80116837208 ... 339.66853787465,58.80116837208,2468.09229\n",
       "339.58227837535  58.80405897944 ... 339.58227837535,58.80405897944,2411.36353\n",
       "339.77698343862  58.97765419629 ... 339.77698343862,58.97765419629,2514.85254\n",
       "340.17565129861  59.04207656557 ... 340.17565129861,59.04207656557,2439.10645"
      ]
     },
     "execution_count": 285,
     "metadata": {},
     "output_type": "execute_result"
    }
   ],
   "source": [
    "mycluster"
   ]
  },
  {
   "cell_type": "code",
   "execution_count": null,
   "metadata": {},
   "outputs": [],
   "source": []
  }
 ],
 "metadata": {
  "kernelspec": {
   "display_name": "Python 3",
   "language": "python",
   "name": "python3"
  },
  "language_info": {
   "codemirror_mode": {
    "name": "ipython",
    "version": 3
   },
   "file_extension": ".py",
   "mimetype": "text/x-python",
   "name": "python",
   "nbconvert_exporter": "python",
   "pygments_lexer": "ipython3",
   "version": "3.10.9"
  }
 },
 "nbformat": 4,
 "nbformat_minor": 2
}
