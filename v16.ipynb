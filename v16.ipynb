{
 "cells": [
  {
   "cell_type": "code",
   "execution_count": 23,
   "metadata": {},
   "outputs": [],
   "source": [
    "%run runaway_functionsv3\n",
    "%matplotlib qt\n",
    "cl = Cluster('Alessi_Teutsch_5')\n",
    "# print(latex_text(cl))"
   ]
  },
  {
   "cell_type": "code",
   "execution_count": 24,
   "metadata": {},
   "outputs": [
    {
     "data": {
      "text/plain": [
       "<WCSAxesSubplot: >"
      ]
     },
     "execution_count": 24,
     "metadata": {},
     "output_type": "execute_result"
    }
   ],
   "source": [
    "cl.plot_cluster(extra=10)"
   ]
  },
  {
   "cell_type": "code",
   "execution_count": null,
   "metadata": {},
   "outputs": [],
   "source": [
    "def plot_cluster(self, pixels=1000):\n",
    "    # Open the FITS file and extract the image and WCS\n",
    "    cluster_10pc_fits_path = f'./Clusters/{self.name}/{self.name}_extra10pc.fits'\n",
    "    if not os.path.exists(cluster_10pc_fits_path):\n",
    "        get_search_region(self)\n",
    "    with fits.open(cluster_10pc_fits_path) as fits_file:\n",
    "        image = fits_file[0]\n",
    "        wcs = WCS(image.header)\n",
    "        fig, ax = plt.subplots(subplot_kw={'projection': wcs}, figsize=(15.5, 15.5))\n",
    "\n",
    "        ax.imshow(image.data, cmap='gray', alpha=0.7, interpolation='gaussian')\n",
    "        ax.set_xlabel('Right Ascension (hms)', color=\"black\")\n",
    "        ax.set_ylabel('Declination (degrees)', color=\"black\")\n",
    "\n",
    "        # Set the background color to black\n",
    "        # fig.patch.set_facecolor('black')\n",
    "        ax.set_facecolor('black')\n",
    "        # Set text colors to white\n",
    "        ax.title.set_color('white')\n",
    "        # ax.tick_params(axis='both', colors='black', length=10)\n",
    "        ax.tick_params(axis='none')\n",
    "        ax.grid(color='lightgrey', ls='dotted')"
   ]
  },
  {
   "cell_type": "code",
   "execution_count": 20,
   "metadata": {},
   "outputs": [
    {
     "name": "stdout",
     "output_type": "stream",
     "text": [
      "\\begin{table*}[h]\n",
      "\\fontsize{9pt}{11pt}\\selectfont\n",
      "\\caption{Kinematics of Bochum 13 compared to its runaway\\label{tab:Bochum_13_kinematics}}\n",
      "\\resizebox{\\textwidth}{!}{\\begin{tabular}{cccccccc}\n",
      "\\toprule\n",
      "Name & $\\alpha$ & $\\delta$ & d & $\\mu_{\\alpha}^*$ & $\\mu_{\\delta}$ & $v_r$ & $v_\\text{trans}$ \\\\\n",
      " & $\\mathrm{{}^{\\circ}}$ & $\\mathrm{{}^{\\circ}}$ & $\\mathrm{pc}$ & $\\mathrm{mas\\,yr^{-1}}$ & $\\mathrm{mas\\,yr^{-1}}$ & $\\mathrm{km\\,s^{-1}}$ & $\\mathrm{km\\,s^{-1}}$ \\\\\n",
      "\\midrule\n",
      "Bochum 13 & 259.324 & -35.535 & $1611\\pm61$ & $-0.3\\pm0.2$ & $-1.3\\pm0.1$ & $--\\pm--$ &  \\\\\n",
      "5975544297642036096 & 259.365 & -35.445 & $1530\\pm69$ & $0.3\\pm0.0$ & $2.3\\pm0.0$ & $--\\pm--$ & $26.4\\pm1.2$ \\\\\n",
      "5975543365625855488 & 259.34 & -35.525 & $1508\\pm61$ & $-1.4\\pm0.0$ & $-3.5\\pm0.0$ & $-18.9\\pm6.1$ & $17.8\\pm1.0$ \\\\\n",
      "\\bottomrule\n",
      "\\end{tabular}}\n",
      "\\end{table*}\n",
      "\n"
     ]
    }
   ],
   "source": [
    "print(generate_kinematics_latex(cl)[0])"
   ]
  },
  {
   "cell_type": "code",
   "execution_count": 21,
   "metadata": {},
   "outputs": [
    {
     "name": "stdout",
     "output_type": "stream",
     "text": [
      "\\begin{table*}[h]\n",
      "\\fontsize{11pt}{11pt}\\selectfont\n",
      "\\caption{Selected members of Bochum 13\\label{tab:Bochum_13_members}}\n",
      "\\resizebox{\\textwidth}{!}{\\begin{tabular}{cccccc}\n",
      "\\toprule\n",
      "Gaia DR3 Source & $r_{\\text{geo}}$ & $G$ & $\\mu_{\\alpha}^*$ & $\\mu_{\\delta}$ & $G_{\\text{BP}}-G_{\\text{RP}}$ \\\\\n",
      " & pc & mag & mas/yr & mas/yr & mag \\\\\n",
      "\\midrule\n",
      "5975542579654256640 & $1751^{+78}_{-60}$ & $7.828\\pm0.003$ & $-0.44\\pm0.03$ & $0.02\\pm0.02$ & $0.975\\pm0.007$ \\\\\n",
      "5975556186111510656 & $1533^{+52}_{-41}$ & $10.455\\pm0.003$ & $-0.28\\pm0.02$ & $0.01\\pm0.01$ & $1.066\\pm0.007$ \\\\\n",
      "5975543365633240320 & $1644^{+51}_{-40}$ & $11.999\\pm0.003$ & $-0.27\\pm0.02$ & $0.01\\pm0.01$ & $0.961\\pm0.008$ \\\\\n",
      "5975515637316994688 & $1641^{+49}_{-41}$ & $13.144\\pm0.003$ & $-0.30\\pm0.02$ & $0.01\\pm0.01$ & $1.040\\pm0.007$ \\\\\n",
      "5975539006241438336 & $1717^{+46}_{-44}$ & $13.203\\pm0.003$ & $-0.26\\pm0.02$ & $0.01\\pm0.01$ & $1.057\\pm0.011$ \\\\\n",
      "5975543331278657408 & $1661^{+42}_{-38}$ & $13.225\\pm0.003$ & $-0.24\\pm0.02$ & $0.01\\pm0.01$ & $1.123\\pm0.012$ \\\\\n",
      "5975542506639788800 & $1656^{+49}_{-37}$ & $13.399\\pm0.003$ & $-0.16\\pm0.02$ & $0.01\\pm0.01$ & $1.116\\pm0.007$ \\\\\n",
      "5975467125668744192 & $1705^{+46}_{-50}$ & $13.451\\pm0.003$ & $-0.27\\pm0.02$ & $0.01\\pm0.01$ & $1.091\\pm0.007$ \\\\\n",
      "5975545740750922624 & $1564^{+41}_{-39}$ & $13.580\\pm0.003$ & $-0.20\\pm0.02$ & $0.01\\pm0.01$ & $1.206\\pm0.007$ \\\\\n",
      "5975542820173295616 & $1504^{+52}_{-36}$ & $13.629\\pm0.003$ & $-0.39\\pm0.02$ & $0.02\\pm0.02$ & $1.388\\pm0.007$ \\\\\n",
      "\\bottomrule\n",
      "\\end{tabular}}\n",
      "\\end{table*}\n",
      "\n"
     ]
    }
   ],
   "source": [
    "print(generate_members_latex(cl))\n"
   ]
  },
  {
   "cell_type": "code",
   "execution_count": 10,
   "metadata": {},
   "outputs": [],
   "source": [
    "plot_cmd = cl.plot_cmd()\n",
    "show_annotation_manager(plot_cmd)"
   ]
  },
  {
   "cell_type": "code",
   "execution_count": 48,
   "metadata": {},
   "outputs": [],
   "source": [
    "plot_pm = cl.plot_pm()\n",
    "show_annotation_manager(plot_pm)"
   ]
  },
  {
   "cell_type": "code",
   "execution_count": 6,
   "metadata": {},
   "outputs": [
    {
     "name": "stderr",
     "output_type": "stream",
     "text": [
      "WARNING: MergeConflictWarning: Cannot merge meta key 'null' types <class 'float'> and <class 'float'>, choosing null=nan [astropy.utils.metadata]\n"
     ]
    }
   ],
   "source": [
    "%run runaway_functionsv3\n",
    "%matplotlib qt\n",
    "\n",
    "cl = Cluster('Berkeley_97')\n",
    "plot_traceback_clean = cl.plot_traceback_clean()\n",
    "show_annotation_manager(plot_traceback_clean)"
   ]
  },
  {
   "cell_type": "code",
   "execution_count": 12,
   "metadata": {},
   "outputs": [
    {
     "name": "stdout",
     "output_type": "stream",
     "text": [
      "50pc image downloaded in 8.912921s\n"
     ]
    }
   ],
   "source": [
    "%run runaway_functionsv3\n",
    "%matplotlib qt\n",
    "cl = Cluster('Berkeley_97')\n",
    "plot_traceback_psr = cl.plot_traceback_psr()\n",
    "show_annotation_manager(plot_traceback_psr)\n"
   ]
  },
  {
   "cell_type": "code",
   "execution_count": 4,
   "metadata": {},
   "outputs": [],
   "source": [
    "show_annotation_manager(plot_traceback_psr)\n"
   ]
  }
 ],
 "metadata": {
  "kernelspec": {
   "display_name": "Python 3",
   "language": "python",
   "name": "python3"
  },
  "language_info": {
   "codemirror_mode": {
    "name": "ipython",
    "version": 3
   },
   "file_extension": ".py",
   "mimetype": "text/x-python",
   "name": "python",
   "nbconvert_exporter": "python",
   "pygments_lexer": "ipython3",
   "version": "3.11.6"
  }
 },
 "nbformat": 4,
 "nbformat_minor": 2
}
