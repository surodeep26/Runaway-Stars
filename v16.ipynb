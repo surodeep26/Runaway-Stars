{
 "cells": [
  {
   "cell_type": "code",
   "execution_count": 34,
   "metadata": {},
   "outputs": [],
   "source": [
    "%run runaway_functionsv3"
   ]
  },
  {
   "cell_type": "code",
   "execution_count": 31,
   "metadata": {},
   "outputs": [
    {
     "name": "stdout",
     "output_type": "stream",
     "text": [
      "0.9 6.8 -0.1\n"
     ]
    },
    {
     "data": {
      "text/html": [
       "<div><i>Table length=1</i>\n",
       "<table id=\"table131091878887120\" class=\"table-striped table-bordered table-condensed\">\n",
       "<thead><tr><th>RA_ICRS_1</th><th>DE_ICRS_1</th><th>rgeo</th><th>Teff</th><th>Temp. Est</th><th>e_RA_ICRS</th><th>e_DE_ICRS</th><th>_r_1</th><th>HIP</th><th>TYC2</th><th>Source</th><th>Plx</th><th>e_Plx</th><th>pmRA</th><th>pmDE</th><th>e_pmRA</th><th>e_pmDE</th><th>RUWE</th><th>Gmag</th><th>BP-RP</th><th>BPmag</th><th>RPmag</th><th>b_rgeo</th><th>B_rgeo</th><th>e_Gmag</th><th>e_BPmag</th><th>e_RPmag</th><th>e_BP-RP</th><th>SkyCoord</th><th>rmRA</th><th>rmDE</th><th>v_pec</th><th>logg</th><th>RV</th><th>e_RV</th><th>FG</th><th>e_FG</th><th>FBP</th><th>e_FBP</th><th>FRP</th><th>e_FRP</th><th>RAVE5</th><th>RAVE6</th></tr></thead>\n",
       "<thead><tr><th>deg</th><th>deg</th><th>pc</th><th>K</th><th>K</th><th>mas</th><th>mas</th><th></th><th></th><th></th><th></th><th>mas</th><th>mas</th><th>mas / yr</th><th>mas / yr</th><th>mas / yr</th><th>mas / yr</th><th></th><th>mag</th><th>mag</th><th>mag</th><th>mag</th><th>pc</th><th>pc</th><th></th><th></th><th></th><th></th><th>deg,deg,pc</th><th>mas / yr</th><th>mas / yr</th><th>km / s</th><th>log(cm.s**-2)</th><th>km / s</th><th>km / s</th><th></th><th></th><th></th><th></th><th></th><th></th><th></th><th></th></tr></thead>\n",
       "<thead><tr><th>float64</th><th>float64</th><th>float64</th><th>float64</th><th>float64</th><th>float64</th><th>float64</th><th>float64</th><th>int32</th><th>str11</th><th>int64</th><th>float64</th><th>float32</th><th>float64</th><th>float64</th><th>float32</th><th>float32</th><th>float64</th><th>float64</th><th>float64</th><th>float64</th><th>float64</th><th>float64</th><th>float64</th><th>float64</th><th>float32</th><th>float32</th><th>float32</th><th>SkyCoord</th><th>float64</th><th>float64</th><th>float64</th><th>float64</th><th>float64</th><th>float32</th><th>float64</th><th>float32</th><th>float32</th><th>float32</th><th>float32</th><th>float32</th><th>str1</th><th>str1</th></tr></thead>\n",
       "<tr><td>132.26918571419</td><td>-41.86012579175</td><td>814.32153300</td><td>8231.5</td><td>10240.0</td><td>0.0194</td><td>0.0219</td><td>17.6322</td><td>--</td><td>--</td><td>5524602036116091520</td><td>1.1904</td><td>0.0254</td><td>-10.707</td><td>7.029</td><td>0.026</td><td>0.029</td><td>1.723</td><td>11.258210</td><td>0.356719</td><td>11.384149</td><td>11.027430</td><td>796.94012500</td><td>831.44531200</td><td>0.002774</td><td>0.002865</td><td>0.003795</td><td>0.00666</td><td>132.26918571419,-41.86012579175,814.321533</td><td>-5.176279289245606</td><td>3.10908074760437</td><td>23.30687698503049</td><td>4.0056</td><td>31.10</td><td>2.85</td><td>591102.51261</td><td>175.7</td><td>3.817e+05</td><td>229</td><td>3.077e+05</td><td>96.41</td><td>--</td><td>--</td></tr>\n",
       "</table></div>"
      ],
      "text/plain": [
       "<Table length=1>\n",
       "   RA_ICRS_1       DE_ICRS_1          rgeo      ...    e_FRP    RAVE5 RAVE6\n",
       "      deg             deg              pc       ...                        \n",
       "    float64         float64         float64     ...   float32    str1  str1\n",
       "--------------- --------------- --------------- ... ----------- ----- -----\n",
       "132.26918571419 -41.86012579175    814.32153300 ...       96.41    --    --"
      ]
     },
     "execution_count": 31,
     "metadata": {},
     "output_type": "execute_result"
    }
   ],
   "source": [
    "cl = Cluster(\"Alessi_43\")\n",
    "run = cl.runaways(temp_threshold=10000)\n",
    "run\n",
    "# ra = cl.runaways_all()\n",
    "# thiso = cl.theoretical_isochrone()\n",
    "# ra['Temp. Est'] = ra[\"Teff\"]\n",
    "\n"
   ]
  },
  {
   "cell_type": "code",
   "execution_count": 44,
   "metadata": {},
   "outputs": [
    {
     "name": "stdout",
     "output_type": "stream",
     "text": [
      "0.9 6.8 -0.1\n"
     ]
    },
    {
     "name": "stderr",
     "output_type": "stream",
     "text": [
      "/usr/lib/python3/dist-packages/erfa/core.py:154: ErfaWarning: ERFA function \"taiutc\" yielded 1 of \"dubious year (Note 4)\"\n",
      "  warnings.warn('ERFA function \"{}\" yielded {}'.format(func_name, wmsg),\n"
     ]
    }
   ],
   "source": [
    "from astropy.wcs import WCS\n",
    "from astropy.io import fits\n",
    "from astropy import units as u\n",
    "from astropy.table import Table\n",
    "from astropy.time import Time\n",
    "import matplotlib.pyplot as plt\n",
    "from astropy.coordinates import SkyCoord, Angle\n",
    "from regions import CircleSkyRegion, PointSkyRegion, LineSkyRegion\n",
    "import numpy as np\n",
    "\n",
    "# Your previous code to calculate coordinates\n",
    "allrun = cl.runaways()[:]\n",
    "allrun_coord_now = SkyCoord(ra=allrun['RA_ICRS_1'], \n",
    "                        dec=allrun['DE_ICRS_1'],\n",
    "                        distance=allrun['rgeo'], \n",
    "                        pm_ra_cosdec=allrun['rmRA'],\n",
    "                        pm_dec=allrun['rmDE'],\n",
    "                        obstime=Time('J2000')+500*u.kyr)\n",
    "\n",
    "allrun_coord_earlier = allrun_coord_now.apply_space_motion(dt=-100*u.kyr)\n",
    "\n",
    "\n",
    "\n",
    "def get_search_region(cluster, extra=10,display=True,**kwargs):\n",
    "    \"\"\"\n",
    "    Plots and saves the fits file for the region around the given cluster.\n",
    "\n",
    "    Parameters:\n",
    "    - extra (float): Additional extent for the search region (default is from config['Cluster']['search_extent']).\n",
    "\n",
    "    Returns:\n",
    "    None\n",
    "    \"\"\"\n",
    "    search_arcmin = cl.search_arcmin\n",
    "    \n",
    "    # Define the file path\n",
    "    fits_file_path = f'./Clusters/{cl.name}/{cl.name}_extra{extra}pc.fits'\n",
    "    \n",
    "    # Check if the file already exists\n",
    "    if os.path.exists(fits_file_path):\n",
    "        print(f'fits image exists in {cl.name} folder')\n",
    "        # File exists, no need to download, use the existing file\n",
    "        images = [fits.open(fits_file_path)]\n",
    "        # Extract the WCS information\n",
    "        wcs = WCS(images[0][0].header)\n",
    "    else:\n",
    "        # File doesn't exist, get the image data from SkyView\n",
    "        images = SkyView.get_images(position=cl.skycoord,\n",
    "                                    survey='DSS',\n",
    "                                    radius=2*search_arcmin,\n",
    "                                    **kwargs)\n",
    "        # Extract the WCS information\n",
    "        wcs = WCS(images[0][0].header)\n",
    "        hdu = fits.PrimaryHDU(data=images[0][0].data, header=images[0][0].header)\n",
    "        hdulist = fits.HDUList([hdu])\n",
    "        \n",
    "        # Save the fits file\n",
    "        hdulist.writeto(fits_file_path, overwrite=True)\n",
    "# Open the FITS file and extract the image and WCS\n",
    "cluster_10pc_fits_path = f'./Clusters/{cl.name}/{cl.name}_extra10pc.fits'\n",
    "if not os.path.exists(cluster_10pc_fits_path):\n",
    "    get_search_region(cl)\n",
    "with fits.open(cluster_10pc_fits_path) as fits_file:\n",
    "    image = fits_file[0]\n",
    "    wcs = WCS(image.header)\n",
    "    fig, ax = plt.subplots(subplot_kw={'projection': wcs}, figsize=(16, 16))\n",
    "    ax.imshow(image.data, cmap='gray')\n",
    "    ax.set_xlabel('Right Ascension (hms)')\n",
    "    ax.set_ylabel('Declination (degrees)')\n",
    "\n",
    "    # Plot the cluster region\n",
    "    c = cl.skycoord\n",
    "    radius = cl.r50\n",
    "    region = CircleSkyRegion(c, radius)\n",
    "    region_pix = region.to_pixel(wcs)\n",
    "    region_pix.plot(ax=ax, color='red', lw=2)\n",
    "    \n",
    "    # Calculate the pixel coordinates of the runaway stars\n",
    "    allrun_pixels_now = wcs.world_to_pixel(allrun_coord_now)\n",
    "    allrun_pixels_earlier = wcs.world_to_pixel(allrun_coord_earlier)\n",
    "\n",
    "    # Plot the current positions as scatter points\n",
    "    scatter_main = ax.scatter(allrun_pixels_now[0], allrun_pixels_now[1], c=allrun['Temp. Est'], cmap='spring_r', s=50)\n",
    "    colorbar = fig.colorbar(scatter_main,ax=ax)       # Plot the lines showing motion\n",
    "    for start, end in zip(np.transpose(allrun_pixels_now), np.transpose(allrun_pixels_earlier)):\n",
    "        ax.plot([start[0], end[0]], [start[1], end[1]], color='blue')\n",
    "plt.tight_layout()\n",
    "plt.show()\n"
   ]
  },
  {
   "cell_type": "code",
   "execution_count": 37,
   "metadata": {},
   "outputs": [],
   "source": [
    "dias2021 = Table.read(\"dias2021.tsv\", format=\"ascii.ecsv\")\n",
    "maskplx = dias2021['Plx'] > 0.3\n",
    "maskage = dias2021['logage'] < 7.7\n",
    "workclusters = []\n",
    "for clustername in dias2021[maskplx & maskage][:]['Cluster']:\n",
    "    if clustername not in ['ASCC_79','BH_164','BH_23','Collinder_135','Collinder_140','Gulliver_9','IC_2391','IC_2602','Mamajek_1','Platais_8','UPK_535','UPK_606','UPK_640','Berkeley_59','COIN-Gaia_37','Ivanov_4','LP_1937','Sigma_Ori','UBC_632']:\n",
    "        workclusters.append(clustername)\n",
    "        # print(clustername)\n",
    "        # cl = Cluster(clustername)\n",
    "        # cl.prepare_trace()\n",
    "# cl.stars_in_region()\n",
    "# cl.stars_in_region()"
   ]
  },
  {
   "cell_type": "code",
   "execution_count": null,
   "metadata": {},
   "outputs": [],
   "source": [
    "workclusters_mask = [cluster in workclusters for cluster in dias2021['Cluster']]\n",
    "workclusterstable = dias2021[workclusters_mask]\n",
    "\n",
    "rvexists = workclusterstable['RV'].mask\n",
    "nrvgood = workclusterstable['NRV'] > 4\n",
    "\n",
    "workclusterstable[~rvexists & nrvgood]"
   ]
  },
  {
   "cell_type": "code",
   "execution_count": null,
   "metadata": {},
   "outputs": [],
   "source": [
    "def runaways_from(clustername):\n",
    "    cl = Cluster(clustername)\n",
    "    fs4giesler = cl.fast_stars_in_region()\n",
    "    outputs = os.listdir(f\"/home/surodeep/suro_aiu/traceback/cluster_runaway/{cl.name}/runaways/\")\n",
    "    linenos = []\n",
    "    for output in outputs:\n",
    "        #print(output)\n",
    "        if 'run' in output:\n",
    "            linenos.append(int(output.split(\"+\")[1].replace(\".out\",\"\")))\n",
    "    linenos.sort()\n",
    "    # print(linenos)\n",
    "    i=np.array(linenos)-3\n",
    "    def source_of(lineno, input_table):\n",
    "        return input_table[lineno-2]['Source']\n",
    "    return fs4giesler[i]\n",
    "for cluster in workclusters:\n",
    "    t = runaways_from(cluster)[runaways_from(cluster)['Teff'].argmax()]['Teff']\n",
    "    \n",
    "    if t>10000:\n",
    "        print(cluster, t,runaways_from(cluster)[runaways_from(cluster)['Teff'].argmax()]['Source'])"
   ]
  }
 ],
 "metadata": {
  "kernelspec": {
   "display_name": "Python 3",
   "language": "python",
   "name": "python3"
  },
  "language_info": {
   "codemirror_mode": {
    "name": "ipython",
    "version": 3
   },
   "file_extension": ".py",
   "mimetype": "text/x-python",
   "name": "python",
   "nbconvert_exporter": "python",
   "pygments_lexer": "ipython3",
   "version": "3.11.6"
  }
 },
 "nbformat": 4,
 "nbformat_minor": 2
}
