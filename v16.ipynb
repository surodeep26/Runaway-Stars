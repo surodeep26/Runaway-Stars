{
 "cells": [
  {
   "cell_type": "markdown",
   "metadata": {},
   "source": [
    "# Basel_8"
   ]
  },
  {
   "cell_type": "markdown",
   "metadata": {},
   "source": [
    "## Cluster"
   ]
  },
  {
   "cell_type": "code",
   "execution_count": 6,
   "metadata": {},
   "outputs": [],
   "source": [
    "%run runaway_functionsv3\n",
    "%matplotlib qt\n",
    "cl = Cluster('Basel_8')\n",
    "cld = ClusterDias('Basel_8')"
   ]
  },
  {
   "cell_type": "markdown",
   "metadata": {},
   "source": [
    "## CMD"
   ]
  },
  {
   "cell_type": "code",
   "execution_count": 37,
   "metadata": {},
   "outputs": [
    {
     "name": "stdout",
     "output_type": "stream",
     "text": [
      "   Name  \n",
      "---------\n",
      "HD 259597\n",
      "   Name  \n",
      "---------\n",
      "HD 259787\n",
      "   Name  \n",
      "---------\n",
      "HD 259991\n"
     ]
    }
   ],
   "source": [
    "plot_cmd = cl.plot_cmd(isochrones=[Isochrone(cld)])\n",
    "# show_annotation_manager(plot_pm)"
   ]
  },
  {
   "cell_type": "code",
   "execution_count": 38,
   "metadata": {},
   "outputs": [],
   "source": [
    "show_annotation_manager(plot_cmd)"
   ]
  },
  {
   "cell_type": "markdown",
   "metadata": {},
   "source": [
    "## PM"
   ]
  },
  {
   "cell_type": "code",
   "execution_count": 39,
   "metadata": {},
   "outputs": [],
   "source": [
    "plot_pm = cl.plot_pm()"
   ]
  },
  {
   "cell_type": "code",
   "execution_count": 40,
   "metadata": {},
   "outputs": [],
   "source": [
    "show_annotation_manager(plot_pm)"
   ]
  },
  {
   "cell_type": "markdown",
   "metadata": {},
   "source": [
    "## Traceback clean"
   ]
  },
  {
   "cell_type": "code",
   "execution_count": 36,
   "metadata": {},
   "outputs": [
    {
     "name": "stderr",
     "output_type": "stream",
     "text": [
      "WARNING: MergeConflictWarning: Cannot merge meta key 'null' types <class 'float'> and <class 'float'>, choosing null=nan [astropy.utils.metadata]\n",
      "WARNING: MergeConflictWarning: Cannot merge meta key 'null' types <class 'float'> and <class 'float'>, choosing null=nan [astropy.utils.metadata]\n"
     ]
    }
   ],
   "source": [
    "%run runaway_functionsv3\n",
    "%matplotlib qt\n",
    "cl = Cluster('Basel_8')\n",
    "\n",
    "plot_traceback_clean = cl.plot_traceback_clean()"
   ]
  },
  {
   "cell_type": "code",
   "execution_count": 4,
   "metadata": {},
   "outputs": [],
   "source": [
    "show_annotation_manager(plot_traceback_clean)\n"
   ]
  },
  {
   "cell_type": "markdown",
   "metadata": {},
   "source": [
    "## Traceback PSR"
   ]
  },
  {
   "cell_type": "code",
   "execution_count": 51,
   "metadata": {},
   "outputs": [],
   "source": [
    "%run runaway_functionsv3\n",
    "%matplotlib qt\n",
    "cl = Cluster('Basel_8')\n",
    "psr_table = cl.psrs()\n",
    "psr_table\n",
    "mask = np.isin(psr_table['JNAME'], [\"J0641+07\"])\n",
    "psr_table = psr_table[mask]\n",
    "plot_traceback_psr,wcs = cl.plot_traceback_psr(psr_table=psr_table, trace_time=-115*u.kyr, extra=30)\n"
   ]
  },
  {
   "cell_type": "code",
   "execution_count": 30,
   "metadata": {},
   "outputs": [
    {
     "data": {
      "text/html": [
       "<div><i>Table length=5</i>\n",
       "<table id=\"table129471503193552\" class=\"table-striped table-bordered table-condensed\">\n",
       "<thead><tr><th>JNAME</th><th>RAJD</th><th>DECJD</th><th>DIST</th><th>DIST_DM</th><th>AGE</th><th>PMRA</th><th>PMDEC</th><th>S400</th><th>ASSOC</th><th>AGE_I</th><th>PX</th><th>P0</th><th>P1</th><th>BSURF</th><th>SkyCoord</th><th>sep2d</th><th>sep3d</th></tr></thead>\n",
       "<thead><tr><th></th><th>deg</th><th>deg</th><th>kpc</th><th>kpc</th><th>yr</th><th>mas / yr</th><th>mas / yr</th><th>mJy</th><th></th><th>yr</th><th>mas</th><th>s</th><th></th><th>G</th><th>deg,deg,kpc</th><th>deg</th><th>kpc</th></tr></thead>\n",
       "<thead><tr><th>str12</th><th>float64</th><th>float64</th><th>float64</th><th>float64</th><th>float64</th><th>float64</th><th>float64</th><th>float64</th><th>str5</th><th>float64</th><th>float64</th><th>float64</th><th>float64</th><th>float64</th><th>SkyCoord</th><th>float64</th><th>float64</th></tr></thead>\n",
       "<tr><td>J0633+0632</td><td>98.43420833333332</td><td>6.543027777777778</td><td>1.355</td><td>--</td><td>59201.54196602287</td><td>--</td><td>--</td><td>--</td><td>GRS</td><td>--</td><td>--</td><td>0.2973951905763917</td><td>7.959154948922749e-14</td><td>4923233438026.881</td><td>98.43420833333332,6.543027777777778,1.355</td><td>1.5001221289676925</td><td>0.10184184196052948</td></tr>\n",
       "<tr><td>J0641+07</td><td>100.29166666666667</td><td>7.733333333333333</td><td>1.257</td><td>1.257</td><td>--</td><td>--</td><td>--</td><td>--</td><td>--</td><td>--</td><td>--</td><td>--</td><td>--</td><td>--</td><td>100.29166666666667,7.733333333333333,1.257</td><td>1.743908226577804</td><td>0.19732558371928377</td></tr>\n",
       "<tr><td>J0625+10</td><td>96.4375</td><td>10.266666666666667</td><td>1.637</td><td>1.637</td><td>--</td><td>--</td><td>--</td><td>--</td><td>--</td><td>--</td><td>--</td><td>0.498397</td><td>--</td><td>--</td><td>96.4375,10.266666666666667,1.637</td><td>3.0576926937161186</td><td>0.20427331840708984</td></tr>\n",
       "<tr><td>J0631+1036</td><td>97.86468333333332</td><td>10.617361111111112</td><td>2.104</td><td>2.104</td><td>44395.34592893789</td><td>--</td><td>--</td><td>1.5</td><td>GRS</td><td>--</td><td>--</td><td>0.28781555571653766</td><td>1.0271712510572369e-13</td><td>5502100736860.678</td><td>97.86468333333332,10.617361111111112,2.104</td><td>2.6684887959280545</td><td>0.6590389855676634</td></tr>\n",
       "<tr><td>J0627+0706</td><td>96.93404999999998</td><td>7.109166666666666</td><td>2.289</td><td>2.289</td><td>252945.1483866456</td><td>--</td><td>--</td><td>6.0</td><td>--</td><td>--</td><td>--</td><td>0.4758849377129841</td><td>2.9808604339332905e-14</td><td>3811288102334.755</td><td>96.93404999999998,7.109166666666666,2.289</td><td>1.858734633129263</td><td>0.8410789093069662</td></tr>\n",
       "</table></div>"
      ],
      "text/plain": [
       "<Table length=5>\n",
       "  JNAME           RAJD        ...       sep2d               sep3d       \n",
       "                  deg         ...        deg                 kpc        \n",
       "  str12         float64       ...      float64             float64      \n",
       "---------- ------------------ ... ------------------ -------------------\n",
       "J0633+0632  98.43420833333332 ... 1.5001221289676925 0.10184184196052948\n",
       "  J0641+07 100.29166666666667 ...  1.743908226577804 0.19732558371928377\n",
       "  J0625+10            96.4375 ... 3.0576926937161186 0.20427331840708984\n",
       "J0631+1036  97.86468333333332 ... 2.6684887959280545  0.6590389855676634\n",
       "J0627+0706  96.93404999999998 ...  1.858734633129263  0.8410789093069662"
      ]
     },
     "execution_count": 30,
     "metadata": {},
     "output_type": "execute_result"
    }
   ],
   "source": [
    "cl.psrs()"
   ]
  },
  {
   "cell_type": "code",
   "execution_count": 47,
   "metadata": {},
   "outputs": [],
   "source": [
    "show_annotation_manager(plot_traceback_psr)\n"
   ]
  },
  {
   "cell_type": "code",
   "execution_count": 54,
   "metadata": {},
   "outputs": [
    {
     "data": {
      "text/plain": [
       "'06h34m13.968s +08d02m17.16s'"
      ]
     },
     "execution_count": 54,
     "metadata": {},
     "output_type": "execute_result"
    }
   ],
   "source": [
    "cl.skycoord.to_string(\"hmsdms\")"
   ]
  },
  {
   "cell_type": "code",
   "execution_count": 55,
   "metadata": {},
   "outputs": [
    {
     "data": {
      "text/html": [
       "<div><i>Table length=8</i>\n",
       "<table id=\"table129471282991248\" class=\"table-striped table-bordered table-condensed\">\n",
       "<thead><tr><th>RA_ICRS_1</th><th>DE_ICRS_1</th><th>e_RA_ICRS</th><th>e_DE_ICRS</th><th>_r_1</th><th>HIP</th><th>TYC2</th><th>Source</th><th>rgeo</th><th>Plx</th><th>e_Plx</th><th>pmRA</th><th>pmDE</th><th>e_pmRA</th><th>e_pmDE</th><th>RUWE</th><th>Teff</th><th>logg</th><th>Gmag</th><th>BP-RP</th><th>BPmag</th><th>RPmag</th><th>RV</th><th>e_RV</th><th>b_rgeo</th><th>B_rgeo</th><th>FG</th><th>e_FG</th><th>FBP</th><th>e_FBP</th><th>FRP</th><th>e_FRP</th><th>RAVE5</th><th>RAVE6</th><th>e_Gmag</th><th>e_BPmag</th><th>e_RPmag</th><th>e_BP-RP</th><th>SkyCoord</th><th>rmRA</th><th>rmDE</th><th>e_rmRA</th><th>e_rmDE</th><th>rRV</th><th>e_rRV</th><th>v_pec</th><th>v_pec3d</th><th>e_v_pec</th><th>e_v_pec3d</th><th>Pmemb</th></tr></thead>\n",
       "<thead><tr><th>deg</th><th>deg</th><th>mas</th><th>mas</th><th></th><th></th><th></th><th></th><th>pc</th><th>mas</th><th>mas</th><th>mas / yr</th><th>mas / yr</th><th>mas / yr</th><th>mas / yr</th><th></th><th>K</th><th>log(cm.s**-2)</th><th>mag</th><th>mag</th><th>mag</th><th>mag</th><th>km / s</th><th>km / s</th><th>pc</th><th>pc</th><th></th><th></th><th></th><th></th><th></th><th></th><th></th><th></th><th></th><th></th><th></th><th></th><th>deg,deg,pc</th><th>mas / yr</th><th>mas / yr</th><th>mas / yr</th><th>mas / yr</th><th>km / s</th><th>km / s</th><th>km / s</th><th>km / s</th><th>km / s</th><th>km / s</th><th></th></tr></thead>\n",
       "<thead><tr><th>float64</th><th>float64</th><th>float64</th><th>float64</th><th>float64</th><th>int32</th><th>str10</th><th>int64</th><th>float64</th><th>float64</th><th>float32</th><th>float64</th><th>float64</th><th>float32</th><th>float32</th><th>float64</th><th>float64</th><th>float64</th><th>float64</th><th>float64</th><th>float64</th><th>float64</th><th>float64</th><th>float32</th><th>float64</th><th>float64</th><th>float64</th><th>float32</th><th>float32</th><th>float32</th><th>float32</th><th>float32</th><th>str1</th><th>str1</th><th>float64</th><th>float32</th><th>float32</th><th>float32</th><th>SkyCoord</th><th>float64</th><th>float64</th><th>float32</th><th>float32</th><th>float64</th><th>float32</th><th>float64</th><th>float64</th><th>float64</th><th>float64</th><th>float64</th></tr></thead>\n",
       "<tr><td>98.38429327278</td><td>8.33557580226</td><td>0.0298</td><td>0.0279</td><td>20.6218</td><td>--</td><td>733-1218-1</td><td>3326048448124872320</td><td>1517.70947000</td><td>0.6283</td><td>0.0363</td><td>-0.760</td><td>-1.057</td><td>0.035</td><td>0.028</td><td>1.363</td><td>32036.6</td><td>3.9984</td><td>8.432107</td><td>0.337074</td><td>8.528219</td><td>8.191145</td><td>--</td><td>--</td><td>1442.38904000</td><td>1621.94727000</td><td>7981856.09929</td><td>1.935e+04</td><td>5.298e+06</td><td>4.473e+04</td><td>4.195e+06</td><td>3.635e+04</td><td>--</td><td>--</td><td>0.00381</td><td>0.009581</td><td>0.01014</td><td>0.01972</td><td>98.38429327278,8.33557580226,1517.70947</td><td>-0.570</td><td>1.126</td><td>0.260</td><td>0.253</td><td>--</td><td>--</td><td>9.081153222849567</td><td>--</td><td>2.3092690045811937</td><td>--</td><td>1.0</td></tr>\n",
       "<tr><td>98.55031962528</td><td>7.98752507297</td><td>0.0259</td><td>0.0256</td><td>3.0701</td><td>--</td><td>733-1512-1</td><td>3326023842254469120</td><td>1409.47327000</td><td>0.6747</td><td>0.0338</td><td>-0.049</td><td>-2.251</td><td>0.033</td><td>0.026</td><td>1.305</td><td>11353.8</td><td>3.4433</td><td>9.743308</td><td>0.202579</td><td>9.800635</td><td>9.598057</td><td>19.20</td><td>6.03</td><td>1354.19275000</td><td>1463.96838000</td><td>2385742.02510</td><td>856.2</td><td>1.641e+06</td><td>1297</td><td>1.148e+06</td><td>614.7</td><td>--</td><td>--</td><td>0.002783</td><td>0.002919</td><td>0.003824</td><td>0.006743</td><td>98.55031962528,7.98752507297,1409.47327</td><td>0.141</td><td>-0.068</td><td>0.258</td><td>0.251</td><td>-0.05</td><td>15.58</td><td>1.043214060048465</td><td>1.04</td><td>0.26762581622056764</td><td>0.79</td><td>1.0</td></tr>\n",
       "<tr><td>98.54082660573</td><td>8.01212878661</td><td>0.0194</td><td>0.0180</td><td>1.8691</td><td>--</td><td>733-2228-1</td><td>3326024117132373632</td><td>1445.86487000</td><td>0.6384</td><td>0.0232</td><td>-0.182</td><td>-2.405</td><td>0.024</td><td>0.021</td><td>1.032</td><td>--</td><td>--</td><td>11.888272</td><td>0.294881</td><td>11.986523</td><td>11.691642</td><td>--</td><td>--</td><td>1405.83179000</td><td>1494.29736000</td><td>330855.23367</td><td>85.93</td><td>2.192e+05</td><td>175.4</td><td>1.669e+05</td><td>94.7</td><td>--</td><td>--</td><td>0.00277</td><td>0.002922</td><td>0.003829</td><td>0.006752</td><td>98.54082660573,8.01212878661,1445.86487</td><td>0.008</td><td>-0.222</td><td>0.249</td><td>0.246</td><td>--</td><td>--</td><td>1.5214955538026567</td><td>--</td><td>0.3740615801533191</td><td>--</td><td>0.8</td></tr>\n",
       "<tr><td>98.47991490921</td><td>8.04956098629</td><td>0.0149</td><td>0.0133</td><td>4.7019</td><td>--</td><td>--</td><td>3326028175879616256</td><td>1452.00476000</td><td>0.6440</td><td>0.0172</td><td>-0.121</td><td>-2.316</td><td>0.019</td><td>0.016</td><td>1.081</td><td>9561.1</td><td>4.0650</td><td>13.194690</td><td>0.412356</td><td>13.343504</td><td>12.931148</td><td>--</td><td>--</td><td>1423.29114000</td><td>1486.77441000</td><td>99327.79055</td><td>60.73</td><td>6.281e+04</td><td>46.62</td><td>5.33e+04</td><td>36.04</td><td>--</td><td>--</td><td>0.002834</td><td>0.002904</td><td>0.00385</td><td>0.006754</td><td>98.47991490921,8.04956098629,1452.00476</td><td>0.069</td><td>-0.133</td><td>0.244</td><td>0.241</td><td>--</td><td>--</td><td>1.029277061512286</td><td>--</td><td>0.2485523901457674</td><td>--</td><td>0.8</td></tr>\n",
       "<tr><td>98.55007006085</td><td>7.86501938128</td><td>0.0137</td><td>0.0141</td><td>10.3957</td><td>--</td><td>--</td><td>3325969180208898432</td><td>1470.48962000</td><td>0.6390</td><td>0.0173</td><td>-0.089</td><td>-2.365</td><td>0.017</td><td>0.014</td><td>1.110</td><td>9412.0</td><td>4.0243</td><td>13.391542</td><td>0.548879</td><td>13.596915</td><td>13.048037</td><td>--</td><td>--</td><td>1434.64990000</td><td>1507.35620000</td><td>82857.08176</td><td>32.24</td><td>4.973e+04</td><td>34.79</td><td>4.786e+04</td><td>27.08</td><td>--</td><td>--</td><td>0.002788</td><td>0.002892</td><td>0.003829</td><td>0.006721</td><td>98.55007006085,7.86501938128,1470.48962</td><td>0.101</td><td>-0.182</td><td>0.242</td><td>0.239</td><td>--</td><td>--</td><td>1.448777766372426</td><td>--</td><td>0.3470607243596529</td><td>--</td><td>0.9</td></tr>\n",
       "<tr><td>98.47750157250</td><td>8.18827800746</td><td>0.0134</td><td>0.0127</td><td>10.2068</td><td>--</td><td>--</td><td>3326041335659347072</td><td>1507.59143000</td><td>0.6195</td><td>0.0153</td><td>-0.189</td><td>-2.312</td><td>0.017</td><td>0.014</td><td>0.870</td><td>9455.0</td><td>4.0699</td><td>13.434296</td><td>0.469467</td><td>13.606323</td><td>13.136856</td><td>--</td><td>--</td><td>1478.83008000</td><td>1540.77148000</td><td>79657.81580</td><td>32.15</td><td>4.93e+04</td><td>47.39</td><td>4.41e+04</td><td>27.86</td><td>--</td><td>--</td><td>0.00279</td><td>0.002979</td><td>0.003841</td><td>0.00682</td><td>98.4775015725,8.18827800746,1507.59143</td><td>0.001</td><td>-0.129</td><td>0.242</td><td>0.239</td><td>--</td><td>--</td><td>0.9209493012040895</td><td>--</td><td>0.21996667659651986</td><td>--</td><td>0.8</td></tr>\n",
       "<tr><td>98.24454758674</td><td>8.31487809120</td><td>0.0295</td><td>0.0282</td><td>24.9560</td><td>--</td><td>--</td><td>3326235124583953024</td><td>1350.09131000</td><td>0.7037</td><td>0.0356</td><td>-0.143</td><td>-2.324</td><td>0.035</td><td>0.029</td><td>1.018</td><td>6085.7</td><td>4.3650</td><td>15.458742</td><td>1.038140</td><td>15.888773</td><td>14.850633</td><td>--</td><td>--</td><td>1285.37537000</td><td>1427.07764000</td><td>12343.82570</td><td>5.489</td><td>6024</td><td>25.96</td><td>9097</td><td>17.55</td><td>--</td><td>--</td><td>0.002797</td><td>0.005447</td><td>0.004321</td><td>0.009768</td><td>98.24454758674,8.3148780912,1350.09131</td><td>0.047</td><td>-0.141</td><td>0.260</td><td>0.254</td><td>--</td><td>--</td><td>0.9496130918997572</td><td>--</td><td>0.24162557021889947</td><td>--</td><td>0.8</td></tr>\n",
       "<tr><td>98.40426423219</td><td>8.20239755076</td><td>0.0502</td><td>0.0501</td><td>13.4460</td><td>--</td><td>--</td><td>3326042263371980288</td><td>1447.73010000</td><td>0.6725</td><td>0.0646</td><td>0.016</td><td>-2.435</td><td>0.065</td><td>0.051</td><td>1.056</td><td>5186.4</td><td>4.6851</td><td>16.487823</td><td>1.176759</td><td>16.995525</td><td>15.818767</td><td>--</td><td>--</td><td>1313.03174000</td><td>1577.34607000</td><td>4784.29135</td><td>4.422</td><td>2174</td><td>14.95</td><td>3730</td><td>13.34</td><td>--</td><td>--</td><td>0.002932</td><td>0.007971</td><td>0.005418</td><td>0.01339</td><td>98.40426423219,8.20239755076,1447.7301</td><td>0.206</td><td>-0.252</td><td>0.290</td><td>0.276</td><td>--</td><td>--</td><td>2.231258843418906</td><td>--</td><td>0.6281668405601967</td><td>--</td><td>0.8</td></tr>\n",
       "</table></div>"
      ],
      "text/plain": [
       "<Table length=8>\n",
       "   RA_ICRS_1       DE_ICRS_1    e_RA_ICRS ... e_v_pec3d  Pmemb \n",
       "      deg             deg          mas    ...   km / s         \n",
       "    float64         float64      float64  ...  float64  float64\n",
       "--------------- --------------- --------- ... --------- -------\n",
       " 98.38429327278   8.33557580226    0.0298 ...        --     1.0\n",
       " 98.55031962528   7.98752507297    0.0259 ...      0.79     1.0\n",
       " 98.54082660573   8.01212878661    0.0194 ...        --     0.8\n",
       " 98.47991490921   8.04956098629    0.0149 ...        --     0.8\n",
       " 98.55007006085   7.86501938128    0.0137 ...        --     0.9\n",
       " 98.47750157250   8.18827800746    0.0134 ...        --     0.8\n",
       " 98.24454758674   8.31487809120    0.0295 ...        --     0.8\n",
       " 98.40426423219   8.20239755076    0.0502 ...        --     0.8"
      ]
     },
     "execution_count": 55,
     "metadata": {},
     "output_type": "execute_result"
    }
   ],
   "source": [
    "cl.mymembers"
   ]
  },
  {
   "cell_type": "markdown",
   "metadata": {},
   "source": [
    "# RSG_8\n"
   ]
  },
  {
   "cell_type": "code",
   "execution_count": 5,
   "metadata": {},
   "outputs": [],
   "source": [
    "%run runaway_functionsv3\n",
    "%matplotlib qt\n",
    "cl = Cluster('RSG_8')\n",
    "cld = ClusterDias('RSG_8')\n",
    "# print(latex_text(cl))"
   ]
  },
  {
   "cell_type": "code",
   "execution_count": 56,
   "metadata": {},
   "outputs": [],
   "source": [
    "%run runaway_functionsv3\n",
    "%matplotlib qt\n",
    "\n",
    "cl = Cluster('NGC_4103')\n",
    "# cl.psrs()\n",
    "\n",
    "# plot_traceback_clean = cl.plot_traceback_clean()\n",
    "# show_annotation_manager(plot_traceback_clean)"
   ]
  },
  {
   "cell_type": "code",
   "execution_count": 58,
   "metadata": {},
   "outputs": [
    {
     "name": "stdout",
     "output_type": "stream",
     "text": [
      "10pc image downloaded in 15.659262s\n"
     ]
    }
   ],
   "source": [
    "plot_traceback = cl.plot_traceback_clean()"
   ]
  },
  {
   "cell_type": "code",
   "execution_count": 60,
   "metadata": {},
   "outputs": [],
   "source": [
    "show_annotation_manager(plot_traceback)\n"
   ]
  },
  {
   "cell_type": "code",
   "execution_count": 38,
   "metadata": {},
   "outputs": [
    {
     "data": {
      "text/html": [
       "<div><i>Table length=1</i>\n",
       "<table id=\"table133055478658832\" class=\"table-striped table-bordered table-condensed\">\n",
       "<thead><tr><th>Name</th><th>RA_ICRS_1</th><th>DE_ICRS_1</th><th>rgeo</th><th>Teff</th><th>Temp. Est</th><th>v_pec</th><th>e_v_pec</th><th>v_pec3d</th><th>e_v_pec3d</th><th>HIP</th><th>TYC2</th><th>Source</th><th>Plx</th><th>e_Plx</th><th>pmRA</th><th>pmDE</th><th>e_pmRA</th><th>e_pmDE</th><th>RUWE</th><th>Gmag</th><th>BP-RP</th><th>BPmag</th><th>RPmag</th><th>b_rgeo</th><th>B_rgeo</th><th>e_Gmag</th><th>e_BPmag</th><th>e_RPmag</th><th>e_BP-RP</th><th>SkyCoord</th><th>rmRA</th><th>e_rmRA</th><th>rmDE</th><th>e_rmDE</th><th>logg</th><th>RV</th><th>e_RV</th><th>rRV</th><th>e_rRV</th><th>FG</th><th>e_FG</th><th>FBP</th><th>e_FBP</th><th>FRP</th><th>e_FRP</th><th>RAVE5</th><th>RAVE6</th></tr></thead>\n",
       "<thead><tr><th></th><th>deg</th><th>deg</th><th>pc</th><th>K</th><th>K</th><th>km / s</th><th>km / s</th><th>km / s</th><th>km / s</th><th></th><th></th><th></th><th>mas</th><th>mas</th><th>mas / yr</th><th>mas / yr</th><th>mas / yr</th><th>mas / yr</th><th></th><th>mag</th><th>mag</th><th>mag</th><th>mag</th><th>pc</th><th>pc</th><th></th><th></th><th></th><th></th><th>deg,deg,pc</th><th>mas / yr</th><th>mas / yr</th><th>mas / yr</th><th>mas / yr</th><th>log(cm.s**-2)</th><th>km / s</th><th>km / s</th><th>km / s</th><th>km / s</th><th></th><th></th><th></th><th></th><th></th><th></th><th></th><th></th></tr></thead>\n",
       "<thead><tr><th>str15</th><th>float64</th><th>float64</th><th>float64</th><th>float64</th><th>float64</th><th>float64</th><th>float64</th><th>float64</th><th>float64</th><th>int32</th><th>str11</th><th>int64</th><th>float64</th><th>float32</th><th>float64</th><th>float64</th><th>float32</th><th>float32</th><th>float64</th><th>float64</th><th>float64</th><th>float64</th><th>float64</th><th>float64</th><th>float64</th><th>float64</th><th>float32</th><th>float32</th><th>float32</th><th>SkyCoord</th><th>float64</th><th>float32</th><th>float64</th><th>float32</th><th>float64</th><th>float64</th><th>float32</th><th>float64</th><th>float32</th><th>float64</th><th>float32</th><th>float32</th><th>float32</th><th>float32</th><th>float32</th><th>str16</th><th>str20</th></tr></thead>\n",
       "<tr><td>NGC  4103    18</td><td>181.58811178102</td><td>-61.23823562782</td><td>1878.34204000</td><td>--</td><td>15180.0</td><td>18.20385229401266</td><td>1.7172550944787182</td><td>--</td><td>--</td><td>--</td><td>--</td><td>6058510799409163904</td><td>0.4993</td><td>0.0169</td><td>-7.963</td><td>1.128</td><td>0.015</td><td>0.018</td><td>1.000</td><td>13.011804</td><td>0.282536</td><td>13.111239</td><td>12.828704</td><td>1817.23865000</td><td>1934.55212000</td><td>0.002813</td><td>0.003552</td><td>0.004056</td><td>0.007609</td><td>181.58811178102,-61.23823562782,1878.34204</td><td>-1.784</td><td>0.128</td><td>0.999</td><td>0.131</td><td>--</td><td>--</td><td>--</td><td>--</td><td>--</td><td>117550.76398</td><td>61.49</td><td>7.779e+04</td><td>157.5</td><td>5.857e+04</td><td>79.47</td><td>--</td><td>--</td></tr>\n",
       "</table></div>"
      ],
      "text/plain": [
       "<Table length=1>\n",
       "      Name         RA_ICRS_1       DE_ICRS_1    ...    e_FRP    RAVE5 RAVE6\n",
       "                      deg             deg       ...                        \n",
       "     str15          float64         float64     ...   float32   str16 str20\n",
       "--------------- --------------- --------------- ... ----------- ----- -----\n",
       "NGC  4103    18 181.58811178102 -61.23823562782 ...       79.47    --    --"
      ]
     },
     "execution_count": 38,
     "metadata": {},
     "output_type": "execute_result"
    }
   ],
   "source": [
    "cl.runaways()"
   ]
  },
  {
   "cell_type": "code",
   "execution_count": 46,
   "metadata": {},
   "outputs": [],
   "source": [
    "show_annotation_manager(plot_traceback_psr)\n"
   ]
  },
  {
   "cell_type": "code",
   "execution_count": 45,
   "metadata": {},
   "outputs": [],
   "source": [
    "%run runaway_functionsv3\n",
    "%matplotlib qt\n",
    "# cl = Cluster('Bochum_13')\n",
    "plot_traceback_psr = cl.plot_traceback_psr(trace_time=-170*u.kyr)\n",
    "# show_annotation_manager(plot_traceback_psr)\n"
   ]
  }
 ],
 "metadata": {
  "kernelspec": {
   "display_name": "Python 3",
   "language": "python",
   "name": "python3"
  },
  "language_info": {
   "codemirror_mode": {
    "name": "ipython",
    "version": 3
   },
   "file_extension": ".py",
   "mimetype": "text/x-python",
   "name": "python",
   "nbconvert_exporter": "python",
   "pygments_lexer": "ipython3",
   "version": "3.11.6"
  }
 },
 "nbformat": 4,
 "nbformat_minor": 2
}
