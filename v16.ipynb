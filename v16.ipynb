{
 "cells": [
  {
   "cell_type": "code",
   "execution_count": 18,
   "metadata": {},
   "outputs": [],
   "source": [
    "%run runaway_functionsv3"
   ]
  },
  {
   "cell_type": "code",
   "execution_count": 5,
   "metadata": {},
   "outputs": [
    {
     "data": {
      "text/plain": [
       "['ASCC_107',\n",
       " 'ASCC_114',\n",
       " 'ASCC_127',\n",
       " 'ASCC_13',\n",
       " 'ASCC_16',\n",
       " 'ASCC_19',\n",
       " 'ASCC_21',\n",
       " 'ASCC_32',\n",
       " 'ASCC_67',\n",
       " 'ASCC_9',\n",
       " 'Alessi_20',\n",
       " 'Alessi_43',\n",
       " 'Alessi_Teutsch_5',\n",
       " 'Antalova_2',\n",
       " 'Archinal_1',\n",
       " 'Aveni_Hunter_1',\n",
       " 'BDSB91',\n",
       " 'BDSB93',\n",
       " 'BDSB96',\n",
       " 'BH_121',\n",
       " 'BH_200',\n",
       " 'BH_205',\n",
       " 'BH_217',\n",
       " 'BH_221',\n",
       " 'BH_245',\n",
       " 'BH_54',\n",
       " 'BH_56',\n",
       " 'BH_87',\n",
       " 'BH_92',\n",
       " 'Barkhatova_1',\n",
       " 'Basel_18',\n",
       " 'Basel_8',\n",
       " 'Berkeley_11',\n",
       " 'Berkeley_15',\n",
       " 'Berkeley_47',\n",
       " 'Berkeley_62',\n",
       " 'Berkeley_65',\n",
       " 'Berkeley_7',\n",
       " 'Berkeley_79',\n",
       " 'Berkeley_86',\n",
       " 'Berkeley_87',\n",
       " 'Berkeley_97',\n",
       " 'Bica_2',\n",
       " 'Biurakan_2',\n",
       " 'Bochum_10',\n",
       " 'Bochum_11',\n",
       " 'Bochum_13',\n",
       " 'COIN-Gaia_16',\n",
       " 'COIN-Gaia_21',\n",
       " 'COIN-Gaia_35',\n",
       " 'COIN-Gaia_41',\n",
       " 'Collinder_104',\n",
       " 'Collinder_106',\n",
       " 'Collinder_107',\n",
       " 'Collinder_132',\n",
       " 'Collinder_197',\n",
       " 'Collinder_205',\n",
       " 'Collinder_272',\n",
       " 'Collinder_419',\n",
       " 'Collinder_421',\n",
       " 'Collinder_69',\n",
       " 'Collinder_95',\n",
       " 'Czernik_1',\n",
       " 'Czernik_31',\n",
       " 'Czernik_41',\n",
       " 'Czernik_6',\n",
       " 'Czernik_8',\n",
       " 'Dias_1',\n",
       " 'Dias_5',\n",
       " 'Dolidze_16',\n",
       " 'Dolidze_3',\n",
       " 'Dolidze_32',\n",
       " 'Dolidze_5',\n",
       " 'Dolidze_53',\n",
       " 'Dolidze_8',\n",
       " 'ESO_134_12',\n",
       " 'ESO_332_08',\n",
       " 'ESO_332_13',\n",
       " 'FSR_0165',\n",
       " 'FSR_0198',\n",
       " 'FSR_0224',\n",
       " 'FSR_0236',\n",
       " 'FSR_0284',\n",
       " 'FSR_0306',\n",
       " 'FSR_0336',\n",
       " 'FSR_0398',\n",
       " 'FSR_0451',\n",
       " 'FSR_0498',\n",
       " 'FSR_0551',\n",
       " 'FSR_0686',\n",
       " 'FSR_0852',\n",
       " 'FSR_0904',\n",
       " 'FSR_0968',\n",
       " 'Gulliver_10',\n",
       " 'Gulliver_15',\n",
       " 'Gulliver_19',\n",
       " 'Gulliver_2',\n",
       " 'Gulliver_26',\n",
       " 'Gulliver_31',\n",
       " 'Gulliver_40',\n",
       " 'Gulliver_43',\n",
       " 'Gulliver_5',\n",
       " 'Gulliver_6',\n",
       " 'Gulliver_8',\n",
       " 'Haffner_13',\n",
       " 'Harvard_16',\n",
       " 'Hogg_10',\n",
       " 'Hogg_16',\n",
       " 'Hogg_18',\n",
       " 'Hogg_19',\n",
       " 'Hogg_22',\n",
       " 'IC_1396',\n",
       " 'IC_1590',\n",
       " 'IC_1805',\n",
       " 'IC_1848',\n",
       " 'IC_2157',\n",
       " 'IC_2395',\n",
       " 'IC_2581',\n",
       " 'IC_2948',\n",
       " 'IC_348',\n",
       " 'IC_4996',\n",
       " 'IC_5146',\n",
       " 'Juchert_20',\n",
       " 'King_14',\n",
       " 'King_21',\n",
       " 'King_26',\n",
       " 'Kronberger_1',\n",
       " 'Kronberger_69',\n",
       " 'LP_0288',\n",
       " 'LP_0503',\n",
       " 'LP_0506',\n",
       " 'LP_0733',\n",
       " 'LP_1049',\n",
       " 'LP_1209',\n",
       " 'LP_1211',\n",
       " 'LP_1218',\n",
       " 'LP_1329',\n",
       " 'LP_1342',\n",
       " 'LP_1355',\n",
       " 'LP_1487',\n",
       " 'LP_1490',\n",
       " 'LP_1614',\n",
       " 'LP_1641',\n",
       " 'LP_1768',\n",
       " 'LP_1771',\n",
       " 'LP_1775',\n",
       " 'LP_1780',\n",
       " 'LP_1807',\n",
       " 'LP_1821',\n",
       " 'LP_1864',\n",
       " 'LP_1888',\n",
       " 'LP_2106',\n",
       " 'LP_2113',\n",
       " 'LP_2172',\n",
       " 'LP_2219',\n",
       " 'LP_2221',\n",
       " 'LP_2249',\n",
       " 'Lynga_4',\n",
       " 'Markarian_38',\n",
       " 'Markarian_50',\n",
       " 'Mayer_1',\n",
       " 'Moffat_1',\n",
       " 'NGC_1220',\n",
       " 'NGC_1348',\n",
       " 'NGC_1444',\n",
       " 'NGC_146',\n",
       " 'NGC_1502',\n",
       " 'NGC_1579',\n",
       " 'NGC_1960',\n",
       " 'NGC_1977',\n",
       " 'NGC_1980',\n",
       " 'NGC_2129',\n",
       " 'NGC_2169',\n",
       " 'NGC_2183',\n",
       " 'NGC_2232',\n",
       " 'NGC_2244',\n",
       " 'NGC_2264',\n",
       " 'NGC_2362',\n",
       " 'NGC_2367',\n",
       " 'NGC_2384',\n",
       " 'NGC_2451B',\n",
       " 'NGC_2547',\n",
       " 'NGC_2571',\n",
       " 'NGC_2645',\n",
       " 'NGC_2659',\n",
       " 'NGC_3228',\n",
       " 'NGC_3293',\n",
       " 'NGC_3324',\n",
       " 'NGC_3572',\n",
       " 'NGC_3590',\n",
       " 'NGC_366',\n",
       " 'NGC_3766',\n",
       " 'NGC_4103',\n",
       " 'NGC_433',\n",
       " 'NGC_4463',\n",
       " 'NGC_457',\n",
       " 'NGC_4755',\n",
       " 'NGC_5606',\n",
       " 'NGC_581',\n",
       " 'NGC_6178',\n",
       " 'NGC_6193',\n",
       " 'NGC_6200',\n",
       " 'NGC_6216',\n",
       " 'NGC_6231',\n",
       " 'NGC_6249',\n",
       " 'NGC_6250',\n",
       " 'NGC_6318',\n",
       " 'NGC_6322',\n",
       " 'NGC_637',\n",
       " 'NGC_6383',\n",
       " 'NGC_6396',\n",
       " 'NGC_6404',\n",
       " 'NGC_6451',\n",
       " 'NGC_6520',\n",
       " 'NGC_6530',\n",
       " 'NGC_6531',\n",
       " 'NGC_654',\n",
       " 'NGC_6561',\n",
       " 'NGC_6604',\n",
       " 'NGC_6611',\n",
       " 'NGC_6613',\n",
       " 'NGC_663',\n",
       " 'NGC_6649',\n",
       " 'NGC_6664',\n",
       " 'NGC_6823',\n",
       " 'NGC_6871',\n",
       " 'NGC_6910',\n",
       " 'NGC_6913',\n",
       " 'NGC_7039',\n",
       " 'NGC_7129',\n",
       " 'NGC_7160',\n",
       " 'NGC_7281',\n",
       " 'NGC_7380',\n",
       " 'NGC_869',\n",
       " 'NGC_884',\n",
       " 'NGC_957',\n",
       " 'Pismis_11',\n",
       " 'Pismis_27',\n",
       " 'Pismis_5',\n",
       " 'Pismis_8',\n",
       " 'Pismis_Moreno_1',\n",
       " 'Pozzo_1',\n",
       " 'RSG_8',\n",
       " 'Riddle_4',\n",
       " 'Roslund_2',\n",
       " 'Ruprecht_120',\n",
       " 'Ruprecht_127',\n",
       " 'Ruprecht_138',\n",
       " 'Ruprecht_144',\n",
       " 'Ruprecht_170',\n",
       " 'Ruprecht_26',\n",
       " 'Ruprecht_65',\n",
       " 'Ruprecht_71',\n",
       " 'Ruprecht_94',\n",
       " 'SAI_118',\n",
       " 'SAI_24',\n",
       " 'SAI_4',\n",
       " 'Stephenson_1',\n",
       " 'Stock_14',\n",
       " 'Stock_20',\n",
       " 'Stock_8',\n",
       " 'Teutsch_30',\n",
       " 'Teutsch_38',\n",
       " 'Teutsch_8',\n",
       " 'Trapezium-FG',\n",
       " 'Trumpler_1',\n",
       " 'Trumpler_14',\n",
       " 'Trumpler_15',\n",
       " 'Trumpler_16',\n",
       " 'Trumpler_17',\n",
       " 'Trumpler_28',\n",
       " 'Trumpler_3',\n",
       " 'Trumpler_33',\n",
       " 'UBC_121',\n",
       " 'UBC_133',\n",
       " 'UBC_134',\n",
       " 'UBC_148',\n",
       " 'UBC_155',\n",
       " 'UBC_156',\n",
       " 'UBC_166',\n",
       " 'UBC_177',\n",
       " 'UBC_178',\n",
       " 'UBC_17a',\n",
       " 'UBC_182',\n",
       " 'UBC_188',\n",
       " 'UBC_191',\n",
       " 'UBC_192',\n",
       " 'UBC_198',\n",
       " 'UBC_245',\n",
       " 'UBC_249',\n",
       " 'UBC_258',\n",
       " 'UBC_267',\n",
       " 'UBC_270',\n",
       " 'UBC_272',\n",
       " 'UBC_280',\n",
       " 'UBC_281',\n",
       " 'UBC_296',\n",
       " 'UBC_31',\n",
       " 'UBC_322',\n",
       " 'UBC_337',\n",
       " 'UBC_338',\n",
       " 'UBC_341',\n",
       " 'UBC_342',\n",
       " 'UBC_345',\n",
       " 'UBC_354',\n",
       " 'UBC_361',\n",
       " 'UBC_373',\n",
       " 'UBC_377',\n",
       " 'UBC_379',\n",
       " 'UBC_386',\n",
       " 'UBC_389',\n",
       " 'UBC_391',\n",
       " 'UBC_396',\n",
       " 'UBC_410',\n",
       " 'UBC_413',\n",
       " 'UBC_415',\n",
       " 'UBC_417',\n",
       " 'UBC_422',\n",
       " 'UBC_423',\n",
       " 'UBC_432',\n",
       " 'UBC_46',\n",
       " 'UBC_479',\n",
       " 'UBC_482',\n",
       " 'UBC_483',\n",
       " 'UBC_487',\n",
       " 'UBC_499',\n",
       " 'UBC_51',\n",
       " 'UBC_521',\n",
       " 'UBC_531',\n",
       " 'UBC_532',\n",
       " 'UBC_534',\n",
       " 'UBC_535',\n",
       " 'UBC_536',\n",
       " 'UBC_541',\n",
       " 'UBC_542',\n",
       " 'UBC_545',\n",
       " 'UBC_548',\n",
       " 'UBC_549',\n",
       " 'UBC_550',\n",
       " 'UBC_552',\n",
       " 'UBC_559',\n",
       " 'UBC_562',\n",
       " 'UBC_576',\n",
       " 'UBC_582',\n",
       " 'UBC_588',\n",
       " 'UBC_606',\n",
       " 'UBC_620',\n",
       " 'UBC_63',\n",
       " 'UBC_652',\n",
       " 'UBC_653',\n",
       " 'UBC_663',\n",
       " 'UBC_665',\n",
       " 'UBC_668',\n",
       " 'UFMG_22',\n",
       " 'UFMG_3',\n",
       " 'UFMG_45',\n",
       " 'UFMG_53',\n",
       " 'UPK_150',\n",
       " 'UPK_166',\n",
       " 'UPK_169',\n",
       " 'UPK_194',\n",
       " 'UPK_220',\n",
       " 'UPK_23',\n",
       " 'UPK_265',\n",
       " 'UPK_28',\n",
       " 'UPK_38',\n",
       " 'UPK_385',\n",
       " 'UPK_398',\n",
       " 'UPK_422',\n",
       " 'UPK_445',\n",
       " 'UPK_457',\n",
       " 'UPK_526',\n",
       " 'UPK_540',\n",
       " 'UPK_604',\n",
       " 'UPK_62',\n",
       " 'UPK_621',\n",
       " 'vdBergh_130',\n",
       " 'vdBergh_80',\n",
       " 'vdBergh_85',\n",
       " 'vdBergh_92']"
      ]
     },
     "execution_count": 5,
     "metadata": {},
     "output_type": "execute_result"
    }
   ],
   "source": [
    "workclusters"
   ]
  },
  {
   "cell_type": "code",
   "execution_count": 26,
   "metadata": {},
   "outputs": [
    {
     "data": {
      "text/html": [
       "<div><i>Table length=1</i>\n",
       "<table id=\"table133025360870032\" class=\"table-striped table-bordered table-condensed\">\n",
       "<thead><tr><th>Cluster</th><th>RA_ICRS</th><th>DE_ICRS</th><th>r50</th><th>N</th><th>pmRA</th><th>e_pmRA</th><th>pmDE</th><th>e_pmDE</th><th>Plx</th><th>e_Plx</th><th>RV</th><th>e_RV</th><th>NRV</th><th>Dist</th><th>e_Dist</th><th>logage</th><th>e_logage</th><th>__Fe_H_</th><th>e__Fe_H_</th><th>Av</th><th>e_Av</th><th>FileName</th><th>SimbadName</th><th>_RA.icrs</th><th>_DE.icrs</th></tr></thead>\n",
       "<thead><tr><th></th><th>deg</th><th>deg</th><th>deg</th><th></th><th>mas / yr</th><th>mas / yr</th><th>mas / yr</th><th>mas / yr</th><th>mas</th><th>mas</th><th>km / s</th><th>km / s</th><th></th><th>pc</th><th>pc</th><th>log(yr)</th><th>log(yr)</th><th></th><th></th><th>mag</th><th>mag</th><th></th><th></th><th>deg</th><th>deg</th></tr></thead>\n",
       "<thead><tr><th>str17</th><th>float64</th><th>float64</th><th>float32</th><th>int16</th><th>float32</th><th>float32</th><th>float32</th><th>float32</th><th>float32</th><th>float32</th><th>float64</th><th>float32</th><th>int16</th><th>int16</th><th>int16</th><th>float32</th><th>float32</th><th>float32</th><th>float32</th><th>float32</th><th>float32</th><th>str31</th><th>str31</th><th>float64</th><th>float64</th></tr></thead>\n",
       "<tr><td>Basel_8</td><td>98.5582</td><td>8.0381</td><td>0.299</td><td>31</td><td>-0.134</td><td>0.066</td><td>-2.400</td><td>0.140</td><td>0.623</td><td>0.036</td><td>--</td><td>--</td><td>--</td><td>1456</td><td>54</td><td>7.671</td><td>0.236</td><td>0.028</td><td>0.064</td><td>1.083</td><td>0.079</td><td>clusters1/Basel_8.dat</td><td>Cl Basel 8</td><td>98.5582</td><td>8.0381</td></tr>\n",
       "</table></div>"
      ],
      "text/plain": [
       "<Table length=1>\n",
       "Cluster RA_ICRS  DE_ICRS    r50   ... SimbadName _RA.icrs _DE.icrs\n",
       "          deg      deg      deg   ...              deg      deg   \n",
       " str17  float64  float64  float32 ...   str31    float64  float64 \n",
       "------- -------- -------- ------- ... ---------- -------- --------\n",
       "Basel_8  98.5582   8.0381   0.299 ... Cl Basel 8  98.5582   8.0381"
      ]
     },
     "execution_count": 26,
     "metadata": {},
     "output_type": "execute_result"
    }
   ],
   "source": [
    "dias2021 = Table.read('dias2021.tsv', format='ascii.ecsv')\n",
    "dias2021[dias2021['Cluster']=='Basel_8']"
   ]
  },
  {
   "cell_type": "code",
   "execution_count": 65,
   "metadata": {},
   "outputs": [
    {
     "data": {
      "text/plain": [
       "375"
      ]
     },
     "execution_count": 65,
     "metadata": {},
     "output_type": "execute_result"
    }
   ],
   "source": [
    "cl = Cluster(\"Basel_8\")\n",
    "np.count_nonzero(~cl.stars_in_region()['RV'].mask)\n"
   ]
  },
  {
   "cell_type": "code",
   "execution_count": 4,
   "metadata": {},
   "outputs": [
    {
     "data": {
      "text/plain": [
       "(25.763333333333332, 1.4898182262073862)"
      ]
     },
     "execution_count": 4,
     "metadata": {},
     "output_type": "execute_result"
    }
   ],
   "source": [
    "cl = Cluster(\"Basel_8\")\n",
    "cl.stars_in_region()\n",
    "t = cl.mymembers\n",
    "t = cl.stars_in_region()\n",
    "t = find_cluster(cl.stars_in_region())\n",
    "\n",
    "np.mean(t['RV']),np.sqrt(np.sum(t['e_RV'])**2/(len(t))**2)"
   ]
  },
  {
   "cell_type": "code",
   "execution_count": 2,
   "metadata": {},
   "outputs": [
    {
     "data": {
      "text/html": [
       "<div><i>Table length=22</i>\n",
       "<table id=\"table134002266112720\" class=\"table-striped table-bordered table-condensed\">\n",
       "<thead><tr><th>RA_ICRS_1</th><th>DE_ICRS_1</th><th>e_RA_ICRS</th><th>e_DE_ICRS</th><th>_r_1</th><th>HIP</th><th>TYC2</th><th>Source</th><th>rgeo</th><th>Plx</th><th>e_Plx</th><th>pmRA</th><th>pmDE</th><th>e_pmRA</th><th>e_pmDE</th><th>RUWE</th><th>Teff</th><th>logg</th><th>Gmag</th><th>BP-RP</th><th>BPmag</th><th>RPmag</th><th>RV</th><th>e_RV</th><th>b_rgeo</th><th>B_rgeo</th><th>FG</th><th>e_FG</th><th>FBP</th><th>e_FBP</th><th>FRP</th><th>e_FRP</th><th>RAVE5</th><th>RAVE6</th><th>e_Gmag</th><th>e_BPmag</th><th>e_RPmag</th><th>e_BP-RP</th><th>SkyCoord</th></tr></thead>\n",
       "<thead><tr><th>deg</th><th>deg</th><th>mas</th><th>mas</th><th></th><th></th><th></th><th></th><th>pc</th><th>mas</th><th>mas</th><th>mas / yr</th><th>mas / yr</th><th>mas / yr</th><th>mas / yr</th><th></th><th>K</th><th>log(cm.s**-2)</th><th>mag</th><th>mag</th><th>mag</th><th>mag</th><th>km / s</th><th>km / s</th><th>pc</th><th>pc</th><th></th><th></th><th></th><th></th><th></th><th></th><th></th><th></th><th></th><th></th><th></th><th></th><th>deg,deg,pc</th></tr></thead>\n",
       "<thead><tr><th>float64</th><th>float64</th><th>float64</th><th>float64</th><th>float64</th><th>int32</th><th>str11</th><th>int64</th><th>float64</th><th>float64</th><th>float32</th><th>float64</th><th>float64</th><th>float32</th><th>float32</th><th>float64</th><th>float64</th><th>float64</th><th>float64</th><th>float64</th><th>float64</th><th>float64</th><th>float64</th><th>float32</th><th>float64</th><th>float64</th><th>float64</th><th>float32</th><th>float32</th><th>float32</th><th>float32</th><th>float32</th><th>str1</th><th>str1</th><th>float64</th><th>float32</th><th>float32</th><th>float32</th><th>SkyCoord</th></tr></thead>\n",
       "<tr><td>339.84392032630</td><td>59.00715291679</td><td>0.0293</td><td>0.0308</td><td>0.2402</td><td>--</td><td>3995-625-1</td><td>2008383302396655488</td><td>2630.22485000</td><td>0.3652</td><td>0.0363</td><td>-2.873</td><td>-2.301</td><td>0.038</td><td>0.038</td><td>3.035</td><td>18135.5</td><td>3.3302</td><td>9.473729</td><td>0.937676</td><td>9.843719</td><td>8.906042</td><td>--</td><td>--</td><td>2393.19263000</td><td>2940.37549000</td><td>3058125.18769</td><td>951.5</td><td>1.577e+06</td><td>1154</td><td>2.171e+06</td><td>1124</td><td>--</td><td>--</td><td>0.002776</td><td>0.002901</td><td>0.003821</td><td>0.006722</td><td>339.8439203263,59.00715291679,2630.22485</td></tr>\n",
       "<tr><td>339.82384023875</td><td>59.01681945374</td><td>0.0097</td><td>0.0105</td><td>1.0890</td><td>--</td><td>3995-1075-1</td><td>2008430237808841600</td><td>2657.56860000</td><td>0.3583</td><td>0.0125</td><td>-2.747</td><td>-1.911</td><td>0.013</td><td>0.013</td><td>0.986</td><td>--</td><td>--</td><td>9.840384</td><td>0.868947</td><td>10.178231</td><td>9.309284</td><td>--</td><td>--</td><td>2587.60059000</td><td>2734.51587000</td><td>2181691.83228</td><td>1048</td><td>1.159e+06</td><td>1141</td><td>1.498e+06</td><td>1215</td><td>--</td><td>--</td><td>0.002804</td><td>0.002988</td><td>0.003881</td><td>0.006869</td><td>339.82384023875,59.01681945374,2657.5686</td></tr>\n",
       "<tr><td>339.82166004461</td><td>59.00297803329</td><td>0.0089</td><td>0.0097</td><td>0.8784</td><td>--</td><td>--</td><td>2008430203449108224</td><td>2525.15747000</td><td>0.3648</td><td>0.0114</td><td>-2.953</td><td>-1.724</td><td>0.012</td><td>0.012</td><td>0.988</td><td>--</td><td>--</td><td>13.262117</td><td>0.961862</td><td>13.648018</td><td>12.686156</td><td>--</td><td>--</td><td>2459.89844000</td><td>2592.30542000</td><td>93346.90312</td><td>21.67</td><td>4.745e+04</td><td>60.24</td><td>6.679e+04</td><td>44.71</td><td>--</td><td>--</td><td>0.002767</td><td>0.003112</td><td>0.003849</td><td>0.006961</td><td>339.82166004461,59.00297803329,2525.15747</td></tr>\n",
       "<tr><td>339.84074866849</td><td>59.00514934930</td><td>0.0134</td><td>0.0139</td><td>0.2851</td><td>--</td><td>--</td><td>2008383302404812544</td><td>2604.80005000</td><td>0.3569</td><td>0.0163</td><td>-2.626</td><td>-1.913</td><td>0.018</td><td>0.017</td><td>1.124</td><td>11638.8</td><td>3.8049</td><td>14.199184</td><td>1.058014</td><td>14.629308</td><td>13.571294</td><td>--</td><td>--</td><td>2466.69116000</td><td>2720.19312000</td><td>39379.74224</td><td>11.71</td><td>1.922e+04</td><td>51.21</td><td>2.956e+04</td><td>27.21</td><td>--</td><td>--</td><td>0.002774</td><td>0.00402</td><td>0.003909</td><td>0.007929</td><td>339.84074866849,59.0051493493,2604.80005</td></tr>\n",
       "<tr><td>339.85983016055</td><td>59.00845000045</td><td>0.0134</td><td>0.0137</td><td>0.3836</td><td>--</td><td>--</td><td>2008384779873564032</td><td>2623.42310000</td><td>0.3563</td><td>0.0168</td><td>-2.780</td><td>-1.834</td><td>0.017</td><td>0.016</td><td>1.021</td><td>10857.5</td><td>3.8294</td><td>14.490845</td><td>1.049156</td><td>14.918883</td><td>13.869727</td><td>--</td><td>--</td><td>2502.20532000</td><td>2719.62866000</td><td>30102.94455</td><td>6.87</td><td>1.472e+04</td><td>15.67</td><td>2.245e+04</td><td>17.55</td><td>--</td><td>--</td><td>0.002766</td><td>0.00302</td><td>0.003874</td><td>0.006894</td><td>339.85983016055,59.00845000045,2623.4231</td></tr>\n",
       "<tr><td>339.76936809268</td><td>58.98330151380</td><td>0.0146</td><td>0.0149</td><td>2.7984</td><td>--</td><td>--</td><td>2008430066010153216</td><td>2691.21167000</td><td>0.3452</td><td>0.0179</td><td>-2.744</td><td>-1.877</td><td>0.018</td><td>0.017</td><td>1.106</td><td>10748.6</td><td>3.8311</td><td>14.639523</td><td>1.056804</td><td>15.072841</td><td>14.016037</td><td>--</td><td>--</td><td>2552.40112000</td><td>2831.95532000</td><td>26250.49507</td><td>6.071</td><td>1.277e+04</td><td>12.93</td><td>1.962e+04</td><td>16.58</td><td>--</td><td>--</td><td>0.002767</td><td>0.002999</td><td>0.003889</td><td>0.006888</td><td>339.76936809268,58.9833015138,2691.21167</td></tr>\n",
       "<tr><td>339.87917790059</td><td>59.08169389830</td><td>0.0148</td><td>0.0148</td><td>4.7127</td><td>--</td><td>--</td><td>2008432196314226688</td><td>2630.08740000</td><td>0.3540</td><td>0.0177</td><td>-2.698</td><td>-1.548</td><td>0.019</td><td>0.019</td><td>0.984</td><td>--</td><td>--</td><td>14.759680</td><td>1.113024</td><td>15.222409</td><td>14.109386</td><td>--</td><td>--</td><td>2508.20801000</td><td>2761.05005000</td><td>23500.38187</td><td>5.307</td><td>1.113e+04</td><td>15.63</td><td>1.8e+04</td><td>15.13</td><td>--</td><td>--</td><td>0.002766</td><td>0.00318</td><td>0.003888</td><td>0.007068</td><td>339.87917790059,59.0816938983,2630.0874</td></tr>\n",
       "<tr><td>339.89915881624</td><td>59.04024321752</td><td>0.0151</td><td>0.0151</td><td>2.6240</td><td>--</td><td>--</td><td>2008431749637657856</td><td>2690.27222000</td><td>0.3456</td><td>0.0189</td><td>-2.655</td><td>-1.860</td><td>0.021</td><td>0.020</td><td>1.050</td><td>9068.6</td><td>3.7741</td><td>14.804451</td><td>1.156634</td><td>15.292900</td><td>14.136266</td><td>--</td><td>--</td><td>2563.39746000</td><td>2837.99658000</td><td>22551.01862</td><td>5.476</td><td>1.043e+04</td><td>11.12</td><td>1.756e+04</td><td>18.51</td><td>--</td><td>--</td><td>0.002768</td><td>0.003021</td><td>0.003949</td><td>0.00697</td><td>339.89915881624,59.04024321752,2690.27222</td></tr>\n",
       "<tr><td>339.89306630231</td><td>58.98476312947</td><td>0.0162</td><td>0.0165</td><td>1.7877</td><td>--</td><td>--</td><td>2008384436276195712</td><td>2622.38867000</td><td>0.3597</td><td>0.0201</td><td>-2.750</td><td>-1.896</td><td>0.021</td><td>0.020</td><td>0.947</td><td>--</td><td>--</td><td>15.036896</td><td>1.065319</td><td>15.475330</td><td>14.410011</td><td>--</td><td>--</td><td>2473.01392000</td><td>2788.69727000</td><td>18204.89881</td><td>4.808</td><td>8816</td><td>14.2</td><td>1.365e+04</td><td>9.308</td><td>--</td><td>--</td><td>0.00277</td><td>0.003293</td><td>0.003851</td><td>0.007144</td><td>339.89306630231,58.98476312947,2622.38867</td></tr>\n",
       "<tr><td>...</td><td>...</td><td>...</td><td>...</td><td>...</td><td>...</td><td>...</td><td>...</td><td>...</td><td>...</td><td>...</td><td>...</td><td>...</td><td>...</td><td>...</td><td>...</td><td>...</td><td>...</td><td>...</td><td>...</td><td>...</td><td>...</td><td>...</td><td>...</td><td>...</td><td>...</td><td>...</td><td>...</td><td>...</td><td>...</td><td>...</td><td>...</td><td>...</td><td>...</td><td>...</td><td>...</td><td>...</td><td>...</td><td>...</td></tr>\n",
       "<tr><td>339.84648404757</td><td>58.98268116081</td><td>0.0235</td><td>0.0229</td><td>1.3197</td><td>--</td><td>--</td><td>2008383233685346560</td><td>2483.84570000</td><td>0.3713</td><td>0.0289</td><td>-1.922</td><td>-1.497</td><td>0.028</td><td>0.028</td><td>1.037</td><td>5179.7</td><td>3.2484</td><td>15.642891</td><td>2.168410</td><td>16.765697</td><td>14.597287</td><td>--</td><td>--</td><td>2350.32251000</td><td>2638.91479000</td><td>10418.14773</td><td>3.836</td><td>2686</td><td>12.2</td><td>1.149e+04</td><td>11.39</td><td>--</td><td>--</td><td>0.002784</td><td>0.005668</td><td>0.00393</td><td>0.009597</td><td>339.84648404757,58.98268116081,2483.8457</td></tr>\n",
       "<tr><td>339.79149405925</td><td>58.93676442066</td><td>0.0218</td><td>0.0223</td><td>4.4534</td><td>--</td><td>--</td><td>2008382787008755072</td><td>2562.33154000</td><td>0.3633</td><td>0.0263</td><td>-2.686</td><td>-1.640</td><td>0.027</td><td>0.026</td><td>1.062</td><td>9249.7</td><td>3.4894</td><td>15.661082</td><td>1.285213</td><td>16.215721</td><td>14.930509</td><td>--</td><td>--</td><td>2404.44067000</td><td>2711.33862000</td><td>10245.04643</td><td>3.194</td><td>4458</td><td>10.74</td><td>8452</td><td>13.65</td><td>--</td><td>--</td><td>0.002776</td><td>0.003825</td><td>0.004166</td><td>0.007991</td><td>339.79149405925,58.93676442066,2562.33154</td></tr>\n",
       "<tr><td>339.78604404765</td><td>58.94046320310</td><td>0.0525</td><td>0.0543</td><td>4.3258</td><td>--</td><td>--</td><td>2008382855720112384</td><td>2669.38525000</td><td>0.3727</td><td>0.0623</td><td>-2.905</td><td>-1.636</td><td>0.073</td><td>0.074</td><td>2.961</td><td>10474.1</td><td>3.8782</td><td>15.669510</td><td>1.300665</td><td>16.154220</td><td>14.853556</td><td>--</td><td>--</td><td>2262.79419000</td><td>3319.53906000</td><td>10165.82560</td><td>8.546</td><td>4718</td><td>17.64</td><td>9073</td><td>30.29</td><td>--</td><td>--</td><td>0.002903</td><td>0.004927</td><td>0.005237</td><td>0.01016</td><td>339.78604404765,58.9404632031,2669.38525</td></tr>\n",
       "<tr><td>339.85463826254</td><td>59.02700150857</td><td>0.0265</td><td>0.0253</td><td>1.3517</td><td>--</td><td>--</td><td>2008431715277915264</td><td>2398.42749000</td><td>0.3906</td><td>0.0312</td><td>-3.001</td><td>-1.763</td><td>0.033</td><td>0.032</td><td>0.983</td><td>--</td><td>--</td><td>15.857347</td><td>1.163284</td><td>16.346945</td><td>15.183661</td><td>--</td><td>--</td><td>2250.89404000</td><td>2585.11523000</td><td>8550.81986</td><td>2.912</td><td>3950</td><td>7.23</td><td>6694</td><td>9.254</td><td>--</td><td>--</td><td>0.00278</td><td>0.003425</td><td>0.004067</td><td>0.007492</td><td>339.85463826254,59.02700150857,2398.42749</td></tr>\n",
       "<tr><td>339.86091688669</td><td>58.99536617272</td><td>0.0274</td><td>0.0276</td><td>0.6503</td><td>--</td><td>--</td><td>2008383233685344512</td><td>2712.96948000</td><td>0.3577</td><td>0.0343</td><td>-2.721</td><td>-1.895</td><td>0.035</td><td>0.034</td><td>0.978</td><td>9472.5</td><td>3.8688</td><td>16.096376</td><td>1.206666</td><td>16.607239</td><td>15.400573</td><td>--</td><td>--</td><td>2396.92847000</td><td>3118.50732000</td><td>6861.14434</td><td>2.907</td><td>3108</td><td>10.67</td><td>5482</td><td>12.6</td><td>--</td><td>--</td><td>0.002793</td><td>0.004655</td><td>0.004528</td><td>0.009184</td><td>339.86091688669,58.99536617272,2712.96948</td></tr>\n",
       "<tr><td>339.92286074161</td><td>58.97301166996</td><td>0.0299</td><td>0.0297</td><td>2.9458</td><td>--</td><td>--</td><td>2008383714721700608</td><td>2675.56885000</td><td>0.3591</td><td>0.0366</td><td>-2.686</td><td>-1.880</td><td>0.038</td><td>0.036</td><td>0.942</td><td>9345.7</td><td>4.1848</td><td>16.343288</td><td>1.220734</td><td>16.867773</td><td>15.647039</td><td>--</td><td>--</td><td>2442.18164000</td><td>3020.75171000</td><td>5465.52188</td><td>2.218</td><td>2445</td><td>7.587</td><td>4369</td><td>10.57</td><td>--</td><td>--</td><td>0.00279</td><td>0.004374</td><td>0.004603</td><td>0.008977</td><td>339.92286074161,58.97301166996,2675.56885</td></tr>\n",
       "<tr><td>339.93071432537</td><td>58.94159280659</td><td>0.0316</td><td>0.0346</td><td>4.5319</td><td>--</td><td>--</td><td>2008383371124331392</td><td>2677.11230000</td><td>0.3577</td><td>0.0396</td><td>-2.785</td><td>-2.417</td><td>0.040</td><td>0.043</td><td>1.062</td><td>9103.2</td><td>4.4437</td><td>16.423435</td><td>1.527203</td><td>17.122362</td><td>15.595160</td><td>--</td><td>--</td><td>2412.26343000</td><td>3045.22168000</td><td>5076.59522</td><td>2.445</td><td>1934</td><td>8.381</td><td>4582</td><td>10.55</td><td>--</td><td>--</td><td>0.002804</td><td>0.00547</td><td>0.004531</td><td>0.01</td><td>339.93071432537,58.94159280659,2677.1123</td></tr>\n",
       "<tr><td>339.77698343862</td><td>58.97765419629</td><td>0.0353</td><td>0.0331</td><td>2.7743</td><td>--</td><td>--</td><td>2008383164965858048</td><td>2514.85254000</td><td>0.3689</td><td>0.0412</td><td>-2.761</td><td>-1.964</td><td>0.042</td><td>0.040</td><td>1.000</td><td>--</td><td>--</td><td>16.485056</td><td>1.357075</td><td>17.081070</td><td>15.723995</td><td>--</td><td>--</td><td>2319.07178000</td><td>2747.70190000</td><td>4796.49942</td><td>2.341</td><td>2009</td><td>8.815</td><td>4070</td><td>8.924</td><td>--</td><td>--</td><td>0.002806</td><td>0.005521</td><td>0.004467</td><td>0.009988</td><td>339.77698343862,58.97765419629,2514.85254</td></tr>\n",
       "<tr><td>339.94181500545</td><td>58.99061605625</td><td>0.0491</td><td>0.0465</td><td>2.9616</td><td>--</td><td>--</td><td>2008383817801137536</td><td>2388.22827000</td><td>0.3883</td><td>0.0580</td><td>-2.084</td><td>-1.900</td><td>0.063</td><td>0.057</td><td>1.333</td><td>8272.3</td><td>3.8918</td><td>16.524965</td><td>2.438679</td><td>17.779032</td><td>15.340353</td><td>--</td><td>--</td><td>2074.16406000</td><td>2752.17456000</td><td>4623.38933</td><td>3.825</td><td>1056</td><td>9.539</td><td>5794</td><td>13.36</td><td>--</td><td>--</td><td>0.002898</td><td>0.01019</td><td>0.004533</td><td>0.01473</td><td>339.94181500545,58.99061605625,2388.22827</td></tr>\n",
       "<tr><td>339.79858894598</td><td>59.07098419486</td><td>0.0375</td><td>0.0354</td><td>4.2863</td><td>--</td><td>--</td><td>2008431406040229504</td><td>2720.41211000</td><td>0.3471</td><td>0.0444</td><td>-2.685</td><td>-1.875</td><td>0.048</td><td>0.043</td><td>1.030</td><td>9384.1</td><td>4.1352</td><td>16.564386</td><td>1.341292</td><td>17.159258</td><td>15.817965</td><td>--</td><td>--</td><td>2373.51221000</td><td>3028.24536000</td><td>4458.53778</td><td>2.469</td><td>1869</td><td>11.03</td><td>3732</td><td>8.527</td><td>--</td><td>--</td><td>0.00282</td><td>0.006986</td><td>0.004521</td><td>0.01151</td><td>339.79858894598,59.07098419486,2720.41211</td></tr>\n",
       "</table></div>"
      ],
      "text/plain": [
       "<Table length=22>\n",
       "   RA_ICRS_1       DE_ICRS_1    ...                  SkyCoord                \n",
       "      deg             deg       ...                 deg,deg,pc               \n",
       "    float64         float64     ...                  SkyCoord                \n",
       "--------------- --------------- ... -----------------------------------------\n",
       "339.84392032630  59.00715291679 ...  339.8439203263,59.00715291679,2630.22485\n",
       "339.82384023875  59.01681945374 ...  339.82384023875,59.01681945374,2657.5686\n",
       "339.82166004461  59.00297803329 ... 339.82166004461,59.00297803329,2525.15747\n",
       "339.84074866849  59.00514934930 ...  339.84074866849,59.0051493493,2604.80005\n",
       "339.85983016055  59.00845000045 ...  339.85983016055,59.00845000045,2623.4231\n",
       "339.76936809268  58.98330151380 ...  339.76936809268,58.9833015138,2691.21167\n",
       "339.87917790059  59.08169389830 ...   339.87917790059,59.0816938983,2630.0874\n",
       "339.89915881624  59.04024321752 ... 339.89915881624,59.04024321752,2690.27222\n",
       "339.89306630231  58.98476312947 ... 339.89306630231,58.98476312947,2622.38867\n",
       "            ...             ... ...                                       ...\n",
       "339.84648404757  58.98268116081 ...  339.84648404757,58.98268116081,2483.8457\n",
       "339.79149405925  58.93676442066 ... 339.79149405925,58.93676442066,2562.33154\n",
       "339.78604404765  58.94046320310 ...  339.78604404765,58.9404632031,2669.38525\n",
       "339.85463826254  59.02700150857 ... 339.85463826254,59.02700150857,2398.42749\n",
       "339.86091688669  58.99536617272 ... 339.86091688669,58.99536617272,2712.96948\n",
       "339.92286074161  58.97301166996 ... 339.92286074161,58.97301166996,2675.56885\n",
       "339.93071432537  58.94159280659 ...  339.93071432537,58.94159280659,2677.1123\n",
       "339.77698343862  58.97765419629 ... 339.77698343862,58.97765419629,2514.85254\n",
       "339.94181500545  58.99061605625 ... 339.94181500545,58.99061605625,2388.22827\n",
       "339.79858894598  59.07098419486 ... 339.79858894598,59.07098419486,2720.41211"
      ]
     },
     "execution_count": 2,
     "metadata": {},
     "output_type": "execute_result"
    }
   ],
   "source": [
    "find_cluster(cl.stars_in_region())"
   ]
  },
  {
   "cell_type": "code",
   "execution_count": 3,
   "metadata": {},
   "outputs": [
    {
     "name": "stdout",
     "output_type": "stream",
     "text": [
      "19.2 0.0\n"
     ]
    },
    {
     "data": {
      "text/html": [
       "<div><i>Table length=1207</i>\n",
       "<table id=\"table134002268895504\" class=\"table-striped table-bordered table-condensed\">\n",
       "<thead><tr><th>RA_ICRS_1</th><th>DE_ICRS_1</th><th>e_RA_ICRS</th><th>e_DE_ICRS</th><th>_r_1</th><th>HIP</th><th>TYC2</th><th>Source</th><th>rgeo</th><th>Plx</th><th>e_Plx</th><th>pmRA</th><th>pmDE</th><th>e_pmRA</th><th>e_pmDE</th><th>RUWE</th><th>Teff</th><th>logg</th><th>Gmag</th><th>BP-RP</th><th>BPmag</th><th>RPmag</th><th>RV</th><th>e_RV</th><th>b_rgeo</th><th>B_rgeo</th><th>FG</th><th>e_FG</th><th>FBP</th><th>e_FBP</th><th>FRP</th><th>e_FRP</th><th>RAVE5</th><th>RAVE6</th><th>e_Gmag</th><th>e_BPmag</th><th>e_RPmag</th><th>e_BP-RP</th><th>SkyCoord</th><th>rmRA</th><th>rmDE</th><th>e_rmRA</th><th>e_rmDE</th><th>rRV</th><th>e_rRV</th><th>v_pec</th></tr></thead>\n",
       "<thead><tr><th>deg</th><th>deg</th><th>mas</th><th>mas</th><th></th><th></th><th></th><th></th><th>pc</th><th>mas</th><th>mas</th><th>mas / yr</th><th>mas / yr</th><th>mas / yr</th><th>mas / yr</th><th></th><th>K</th><th>log(cm.s**-2)</th><th>mag</th><th>mag</th><th>mag</th><th>mag</th><th>km / s</th><th>km / s</th><th>pc</th><th>pc</th><th></th><th></th><th></th><th></th><th></th><th></th><th></th><th></th><th></th><th></th><th></th><th></th><th>deg,deg,pc</th><th>mas / yr</th><th>mas / yr</th><th>mas / yr</th><th>mas / yr</th><th>km / s</th><th>km / s</th><th>km / s</th></tr></thead>\n",
       "<thead><tr><th>float64</th><th>float64</th><th>float64</th><th>float64</th><th>float64</th><th>int32</th><th>str10</th><th>int64</th><th>float64</th><th>float64</th><th>float32</th><th>float64</th><th>float64</th><th>float32</th><th>float32</th><th>float64</th><th>float64</th><th>float64</th><th>float64</th><th>float64</th><th>float64</th><th>float64</th><th>float64</th><th>float32</th><th>float64</th><th>float64</th><th>float64</th><th>float32</th><th>float32</th><th>float32</th><th>float32</th><th>float32</th><th>str1</th><th>str1</th><th>float64</th><th>float32</th><th>float32</th><th>float32</th><th>SkyCoord</th><th>float64</th><th>float64</th><th>float32</th><th>float32</th><th>float64</th><th>float32</th><th>float64</th></tr></thead>\n",
       "<tr><td>98.69055275937</td><td>8.07569472560</td><td>0.0356</td><td>0.0302</td><td>8.1797</td><td>--</td><td>733-1687-1</td><td>3326026144355977472</td><td>1458.14001000</td><td>0.6601</td><td>0.0421</td><td>-1.403</td><td>0.651</td><td>0.039</td><td>0.031</td><td>1.529</td><td>--</td><td>--</td><td>9.317637</td><td>0.329390</td><td>9.419267</td><td>9.089877</td><td>--</td><td>--</td><td>1378.07080000</td><td>1536.19507000</td><td>3530953.30802</td><td>1620</td><td>2.332e+06</td><td>5770</td><td>1.833e+06</td><td>2216</td><td>--</td><td>--</td><td>0.0028</td><td>0.003873</td><td>0.004001</td><td>0.007874</td><td>98.69055275937,8.0756947256,1458.14001</td><td>-1.2133750050067902</td><td>2.834125019073486</td><td>0.26384768</td><td>0.2558477</td><td>--</td><td>--</td><td>21.30802513378318</td></tr>\n",
       "<tr><td>98.02515215957</td><td>8.09905249055</td><td>0.0143</td><td>0.0142</td><td>31.8772</td><td>--</td><td>733-1181-1</td><td>3326201829997700864</td><td>1524.07874000</td><td>0.6292</td><td>0.0183</td><td>2.051</td><td>-3.571</td><td>0.017</td><td>0.014</td><td>1.133</td><td>4553.0</td><td>2.0382</td><td>10.953504</td><td>1.681146</td><td>11.758776</td><td>10.077630</td><td>35.17</td><td>0.19</td><td>1480.84570000</td><td>1572.99548000</td><td>782610.13964</td><td>172.5</td><td>2.703e+05</td><td>215.5</td><td>7.381e+05</td><td>266.9</td><td>--</td><td>--</td><td>0.002766</td><td>0.002921</td><td>0.0038</td><td>0.006721</td><td>98.02515215957,8.09905249055,1524.07874</td><td>2.24062499499321</td><td>-1.3878749809265138</td><td>0.2418477</td><td>0.23884769</td><td>15.97</td><td>0.19</td><td>19.040213295718296</td></tr>\n",
       "<tr><td>98.91793033140</td><td>8.40607900769</td><td>0.0277</td><td>0.0232</td><td>30.7213</td><td>--</td><td>--</td><td>3326133660275716480</td><td>1192.20020000</td><td>0.8168</td><td>0.0316</td><td>3.212</td><td>0.952</td><td>0.030</td><td>0.024</td><td>1.821</td><td>--</td><td>--</td><td>11.122290</td><td>1.406081</td><td>11.761770</td><td>10.355689</td><td>50.24</td><td>0.77</td><td>1148.89038000</td><td>1250.99280000</td><td>669932.02689</td><td>165.4</td><td>2.696e+05</td><td>163.5</td><td>5.713e+05</td><td>246.5</td><td>--</td><td>--</td><td>0.002768</td><td>0.002867</td><td>0.003808</td><td>0.006675</td><td>98.9179303314,8.40607900769,1192.2002</td><td>3.40162499499321</td><td>3.1351250190734863</td><td>0.25484768</td><td>0.2488477</td><td>31.04</td><td>0.77</td><td>26.141773209726033</td></tr>\n",
       "<tr><td>98.80943694927</td><td>8.02405631161</td><td>0.0143</td><td>0.0132</td><td>14.9497</td><td>--</td><td>733-1827-1</td><td>3325977426545923840</td><td>1605.87500000</td><td>0.6013</td><td>0.0165</td><td>2.491</td><td>-3.233</td><td>0.018</td><td>0.016</td><td>0.950</td><td>--</td><td>--</td><td>11.189508</td><td>1.873466</td><td>12.116813</td><td>10.243346</td><td>54.60</td><td>0.20</td><td>1569.39270000</td><td>1654.23608000</td><td>629714.19999</td><td>137.1</td><td>1.944e+05</td><td>153.6</td><td>6.336e+05</td><td>217.9</td><td>--</td><td>--</td><td>0.002765</td><td>0.002919</td><td>0.003798</td><td>0.006717</td><td>98.80943694927,8.02405631161,1605.875</td><td>2.68062499499321</td><td>-1.0498749809265138</td><td>0.24284768</td><td>0.24084769</td><td>35.40</td><td>0.20</td><td>21.913645483039886</td></tr>\n",
       "<tr><td>98.32807784189</td><td>7.85959204576</td><td>0.0283</td><td>0.0251</td><td>17.3699</td><td>--</td><td>733-2008-1</td><td>3325994876995037824</td><td>1207.66919000</td><td>0.8004</td><td>0.0329</td><td>-0.988</td><td>-7.367</td><td>0.032</td><td>0.025</td><td>1.391</td><td>5133.8</td><td>2.7982</td><td>11.342217</td><td>1.351886</td><td>11.946281</td><td>10.594396</td><td>-26.32</td><td>1.19</td><td>1168.05396000</td><td>1258.94336000</td><td>547091.22454</td><td>125.6</td><td>2.275e+05</td><td>103.9</td><td>4.586e+05</td><td>203.2</td><td>--</td><td>--</td><td>0.002767</td><td>0.002834</td><td>0.00381</td><td>0.006644</td><td>98.32807784189,7.85959204576,1207.66919</td><td>-0.7983750050067902</td><td>-5.183874980926514</td><td>0.25684768</td><td>0.2498477</td><td>-45.52</td><td>1.19</td><td>30.02419190903883</td></tr>\n",
       "<tr><td>98.15627576457</td><td>8.56722476217</td><td>0.0173</td><td>0.0162</td><td>39.7161</td><td>--</td><td>--</td><td>3326255495610553728</td><td>1175.12512000</td><td>0.8252</td><td>0.0189</td><td>-1.074</td><td>4.618</td><td>0.020</td><td>0.017</td><td>1.133</td><td>4952.4</td><td>2.7904</td><td>11.348566</td><td>1.440937</td><td>12.007280</td><td>10.566343</td><td>40.51</td><td>0.21</td><td>1149.72412000</td><td>1201.94348000</td><td>543901.81906</td><td>159.3</td><td>2.15e+05</td><td>135.1</td><td>4.706e+05</td><td>233.1</td><td>--</td><td>--</td><td>0.002774</td><td>0.002872</td><td>0.003817</td><td>0.00669</td><td>98.15627576457,8.56722476217,1175.12512</td><td>-0.8843750050067902</td><td>6.801125019073487</td><td>0.24484769</td><td>0.2418477</td><td>21.31</td><td>0.21</td><td>38.201832951479794</td></tr>\n",
       "<tr><td>98.22562558636</td><td>7.71688625045</td><td>0.0154</td><td>0.0148</td><td>27.6070</td><td>--</td><td>--</td><td>3325989001488975104</td><td>1600.60449000</td><td>0.5939</td><td>0.0186</td><td>-2.467</td><td>-1.681</td><td>0.020</td><td>0.015</td><td>0.785</td><td>--</td><td>--</td><td>11.375305</td><td>1.212525</td><td>11.901155</td><td>10.688629</td><td>13.60</td><td>1.29</td><td>1553.27344000</td><td>1645.29480000</td><td>530670.07959</td><td>124.9</td><td>2.371e+05</td><td>116.6</td><td>4.204e+05</td><td>128.6</td><td>--</td><td>--</td><td>0.002767</td><td>0.002841</td><td>0.003794</td><td>0.006635</td><td>98.22562558636,7.71688625045,1600.60449</td><td>-2.2773750050067902</td><td>0.5021250190734863</td><td>0.24484769</td><td>0.23984769</td><td>-5.60</td><td>1.29</td><td>17.693126886092205</td></tr>\n",
       "<tr><td>97.96487496352</td><td>8.37047650789</td><td>0.0135</td><td>0.0125</td><td>40.4878</td><td>--</td><td>--</td><td>3326245913541910144</td><td>1298.25244000</td><td>0.7440</td><td>0.0154</td><td>-5.272</td><td>1.867</td><td>0.016</td><td>0.014</td><td>0.975</td><td>4912.7</td><td>2.5467</td><td>11.382548</td><td>1.399843</td><td>12.016293</td><td>10.616449</td><td>53.85</td><td>0.25</td><td>1269.80774000</td><td>1324.56653000</td><td>527141.84716</td><td>106.4</td><td>2.133e+05</td><td>117.3</td><td>4.493e+05</td><td>195.6</td><td>--</td><td>--</td><td>0.002764</td><td>0.002853</td><td>0.003809</td><td>0.006662</td><td>97.96487496352,8.37047650789,1298.25244</td><td>-5.08237500500679</td><td>4.050125019073486</td><td>0.24084769</td><td>0.23884769</td><td>34.65</td><td>0.25</td><td>39.99160605114638</td></tr>\n",
       "<tr><td>98.15279772762</td><td>7.86039033887</td><td>0.0160</td><td>0.0150</td><td>26.3448</td><td>--</td><td>--</td><td>3326005876409664640</td><td>1210.59717000</td><td>0.8020</td><td>0.0177</td><td>-1.614</td><td>-7.030</td><td>0.019</td><td>0.017</td><td>0.954</td><td>4880.7</td><td>2.7141</td><td>11.449561</td><td>1.348741</td><td>12.054961</td><td>10.706221</td><td>2.38</td><td>0.31</td><td>1181.71948000</td><td>1232.01440000</td><td>495589.65620</td><td>112.5</td><td>2.058e+05</td><td>124.8</td><td>4.137e+05</td><td>182.3</td><td>--</td><td>--</td><td>0.002766</td><td>0.002867</td><td>0.00381</td><td>0.006676</td><td>98.15279772762,7.86039033887,1210.59717</td><td>-1.4243750050067903</td><td>-4.846874980926514</td><td>0.24384768</td><td>0.2418477</td><td>-16.82</td><td>0.31</td><td>28.98859659238016</td></tr>\n",
       "<tr><td>...</td><td>...</td><td>...</td><td>...</td><td>...</td><td>...</td><td>...</td><td>...</td><td>...</td><td>...</td><td>...</td><td>...</td><td>...</td><td>...</td><td>...</td><td>...</td><td>...</td><td>...</td><td>...</td><td>...</td><td>...</td><td>...</td><td>...</td><td>...</td><td>...</td><td>...</td><td>...</td><td>...</td><td>...</td><td>...</td><td>...</td><td>...</td><td>...</td><td>...</td><td>...</td><td>...</td><td>...</td><td>...</td><td>...</td><td>...</td><td>...</td><td>...</td><td>...</td><td>...</td><td>...</td><td>...</td></tr>\n",
       "<tr><td>98.55204464417</td><td>8.14887058559</td><td>0.0772</td><td>0.0666</td><td>6.6567</td><td>--</td><td>--</td><td>3326030645483874176</td><td>1271.83850000</td><td>0.7880</td><td>0.0850</td><td>3.062</td><td>-3.813</td><td>0.087</td><td>0.070</td><td>1.032</td><td>4491.8</td><td>4.8262</td><td>16.980230</td><td>1.328722</td><td>17.566385</td><td>16.237663</td><td>--</td><td>--</td><td>1145.08118000</td><td>1460.43201000</td><td>3039.86591</td><td>3.461</td><td>1285</td><td>17.42</td><td>2536</td><td>21.22</td><td>--</td><td>--</td><td>0.00302</td><td>0.01498</td><td>0.009839</td><td>0.02482</td><td>98.55204464417,8.14887058559,1271.8385</td><td>3.2516249949932097</td><td>-1.6298749809265138</td><td>0.3118477</td><td>0.2948477</td><td>--</td><td>--</td><td>21.927189466359682</td></tr>\n",
       "<tr><td>98.32250518818</td><td>7.88750022642</td><td>0.0697</td><td>0.0644</td><td>16.6674</td><td>--</td><td>--</td><td>3326018555153017600</td><td>1672.80103000</td><td>0.5868</td><td>0.0807</td><td>2.720</td><td>-3.930</td><td>0.075</td><td>0.064</td><td>1.017</td><td>4860.4</td><td>4.6605</td><td>16.980532</td><td>1.142588</td><td>17.462969</td><td>16.320381</td><td>--</td><td>--</td><td>1501.95068000</td><td>1904.84363000</td><td>3039.02204</td><td>2.886</td><td>1413</td><td>14.44</td><td>2350</td><td>9.902</td><td>--</td><td>--</td><td>0.002942</td><td>0.01144</td><td>0.005934</td><td>0.01737</td><td>98.32250518818,7.88750022642,1672.80103</td><td>2.90962499499321</td><td>-1.7468749809265138</td><td>0.2998477</td><td>0.28884768</td><td>--</td><td>--</td><td>26.909247133275578</td></tr>\n",
       "<tr><td>98.87935108930</td><td>8.56959146022</td><td>0.0613</td><td>0.0621</td><td>37.1550</td><td>--</td><td>--</td><td>3326149770694736896</td><td>1436.36719000</td><td>0.6979</td><td>0.0781</td><td>4.558</td><td>-3.100</td><td>0.076</td><td>0.061</td><td>1.006</td><td>4697.1</td><td>4.7238</td><td>16.983614</td><td>1.456156</td><td>17.660145</td><td>16.203989</td><td>--</td><td>--</td><td>1317.99683000</td><td>1606.39087000</td><td>3030.40610</td><td>2.364</td><td>1179</td><td>18.22</td><td>2616</td><td>18.96</td><td>--</td><td>--</td><td>0.002883</td><td>0.01701</td><td>0.008731</td><td>0.02574</td><td>98.8793510893,8.56959146022,1436.36719</td><td>4.74762499499321</td><td>-0.9168749809265138</td><td>0.30084768</td><td>0.2858477</td><td>--</td><td>--</td><td>32.92089777039108</td></tr>\n",
       "<tr><td>99.06368463833</td><td>7.73507453666</td><td>0.0755</td><td>0.0657</td><td>35.1150</td><td>--</td><td>--</td><td>3325954538661520128</td><td>1594.71338000</td><td>0.6365</td><td>0.0840</td><td>0.686</td><td>3.682</td><td>0.101</td><td>0.081</td><td>1.093</td><td>4860.6</td><td>4.8109</td><td>16.987967</td><td>1.278536</td><td>17.539341</td><td>16.260805</td><td>--</td><td>--</td><td>1388.23059000</td><td>1778.46313000</td><td>3018.28585</td><td>2.657</td><td>1317</td><td>20.6</td><td>2482</td><td>13.66</td><td>--</td><td>--</td><td>0.002916</td><td>0.0172</td><td>0.007071</td><td>0.02428</td><td>99.06368463833,7.73507453666,1594.71338</td><td>0.8756249949932099</td><td>5.865125019073487</td><td>0.3258477</td><td>0.3058477</td><td>--</td><td>--</td><td>44.82548540804249</td></tr>\n",
       "<tr><td>98.33496125992</td><td>8.19063620866</td><td>0.0638</td><td>0.0662</td><td>16.1125</td><td>--</td><td>--</td><td>3326044939135095936</td><td>1560.73511000</td><td>0.6498</td><td>0.0839</td><td>-3.652</td><td>3.233</td><td>0.081</td><td>0.062</td><td>0.999</td><td>4713.7</td><td>4.8031</td><td>16.988220</td><td>1.209833</td><td>17.519169</td><td>16.309336</td><td>--</td><td>--</td><td>1396.49976000</td><td>1794.02820000</td><td>3017.57809</td><td>2.615</td><td>1342</td><td>12.8</td><td>2374</td><td>17.31</td><td>--</td><td>--</td><td>0.002912</td><td>0.01073</td><td>0.008774</td><td>0.0195</td><td>98.33496125992,8.19063620866,1560.73511</td><td>-3.4623750050067903</td><td>5.416125019073487</td><td>0.3058477</td><td>0.28684768</td><td>--</td><td>--</td><td>47.555480934175996</td></tr>\n",
       "<tr><td>98.24905988941</td><td>8.14748756858</td><td>0.0623</td><td>0.0658</td><td>19.5018</td><td>--</td><td>--</td><td>3326038552520266368</td><td>1632.73962000</td><td>0.6165</td><td>0.0777</td><td>2.688</td><td>-2.753</td><td>0.074</td><td>0.065</td><td>1.004</td><td>4959.0</td><td>4.7428</td><td>16.989273</td><td>1.165010</td><td>17.488990</td><td>16.323980</td><td>--</td><td>--</td><td>1478.71692000</td><td>1890.36682000</td><td>3014.65609</td><td>2.365</td><td>1380</td><td>13.63</td><td>2342</td><td>8.666</td><td>--</td><td>--</td><td>0.002884</td><td>0.01109</td><td>0.005516</td><td>0.0166</td><td>98.24905988941,8.14748756858,1632.73962</td><td>2.87762499499321</td><td>-0.5698749809265138</td><td>0.29884768</td><td>0.28984767</td><td>--</td><td>--</td><td>22.702981815656745</td></tr>\n",
       "<tr><td>98.35763086189</td><td>8.33300222328</td><td>0.1117</td><td>0.1057</td><td>21.3305</td><td>--</td><td>--</td><td>3326236017937085056</td><td>1307.78967000</td><td>0.7713</td><td>0.1357</td><td>3.405</td><td>-11.141</td><td>0.130</td><td>0.104</td><td>1.538</td><td>4540.3</td><td>4.3812</td><td>16.996803</td><td>1.620651</td><td>17.707994</td><td>16.087343</td><td>--</td><td>--</td><td>1153.57190000</td><td>1526.48120000</td><td>2993.81805</td><td>5.14</td><td>1128</td><td>8.642</td><td>2912</td><td>14.01</td><td>--</td><td>--</td><td>0.003327</td><td>0.008775</td><td>0.006446</td><td>0.01522</td><td>98.35763086189,8.33300222328,1307.78967</td><td>3.5946249949932096</td><td>-8.957874980926514</td><td>0.35484767</td><td>0.3288477</td><td>--</td><td>--</td><td>59.83320902185499</td></tr>\n",
       "<tr><td>98.94930765618</td><td>7.52175922575</td><td>0.0657</td><td>0.0669</td><td>38.7341</td><td>--</td><td>--</td><td>3133790967330694784</td><td>1414.28174000</td><td>0.6816</td><td>0.0861</td><td>0.832</td><td>-6.936</td><td>0.080</td><td>0.068</td><td>0.990</td><td>4792.0</td><td>4.6120</td><td>16.997640</td><td>1.493210</td><td>17.688526</td><td>16.195316</td><td>--</td><td>--</td><td>1277.40723000</td><td>1586.74658000</td><td>2991.51251</td><td>2.748</td><td>1148</td><td>13.65</td><td>2636</td><td>12.78</td><td>--</td><td>--</td><td>0.00293</td><td>0.0132</td><td>0.00648</td><td>0.01968</td><td>98.94930765618,7.52175922575,1414.28174</td><td>1.0216249949932097</td><td>-4.752874980926514</td><td>0.3048477</td><td>0.2928477</td><td>--</td><td>--</td><td>32.58957137388736</td></tr>\n",
       "<tr><td>97.91621564650</td><td>8.10503385487</td><td>0.0618</td><td>0.0589</td><td>38.3488</td><td>--</td><td>--</td><td>3326205227313510400</td><td>1664.76746000</td><td>0.6003</td><td>0.0732</td><td>0.433</td><td>-4.966</td><td>0.074</td><td>0.063</td><td>0.980</td><td>4781.9</td><td>4.7475</td><td>16.998352</td><td>1.262329</td><td>17.552574</td><td>16.290245</td><td>--</td><td>--</td><td>1473.54761000</td><td>1897.17517000</td><td>2989.54933</td><td>2.735</td><td>1301</td><td>11.59</td><td>2416</td><td>13.89</td><td>--</td><td>--</td><td>0.002929</td><td>0.01007</td><td>0.007298</td><td>0.01736</td><td>97.9162156465,8.10503385487,1664.76746</td><td>0.6226249949932099</td><td>-2.782874980926514</td><td>0.29884768</td><td>0.2878477</td><td>--</td><td>--</td><td>22.502567594074886</td></tr>\n",
       "<tr><td>98.30948053417</td><td>7.82081121071</td><td>0.0741</td><td>0.0665</td><td>19.7088</td><td>--</td><td>--</td><td>3325991685837657088</td><td>1376.95911000</td><td>0.7197</td><td>0.0870</td><td>4.573</td><td>3.575</td><td>0.085</td><td>0.068</td><td>0.993</td><td>4703.7</td><td>4.8240</td><td>16.999674</td><td>1.250551</td><td>17.544033</td><td>16.293482</td><td>--</td><td>--</td><td>1227.65234000</td><td>1555.85876000</td><td>2985.91232</td><td>3.282</td><td>1312</td><td>11.33</td><td>2409</td><td>21.18</td><td>--</td><td>--</td><td>0.003003</td><td>0.009787</td><td>0.01027</td><td>0.02005</td><td>98.30948053417,7.82081121071,1376.95911</td><td>4.76262499499321</td><td>5.7581250190734865</td><td>0.30984768</td><td>0.2928477</td><td>--</td><td>--</td><td>48.77156011543055</td></tr>\n",
       "</table></div>"
      ],
      "text/plain": [
       "<Table length=1207>\n",
       "   RA_ICRS_1       DE_ICRS_1    e_RA_ICRS ...   rRV    e_rRV        v_pec       \n",
       "      deg             deg          mas    ...  km / s  km / s       km / s      \n",
       "    float64         float64      float64  ... float64 float32      float64      \n",
       "--------------- --------------- --------- ... ------- ------- ------------------\n",
       " 98.69055275937   8.07569472560    0.0356 ...      --      --  21.30802513378318\n",
       " 98.02515215957   8.09905249055    0.0143 ...   15.97    0.19 19.040213295718296\n",
       " 98.91793033140   8.40607900769    0.0277 ...   31.04    0.77 26.141773209726033\n",
       " 98.80943694927   8.02405631161    0.0143 ...   35.40    0.20 21.913645483039886\n",
       " 98.32807784189   7.85959204576    0.0283 ...  -45.52    1.19  30.02419190903883\n",
       " 98.15627576457   8.56722476217    0.0173 ...   21.31    0.21 38.201832951479794\n",
       " 98.22562558636   7.71688625045    0.0154 ...   -5.60    1.29 17.693126886092205\n",
       " 97.96487496352   8.37047650789    0.0135 ...   34.65    0.25  39.99160605114638\n",
       " 98.15279772762   7.86039033887    0.0160 ...  -16.82    0.31  28.98859659238016\n",
       "            ...             ...       ... ...     ...     ...                ...\n",
       " 98.55204464417   8.14887058559    0.0772 ...      --      -- 21.927189466359682\n",
       " 98.32250518818   7.88750022642    0.0697 ...      --      -- 26.909247133275578\n",
       " 98.87935108930   8.56959146022    0.0613 ...      --      --  32.92089777039108\n",
       " 99.06368463833   7.73507453666    0.0755 ...      --      --  44.82548540804249\n",
       " 98.33496125992   8.19063620866    0.0638 ...      --      -- 47.555480934175996\n",
       " 98.24905988941   8.14748756858    0.0623 ...      --      -- 22.702981815656745\n",
       " 98.35763086189   8.33300222328    0.1117 ...      --      --  59.83320902185499\n",
       " 98.94930765618   7.52175922575    0.0657 ...      --      --  32.58957137388736\n",
       " 97.91621564650   8.10503385487    0.0618 ...      --      -- 22.502567594074886\n",
       " 98.30948053417   7.82081121071    0.0741 ...      --      --  48.77156011543055"
      ]
     },
     "execution_count": 3,
     "metadata": {},
     "output_type": "execute_result"
    }
   ],
   "source": [
    "cl = Cluster(\"Basel_8\")\n",
    "print(cl.RV, cl.e_RV)\n",
    "cl.fast_stars_in_region()\n"
   ]
  },
  {
   "cell_type": "code",
   "execution_count": 7,
   "metadata": {},
   "outputs": [
    {
     "name": "stderr",
     "output_type": "stream",
     "text": [
      "QSocketNotifier: Can only be used with threads started with QThread\n",
      "qt.qpa.wayland: Wayland does not support QWindow::requestActivate()\n"
     ]
    }
   ],
   "source": [
    "%run runaway_functionsv3\n",
    "%matplotlib qt\n",
    "cl = Cluster(\"Berkeley_97\")\n",
    "cir = find_cluster(cl.stars_in_region())\n",
    "# cir = (cl.fast_stars_in_region())\n",
    "cir['rmRA'] = cir['pmRA']-cl.pm_ra_cosdec\n",
    "cir['rmDE'] = cir['pmDE']-cl.pm_dec\n",
    "cir['e_rmRA'] = cir['e_pmRA']+cl.e_pm_ra_cosdec\n",
    "cir['e_rmDE'] = cir['e_pmDE']+cl.e_pm_dec\n",
    "cir['rRV'] = cir['RV']-cl.RV\n",
    "cir['e_rRV'] = cir['e_RV']+cl.e_RV\n",
    "cir['Temp. Est'] = 0\n",
    "cl.plot_traceback_clean(stars=cir)"
   ]
  },
  {
   "cell_type": "code",
   "execution_count": 8,
   "metadata": {},
   "outputs": [],
   "source": [
    "%run runaway_functionsv3\n",
    "%matplotlib qt\n",
    "cl = Cluster(\"Berkeley_97\")\n",
    "cld = ClusterDias(\"Berkeley_97\")\n",
    "isochrone1 = Isochrone(cld)\n",
    "isochrone2 = Isochrone(cl, Av=3, logage=7)\n",
    "plot_cmd(cl, isochrones=[isochrone1,isochrone2])\n",
    "# plot_cmd(cld)\n",
    "\n"
   ]
  },
  {
   "cell_type": "code",
   "execution_count": 48,
   "metadata": {},
   "outputs": [
    {
     "name": "stdout",
     "output_type": "stream",
     "text": [
      "gaia dr3 2008384504995669248 <class 'str'>\n"
     ]
    },
    {
     "data": {
      "text/html": [
       "<div><i>Table length=1</i>\n",
       "<table id=\"table127543557605072\" class=\"table-striped table-bordered table-condensed\">\n",
       "<thead><tr><th>MAIN_ID</th><th>RA</th><th>DEC</th><th>RA_PREC</th><th>DEC_PREC</th><th>COO_ERR_MAJA</th><th>COO_ERR_MINA</th><th>COO_ERR_ANGLE</th><th>COO_QUAL</th><th>COO_WAVELENGTH</th><th>COO_BIBCODE</th><th>SCRIPT_NUMBER_ID</th></tr></thead>\n",
       "<thead><tr><th></th><th>&quot;h:m:s&quot;</th><th>&quot;d:m:s&quot;</th><th></th><th></th><th>mas</th><th>mas</th><th>deg</th><th></th><th></th><th></th><th></th></tr></thead>\n",
       "<thead><tr><th>object</th><th>str13</th><th>str13</th><th>int16</th><th>int16</th><th>float32</th><th>float32</th><th>int16</th><th>str1</th><th>str1</th><th>object</th><th>int32</th></tr></thead>\n",
       "<tr><td>HD 240016</td><td>22 39 22.5468</td><td>+59 00 25.787</td><td>14</td><td>14</td><td>0.029</td><td>0.031</td><td>90</td><td>A</td><td>O</td><td>2020yCat.1350....0G</td><td>1</td></tr>\n",
       "</table></div>"
      ],
      "text/plain": [
       "<Table length=1>\n",
       " MAIN_ID        RA           DEC      ...     COO_BIBCODE     SCRIPT_NUMBER_ID\n",
       "             \"h:m:s\"       \"d:m:s\"    ...                                     \n",
       "  object      str13         str13     ...        object            int32      \n",
       "--------- ------------- ------------- ... ------------------- ----------------\n",
       "HD 240016 22 39 22.5468 +59 00 25.787 ... 2020yCat.1350....0G                1"
      ]
     },
     "execution_count": 48,
     "metadata": {},
     "output_type": "execute_result"
    }
   ],
   "source": [
    "source = 2008384504995669248\n",
    "object = f\"gaia dr3 {source}\"\n",
    "print(object, type(object))\n",
    "Simbad.query_object(\"gaia dr3 2008383302396655488\")"
   ]
  },
  {
   "cell_type": "code",
   "execution_count": 45,
   "metadata": {},
   "outputs": [
    {
     "data": {
      "text/html": [
       "<div><i>Table length=1</i>\n",
       "<table id=\"table127543545029264\" class=\"table-striped table-bordered table-condensed\">\n",
       "<thead><tr><th>RA_ICRS_1</th><th>DE_ICRS_1</th><th>rgeo</th><th>Teff</th><th>Temp. Est</th><th>e_RA_ICRS</th><th>e_DE_ICRS</th><th>_r_1</th><th>HIP</th><th>TYC2</th><th>Source</th><th>Plx</th><th>e_Plx</th><th>pmRA</th><th>pmDE</th><th>e_pmRA</th><th>e_pmDE</th><th>RUWE</th><th>Gmag</th><th>BP-RP</th><th>BPmag</th><th>RPmag</th><th>b_rgeo</th><th>B_rgeo</th><th>e_Gmag</th><th>e_BPmag</th><th>e_RPmag</th><th>e_BP-RP</th><th>SkyCoord</th><th>rmRA</th><th>rmDE</th><th>v_pec</th><th>logg</th><th>RV</th><th>e_RV</th><th>FG</th><th>e_FG</th><th>FBP</th><th>e_FBP</th><th>FRP</th><th>e_FRP</th><th>RAVE5</th><th>RAVE6</th></tr></thead>\n",
       "<thead><tr><th>deg</th><th>deg</th><th>pc</th><th>K</th><th>K</th><th>mas</th><th>mas</th><th></th><th></th><th></th><th></th><th>mas</th><th>mas</th><th>mas / yr</th><th>mas / yr</th><th>mas / yr</th><th>mas / yr</th><th></th><th>mag</th><th>mag</th><th>mag</th><th>mag</th><th>pc</th><th>pc</th><th></th><th></th><th></th><th></th><th>deg,deg,pc</th><th>mas / yr</th><th>mas / yr</th><th>km / s</th><th>log(cm.s**-2)</th><th>km / s</th><th>km / s</th><th></th><th></th><th></th><th></th><th></th><th></th><th></th><th></th></tr></thead>\n",
       "<thead><tr><th>float64</th><th>float64</th><th>float64</th><th>float64</th><th>float64</th><th>float64</th><th>float64</th><th>float64</th><th>int32</th><th>str11</th><th>int64</th><th>float64</th><th>float32</th><th>float64</th><th>float64</th><th>float32</th><th>float32</th><th>float64</th><th>float64</th><th>float64</th><th>float64</th><th>float64</th><th>float64</th><th>float64</th><th>float64</th><th>float32</th><th>float32</th><th>float32</th><th>SkyCoord</th><th>float64</th><th>float64</th><th>float64</th><th>float64</th><th>float64</th><th>float32</th><th>float64</th><th>float32</th><th>float32</th><th>float32</th><th>float32</th><th>float32</th><th>str1</th><th>str1</th></tr></thead>\n",
       "<tr><td>339.89581711423</td><td>58.99547917199</td><td>2620.36230000</td><td>9168.0</td><td>10920.0</td><td>0.0202</td><td>0.0197</td><td>1.5205</td><td>--</td><td>--</td><td>2008384504995669248</td><td>0.3560</td><td>0.0241</td><td>-0.379</td><td>-1.352</td><td>0.025</td><td>0.024</td><td>1.086</td><td>15.384143</td><td>1.182070</td><td>15.883185</td><td>14.701116</td><td>2461.53345000</td><td>2759.61401000</td><td>0.00277</td><td>0.003852</td><td>0.004229</td><td>0.008081</td><td>339.89581711423,58.99547917199,2620.3623</td><td>2.3543571910858154</td><td>0.5321785192489623</td><td>29.98008203419036</td><td>3.7061</td><td>--</td><td>--</td><td>13221.76503</td><td>3.482</td><td>6055</td><td>14.81</td><td>1.044e+04</td><td>18.25</td><td>--</td><td>--</td></tr>\n",
       "</table></div>"
      ],
      "text/plain": [
       "<Table length=1>\n",
       "   RA_ICRS_1       DE_ICRS_1          rgeo      ...    e_FRP    RAVE5 RAVE6\n",
       "      deg             deg              pc       ...                        \n",
       "    float64         float64         float64     ...   float32    str1  str1\n",
       "--------------- --------------- --------------- ... ----------- ----- -----\n",
       "339.89581711423  58.99547917199   2620.36230000 ...       18.25    --    --"
      ]
     },
     "execution_count": 45,
     "metadata": {},
     "output_type": "execute_result"
    }
   ],
   "source": [
    "cl.runaways()"
   ]
  },
  {
   "cell_type": "code",
   "execution_count": 44,
   "metadata": {},
   "outputs": [
    {
     "name": "stdout",
     "output_type": "stream",
     "text": [
      "2008384504995669248\n"
     ]
    },
    {
     "name": "stderr",
     "output_type": "stream",
     "text": [
      "/usr/lib/python3/dist-packages/astroquery/simbad/core.py:135: UserWarning: Warning: The script line number 3 raised an error (recorded in the `errors` attribute of the result table): Identifier not found in the database : Gaia DR3 2008384504995669248\n",
      "  warnings.warn(\"Warning: The script line number %i raised \"\n"
     ]
    },
    {
     "ename": "TypeError",
     "evalue": "'NoneType' object is not subscriptable",
     "output_type": "error",
     "traceback": [
      "\u001b[0;31m---------------------------------------------------------------------------\u001b[0m",
      "\u001b[0;31mTypeError\u001b[0m                                 Traceback (most recent call last)",
      "Cell \u001b[0;32mIn[44], line 5\u001b[0m\n\u001b[1;32m      2\u001b[0m source \u001b[38;5;241m=\u001b[39m runaway[\u001b[38;5;124m'\u001b[39m\u001b[38;5;124mSource\u001b[39m\u001b[38;5;124m'\u001b[39m]\n\u001b[1;32m      3\u001b[0m \u001b[38;5;28mprint\u001b[39m(source)\n\u001b[0;32m----> 5\u001b[0m t \u001b[38;5;241m=\u001b[39m \u001b[43mSimbad\u001b[49m\u001b[38;5;241;43m.\u001b[39;49m\u001b[43mquery_object\u001b[49m\u001b[43m(\u001b[49m\u001b[38;5;124;43mf\u001b[39;49m\u001b[38;5;124;43m\"\u001b[39;49m\u001b[38;5;124;43mgaia dr3 \u001b[39;49m\u001b[38;5;132;43;01m{\u001b[39;49;00m\u001b[43msource\u001b[49m\u001b[38;5;132;43;01m}\u001b[39;49;00m\u001b[38;5;124;43m\"\u001b[39;49m\u001b[43m)\u001b[49m\u001b[43m[\u001b[49m\u001b[38;5;124;43m'\u001b[39;49m\u001b[38;5;124;43mMAIN_ID\u001b[39;49m\u001b[38;5;124;43m'\u001b[39;49m\u001b[43m]\u001b[49m\n\u001b[1;32m      6\u001b[0m \u001b[38;5;28mprint\u001b[39m(t)\n",
      "\u001b[0;31mTypeError\u001b[0m: 'NoneType' object is not subscriptable"
     ]
    }
   ],
   "source": [
    "for runaway in cl.runaways():\n",
    "    source = runaway['Source']\n",
    "    print(source)\n",
    "    \n",
    "    t = Simbad.query_object(f\"gaia dr3 {source}\")['MAIN_ID']\n",
    "    print(t)"
   ]
  },
  {
   "cell_type": "code",
   "execution_count": 41,
   "metadata": {},
   "outputs": [
    {
     "name": "stderr",
     "output_type": "stream",
     "text": [
      "/usr/lib/python3/dist-packages/astroquery/simbad/core.py:135: UserWarning: Warning: The script line number 3 raised an error (recorded in the `errors` attribute of the result table): Identifier not found in the database : Gaia DR3 2008384504995669248\n",
      "  warnings.warn(\"Warning: The script line number %i raised \"\n"
     ]
    }
   ],
   "source": [
    "from astroquery.simbad import Simbad\n",
    "t = Simbad.query_object(\"gaia dr3 2008384504995669248\")\n",
    "t"
   ]
  },
  {
   "cell_type": "code",
   "execution_count": 13,
   "metadata": {},
   "outputs": [],
   "source": [
    "dias2021 = Table.read(\"dias2021.tsv\", format=\"ascii.ecsv\")\n",
    "maskplx = dias2021['Plx'] > 0.3\n",
    "maskage = dias2021['logage'] < 7.7\n",
    "workclusters = []\n",
    "for clustername in dias2021[maskplx & maskage][:]['Cluster']:\n",
    "    if clustername not in ['ASCC_79','BH_164','BH_23','Collinder_135','Collinder_140','Gulliver_9','IC_2391','IC_2602','Mamajek_1','Platais_8','UPK_535','UPK_606','UPK_640','Berkeley_59','COIN-Gaia_37','Ivanov_4','LP_1937','Sigma_Ori','UBC_632']:\n",
    "        workclusters.append(clustername)\n",
    "        # print(clustername)\n",
    "        # cl = Cluster(clustername)\n",
    "        # cl.prepare_trace()\n",
    "# cl.stars_in_region()\n",
    "# cl.stars_in_region()"
   ]
  },
  {
   "cell_type": "code",
   "execution_count": null,
   "metadata": {},
   "outputs": [],
   "source": [
    "workclusters_mask = [cluster in workclusters for cluster in dias2021['Cluster']]\n",
    "workclusterstable = dias2021[workclusters_mask]\n",
    "\n",
    "rvexists = workclusterstable['RV'].mask\n",
    "nrvgood = workclusterstable['NRV'] > 4\n",
    "\n",
    "workclusterstable[~rvexists & nrvgood]"
   ]
  },
  {
   "cell_type": "code",
   "execution_count": null,
   "metadata": {},
   "outputs": [],
   "source": [
    "def runaways_from(clustername):\n",
    "    cl = Cluster(clustername)\n",
    "    fs4giesler = cl.fast_stars_in_region()\n",
    "    outputs = os.listdir(f\"/home/surodeep/suro_aiu/traceback/cluster_runaway/{cl.name}/runaways/\")\n",
    "    linenos = []\n",
    "    for output in outputs:\n",
    "        #print(output)\n",
    "        if 'run' in output:\n",
    "            linenos.append(int(output.split(\"+\")[1].replace(\".out\",\"\")))\n",
    "    linenos.sort()\n",
    "    # print(linenos)\n",
    "    i=np.array(linenos)-3\n",
    "    def source_of(lineno, input_table):\n",
    "        return input_table[lineno-2]['Source']\n",
    "    return fs4giesler[i]\n",
    "for cluster in workclusters:\n",
    "    t = runaways_from(cluster)[runaways_from(cluster)['Teff'].argmax()]['Teff']\n",
    "    \n",
    "    if t>10000:\n",
    "        print(cluster, t,runaways_from(cluster)[runaways_from(cluster)['Teff'].argmax()]['Source'])"
   ]
  }
 ],
 "metadata": {
  "kernelspec": {
   "display_name": "Python 3",
   "language": "python",
   "name": "python3"
  },
  "language_info": {
   "codemirror_mode": {
    "name": "ipython",
    "version": 3
   },
   "file_extension": ".py",
   "mimetype": "text/x-python",
   "name": "python",
   "nbconvert_exporter": "python",
   "pygments_lexer": "ipython3",
   "version": "3.11.6"
  }
 },
 "nbformat": 4,
 "nbformat_minor": 2
}
