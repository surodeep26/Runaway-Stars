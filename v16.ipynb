{
 "cells": [
  {
   "cell_type": "code",
   "execution_count": 8,
   "metadata": {},
   "outputs": [
    {
     "ename": "ModuleNotFoundError",
     "evalue": "No module named 'Circle'",
     "output_type": "error",
     "traceback": [
      "\u001b[0;31m---------------------------------------------------------------------------\u001b[0m",
      "\u001b[0;31mModuleNotFoundError\u001b[0m                       Traceback (most recent call last)",
      "File \u001b[0;32m~/Runaway-Stars/Runaway-Stars-1/runaway_functionsv3.py:33\u001b[0m\n\u001b[1;32m     31\u001b[0m \u001b[38;5;28;01mfrom\u001b[39;00m \u001b[38;5;21;01mastropy\u001b[39;00m\u001b[38;5;21;01m.\u001b[39;00m\u001b[38;5;21;01mio\u001b[39;00m \u001b[38;5;28;01mimport\u001b[39;00m fits\n\u001b[1;32m     32\u001b[0m \u001b[38;5;28;01mfrom\u001b[39;00m \u001b[38;5;21;01mastroquery\u001b[39;00m\u001b[38;5;21;01m.\u001b[39;00m\u001b[38;5;21;01msimbad\u001b[39;00m \u001b[38;5;28;01mimport\u001b[39;00m Simbad\n\u001b[0;32m---> 33\u001b[0m \u001b[38;5;28;01mimport\u001b[39;00m \u001b[38;5;21;01mmatplotlib\u001b[39;00m\u001b[38;5;21;01m.\u001b[39;00m\u001b[38;5;21;01mpatches\u001b[39;00m \u001b[38;5;28;01mas\u001b[39;00m \u001b[38;5;21;01mpatches\u001b[39;00m\u001b[38;5;241m,\u001b[39m \u001b[38;5;21;01mCircle\u001b[39;00m\n\u001b[1;32m     34\u001b[0m \u001b[38;5;28;01mimport\u001b[39;00m \u001b[38;5;21;01mmatplotlib\u001b[39;00m\u001b[38;5;21;01m.\u001b[39;00m\u001b[38;5;21;01mcm\u001b[39;00m \u001b[38;5;28;01mas\u001b[39;00m \u001b[38;5;21;01mcm\u001b[39;00m\n\u001b[1;32m     35\u001b[0m \u001b[38;5;28;01mimport\u001b[39;00m \u001b[38;5;21;01mmatplotlib\u001b[39;00m\u001b[38;5;21;01m.\u001b[39;00m\u001b[38;5;21;01mcolors\u001b[39;00m \u001b[38;5;28;01mas\u001b[39;00m \u001b[38;5;21;01mmcolors\u001b[39;00m\n",
      "\u001b[0;31mModuleNotFoundError\u001b[0m: No module named 'Circle'"
     ]
    },
    {
     "ename": "NameError",
     "evalue": "name 'ClusterDias' is not defined",
     "output_type": "error",
     "traceback": [
      "\u001b[0;31m---------------------------------------------------------------------------\u001b[0m",
      "\u001b[0;31mNameError\u001b[0m                                 Traceback (most recent call last)",
      "Cell \u001b[0;32mIn[8], line 3\u001b[0m\n\u001b[1;32m      1\u001b[0m get_ipython()\u001b[38;5;241m.\u001b[39mrun_line_magic(\u001b[38;5;124m'\u001b[39m\u001b[38;5;124mrun\u001b[39m\u001b[38;5;124m'\u001b[39m, \u001b[38;5;124m'\u001b[39m\u001b[38;5;124mrunaway_functionsv3\u001b[39m\u001b[38;5;124m'\u001b[39m)\n\u001b[1;32m      2\u001b[0m get_ipython()\u001b[38;5;241m.\u001b[39mrun_line_magic(\u001b[38;5;124m'\u001b[39m\u001b[38;5;124mmatplotlib\u001b[39m\u001b[38;5;124m'\u001b[39m, \u001b[38;5;124m'\u001b[39m\u001b[38;5;124mqt\u001b[39m\u001b[38;5;124m'\u001b[39m)\n\u001b[0;32m----> 3\u001b[0m cl \u001b[38;5;241m=\u001b[39m \u001b[43mCluster\u001b[49m\u001b[43m(\u001b[49m\u001b[38;5;124;43m'\u001b[39;49m\u001b[38;5;124;43mBasel_8\u001b[39;49m\u001b[38;5;124;43m'\u001b[39;49m\u001b[43m)\u001b[49m\n\u001b[1;32m      4\u001b[0m \u001b[38;5;66;03m# print(latex_text(cl))\u001b[39;00m\n",
      "File \u001b[0;32m~/Runaway-Stars/Runaway-Stars-1/runaway_functionsv3.py:192\u001b[0m, in \u001b[0;36mCluster.__init__\u001b[0;34m(self, name)\u001b[0m\n\u001b[1;32m    190\u001b[0m \u001b[38;5;28;01mif\u001b[39;00m \u001b[38;5;129;01mnot\u001b[39;00m os\u001b[38;5;241m.\u001b[39mpath\u001b[38;5;241m.\u001b[39mexists(\u001b[38;5;124mf\u001b[39m\u001b[38;5;124m'\u001b[39m\u001b[38;5;124mClusters/\u001b[39m\u001b[38;5;132;01m{\u001b[39;00mname\u001b[38;5;132;01m}\u001b[39;00m\u001b[38;5;124m'\u001b[39m):\n\u001b[1;32m    191\u001b[0m     os\u001b[38;5;241m.\u001b[39mmkdir(\u001b[38;5;124mf\u001b[39m\u001b[38;5;124m'\u001b[39m\u001b[38;5;124mClusters/\u001b[39m\u001b[38;5;132;01m{\u001b[39;00mname\u001b[38;5;132;01m}\u001b[39;00m\u001b[38;5;124m'\u001b[39m)\n\u001b[0;32m--> 192\u001b[0m clusterDias \u001b[38;5;241m=\u001b[39m \u001b[43mClusterDias\u001b[49m(name\u001b[38;5;241m=\u001b[39mname)\n\u001b[1;32m    193\u001b[0m \u001b[38;5;28;01mtry\u001b[39;00m:\n\u001b[1;32m    194\u001b[0m     clusterCG \u001b[38;5;241m=\u001b[39m ClusterCG(name\u001b[38;5;241m=\u001b[39mname)\n",
      "\u001b[0;31mNameError\u001b[0m: name 'ClusterDias' is not defined"
     ]
    }
   ],
   "source": [
    "%run runaway_functionsv3\n",
    "%matplotlib qt\n",
    "cl = Cluster('Basel_8')\n",
    "# print(latex_text(cl))"
   ]
  },
  {
   "cell_type": "code",
   "execution_count": 47,
   "metadata": {},
   "outputs": [
    {
     "name": "stdout",
     "output_type": "stream",
     "text": [
      "   Name  \n",
      "---------\n",
      "HD 259597\n",
      "   Name  \n",
      "---------\n",
      "HD 259787\n",
      "   Name  \n",
      "---------\n",
      "HD 259991\n"
     ]
    }
   ],
   "source": [
    "%run runaway_functionsv3\n",
    "\n",
    "cl = Cluster('Basel_8')\n",
    "cld = ClusterDias('Basel_8')\n",
    "obs = config['observed_stars']['Basel_8']\n",
    "\n",
    "plot_cmd = cl.plot_cmd(isochrones=[Isochrone(cld)])\n",
    "show_annotation_manager(plot_cmd)\n"
   ]
  },
  {
   "cell_type": "code",
   "execution_count": 10,
   "metadata": {},
   "outputs": [],
   "source": [
    "plot_cmd = cl.plot_cmd()\n",
    "show_annotation_manager(plot_cmd)"
   ]
  },
  {
   "cell_type": "code",
   "execution_count": 48,
   "metadata": {},
   "outputs": [],
   "source": [
    "plot_pm = cl.plot_pm()\n",
    "show_annotation_manager(plot_pm)"
   ]
  },
  {
   "cell_type": "code",
   "execution_count": 5,
   "metadata": {},
   "outputs": [
    {
     "name": "stderr",
     "output_type": "stream",
     "text": [
      "WARNING: MergeConflictWarning: Cannot merge meta key 'null' types <class 'float'> and <class 'float'>, choosing null=nan [astropy.utils.metadata]\n",
      "WARNING: MergeConflictWarning: Cannot merge meta key 'null' types <class 'float'> and <class 'float'>, choosing null=nan [astropy.utils.metadata]\n"
     ]
    }
   ],
   "source": [
    "%run runaway_functionsv3\n",
    "%matplotlib qt\n",
    "\n",
    "cl = Cluster('Basel_8')\n",
    "plot_traceback_clean = cl.plot_traceback_clean()\n",
    "show_annotation_manager(plot_traceback_clean)"
   ]
  },
  {
   "cell_type": "code",
   "execution_count": 7,
   "metadata": {},
   "outputs": [
    {
     "ename": "AttributeError",
     "evalue": "'PathCollection' object has no attribute 'Circle'",
     "output_type": "error",
     "traceback": [
      "\u001b[0;31m---------------------------------------------------------------------------\u001b[0m",
      "\u001b[0;31mAttributeError\u001b[0m                            Traceback (most recent call last)",
      "Cell \u001b[0;32mIn[7], line 2\u001b[0m\n\u001b[1;32m      1\u001b[0m scatter \u001b[38;5;241m=\u001b[39m plot_traceback_clean\u001b[38;5;241m.\u001b[39mscatter(\u001b[38;5;241m5\u001b[39m,\u001b[38;5;241m512\u001b[39m,s\u001b[38;5;241m=\u001b[39m\u001b[38;5;241m500\u001b[39m, c\u001b[38;5;241m=\u001b[39m\u001b[38;5;124m'\u001b[39m\u001b[38;5;124mwhite\u001b[39m\u001b[38;5;124m'\u001b[39m)\n\u001b[0;32m----> 2\u001b[0m \u001b[43mscatter\u001b[49m\u001b[38;5;241;43m.\u001b[39;49m\u001b[43mCircle\u001b[49m((\u001b[38;5;241m500\u001b[39m,\u001b[38;5;241m500\u001b[39m), radius\u001b[38;5;241m=\u001b[39m(\u001b[38;5;241m100\u001b[39m))\n",
      "\u001b[0;31mAttributeError\u001b[0m: 'PathCollection' object has no attribute 'Circle'"
     ]
    }
   ],
   "source": [
    "scatter = plot_traceback_clean.scatter(5,512,s=500, c='white')\n"
   ]
  },
  {
   "cell_type": "code",
   "execution_count": 7,
   "metadata": {},
   "outputs": [
    {
     "name": "stdout",
     "output_type": "stream",
     "text": [
      "(array([154.76217518,  76.12140822, 238.72218691, 178.64062384,\n",
      "       218.35386502]), array([ 85.63831627, 136.63417909, 245.01511754, 259.75616726,\n",
      "       109.94681138]))\n"
     ]
    }
   ],
   "source": [
    "%run runaway_functionsv3\n",
    "%matplotlib qt\n",
    "cl  = Cluster('Basel_8')\n",
    "plot_traceback_psr = cl.plot_traceback_psr()\n"
   ]
  },
  {
   "cell_type": "code",
   "execution_count": 5,
   "metadata": {},
   "outputs": [
    {
     "data": {
      "text/plain": [
       "<matplotlib.patches.Circle at 0x7adc9b8aaa10>"
      ]
     },
     "execution_count": 5,
     "metadata": {},
     "output_type": "execute_result"
    }
   ],
   "source": [
    "circle_v_spr = patches.Circle((500,500),radius=50,edgecolor='azure', facecolor='aqua',alpha = 0.1)\n",
    "plot_traceback_psr.add_patch(circle_v_spr)"
   ]
  },
  {
   "cell_type": "code",
   "execution_count": 6,
   "metadata": {},
   "outputs": [
    {
     "data": {
      "text/html": [
       "<div><i>Table length=1</i>\n",
       "<table id=\"table137669880973456\" class=\"table-striped table-bordered table-condensed\">\n",
       "<thead><tr><th>Name</th><th>RA_ICRS_1</th><th>DE_ICRS_1</th><th>rgeo</th><th>Teff</th><th>Temp. Est</th><th>v_pec</th><th>e_v_pec</th><th>v_pec3d</th><th>e_v_pec3d</th><th>HIP</th><th>TYC2</th><th>Source</th><th>Plx</th><th>e_Plx</th><th>pmRA</th><th>pmDE</th><th>e_pmRA</th><th>e_pmDE</th><th>RUWE</th><th>Gmag</th><th>BP-RP</th><th>BPmag</th><th>RPmag</th><th>b_rgeo</th><th>B_rgeo</th><th>e_Gmag</th><th>e_BPmag</th><th>e_RPmag</th><th>e_BP-RP</th><th>SkyCoord</th><th>rmRA</th><th>e_rmRA</th><th>rmDE</th><th>e_rmDE</th><th>logg</th><th>RV</th><th>e_RV</th><th>rRV</th><th>e_rRV</th><th>FG</th><th>e_FG</th><th>FBP</th><th>e_FBP</th><th>FRP</th><th>e_FRP</th><th>RAVE5</th><th>RAVE6</th></tr></thead>\n",
       "<thead><tr><th></th><th>deg</th><th>deg</th><th>pc</th><th>K</th><th>K</th><th>km / s</th><th>km / s</th><th>km / s</th><th>km / s</th><th></th><th></th><th></th><th>mas</th><th>mas</th><th>mas / yr</th><th>mas / yr</th><th>mas / yr</th><th>mas / yr</th><th></th><th>mag</th><th>mag</th><th>mag</th><th>mag</th><th>pc</th><th>pc</th><th></th><th></th><th></th><th></th><th>deg,deg,pc</th><th>mas / yr</th><th>mas / yr</th><th>mas / yr</th><th>mas / yr</th><th>log(cm.s**-2)</th><th>km / s</th><th>km / s</th><th>km / s</th><th>km / s</th><th></th><th></th><th></th><th></th><th></th><th></th><th></th><th></th></tr></thead>\n",
       "<thead><tr><th>str32</th><th>float64</th><th>float64</th><th>float64</th><th>float64</th><th>float64</th><th>float64</th><th>float64</th><th>float64</th><th>float64</th><th>int32</th><th>str11</th><th>int64</th><th>float64</th><th>float32</th><th>float64</th><th>float64</th><th>float32</th><th>float32</th><th>float64</th><th>float64</th><th>float64</th><th>float64</th><th>float64</th><th>float64</th><th>float64</th><th>float64</th><th>float32</th><th>float32</th><th>float32</th><th>SkyCoord</th><th>float64</th><th>float32</th><th>float64</th><th>float32</th><th>float64</th><th>float64</th><th>float32</th><th>float64</th><th>float32</th><th>float64</th><th>float32</th><th>float32</th><th>float32</th><th>float32</th><th>float32</th><th>str1</th><th>str1</th></tr></thead>\n",
       "<tr><td>Cl* Trumpler   10  STOCK     774</td><td>132.26918571419</td><td>-41.86012579175</td><td>814.32153300</td><td>8231.5</td><td>10290.0</td><td>23.30687698503049</td><td>1.6444227372214824</td><td>26.05</td><td>8.25</td><td>--</td><td>--</td><td>5524602036116091520</td><td>1.1904</td><td>0.0254</td><td>-10.707</td><td>7.029</td><td>0.026</td><td>0.029</td><td>1.723</td><td>11.258210</td><td>0.356719</td><td>11.384149</td><td>11.027430</td><td>796.94012500</td><td>831.44531200</td><td>0.002774</td><td>0.002865</td><td>0.003795</td><td>0.00666</td><td>132.26918571419,-41.86012579175,814.321533</td><td>-5.176</td><td>0.297</td><td>3.109</td><td>0.300</td><td>4.0056</td><td>31.10</td><td>2.85</td><td>11.63</td><td>12.13</td><td>591102.51261</td><td>175.7</td><td>3.817e+05</td><td>229</td><td>3.077e+05</td><td>96.41</td><td>--</td><td>--</td></tr>\n",
       "</table></div>"
      ],
      "text/plain": [
       "<Table length=1>\n",
       "              Name                  RA_ICRS_1       DE_ICRS_1    ... RAVE5 RAVE6\n",
       "                                       deg             deg       ...            \n",
       "             str32                   float64         float64     ...  str1  str1\n",
       "-------------------------------- --------------- --------------- ... ----- -----\n",
       "Cl* Trumpler   10  STOCK     774 132.26918571419 -41.86012579175 ...    --    --"
      ]
     },
     "execution_count": 6,
     "metadata": {},
     "output_type": "execute_result"
    }
   ],
   "source": [
    "cl = Cluster('Alessi_43')\n",
    "cl.runaways()"
   ]
  },
  {
   "cell_type": "code",
   "execution_count": 23,
   "metadata": {},
   "outputs": [
    {
     "data": {
      "text/html": [
       "<i>Row index=0</i>\n",
       "<table id=\"table137670232043024\">\n",
       "<thead><tr><th>Name</th><th>RA_ICRS_1</th><th>DE_ICRS_1</th><th>rgeo</th><th>b_rgeo</th><th>B_rgeo</th><th>Teff</th><th>Temp. Est</th><th>v_pec</th><th>e_v_pec</th><th>v_pec3d</th><th>HIP</th><th>TYC2</th><th>Source</th><th>Plx</th><th>e_Plx</th><th>pmRA</th><th>pmDE</th><th>e_pmRA</th><th>e_pmDE</th><th>RUWE</th><th>Gmag</th><th>BP-RP</th><th>BPmag</th><th>RPmag</th><th>e_Gmag</th><th>e_BPmag</th><th>e_RPmag</th><th>e_BP-RP</th><th>SkyCoord</th><th>rmRA</th><th>e_rmRA</th><th>rmDE</th><th>e_rmDE</th><th>logg</th><th>RV</th><th>e_RV</th><th>rRV</th><th>e_rRV</th><th>FG</th><th>e_FG</th><th>FBP</th><th>e_FBP</th><th>FRP</th><th>e_FRP</th><th>RAVE5</th><th>RAVE6</th></tr></thead>\n",
       "<thead><tr><th></th><th>deg</th><th>deg</th><th>pc</th><th>pc</th><th>pc</th><th>K</th><th>K</th><th>km / s</th><th>km / s</th><th>km / s</th><th></th><th></th><th></th><th>mas</th><th>mas</th><th>mas / yr</th><th>mas / yr</th><th>mas / yr</th><th>mas / yr</th><th></th><th>mag</th><th>mag</th><th>mag</th><th>mag</th><th></th><th></th><th></th><th></th><th>deg,deg,pc</th><th>mas / yr</th><th>mas / yr</th><th>mas / yr</th><th>mas / yr</th><th>log(cm.s**-2)</th><th>km / s</th><th>km / s</th><th>km / s</th><th>km / s</th><th></th><th></th><th></th><th></th><th></th><th></th><th></th><th></th></tr></thead>\n",
       "<thead><tr><th>str9</th><th>float64</th><th>float64</th><th>float64</th><th>float64</th><th>float64</th><th>float64</th><th>float64</th><th>float64</th><th>float64</th><th>float64</th><th>int32</th><th>str10</th><th>int64</th><th>float64</th><th>float32</th><th>float64</th><th>float64</th><th>float32</th><th>float32</th><th>float64</th><th>float64</th><th>float64</th><th>float64</th><th>float64</th><th>float64</th><th>float32</th><th>float32</th><th>float32</th><th>SkyCoord</th><th>float64</th><th>float32</th><th>float64</th><th>float32</th><th>float64</th><th>float64</th><th>float32</th><th>float64</th><th>float32</th><th>float64</th><th>float32</th><th>float32</th><th>float32</th><th>float32</th><th>float32</th><th>str1</th><th>str1</th></tr></thead>\n",
       "<tr><td>HD 259597</td><td>98.38429327278</td><td>8.33557580226</td><td>1517.70947000</td><td>1442.38904000</td><td>1621.94727000</td><td>32036.6</td><td>13110.0</td><td>9.081153222849567</td><td>2.36655530497063</td><td>--</td><td>--</td><td>733-1218-1</td><td>3326048448124872320</td><td>0.6283</td><td>0.0363</td><td>-0.760</td><td>-1.057</td><td>0.035</td><td>0.028</td><td>1.363</td><td>8.432107</td><td>0.337074</td><td>8.528219</td><td>8.191145</td><td>0.00381</td><td>0.009581</td><td>0.01014</td><td>0.01972</td><td>98.38429327278,8.33557580226,1517.70947</td><td>-0.570</td><td>0.260</td><td>1.126</td><td>0.253</td><td>3.9984</td><td>--</td><td>--</td><td>--</td><td>--</td><td>7981856.09929</td><td>1.935e+04</td><td>5.298e+06</td><td>4.473e+04</td><td>4.195e+06</td><td>3.635e+04</td><td>--</td><td>--</td></tr>\n",
       "</table>"
      ],
      "text/plain": [
       "<Row index=0>\n",
       "   Name      RA_ICRS_1       DE_ICRS_1          rgeo          b_rgeo         B_rgeo       Teff  Temp. Est       v_pec           e_v_pec      v_pec3d  HIP     TYC2           Source          Plx     e_Plx     pmRA      pmDE    e_pmRA   e_pmDE    RUWE     Gmag     BP-RP     BPmag     RPmag      e_Gmag     e_BPmag     e_RPmag     e_BP-RP                   SkyCoord                   rmRA    e_rmRA     rmDE    e_rmDE       logg        RV     e_RV    rRV    e_rRV         FG            e_FG        FBP        e_FBP        FRP        e_FRP    RAVE5 RAVE6\n",
       "                deg             deg              pc             pc             pc          K        K           km / s           km / s       km / s                                         mas      mas    mas / yr  mas / yr mas / yr mas / yr            mag       mag       mag       mag                                                                   deg,deg,pc                mas / yr mas / yr  mas / yr mas / yr log(cm.s**-2)  km / s  km / s  km / s  km / s                                                                                         \n",
       "   str9       float64         float64         float64        float64        float64     float64  float64       float64          float64      float64 int32   str10           int64         float64  float32  float64   float64  float32  float32  float64  float64   float64   float64   float64    float64     float32     float32     float32                   SkyCoord                 float64  float32   float64  float32     float64    float64 float32 float64 float32     float64        float32     float32     float32     float32     float32    str1  str1\n",
       "--------- --------------- --------------- --------------- -------------- -------------- ------- --------- ----------------- ---------------- ------- ----- ---------- ------------------- --------- ------- --------- --------- -------- -------- ------- --------- --------- --------- --------- ----------- ----------- ----------- ----------- --------------------------------------- --------- -------- --------- -------- ------------- ------- ------- ------- ------- ---------------- ----------- ----------- ----------- ----------- ----------- ----- -----\n",
       "HD 259597  98.38429327278   8.33557580226   1517.70947000  1442.38904000  1621.94727000 32036.6   13110.0 9.081153222849567 2.36655530497063      --    -- 733-1218-1 3326048448124872320    0.6283  0.0363    -0.760    -1.057    0.035    0.028   1.363  8.432107  0.337074  8.528219  8.191145     0.00381    0.009581     0.01014     0.01972 98.38429327278,8.33557580226,1517.70947    -0.570    0.260     1.126    0.253        3.9984      --      --      --      --    7981856.09929   1.935e+04   5.298e+06   4.473e+04   4.195e+06   3.635e+04    --    --"
      ]
     },
     "execution_count": 23,
     "metadata": {},
     "output_type": "execute_result"
    }
   ],
   "source": [
    "(cl.Star(3326048448124872320)[0])"
   ]
  },
  {
   "cell_type": "code",
   "execution_count": 45,
   "metadata": {},
   "outputs": [
    {
     "name": "stdout",
     "output_type": "stream",
     "text": [
      "getting isochrone from cmd3.7 (PARSEC2) with:\n",
      "Av:1.08\n",
      "logage:7.67\n",
      "metallicity:0.03\n",
      "isochrone downloaded in 7.1s\n",
      "   Name  \n",
      "---------\n",
      "HD 259597\n",
      "   Name  \n",
      "---------\n",
      "HD 259787\n",
      "   Name  \n",
      "---------\n",
      "HD 259991\n"
     ]
    },
    {
     "data": {
      "text/plain": [
       "<AxesSubplot: xlabel='$G_{BP}-G_{RP}$ (mag)', ylabel='$G$ (mag)'>"
      ]
     },
     "execution_count": 45,
     "metadata": {},
     "output_type": "execute_result"
    }
   ],
   "source": [
    "%run runaway_functionsv3\n",
    "cl = Cluster('Basel_8')\n",
    "cld = ClusterDias('Basel_8')\n",
    "obs = config['observed_stars']['Basel_8']\n",
    "\n",
    "cl.plot_cmd(isochrones=[Isochrone(cld)])\n"
   ]
  }
 ],
 "metadata": {
  "kernelspec": {
   "display_name": "Python 3",
   "language": "python",
   "name": "python3"
  },
  "language_info": {
   "codemirror_mode": {
    "name": "ipython",
    "version": 3
   },
   "file_extension": ".py",
   "mimetype": "text/x-python",
   "name": "python",
   "nbconvert_exporter": "python",
   "pygments_lexer": "ipython3",
   "version": "3.11.6"
  }
 },
 "nbformat": 4,
 "nbformat_minor": 2
}
