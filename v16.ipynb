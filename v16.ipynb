{
 "cells": [
  {
   "cell_type": "code",
   "execution_count": 55,
   "metadata": {},
   "outputs": [],
   "source": [
    "%run runaway_functionsv3\n",
    "%matplotlib qt\n",
    "# cl = Cluster('LP_1487')\n",
    "# # cld = ClusterDias('Berkeley_97')\n",
    "# # plot = cl.plot_cmd(isochrones=[Isochrone(cld)])\n",
    "# plot = cl.plot_traceback_psr()\n",
    "# show_annotation_manager(plot)\n"
   ]
  },
  {
   "cell_type": "code",
   "execution_count": 8,
   "metadata": {},
   "outputs": [
    {
     "data": {
      "text/plain": [
       "(6.668, 9.999)"
      ]
     },
     "execution_count": 8,
     "metadata": {},
     "output_type": "execute_result"
    }
   ],
   "source": [
    "dias2021 = Table.read('dias2021.tsv', format='ascii.ecsv')\n",
    "dias2021['logage'].min(), dias2021['logage'].max()"
   ]
  },
  {
   "cell_type": "code",
   "execution_count": 30,
   "metadata": {},
   "outputs": [],
   "source": [
    "%run runaway_functionsv3\n",
    "%matplotlib qt\n",
    "cl = Cluster('Alessi_Teutsch_5')\n",
    "# print(latex_text(cl))\n"
   ]
  },
  {
   "cell_type": "code",
   "execution_count": 19,
   "metadata": {},
   "outputs": [],
   "source": [
    "stars_in_region  = cl.stars_in_region()\n",
    "# stars_in_region  = cl.runaways()\n",
    "from uncertainties import ufloat, unumpy\n",
    "rgeo = stars_in_region['rgeo'].value\n",
    "b_rgeo = stars_in_region['b_rgeo'].value\n",
    "B_rgeo = stars_in_region['B_rgeo'].value\n",
    "rmRA = unumpy.uarray(stars_in_region['rmRA'].value,stars_in_region['e_rmRA'].value)\n",
    "rmDE = unumpy.uarray(stars_in_region['rmDE'].value,stars_in_region['e_rmDE'].value)\n",
    "def pm(pmRA,pmDE):\n",
    "    µ = (pmRA**2+pmDE**2)**0.5\n",
    "    return µ\n",
    "\n",
    "def v(µ,dist):\n",
    "    #dist should be in pc\n",
    "    v = (µ*4.74*dist/1000)\n",
    "    return v\n",
    "rm = pm(rmRA,rmDE)\n",
    "v_trans  = unumpy.nominal_values(v(rm,rgeo))*u.km/u.s\n",
    "v_trans_upper = unumpy.nominal_values(v(rm,B_rgeo))*u.km/u.s\n",
    "v_trans_lower = unumpy.nominal_values(v(rm,b_rgeo))*u.km/u.s\n",
    "\n",
    "e_v_trans = abs((v_trans_lower-v_trans_upper)/2)\n"
   ]
  },
  {
   "cell_type": "code",
   "execution_count": 9,
   "metadata": {},
   "outputs": [
    {
     "data": {
      "text/html": [
       "<div><i>Table length=1</i>\n",
       "<table id=\"table135411578987984\" class=\"table-striped table-bordered table-condensed\">\n",
       "<thead><tr><th>Name</th><th>RA_ICRS_1</th><th>DE_ICRS_1</th><th>rgeo</th><th>Teff</th><th>Temp. Est</th><th>v_pec</th><th>e_v_pec</th><th>v_pec3d</th><th>e_v_pec3d</th><th>HIP</th><th>TYC2</th><th>Source</th><th>Plx</th><th>e_Plx</th><th>pmRA</th><th>pmDE</th><th>e_pmRA</th><th>e_pmDE</th><th>RUWE</th><th>Gmag</th><th>BP-RP</th><th>BPmag</th><th>RPmag</th><th>b_rgeo</th><th>B_rgeo</th><th>e_Gmag</th><th>e_BPmag</th><th>e_RPmag</th><th>e_BP-RP</th><th>SkyCoord</th><th>rmRA</th><th>e_rmRA</th><th>rmDE</th><th>e_rmDE</th><th>logg</th><th>RV</th><th>e_RV</th><th>rRV</th><th>e_rRV</th><th>FG</th><th>e_FG</th><th>FBP</th><th>e_FBP</th><th>FRP</th><th>e_FRP</th><th>RAVE5</th><th>RAVE6</th></tr></thead>\n",
       "<thead><tr><th></th><th>deg</th><th>deg</th><th>pc</th><th>K</th><th>K</th><th>km / s</th><th>km / s</th><th>km / s</th><th>km / s</th><th></th><th></th><th></th><th>mas</th><th>mas</th><th>mas / yr</th><th>mas / yr</th><th>mas / yr</th><th>mas / yr</th><th></th><th>mag</th><th>mag</th><th>mag</th><th>mag</th><th>pc</th><th>pc</th><th></th><th></th><th></th><th></th><th>deg,deg,pc</th><th>mas / yr</th><th>mas / yr</th><th>mas / yr</th><th>mas / yr</th><th>log(cm.s**-2)</th><th>km / s</th><th>km / s</th><th>km / s</th><th>km / s</th><th></th><th></th><th></th><th></th><th></th><th></th><th></th><th></th></tr></thead>\n",
       "<thead><tr><th>str28</th><th>float64</th><th>float64</th><th>float64</th><th>float64</th><th>float64</th><th>float64</th><th>float64</th><th>float64</th><th>float64</th><th>int32</th><th>str11</th><th>int64</th><th>float64</th><th>float32</th><th>float64</th><th>float64</th><th>float32</th><th>float32</th><th>float64</th><th>float64</th><th>float64</th><th>float64</th><th>float64</th><th>float64</th><th>float64</th><th>float64</th><th>float32</th><th>float32</th><th>float32</th><th>SkyCoord</th><th>float64</th><th>float32</th><th>float64</th><th>float32</th><th>float64</th><th>float64</th><th>float32</th><th>float64</th><th>float32</th><th>float64</th><th>float32</th><th>float32</th><th>float32</th><th>float32</th><th>float32</th><th>str1</th><th>str1</th></tr></thead>\n",
       "<tr><td>Gaia DR3 2008384504995669248</td><td>339.89581711423</td><td>58.99547917199</td><td>2620.36230000</td><td>9168.0</td><td>10980.0</td><td>29.98008203419036</td><td>1.7051992469891282</td><td>--</td><td>--</td><td>--</td><td>--</td><td>2008384504995669248</td><td>0.3560</td><td>0.0241</td><td>-0.379</td><td>-1.352</td><td>0.025</td><td>0.024</td><td>1.086</td><td>15.384143</td><td>1.182070</td><td>15.883185</td><td>14.701116</td><td>2461.53345000</td><td>2759.61401000</td><td>0.00277</td><td>0.003852</td><td>0.004229</td><td>0.008081</td><td>339.89581711423,58.99547917199,2620.3623</td><td>2.354</td><td>0.124</td><td>0.532</td><td>0.123</td><td>3.7061</td><td>--</td><td>--</td><td>--</td><td>--</td><td>13221.76503</td><td>3.482</td><td>6055</td><td>14.81</td><td>1.044e+04</td><td>18.25</td><td>--</td><td>--</td></tr>\n",
       "</table></div>"
      ],
      "text/plain": [
       "<Table length=1>\n",
       "            Name                RA_ICRS_1       DE_ICRS_1    ... RAVE5 RAVE6\n",
       "                                   deg             deg       ...            \n",
       "           str28                 float64         float64     ...  str1  str1\n",
       "---------------------------- --------------- --------------- ... ----- -----\n",
       "Gaia DR3 2008384504995669248 339.89581711423  58.99547917199 ...    --    --"
      ]
     },
     "execution_count": 9,
     "metadata": {},
     "output_type": "execute_result"
    }
   ],
   "source": [
    "cl.runaways()"
   ]
  },
  {
   "cell_type": "code",
   "execution_count": 15,
   "metadata": {},
   "outputs": [
    {
     "data": {
      "text/plain": [
       "(29.971121387701356, 1.5900709438513339, 1.818858130016988, 1.704464536934161)"
      ]
     },
     "execution_count": 15,
     "metadata": {},
     "output_type": "execute_result"
    }
   ],
   "source": [
    "from uncertainties import ufloat\n",
    "pmRA = ufloat(2.354\t,0.146)\n",
    "pmDE = ufloat(0.532,0.175)\n",
    "rgeo = 2620\n",
    "b_rgeo = 2620-139\n",
    "B_rego = 2620+159\n",
    "# 2.354\t0.124\t0.532\t0.123\n",
    "# pmRA = ufloat(2.374, 0.146)\n",
    "# pmDE = ufloat(0.563, 0.175)\n",
    "# rgeo = 2620\n",
    "# b_rgeo = 2620-139\n",
    "# B_rego = 2620+159\n",
    "\n",
    "def pm(pmRA,pmDE):\n",
    "    µ = (pmRA**2+pmDE**2)**0.5\n",
    "    return µ\n",
    "\n",
    "def v(µ,dist):\n",
    "    #dist should be in pc\n",
    "    v = (µ*4.74*dist/1000)\n",
    "    return v\n",
    "\n",
    "# dµ = (dµa*µa/µ+dµd*µd/µ)\n",
    "\n",
    "# v(µ,828.91674800), v(dµ, 828)\n",
    "\n",
    "v_trans = v(pm(pmRA,pmDE),rgeo).nominal_value\n",
    "v_trans_upper = v(pm(pmRA,pmDE),B_rego).nominal_value\n",
    "v_trans_lower = v(pm(pmRA,pmDE),b_rgeo).nominal_value\n",
    "v_trans, abs(v_trans_lower-v_trans),abs(v_trans_upper-v_trans), (v_trans_upper-v_trans_lower)/2"
   ]
  },
  {
   "cell_type": "code",
   "execution_count": 30,
   "metadata": {},
   "outputs": [
    {
     "data": {
      "text/plain": [
       "34.58879317071774"
      ]
     },
     "execution_count": 30,
     "metadata": {},
     "output_type": "execute_result"
    }
   ],
   "source": [
    "rgeo = 2620+159\n",
    "pmRA = 2.374 + 0.146\n",
    "pmDE = 0.563 + 0.175\n",
    "\n",
    "v(pm(pmRA,pmDE),rgeo)\n"
   ]
  },
  {
   "cell_type": "code",
   "execution_count": 28,
   "metadata": {},
   "outputs": [
    {
     "data": {
      "text/plain": [
       "46.02942613847946"
      ]
     },
     "execution_count": 28,
     "metadata": {},
     "output_type": "execute_result"
    }
   ],
   "source": [
    "dv = (30.1)*4.74*np.sqrt(((0.146/2.374)**2+(0.175/0.563)**2)\n",
    "                         +(.159/2.620)**2)\n",
    "dv"
   ]
  },
  {
   "cell_type": "code",
   "execution_count": 18,
   "metadata": {},
   "outputs": [
    {
     "data": {
      "text/plain": [
       "29.971121387701356+/-1.8322825288273021"
      ]
     },
     "execution_count": 18,
     "metadata": {},
     "output_type": "execute_result"
    }
   ],
   "source": [
    "v(pm(pmRA,pmDE),rgeo)"
   ]
  },
  {
   "cell_type": "code",
   "execution_count": 36,
   "metadata": {},
   "outputs": [
    {
     "data": {
      "text/html": [
       "<div><i>Table length=1</i>\n",
       "<table id=\"table129705015023568\" class=\"table-striped table-bordered table-condensed\">\n",
       "<thead><tr><th>Name</th><th>RA_ICRS_1</th><th>DE_ICRS_1</th><th>rgeo</th><th>b_rgeo</th><th>B_rgeo</th><th>Teff</th><th>Temp. Est</th><th>v_pec</th><th>e_v_pec</th><th>v_pec3d</th><th>HIP</th><th>TYC2</th><th>Source</th><th>Plx</th><th>e_Plx</th><th>pmRA</th><th>pmDE</th><th>e_pmRA</th><th>e_pmDE</th><th>RUWE</th><th>Gmag</th><th>BP-RP</th><th>BPmag</th><th>RPmag</th><th>e_Gmag</th><th>e_BPmag</th><th>e_RPmag</th><th>e_BP-RP</th><th>SkyCoord</th><th>rmRA</th><th>e_rmRA</th><th>rmDE</th><th>e_rmDE</th><th>logg</th><th>RV</th><th>e_RV</th><th>rRV</th><th>e_rRV</th><th>FG</th><th>e_FG</th><th>FBP</th><th>e_FBP</th><th>FRP</th><th>e_FRP</th><th>RAVE5</th><th>RAVE6</th></tr></thead>\n",
       "<thead><tr><th></th><th>deg</th><th>deg</th><th>pc</th><th>pc</th><th>pc</th><th>K</th><th>K</th><th>km / s</th><th>km / s</th><th>km / s</th><th></th><th></th><th></th><th>mas</th><th>mas</th><th>mas / yr</th><th>mas / yr</th><th>mas / yr</th><th>mas / yr</th><th></th><th>mag</th><th>mag</th><th>mag</th><th>mag</th><th></th><th></th><th></th><th></th><th>deg,deg,pc</th><th>mas / yr</th><th>mas / yr</th><th>mas / yr</th><th>mas / yr</th><th>log(cm.s**-2)</th><th>km / s</th><th>km / s</th><th>km / s</th><th>km / s</th><th></th><th></th><th></th><th></th><th></th><th></th><th></th><th></th></tr></thead>\n",
       "<thead><tr><th>str28</th><th>float64</th><th>float64</th><th>float64</th><th>float64</th><th>float64</th><th>float64</th><th>float64</th><th>float64</th><th>float64</th><th>float64</th><th>int32</th><th>str11</th><th>int64</th><th>float64</th><th>float32</th><th>float64</th><th>float64</th><th>float32</th><th>float32</th><th>float64</th><th>float64</th><th>float64</th><th>float64</th><th>float64</th><th>float64</th><th>float32</th><th>float32</th><th>float32</th><th>SkyCoord</th><th>float64</th><th>float32</th><th>float64</th><th>float32</th><th>float64</th><th>float64</th><th>float32</th><th>float64</th><th>float32</th><th>float64</th><th>float32</th><th>float32</th><th>float32</th><th>float32</th><th>float32</th><th>str1</th><th>str1</th></tr></thead>\n",
       "<tr><td>Gaia DR3 2203047987818327936</td><td>331.44191766530</td><td>60.41928497013</td><td>828.91674800</td><td>816.44787600</td><td>840.95831300</td><td>11066.8</td><td>11060.0</td><td>61.90181727275718</td><td>0.9151947985791153</td><td>63.26</td><td>--</td><td>--</td><td>2203047987818327936</td><td>1.1853</td><td>0.0174</td><td>-14.690</td><td>-12.713</td><td>0.023</td><td>0.019</td><td>1.068</td><td>12.138815</td><td>0.475061</td><td>12.314358</td><td>11.839296</td><td>0.002764</td><td>0.002868</td><td>0.003791</td><td>0.006658</td><td>331.4419176653,60.41928497013,828.916748</td><td>-12.638</td><td>0.402</td><td>-9.407</td><td>0.398</td><td>4.3845</td><td>-36.54</td><td>29.69</td><td>-13.05</td><td>40.83</td><td>262676.24215</td><td>53.52</td><td>1.621e+05</td><td>98.77</td><td>1.457e+05</td><td>39.61</td><td>--</td><td>--</td></tr>\n",
       "</table></div>"
      ],
      "text/plain": [
       "<Table length=1>\n",
       "            Name                RA_ICRS_1       DE_ICRS_1    ... RAVE5 RAVE6\n",
       "                                   deg             deg       ...            \n",
       "           str28                 float64         float64     ...  str1  str1\n",
       "---------------------------- --------------- --------------- ... ----- -----\n",
       "Gaia DR3 2203047987818327936 331.44191766530  60.41928497013 ...    --    --"
      ]
     },
     "execution_count": 36,
     "metadata": {},
     "output_type": "execute_result"
    }
   ],
   "source": [
    "cl.Star(2203047987818327936)"
   ]
  },
  {
   "cell_type": "code",
   "execution_count": 37,
   "metadata": {},
   "outputs": [
    {
     "data": {
      "text/html": [
       "<div><i>Table length=1</i>\n",
       "<table id=\"table129705023236496\" class=\"table-striped table-bordered table-condensed\">\n",
       "<thead><tr><th>RA_ICRS_1</th><th>DE_ICRS_1</th><th>e_RA_ICRS</th><th>e_DE_ICRS</th><th>_r_1</th><th>HIP</th><th>TYC2</th><th>Source</th><th>rgeo</th><th>Plx</th><th>e_Plx</th><th>pmRA</th><th>pmDE</th><th>e_pmRA</th><th>e_pmDE</th><th>RUWE</th><th>Teff</th><th>logg</th><th>Gmag</th><th>BP-RP</th><th>BPmag</th><th>RPmag</th><th>RV</th><th>e_RV</th><th>b_rgeo</th><th>B_rgeo</th><th>FG</th><th>e_FG</th><th>FBP</th><th>e_FBP</th><th>FRP</th><th>e_FRP</th><th>RAVE5</th><th>RAVE6</th><th>e_Gmag</th><th>e_BPmag</th><th>e_RPmag</th><th>e_BP-RP</th><th>SkyCoord</th><th>rmRA</th><th>rmDE</th><th>e_rmRA</th><th>e_rmDE</th><th>rRV</th><th>e_rRV</th><th>v_pec</th><th>v_pec3d</th><th>e_v_pec</th><th>e_v_pec3d</th><th>v_trans_upper</th><th>v_trans_lower</th><th>e_v_trans</th></tr></thead>\n",
       "<thead><tr><th>deg</th><th>deg</th><th>mas</th><th>mas</th><th></th><th></th><th></th><th></th><th>pc</th><th>mas</th><th>mas</th><th>mas / yr</th><th>mas / yr</th><th>mas / yr</th><th>mas / yr</th><th></th><th>K</th><th>log(cm.s**-2)</th><th>mag</th><th>mag</th><th>mag</th><th>mag</th><th>km / s</th><th>km / s</th><th>pc</th><th>pc</th><th></th><th></th><th></th><th></th><th></th><th></th><th></th><th></th><th></th><th></th><th></th><th></th><th>deg,deg,pc</th><th>mas / yr</th><th>mas / yr</th><th>mas / yr</th><th>mas / yr</th><th>km / s</th><th>km / s</th><th>km / s</th><th>km / s</th><th>km / s</th><th>km / s</th><th>km / s</th><th>km / s</th><th>km / s</th></tr></thead>\n",
       "<thead><tr><th>float64</th><th>float64</th><th>float64</th><th>float64</th><th>float64</th><th>int32</th><th>str11</th><th>int64</th><th>float64</th><th>float64</th><th>float32</th><th>float64</th><th>float64</th><th>float32</th><th>float32</th><th>float64</th><th>float64</th><th>float64</th><th>float64</th><th>float64</th><th>float64</th><th>float64</th><th>float64</th><th>float32</th><th>float64</th><th>float64</th><th>float64</th><th>float32</th><th>float32</th><th>float32</th><th>float32</th><th>float32</th><th>str1</th><th>str1</th><th>float64</th><th>float32</th><th>float32</th><th>float32</th><th>SkyCoord</th><th>float64</th><th>float64</th><th>float32</th><th>float32</th><th>float64</th><th>float32</th><th>float64</th><th>float64</th><th>float64</th><th>float64</th><th>float64</th><th>float64</th><th>float64</th></tr></thead>\n",
       "<tr><td>331.44191766530</td><td>60.41928497013</td><td>0.0155</td><td>0.0151</td><td>47.3804</td><td>--</td><td>--</td><td>2203047987818327936</td><td>828.91674800</td><td>1.1853</td><td>0.0174</td><td>-14.690</td><td>-12.713</td><td>0.023</td><td>0.019</td><td>1.068</td><td>11066.8</td><td>4.3845</td><td>12.138815</td><td>0.475061</td><td>12.314358</td><td>11.839296</td><td>-36.54</td><td>29.69</td><td>816.44787600</td><td>840.95831300</td><td>262676.24215</td><td>53.52</td><td>1.621e+05</td><td>98.77</td><td>1.457e+05</td><td>39.61</td><td>--</td><td>--</td><td>0.002764</td><td>0.002868</td><td>0.003791</td><td>0.006658</td><td>331.4419176653,60.41928497013,828.916748</td><td>-12.638</td><td>-9.407</td><td>0.402</td><td>0.398</td><td>-13.05</td><td>40.83</td><td>61.90181727275718</td><td>63.26</td><td>0.9151947985791153</td><td>25.67</td><td>62.80105686238606</td><td>60.97066726522783</td><td>0.9151947985791153</td></tr>\n",
       "</table></div>"
      ],
      "text/plain": [
       "<Table length=1>\n",
       "   RA_ICRS_1       DE_ICRS_1    ...   v_trans_lower       e_v_trans     \n",
       "      deg             deg       ...       km / s            km / s      \n",
       "    float64         float64     ...      float64           float64      \n",
       "--------------- --------------- ... ----------------- ------------------\n",
       "331.44191766530  60.41928497013 ... 60.97066726522783 0.9151947985791153"
      ]
     },
     "execution_count": 37,
     "metadata": {},
     "output_type": "execute_result"
    }
   ],
   "source": [
    "\n",
    "sir  =cl.stars_in_region()\n",
    "sir[sir['Source']==2203047987818327936]"
   ]
  },
  {
   "cell_type": "code",
   "execution_count": 3,
   "metadata": {},
   "outputs": [
    {
     "name": "stdout",
     "output_type": "stream",
     "text": [
      "\\subsection{Introduction}\n",
      "    Berkeley 97 is located at $\\alpha = 339^\\circ50{}^\\prime59.64{}^{\\prime\\prime}, \\delta = 59^\\circ00{}^\\prime16.56{}^{\\prime\\prime}$ at a distance of $2769.0\\pm132.0$ pc.\n",
      "    28 out of the 89 mentioned in Dias have been selected as members. Using these, the kinematic parameters of the cluster have been determined. These are compared to the kinematic parameters of the runaway star in \\ref{tab:Berkeley_97_kinematics}. Some of the brightest memebrs fo the cluster are shown in table \\ref{tab:Berkeley_97_members}.\n",
      "    \n",
      "    \\subsection{CMD and proper motion}\n",
      "    The parameters of the cluster's isochrone ...\n",
      "    Using these parameters, the CMD plot for the cluster is shown in figure \\ref{fig:Berkeley_97_cmd_pm} in the left. The right plot in the figure shows the proper motion diagram showing that the runaway moves with a proper motion that is different from the cluster.\n",
      "    \n",
      "    \\begin{figure}\n",
      "    \\centering\n",
      "    \\includegraphics[width=0.49\\linewidth]{Results/Berkeley_97/Berkeley_97_cmd.pdf}\n",
      "    \\includegraphics[width=0.49\\linewidth]{Results/Berkeley_97/Berkeley_97_pm.pdf}\n",
      "    \\caption{\\\\ \n",
      "    \\textit{Left}: The CMD showing the temperature estimate of the runaway. The isochrone for the temperature estimate is shown in blue \\\\\n",
      "    \\textit{Right}: Proper motion diagram depicting that the star is an outlier in proper motion in the local rest frame.}\n",
      "        \\label{fig:Berkeley_97_cmd_pm}\n",
      "    \\end{figure}    \n",
      "\n",
      "    \\subsection{Traceback}\n",
      "    \n",
      "    The runaway star's motion relative to the cluster is shown in figure \\ref{fig:Berkeley_97_traceback.pdf}.\n",
      "    \n",
      "    \\begin{figure}\n",
      "    \\centering\n",
      "    \\includegraphics[width=0.49\\linewidth]{Results/Berkeley_97/Berkeley_97_traceback_clean.pdf}\n",
      "    \\includegraphics[width=0.49\\linewidth]{Results/Berkeley_97/Berkeley_97_pm.pdf}\n",
      "    \\caption{\\\\ \n",
      "    \\textit{Left}: The runaway star ...'s motion with respect to the cluster. The four green lines depict the four extreme cases of the proper motion considering the errors and the green ellipse represents the possible positions of the star 100 kyr ago. \\\\\n",
      "    \\textit{Right}: Proper motion diagram depicting that the star is an outlier in proper motion in the local rest frame.}\n",
      "        \\label{fig:Berkeley_97_traceback_clean&pm}\n",
      "    \\end{figure}\n",
      "    \n",
      "    \\subsection{Traceback}\n",
      "    \n",
      "\n",
      "\\begin{table*}[h]\n",
      "\\fontsize{9pt}{11pt}\\selectfont\n",
      "\\caption{Kinematics of Berkeley 97 compared to its runaway\\label{tab:Berkeley_97_kinematics}}\n",
      "\\begin{tabular}{cccccccc}\n",
      "\\hline\n",
      "Name & $\\alpha$ & $\\delta$ & d & $\\mu_{\\alpha}^*$ & $\\mu_{\\delta}$ & $v_r$ & $v_\\text{trans}$ \\\\\n",
      " & $\\mathrm{{}^{\\circ}}$ & $\\mathrm{{}^{\\circ}}$ & $\\mathrm{pc}$ & $\\mathrm{mas\\,yr^{-1}}$ & $\\mathrm{mas\\,yr^{-1}}$ & $\\mathrm{km\\,s^{-1}}$ & $\\mathrm{km\\,s^{-1}}$ \\\\\n",
      "\\hline\n",
      "Berkeley 97 & 339.85 & 59.005 & $2769\\pm132$ & $-2.7\\pm0.1$ & $-1.9\\pm0.1$ & $--\\pm--$ &  \\\\\n",
      "2008384504995669248 & 339.896 & 58.995 & $2620\\pm298$ & $-0.4\\pm0.0$ & $-1.4\\pm0.0$ & $--\\pm--$ & $30.0\\pm1.7$ \\\\\n",
      "\\hline\n",
      "\\end{tabular}\n",
      "\\end{table*}\n",
      "\n",
      "\n",
      "\\begin{table*}[h]\n",
      "\\fontsize{12pt}{12pt}\\selectfont\n",
      "\\caption{Selected members of Berkeley 97\\label{tab:Berkeley_97_members}}\n",
      "\\begin{tabular}{ccccc}\n",
      "\\hline\n",
      "Gaia DR3 Source & $r_{\\text{geo}}$ (pc) & $\\pi$ (mas) & $G$ (mag) & $G_{\\text{BP}}-G_{\\text{RP}}$ (mag) \\\\\n",
      "\\hline\n",
      "2008383302396655488 & $2630^{+310}_{-237}$ & $0.3652\\pm0.0363$ & $9.474\\pm0.003$ & $0.938\\pm0.007$ \\\\\n",
      "2008430237808841600 & $2658^{+77}_{-70}$ & $0.3583\\pm0.0125$ & $9.840\\pm0.003$ & $0.869\\pm0.007$ \\\\\n",
      "2008380794144211712 & $2571^{+82}_{-73}$ & $0.3525\\pm0.0122$ & $11.482\\pm0.003$ & $1.201\\pm0.013$ \\\\\n",
      "2008430203449108224 & $2525^{+67}_{-65}$ & $0.3648\\pm0.0114$ & $13.262\\pm0.003$ & $0.962\\pm0.007$ \\\\\n",
      "2008383199325604224 & $2978^{+106}_{-96}$ & $0.3072\\pm0.0117$ & $13.396\\pm0.003$ & $1.085\\pm0.007$ \\\\\n",
      "2008430233501492608 & $2820^{+134}_{-109}$ & $0.3264\\pm0.0143$ & $13.733\\pm0.003$ & $1.051\\pm0.007$ \\\\\n",
      "2008383302404812544 & $2605^{+115}_{-138}$ & $0.3569\\pm0.0163$ & $14.199\\pm0.003$ & $1.058\\pm0.008$ \\\\\n",
      "2008384779873564032 & $2623^{+96}_{-121}$ & $0.3563\\pm0.0168$ & $14.491\\pm0.003$ & $1.049\\pm0.007$ \\\\\n",
      "2008430066010153216 & $2691^{+141}_{-139}$ & $0.3452\\pm0.0179$ & $14.640\\pm0.003$ & $1.057\\pm0.007$ \\\\\n",
      "2008384814233517312 & $2824^{+155}_{-127}$ & $0.3254\\pm0.0178$ & $14.664\\pm0.003$ & $1.043\\pm0.007$ \\\\\n",
      "\\hline\n",
      "\\end{tabular}\n",
      "\\end{table*}\n",
      "\n"
     ]
    }
   ],
   "source": [
    "%run runaway_functionsv3\n",
    "def generate_kinematics_latex(cl):\n",
    "    warnings.filterwarnings(\"ignore\", category=FutureWarning)\n",
    "    \n",
    "    # Cluster part\n",
    "    cluster_part = Table(cl.all)\n",
    "\n",
    "    # Create the combined columns\n",
    "    name_column = [name.replace('_', ' ') for name in cluster_part['Cluster']]\n",
    "    ra_column   = [round(ra,3) for ra in cluster_part['RA_ICRS']]\n",
    "    dec_column   = [round(dec,3) for dec in cluster_part['DE_ICRS']]\n",
    "    distance_column = [f\"${dist:.0f}\\pm{e_dist:.0f}$\" for dist, e_dist in zip(cluster_part['Dist'], cluster_part['e_Dist'])]\n",
    "    pmRA_column = [f\"${pmRA:.1f}\\pm{e_pmRA:.1f}$\" for pmRA, e_pmRA in zip(cluster_part['pmRA'], cluster_part['e_pmRA'])]\n",
    "    pmDE_column = [f\"${pmDE:.1f}\\pm{e_pmDE:.1f}$\" for pmDE, e_pmDE in zip(cluster_part['pmDE'], cluster_part['e_pmDE'])]\n",
    "    vr_column = [f\"${RV:.1f}\\pm{e_RV:.1f}$\" for RV, e_RV in zip(cluster_part['RV'], cluster_part['e_RV'])]\n",
    "\n",
    "\n",
    "    # Add the new columns to the table\n",
    "    cluster_part['Name'] = name_column\n",
    "    cluster_part['RA_ICRS'] = ra_column\n",
    "    cluster_part['DE_ICRS'] = dec_column\n",
    "    cluster_part['d'] = Column(distance_column, unit='(pc)')\n",
    "    cluster_part[r'$\\mu_{\\alpha}^*$'] = Column(pmRA_column, unit=u.mas/u.yr)\n",
    "    cluster_part[r'$\\mu_{\\delta}$'] = Column(pmDE_column, unit=u.mas/u.yr)\n",
    "    cluster_part[r'$v_r$'] = Column(vr_column, unit=u.km/u.s)\n",
    "\n",
    "    cluster_part.rename_column('RA_ICRS',r'$\\alpha$')\n",
    "    cluster_part.rename_column('DE_ICRS',r'$\\delta$')\n",
    "    cluster_part  = cluster_part['Name',r'$\\alpha$',r'$\\delta$','d',r'$\\mu_{\\alpha}^*$',r'$\\mu_{\\delta}$',r'$v_r$']\n",
    "\n",
    "\n",
    "    # Runaway part\n",
    "    runaway_part = cl.runaways()\n",
    "    # Create the combined columns\n",
    "    name_column = [str(name) for name in runaway_part['Source']]\n",
    "    ra_column   = [round(ra,3) for ra in runaway_part['RA_ICRS_1']]\n",
    "    dec_column   = [round(dec,3) for dec in runaway_part['DE_ICRS_1']]\n",
    "    distance_column = [f\"${dist:.0f}\\pm{e_dist:.0f}$\" for dist, e_dist in zip(runaway_part['rgeo'], (runaway_part['B_rgeo']-runaway_part['b_rgeo']))]\n",
    "    pmRA_column = [f\"${pmRA:.1f}\\pm{e_pmRA:.1f}$\" for pmRA, e_pmRA in zip(runaway_part['pmRA'], runaway_part['e_pmRA'])]\n",
    "    pmDE_column = [f\"${pmDE:.1f}\\pm{e_pmDE:.1f}$\" for pmDE, e_pmDE in zip(runaway_part['pmDE'], runaway_part['e_pmDE'])]\n",
    "    vr_column = [f\"${RV:.1f}\\pm{e_RV:.1f}$\" for RV, e_RV in zip(runaway_part['RV'], runaway_part['e_RV'])]\n",
    "    vpec2d_column = [f\"${v_pec:.1f}\\pm{e_v_pec:.1f}$\" for v_pec, e_v_pec in zip(runaway_part['v_pec'], runaway_part['e_v_pec'])]\n",
    "    # Add the new columns to the table\n",
    "    runaway_part['Name'] = name_column\n",
    "    runaway_part['RA_ICRS_1'] = Column(ra_column, unit='deg')\n",
    "    runaway_part['DE_ICRS_1'] = Column(dec_column, unit='deg')\n",
    "    runaway_part['d'] = Column(distance_column, unit='pc')\n",
    "    runaway_part[r'$\\mu_{\\alpha}^*$'] = Column(pmRA_column, unit=u.mas/u.yr)\n",
    "    runaway_part[r'$\\mu_{\\delta}$'] = Column(pmDE_column, unit=u.mas/u.yr)\n",
    "    runaway_part[r'$v_r$'] = Column(vr_column, unit=u.km/u.s)\n",
    "    runaway_part[r'$v_\\text{trans}$'] = Column(vpec2d_column, unit=u.km/u.s)\n",
    "\n",
    "    runaway_part.rename_column('RA_ICRS_1',r'$\\alpha$')\n",
    "    runaway_part.rename_column('DE_ICRS_1',r'$\\delta$')\n",
    "    runaway_part  = runaway_part['Name',r'$\\alpha$',r'$\\delta$','d',r'$\\mu_{\\alpha}^*$',r'$\\mu_{\\delta}$',r'$v_r$',r'$v_\\text{trans}$']\n",
    "    \n",
    "    \n",
    "    warnings.filterwarnings(\"ignore\", category=MergeConflictWarning)\n",
    "    kinematic_table=vstack([cluster_part,runaway_part])\n",
    "\n",
    "\n",
    "    output = io.StringIO()\n",
    "    \n",
    "    latexdict_kinematics = {\n",
    "    'tabletype': 'table*',\n",
    "    'tablealign': 'h',\n",
    "    'header_start': r'\\hline',\n",
    "    'data_start': r'\\hline',\n",
    "    'data_end': r'\\hline', \n",
    "    'caption': f'Kinematics of {cl.name.replace(\"_\",\" \")} compared to its runaway'\n",
    "                +r'\\label{tab:' + f'{cl.name}_kinematics' + '}',\n",
    "    'preamble':r'\\fontsize{9pt}{11pt}\\selectfont',\n",
    "                \n",
    "    }\n",
    "    \n",
    "    ascii.write(kinematic_table, output, format='latex', latexdict=latexdict_kinematics)\n",
    "    latex_string = output.getvalue()\n",
    "    output.close()\n",
    "    latex_string.replace('$--\\pm--$','n/a')\n",
    "    return latex_string\n",
    "\n",
    "def latex_text(cluster, n_members=10):\n",
    "    cld = ClusterDias(cluster.name)\n",
    "    ra, dec = cluster.skycoord.ra, cluster.skycoord.dec\n",
    "    ra_str, dec_str = ra.to_string(format='latex')[1:-1], dec.to_string(format='latex')[1:-1]\n",
    "    dist_str = str(round(cluster.distance.value,1)) + r\"\\pm\" + str(round(cluster.e_distance.value,1))\n",
    "    \n",
    "    intro_text = rf\"\"\"\\subsection{{Introduction}}\n",
    "    {cluster.name.replace('_', ' ')} is located at $\\alpha = {ra_str}, \\delta = {dec_str}$ at a distance of ${dist_str}$ pc.\n",
    "    {cluster.N} out of the {cld.N} mentioned in Dias have been selected as members. Using these, the kinematic parameters of the cluster have been determined. These are compared to the kinematic parameters of the runaway star in \\ref{{tab:{cluster.name}_kinematics}}. Some of the brightest memebrs fo the cluster are shown in table \\ref{{tab:{cluster.name}_members}}.\n",
    "    \n",
    "    \\subsection{{CMD and proper motion}}\n",
    "    The parameters of the cluster's isochrone ...\n",
    "    Using these parameters, the CMD plot for the cluster is shown in figure \\ref{{fig:{cluster.name}_cmd_pm}} in the left. The right plot in the figure shows the proper motion diagram showing that the runaway moves with a proper motion that is different from the cluster.\n",
    "    \n",
    "    \\begin{{figure}}\n",
    "    \\centering\n",
    "    \\includegraphics[width=0.49\\linewidth]{{Results/{cluster.name}/{cluster.name}_cmd.pdf}}\n",
    "    \\includegraphics[width=0.49\\linewidth]{{Results/{cluster.name}/{cluster.name}_pm.pdf}}\n",
    "    \\caption{{\\\\ \n",
    "    \\textit{{Left}}: The CMD showing the temperature estimate of the runaway. The isochrone for the temperature estimate is shown in blue \\\\\n",
    "    \\textit{{Right}}: Proper motion diagram depicting that the star is an outlier in proper motion in the local rest frame.}}\n",
    "        \\label{{fig:{cluster.name}_cmd_pm}}\n",
    "    \\end{{figure}}    \n",
    "\n",
    "    \\subsection{{Traceback}}\n",
    "    \n",
    "    The runaway star's motion relative to the cluster is shown in figure \\ref{{fig:{cluster.name}_traceback.pdf}}.\n",
    "    \n",
    "    \\begin{{figure}}\n",
    "    \\centering\n",
    "    \\includegraphics[width=0.49\\linewidth]{{Results/{cluster.name}/{cluster.name}_traceback_clean.pdf}}\n",
    "    \\includegraphics[width=0.49\\linewidth]{{Results/{cluster.name}/{cluster.name}_pm.pdf}}\n",
    "    \\caption{{\\\\ \n",
    "    \\textit{{Left}}: The runaway star ...'s motion with respect to the cluster. The four green lines depict the four extreme cases of the proper motion considering the errors and the green ellipse represents the possible positions of the star 100 kyr ago. \\\\\n",
    "    \\textit{{Right}}: Proper motion diagram depicting that the star is an outlier in proper motion in the local rest frame.}}\n",
    "        \\label{{fig:{cluster.name}_traceback_clean&pm}}\n",
    "    \\end{{figure}}\n",
    "    \n",
    "    \\subsection{{Traceback}}\n",
    "    \"\"\"\n",
    "    \n",
    "    # Members table generation\n",
    "    table = cluster.mymembers\n",
    "    table.sort('Gmag')\n",
    "    table = table[:n_members]\n",
    "    \n",
    "    formatted_distances = []\n",
    "    formatted_parallaxes = []\n",
    "    formatted_gmags = []\n",
    "    formatted_bprps = []\n",
    "    \n",
    "    for row in table:\n",
    "        distance = row['rgeo']\n",
    "        plx = row['Plx']\n",
    "        e_plx = row['e_Plx']\n",
    "        upper_error = row['B_rgeo'] - row['rgeo']\n",
    "        lower_error = -row['b_rgeo'] + row['rgeo']\n",
    "        gmag = row['Gmag']\n",
    "        e_gmag = row['e_Gmag']\n",
    "        bprp = row['BP-RP']\n",
    "        e_bprp = row['e_BP-RP']\n",
    "        \n",
    "        formatted_distance = f\"${distance:.0f}^{{+{upper_error:.0f}}}_{{-{lower_error:.0f}}}$\"\n",
    "        formatted_parallax = f\"${plx:.4f}\\pm{e_plx:.4f}$\"\n",
    "        formatted_gmag = f\"${gmag:.3f}\\pm{e_gmag:.3f}$\"\n",
    "        formatted_bprp = f\"${bprp:.3f}\\pm{e_bprp:.3f}$\"\n",
    "        \n",
    "        formatted_distances.append(formatted_distance)\n",
    "        formatted_parallaxes.append(formatted_parallax)\n",
    "        formatted_gmags.append(formatted_gmag)\n",
    "        formatted_bprps.append(formatted_bprp)\n",
    "\n",
    "    table['formatted_distance'] = formatted_distances\n",
    "    table['formatted_parallax'] = formatted_parallaxes\n",
    "    table['formatted_gmag'] = formatted_gmags\n",
    "    table['formatted_bprp'] = formatted_bprps\n",
    "    \n",
    "    t_dict_members = {\n",
    "        'Gaia DR3 Source': table['Source'],\n",
    "        r\"$r_{\\text{geo}}$ (pc)\": table['formatted_distance'],\n",
    "        r\"$\\pi$ (mas)\": table['formatted_parallax'],\n",
    "        r\"$G$ (mag)\": table['formatted_gmag'],\n",
    "        r\"$G_{\\text{BP}}-G_{\\text{RP}}$ (mag)\": table['formatted_bprp']\n",
    "    }\n",
    "    \n",
    "    latexdict_members = {\n",
    "        'tabletype': 'table*',\n",
    "        'tablealign': 'h',\n",
    "        'header_start': r'\\hline',\n",
    "        'data_start': r'\\hline',\n",
    "        'data_end': r'\\hline', \n",
    "        'caption': f'Selected members of {cluster.name.replace(\"_\",\" \")}'\n",
    "                    +r'\\label{tab:' + f'{cluster.name}_members' + '}',\n",
    "        'preamble': r'\\fontsize{12pt}{12pt}\\selectfont',\n",
    "    }\n",
    "    \n",
    "    astropy_table_members = Table(t_dict_members)\n",
    "\n",
    "    output = io.StringIO()\n",
    "    \n",
    "    ascii.write(astropy_table_members, output, format='latex', latexdict=latexdict_members)\n",
    "    members_table_text = output.getvalue()\n",
    "    output.close()\n",
    "    \n",
    "    \n",
    "    kinematics_table_text = generate_kinematics_latex(cluster)\n",
    "    # Combine intro_text, kinematics_table_text, and members_table_text\n",
    "    full_text = intro_text + \"\\n\\n\" + kinematics_table_text + \"\\n\\n\" + members_table_text\n",
    "    \n",
    "    \n",
    "    return full_text\n",
    "\n",
    "\n",
    "\n",
    "cl = Cluster('Alessi_Teutsch_5')\n",
    "cl = Cluster('Berkeley_97')\n",
    "print(latex_text(cl))"
   ]
  },
  {
   "cell_type": "code",
   "execution_count": 7,
   "metadata": {},
   "outputs": [
    {
     "data": {
      "text/html": [
       "<div><i>Table length=1</i>\n",
       "<table id=\"table135411586131856\" class=\"table-striped table-bordered table-condensed\">\n",
       "<thead><tr><th>Name</th><th>RA_ICRS_1</th><th>DE_ICRS_1</th><th>rgeo</th><th>Teff</th><th>Temp. Est</th><th>v_pec</th><th>e_v_pec</th><th>v_pec3d</th><th>e_v_pec3d</th><th>HIP</th><th>TYC2</th><th>Source</th><th>Plx</th><th>e_Plx</th><th>pmRA</th><th>pmDE</th><th>e_pmRA</th><th>e_pmDE</th><th>RUWE</th><th>Gmag</th><th>BP-RP</th><th>BPmag</th><th>RPmag</th><th>b_rgeo</th><th>B_rgeo</th><th>e_Gmag</th><th>e_BPmag</th><th>e_RPmag</th><th>e_BP-RP</th><th>SkyCoord</th><th>rmRA</th><th>e_rmRA</th><th>rmDE</th><th>e_rmDE</th><th>logg</th><th>RV</th><th>e_RV</th><th>rRV</th><th>e_rRV</th><th>FG</th><th>e_FG</th><th>FBP</th><th>e_FBP</th><th>FRP</th><th>e_FRP</th><th>RAVE5</th><th>RAVE6</th></tr></thead>\n",
       "<thead><tr><th></th><th>deg</th><th>deg</th><th>pc</th><th>K</th><th>K</th><th>km / s</th><th>km / s</th><th>km / s</th><th>km / s</th><th></th><th></th><th></th><th>mas</th><th>mas</th><th>mas / yr</th><th>mas / yr</th><th>mas / yr</th><th>mas / yr</th><th></th><th>mag</th><th>mag</th><th>mag</th><th>mag</th><th>pc</th><th>pc</th><th></th><th></th><th></th><th></th><th>deg,deg,pc</th><th>mas / yr</th><th>mas / yr</th><th>mas / yr</th><th>mas / yr</th><th>log(cm.s**-2)</th><th>km / s</th><th>km / s</th><th>km / s</th><th>km / s</th><th></th><th></th><th></th><th></th><th></th><th></th><th></th><th></th></tr></thead>\n",
       "<thead><tr><th>str28</th><th>float64</th><th>float64</th><th>float64</th><th>float64</th><th>float64</th><th>float64</th><th>float64</th><th>float64</th><th>float64</th><th>int32</th><th>str11</th><th>int64</th><th>float64</th><th>float32</th><th>float64</th><th>float64</th><th>float32</th><th>float32</th><th>float64</th><th>float64</th><th>float64</th><th>float64</th><th>float64</th><th>float64</th><th>float64</th><th>float64</th><th>float32</th><th>float32</th><th>float32</th><th>SkyCoord</th><th>float64</th><th>float32</th><th>float64</th><th>float32</th><th>float64</th><th>float64</th><th>float32</th><th>float64</th><th>float32</th><th>float64</th><th>float32</th><th>float32</th><th>float32</th><th>float32</th><th>float32</th><th>str1</th><th>str1</th></tr></thead>\n",
       "<tr><td>Gaia DR3 2008384504995669248</td><td>339.89581711423</td><td>58.99547917199</td><td>2620.36230000</td><td>9168.0</td><td>10980.0</td><td>29.98008203419036</td><td>1.7051992469891282</td><td>--</td><td>--</td><td>--</td><td>--</td><td>2008384504995669248</td><td>0.3560</td><td>0.0241</td><td>-0.379</td><td>-1.352</td><td>0.025</td><td>0.024</td><td>1.086</td><td>15.384143</td><td>1.182070</td><td>15.883185</td><td>14.701116</td><td>2461.53345000</td><td>2759.61401000</td><td>0.00277</td><td>0.003852</td><td>0.004229</td><td>0.008081</td><td>339.89581711423,58.99547917199,2620.3623</td><td>2.354</td><td>0.124</td><td>0.532</td><td>0.123</td><td>3.7061</td><td>--</td><td>--</td><td>--</td><td>--</td><td>13221.76503</td><td>3.482</td><td>6055</td><td>14.81</td><td>1.044e+04</td><td>18.25</td><td>--</td><td>--</td></tr>\n",
       "</table></div>"
      ],
      "text/plain": [
       "<Table length=1>\n",
       "            Name                RA_ICRS_1       DE_ICRS_1    ... RAVE5 RAVE6\n",
       "                                   deg             deg       ...            \n",
       "           str28                 float64         float64     ...  str1  str1\n",
       "---------------------------- --------------- --------------- ... ----- -----\n",
       "Gaia DR3 2008384504995669248 339.89581711423  58.99547917199 ...    --    --"
      ]
     },
     "execution_count": 7,
     "metadata": {},
     "output_type": "execute_result"
    }
   ],
   "source": [
    "cl.runaways()"
   ]
  },
  {
   "cell_type": "code",
   "execution_count": 4,
   "metadata": {},
   "outputs": [
    {
     "name": "stdout",
     "output_type": "stream",
     "text": [
      "\\begin{table*}[h]\n",
      "\\fontsize{9pt}{11pt}\\selectfont\n",
      "\\caption{Kinematics of Berkeley 97 compared to its runaway\\label{tab:Berkeley_97_kinematics}}\n",
      "\\begin{tabular}{cccccccc}\n",
      "\\hline\n",
      "Name & $\\alpha$ & $\\delta$ & d & $\\mu_{\\alpha}^*$ & $\\mu_{\\delta}$ & $v_r$ & $v_\\text{trans}$ \\\\\n",
      " & $\\mathrm{{}^{\\circ}}$ & $\\mathrm{{}^{\\circ}}$ & $\\mathrm{pc}$ & $\\mathrm{mas\\,yr^{-1}}$ & $\\mathrm{mas\\,yr^{-1}}$ & $\\mathrm{km\\,s^{-1}}$ & $\\mathrm{km\\,s^{-1}}$ \\\\\n",
      "\\hline\n",
      "Berkeley 97 & 339.85 & 59.005 & $2769\\pm132$ & $-2.7\\pm0.1$ & $-1.9\\pm0.1$ & $--\\pm--$ &  \\\\\n",
      "2008384504995669248 & 339.896 & 58.995 & $2620\\pm298$ & $-0.4\\pm0.0$ & $-1.4\\pm0.0$ & $--\\pm--$ & $30.0\\pm1.7$ \\\\\n",
      "\\hline\n",
      "\\end{tabular}\n",
      "\\end{table*}\n",
      "\n"
     ]
    }
   ],
   "source": [
    "print(generate_kinematics_latex(cl))"
   ]
  },
  {
   "cell_type": "code",
   "execution_count": 3,
   "metadata": {},
   "outputs": [
    {
     "name": "stdout",
     "output_type": "stream",
     "text": [
      "10pc image downloaded in 4.706837s\n",
      "50pc image downloaded in 28.883331s\n"
     ]
    },
    {
     "data": {
      "text/plain": [
       "<WCSAxesSubplot: >"
      ]
     },
     "execution_count": 3,
     "metadata": {},
     "output_type": "execute_result"
    }
   ],
   "source": [
    "cl.plot_pm()\n",
    "cl.plot_traceback_clean()\n",
    "cl.plot_traceback_psr()"
   ]
  }
 ],
 "metadata": {
  "kernelspec": {
   "display_name": "Python 3",
   "language": "python",
   "name": "python3"
  },
  "language_info": {
   "codemirror_mode": {
    "name": "ipython",
    "version": 3
   },
   "file_extension": ".py",
   "mimetype": "text/x-python",
   "name": "python",
   "nbconvert_exporter": "python",
   "pygments_lexer": "ipython3",
   "version": "3.11.6"
  }
 },
 "nbformat": 4,
 "nbformat_minor": 2
}
