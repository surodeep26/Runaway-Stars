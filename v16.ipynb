{
 "cells": [
  {
   "cell_type": "code",
   "execution_count": 39,
   "metadata": {},
   "outputs": [
    {
     "name": "stdout",
     "output_type": "stream",
     "text": [
      "\\subsection{Introduction}\n",
      "    Alessi Teutsch 5 is located at $\\alpha = 332^\\circ16{}^\\prime27.84{}^{\\prime\\prime}, \\delta = 61^\\circ05{}^\\prime46.32{}^{\\prime\\prime}$ at a distance of $870.0\\pm31.0$ pc.\n",
      "    59 out of the 147 mentioned in Dias have been selected as members. Using these, the kinematic parameters of the cluster have been determined. These are compared to the kinematic parameters of the runaway star in \\ref{tab:Alessi_Teutsch_5_kinematics}. Some of the brightest members of the cluster are shown in table \\ref{tab:Alessi_Teutsch_5_members}.\n",
      "    \n",
      "    \\subsection{CMD and proper motion}\n",
      "    The parameters of the cluster's isochrone ...\n",
      "    Using these parameters, the CMD plot for the cluster is shown in figure \\ref{fig:Alessi_Teutsch_5_cmd_pm} in the left.\n",
      "    The runaway star is highlighted with a temperature estimate of 11060 using this isochrone. This corresponds to a spectral class of ... .\n",
      "    The right plot in the figure shows the proper motion diagram showing that the runaway moves with a proper motion that is different from the cluster.\n",
      "    \n",
      "    \\begin{figure}\n",
      "    \\centering\n",
      "    \\includegraphics[width=7.5cm, height=7.5cm]{Results/Alessi_Teutsch_5/Alessi_Teutsch_5_cmd.pdf}\n",
      "    \\includegraphics[width=7.5cm, height=7.5cm]{Results/Alessi_Teutsch_5/Alessi_Teutsch_5_pm.pdf}\n",
      "    \\caption{\\\\ \n",
      "    \\textit{Left}: The CMD showing the temperature estimate of the runaway. The isochrone for the temperature estimate is shown in blue \\\\\n",
      "    \\textit{Right}: Proper motion diagram depicting that the star is an outlier in proper motion in the local rest frame.}\n",
      "        \\label{fig:Alessi_Teutsch_5_cmd_pm}\n",
      "    \\end{figure}    \n",
      "\n",
      "    \\subsection{Traceback}\n",
      "    The runaway star is Gaia DR3 2203047987818327936 whose motion relative to the cluster is shown in figure \\ref{fig:Alessi_Teutsch_5_traceback.pdf}. The trajectory of the runaway star relative to the cluster's motion for 100 kyr in past has been depicted, together with the uncertainties in the proper motion. The runaway star is located at a distance of $829^{12}_{-12}$.\n",
      "    \n",
      "    \\begin{figure}\n",
      "    \\centering\n",
      "    \\includegraphics[width=7.5cm, height=7.5cm]{Results/Alessi_Teutsch_5/Alessi_Teutsch_5_traceback_clean.pdf}\n",
      "    \\includegraphics[width=7.5cm, height=7.5cm]{Results/Alessi_Teutsch_5/Alessi_Teutsch_5_pm.pdf}\n",
      "    \\caption{\\\\ \n",
      "    \\textit{Left}: The runaway star's motion with respect to the cluster. The four green lines depict the four extreme cases of the proper motion considering the errors and the green ellipse represents the possible positions of the star 100 kyr ago. \\\\\n",
      "    \\textit{Right}: Proper motion diagram depicting that the star is an outlier in proper motion in the rest frame of the cluster.}\n",
      "        \\label{fig:Alessi_Teutsch_5_traceback_clean&pm}\n",
      "    \\end{figure}\n",
      "    \n",
      "    \n",
      "\n",
      "\\begin{table*}[h]\n",
      "\\fontsize{9pt}{11pt}\\selectfont\n",
      "\\caption{Kinematics of Alessi Teutsch 5 compared to its runaway\\label{tab:Alessi_Teutsch_5_kinematics}}\n",
      "\\begin{tabular}{cccccccc}\n",
      "\\toprule\n",
      "Name & $\\alpha$ & $\\delta$ & d & $\\mu_{\\alpha}^*$ & $\\mu_{\\delta}$ & $v_r$ & $v_\\text{trans}$ \\\\\n",
      " & $\\mathrm{{}^{\\circ}}$ & $\\mathrm{{}^{\\circ}}$ & $\\mathrm{pc}$ & $\\mathrm{mas\\,yr^{-1}}$ & $\\mathrm{mas\\,yr^{-1}}$ & $\\mathrm{km\\,s^{-1}}$ & $\\mathrm{km\\,s^{-1}}$ \\\\\n",
      "\\midrule\n",
      "Alessi Teutsch 5 & 332.274 & 61.096 & $869\\pm31$ & $-2.1\\pm0.4$ & $-3.3\\pm0.4$ & $-23.5\\pm11.1$ &  \\\\\n",
      "2203047987818327936 & 331.442 & 60.419 & $829\\pm25$ & $-14.7\\pm0.0$ & $-12.7\\pm0.0$ & $-36.5\\pm29.7$ & $61.9\\pm2.5$ \\\\\n",
      "\\bottomrule\n",
      "\\end{tabular}\n",
      "\\end{table*}\n",
      "\n",
      "\n",
      "\\begin{table*}[h]\n",
      "\\fontsize{11pt}{11pt}\\selectfont\n",
      "\\caption{Selected members of Alessi Teutsch 5\\label{tab:Alessi_Teutsch_5_members}}\n",
      "\\begin{tabular}{cccccc}\n",
      "\\toprule\n",
      "Gaia DR3 Source & $r_{\\text{geo}}$ & $G$ & $\\mu_{\\alpha}^*$ & $\\mu_{\\delta}$ & $G_{\\text{BP}}-G_{\\text{RP}}$ \\\\\n",
      " & pc & mag & mas/yr & mas/yr & mag \\\\\n",
      "\\midrule\n",
      "2203291048603716736 & $879^{+10}_{-11}$ & $9.657\\pm0.003$ & $-2.32\\pm0.02$ & $0.02\\pm0.02$ & $0.209\\pm0.007$ \\\\\n",
      "2203101653418751232 & $869^{+9}_{-8}$ & $10.620\\pm0.003$ & $-1.67\\pm0.01$ & $0.01\\pm0.01$ & $0.453\\pm0.007$ \\\\\n",
      "2203293969181439104 & $876^{+11}_{-11}$ & $10.700\\pm0.003$ & $-1.78\\pm0.01$ & $0.01\\pm0.01$ & $0.325\\pm0.007$ \\\\\n",
      "2203291941956922112 & $915^{+11}_{-11}$ & $11.171\\pm0.003$ & $-1.97\\pm0.02$ & $0.02\\pm0.02$ & $0.338\\pm0.007$ \\\\\n",
      "2203282596107756416 & $820^{+18}_{-18}$ & $11.241\\pm0.003$ & $-1.84\\pm0.03$ & $0.03\\pm0.03$ & $0.428\\pm0.007$ \\\\\n",
      "2203050667876712832 & $786^{+8}_{-9}$ & $11.248\\pm0.003$ & $-2.31\\pm0.02$ & $0.01\\pm0.01$ & $0.500\\pm0.007$ \\\\\n",
      "2203275518000963584 & $894^{+9}_{-8}$ & $11.903\\pm0.003$ & $-2.28\\pm0.01$ & $0.01\\pm0.01$ & $0.509\\pm0.007$ \\\\\n",
      "2203309534142830976 & $865^{+9}_{-10}$ & $12.070\\pm0.003$ & $-2.14\\pm0.01$ & $0.01\\pm0.01$ & $0.437\\pm0.007$ \\\\\n",
      "2203102203174564992 & $858^{+7}_{-6}$ & $12.249\\pm0.003$ & $-1.35\\pm0.01$ & $0.01\\pm0.01$ & $0.698\\pm0.007$ \\\\\n",
      "2203280775041680768 & $882^{+10}_{-7}$ & $12.642\\pm0.003$ & $-1.53\\pm0.01$ & $0.01\\pm0.01$ & $0.665\\pm0.007$ \\\\\n",
      "\\bottomrule\n",
      "\\end{tabular}\n",
      "\\end{table*}\n",
      "\n"
     ]
    }
   ],
   "source": [
    "%run runaway_functionsv3\n",
    "%matplotlib qt\n",
    "cl = Cluster('Alessi_Teutsch_5')\n",
    "print(latex_text(cl))"
   ]
  },
  {
   "cell_type": "code",
   "execution_count": 6,
   "metadata": {},
   "outputs": [],
   "source": [
    "plot_cmd = cl.plot_cmd()\n",
    "show_annotation_manager(plot_cmd)"
   ]
  },
  {
   "cell_type": "code",
   "execution_count": 12,
   "metadata": {},
   "outputs": [],
   "source": [
    "plot_pm = cl.plot_pm()\n",
    "show_annotation_manager(plot_pm)"
   ]
  },
  {
   "cell_type": "code",
   "execution_count": 38,
   "metadata": {},
   "outputs": [
    {
     "name": "stdout",
     "output_type": "stream",
     "text": [
      "10pc image downloaded in 8.334120s\n"
     ]
    }
   ],
   "source": [
    "plot_traceback_clean = cl.plot_traceback_clean()\n",
    "show_annotation_manager(plot_traceback_clean)"
   ]
  },
  {
   "cell_type": "code",
   "execution_count": null,
   "metadata": {},
   "outputs": [],
   "source": [
    "plot_traceback_psr = cl.plot_traceback_psr()\n"
   ]
  },
  {
   "cell_type": "code",
   "execution_count": 29,
   "metadata": {},
   "outputs": [
    {
     "data": {
      "text/html": [
       "<div><i>Table length=1</i>\n",
       "<table id=\"table125158452630032\" class=\"table-striped table-bordered table-condensed\">\n",
       "<thead><tr><th>JNAME</th><th>RAJD</th><th>DECJD</th><th>DIST</th><th>DIST_DM</th><th>AGE</th><th>PMRA</th><th>PMDEC</th><th>S400</th><th>ASSOC</th><th>AGE_I</th><th>PX</th><th>P0</th><th>P1</th><th>BSURF</th><th>SkyCoord</th><th>sep2d</th><th>sep3d</th></tr></thead>\n",
       "<thead><tr><th></th><th>deg</th><th>deg</th><th>kpc</th><th>kpc</th><th>yr</th><th>mas / yr</th><th>mas / yr</th><th>mJy</th><th></th><th>yr</th><th>mas</th><th>s</th><th></th><th>G</th><th>deg,deg,kpc</th><th>deg</th><th>kpc</th></tr></thead>\n",
       "<thead><tr><th>str12</th><th>float64</th><th>float64</th><th>float64</th><th>float64</th><th>float64</th><th>float64</th><th>float64</th><th>float64</th><th>str5</th><th>float64</th><th>float64</th><th>float64</th><th>float64</th><th>float64</th><th>SkyCoord</th><th>float64</th><th>float64</th></tr></thead>\n",
       "<tr><td>J2326+6141</td><td>351.49999999999994</td><td>61.0</td><td>1.695</td><td>1.695</td><td>--</td><td>--</td><td>--</td><td>--</td><td>--</td><td>--</td><td>--</td><td>0.79</td><td>--</td><td>--</td><td>351.49999999999994,61.0,1.695</td><td>9.273641332940834</td><td>0.8489871436667646</td></tr>\n",
       "</table></div>"
      ],
      "text/plain": [
       "<Table length=1>\n",
       "  JNAME           RAJD         DECJD  ...       sep2d             sep3d       \n",
       "                  deg           deg   ...        deg               kpc        \n",
       "  str12         float64       float64 ...      float64           float64      \n",
       "---------- ------------------ ------- ... ----------------- ------------------\n",
       "J2326+6141 351.49999999999994    61.0 ... 9.273641332940834 0.8489871436667646"
      ]
     },
     "execution_count": 29,
     "metadata": {},
     "output_type": "execute_result"
    }
   ],
   "source": [
    "cl.psrs(sep_limit=600*u.arcmin)"
   ]
  }
 ],
 "metadata": {
  "kernelspec": {
   "display_name": "Python 3",
   "language": "python",
   "name": "python3"
  },
  "language_info": {
   "codemirror_mode": {
    "name": "ipython",
    "version": 3
   },
   "file_extension": ".py",
   "mimetype": "text/x-python",
   "name": "python",
   "nbconvert_exporter": "python",
   "pygments_lexer": "ipython3",
   "version": "3.11.6"
  }
 },
 "nbformat": 4,
 "nbformat_minor": 2
}
