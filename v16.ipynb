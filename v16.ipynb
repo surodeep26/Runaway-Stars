{
 "cells": [
  {
   "cell_type": "code",
   "execution_count": 58,
   "metadata": {},
   "outputs": [],
   "source": [
    "%run runaway_functionsv3"
   ]
  },
  {
   "cell_type": "code",
   "execution_count": 59,
   "metadata": {},
   "outputs": [
    {
     "name": "stdout",
     "output_type": "stream",
     "text": [
      "getting isochrone form cmd3.7 with:\n",
      "Av:0.91 mag\n",
      "logage:6.76\n",
      "metallicity:-0.05\n",
      "isochrone downloaded in 7.8s\n"
     ]
    },
    {
     "data": {
      "text/html": [
       "<div><i>Table length=307</i>\n",
       "<table id=\"table134805565580560\" class=\"table-striped table-bordered table-condensed\">\n",
       "<thead><tr><th>Mass</th><th>Teff0</th><th>BP-RP</th><th>Gmag</th><th>G_BP</th><th>G_RP</th><th>logg</th><th>logAge</th><th>logL</th><th>logTe</th><th>Mini</th></tr></thead>\n",
       "<thead><tr><th>float64</th><th>float64</th><th>float64</th><th>float64</th><th>float64</th><th>float64</th><th>float64</th><th>float64</th><th>float64</th><th>float64</th><th>float64</th></tr></thead>\n",
       "<tr><td>0.09</td><td>2552.0</td><td>4.450999999999999</td><td>22.058708663695164</td><td>15.04</td><td>10.589</td><td>3.833</td><td>6.763</td><td>-1.861</td><td>3.4069</td><td>0.0900000036</td></tr>\n",
       "<tr><td>0.092</td><td>2557.0</td><td>4.4510000000000005</td><td>22.037708663695163</td><td>15.018</td><td>10.567</td><td>3.836</td><td>6.763</td><td>-1.853</td><td>3.4078</td><td>0.0915648341</td></tr>\n",
       "<tr><td>0.094</td><td>2564.0</td><td>4.452</td><td>22.01170866369516</td><td>14.993</td><td>10.541</td><td>3.839</td><td>6.763</td><td>-1.842</td><td>3.4089</td><td>0.0935592055</td></tr>\n",
       "<tr><td>0.097</td><td>2574.0</td><td>4.446999999999999</td><td>21.96570866369516</td><td>14.943</td><td>10.496</td><td>3.844</td><td>6.763</td><td>-1.826</td><td>3.4106</td><td>0.096759446</td></tr>\n",
       "<tr><td>0.1</td><td>2583.0</td><td>4.433000000000002</td><td>21.91370866369516</td><td>14.88</td><td>10.447</td><td>3.848</td><td>6.763</td><td>-1.81</td><td>3.4122</td><td>0.1000000015</td></tr>\n",
       "<tr><td>0.102</td><td>2591.0</td><td>4.420999999999999</td><td>21.877708663695163</td><td>14.833</td><td>10.412</td><td>3.851</td><td>6.763</td><td>-1.799</td><td>3.4134</td><td>0.1021077931</td></tr>\n",
       "<tr><td>0.105</td><td>2600.0</td><td>4.407</td><td>21.830708663695162</td><td>14.775</td><td>10.368</td><td>3.855</td><td>6.763</td><td>-1.785</td><td>3.415</td><td>0.1049343348</td></tr>\n",
       "<tr><td>0.108</td><td>2610.0</td><td>4.391</td><td>21.78070866369516</td><td>14.712</td><td>10.321</td><td>3.859</td><td>6.763</td><td>-1.769</td><td>3.4166</td><td>0.1079238653</td></tr>\n",
       "<tr><td>0.111</td><td>2619.0</td><td>4.376999999999999</td><td>21.732708663695163</td><td>14.652</td><td>10.275</td><td>3.863</td><td>6.763</td><td>-1.754</td><td>3.4181</td><td>0.1110894531</td></tr>\n",
       "<tr><td>0.114</td><td>2629.0</td><td>4.362</td><td>21.68170866369516</td><td>14.589</td><td>10.227</td><td>3.866</td><td>6.763</td><td>-1.739</td><td>3.4197</td><td>0.1144450903</td></tr>\n",
       "<tr><td>...</td><td>...</td><td>...</td><td>...</td><td>...</td><td>...</td><td>...</td><td>...</td><td>...</td><td>...</td><td>...</td></tr>\n",
       "<tr><td>13.516</td><td>3688.0</td><td>2.5220000000000002</td><td>4.262708663695163</td><td>-4.241</td><td>-6.763</td><td>0.061</td><td>6.763</td><td>4.727</td><td>3.5668</td><td>14.0069990158</td></tr>\n",
       "<tr><td>13.516</td><td>3668.0</td><td>2.5630000000000006</td><td>4.2407086636951625</td><td>-4.233</td><td>-6.796</td><td>0.032</td><td>6.763</td><td>4.747</td><td>3.5645</td><td>14.0069999695</td></tr>\n",
       "<tr><td>13.515</td><td>3648.0</td><td>2.607</td><td>4.216708663695162</td><td>-4.225</td><td>-6.832</td><td>0.002</td><td>6.763</td><td>4.767</td><td>3.5621</td><td>14.0070009232</td></tr>\n",
       "<tr><td>13.513</td><td>3626.0</td><td>2.654000000000001</td><td>4.191708663695163</td><td>-4.217</td><td>-6.871</td><td>-0.031</td><td>6.763</td><td>4.79</td><td>3.5595</td><td>14.0070018768</td></tr>\n",
       "<tr><td>13.511</td><td>3606.0</td><td>2.708</td><td>4.1717086636951635</td><td>-4.197</td><td>-6.905</td><td>-0.062</td><td>6.763</td><td>4.811</td><td>3.5571</td><td>14.0070037842</td></tr>\n",
       "<tr><td>13.509</td><td>3587.0</td><td>2.7570000000000006</td><td>4.152708663695162</td><td>-4.18</td><td>-6.937</td><td>-0.091</td><td>6.763</td><td>4.831</td><td>3.5548</td><td>14.0070047379</td></tr>\n",
       "<tr><td>13.506</td><td>3566.0</td><td>2.8120000000000003</td><td>4.130708663695163</td><td>-4.162</td><td>-6.974</td><td>-0.124</td><td>6.763</td><td>4.854</td><td>3.5523</td><td>14.0070066452</td></tr>\n",
       "<tr><td>13.502</td><td>3547.0</td><td>2.862</td><td>4.109708663695162</td><td>-4.146</td><td>-7.008</td><td>-0.154</td><td>6.763</td><td>4.874</td><td>3.5499</td><td>14.0070085526</td></tr>\n",
       "<tr><td>13.497</td><td>3527.0</td><td>2.928</td><td>4.094708663695162</td><td>-4.111</td><td>-7.039</td><td>-0.186</td><td>6.763</td><td>4.896</td><td>3.5474</td><td>14.0070104599</td></tr>\n",
       "<tr><td>13.496</td><td>3505.0</td><td>3.0009999999999994</td><td>4.077708663695162</td><td>-4.073</td><td>-7.074</td><td>-0.221</td><td>6.763</td><td>4.92</td><td>3.5447</td><td>14.0070142746</td></tr>\n",
       "</table></div>"
      ],
      "text/plain": [
       "<Table length=307>\n",
       "  Mass   Teff0        BP-RP        ...   logL   logTe       Mini    \n",
       "float64 float64      float64       ... float64 float64    float64   \n",
       "------- ------- ------------------ ... ------- ------- -------------\n",
       "   0.09  2552.0  4.450999999999999 ...  -1.861  3.4069  0.0900000036\n",
       "  0.092  2557.0 4.4510000000000005 ...  -1.853  3.4078  0.0915648341\n",
       "  0.094  2564.0              4.452 ...  -1.842  3.4089  0.0935592055\n",
       "  0.097  2574.0  4.446999999999999 ...  -1.826  3.4106   0.096759446\n",
       "    0.1  2583.0  4.433000000000002 ...   -1.81  3.4122  0.1000000015\n",
       "  0.102  2591.0  4.420999999999999 ...  -1.799  3.4134  0.1021077931\n",
       "  0.105  2600.0              4.407 ...  -1.785   3.415  0.1049343348\n",
       "  0.108  2610.0              4.391 ...  -1.769  3.4166  0.1079238653\n",
       "  0.111  2619.0  4.376999999999999 ...  -1.754  3.4181  0.1110894531\n",
       "  0.114  2629.0              4.362 ...  -1.739  3.4197  0.1144450903\n",
       "    ...     ...                ... ...     ...     ...           ...\n",
       " 13.516  3688.0 2.5220000000000002 ...   4.727  3.5668 14.0069990158\n",
       " 13.516  3668.0 2.5630000000000006 ...   4.747  3.5645 14.0069999695\n",
       " 13.515  3648.0              2.607 ...   4.767  3.5621 14.0070009232\n",
       " 13.513  3626.0  2.654000000000001 ...    4.79  3.5595 14.0070018768\n",
       " 13.511  3606.0              2.708 ...   4.811  3.5571 14.0070037842\n",
       " 13.509  3587.0 2.7570000000000006 ...   4.831  3.5548 14.0070047379\n",
       " 13.506  3566.0 2.8120000000000003 ...   4.854  3.5523 14.0070066452\n",
       " 13.502  3547.0              2.862 ...   4.874  3.5499 14.0070085526\n",
       " 13.497  3527.0              2.928 ...   4.896  3.5474 14.0070104599\n",
       " 13.496  3505.0 3.0009999999999994 ...    4.92  3.5447 14.0070142746"
      ]
     },
     "execution_count": 59,
     "metadata": {},
     "output_type": "execute_result"
    }
   ],
   "source": [
    "cl = Cluster(\"Alessi_43\")\n",
    "cl.theoretical_isochrone()"
   ]
  },
  {
   "cell_type": "code",
   "execution_count": 40,
   "metadata": {},
   "outputs": [
    {
     "name": "stdout",
     "output_type": "stream",
     "text": [
      "getting isochrone form cmd3.7 with Av:3.10, logage:7.00, metallicity:0.00\n"
     ]
    }
   ],
   "source": [
    "thiso = get_theoretical_isochrone(3.1,7,0)"
   ]
  },
  {
   "cell_type": "code",
   "execution_count": 41,
   "metadata": {},
   "outputs": [
    {
     "data": {
      "text/html": [
       "<div><i>Table length=275</i>\n",
       "<table id=\"table134805683183632\" class=\"table-striped table-bordered table-condensed\">\n",
       "<thead><tr><th>Zini</th><th>MH</th><th>logAge</th><th>Mini</th><th>int_IMF</th><th>Mass</th><th>logL</th><th>logTe</th><th>logg</th><th>label</th><th>McoreTP</th><th>C_O</th><th>period0</th><th>period1</th><th>period2</th><th>period3</th><th>period4</th><th>pmode</th><th>Mloss</th><th>tau1m</th><th>X</th><th>Y</th><th>Xc</th><th>Xn</th><th>Xo</th><th>Cexcess</th><th>Z</th><th>Teff0</th><th>omega</th><th>angvel</th><th>vtaneq</th><th>angmom</th><th>Rpol</th><th>Req</th><th>mbolmag</th><th>G_fSBmag</th><th>G_BP_fSBmag</th><th>G_RP_fSBmag</th><th>G_fSB</th><th>G_f0</th><th>G_fk</th><th>G_i00</th><th>G_i05</th><th>G_i10</th><th>G_i15</th><th>G_i20</th><th>G_i25</th><th>G_i30</th><th>G_i35</th><th>G_i40</th><th>G_i45</th><th>G_i50</th><th>G_i55</th><th>G_i60</th><th>G_i65</th><th>G_i70</th><th>G_i75</th><th>G_i80</th><th>G_i85</th><th>G_i90</th><th>G_BP_fSB</th><th>G_BP_f0</th><th>G_BP_fk</th><th>G_BP_i00</th><th>G_BP_i05</th><th>G_BP_i10</th><th>G_BP_i15</th><th>G_BP_i20</th><th>G_BP_i25</th><th>G_BP_i30</th><th>G_BP_i35</th><th>G_BP_i40</th><th>G_BP_i45</th><th>G_BP_i50</th><th>G_BP_i55</th><th>G_BP_i60</th><th>G_BP_i65</th><th>G_BP_i70</th><th>G_BP_i75</th><th>G_BP_i80</th><th>G_BP_i85</th><th>G_BP_i90</th><th>G_RP_fSB</th><th>G_RP_f0</th><th>G_RP_fk</th><th>G_RP_i00</th><th>G_RP_i05</th><th>G_RP_i10</th><th>G_RP_i15</th><th>G_RP_i20</th><th>G_RP_i25</th><th>G_RP_i30</th><th>G_RP_i35</th><th>G_RP_i40</th><th>G_RP_i45</th><th>G_RP_i50</th><th>G_RP_i55</th><th>G_RP_i60</th><th>G_RP_i65</th><th>G_RP_i70</th><th>G_RP_i75</th><th>G_RP_i80</th><th>G_RP_i85</th><th>G_RP_i90</th><th>BP-RP</th><th>Gmag</th></tr></thead>\n",
       "<thead><tr><th>float64</th><th>float64</th><th>float64</th><th>float64</th><th>float64</th><th>float64</th><th>float64</th><th>float64</th><th>float64</th><th>int64</th><th>float64</th><th>float64</th><th>float64</th><th>float64</th><th>float64</th><th>float64</th><th>float64</th><th>int64</th><th>float64</th><th>float64</th><th>float64</th><th>float64</th><th>float64</th><th>float64</th><th>float64</th><th>float64</th><th>float64</th><th>float64</th><th>int64</th><th>int64</th><th>int64</th><th>int64</th><th>float64</th><th>float64</th><th>float64</th><th>float64</th><th>float64</th><th>float64</th><th>float64</th><th>float64</th><th>float64</th><th>float64</th><th>float64</th><th>float64</th><th>float64</th><th>float64</th><th>float64</th><th>float64</th><th>float64</th><th>float64</th><th>float64</th><th>float64</th><th>float64</th><th>float64</th><th>float64</th><th>float64</th><th>float64</th><th>float64</th><th>float64</th><th>float64</th><th>float64</th><th>float64</th><th>float64</th><th>float64</th><th>float64</th><th>float64</th><th>float64</th><th>float64</th><th>float64</th><th>float64</th><th>float64</th><th>float64</th><th>float64</th><th>float64</th><th>float64</th><th>float64</th><th>float64</th><th>float64</th><th>float64</th><th>float64</th><th>float64</th><th>float64</th><th>float64</th><th>float64</th><th>float64</th><th>float64</th><th>float64</th><th>float64</th><th>float64</th><th>float64</th><th>float64</th><th>float64</th><th>float64</th><th>float64</th><th>float64</th><th>float64</th><th>float64</th><th>float64</th><th>float64</th><th>float64</th><th>float64</th><th>float64</th><th>float64</th><th>float64</th><th>float64</th><th>float64</th></tr></thead>\n",
       "<tr><td>0.01471</td><td>0.0</td><td>7.0</td><td>0.0900000036</td><td>1.0816895926</td><td>0.09</td><td>-2.064</td><td>3.3992</td><td>4.005</td><td>0</td><td>0.0</td><td>0.545</td><td>0.0</td><td>0.0</td><td>0.0</td><td>0.0</td><td>0.0</td><td>-1</td><td>-3.63e-15</td><td>0.0</td><td>0.7107</td><td>0.2745</td><td>0.002655</td><td>0.0007163</td><td>0.006496</td><td>-1.0</td><td>0.01476</td><td>2507.0</td><td>0</td><td>0</td><td>0</td><td>0</td><td>0.4942</td><td>0.4942</td><td>9.93</td><td>14.573</td><td>17.94</td><td>12.488</td><td>14.573</td><td>14.573</td><td>14.573</td><td>14.573</td><td>14.573</td><td>14.573</td><td>14.573</td><td>14.573</td><td>14.573</td><td>14.573</td><td>14.573</td><td>14.573</td><td>14.573</td><td>14.573</td><td>14.573</td><td>14.573</td><td>14.573</td><td>14.573</td><td>14.573</td><td>14.573</td><td>14.573</td><td>14.573</td><td>17.94</td><td>17.94</td><td>17.94</td><td>17.94</td><td>17.94</td><td>17.94</td><td>17.94</td><td>17.94</td><td>17.94</td><td>17.94</td><td>17.94</td><td>17.94</td><td>17.94</td><td>17.94</td><td>17.94</td><td>17.94</td><td>17.94</td><td>17.94</td><td>17.94</td><td>17.94</td><td>17.94</td><td>17.94</td><td>12.488</td><td>12.488</td><td>12.488</td><td>12.488</td><td>12.488</td><td>12.488</td><td>12.488</td><td>12.488</td><td>12.488</td><td>12.488</td><td>12.488</td><td>12.488</td><td>12.488</td><td>12.488</td><td>12.488</td><td>12.488</td><td>12.488</td><td>12.488</td><td>12.488</td><td>12.488</td><td>12.488</td><td>12.488</td><td>5.452000000000002</td><td>14.573</td></tr>\n",
       "<tr><td>0.01471</td><td>0.0</td><td>7.0</td><td>0.0939977095</td><td>1.1189163837</td><td>0.094</td><td>-2.039</td><td>3.4019</td><td>4.01</td><td>0</td><td>0.0</td><td>0.545</td><td>0.0</td><td>0.0</td><td>0.0</td><td>0.0</td><td>0.0</td><td>-1</td><td>-3.74e-15</td><td>0.0</td><td>0.7107</td><td>0.2745</td><td>0.002655</td><td>0.0007163</td><td>0.006496</td><td>-1.0</td><td>0.01476</td><td>2523.0</td><td>0</td><td>0</td><td>0</td><td>0</td><td>0.5026</td><td>0.5026</td><td>9.869</td><td>14.512</td><td>17.88</td><td>12.427</td><td>14.512</td><td>14.512</td><td>14.512</td><td>14.512</td><td>14.512</td><td>14.512</td><td>14.512</td><td>14.512</td><td>14.512</td><td>14.512</td><td>14.512</td><td>14.512</td><td>14.512</td><td>14.512</td><td>14.512</td><td>14.512</td><td>14.512</td><td>14.512</td><td>14.512</td><td>14.512</td><td>14.512</td><td>14.512</td><td>17.88</td><td>17.88</td><td>17.88</td><td>17.88</td><td>17.88</td><td>17.88</td><td>17.88</td><td>17.88</td><td>17.88</td><td>17.88</td><td>17.88</td><td>17.88</td><td>17.88</td><td>17.88</td><td>17.88</td><td>17.88</td><td>17.88</td><td>17.88</td><td>17.88</td><td>17.88</td><td>17.88</td><td>17.88</td><td>12.427</td><td>12.427</td><td>12.427</td><td>12.427</td><td>12.427</td><td>12.427</td><td>12.427</td><td>12.427</td><td>12.427</td><td>12.427</td><td>12.427</td><td>12.427</td><td>12.427</td><td>12.427</td><td>12.427</td><td>12.427</td><td>12.427</td><td>12.427</td><td>12.427</td><td>12.427</td><td>12.427</td><td>12.427</td><td>5.452999999999999</td><td>14.512</td></tr>\n",
       "<tr><td>0.01471</td><td>0.0</td><td>7.0</td><td>0.1000000015</td><td>1.1711064122</td><td>0.1</td><td>-2.002</td><td>3.4058</td><td>4.015</td><td>0</td><td>0.0</td><td>0.545</td><td>0.0</td><td>0.0</td><td>0.0</td><td>0.0</td><td>0.0</td><td>-1</td><td>-3.93e-15</td><td>0.0</td><td>0.7107</td><td>0.2745</td><td>0.002655</td><td>0.0007163</td><td>0.006496</td><td>-1.0</td><td>0.01476</td><td>2545.0</td><td>0</td><td>0</td><td>0</td><td>0</td><td>0.5151</td><td>0.5151</td><td>9.774</td><td>14.417</td><td>17.787</td><td>12.332</td><td>14.417</td><td>14.417</td><td>14.417</td><td>14.417</td><td>14.417</td><td>14.417</td><td>14.417</td><td>14.417</td><td>14.417</td><td>14.417</td><td>14.417</td><td>14.417</td><td>14.417</td><td>14.417</td><td>14.417</td><td>14.417</td><td>14.417</td><td>14.417</td><td>14.417</td><td>14.417</td><td>14.417</td><td>14.417</td><td>17.787</td><td>17.787</td><td>17.787</td><td>17.787</td><td>17.787</td><td>17.787</td><td>17.787</td><td>17.787</td><td>17.787</td><td>17.787</td><td>17.787</td><td>17.787</td><td>17.787</td><td>17.787</td><td>17.787</td><td>17.787</td><td>17.787</td><td>17.787</td><td>17.787</td><td>17.787</td><td>17.787</td><td>17.787</td><td>12.332</td><td>12.332</td><td>12.332</td><td>12.332</td><td>12.332</td><td>12.332</td><td>12.332</td><td>12.332</td><td>12.332</td><td>12.332</td><td>12.332</td><td>12.332</td><td>12.332</td><td>12.332</td><td>12.332</td><td>12.332</td><td>12.332</td><td>12.332</td><td>12.332</td><td>12.332</td><td>12.332</td><td>12.332</td><td>5.454999999999998</td><td>14.417</td></tr>\n",
       "<tr><td>0.01471</td><td>0.0</td><td>7.0</td><td>0.1048719734</td><td>1.2105610995</td><td>0.105</td><td>-1.973</td><td>3.4089</td><td>4.02</td><td>0</td><td>0.0</td><td>0.545</td><td>0.0</td><td>0.0</td><td>0.0</td><td>0.0</td><td>0.0</td><td>-1</td><td>-4.07e-15</td><td>0.0</td><td>0.7107</td><td>0.2745</td><td>0.002655</td><td>0.0007163</td><td>0.006496</td><td>-1.0</td><td>0.01476</td><td>2564.0</td><td>0</td><td>0</td><td>0</td><td>0</td><td>0.526</td><td>0.526</td><td>9.704</td><td>14.347</td><td>17.718</td><td>12.262</td><td>14.347</td><td>14.347</td><td>14.347</td><td>14.347</td><td>14.347</td><td>14.347</td><td>14.347</td><td>14.347</td><td>14.347</td><td>14.347</td><td>14.347</td><td>14.347</td><td>14.347</td><td>14.347</td><td>14.347</td><td>14.347</td><td>14.347</td><td>14.347</td><td>14.347</td><td>14.347</td><td>14.347</td><td>14.347</td><td>17.718</td><td>17.718</td><td>17.718</td><td>17.718</td><td>17.718</td><td>17.718</td><td>17.718</td><td>17.718</td><td>17.718</td><td>17.718</td><td>17.718</td><td>17.718</td><td>17.718</td><td>17.718</td><td>17.718</td><td>17.718</td><td>17.718</td><td>17.718</td><td>17.718</td><td>17.718</td><td>17.718</td><td>17.718</td><td>12.262</td><td>12.262</td><td>12.262</td><td>12.262</td><td>12.262</td><td>12.262</td><td>12.262</td><td>12.262</td><td>12.262</td><td>12.262</td><td>12.262</td><td>12.262</td><td>12.262</td><td>12.262</td><td>12.262</td><td>12.262</td><td>12.262</td><td>12.262</td><td>12.262</td><td>12.262</td><td>12.262</td><td>12.262</td><td>5.4559999999999995</td><td>14.347</td></tr>\n",
       "<tr><td>0.01471</td><td>0.0</td><td>7.0</td><td>0.1131533235</td><td>1.2724415367</td><td>0.113</td><td>-1.928</td><td>3.4137</td><td>4.026</td><td>0</td><td>0.0</td><td>0.545</td><td>0.0</td><td>0.0</td><td>0.0</td><td>0.0</td><td>0.0</td><td>-1</td><td>-4.32e-15</td><td>0.0</td><td>0.7107</td><td>0.2745</td><td>0.002655</td><td>0.0007163</td><td>0.006496</td><td>-1.0</td><td>0.01476</td><td>2592.0</td><td>0</td><td>0</td><td>0</td><td>0</td><td>0.5422</td><td>0.5422</td><td>9.59</td><td>14.208</td><td>17.551</td><td>12.129</td><td>14.208</td><td>14.208</td><td>14.208</td><td>14.208</td><td>14.208</td><td>14.208</td><td>14.208</td><td>14.208</td><td>14.208</td><td>14.208</td><td>14.208</td><td>14.208</td><td>14.208</td><td>14.208</td><td>14.208</td><td>14.208</td><td>14.208</td><td>14.208</td><td>14.208</td><td>14.208</td><td>14.208</td><td>14.208</td><td>17.551</td><td>17.551</td><td>17.551</td><td>17.551</td><td>17.551</td><td>17.551</td><td>17.551</td><td>17.551</td><td>17.551</td><td>17.551</td><td>17.551</td><td>17.551</td><td>17.551</td><td>17.551</td><td>17.551</td><td>17.551</td><td>17.551</td><td>17.551</td><td>17.551</td><td>17.551</td><td>17.551</td><td>17.551</td><td>12.129</td><td>12.129</td><td>12.129</td><td>12.129</td><td>12.129</td><td>12.129</td><td>12.129</td><td>12.129</td><td>12.129</td><td>12.129</td><td>12.129</td><td>12.129</td><td>12.129</td><td>12.129</td><td>12.129</td><td>12.129</td><td>12.129</td><td>12.129</td><td>12.129</td><td>12.129</td><td>12.129</td><td>12.129</td><td>5.421999999999999</td><td>14.208</td></tr>\n",
       "<tr><td>0.01471</td><td>0.0</td><td>7.0</td><td>0.1200000048</td><td>1.3193154741</td><td>0.12</td><td>-1.891</td><td>3.4175</td><td>4.03</td><td>0</td><td>0.0</td><td>0.545</td><td>0.0</td><td>0.0</td><td>0.0</td><td>0.0</td><td>0.0</td><td>-1</td><td>-4.53e-15</td><td>0.0</td><td>0.7107</td><td>0.2745</td><td>0.002655</td><td>0.0007163</td><td>0.006496</td><td>-1.0</td><td>0.01476</td><td>2615.0</td><td>0</td><td>0</td><td>0</td><td>0</td><td>0.5538</td><td>0.5538</td><td>9.499</td><td>14.09</td><td>17.405</td><td>12.016</td><td>14.09</td><td>14.09</td><td>14.09</td><td>14.09</td><td>14.09</td><td>14.09</td><td>14.09</td><td>14.09</td><td>14.09</td><td>14.09</td><td>14.09</td><td>14.09</td><td>14.09</td><td>14.09</td><td>14.09</td><td>14.09</td><td>14.09</td><td>14.09</td><td>14.09</td><td>14.09</td><td>14.09</td><td>14.09</td><td>17.405</td><td>17.405</td><td>17.405</td><td>17.405</td><td>17.405</td><td>17.405</td><td>17.405</td><td>17.405</td><td>17.405</td><td>17.405</td><td>17.405</td><td>17.405</td><td>17.405</td><td>17.405</td><td>17.405</td><td>17.405</td><td>17.405</td><td>17.405</td><td>17.405</td><td>17.405</td><td>17.405</td><td>17.405</td><td>12.016</td><td>12.016</td><td>12.016</td><td>12.016</td><td>12.016</td><td>12.016</td><td>12.016</td><td>12.016</td><td>12.016</td><td>12.016</td><td>12.016</td><td>12.016</td><td>12.016</td><td>12.016</td><td>12.016</td><td>12.016</td><td>12.016</td><td>12.016</td><td>12.016</td><td>12.016</td><td>12.016</td><td>12.016</td><td>5.389000000000001</td><td>14.09</td></tr>\n",
       "<tr><td>0.01471</td><td>0.0</td><td>7.0</td><td>0.1203280166</td><td>1.3214734315</td><td>0.12</td><td>-1.89</td><td>3.4176</td><td>4.031</td><td>0</td><td>0.0</td><td>0.545</td><td>0.0</td><td>0.0</td><td>0.0</td><td>0.0</td><td>0.0</td><td>-1</td><td>-4.54e-15</td><td>0.0</td><td>0.7107</td><td>0.2745</td><td>0.002655</td><td>0.0007163</td><td>0.006496</td><td>-1.0</td><td>0.01476</td><td>2616.0</td><td>0</td><td>0</td><td>0</td><td>0</td><td>0.5545</td><td>0.5545</td><td>9.495</td><td>14.085</td><td>17.398</td><td>12.011</td><td>14.085</td><td>14.085</td><td>14.085</td><td>14.085</td><td>14.085</td><td>14.085</td><td>14.085</td><td>14.085</td><td>14.085</td><td>14.085</td><td>14.085</td><td>14.085</td><td>14.085</td><td>14.085</td><td>14.085</td><td>14.085</td><td>14.085</td><td>14.085</td><td>14.085</td><td>14.085</td><td>14.085</td><td>14.085</td><td>17.398</td><td>17.398</td><td>17.398</td><td>17.398</td><td>17.398</td><td>17.398</td><td>17.398</td><td>17.398</td><td>17.398</td><td>17.398</td><td>17.398</td><td>17.398</td><td>17.398</td><td>17.398</td><td>17.398</td><td>17.398</td><td>17.398</td><td>17.398</td><td>17.398</td><td>17.398</td><td>17.398</td><td>17.398</td><td>12.011</td><td>12.011</td><td>12.011</td><td>12.011</td><td>12.011</td><td>12.011</td><td>12.011</td><td>12.011</td><td>12.011</td><td>12.011</td><td>12.011</td><td>12.011</td><td>12.011</td><td>12.011</td><td>12.011</td><td>12.011</td><td>12.011</td><td>12.011</td><td>12.011</td><td>12.011</td><td>12.011</td><td>12.011</td><td>5.3870000000000005</td><td>14.085</td></tr>\n",
       "<tr><td>0.01471</td><td>0.0</td><td>7.0</td><td>0.1313110441</td><td>1.3896008557</td><td>0.131</td><td>-1.835</td><td>3.4233</td><td>4.037</td><td>0</td><td>0.0</td><td>0.545</td><td>0.0</td><td>0.0</td><td>0.0</td><td>0.0</td><td>0.0</td><td>-1</td><td>-4.89e-15</td><td>0.0</td><td>0.7107</td><td>0.2745</td><td>0.002655</td><td>0.0007163</td><td>0.006496</td><td>-1.0</td><td>0.01476</td><td>2650.0</td><td>0</td><td>0</td><td>0</td><td>0</td><td>0.5761</td><td>0.5761</td><td>9.359</td><td>13.884</td><td>17.125</td><td>11.826</td><td>13.884</td><td>13.884</td><td>13.884</td><td>13.884</td><td>13.884</td><td>13.884</td><td>13.884</td><td>13.884</td><td>13.884</td><td>13.884</td><td>13.884</td><td>13.884</td><td>13.884</td><td>13.884</td><td>13.884</td><td>13.884</td><td>13.884</td><td>13.884</td><td>13.884</td><td>13.884</td><td>13.884</td><td>13.884</td><td>17.125</td><td>17.125</td><td>17.125</td><td>17.125</td><td>17.125</td><td>17.125</td><td>17.125</td><td>17.125</td><td>17.125</td><td>17.125</td><td>17.125</td><td>17.125</td><td>17.125</td><td>17.125</td><td>17.125</td><td>17.125</td><td>17.125</td><td>17.125</td><td>17.125</td><td>17.125</td><td>17.125</td><td>17.125</td><td>11.826</td><td>11.826</td><td>11.826</td><td>11.826</td><td>11.826</td><td>11.826</td><td>11.826</td><td>11.826</td><td>11.826</td><td>11.826</td><td>11.826</td><td>11.826</td><td>11.826</td><td>11.826</td><td>11.826</td><td>11.826</td><td>11.826</td><td>11.826</td><td>11.826</td><td>11.826</td><td>11.826</td><td>11.826</td><td>5.2989999999999995</td><td>13.884</td></tr>\n",
       "<tr><td>0.01471</td><td>0.0</td><td>7.0</td><td>0.1400000006</td><td>1.4384526719</td><td>0.14</td><td>-1.795</td><td>3.4276</td><td>4.041</td><td>0</td><td>0.0</td><td>0.545</td><td>0.0</td><td>0.0</td><td>0.0</td><td>0.0</td><td>0.0</td><td>-1</td><td>-5.17e-15</td><td>0.0</td><td>0.7107</td><td>0.2745</td><td>0.002655</td><td>0.0007163</td><td>0.006496</td><td>-1.0</td><td>0.01476</td><td>2676.0</td><td>0</td><td>0</td><td>0</td><td>0</td><td>0.5907</td><td>0.5907</td><td>9.258</td><td>13.724</td><td>16.897</td><td>11.679</td><td>13.724</td><td>13.724</td><td>13.724</td><td>13.724</td><td>13.724</td><td>13.724</td><td>13.724</td><td>13.724</td><td>13.724</td><td>13.724</td><td>13.724</td><td>13.724</td><td>13.724</td><td>13.724</td><td>13.724</td><td>13.724</td><td>13.724</td><td>13.724</td><td>13.724</td><td>13.724</td><td>13.724</td><td>13.724</td><td>16.897</td><td>16.897</td><td>16.897</td><td>16.897</td><td>16.897</td><td>16.897</td><td>16.897</td><td>16.897</td><td>16.897</td><td>16.897</td><td>16.897</td><td>16.897</td><td>16.897</td><td>16.897</td><td>16.897</td><td>16.897</td><td>16.897</td><td>16.897</td><td>16.897</td><td>16.897</td><td>16.897</td><td>16.897</td><td>11.679</td><td>11.679</td><td>11.679</td><td>11.679</td><td>11.679</td><td>11.679</td><td>11.679</td><td>11.679</td><td>11.679</td><td>11.679</td><td>11.679</td><td>11.679</td><td>11.679</td><td>11.679</td><td>11.679</td><td>11.679</td><td>11.679</td><td>11.679</td><td>11.679</td><td>11.679</td><td>11.679</td><td>11.679</td><td>5.217999999999998</td><td>13.724</td></tr>\n",
       "<tr><td>0.01471</td><td>0.0</td><td>7.0</td><td>0.1447792202</td><td>1.4636732996</td><td>0.145</td><td>-1.774</td><td>3.4301</td><td>4.044</td><td>0</td><td>0.0</td><td>0.545</td><td>0.0</td><td>0.0</td><td>0.0</td><td>0.0</td><td>0.0</td><td>-1</td><td>-5.32e-15</td><td>0.0</td><td>0.7107</td><td>0.2745</td><td>0.002655</td><td>0.0007163</td><td>0.006496</td><td>-1.0</td><td>0.01476</td><td>2692.0</td><td>0</td><td>0</td><td>0</td><td>0</td><td>0.599</td><td>0.599</td><td>9.204</td><td>13.635</td><td>16.767</td><td>11.597</td><td>13.635</td><td>13.635</td><td>13.635</td><td>13.635</td><td>13.635</td><td>13.635</td><td>13.635</td><td>13.635</td><td>13.635</td><td>13.635</td><td>13.635</td><td>13.635</td><td>13.635</td><td>13.635</td><td>13.635</td><td>13.635</td><td>13.635</td><td>13.635</td><td>13.635</td><td>13.635</td><td>13.635</td><td>13.635</td><td>16.767</td><td>16.767</td><td>16.767</td><td>16.767</td><td>16.767</td><td>16.767</td><td>16.767</td><td>16.767</td><td>16.767</td><td>16.767</td><td>16.767</td><td>16.767</td><td>16.767</td><td>16.767</td><td>16.767</td><td>16.767</td><td>16.767</td><td>16.767</td><td>16.767</td><td>16.767</td><td>16.767</td><td>16.767</td><td>11.597</td><td>11.597</td><td>11.597</td><td>11.597</td><td>11.597</td><td>11.597</td><td>11.597</td><td>11.597</td><td>11.597</td><td>11.597</td><td>11.597</td><td>11.597</td><td>11.597</td><td>11.597</td><td>11.597</td><td>11.597</td><td>11.597</td><td>11.597</td><td>11.597</td><td>11.597</td><td>11.597</td><td>11.597</td><td>5.17</td><td>13.635</td></tr>\n",
       "<tr><td>...</td><td>...</td><td>...</td><td>...</td><td>...</td><td>...</td><td>...</td><td>...</td><td>...</td><td>...</td><td>...</td><td>...</td><td>...</td><td>...</td><td>...</td><td>...</td><td>...</td><td>...</td><td>...</td><td>...</td><td>...</td><td>...</td><td>...</td><td>...</td><td>...</td><td>...</td><td>...</td><td>...</td><td>...</td><td>...</td><td>...</td><td>...</td><td>...</td><td>...</td><td>...</td><td>...</td><td>...</td><td>...</td><td>...</td><td>...</td><td>...</td><td>...</td><td>...</td><td>...</td><td>...</td><td>...</td><td>...</td><td>...</td><td>...</td><td>...</td><td>...</td><td>...</td><td>...</td><td>...</td><td>...</td><td>...</td><td>...</td><td>...</td><td>...</td><td>...</td><td>...</td><td>...</td><td>...</td><td>...</td><td>...</td><td>...</td><td>...</td><td>...</td><td>...</td><td>...</td><td>...</td><td>...</td><td>...</td><td>...</td><td>...</td><td>...</td><td>...</td><td>...</td><td>...</td><td>...</td><td>...</td><td>...</td><td>...</td><td>...</td><td>...</td><td>...</td><td>...</td><td>...</td><td>...</td><td>...</td><td>...</td><td>...</td><td>...</td><td>...</td><td>...</td><td>...</td><td>...</td><td>...</td><td>...</td><td>...</td><td>...</td><td>...</td><td>...</td><td>...</td><td>...</td><td>...</td></tr>\n",
       "<tr><td>0.01471</td><td>0.0</td><td>7.0</td><td>14.0029592514</td><td>2.6287283273</td><td>13.353</td><td>4.704</td><td>3.5663</td><td>0.077</td><td>0</td><td>0.0</td><td>0.38</td><td>0.0</td><td>0.0</td><td>0.0</td><td>0.0</td><td>0.0</td><td>-1</td><td>-1.01e-07</td><td>0.0</td><td>0.6662</td><td>0.319</td><td>0.001535</td><td>0.00294</td><td>0.005372</td><td>-1.0</td><td>0.01481</td><td>3684.0</td><td>0</td><td>0</td><td>0</td><td>0</td><td>554.2</td><td>554.2</td><td>-6.99</td><td>-3.666</td><td>-1.777</td><td>-5.311</td><td>-3.666</td><td>-3.666</td><td>-3.666</td><td>-3.666</td><td>-3.666</td><td>-3.666</td><td>-3.666</td><td>-3.666</td><td>-3.666</td><td>-3.666</td><td>-3.666</td><td>-3.666</td><td>-3.666</td><td>-3.666</td><td>-3.666</td><td>-3.666</td><td>-3.666</td><td>-3.666</td><td>-3.666</td><td>-3.666</td><td>-3.666</td><td>-3.666</td><td>-1.777</td><td>-1.777</td><td>-1.777</td><td>-1.777</td><td>-1.777</td><td>-1.777</td><td>-1.777</td><td>-1.777</td><td>-1.777</td><td>-1.777</td><td>-1.777</td><td>-1.777</td><td>-1.777</td><td>-1.777</td><td>-1.777</td><td>-1.777</td><td>-1.777</td><td>-1.777</td><td>-1.777</td><td>-1.777</td><td>-1.777</td><td>-1.777</td><td>-5.311</td><td>-5.311</td><td>-5.311</td><td>-5.311</td><td>-5.311</td><td>-5.311</td><td>-5.311</td><td>-5.311</td><td>-5.311</td><td>-5.311</td><td>-5.311</td><td>-5.311</td><td>-5.311</td><td>-5.311</td><td>-5.311</td><td>-5.311</td><td>-5.311</td><td>-5.311</td><td>-5.311</td><td>-5.311</td><td>-5.311</td><td>-5.311</td><td>3.534</td><td>-3.666</td></tr>\n",
       "<tr><td>0.01471</td><td>0.0</td><td>7.0</td><td>14.0029602051</td><td>2.6287283278</td><td>13.352</td><td>4.725</td><td>3.5636</td><td>0.044</td><td>0</td><td>0.0</td><td>0.377</td><td>0.0</td><td>0.0</td><td>0.0</td><td>0.0</td><td>0.0</td><td>-1</td><td>-1.11e-07</td><td>0.0</td><td>0.6662</td><td>0.319</td><td>0.001522</td><td>0.002952</td><td>0.005372</td><td>-1.0</td><td>0.01481</td><td>3660.0</td><td>0</td><td>0</td><td>0</td><td>0</td><td>575.4</td><td>575.4</td><td>-7.044</td><td>-3.687</td><td>-1.76</td><td>-5.346</td><td>-3.687</td><td>-3.687</td><td>-3.687</td><td>-3.687</td><td>-3.687</td><td>-3.687</td><td>-3.687</td><td>-3.687</td><td>-3.687</td><td>-3.687</td><td>-3.687</td><td>-3.687</td><td>-3.687</td><td>-3.687</td><td>-3.687</td><td>-3.687</td><td>-3.687</td><td>-3.687</td><td>-3.687</td><td>-3.687</td><td>-3.687</td><td>-3.687</td><td>-1.76</td><td>-1.76</td><td>-1.76</td><td>-1.76</td><td>-1.76</td><td>-1.76</td><td>-1.76</td><td>-1.76</td><td>-1.76</td><td>-1.76</td><td>-1.76</td><td>-1.76</td><td>-1.76</td><td>-1.76</td><td>-1.76</td><td>-1.76</td><td>-1.76</td><td>-1.76</td><td>-1.76</td><td>-1.76</td><td>-1.76</td><td>-1.76</td><td>-5.346</td><td>-5.346</td><td>-5.346</td><td>-5.346</td><td>-5.346</td><td>-5.346</td><td>-5.346</td><td>-5.346</td><td>-5.346</td><td>-5.346</td><td>-5.346</td><td>-5.346</td><td>-5.346</td><td>-5.346</td><td>-5.346</td><td>-5.346</td><td>-5.346</td><td>-5.346</td><td>-5.346</td><td>-5.346</td><td>-5.346</td><td>-5.346</td><td>3.5860000000000003</td><td>-3.687</td></tr>\n",
       "<tr><td>0.01471</td><td>0.0</td><td>7.0</td><td>14.0029611588</td><td>2.6287283282</td><td>13.35</td><td>4.769</td><td>3.5584</td><td>-0.019</td><td>0</td><td>0.0</td><td>0.368</td><td>0.0</td><td>0.0</td><td>0.0</td><td>0.0</td><td>0.0</td><td>-1</td><td>-1.36e-07</td><td>0.0</td><td>0.6662</td><td>0.319</td><td>0.001487</td><td>0.002995</td><td>0.005372</td><td>-1.0</td><td>0.01482</td><td>3617.0</td><td>0</td><td>0</td><td>0</td><td>0</td><td>619.5</td><td>619.5</td><td>-7.151</td><td>-3.73</td><td>-1.729</td><td>-5.417</td><td>-3.73</td><td>-3.73</td><td>-3.73</td><td>-3.73</td><td>-3.73</td><td>-3.73</td><td>-3.73</td><td>-3.73</td><td>-3.73</td><td>-3.73</td><td>-3.73</td><td>-3.73</td><td>-3.73</td><td>-3.73</td><td>-3.73</td><td>-3.73</td><td>-3.73</td><td>-3.73</td><td>-3.73</td><td>-3.73</td><td>-3.73</td><td>-3.73</td><td>-1.729</td><td>-1.729</td><td>-1.729</td><td>-1.729</td><td>-1.729</td><td>-1.729</td><td>-1.729</td><td>-1.729</td><td>-1.729</td><td>-1.729</td><td>-1.729</td><td>-1.729</td><td>-1.729</td><td>-1.729</td><td>-1.729</td><td>-1.729</td><td>-1.729</td><td>-1.729</td><td>-1.729</td><td>-1.729</td><td>-1.729</td><td>-1.729</td><td>-5.417</td><td>-5.417</td><td>-5.417</td><td>-5.417</td><td>-5.417</td><td>-5.417</td><td>-5.417</td><td>-5.417</td><td>-5.417</td><td>-5.417</td><td>-5.417</td><td>-5.417</td><td>-5.417</td><td>-5.417</td><td>-5.417</td><td>-5.417</td><td>-5.417</td><td>-5.417</td><td>-5.417</td><td>-5.417</td><td>-5.417</td><td>-5.417</td><td>3.6879999999999997</td><td>-3.73</td></tr>\n",
       "<tr><td>0.01471</td><td>0.0</td><td>7.0</td><td>14.0029630661</td><td>2.6287283292</td><td>13.349</td><td>4.793</td><td>3.5555</td><td>-0.055</td><td>0</td><td>0.0</td><td>0.364</td><td>0.0</td><td>0.0</td><td>0.0</td><td>0.0</td><td>0.0</td><td>-1</td><td>-1.54e-07</td><td>0.0</td><td>0.6662</td><td>0.319</td><td>0.001471</td><td>0.003015</td><td>0.005371</td><td>-1.0</td><td>0.01482</td><td>3593.0</td><td>0</td><td>0</td><td>0</td><td>0</td><td>645.8</td><td>645.8</td><td>-7.212</td><td>-3.751</td><td>-1.703</td><td>-5.455</td><td>-3.751</td><td>-3.751</td><td>-3.751</td><td>-3.751</td><td>-3.751</td><td>-3.751</td><td>-3.751</td><td>-3.751</td><td>-3.751</td><td>-3.751</td><td>-3.751</td><td>-3.751</td><td>-3.751</td><td>-3.751</td><td>-3.751</td><td>-3.751</td><td>-3.751</td><td>-3.751</td><td>-3.751</td><td>-3.751</td><td>-3.751</td><td>-3.751</td><td>-1.703</td><td>-1.703</td><td>-1.703</td><td>-1.703</td><td>-1.703</td><td>-1.703</td><td>-1.703</td><td>-1.703</td><td>-1.703</td><td>-1.703</td><td>-1.703</td><td>-1.703</td><td>-1.703</td><td>-1.703</td><td>-1.703</td><td>-1.703</td><td>-1.703</td><td>-1.703</td><td>-1.703</td><td>-1.703</td><td>-1.703</td><td>-1.703</td><td>-5.455</td><td>-5.455</td><td>-5.455</td><td>-5.455</td><td>-5.455</td><td>-5.455</td><td>-5.455</td><td>-5.455</td><td>-5.455</td><td>-5.455</td><td>-5.455</td><td>-5.455</td><td>-5.455</td><td>-5.455</td><td>-5.455</td><td>-5.455</td><td>-5.455</td><td>-5.455</td><td>-5.455</td><td>-5.455</td><td>-5.455</td><td>-5.455</td><td>3.752</td><td>-3.751</td></tr>\n",
       "<tr><td>0.01471</td><td>0.0</td><td>7.0</td><td>14.0029640198</td><td>2.6287283296</td><td>13.346</td><td>4.815</td><td>3.5529</td><td>-0.089</td><td>0</td><td>0.0</td><td>0.361</td><td>0.0</td><td>0.0</td><td>0.0</td><td>0.0</td><td>0.0</td><td>-1</td><td>-1.72e-07</td><td>0.0</td><td>0.6662</td><td>0.319</td><td>0.001458</td><td>0.003031</td><td>0.00537</td><td>-1.0</td><td>0.01482</td><td>3571.0</td><td>0</td><td>0</td><td>0</td><td>0</td><td>671.2</td><td>671.2</td><td>-7.269</td><td>-3.771</td><td>-1.68</td><td>-5.491</td><td>-3.771</td><td>-3.771</td><td>-3.771</td><td>-3.771</td><td>-3.771</td><td>-3.771</td><td>-3.771</td><td>-3.771</td><td>-3.771</td><td>-3.771</td><td>-3.771</td><td>-3.771</td><td>-3.771</td><td>-3.771</td><td>-3.771</td><td>-3.771</td><td>-3.771</td><td>-3.771</td><td>-3.771</td><td>-3.771</td><td>-3.771</td><td>-3.771</td><td>-1.68</td><td>-1.68</td><td>-1.68</td><td>-1.68</td><td>-1.68</td><td>-1.68</td><td>-1.68</td><td>-1.68</td><td>-1.68</td><td>-1.68</td><td>-1.68</td><td>-1.68</td><td>-1.68</td><td>-1.68</td><td>-1.68</td><td>-1.68</td><td>-1.68</td><td>-1.68</td><td>-1.68</td><td>-1.68</td><td>-1.68</td><td>-1.68</td><td>-5.491</td><td>-5.491</td><td>-5.491</td><td>-5.491</td><td>-5.491</td><td>-5.491</td><td>-5.491</td><td>-5.491</td><td>-5.491</td><td>-5.491</td><td>-5.491</td><td>-5.491</td><td>-5.491</td><td>-5.491</td><td>-5.491</td><td>-5.491</td><td>-5.491</td><td>-5.491</td><td>-5.491</td><td>-5.491</td><td>-5.491</td><td>-5.491</td><td>3.811</td><td>-3.771</td></tr>\n",
       "<tr><td>0.01471</td><td>0.0</td><td>7.0</td><td>14.0029649734</td><td>2.6287283301</td><td>13.344</td><td>4.837</td><td>3.5504</td><td>-0.12</td><td>0</td><td>0.0</td><td>0.358</td><td>0.0</td><td>0.0</td><td>0.0</td><td>0.0</td><td>0.0</td><td>-1</td><td>-1.9e-07</td><td>0.0</td><td>0.6662</td><td>0.319</td><td>0.001446</td><td>0.003053</td><td>0.005363</td><td>-1.0</td><td>0.01483</td><td>3551.0</td><td>0</td><td>0</td><td>0</td><td>0</td><td>696.0</td><td>696.0</td><td>-7.322</td><td>-3.791</td><td>-1.661</td><td>-5.525</td><td>-3.791</td><td>-3.791</td><td>-3.791</td><td>-3.791</td><td>-3.791</td><td>-3.791</td><td>-3.791</td><td>-3.791</td><td>-3.791</td><td>-3.791</td><td>-3.791</td><td>-3.791</td><td>-3.791</td><td>-3.791</td><td>-3.791</td><td>-3.791</td><td>-3.791</td><td>-3.791</td><td>-3.791</td><td>-3.791</td><td>-3.791</td><td>-3.791</td><td>-1.661</td><td>-1.661</td><td>-1.661</td><td>-1.661</td><td>-1.661</td><td>-1.661</td><td>-1.661</td><td>-1.661</td><td>-1.661</td><td>-1.661</td><td>-1.661</td><td>-1.661</td><td>-1.661</td><td>-1.661</td><td>-1.661</td><td>-1.661</td><td>-1.661</td><td>-1.661</td><td>-1.661</td><td>-1.661</td><td>-1.661</td><td>-1.661</td><td>-5.525</td><td>-5.525</td><td>-5.525</td><td>-5.525</td><td>-5.525</td><td>-5.525</td><td>-5.525</td><td>-5.525</td><td>-5.525</td><td>-5.525</td><td>-5.525</td><td>-5.525</td><td>-5.525</td><td>-5.525</td><td>-5.525</td><td>-5.525</td><td>-5.525</td><td>-5.525</td><td>-5.525</td><td>-5.525</td><td>-5.525</td><td>-5.525</td><td>3.8640000000000003</td><td>-3.791</td></tr>\n",
       "<tr><td>0.01471</td><td>0.0</td><td>7.0</td><td>14.0029668808</td><td>2.628728331</td><td>13.34</td><td>4.861</td><td>3.5476</td><td>-0.155</td><td>0</td><td>0.0</td><td>0.357</td><td>0.0</td><td>0.0</td><td>0.0</td><td>0.0</td><td>0.0</td><td>-1</td><td>-2.14e-07</td><td>0.0</td><td>0.6661</td><td>0.3191</td><td>0.001441</td><td>0.003066</td><td>0.005355</td><td>-1.0</td><td>0.01482</td><td>3528.0</td><td>0</td><td>0</td><td>0</td><td>0</td><td>725.1</td><td>725.1</td><td>-7.382</td><td>-3.808</td><td>-1.624</td><td>-5.56</td><td>-3.808</td><td>-3.808</td><td>-3.808</td><td>-3.808</td><td>-3.808</td><td>-3.808</td><td>-3.808</td><td>-3.808</td><td>-3.808</td><td>-3.808</td><td>-3.808</td><td>-3.808</td><td>-3.808</td><td>-3.808</td><td>-3.808</td><td>-3.808</td><td>-3.808</td><td>-3.808</td><td>-3.808</td><td>-3.808</td><td>-3.808</td><td>-3.808</td><td>-1.624</td><td>-1.624</td><td>-1.624</td><td>-1.624</td><td>-1.624</td><td>-1.624</td><td>-1.624</td><td>-1.624</td><td>-1.624</td><td>-1.624</td><td>-1.624</td><td>-1.624</td><td>-1.624</td><td>-1.624</td><td>-1.624</td><td>-1.624</td><td>-1.624</td><td>-1.624</td><td>-1.624</td><td>-1.624</td><td>-1.624</td><td>-1.624</td><td>-5.56</td><td>-5.56</td><td>-5.56</td><td>-5.56</td><td>-5.56</td><td>-5.56</td><td>-5.56</td><td>-5.56</td><td>-5.56</td><td>-5.56</td><td>-5.56</td><td>-5.56</td><td>-5.56</td><td>-5.56</td><td>-5.56</td><td>-5.56</td><td>-5.56</td><td>-5.56</td><td>-5.56</td><td>-5.56</td><td>-5.56</td><td>-5.56</td><td>3.9359999999999995</td><td>-3.808</td></tr>\n",
       "<tr><td>0.01471</td><td>0.0</td><td>7.0</td><td>14.0029687881</td><td>2.6287283319</td><td>13.336</td><td>4.883</td><td>3.5451</td><td>-0.187</td><td>0</td><td>0.0</td><td>0.357</td><td>0.0</td><td>0.0</td><td>0.0</td><td>0.0</td><td>0.0</td><td>-1</td><td>-2.38e-07</td><td>0.0</td><td>0.666</td><td>0.3192</td><td>0.001437</td><td>0.003077</td><td>0.005347</td><td>-1.0</td><td>0.01482</td><td>3508.0</td><td>0</td><td>0</td><td>0</td><td>0</td><td>752.8</td><td>752.8</td><td>-7.437</td><td>-3.823</td><td>-1.588</td><td>-5.591</td><td>-3.823</td><td>-3.823</td><td>-3.823</td><td>-3.823</td><td>-3.823</td><td>-3.823</td><td>-3.823</td><td>-3.823</td><td>-3.823</td><td>-3.823</td><td>-3.823</td><td>-3.823</td><td>-3.823</td><td>-3.823</td><td>-3.823</td><td>-3.823</td><td>-3.823</td><td>-3.823</td><td>-3.823</td><td>-3.823</td><td>-3.823</td><td>-3.823</td><td>-1.588</td><td>-1.588</td><td>-1.588</td><td>-1.588</td><td>-1.588</td><td>-1.588</td><td>-1.588</td><td>-1.588</td><td>-1.588</td><td>-1.588</td><td>-1.588</td><td>-1.588</td><td>-1.588</td><td>-1.588</td><td>-1.588</td><td>-1.588</td><td>-1.588</td><td>-1.588</td><td>-1.588</td><td>-1.588</td><td>-1.588</td><td>-1.588</td><td>-5.591</td><td>-5.591</td><td>-5.591</td><td>-5.591</td><td>-5.591</td><td>-5.591</td><td>-5.591</td><td>-5.591</td><td>-5.591</td><td>-5.591</td><td>-5.591</td><td>-5.591</td><td>-5.591</td><td>-5.591</td><td>-5.591</td><td>-5.591</td><td>-5.591</td><td>-5.591</td><td>-5.591</td><td>-5.591</td><td>-5.591</td><td>-5.591</td><td>4.003</td><td>-3.823</td></tr>\n",
       "<tr><td>0.01471</td><td>0.0</td><td>7.0</td><td>14.0029716492</td><td>2.6287283333</td><td>13.33</td><td>4.905</td><td>3.5425</td><td>-0.221</td><td>0</td><td>0.0</td><td>0.357</td><td>0.0</td><td>0.0</td><td>0.0</td><td>0.0</td><td>0.0</td><td>-1</td><td>-2.66e-07</td><td>0.0</td><td>0.6659</td><td>0.3193</td><td>0.001434</td><td>0.003091</td><td>0.005337</td><td>-1.0</td><td>0.01482</td><td>3487.0</td><td>0</td><td>0</td><td>0</td><td>0</td><td>782.4</td><td>782.4</td><td>-7.494</td><td>-3.838</td><td>-1.552</td><td>-5.623</td><td>-3.838</td><td>-3.838</td><td>-3.838</td><td>-3.838</td><td>-3.838</td><td>-3.838</td><td>-3.838</td><td>-3.838</td><td>-3.838</td><td>-3.838</td><td>-3.838</td><td>-3.838</td><td>-3.838</td><td>-3.838</td><td>-3.838</td><td>-3.838</td><td>-3.838</td><td>-3.838</td><td>-3.838</td><td>-3.838</td><td>-3.838</td><td>-3.838</td><td>-1.552</td><td>-1.552</td><td>-1.552</td><td>-1.552</td><td>-1.552</td><td>-1.552</td><td>-1.552</td><td>-1.552</td><td>-1.552</td><td>-1.552</td><td>-1.552</td><td>-1.552</td><td>-1.552</td><td>-1.552</td><td>-1.552</td><td>-1.552</td><td>-1.552</td><td>-1.552</td><td>-1.552</td><td>-1.552</td><td>-1.552</td><td>-1.552</td><td>-5.623</td><td>-5.623</td><td>-5.623</td><td>-5.623</td><td>-5.623</td><td>-5.623</td><td>-5.623</td><td>-5.623</td><td>-5.623</td><td>-5.623</td><td>-5.623</td><td>-5.623</td><td>-5.623</td><td>-5.623</td><td>-5.623</td><td>-5.623</td><td>-5.623</td><td>-5.623</td><td>-5.623</td><td>-5.623</td><td>-5.623</td><td>-5.623</td><td>4.071</td><td>-3.838</td></tr>\n",
       "<tr><td>0.01471</td><td>0.0</td><td>7.0</td><td>14.0029754639</td><td>2.6287283352</td><td>13.328</td><td>4.932</td><td>3.5393</td><td>-0.26</td><td>0</td><td>0.0</td><td>0.357</td><td>0.0</td><td>0.0</td><td>0.0</td><td>0.0</td><td>0.0</td><td>-1</td><td>-3.03e-07</td><td>0.0</td><td>0.6653</td><td>0.3199</td><td>0.001429</td><td>0.003115</td><td>0.005317</td><td>-1.0</td><td>0.01482</td><td>3462.0</td><td>0</td><td>0</td><td>0</td><td>0</td><td>818.8</td><td>818.8</td><td>-7.56</td><td>-3.854</td><td>-1.503</td><td>-5.66</td><td>-3.854</td><td>-3.854</td><td>-3.854</td><td>-3.854</td><td>-3.854</td><td>-3.854</td><td>-3.854</td><td>-3.854</td><td>-3.854</td><td>-3.854</td><td>-3.854</td><td>-3.854</td><td>-3.854</td><td>-3.854</td><td>-3.854</td><td>-3.854</td><td>-3.854</td><td>-3.854</td><td>-3.854</td><td>-3.854</td><td>-3.854</td><td>-3.854</td><td>-1.503</td><td>-1.503</td><td>-1.503</td><td>-1.503</td><td>-1.503</td><td>-1.503</td><td>-1.503</td><td>-1.503</td><td>-1.503</td><td>-1.503</td><td>-1.503</td><td>-1.503</td><td>-1.503</td><td>-1.503</td><td>-1.503</td><td>-1.503</td><td>-1.503</td><td>-1.503</td><td>-1.503</td><td>-1.503</td><td>-1.503</td><td>-1.503</td><td>-5.66</td><td>-5.66</td><td>-5.66</td><td>-5.66</td><td>-5.66</td><td>-5.66</td><td>-5.66</td><td>-5.66</td><td>-5.66</td><td>-5.66</td><td>-5.66</td><td>-5.66</td><td>-5.66</td><td>-5.66</td><td>-5.66</td><td>-5.66</td><td>-5.66</td><td>-5.66</td><td>-5.66</td><td>-5.66</td><td>-5.66</td><td>-5.66</td><td>4.157</td><td>-3.854</td></tr>\n",
       "</table></div>"
      ],
      "text/plain": [
       "<Table length=275>\n",
       "  Zini     MH    logAge      Mini     ... G_RP_i90       BP-RP          Gmag \n",
       "float64 float64 float64    float64    ... float64       float64       float64\n",
       "------- ------- ------- ------------- ... -------- ------------------ -------\n",
       "0.01471     0.0     7.0  0.0900000036 ...   12.488  5.452000000000002  14.573\n",
       "0.01471     0.0     7.0  0.0939977095 ...   12.427  5.452999999999999  14.512\n",
       "0.01471     0.0     7.0  0.1000000015 ...   12.332  5.454999999999998  14.417\n",
       "0.01471     0.0     7.0  0.1048719734 ...   12.262 5.4559999999999995  14.347\n",
       "0.01471     0.0     7.0  0.1131533235 ...   12.129  5.421999999999999  14.208\n",
       "0.01471     0.0     7.0  0.1200000048 ...   12.016  5.389000000000001   14.09\n",
       "0.01471     0.0     7.0  0.1203280166 ...   12.011 5.3870000000000005  14.085\n",
       "0.01471     0.0     7.0  0.1313110441 ...   11.826 5.2989999999999995  13.884\n",
       "0.01471     0.0     7.0  0.1400000006 ...   11.679  5.217999999999998  13.724\n",
       "0.01471     0.0     7.0  0.1447792202 ...   11.597               5.17  13.635\n",
       "    ...     ...     ...           ... ...      ...                ...     ...\n",
       "0.01471     0.0     7.0 14.0029592514 ...   -5.311              3.534  -3.666\n",
       "0.01471     0.0     7.0 14.0029602051 ...   -5.346 3.5860000000000003  -3.687\n",
       "0.01471     0.0     7.0 14.0029611588 ...   -5.417 3.6879999999999997   -3.73\n",
       "0.01471     0.0     7.0 14.0029630661 ...   -5.455              3.752  -3.751\n",
       "0.01471     0.0     7.0 14.0029640198 ...   -5.491              3.811  -3.771\n",
       "0.01471     0.0     7.0 14.0029649734 ...   -5.525 3.8640000000000003  -3.791\n",
       "0.01471     0.0     7.0 14.0029668808 ...    -5.56 3.9359999999999995  -3.808\n",
       "0.01471     0.0     7.0 14.0029687881 ...   -5.591              4.003  -3.823\n",
       "0.01471     0.0     7.0 14.0029716492 ...   -5.623              4.071  -3.838\n",
       "0.01471     0.0     7.0 14.0029754639 ...    -5.66              4.157  -3.854"
      ]
     },
     "execution_count": 41,
     "metadata": {},
     "output_type": "execute_result"
    }
   ],
   "source": [
    "thiso"
   ]
  },
  {
   "cell_type": "code",
   "execution_count": 35,
   "metadata": {},
   "outputs": [
    {
     "data": {
      "text/html": [
       "&lt;Column name=&apos;Gmag&apos; dtype=&apos;float64&apos; length=275&gt;\n",
       "<table>\n",
       "<tr><td>26.078149978319907</td></tr>\n",
       "<tr><td>26.017149978319907</td></tr>\n",
       "<tr><td>25.922149978319908</td></tr>\n",
       "<tr><td>25.852149978319908</td></tr>\n",
       "<tr><td>25.713149978319905</td></tr>\n",
       "<tr><td>25.595149978319906</td></tr>\n",
       "<tr><td>25.590149978319907</td></tr>\n",
       "<tr><td>25.389149978319907</td></tr>\n",
       "<tr><td>25.229149978319906</td></tr>\n",
       "<tr><td>25.140149978319904</td></tr>\n",
       "<tr><td>24.88214997831991</td></tr>\n",
       "<tr><td>24.830149978319906</td></tr>\n",
       "<tr><td>...</td></tr>\n",
       "<tr><td>7.863149978319907</td></tr>\n",
       "<tr><td>7.844149978319907</td></tr>\n",
       "<tr><td>7.839149978319906</td></tr>\n",
       "<tr><td>7.818149978319907</td></tr>\n",
       "<tr><td>7.775149978319906</td></tr>\n",
       "<tr><td>7.754149978319907</td></tr>\n",
       "<tr><td>7.7341499783199055</td></tr>\n",
       "<tr><td>7.714149978319906</td></tr>\n",
       "<tr><td>7.697149978319906</td></tr>\n",
       "<tr><td>7.682149978319906</td></tr>\n",
       "<tr><td>7.667149978319905</td></tr>\n",
       "<tr><td>7.651149978319907</td></tr>\n",
       "</table>"
      ],
      "text/plain": [
       "<Column name='Gmag' dtype='float64' length=275>\n",
       "26.078149978319907\n",
       "26.017149978319907\n",
       "25.922149978319908\n",
       "25.852149978319908\n",
       "25.713149978319905\n",
       "25.595149978319906\n",
       "25.590149978319907\n",
       "25.389149978319907\n",
       "25.229149978319906\n",
       "25.140149978319904\n",
       " 24.88214997831991\n",
       "24.830149978319906\n",
       "               ...\n",
       " 7.863149978319907\n",
       " 7.844149978319907\n",
       " 7.839149978319906\n",
       " 7.818149978319907\n",
       " 7.775149978319906\n",
       " 7.754149978319907\n",
       "7.7341499783199055\n",
       " 7.714149978319906\n",
       " 7.697149978319906\n",
       " 7.682149978319906\n",
       " 7.667149978319905\n",
       " 7.651149978319907"
      ]
     },
     "execution_count": 35,
     "metadata": {},
     "output_type": "execute_result"
    }
   ],
   "source": [
    "thiso['Gmag'] = thiso['Gmag']+ 5*np.log10(2000)-5\n",
    "thiso['Gmag']"
   ]
  },
  {
   "cell_type": "code",
   "execution_count": 65,
   "metadata": {},
   "outputs": [],
   "source": [
    "cl = Cluster(\"Alessi_43\")\n",
    "ra = cl.runaways_all()\n",
    "ra['Temp. Est'] = ra['Teff']\n",
    "ra.write(f\"./Clusters/{cl.name}/{cl.name}_runaways_all.tsv\", format='ascii.ecsv', overwrite=True)"
   ]
  },
  {
   "cell_type": "code",
   "execution_count": 6,
   "metadata": {},
   "outputs": [
    {
     "data": {
      "text/html": [
       "<div><i>Table length=179</i>\n",
       "<table id=\"table134805919967056\" class=\"table-striped table-bordered table-condensed\">\n",
       "<thead><tr><th>RA_ICRS_1</th><th>DE_ICRS_1</th><th>e_RA_ICRS</th><th>e_DE_ICRS</th><th>_r_1</th><th>HIP</th><th>TYC2</th><th>Source</th><th>rgeo</th><th>Plx</th><th>e_Plx</th><th>pmRA</th><th>pmDE</th><th>e_pmRA</th><th>e_pmDE</th><th>RUWE</th><th>Teff</th><th>logg</th><th>Gmag</th><th>BP-RP</th><th>BPmag</th><th>RPmag</th><th>RV</th><th>e_RV</th><th>b_rgeo</th><th>B_rgeo</th><th>FG</th><th>e_FG</th><th>FBP</th><th>e_FBP</th><th>FRP</th><th>e_FRP</th><th>RAVE5</th><th>RAVE6</th><th>e_Gmag</th><th>e_BPmag</th><th>e_RPmag</th><th>e_BP-RP</th><th>SkyCoord</th><th>rmRA</th><th>rmDE</th><th>v_pec</th><th>Temp. Est</th></tr></thead>\n",
       "<thead><tr><th>deg</th><th>deg</th><th>mas</th><th>mas</th><th></th><th></th><th></th><th></th><th>pc</th><th>mas</th><th>mas</th><th>mas / yr</th><th>mas / yr</th><th>mas / yr</th><th>mas / yr</th><th></th><th>K</th><th>log(cm.s**-2)</th><th>mag</th><th>mag</th><th>mag</th><th>mag</th><th>km / s</th><th>km / s</th><th>pc</th><th>pc</th><th></th><th></th><th></th><th></th><th></th><th></th><th></th><th></th><th></th><th></th><th></th><th></th><th>deg,deg,pc</th><th>mas / yr</th><th>mas / yr</th><th>km / s</th><th>K</th></tr></thead>\n",
       "<thead><tr><th>float64</th><th>float64</th><th>float64</th><th>float64</th><th>float64</th><th>int32</th><th>str11</th><th>int64</th><th>float64</th><th>float64</th><th>float32</th><th>float64</th><th>float64</th><th>float32</th><th>float32</th><th>float64</th><th>float64</th><th>float64</th><th>float64</th><th>float64</th><th>float64</th><th>float64</th><th>float64</th><th>float32</th><th>float64</th><th>float64</th><th>float64</th><th>float32</th><th>float32</th><th>float32</th><th>float32</th><th>float32</th><th>str1</th><th>str1</th><th>float64</th><th>float32</th><th>float32</th><th>float32</th><th>SkyCoord</th><th>float64</th><th>float64</th><th>float64</th><th>float64</th></tr></thead>\n",
       "<tr><td>132.98671546278</td><td>-41.67380294722</td><td>0.0076</td><td>0.0094</td><td>16.3689</td><td>--</td><td>7684-947-1</td><td>5524617227420570240</td><td>828.71801800</td><td>1.1916</td><td>0.0106</td><td>8.476</td><td>3.166</td><td>0.010</td><td>0.012</td><td>0.945</td><td>--</td><td>--</td><td>9.615953</td><td>1.578032</td><td>10.358509</td><td>8.780477</td><td>5.27</td><td>0.13</td><td>821.67810100</td><td>834.74066200</td><td>2682658.85519</td><td>486.4</td><td>9.818e+05</td><td>495.1</td><td>2.438e+06</td><td>523.2</td><td>--</td><td>--</td><td>0.002762</td><td>0.002843</td><td>0.003787</td><td>0.00663</td><td>132.98671546278,-41.67380294722,828.718018</td><td>14.006720710754395</td><td>-0.75391925239563</td><td>55.099771647367824</td><td>--</td></tr>\n",
       "<tr><td>132.26918571419</td><td>-41.86012579175</td><td>0.0194</td><td>0.0219</td><td>17.6322</td><td>--</td><td>--</td><td>5524602036116091520</td><td>814.32153300</td><td>1.1904</td><td>0.0254</td><td>-10.707</td><td>7.029</td><td>0.026</td><td>0.029</td><td>1.723</td><td>8231.5</td><td>4.0056</td><td>11.258210</td><td>0.356719</td><td>11.384149</td><td>11.027430</td><td>31.10</td><td>2.85</td><td>796.94012500</td><td>831.44531200</td><td>591102.51261</td><td>175.7</td><td>3.817e+05</td><td>229</td><td>3.077e+05</td><td>96.41</td><td>--</td><td>--</td><td>0.002774</td><td>0.002865</td><td>0.003795</td><td>0.00666</td><td>132.26918571419,-41.86012579175,814.321533</td><td>-5.176279289245606</td><td>3.10908074760437</td><td>23.30687698503049</td><td>8231.5</td></tr>\n",
       "<tr><td>133.04493592329</td><td>-41.59435475046</td><td>0.0241</td><td>0.0283</td><td>20.7259</td><td>--</td><td>7684-653-1</td><td>5524617914615284992</td><td>979.94305400</td><td>1.0132</td><td>0.0324</td><td>-0.307</td><td>7.280</td><td>0.029</td><td>0.034</td><td>2.451</td><td>--</td><td>--</td><td>11.336214</td><td>1.615958</td><td>12.098172</td><td>10.482214</td><td>26.91</td><td>0.22</td><td>947.73254400</td><td>1010.28107000</td><td>550124.88210</td><td>174.1</td><td>1.978e+05</td><td>106.3</td><td>5.085e+05</td><td>146.3</td><td>--</td><td>--</td><td>0.002777</td><td>0.002851</td><td>0.003792</td><td>0.006643</td><td>133.04493592329,-41.59435475046,979.943054</td><td>5.223720710754394</td><td>3.3600807476043704</td><td>28.849989642023935</td><td>--</td></tr>\n",
       "<tr><td>132.73410499438</td><td>-41.84178400134</td><td>0.0099</td><td>0.0105</td><td>6.2903</td><td>--</td><td>--</td><td>5524590426825145856</td><td>1018.10675000</td><td>0.9673</td><td>0.0125</td><td>0.455</td><td>-1.558</td><td>0.014</td><td>0.014</td><td>1.012</td><td>--</td><td>--</td><td>11.569294</td><td>1.596606</td><td>12.318983</td><td>10.722377</td><td>17.29</td><td>0.22</td><td>1003.93256000</td><td>1031.12170000</td><td>443842.79468</td><td>134.2</td><td>1.614e+05</td><td>129.4</td><td>4.076e+05</td><td>174.6</td><td>--</td><td>--</td><td>0.002775</td><td>0.002923</td><td>0.003808</td><td>0.006731</td><td>132.73410499438,-41.84178400134,1018.10675</td><td>5.985720710754395</td><td>-5.47791925239563</td><td>39.156590279772615</td><td>--</td></tr>\n",
       "<tr><td>132.59406399603</td><td>-42.09002153710</td><td>0.0079</td><td>0.0094</td><td>19.7340</td><td>--</td><td>--</td><td>5524580526922315776</td><td>967.59924300</td><td>1.0075</td><td>0.0104</td><td>-1.221</td><td>-0.708</td><td>0.011</td><td>0.012</td><td>0.895</td><td>--</td><td>--</td><td>11.824070</td><td>0.888767</td><td>12.178180</td><td>11.289412</td><td>6.41</td><td>4.58</td><td>955.04718000</td><td>978.97412100</td><td>351009.54390</td><td>43.63</td><td>1.837e+05</td><td>94.49</td><td>2.418e+05</td><td>69.53</td><td>--</td><td>--</td><td>0.002759</td><td>0.002845</td><td>0.003792</td><td>0.006638</td><td>132.59406399603,-42.0900215371,967.599243</td><td>4.3097207107543944</td><td>-4.62791925239563</td><td>29.003925519374672</td><td>--</td></tr>\n",
       "<tr><td>133.00847043200</td><td>-41.59308957469</td><td>0.0081</td><td>0.0098</td><td>19.3563</td><td>--</td><td>7684-575-1</td><td>5524618155133464576</td><td>811.05267300</td><td>1.2004</td><td>0.0111</td><td>-0.255</td><td>2.102</td><td>0.010</td><td>0.012</td><td>0.964</td><td>--</td><td>--</td><td>12.213220</td><td>0.457366</td><td>12.382430</td><td>11.925064</td><td>11.78</td><td>3.30</td><td>803.58398400</td><td>818.88946500</td><td>245278.17556</td><td>38.01</td><td>1.522e+05</td><td>64.06</td><td>1.346e+05</td><td>37.87</td><td>--</td><td>--</td><td>0.00276</td><td>0.002827</td><td>0.003792</td><td>0.006619</td><td>133.008470432,-41.59308957469,811.052673</td><td>5.275720710754395</td><td>-1.81791925239563</td><td>21.452265989142795</td><td>--</td></tr>\n",
       "<tr><td>132.87533316669</td><td>-41.69470930427</td><td>0.0068</td><td>0.0081</td><td>11.2519</td><td>--</td><td>--</td><td>5524616261047795200</td><td>852.32055700</td><td>1.1546</td><td>0.0090</td><td>-11.087</td><td>2.875</td><td>0.009</td><td>0.010</td><td>0.864</td><td>5947.3</td><td>3.7638</td><td>12.487675</td><td>0.887664</td><td>12.844776</td><td>11.957112</td><td>46.70</td><td>1.21</td><td>845.25250200</td><td>859.78521700</td><td>190492.02971</td><td>28.59</td><td>9.943e+04</td><td>69.04</td><td>1.307e+05</td><td>47.97</td><td>--</td><td>--</td><td>0.00276</td><td>0.00289</td><td>0.0038</td><td>0.006691</td><td>132.87533316669,-41.69470930427,852.320557</td><td>-5.556279289245605</td><td>-1.0449192523956299</td><td>22.84086340674451</td><td>5947.3</td></tr>\n",
       "<tr><td>132.61000098041</td><td>-41.54121706697</td><td>0.0077</td><td>0.0088</td><td>13.3811</td><td>--</td><td>--</td><td>5524610458552201472</td><td>894.27368200</td><td>1.0954</td><td>0.0101</td><td>-15.826</td><td>12.544</td><td>0.010</td><td>0.011</td><td>1.000</td><td>--</td><td>--</td><td>12.577625</td><td>0.760202</td><td>12.872737</td><td>12.112535</td><td>--</td><td>--</td><td>885.06213400</td><td>901.41918900</td><td>175346.30748</td><td>23.81</td><td>9.69e+04</td><td>53.97</td><td>1.133e+05</td><td>31.75</td><td>--</td><td>--</td><td>0.002759</td><td>0.002855</td><td>0.003792</td><td>0.006647</td><td>132.61000098041,-41.54121706697,894.273682</td><td>-10.295279289245606</td><td>8.62408074760437</td><td>56.92827022026364</td><td>--</td></tr>\n",
       "<tr><td>132.31976085909</td><td>-41.62273728465</td><td>0.0126</td><td>0.0133</td><td>16.6845</td><td>--</td><td>--</td><td>5525356644688904960</td><td>817.28051800</td><td>1.2124</td><td>0.0159</td><td>-11.717</td><td>2.578</td><td>0.018</td><td>0.018</td><td>1.278</td><td>5431.0</td><td>3.6899</td><td>12.914803</td><td>1.144585</td><td>13.404866</td><td>12.260282</td><td>-6.42</td><td>2.33</td><td>805.32177700</td><td>826.59381100</td><td>128536.23326</td><td>20.5</td><td>5.936e+04</td><td>28.43</td><td>9.887e+04</td><td>29.62</td><td>--</td><td>--</td><td>0.002761</td><td>0.002838</td><td>0.003793</td><td>0.006632</td><td>132.31976085909,-41.62273728465,817.280518</td><td>-6.186279289245606</td><td>-1.34191925239563</td><td>24.522429113438992</td><td>5431.0</td></tr>\n",
       "<tr><td>...</td><td>...</td><td>...</td><td>...</td><td>...</td><td>...</td><td>...</td><td>...</td><td>...</td><td>...</td><td>...</td><td>...</td><td>...</td><td>...</td><td>...</td><td>...</td><td>...</td><td>...</td><td>...</td><td>...</td><td>...</td><td>...</td><td>...</td><td>...</td><td>...</td><td>...</td><td>...</td><td>...</td><td>...</td><td>...</td><td>...</td><td>...</td><td>...</td><td>...</td><td>...</td><td>...</td><td>...</td><td>...</td><td>...</td><td>...</td><td>...</td><td>...</td><td>...</td></tr>\n",
       "<tr><td>132.29764555645</td><td>-41.74008554248</td><td>0.0402</td><td>0.0433</td><td>15.4445</td><td>--</td><td>--</td><td>5524603620964411776</td><td>912.60125700</td><td>1.0838</td><td>0.0520</td><td>0.344</td><td>2.355</td><td>0.054</td><td>0.055</td><td>1.008</td><td>--</td><td>--</td><td>16.853256</td><td>1.657384</td><td>17.109156</td><td>15.451772</td><td>--</td><td>--</td><td>871.33172600</td><td>958.66650400</td><td>3416.99132</td><td>4.524</td><td>1958</td><td>55.22</td><td>5229</td><td>98.25</td><td>--</td><td>--</td><td>0.003108</td><td>0.03075</td><td>0.02075</td><td>0.0515</td><td>132.29764555645,-41.74008554248,912.601257</td><td>5.874720710754395</td><td>-1.56491925239563</td><td>26.298629421810833</td><td>--</td></tr>\n",
       "<tr><td>132.67635051527</td><td>-42.01357389993</td><td>0.0410</td><td>0.0473</td><td>15.1153</td><td>--</td><td>--</td><td>5524582695884388096</td><td>1082.63220000</td><td>0.9231</td><td>0.0533</td><td>-4.916</td><td>-0.446</td><td>0.054</td><td>0.059</td><td>1.089</td><td>4750.7</td><td>4.6220</td><td>16.856266</td><td>1.489365</td><td>17.542938</td><td>16.053574</td><td>--</td><td>--</td><td>1020.61871000</td><td>1146.92175000</td><td>3407.53271</td><td>2.085</td><td>1313</td><td>8.438</td><td>3004</td><td>11.09</td><td>--</td><td>--</td><td>0.002834</td><td>0.007515</td><td>0.005509</td><td>0.01302</td><td>132.67635051527,-42.01357389993,1082.6322</td><td>0.6147207107543942</td><td>-4.36591925239563</td><td>22.62547581534334</td><td>4750.7</td></tr>\n",
       "<tr><td>132.98284579525</td><td>-41.79199689608</td><td>0.0388</td><td>0.0444</td><td>15.3805</td><td>--</td><td>--</td><td>5524568196074875008</td><td>940.75634800</td><td>1.0469</td><td>0.0500</td><td>0.312</td><td>-3.941</td><td>0.056</td><td>0.058</td><td>0.939</td><td>4913.1</td><td>4.6395</td><td>16.866598</td><td>1.509508</td><td>17.563180</td><td>16.053673</td><td>--</td><td>--</td><td>902.61590600</td><td>1005.11560000</td><td>3375.26277</td><td>1.901</td><td>1289</td><td>8.693</td><td>3004</td><td>12.67</td><td>--</td><td>--</td><td>0.002822</td><td>0.007837</td><td>0.005938</td><td>0.01378</td><td>132.98284579525,-41.79199689608,940.756348</td><td>5.842720710754395</td><td>-7.86091925239563</td><td>43.675307739412204</td><td>4913.1</td></tr>\n",
       "<tr><td>132.63564276481</td><td>-41.86385122589</td><td>0.0383</td><td>0.0430</td><td>6.0560</td><td>--</td><td>--</td><td>5524593141244159616</td><td>1002.22168000</td><td>0.9822</td><td>0.0493</td><td>6.187</td><td>-11.748</td><td>0.049</td><td>0.049</td><td>0.955</td><td>4793.8</td><td>4.6511</td><td>16.881853</td><td>1.538332</td><td>17.594204</td><td>16.055872</td><td>--</td><td>--</td><td>961.40393100</td><td>1035.55042000</td><td>3328.17065</td><td>2.07</td><td>1252</td><td>8.155</td><td>2998</td><td>10.09</td><td>--</td><td>--</td><td>0.002837</td><td>0.0076</td><td>0.005257</td><td>0.01286</td><td>132.63564276481,-41.86385122589,1002.22168</td><td>11.717720710754396</td><td>-15.66791925239563</td><td>92.94406728875938</td><td>4793.8</td></tr>\n",
       "<tr><td>132.46775934193</td><td>-41.87646397795</td><td>0.0479</td><td>0.0466</td><td>10.3229</td><td>--</td><td>--</td><td>5524599665295342208</td><td>1078.06409000</td><td>0.9090</td><td>0.0576</td><td>-7.240</td><td>10.844</td><td>0.059</td><td>0.059</td><td>1.072</td><td>5023.4</td><td>4.3579</td><td>16.895916</td><td>1.723626</td><td>17.718758</td><td>15.995131</td><td>--</td><td>--</td><td>1011.98627000</td><td>1151.58447000</td><td>3285.34191</td><td>2.322</td><td>1117</td><td>8.975</td><td>3170</td><td>11.39</td><td>--</td><td>--</td><td>0.00286</td><td>0.009162</td><td>0.005431</td><td>0.01459</td><td>132.46775934193,-41.87646397795,1078.06409</td><td>-1.7092792892456057</td><td>6.9240807476043695</td><td>36.44436933239407</td><td>5023.4</td></tr>\n",
       "<tr><td>132.29792999061</td><td>-41.74030884776</td><td>0.0573</td><td>0.0546</td><td>15.4306</td><td>--</td><td>--</td><td>5524603620958977280</td><td>1040.32422000</td><td>0.9515</td><td>0.0638</td><td>0.702</td><td>2.861</td><td>0.076</td><td>0.069</td><td>1.132</td><td>--</td><td>--</td><td>16.912370</td><td>1.973895</td><td>17.327238</td><td>15.353343</td><td>--</td><td>--</td><td>985.32861300</td><td>1130.75342000</td><td>3235.92455</td><td>7.016</td><td>1602</td><td>32.12</td><td>5726</td><td>97.5</td><td>--</td><td>--</td><td>0.003624</td><td>0.02195</td><td>0.01887</td><td>0.04082</td><td>132.29792999061,-41.74030884776,1040.32422</td><td>6.2327207107543945</td><td>-1.0589192523956297</td><td>31.174815908178832</td><td>--</td></tr>\n",
       "<tr><td>133.41143190101</td><td>-41.73259607689</td><td>0.0414</td><td>0.0450</td><td>34.5227</td><td>--</td><td>--</td><td>5524560430773338624</td><td>808.61712600</td><td>1.2068</td><td>0.0551</td><td>11.406</td><td>-0.019</td><td>0.058</td><td>0.057</td><td>1.088</td><td>4396.3</td><td>4.6268</td><td>16.930456</td><td>1.512735</td><td>17.643060</td><td>16.130325</td><td>--</td><td>--</td><td>775.22705100</td><td>851.03210400</td><td>3182.46803</td><td>1.887</td><td>1197</td><td>9.361</td><td>2799</td><td>12.87</td><td>--</td><td>--</td><td>0.00283</td><td>0.008936</td><td>0.006261</td><td>0.0152</td><td>133.41143190101,-41.73259607689,808.617126</td><td>16.936720710754393</td><td>-3.93891925239563</td><td>66.64827270048366</td><td>4396.3</td></tr>\n",
       "<tr><td>132.45009628054</td><td>-41.56932261795</td><td>0.0395</td><td>0.0420</td><td>14.4395</td><td>--</td><td>--</td><td>5524612275319732096</td><td>1034.96643000</td><td>0.9567</td><td>0.0515</td><td>-9.501</td><td>6.977</td><td>0.051</td><td>0.051</td><td>0.941</td><td>5270.7</td><td>4.6389</td><td>16.940590</td><td>1.767672</td><td>17.793194</td><td>16.025522</td><td>--</td><td>--</td><td>978.60400400</td><td>1075.76880000</td><td>3152.90343</td><td>2.345</td><td>1043</td><td>7.184</td><td>3083</td><td>8.637</td><td>--</td><td>--</td><td>0.002871</td><td>0.007984</td><td>0.004852</td><td>0.01284</td><td>132.45009628054,-41.56932261795,1034.96643</td><td>-3.970279289245605</td><td>3.0570807476043704</td><td>24.582050439459156</td><td>5270.7</td></tr>\n",
       "<tr><td>132.93008170420</td><td>-41.56080981552</td><td>0.0412</td><td>0.0455</td><td>17.7407</td><td>--</td><td>--</td><td>5524621694186533120</td><td>907.07110600</td><td>1.0919</td><td>0.0540</td><td>1.637</td><td>-0.031</td><td>0.049</td><td>0.058</td><td>1.077</td><td>4771.8</td><td>4.3428</td><td>16.947960</td><td>1.770035</td><td>17.799190</td><td>16.029156</td><td>--</td><td>--</td><td>862.29205300</td><td>956.36554000</td><td>3131.57709</td><td>1.818</td><td>1037</td><td>8.727</td><td>3072</td><td>8.624</td><td>--</td><td>--</td><td>0.002827</td><td>0.009555</td><td>0.004855</td><td>0.01441</td><td>132.9300817042,-41.56080981552,907.071106</td><td>7.167720710754395</td><td>-3.95091925239563</td><td>35.18938222961939</td><td>4771.8</td></tr>\n",
       "<tr><td>132.39382614373</td><td>-41.59245346158</td><td>0.0395</td><td>0.0411</td><td>15.0903</td><td>--</td><td>--</td><td>5524612107819728128</td><td>937.15246600</td><td>1.0363</td><td>0.0498</td><td>9.708</td><td>-11.662</td><td>0.054</td><td>0.050</td><td>1.023</td><td>4541.4</td><td>4.4456</td><td>16.978628</td><td>1.554688</td><td>17.702179</td><td>16.147491</td><td>--</td><td>--</td><td>904.71972700</td><td>981.09027100</td><td>3044.35450</td><td>1.724</td><td>1134</td><td>7.104</td><td>2755</td><td>8.696</td><td>--</td><td>--</td><td>0.002823</td><td>0.007353</td><td>0.005102</td><td>0.01245</td><td>132.39382614373,-41.59245346158,937.152466</td><td>15.238720710754395</td><td>-15.58191925239563</td><td>96.81489350658131</td><td>4541.4</td></tr>\n",
       "</table></div>"
      ],
      "text/plain": [
       "<Table length=179>\n",
       "   RA_ICRS_1       DE_ICRS_1    e_RA_ICRS ...       v_pec        Temp. Est\n",
       "      deg             deg          mas    ...       km / s           K    \n",
       "    float64         float64      float64  ...      float64        float64 \n",
       "--------------- --------------- --------- ... ------------------ ---------\n",
       "132.98671546278 -41.67380294722    0.0076 ... 55.099771647367824        --\n",
       "132.26918571419 -41.86012579175    0.0194 ...  23.30687698503049    8231.5\n",
       "133.04493592329 -41.59435475046    0.0241 ... 28.849989642023935        --\n",
       "132.73410499438 -41.84178400134    0.0099 ... 39.156590279772615        --\n",
       "132.59406399603 -42.09002153710    0.0079 ... 29.003925519374672        --\n",
       "133.00847043200 -41.59308957469    0.0081 ... 21.452265989142795        --\n",
       "132.87533316669 -41.69470930427    0.0068 ...  22.84086340674451    5947.3\n",
       "132.61000098041 -41.54121706697    0.0077 ...  56.92827022026364        --\n",
       "132.31976085909 -41.62273728465    0.0126 ... 24.522429113438992    5431.0\n",
       "            ...             ...       ... ...                ...       ...\n",
       "132.29764555645 -41.74008554248    0.0402 ... 26.298629421810833        --\n",
       "132.67635051527 -42.01357389993    0.0410 ...  22.62547581534334    4750.7\n",
       "132.98284579525 -41.79199689608    0.0388 ... 43.675307739412204    4913.1\n",
       "132.63564276481 -41.86385122589    0.0383 ...  92.94406728875938    4793.8\n",
       "132.46775934193 -41.87646397795    0.0479 ...  36.44436933239407    5023.4\n",
       "132.29792999061 -41.74030884776    0.0573 ... 31.174815908178832        --\n",
       "133.41143190101 -41.73259607689    0.0414 ...  66.64827270048366    4396.3\n",
       "132.45009628054 -41.56932261795    0.0395 ... 24.582050439459156    5270.7\n",
       "132.93008170420 -41.56080981552    0.0412 ...  35.18938222961939    4771.8\n",
       "132.39382614373 -41.59245346158    0.0395 ...  96.81489350658131    4541.4"
      ]
     },
     "execution_count": 6,
     "metadata": {},
     "output_type": "execute_result"
    }
   ],
   "source": [
    "from runaway_functionsv2 import theoretical_isochrone\n",
    "cl = Cluster(\"Alessi_43\")\n",
    "ra = cl.runaways_all()\n",
    "ra['Temp. Est'] = ra['Teff']\n",
    "ra\n"
   ]
  },
  {
   "cell_type": "code",
   "execution_count": 61,
   "metadata": {},
   "outputs": [
    {
     "name": "stderr",
     "output_type": "stream",
     "text": [
      "/usr/lib/python3/dist-packages/erfa/core.py:154: ErfaWarning: ERFA function \"taiutc\" yielded 1 of \"dubious year (Note 4)\"\n",
      "  warnings.warn('ERFA function \"{}\" yielded {}'.format(func_name, wmsg),\n"
     ]
    }
   ],
   "source": [
    "from astropy.wcs import WCS\n",
    "from astropy.io import fits\n",
    "from astropy import units as u\n",
    "from astropy.table import Table\n",
    "from astropy.time import Time\n",
    "import matplotlib.pyplot as plt\n",
    "from astropy.coordinates import SkyCoord, Angle\n",
    "from regions import CircleSkyRegion,PixCoord, PointSkyRegion, PointPixelRegion, LineSkyRegion, LinePixelRegion\n",
    "%matplotlib qt\n",
    "allrun = cl.runaways_all()[:]\n",
    "allrun_coord_now = SkyCoord(ra=allrun['RA_ICRS_1'], \n",
    "                        dec=allrun['DE_ICRS_1'],\n",
    "                        distance=allrun['rgeo'], \n",
    "                        pm_ra_cosdec=allrun['rmRA'],\n",
    "                        pm_dec=allrun['rmDE'],\n",
    "                        obstime=Time('J2000')+500*u.kyr)\n",
    "\n",
    "allrun_coord_earlier = allrun_coord_now.apply_space_motion(dt=-100*u.kyr)\n",
    "\n",
    "\n",
    "with fits.open('./Clusters/Basel_8/Basel_8_extra10pc.fits') as fits_file:\n",
    "    image = fits_file[0]\n",
    "    wcs = WCS(image.header)\n",
    "    fig, ax = plt.subplots(subplot_kw={'projection': wcs}, figsize=(8, 8))\n",
    "    ax.imshow(image.data, \n",
    "              cmap='gray')\n",
    "    ax.set_xlabel('Right Ascension (hms)')\n",
    "    ax.set_ylabel('Declination (degrees)')\n",
    "\n",
    "    c = SkyCoord(\"98.5582 +8.0381\", distance=1456, unit=(u.deg ,u.deg, u.pc))\n",
    "    radius = Angle(0.3, 'deg')\n",
    "    region = CircleSkyRegion(c,radius)\n",
    "    region_pix = region.to_pixel(wcs)\n",
    "    region_pix.plot(ax=ax, \n",
    "                    color='red', \n",
    "                    lw=2)\n",
    "    \n",
    "    start_skys = allrun_coord_now\n",
    "    end_skys = allrun_coord_earlier\n",
    "\n",
    "    region_sky = [LineSkyRegion(start=start_sky, end=end_sky) for start_sky,end_sky in zip(allrun_coord_now,allrun_coord_earlier)]\n",
    "    region_sky_pix = [region_sky_.to_pixel(wcs) for region_sky_ in region_sky]\n",
    "    for c in allrun_coord_now:\n",
    "        point_sky = PointSkyRegion(center=c)\n",
    "        point_pix = point_sky.to_pixel(wcs)\n",
    "        point_pix.plot(ax=ax,\n",
    "                       color='yellow')\n",
    "    for region_pix in region_sky_pix:\n",
    "        region_pix.plot(ax=ax,\n",
    "                        color='cyan')"
   ]
  },
  {
   "cell_type": "code",
   "execution_count": 37,
   "metadata": {},
   "outputs": [],
   "source": [
    "dias2021 = Table.read(\"dias2021.tsv\", format=\"ascii.ecsv\")\n",
    "maskplx = dias2021['Plx'] > 0.3\n",
    "maskage = dias2021['logage'] < 7.7\n",
    "workclusters = []\n",
    "for clustername in dias2021[maskplx & maskage][:]['Cluster']:\n",
    "    if clustername not in ['ASCC_79','BH_164','BH_23','Collinder_135','Collinder_140','Gulliver_9','IC_2391','IC_2602','Mamajek_1','Platais_8','UPK_535','UPK_606','UPK_640','Berkeley_59','COIN-Gaia_37','Ivanov_4','LP_1937','Sigma_Ori','UBC_632']:\n",
    "        workclusters.append(clustername)\n",
    "        # print(clustername)\n",
    "        # cl = Cluster(clustername)\n",
    "        # cl.prepare_trace()\n",
    "# cl.stars_in_region()\n",
    "# cl.stars_in_region()"
   ]
  },
  {
   "cell_type": "code",
   "execution_count": null,
   "metadata": {},
   "outputs": [],
   "source": [
    "workclusters_mask = [cluster in workclusters for cluster in dias2021['Cluster']]\n",
    "workclusterstable = dias2021[workclusters_mask]\n",
    "\n",
    "rvexists = workclusterstable['RV'].mask\n",
    "nrvgood = workclusterstable['NRV'] > 4\n",
    "\n",
    "workclusterstable[~rvexists & nrvgood]"
   ]
  },
  {
   "cell_type": "code",
   "execution_count": null,
   "metadata": {},
   "outputs": [],
   "source": [
    "def runaways_from(clustername):\n",
    "    cl = Cluster(clustername)\n",
    "    fs4giesler = cl.fast_stars_in_region()\n",
    "    outputs = os.listdir(f\"/home/surodeep/suro_aiu/traceback/cluster_runaway/{cl.name}/runaways/\")\n",
    "    linenos = []\n",
    "    for output in outputs:\n",
    "        #print(output)\n",
    "        if 'run' in output:\n",
    "            linenos.append(int(output.split(\"+\")[1].replace(\".out\",\"\")))\n",
    "    linenos.sort()\n",
    "    # print(linenos)\n",
    "    i=np.array(linenos)-3\n",
    "    def source_of(lineno, input_table):\n",
    "        return input_table[lineno-2]['Source']\n",
    "    return fs4giesler[i]\n",
    "for cluster in workclusters:\n",
    "    t = runaways_from(cluster)[runaways_from(cluster)['Teff'].argmax()]['Teff']\n",
    "    \n",
    "    if t>10000:\n",
    "        print(cluster, t,runaways_from(cluster)[runaways_from(cluster)['Teff'].argmax()]['Source'])"
   ]
  }
 ],
 "metadata": {
  "kernelspec": {
   "display_name": "Python 3",
   "language": "python",
   "name": "python3"
  },
  "language_info": {
   "codemirror_mode": {
    "name": "ipython",
    "version": 3
   },
   "file_extension": ".py",
   "mimetype": "text/x-python",
   "name": "python",
   "nbconvert_exporter": "python",
   "pygments_lexer": "ipython3",
   "version": "3.11.6"
  }
 },
 "nbformat": 4,
 "nbformat_minor": 2
}
