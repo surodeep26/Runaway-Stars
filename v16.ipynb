{
 "cells": [
  {
   "cell_type": "code",
   "execution_count": 81,
   "metadata": {},
   "outputs": [],
   "source": [
    "%run runaway_functionsv3\n",
    "%matplotlib qt\n",
    "cl = Cluster('Alessi_Teutsch_5')\n",
    "# print(latex_text(cl))"
   ]
  },
  {
   "cell_type": "code",
   "execution_count": 44,
   "metadata": {},
   "outputs": [
    {
     "data": {
      "text/html": [
       "<i>Row index=0</i>\n",
       "<table id=\"table138395994184080\">\n",
       "<thead><tr><th>Cluster</th><th>RA_ICRS</th><th>DE_ICRS</th><th>r50</th><th>N</th><th>pmRA</th><th>e_pmRA</th><th>pmDE</th><th>e_pmDE</th><th>Plx</th><th>e_Plx</th><th>RV</th><th>e_RV</th><th>NRV</th><th>Dist</th><th>e_Dist</th><th>logage</th><th>e_logage</th><th>__Fe_H_</th><th>e__Fe_H_</th><th>Av</th><th>e_Av</th><th>FileName</th><th>SimbadName</th><th>_RA.icrs</th><th>_DE.icrs</th></tr></thead>\n",
       "<thead><tr><th></th><th>deg</th><th>deg</th><th>deg</th><th></th><th>mas / yr</th><th>mas / yr</th><th>mas / yr</th><th>mas / yr</th><th>mas</th><th>mas</th><th>km / s</th><th>km / s</th><th></th><th>pc</th><th>pc</th><th>log(yr)</th><th>log(yr)</th><th></th><th></th><th>mag</th><th>mag</th><th></th><th></th><th>deg</th><th>deg</th></tr></thead>\n",
       "<thead><tr><th>str17</th><th>float64</th><th>float64</th><th>float32</th><th>int16</th><th>float32</th><th>float32</th><th>float32</th><th>float32</th><th>float32</th><th>float32</th><th>float64</th><th>float32</th><th>int16</th><th>int16</th><th>int16</th><th>float32</th><th>float32</th><th>float32</th><th>float32</th><th>float32</th><th>float32</th><th>str31</th><th>str31</th><th>float64</th><th>float64</th></tr></thead>\n",
       "<tr><td>Alessi_Teutsch_5</td><td>332.2744</td><td>61.0962</td><td>0.337</td><td>147</td><td>-1.943</td><td>0.410</td><td>-3.205</td><td>0.221</td><td>1.127</td><td>0.064</td><td>--</td><td>--</td><td>--</td><td>869</td><td>14</td><td>7.071</td><td>0.054</td><td>-0.053</td><td>0.096</td><td>1.253</td><td>0.076</td><td>clusters1/Alessi_Teutsch_5.dat</td><td>Name Alessi-Teutsch 5</td><td>332.2744</td><td>61.0962</td></tr>\n",
       "</table>"
      ],
      "text/plain": [
       "<Row index=0>\n",
       "    Cluster      RA_ICRS  DE_ICRS    r50     N     pmRA    e_pmRA    pmDE    e_pmDE    Plx    e_Plx     RV     e_RV   NRV   Dist e_Dist  logage e_logage __Fe_H_ e__Fe_H_    Av     e_Av             FileName                  SimbadName      _RA.icrs _DE.icrs\n",
       "                   deg      deg      deg         mas / yr mas / yr mas / yr mas / yr   mas     mas    km / s  km / s         pc    pc   log(yr) log(yr)                     mag     mag                                                          deg      deg   \n",
       "     str17       float64  float64  float32 int16 float32  float32  float32  float32  float32 float32 float64 float32 int16 int16 int16  float32 float32  float32 float32  float32 float32             str31                      str31         float64  float64 \n",
       "---------------- -------- -------- ------- ----- -------- -------- -------- -------- ------- ------- ------- ------- ----- ----- ------ ------- -------- ------- -------- ------- ------- ------------------------------ --------------------- -------- --------\n",
       "Alessi_Teutsch_5 332.2744  61.0962   0.337   147   -1.943    0.410   -3.205    0.221   1.127   0.064      --      --    --   869     14   7.071    0.054  -0.053    0.096   1.253   0.076 clusters1/Alessi_Teutsch_5.dat Name Alessi-Teutsch 5 332.2744  61.0962"
      ]
     },
     "execution_count": 44,
     "metadata": {},
     "output_type": "execute_result"
    }
   ],
   "source": [
    "cld = ClusterDias(cl.name)\n",
    "cld.all"
   ]
  },
  {
   "cell_type": "code",
   "execution_count": 74,
   "metadata": {},
   "outputs": [],
   "source": [
    "plot_cmd = cl.plot_cmd()"
   ]
  },
  {
   "cell_type": "code",
   "execution_count": 69,
   "metadata": {},
   "outputs": [],
   "source": [
    "show_annotation_manager(plot_cmd)"
   ]
  },
  {
   "cell_type": "code",
   "execution_count": 83,
   "metadata": {},
   "outputs": [
    {
     "name": "stdout",
     "output_type": "stream",
     "text": [
      "\\begin{table}[h]\n",
      "\\fontsize{9pt}{11pt}\\selectfont\n",
      "\\caption{Kinematics of Alessi Teutsch 5 compared to its runaway\\label{tab:Alessi_Teutsch_5_kinematics}}\n",
      "\\resizebox{\\textwidth}{!}{\\begin{tabular}{cccccccc}\n",
      "\\toprule\n",
      "Name & $\\alpha$ & $\\delta$ & d & $\\mu_{\\alpha}^*$ & $\\mu_{\\delta}$ & $v_r$ & $v_\\text{trans}$ \\\\\n",
      " & $\\mathrm{{}^{\\circ}}$ & $\\mathrm{{}^{\\circ}}$ & $\\mathrm{pc}$ & $\\mathrm{mas\\,yr^{-1}}$ & $\\mathrm{mas\\,yr^{-1}}$ & $\\mathrm{km\\,s^{-1}}$ & $\\mathrm{km\\,s^{-1}}$ \\\\\n",
      "\\midrule\n",
      "Alessi Teutsch 5 & 332.274 & 61.096 & $869\\pm31$ & $-2.1\\pm0.4$ & $-3.3\\pm0.4$ & $-23.5\\pm11.1$ &  \\\\\n",
      "2203047987818327936 & 331.442 & 60.419 & $829\\pm25$ & $-14.7\\pm0.0$ & $-12.7\\pm0.0$ & $-36.5\\pm29.7$ & $61.9\\pm2.5$ \\\\\n",
      "\\bottomrule\n",
      "\\end{tabular}}\n",
      "\\end{table}\n",
      "\n"
     ]
    }
   ],
   "source": [
    "print(generate_kinematics_latex(cl)[0])"
   ]
  },
  {
   "cell_type": "code",
   "execution_count": 87,
   "metadata": {},
   "outputs": [
    {
     "data": {
      "text/plain": [
       "11.748975549395302"
      ]
     },
     "execution_count": 87,
     "metadata": {},
     "output_type": "execute_result"
    }
   ],
   "source": [
    "10**7.07/1e6"
   ]
  },
  {
   "cell_type": "code",
   "execution_count": 85,
   "metadata": {},
   "outputs": [
    {
     "name": "stdout",
     "output_type": "stream",
     "text": [
      "\\begin{table}[h]\n",
      "\\fontsize{11pt}{11pt}\\selectfont\n",
      "\\caption{Selected members of Alessi Teutsch 5\\label{tab:Alessi_Teutsch_5_members}}\n",
      "\\resizebox{\\textwidth}{!}{\\begin{tabular}{cccccc}\n",
      "\\toprule\n",
      "Gaia DR3 Source & $r_{\\text{geo}}$ & $G$ & $\\mu_{\\alpha}^*$ & $\\mu_{\\delta}$ & $G_{\\text{BP}}-G_{\\text{RP}}$ \\\\\n",
      " & pc & mag & mas/yr & mas/yr & mag \\\\\n",
      "\\midrule\n",
      "2203291048603716736 & $879^{+10}_{-11}$ & $9.657\\pm0.003$ & $-2.32\\pm0.02$ & $0.02\\pm0.02$ & $0.209\\pm0.007$ \\\\\n",
      "2203101653418751232 & $869^{+9}_{-8}$ & $10.620\\pm0.003$ & $-1.67\\pm0.01$ & $0.01\\pm0.01$ & $0.453\\pm0.007$ \\\\\n",
      "2203293969181439104 & $876^{+11}_{-11}$ & $10.700\\pm0.003$ & $-1.78\\pm0.01$ & $0.01\\pm0.01$ & $0.325\\pm0.007$ \\\\\n",
      "2203291941956922112 & $915^{+11}_{-11}$ & $11.171\\pm0.003$ & $-1.97\\pm0.02$ & $0.02\\pm0.02$ & $0.338\\pm0.007$ \\\\\n",
      "2203282596107756416 & $820^{+18}_{-18}$ & $11.241\\pm0.003$ & $-1.84\\pm0.03$ & $0.03\\pm0.03$ & $0.428\\pm0.007$ \\\\\n",
      "2203050667876712832 & $786^{+8}_{-9}$ & $11.248\\pm0.003$ & $-2.31\\pm0.02$ & $0.01\\pm0.01$ & $0.500\\pm0.007$ \\\\\n",
      "2203275518000963584 & $894^{+9}_{-8}$ & $11.903\\pm0.003$ & $-2.28\\pm0.01$ & $0.01\\pm0.01$ & $0.509\\pm0.007$ \\\\\n",
      "2203309534142830976 & $865^{+9}_{-10}$ & $12.070\\pm0.003$ & $-2.14\\pm0.01$ & $0.01\\pm0.01$ & $0.437\\pm0.007$ \\\\\n",
      "2203102203174564992 & $858^{+7}_{-6}$ & $12.249\\pm0.003$ & $-1.35\\pm0.01$ & $0.01\\pm0.01$ & $0.698\\pm0.007$ \\\\\n",
      "2203280775041680768 & $882^{+10}_{-7}$ & $12.642\\pm0.003$ & $-1.53\\pm0.01$ & $0.01\\pm0.01$ & $0.665\\pm0.007$ \\\\\n",
      "\\bottomrule\n",
      "\\end{tabular}}\n",
      "\\end{table}\n",
      "\n"
     ]
    }
   ],
   "source": [
    "print(generate_members_latex(cl))\n"
   ]
  },
  {
   "cell_type": "code",
   "execution_count": 10,
   "metadata": {},
   "outputs": [],
   "source": [
    "plot_cmd = cl.plot_cmd()\n",
    "show_annotation_manager(plot_cmd)"
   ]
  },
  {
   "cell_type": "code",
   "execution_count": 48,
   "metadata": {},
   "outputs": [],
   "source": [
    "plot_pm = cl.plot_pm()\n",
    "show_annotation_manager(plot_pm)"
   ]
  },
  {
   "cell_type": "code",
   "execution_count": 6,
   "metadata": {},
   "outputs": [
    {
     "name": "stderr",
     "output_type": "stream",
     "text": [
      "WARNING: MergeConflictWarning: Cannot merge meta key 'null' types <class 'float'> and <class 'float'>, choosing null=nan [astropy.utils.metadata]\n"
     ]
    }
   ],
   "source": [
    "%run runaway_functionsv3\n",
    "%matplotlib qt\n",
    "\n",
    "cl = Cluster('Berkeley_97')\n",
    "plot_traceback_clean = cl.plot_traceback_clean()\n",
    "show_annotation_manager(plot_traceback_clean)"
   ]
  },
  {
   "cell_type": "code",
   "execution_count": 12,
   "metadata": {},
   "outputs": [
    {
     "name": "stdout",
     "output_type": "stream",
     "text": [
      "50pc image downloaded in 8.912921s\n"
     ]
    }
   ],
   "source": [
    "%run runaway_functionsv3\n",
    "%matplotlib qt\n",
    "cl = Cluster('Berkeley_97')\n",
    "plot_traceback_psr = cl.plot_traceback_psr()\n",
    "show_annotation_manager(plot_traceback_psr)\n"
   ]
  },
  {
   "cell_type": "code",
   "execution_count": 4,
   "metadata": {},
   "outputs": [],
   "source": [
    "show_annotation_manager(plot_traceback_psr)\n"
   ]
  }
 ],
 "metadata": {
  "kernelspec": {
   "display_name": "Python 3",
   "language": "python",
   "name": "python3"
  },
  "language_info": {
   "codemirror_mode": {
    "name": "ipython",
    "version": 3
   },
   "file_extension": ".py",
   "mimetype": "text/x-python",
   "name": "python",
   "nbconvert_exporter": "python",
   "pygments_lexer": "ipython3",
   "version": "3.11.6"
  }
 },
 "nbformat": 4,
 "nbformat_minor": 2
}
