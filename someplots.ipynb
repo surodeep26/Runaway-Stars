{
 "cells": [
  {
   "cell_type": "code",
   "execution_count": 8,
   "metadata": {},
   "outputs": [
    {
     "data": {
      "text/plain": [
       "<WCSAxesSubplot: >"
      ]
     },
     "execution_count": 8,
     "metadata": {},
     "output_type": "execute_result"
    }
   ],
   "source": [
    "%run runaway_functionsv3\n",
    "%matplotlib qt\n",
    "cl = Cluster('NGC_4103')\n",
    "cl.plot_cluster(extra=15)"
   ]
  },
  {
   "cell_type": "code",
   "execution_count": 43,
   "metadata": {},
   "outputs": [],
   "source": [
    "from astropy.coordinates import Galactocentric\n",
    "psrs = ATNF()\n",
    "psrs_skycoord = psrs['SkyCoord']\n",
    "# psrs_skycoord.transform_to(Galactocentric)\n",
    "# (psrs_skycoord.cartesian.x.value,psrs_skycoord.cartesian.y.value,psrs_skycoord.cartesian.z.value)"
   ]
  },
  {
   "cell_type": "code",
   "execution_count": null,
   "metadata": {},
   "outputs": [],
   "source": [
    "import numpy as np\n",
    "import plotly.graph_objects as go\n",
    "import pandas as pd\n",
    "from astropy.coordinates import SkyCoord, Galactocentric\n",
    "from astropy.table import Table\n",
    "\n",
    "# Load data\n",
    "dias2021 = Table.read(\"dias2021.tsv\", format=\"ascii.ecsv\")\n",
    "maskplx = dias2021['Plx'] > 0.3\n",
    "maskage = dias2021['logage'] < 7.7\n",
    "clusters = dias2021[maskage & maskplx]\n",
    "clusters['SkyCoord'] = SkyCoord(\n",
    "    ra=clusters['RA_ICRS'],\n",
    "    dec=clusters['DE_ICRS'],\n",
    "    distance=clusters['Dist']\n",
    ")\n",
    "\n",
    "clusters['SkyCoord_galactocentric'] = clusters['SkyCoord'].transform_to(Galactocentric)\n",
    "cl_galactocentric = clusters['SkyCoord_galactocentric']\n",
    "\n",
    "x = cl_galactocentric.x\n",
    "y = cl_galactocentric.y\n",
    "z = cl_galactocentric.z\n",
    "\n",
    "trace = go.Scatter3d(x=x,\n",
    "                     y=y,\n",
    "                     z=z,\n",
    "                     text=clusters['Cluster'],\n",
    "                     mode='markers',\n",
    "                     marker=dict(color=clusters['logage'],\n",
    "                                 size=3\n",
    "                                 )\n",
    "                     )\n",
    "\n",
    "# Galaxy as a disk surface\n",
    "radius = 15000\n",
    "height = 2000  # Height of the disk\n",
    "\n",
    "# Generate the grid for the disk\n",
    "r = np.linspace(0, radius, num=100)\n",
    "theta = np.linspace(0, 2 * np.pi, num=100)\n",
    "r, theta = np.meshgrid(r, theta)\n",
    "\n",
    "x = r * np.cos(theta)\n",
    "y = r * np.sin(theta)\n",
    "z = np.zeros_like(r)  # Flat disk\n",
    "\n",
    "galaxy_surface = go.Surface(z=z, x=x, y=y, surfacecolor=x, colorscale='Blues', opacity=0.2)\n",
    "\n",
    "# Plot\n",
    "fig = go.Figure(data=[trace, galaxy_surface])\n",
    "fig.update_layout(\n",
    "    width=1000, \n",
    "    height=800,\n",
    "    scene=dict(\n",
    "        camera_eye=dict(x=0.6, y=0.6, z=0.6),\n",
    "        aspectmode='manual',\n",
    "        aspectratio=dict(x=1, y=1, z=0.1)\n",
    "    )\n",
    ")\n",
    "fig.show()\n"
   ]
  },
  {
   "cell_type": "code",
   "execution_count": null,
   "metadata": {},
   "outputs": [],
   "source": [
    "import numpy as np\n",
    "import plotly.graph_objects as go\n",
    "from PIL import Image\n",
    "from astropy.coordinates import SkyCoord, Galactocentric\n",
    "from astropy.table import Table\n",
    "%run runaway_functionsv3\n",
    "\n",
    "# Load data\n",
    "dias2021 = Table.read(\"dias2021.tsv\", format=\"ascii.ecsv\")\n",
    "maskplx = dias2021['Plx'] > 0.3\n",
    "maskage = dias2021['logage'] < 7.7\n",
    "clusters = dias2021[maskage & maskplx]\n",
    "clusters['SkyCoord'] = SkyCoord(\n",
    "    ra=clusters['RA_ICRS'],\n",
    "    dec=clusters['DE_ICRS'],\n",
    "    distance=clusters['Dist']\n",
    ")\n",
    "\n",
    "clusters['SkyCoord_galactocentric'] = clusters['SkyCoord'].transform_to(Galactocentric)\n",
    "cl_galactocentric = clusters['SkyCoord_galactocentric']\n",
    "\n",
    "x = cl_galactocentric.x\n",
    "y = cl_galactocentric.y\n",
    "z = cl_galactocentric.z\n",
    "\n",
    "trace_clusters = go.Scatter3d(x=x,\n",
    "                     y=y,\n",
    "                     z=z,\n",
    "                     text=clusters['Cluster'],\n",
    "                     mode='markers',\n",
    "                     marker=dict(\n",
    "                        #  color=clusters['Dist'],\n",
    "                                 size=2.5),\n",
    "                     showlegend=False\n",
    "                     )\n",
    "\n",
    "# Load data\n",
    "dias2021 = ATNF()\n",
    "mask_dist = ~dias2021['DIST'].mask\n",
    "clusters = dias2021[mask_dist]\n",
    "clusters['SkyCoord'] = SkyCoord(\n",
    "    ra=clusters['RAJD'],\n",
    "    dec=clusters['DECJD'],\n",
    "    distance=clusters['DIST']*1000\n",
    ")\n",
    "\n",
    "clusters['SkyCoord_galactocentric'] = clusters['SkyCoord'].transform_to(Galactocentric)\n",
    "cl_galactocentric = clusters['SkyCoord_galactocentric']\n",
    "\n",
    "x = cl_galactocentric.x\n",
    "y = cl_galactocentric.y\n",
    "z = cl_galactocentric.z\n",
    "\n",
    "trace_psr = go.Scatter3d(x=x,\n",
    "                     y=y,\n",
    "                     z=z,\n",
    "                     text=clusters['JNAME'],\n",
    "                     mode='markers',\n",
    "                     marker=dict(\n",
    "                                #  color='cyan',\n",
    "                                 size=5),\n",
    "                     showlegend=False\n",
    "                     )\n",
    "\n",
    "# Load and process the image\n",
    "image_path = 'mw.jpg'  # Update this to your image path\n",
    "image = Image.open(image_path).convert('L')  # Convert to grayscale\n",
    "# image = image.rotate(0, expand=True)  # Use -90 to rotate clockwise\n",
    "image_width, image_height = image.size\n",
    "image_array = np.array(image) / 255.0  # Normalize grayscale values to [0, 1]\n",
    "\n",
    "# Galaxy as a disk surface with color gradient from image\n",
    "radius = 21200\n",
    "# height = 2000  # Height of the disk\n",
    "\n",
    "# Generate the grid for the disk\n",
    "r = np.linspace(0, radius, num=1000)\n",
    "theta = np.linspace(0, 2 * np.pi, num=1000)\n",
    "r, theta = np.meshgrid(r, theta)\n",
    "\n",
    "x_disk = r * np.cos(theta)\n",
    "y_disk = r * np.sin(theta)\n",
    "z_disk = np.zeros_like(r)  # Flat disk\n",
    "\n",
    "# Map disk coordinates to image coordinates\n",
    "image_x = (x_disk / radius * (image_width / 2) + (image_width / 2)).astype(int)\n",
    "image_y = (y_disk / radius * (image_height / 2) + (image_height / 2)).astype(int)\n",
    "\n",
    "# Ensure coordinates are within image bounds\n",
    "image_x = np.clip(image_x, 0, image_width - 1)\n",
    "image_y = np.clip(image_y, 0, image_height - 1)\n",
    "\n",
    "# Retrieve grayscale values from the image\n",
    "colors = image_array[image_x, image_y]  # This gives the color for each point\n",
    "\n",
    "# Define the surface with a color gradient based on image grayscale values\n",
    "galaxy_surface = go.Surface(z=z_disk, x=x_disk, y=y_disk, surfacecolor=colors, colorscale='Gray', opacity=0.8,showscale=False)\n",
    "\n",
    "sun = go.Scatter3d(x=[-8122],\n",
    "                   y=[0],\n",
    "                   z=[0],\n",
    "                   text='Sun',\n",
    "                   mode='markers',\n",
    "                   marker=dict(color='yellow', size=5),\n",
    "                   showlegend=False\n",
    "                #    showscale=False\n",
    "                   )\n",
    "\n",
    "# Plot\n",
    "fig = go.Figure(data=[trace_clusters, galaxy_surface, sun, trace_psr])\n",
    "fig.update_layout(\n",
    "    width=1800, \n",
    "    height=900,\n",
    "        margin=dict(l=0, r=0, t=0, b=0),\n",
    "\n",
    "    scene=dict(\n",
    "        \n",
    "        camera_eye=dict(x=1, y=0.6, z=0.6),\n",
    "        aspectmode='manual',\n",
    "        aspectratio=dict(x=1, y=1, z=1500/22000),\n",
    "        xaxis=dict(\n",
    "            title='Galactic Y (pc)',  # Rename X axis\n",
    "            titlefont=dict(size=28),  # Increase font size\n",
    "        ),\n",
    "        yaxis=dict(\n",
    "            title='Galactic X (pc)',  # Rename Y axis\n",
    "            titlefont=dict(size=28),  # Increase font size\n",
    "        ),\n",
    "        zaxis=dict(\n",
    "            title='Galactic Z (pc)',  # Rename Z axis\n",
    "            titlefont=dict(size=28),  # Increase font size\n",
    "        ),\n",
    "    ),\n",
    "    # paper_bgcolor='black',\n",
    "    # plot_bgcolor='black'\n",
    ")\n",
    "fig.show()\n"
   ]
  },
  {
   "cell_type": "code",
   "execution_count": null,
   "metadata": {},
   "outputs": [],
   "source": [
    "Isochrone()"
   ]
  },
  {
   "cell_type": "code",
   "execution_count": 14,
   "metadata": {},
   "outputs": [
    {
     "name": "stdout",
     "output_type": "stream",
     "text": [
      "getting isochrone from cmd3.7 (PARSEC2) with:\n",
      "Av:0.00\n",
      "logage:5.00\n",
      "metallicity:0.00\n",
      "isochrone downloaded in 6.8s\n",
      "getting isochrone from cmd3.7 (PARSEC2) with:\n",
      "Av:0.00\n",
      "logage:6.00\n",
      "metallicity:0.00\n",
      "isochrone downloaded in 6.0s\n",
      "getting isochrone from cmd3.7 (PARSEC2) with:\n",
      "Av:0.00\n",
      "logage:7.00\n",
      "metallicity:0.00\n",
      "isochrone downloaded in 6.4s\n",
      "getting isochrone from cmd3.7 (PARSEC2) with:\n",
      "Av:0.00\n",
      "logage:8.00\n",
      "metallicity:0.00\n",
      "isochrone downloaded in 6.0s\n",
      "getting isochrone from cmd3.7 (PARSEC2) with:\n",
      "Av:0.00\n",
      "logage:9.00\n",
      "metallicity:0.00\n",
      "isochrone downloaded in 6.3s\n"
     ]
    }
   ],
   "source": [
    "%matplotlib qt\n",
    "%run runaway_functionsv3\n",
    "\n",
    "iso1 = get_theoretical_isochrone(Av=0,logage=5,FeH=0)\n",
    "iso1 = get_theoretical_isochrone(Av=0,logage=6,FeH=0)\n",
    "iso2 = get_theoretical_isochrone(Av=0,logage=7,FeH=0)\n",
    "iso3 = get_theoretical_isochrone(Av=0,logage=8,FeH=0)\n",
    "iso4 = get_theoretical_isochrone(Av=0,logage=9,FeH=0)\n",
    "iso_dict = {\n",
    "    1:iso1,\n",
    "    2:iso2,\n",
    "    3:iso3,\n",
    "    4:iso4,\n",
    "    5:iso5,\n",
    "}\n"
   ]
  },
  {
   "cell_type": "code",
   "execution_count": 15,
   "metadata": {},
   "outputs": [],
   "source": [
    "fig, ax = plt.subplots(figsize=(10,10))\n",
    "for i in range(1,6):\n",
    "    ax.plot( iso_dict[i]['BP-RP'],iso_dict[i]['Gmag'], linewidth=5)\n",
    "ax.invert_yaxis()\n"
   ]
  },
  {
   "cell_type": "code",
   "execution_count": 34,
   "metadata": {},
   "outputs": [
    {
     "data": {
      "text/plain": [
       "2.811725466860839"
      ]
     },
     "execution_count": 34,
     "metadata": {},
     "output_type": "execute_result"
    }
   ],
   "source": [
    "r50 = cl.all['r50']*u.deg.to(u.rad)\n",
    "r50*1611"
   ]
  },
  {
   "cell_type": "code",
   "execution_count": 30,
   "metadata": {},
   "outputs": [
    {
     "data": {
      "text/html": [
       "<i>Row index=0</i>\n",
       "<table id=\"table129435675282960\">\n",
       "<thead><tr><th>Cluster</th><th>RA_ICRS</th><th>DE_ICRS</th><th>r50</th><th>N</th><th>pmRA</th><th>e_pmRA</th><th>pmDE</th><th>e_pmDE</th><th>Plx</th><th>e_Plx</th><th>RV</th><th>e_RV</th><th>NRV</th><th>Dist</th><th>e_Dist</th><th>logage</th><th>e_logage</th><th>__Fe_H_</th><th>e__Fe_H_</th><th>Av</th><th>e_Av</th><th>FileName</th><th>SimbadName</th><th>_RA.icrs</th><th>_DE.icrs</th></tr></thead>\n",
       "<thead><tr><th></th><th>deg</th><th>deg</th><th>deg</th><th></th><th>mas / yr</th><th>mas / yr</th><th>mas / yr</th><th>mas / yr</th><th>mas</th><th>mas</th><th>km / s</th><th>km / s</th><th></th><th>pc</th><th>pc</th><th>log(yr)</th><th>log(yr)</th><th></th><th></th><th>mag</th><th>mag</th><th></th><th></th><th>deg</th><th>deg</th></tr></thead>\n",
       "<thead><tr><th>str17</th><th>float64</th><th>float64</th><th>float32</th><th>int16</th><th>float32</th><th>float32</th><th>float32</th><th>float32</th><th>float32</th><th>float32</th><th>float64</th><th>float32</th><th>int16</th><th>int16</th><th>int16</th><th>float32</th><th>float32</th><th>float32</th><th>float32</th><th>float32</th><th>float32</th><th>str31</th><th>str31</th><th>float64</th><th>float64</th></tr></thead>\n",
       "<tr><td>Bochum_13</td><td>259.3241</td><td>-35.5349</td><td>0.100</td><td>59</td><td>-0.282</td><td>0.154</td><td>-1.276</td><td>0.138</td><td>0.570</td><td>0.050</td><td>--</td><td>--</td><td>--</td><td>1611</td><td>61</td><td>6.900</td><td>0.035</td><td>0.299</td><td>0.063</td><td>2.800</td><td>0.040</td><td>clusters1/Bochum_13.dat</td><td>Cl Bochum 13</td><td>259.3241</td><td>-35.5349</td></tr>\n",
       "</table>"
      ],
      "text/plain": [
       "<Row index=0>\n",
       " Cluster  RA_ICRS  DE_ICRS    r50     N     pmRA    e_pmRA    pmDE    e_pmDE    Plx    e_Plx     RV     e_RV   NRV   Dist e_Dist  logage e_logage __Fe_H_ e__Fe_H_    Av     e_Av          FileName         SimbadName  _RA.icrs _DE.icrs\n",
       "            deg      deg      deg         mas / yr mas / yr mas / yr mas / yr   mas     mas    km / s  km / s         pc    pc   log(yr) log(yr)                     mag     mag                                          deg      deg   \n",
       "  str17   float64  float64  float32 int16 float32  float32  float32  float32  float32 float32 float64 float32 int16 int16 int16  float32 float32  float32 float32  float32 float32          str31             str31     float64  float64 \n",
       "--------- -------- -------- ------- ----- -------- -------- -------- -------- ------- ------- ------- ------- ----- ----- ------ ------- -------- ------- -------- ------- ------- ----------------------- ------------ -------- --------\n",
       "Bochum_13 259.3241 -35.5349   0.100    59   -0.282    0.154   -1.276    0.138   0.570   0.050      --      --    --  1611     61   6.900    0.035   0.299    0.063   2.800   0.040 clusters1/Bochum_13.dat Cl Bochum 13 259.3241 -35.5349"
      ]
     },
     "execution_count": 30,
     "metadata": {},
     "output_type": "execute_result"
    }
   ],
   "source": [
    "cl.all\n",
    "5975542579654256640"
   ]
  },
  {
   "cell_type": "code",
   "execution_count": 92,
   "metadata": {},
   "outputs": [
    {
     "name": "stdout",
     "output_type": "stream",
     "text": [
      "downloading sir\n",
      "Searching in Gaia DR3 I/355/gaiadr3 34.811 arcmin around (<Longitude 11.824 deg>, <Latitude 85.2413 deg>, <Distance 1859. pc>)\n",
      "found 2,664 sources in 0.29 seconds\n",
      "Searching in Gaia DR3 distances I/352/gedr3dis 34.811 arcmin around (<Longitude 11.824 deg>, <Latitude 85.2413 deg>, <Distance 1859. pc>)\n",
      "found 12,325 sources in 0.22 seconds\n",
      "Starting merge of DR3 and distance catalog data\n",
      "1,238 sources found by merging in 0.03 seconds\n",
      "673 out of 881 dias members found in search region\n",
      "Changed N          860.00 --> 637.00\n",
      "Changed Plx        0.51 --> 0.53\n",
      "Changed e_Plx      0.05 --> 0.03\n",
      "Changed Dist       1859.00 --> 1823.00\n",
      "Changed e_Dist     36.00 --> 104.24\n",
      "Changed pmRA       -2.30 --> -2.32\n",
      "Changed e_pmRA     0.18 --> 0.12\n",
      "Changed pmDE       -0.95 --> -1.02\n",
      "Changed e_pmDE     0.17 --> 0.12\n"
     ]
    },
    {
     "ename": "AttributeError",
     "evalue": "'Cluster' object has no attribute 'mymembers'",
     "output_type": "error",
     "traceback": [
      "\u001b[0;31m---------------------------------------------------------------------------\u001b[0m",
      "\u001b[0;31mAttributeError\u001b[0m                            Traceback (most recent call last)",
      "Cell \u001b[0;32mIn[92], line 1\u001b[0m\n\u001b[0;32m----> 1\u001b[0m cl \u001b[38;5;241m=\u001b[39m \u001b[43mCluster\u001b[49m\u001b[43m(\u001b[49m\u001b[38;5;124;43m'\u001b[39;49m\u001b[38;5;124;43mNGC_188\u001b[39;49m\u001b[38;5;124;43m'\u001b[39;49m\u001b[43m)\u001b[49m\n\u001b[1;32m      2\u001b[0m cl\u001b[38;5;241m.\u001b[39mtheoretical_isochrone\n",
      "File \u001b[0;32m~/github_repos/Runaway-Stars/runaway_functionsv3.py:246\u001b[0m, in \u001b[0;36mCluster.__init__\u001b[0;34m(self, name)\u001b[0m\n\u001b[1;32m    244\u001b[0m     \u001b[38;5;28mself\u001b[39m\u001b[38;5;241m.\u001b[39mN \u001b[38;5;241m=\u001b[39m \u001b[38;5;28mlen\u001b[39m(\u001b[38;5;28mself\u001b[39m\u001b[38;5;241m.\u001b[39mmymembers)\n\u001b[1;32m    245\u001b[0m \u001b[38;5;28;01melse\u001b[39;00m:\n\u001b[0;32m--> 246\u001b[0m     \u001b[38;5;28mself\u001b[39m\u001b[38;5;241m.\u001b[39mmymembers \u001b[38;5;241m=\u001b[39m \u001b[38;5;28;43mself\u001b[39;49m\u001b[38;5;241;43m.\u001b[39;49m\u001b[43mmembers\u001b[49m\u001b[43m(\u001b[49m\u001b[43m)\u001b[49m\n\u001b[1;32m    247\u001b[0m     \u001b[38;5;28mself\u001b[39m\u001b[38;5;241m.\u001b[39mdistance \u001b[38;5;241m=\u001b[39m \u001b[38;5;28mself\u001b[39m\u001b[38;5;241m.\u001b[39mmymembers[\u001b[38;5;124m'\u001b[39m\u001b[38;5;124mrgeo\u001b[39m\u001b[38;5;124m'\u001b[39m]\u001b[38;5;241m.\u001b[39mmean()\u001b[38;5;241m*\u001b[39mu\u001b[38;5;241m.\u001b[39mpc\n\u001b[1;32m    248\u001b[0m     \u001b[38;5;28mself\u001b[39m\u001b[38;5;241m.\u001b[39mN \u001b[38;5;241m=\u001b[39m \u001b[38;5;28mlen\u001b[39m(\u001b[38;5;28mself\u001b[39m\u001b[38;5;241m.\u001b[39mmymembers)\n",
      "File \u001b[0;32m~/github_repos/Runaway-Stars/runaway_functionsv3.py:293\u001b[0m, in \u001b[0;36mCluster.members\u001b[0;34m(self, pmemb, plxquality, add_members)\u001b[0m\n\u001b[1;32m    290\u001b[0m \u001b[38;5;28mself\u001b[39m\u001b[38;5;241m.\u001b[39mchangeParam((\u001b[38;5;124m\"\u001b[39m\u001b[38;5;124me_pmDE\u001b[39m\u001b[38;5;124m\"\u001b[39m, members[\u001b[38;5;124m'\u001b[39m\u001b[38;5;124mpmRA\u001b[39m\u001b[38;5;124m'\u001b[39m]\u001b[38;5;241m.\u001b[39mstd()))\n\u001b[1;32m    291\u001b[0m \u001b[38;5;66;03m# finding RV from the RV mean of the cluster found\u001b[39;00m\n\u001b[1;32m    292\u001b[0m \u001b[38;5;66;03m# kinematic_cluster = self.kinematic_cluster\u001b[39;00m\n\u001b[0;32m--> 293\u001b[0m kinematic_cluster \u001b[38;5;241m=\u001b[39m \u001b[38;5;28;43mself\u001b[39;49m\u001b[38;5;241;43m.\u001b[39;49m\u001b[43mmymembers\u001b[49m\n\u001b[1;32m    294\u001b[0m \u001b[38;5;66;03m# if (np.count_nonzero(~(kinematic_cluster['RV'].mask)))>5:\u001b[39;00m\n\u001b[1;32m    295\u001b[0m \u001b[38;5;66;03m#     self.changeParam((\"RV\", np.mean(kinematic_cluster['RV'])))\u001b[39;00m\n\u001b[1;32m    296\u001b[0m \u001b[38;5;66;03m#     self.changeParam((\"e_RV\", np.sqrt(np.sum(kinematic_cluster['e_RV'])**2/((np.count_nonzero(~(kinematic_cluster['RV'].mask))))**2)))\u001b[39;00m\n\u001b[1;32m    297\u001b[0m \u001b[38;5;66;03m#     self.changeParam((\"NRV\", np.count_nonzero(~(kinematic_cluster['RV'].mask))))\u001b[39;00m\n\u001b[1;32m    298\u001b[0m \u001b[38;5;66;03m#     return members\u001b[39;00m\n\u001b[1;32m    299\u001b[0m \u001b[38;5;28;01mif\u001b[39;00m (np\u001b[38;5;241m.\u001b[39mcount_nonzero(\u001b[38;5;241m~\u001b[39m(kinematic_cluster[\u001b[38;5;124m'\u001b[39m\u001b[38;5;124mRV\u001b[39m\u001b[38;5;124m'\u001b[39m]\u001b[38;5;241m.\u001b[39mmask)))\u001b[38;5;241m>\u001b[39m\u001b[38;5;241m1\u001b[39m:\n",
      "\u001b[0;31mAttributeError\u001b[0m: 'Cluster' object has no attribute 'mymembers'"
     ]
    }
   ],
   "source": [
    "cl = Cluster('RSG_8')\n",
    "# cl.theoretical_isochrone"
   ]
  },
  {
   "cell_type": "code",
   "execution_count": 47,
   "metadata": {},
   "outputs": [
    {
     "data": {
      "text/html": [
       "<div><i>Table length=334</i>\n",
       "<table id=\"table129435624747280\" class=\"table-striped table-bordered table-condensed\">\n",
       "<thead><tr><th>Mass</th><th>Teff0</th><th>BP-RP</th><th>Gmag</th><th>G_BP</th><th>G_RP</th><th>logg</th><th>logAge</th><th>logL</th><th>logTe</th><th>Mini</th><th>Gmag0</th></tr></thead>\n",
       "<thead><tr><th>float64</th><th>float64</th><th>float64</th><th>float64</th><th>float64</th><th>float64</th><th>float64</th><th>float64</th><th>float64</th><th>float64</th><th>float64</th><th>float64</th></tr></thead>\n",
       "<tr><td>0.09</td><td>2525.0</td><td>4.321</td><td>21.85753113038979</td><td>24.61853113038979</td><td>20.297531130389793</td><td>4.117</td><td>7.15</td><td>-2.164</td><td>3.4023</td><td>0.0900000036</td><td>12.636</td></tr>\n",
       "<tr><td>0.091</td><td>2529.0</td><td>4.321</td><td>21.84153113038979</td><td>24.602531130389792</td><td>20.281531130389794</td><td>4.118</td><td>7.15</td><td>-2.157</td><td>3.403</td><td>0.0910068527</td><td>12.62</td></tr>\n",
       "<tr><td>0.098</td><td>2556.0</td><td>4.323</td><td>21.73253113038979</td><td>24.49453113038979</td><td>20.17153113038979</td><td>4.124</td><td>7.15</td><td>-2.114</td><td>3.4076</td><td>0.0976778716</td><td>12.511</td></tr>\n",
       "<tr><td>0.1</td><td>2565.0</td><td>4.324</td><td>21.69453113038979</td><td>24.457531130389793</td><td>20.13353113038979</td><td>4.125</td><td>7.15</td><td>-2.098</td><td>3.4092</td><td>0.099999994</td><td>12.473</td></tr>\n",
       "<tr><td>0.103</td><td>2578.0</td><td>4.311</td><td>21.632531130389793</td><td>24.384531130389792</td><td>20.073531130389792</td><td>4.128</td><td>7.15</td><td>-2.077</td><td>3.4114</td><td>0.1035206094</td><td>12.411</td></tr>\n",
       "<tr><td>0.11</td><td>2603.0</td><td>4.271000000000001</td><td>21.50553113038979</td><td>24.224531130389792</td><td>19.95353113038979</td><td>4.132</td><td>7.15</td><td>-2.038</td><td>3.4155</td><td>0.1101747304</td><td>12.284</td></tr>\n",
       "<tr><td>0.117</td><td>2628.0</td><td>4.23</td><td>21.376531130389793</td><td>24.061531130389792</td><td>19.83153113038979</td><td>4.136</td><td>7.15</td><td>-1.999</td><td>3.4196</td><td>0.1172624975</td><td>12.155</td></tr>\n",
       "<tr><td>0.12</td><td>2637.0</td><td>4.205</td><td>21.31953113038979</td><td>23.983531130389792</td><td>19.778531130389794</td><td>4.137</td><td>7.15</td><td>-1.983</td><td>3.4212</td><td>0.1200000048</td><td>12.098</td></tr>\n",
       "<tr><td>0.127</td><td>2660.0</td><td>4.131</td><td>21.17953113038979</td><td>23.781531130389794</td><td>19.650531130389794</td><td>4.141</td><td>7.15</td><td>-1.949</td><td>3.4249</td><td>0.1267942786</td><td>11.958</td></tr>\n",
       "<tr><td>0.138</td><td>2696.0</td><td>4.015000000000001</td><td>20.95353113038979</td><td>23.458531130389794</td><td>19.443531130389793</td><td>4.146</td><td>7.15</td><td>-1.892</td><td>3.4308</td><td>0.1383722872</td><td>11.732</td></tr>\n",
       "<tr><td>...</td><td>...</td><td>...</td><td>...</td><td>...</td><td>...</td><td>...</td><td>...</td><td>...</td><td>...</td><td>...</td><td>...</td></tr>\n",
       "<tr><td>13.375</td><td>3668.0</td><td>2.388</td><td>3.319531130389791</td><td>4.582531130389793</td><td>2.194531130389792</td><td>0.044</td><td>7.15</td><td>4.73</td><td>3.5645</td><td>14.0003976822</td><td>-5.902</td></tr>\n",
       "<tr><td>13.374</td><td>3646.0</td><td>2.4349999999999996</td><td>3.2965311303897913</td><td>4.593531130389792</td><td>2.1585311303897923</td><td>0.013</td><td>7.15</td><td>4.751</td><td>3.5619</td><td>14.0003986359</td><td>-5.925</td></tr>\n",
       "<tr><td>13.373</td><td>3623.0</td><td>2.4879999999999995</td><td>3.272531130389792</td><td>4.6085311303897925</td><td>2.120531130389792</td><td>-0.021</td><td>7.15</td><td>4.774</td><td>3.5592</td><td>14.0003995895</td><td>-5.949</td></tr>\n",
       "<tr><td>13.371</td><td>3599.0</td><td>2.5539999999999994</td><td>3.250531130389792</td><td>4.635531130389792</td><td>2.0815311303897923</td><td>-0.058</td><td>7.15</td><td>4.799</td><td>3.5562</td><td>14.0004005432</td><td>-5.971</td></tr>\n",
       "<tr><td>13.369</td><td>3577.0</td><td>2.614</td><td>3.2305311303897923</td><td>4.658531130389793</td><td>2.0445311303897924</td><td>-0.092</td><td>7.15</td><td>4.823</td><td>3.5535</td><td>14.0004014969</td><td>-5.991</td></tr>\n",
       "<tr><td>13.366</td><td>3556.0</td><td>2.668</td><td>3.208531130389792</td><td>4.6775311303897915</td><td>2.0095311303897923</td><td>-0.124</td><td>7.15</td><td>4.844</td><td>3.551</td><td>14.0004034042</td><td>-6.013</td></tr>\n",
       "<tr><td>13.363</td><td>3533.0</td><td>2.739</td><td>3.190531130389793</td><td>4.711531130389792</td><td>1.9725311303897923</td><td>-0.161</td><td>7.15</td><td>4.869</td><td>3.5482</td><td>14.0004053116</td><td>-6.031</td></tr>\n",
       "<tr><td>13.358</td><td>3512.0</td><td>2.808</td><td>3.1755311303897926</td><td>4.748531130389793</td><td>1.9405311303897923</td><td>-0.194</td><td>7.15</td><td>4.892</td><td>3.5456</td><td>14.0004072189</td><td>-6.046</td></tr>\n",
       "<tr><td>13.352</td><td>3490.0</td><td>2.878</td><td>3.158531130389793</td><td>4.785531130389792</td><td>1.907531130389792</td><td>-0.228</td><td>7.15</td><td>4.915</td><td>3.5429</td><td>14.0004091263</td><td>-6.063</td></tr>\n",
       "<tr><td>13.352</td><td>3464.0</td><td>2.963</td><td>3.141531130389792</td><td>4.832531130389793</td><td>1.8695311303897917</td><td>-0.268</td><td>7.15</td><td>4.942</td><td>3.5397</td><td>14.000412941</td><td>-6.08</td></tr>\n",
       "</table></div>"
      ],
      "text/plain": [
       "<Table length=334>\n",
       "  Mass   Teff0        BP-RP        ...  logTe       Mini      Gmag0 \n",
       "float64 float64      float64       ... float64    float64    float64\n",
       "------- ------- ------------------ ... ------- ------------- -------\n",
       "   0.09  2525.0              4.321 ...  3.4023  0.0900000036  12.636\n",
       "  0.091  2529.0              4.321 ...   3.403  0.0910068527   12.62\n",
       "  0.098  2556.0              4.323 ...  3.4076  0.0976778716  12.511\n",
       "    0.1  2565.0              4.324 ...  3.4092   0.099999994  12.473\n",
       "  0.103  2578.0              4.311 ...  3.4114  0.1035206094  12.411\n",
       "   0.11  2603.0  4.271000000000001 ...  3.4155  0.1101747304  12.284\n",
       "  0.117  2628.0               4.23 ...  3.4196  0.1172624975  12.155\n",
       "   0.12  2637.0              4.205 ...  3.4212  0.1200000048  12.098\n",
       "  0.127  2660.0              4.131 ...  3.4249  0.1267942786  11.958\n",
       "  0.138  2696.0  4.015000000000001 ...  3.4308  0.1383722872  11.732\n",
       "    ...     ...                ... ...     ...           ...     ...\n",
       " 13.375  3668.0              2.388 ...  3.5645 14.0003976822  -5.902\n",
       " 13.374  3646.0 2.4349999999999996 ...  3.5619 14.0003986359  -5.925\n",
       " 13.373  3623.0 2.4879999999999995 ...  3.5592 14.0003995895  -5.949\n",
       " 13.371  3599.0 2.5539999999999994 ...  3.5562 14.0004005432  -5.971\n",
       " 13.369  3577.0              2.614 ...  3.5535 14.0004014969  -5.991\n",
       " 13.366  3556.0              2.668 ...   3.551 14.0004034042  -6.013\n",
       " 13.363  3533.0              2.739 ...  3.5482 14.0004053116  -6.031\n",
       " 13.358  3512.0              2.808 ...  3.5456 14.0004072189  -6.046\n",
       " 13.352  3490.0              2.878 ...  3.5429 14.0004091263  -6.063\n",
       " 13.352  3464.0              2.963 ...  3.5397  14.000412941   -6.08"
      ]
     },
     "execution_count": 47,
     "metadata": {},
     "output_type": "execute_result"
    }
   ],
   "source": [
    "cl.theoretical_isochrone()"
   ]
  },
  {
   "cell_type": "code",
   "execution_count": 1,
   "metadata": {},
   "outputs": [
    {
     "data": {
      "text/html": [
       "<div><i>Table length=1743</i>\n",
       "<table id=\"table129523948569104\" class=\"table-striped table-bordered table-condensed\">\n",
       "<thead><tr><th>Cluster</th><th>RA_ICRS</th><th>DE_ICRS</th><th>r50</th><th>N</th><th>pmRA</th><th>e_pmRA</th><th>pmDE</th><th>e_pmDE</th><th>Plx</th><th>e_Plx</th><th>RV</th><th>e_RV</th><th>NRV</th><th>Dist</th><th>e_Dist</th><th>logage</th><th>e_logage</th><th>__Fe_H_</th><th>e__Fe_H_</th><th>Av</th><th>e_Av</th><th>FileName</th><th>SimbadName</th><th>_RA.icrs</th><th>_DE.icrs</th></tr></thead>\n",
       "<thead><tr><th></th><th>deg</th><th>deg</th><th>deg</th><th></th><th>mas / yr</th><th>mas / yr</th><th>mas / yr</th><th>mas / yr</th><th>mas</th><th>mas</th><th>km / s</th><th>km / s</th><th></th><th>pc</th><th>pc</th><th>log(yr)</th><th>log(yr)</th><th></th><th></th><th>mag</th><th>mag</th><th></th><th></th><th>deg</th><th>deg</th></tr></thead>\n",
       "<thead><tr><th>str17</th><th>float64</th><th>float64</th><th>float32</th><th>int16</th><th>float32</th><th>float32</th><th>float32</th><th>float32</th><th>float32</th><th>float32</th><th>float64</th><th>float32</th><th>int16</th><th>int16</th><th>int16</th><th>float32</th><th>float32</th><th>float32</th><th>float32</th><th>float32</th><th>float32</th><th>str31</th><th>str31</th><th>float64</th><th>float64</th></tr></thead>\n",
       "<tr><td>ASCC_10</td><td>51.8737</td><td>35.0113</td><td>0.498</td><td>31</td><td>-1.704</td><td>0.168</td><td>-1.348</td><td>0.141</td><td>1.465</td><td>0.082</td><td>-10.870</td><td>5.243</td><td>3</td><td>643</td><td>30</td><td>8.178</td><td>0.155</td><td>0.109</td><td>0.100</td><td>0.820</td><td>0.110</td><td>clusters1/ASCC_10.dat</td><td>[KPR2005] 10</td><td>51.8737</td><td>35.0113</td></tr>\n",
       "<tr><td>ASCC_101</td><td>288.4190</td><td>36.3653</td><td>0.357</td><td>72</td><td>0.924</td><td>0.272</td><td>1.364</td><td>0.289</td><td>2.502</td><td>0.068</td><td>-19.198</td><td>2.884</td><td>14</td><td>397</td><td>1</td><td>8.521</td><td>0.162</td><td>0.004</td><td>0.064</td><td>0.152</td><td>0.071</td><td>clusters1/ASCC_101.dat</td><td>[KPR2005] 101</td><td>288.4190</td><td>36.3653</td></tr>\n",
       "<tr><td>ASCC_105</td><td>295.6291</td><td>27.3637</td><td>0.678</td><td>126</td><td>1.461</td><td>0.240</td><td>-1.611</td><td>0.199</td><td>1.786</td><td>0.066</td><td>-14.302</td><td>4.090</td><td>18</td><td>545</td><td>8</td><td>8.328</td><td>0.138</td><td>0.051</td><td>0.055</td><td>0.450</td><td>0.039</td><td>clusters1/ASCC_105.dat</td><td>[KPR2005] 105</td><td>295.6291</td><td>27.3637</td></tr>\n",
       "<tr><td>ASCC_107</td><td>297.1623</td><td>22.0071</td><td>0.156</td><td>59</td><td>-0.144</td><td>0.135</td><td>-5.158</td><td>0.141</td><td>1.118</td><td>0.055</td><td>--</td><td>--</td><td>--</td><td>864</td><td>30</td><td>7.440</td><td>0.121</td><td>0.353</td><td>0.103</td><td>1.372</td><td>0.129</td><td>clusters1/ASCC_107.dat</td><td>[KPR2005] 107</td><td>297.1623</td><td>22.0071</td></tr>\n",
       "<tr><td>ASCC_108</td><td>298.3162</td><td>39.3132</td><td>0.526</td><td>228</td><td>-0.509</td><td>0.101</td><td>-1.691</td><td>0.129</td><td>0.837</td><td>0.048</td><td>--</td><td>--</td><td>--</td><td>1138</td><td>31</td><td>8.334</td><td>0.108</td><td>0.093</td><td>0.093</td><td>0.464</td><td>0.071</td><td>clusters1/ASCC_108.dat</td><td>[KPR2005] 108</td><td>298.3162</td><td>39.3132</td></tr>\n",
       "<tr><td>ASCC_11</td><td>53.0779</td><td>44.8787</td><td>0.285</td><td>274</td><td>0.950</td><td>0.196</td><td>-3.022</td><td>0.202</td><td>1.142</td><td>0.064</td><td>-14.242</td><td>0.233</td><td>3</td><td>849</td><td>20</td><td>8.660</td><td>0.063</td><td>-0.056</td><td>0.064</td><td>0.917</td><td>0.075</td><td>clusters1/ASCC_11.dat</td><td>[KPR2005] 11</td><td>53.0779</td><td>44.8787</td></tr>\n",
       "<tr><td>ASCC_110</td><td>300.7723</td><td>33.5487</td><td>0.205</td><td>68</td><td>0.278</td><td>0.069</td><td>-3.134</td><td>0.075</td><td>0.495</td><td>0.036</td><td>-1.178</td><td>0.856</td><td>3</td><td>1583</td><td>143</td><td>8.795</td><td>0.084</td><td>0.140</td><td>0.195</td><td>1.228</td><td>0.122</td><td>clusters1/ASCC_110.dat</td><td>[KPR2005] 110</td><td>300.7723</td><td>33.5487</td></tr>\n",
       "<tr><td>ASCC_111</td><td>302.7576</td><td>37.4883</td><td>0.520</td><td>153</td><td>-1.168</td><td>0.218</td><td>-1.525</td><td>0.163</td><td>1.168</td><td>0.063</td><td>-22.689</td><td>1.165</td><td>8</td><td>819</td><td>18</td><td>8.507</td><td>0.209</td><td>0.080</td><td>0.096</td><td>0.605</td><td>0.084</td><td>clusters1/ASCC_111.dat</td><td>[KPR2005] 111</td><td>302.7576</td><td>37.4883</td></tr>\n",
       "<tr><td>ASCC_113</td><td>318.0929</td><td>38.5861</td><td>0.497</td><td>96</td><td>0.798</td><td>0.134</td><td>-3.688</td><td>0.145</td><td>1.762</td><td>0.043</td><td>-4.195</td><td>3.867</td><td>5</td><td>559</td><td>9</td><td>8.455</td><td>0.226</td><td>-0.052</td><td>0.111</td><td>0.279</td><td>0.132</td><td>clusters1/ASCC_113.dat</td><td>[KPR2005] 113</td><td>318.0929</td><td>38.5861</td></tr>\n",
       "<tr><td>...</td><td>...</td><td>...</td><td>...</td><td>...</td><td>...</td><td>...</td><td>...</td><td>...</td><td>...</td><td>...</td><td>...</td><td>...</td><td>...</td><td>...</td><td>...</td><td>...</td><td>...</td><td>...</td><td>...</td><td>...</td><td>...</td><td>...</td><td>...</td><td>...</td><td>...</td></tr>\n",
       "<tr><td>UPK_93</td><td>300.3140</td><td>29.9494</td><td>0.408</td><td>60</td><td>-0.867</td><td>0.125</td><td>-8.166</td><td>0.226</td><td>1.411</td><td>0.093</td><td>14.051</td><td>1.068</td><td>2</td><td>675</td><td>42</td><td>8.760</td><td>0.179</td><td>-0.094</td><td>0.164</td><td>0.356</td><td>0.223</td><td>clusters1/UPK_93.dat</td><td>UPK 93</td><td>300.3140</td><td>29.9494</td></tr>\n",
       "<tr><td>UPK_94</td><td>304.7653</td><td>27.5921</td><td>0.244</td><td>40</td><td>2.118</td><td>0.126</td><td>1.082</td><td>0.169</td><td>1.033</td><td>0.059</td><td>--</td><td>--</td><td>--</td><td>932</td><td>20</td><td>8.502</td><td>0.291</td><td>0.109</td><td>0.126</td><td>1.162</td><td>0.096</td><td>clusters1/UPK_94.dat</td><td>UPK 94</td><td>304.7653</td><td>27.5921</td></tr>\n",
       "<tr><td>UPK_99</td><td>312.4234</td><td>25.5047</td><td>0.446</td><td>21</td><td>0.351</td><td>0.173</td><td>-7.897</td><td>0.185</td><td>1.276</td><td>0.084</td><td>--</td><td>--</td><td>--</td><td>771</td><td>26</td><td>8.327</td><td>0.477</td><td>-0.100</td><td>0.074</td><td>0.513</td><td>0.162</td><td>clusters1/UPK_99.dat</td><td>UPK 99</td><td>312.4234</td><td>25.5047</td></tr>\n",
       "<tr><td>Waterloo_1</td><td>64.7123</td><td>52.8652</td><td>0.066</td><td>54</td><td>0.490</td><td>0.135</td><td>-0.686</td><td>0.097</td><td>0.200</td><td>0.066</td><td>--</td><td>--</td><td>--</td><td>3709</td><td>368</td><td>6.941</td><td>0.458</td><td>-0.254</td><td>0.058</td><td>2.623</td><td>0.058</td><td>clusters1/Waterloo_1.dat</td><td>Cl Waterloo 1</td><td>64.7123</td><td>52.8652</td></tr>\n",
       "<tr><td>Waterloo_7</td><td>111.5319</td><td>-15.0880</td><td>0.024</td><td>38</td><td>-1.521</td><td>0.123</td><td>1.681</td><td>0.084</td><td>0.267</td><td>0.055</td><td>--</td><td>--</td><td>--</td><td>2841</td><td>109</td><td>7.826</td><td>0.276</td><td>-0.107</td><td>0.100</td><td>1.407</td><td>0.066</td><td>clusters1/Waterloo_7.dat</td><td>Cl Waterloo 7</td><td>111.5319</td><td>-15.0880</td></tr>\n",
       "<tr><td>vdBergh_1</td><td>99.2807</td><td>3.0744</td><td>0.035</td><td>71</td><td>0.343</td><td>0.269</td><td>-0.786</td><td>0.181</td><td>0.521</td><td>0.082</td><td>--</td><td>--</td><td>--</td><td>1716</td><td>108</td><td>7.713</td><td>0.467</td><td>0.318</td><td>0.179</td><td>2.299</td><td>0.189</td><td>clusters1/vdBergh_1.dat</td><td>Cl VDB 1</td><td>99.2807</td><td>3.0744</td></tr>\n",
       "<tr><td>vdBergh_130</td><td>304.4624</td><td>39.3404</td><td>0.049</td><td>62</td><td>-3.609</td><td>0.308</td><td>-5.075</td><td>0.292</td><td>0.521</td><td>0.154</td><td>--</td><td>--</td><td>--</td><td>1456</td><td>240</td><td>6.974</td><td>0.091</td><td>-0.029</td><td>0.163</td><td>2.356</td><td>0.042</td><td>clusters2/vdBergh_130.dat</td><td>Cl VDB 130</td><td>304.4624</td><td>39.3404</td></tr>\n",
       "<tr><td>vdBergh_80</td><td>97.7471</td><td>-9.6215</td><td>0.151</td><td>60</td><td>-3.285</td><td>0.430</td><td>0.481</td><td>0.361</td><td>1.026</td><td>0.112</td><td>--</td><td>--</td><td>--</td><td>947</td><td>2</td><td>6.790</td><td>0.046</td><td>-0.148</td><td>0.091</td><td>1.726</td><td>0.219</td><td>clusters1/vdBergh_80.dat</td><td>Cl VDB 80</td><td>97.7471</td><td>-9.6215</td></tr>\n",
       "<tr><td>vdBergh_85</td><td>101.7288</td><td>1.3329</td><td>0.045</td><td>29</td><td>-0.973</td><td>0.147</td><td>0.345</td><td>0.164</td><td>0.550</td><td>0.049</td><td>--</td><td>--</td><td>--</td><td>1720</td><td>167</td><td>7.104</td><td>0.125</td><td>-0.055</td><td>0.124</td><td>1.206</td><td>0.270</td><td>clusters1/vdBergh_85.dat</td><td>Cl VDB 85</td><td>101.7288</td><td>1.3329</td></tr>\n",
       "<tr><td>vdBergh_92</td><td>106.0426</td><td>-11.4884</td><td>0.114</td><td>154</td><td>-4.539</td><td>0.219</td><td>1.607</td><td>0.211</td><td>0.834</td><td>0.091</td><td>27.580</td><td>6.680</td><td>2</td><td>1114</td><td>42</td><td>6.749</td><td>0.074</td><td>0.025</td><td>0.087</td><td>0.984</td><td>0.062</td><td>clusters1/vdBergh_92.dat</td><td>Cl VDB 92</td><td>106.0426</td><td>-11.4884</td></tr>\n",
       "</table></div>"
      ],
      "text/plain": [
       "<Table length=1743>\n",
       "  Cluster   RA_ICRS  DE_ICRS    r50   ...   SimbadName  _RA.icrs _DE.icrs\n",
       "              deg      deg      deg   ...                 deg      deg   \n",
       "   str17    float64  float64  float32 ...     str31     float64  float64 \n",
       "----------- -------- -------- ------- ... ------------- -------- --------\n",
       "    ASCC_10  51.8737  35.0113   0.498 ...  [KPR2005] 10  51.8737  35.0113\n",
       "   ASCC_101 288.4190  36.3653   0.357 ... [KPR2005] 101 288.4190  36.3653\n",
       "   ASCC_105 295.6291  27.3637   0.678 ... [KPR2005] 105 295.6291  27.3637\n",
       "   ASCC_107 297.1623  22.0071   0.156 ... [KPR2005] 107 297.1623  22.0071\n",
       "   ASCC_108 298.3162  39.3132   0.526 ... [KPR2005] 108 298.3162  39.3132\n",
       "    ASCC_11  53.0779  44.8787   0.285 ...  [KPR2005] 11  53.0779  44.8787\n",
       "   ASCC_110 300.7723  33.5487   0.205 ... [KPR2005] 110 300.7723  33.5487\n",
       "   ASCC_111 302.7576  37.4883   0.520 ... [KPR2005] 111 302.7576  37.4883\n",
       "   ASCC_113 318.0929  38.5861   0.497 ... [KPR2005] 113 318.0929  38.5861\n",
       "        ...      ...      ...     ... ...           ...      ...      ...\n",
       "     UPK_93 300.3140  29.9494   0.408 ...        UPK 93 300.3140  29.9494\n",
       "     UPK_94 304.7653  27.5921   0.244 ...        UPK 94 304.7653  27.5921\n",
       "     UPK_99 312.4234  25.5047   0.446 ...        UPK 99 312.4234  25.5047\n",
       " Waterloo_1  64.7123  52.8652   0.066 ... Cl Waterloo 1  64.7123  52.8652\n",
       " Waterloo_7 111.5319 -15.0880   0.024 ... Cl Waterloo 7 111.5319 -15.0880\n",
       "  vdBergh_1  99.2807   3.0744   0.035 ...      Cl VDB 1  99.2807   3.0744\n",
       "vdBergh_130 304.4624  39.3404   0.049 ...    Cl VDB 130 304.4624  39.3404\n",
       " vdBergh_80  97.7471  -9.6215   0.151 ...     Cl VDB 80  97.7471  -9.6215\n",
       " vdBergh_85 101.7288   1.3329   0.045 ...     Cl VDB 85 101.7288   1.3329\n",
       " vdBergh_92 106.0426 -11.4884   0.114 ...     Cl VDB 92 106.0426 -11.4884"
      ]
     },
     "execution_count": 1,
     "metadata": {},
     "output_type": "execute_result"
    }
   ],
   "source": [
    "%matplotlib qt\n",
    "%run runaway_functionsv3\n",
    "dias2021"
   ]
  },
  {
   "cell_type": "code",
   "execution_count": 20,
   "metadata": {},
   "outputs": [
    {
     "data": {
      "text/latex": [
       "$10.227122 \\; \\mathrm{pc}$"
      ],
      "text/plain": [
       "<Quantity 10.22712165 pc>"
      ]
     },
     "execution_count": 20,
     "metadata": {},
     "output_type": "execute_result"
    }
   ],
   "source": [
    "d = 100*u.km/u.s*100*u.kyr\n",
    "d = d.to(u.pc)\n",
    "d"
   ]
  },
  {
   "cell_type": "code",
   "execution_count": 17,
   "metadata": {},
   "outputs": [
    {
     "data": {
      "text/html": [
       "<div><i>Table length=1</i>\n",
       "<table id=\"table129435503021904\" class=\"table-striped table-bordered table-condensed\">\n",
       "<thead><tr><th>Name</th><th>RA_ICRS_1</th><th>DE_ICRS_1</th><th>rgeo</th><th>b_rgeo</th><th>B_rgeo</th><th>Teff</th><th>Temp. Est</th><th>v_pec</th><th>e_v_pec</th><th>v_pec3d</th><th>HIP</th><th>TYC2</th><th>Source</th><th>Plx</th><th>e_Plx</th><th>pmRA</th><th>pmDE</th><th>e_pmRA</th><th>e_pmDE</th><th>RUWE</th><th>Gmag</th><th>BP-RP</th><th>BPmag</th><th>RPmag</th><th>e_Gmag</th><th>e_BPmag</th><th>e_RPmag</th><th>e_BP-RP</th><th>SkyCoord</th><th>rmRA</th><th>e_rmRA</th><th>rmDE</th><th>e_rmDE</th><th>logg</th><th>RV</th><th>e_RV</th><th>rRV</th><th>e_rRV</th><th>FG</th><th>e_FG</th><th>FBP</th><th>e_FBP</th><th>FRP</th><th>e_FRP</th><th>RAVE5</th><th>RAVE6</th></tr></thead>\n",
       "<thead><tr><th></th><th>deg</th><th>deg</th><th>pc</th><th>pc</th><th>pc</th><th>K</th><th>K</th><th>km / s</th><th>km / s</th><th>km / s</th><th></th><th></th><th></th><th>mas</th><th>mas</th><th>mas / yr</th><th>mas / yr</th><th>mas / yr</th><th>mas / yr</th><th></th><th>mag</th><th>mag</th><th>mag</th><th>mag</th><th></th><th></th><th></th><th></th><th>deg,deg,pc</th><th>mas / yr</th><th>mas / yr</th><th>mas / yr</th><th>mas / yr</th><th>log(cm.s**-2)</th><th>km / s</th><th>km / s</th><th>km / s</th><th>km / s</th><th></th><th></th><th></th><th></th><th></th><th></th><th></th><th></th></tr></thead>\n",
       "<thead><tr><th>str9</th><th>float64</th><th>float64</th><th>float64</th><th>float64</th><th>float64</th><th>float64</th><th>float64</th><th>float64</th><th>float64</th><th>float64</th><th>int32</th><th>str11</th><th>int64</th><th>float64</th><th>float32</th><th>float64</th><th>float64</th><th>float32</th><th>float32</th><th>float64</th><th>float64</th><th>float64</th><th>float64</th><th>float64</th><th>float64</th><th>float32</th><th>float32</th><th>float32</th><th>SkyCoord</th><th>float64</th><th>float32</th><th>float64</th><th>float32</th><th>float64</th><th>float64</th><th>float32</th><th>float64</th><th>float32</th><th>float64</th><th>float32</th><th>float32</th><th>float32</th><th>float32</th><th>float32</th><th>str1</th><th>str1</th></tr></thead>\n",
       "<tr><td>HD 308823</td><td>174.84243990445</td><td>-63.36971443391</td><td>2539.82080000</td><td>1410.14795000</td><td>3852.90039000</td><td>15232.7</td><td>16210.0</td><td>48.530542153436116</td><td>32.98228162164111</td><td>--</td><td>--</td><td>--</td><td>5333952049933787520</td><td>1.9973</td><td>0.6318</td><td>-8.848</td><td>-2.165</td><td>0.668</td><td>0.721</td><td>32.069</td><td>11.291941</td><td>0.333353</td><td>11.389230</td><td>11.055877</td><td>0.002927</td><td>0.002866</td><td>0.003816</td><td>0.006682</td><td>174.84243990445,-63.36971443391,2539.8208</td><td>-2.858</td><td>0.774</td><td>-2.843</td><td>0.827</td><td>3.5354</td><td>--</td><td>--</td><td>--</td><td>--</td><td>573020.91200</td><td>521.3</td><td>3.8e+05</td><td>228.9</td><td>2.998e+05</td><td>146.4</td><td>--</td><td>--</td></tr>\n",
       "</table></div>"
      ],
      "text/plain": [
       "<Table length=1>\n",
       "   Name      RA_ICRS_1       DE_ICRS_1    ...    e_FRP    RAVE5 RAVE6\n",
       "                deg             deg       ...                        \n",
       "   str9       float64         float64     ...   float32    str1  str1\n",
       "--------- --------------- --------------- ... ----------- ----- -----\n",
       "HD 308823 174.84243990445 -63.36971443391 ...       146.4    --    --"
      ]
     },
     "execution_count": 17,
     "metadata": {},
     "output_type": "execute_result"
    }
   ],
   "source": [
    "cl.Star(5333952049933787520)"
   ]
  }
 ],
 "metadata": {
  "kernelspec": {
   "display_name": "Python 3",
   "language": "python",
   "name": "python3"
  },
  "language_info": {
   "codemirror_mode": {
    "name": "ipython",
    "version": 3
   },
   "file_extension": ".py",
   "mimetype": "text/x-python",
   "name": "python",
   "nbconvert_exporter": "python",
   "pygments_lexer": "ipython3",
   "version": "3.11.6"
  }
 },
 "nbformat": 4,
 "nbformat_minor": 2
}
